{
 "cells": [
  {
   "cell_type": "markdown",
   "metadata": {},
   "source": [
    "<a id='start'></a>"
   ]
  },
  {
   "cell_type": "markdown",
   "metadata": {
    "id": "-l8weYF6sUXP"
   },
   "source": [
    "# Проект для интернет-магазина (с использованием BERT)"
   ]
  },
  {
   "cell_type": "markdown",
   "metadata": {
    "id": "V5yaK3yWsUXQ"
   },
   "source": [
    "Интернет-магазин запускает новый сервис. Теперь пользователи могут редактировать и дополнять описания товаров, как в вики-сообществах. То есть клиенты предлагают свои правки и комментируют изменения других. Магазину нужен инструмент, который будет искать токсичные комментарии и отправлять их на модерацию. \n",
    "\n",
    "**Цель исследования:**\n",
    "Обучить модель классифицировать комментарии на позитивные и негативные (построить модель со значением метрики качества *F1* не меньше 0.75). \n",
    "\n",
    "**Задачи исследования:**\n",
    "\n",
    "1. [Загрузить и подготовить данные;](#step1)\n",
    "2. [Преобразовать текст из дасасета в векторы с помощью BERT;](#step2)\n",
    "3. [Обучить различные модели и выбрать наилучшую;](#step3)\n",
    "4. [Протестировать модель;](#step4)\n",
    "5. [Сделать вывод.](#step5)\n"
   ]
  },
  {
   "cell_type": "markdown",
   "metadata": {
    "id": "iakv5DuPCZIx"
   },
   "source": [
    "<a id='step1'></a>"
   ]
  },
  {
   "cell_type": "markdown",
   "metadata": {
    "id": "lsRvkzlWsUXS"
   },
   "source": [
    "## Подготовка"
   ]
  },
  {
   "cell_type": "markdown",
   "metadata": {
    "id": "ZOhqdZnZCZIz"
   },
   "source": [
    "Импорт библиотек"
   ]
  },
  {
   "cell_type": "code",
   "execution_count": 3,
   "metadata": {
    "execution": {
     "iopub.execute_input": "2023-05-29T12:36:53.852934Z",
     "iopub.status.busy": "2023-05-29T12:36:53.852142Z",
     "iopub.status.idle": "2023-05-29T12:36:59.593764Z",
     "shell.execute_reply": "2023-05-29T12:36:59.592795Z",
     "shell.execute_reply.started": "2023-05-29T12:36:53.852901Z"
    },
    "id": "_AIDVR6gsUXT"
   },
   "outputs": [],
   "source": [
    "import numpy as np\n",
    "import pandas as pd\n",
    "\n",
    "import torch\n",
    "import transformers as ppb\n",
    "import warnings\n",
    "import gc\n",
    "\n",
    "from sklearn.model_selection import train_test_split\n",
    "from sklearn.linear_model import LogisticRegression\n",
    "from sklearn.tree import DecisionTreeClassifier\n",
    "from sklearn.ensemble import RandomForestClassifier\n",
    "from sklearn.model_selection import GridSearchCV\n",
    "from sklearn.model_selection import cross_val_score\n",
    "from sklearn.metrics import f1_score\n",
    "from sklearn.utils import shuffle\n",
    "\n",
    "from catboost import CatBoostClassifier\n",
    "from catboost.utils import eval_metric\n",
    "\n",
    "from transformers import AutoModel, AutoTokenizer\n",
    "\n",
    "from torch.nn.utils.rnn import pad_sequence\n",
    "from torch.utils.data import TensorDataset, DataLoader\n",
    "\n",
    "from tqdm import notebook\n",
    "from tqdm.notebook import tqdm\n",
    "\n",
    "warnings.filterwarnings('ignore')"
   ]
  },
  {
   "cell_type": "markdown",
   "metadata": {
    "id": "PJmABLDyCZI6"
   },
   "source": [
    "Чтение и проверка данных:"
   ]
  },
  {
   "cell_type": "code",
   "execution_count": 5,
   "metadata": {
    "colab": {
     "base_uri": "https://localhost:8080/",
     "height": 206
    },
    "execution": {
     "iopub.execute_input": "2023-05-29T12:36:59.596417Z",
     "iopub.status.busy": "2023-05-29T12:36:59.595803Z",
     "iopub.status.idle": "2023-05-29T12:37:01.553603Z",
     "shell.execute_reply": "2023-05-29T12:37:01.552461Z",
     "shell.execute_reply.started": "2023-05-29T12:36:59.596385Z"
    },
    "id": "qaLa83s_sUXY",
    "outputId": "2c3fe2de-1a34-45a0-c3e2-f2c307a742da",
    "scrolled": true
   },
   "outputs": [
    {
     "data": {
      "text/html": [
       "<div>\n",
       "<style scoped>\n",
       "    .dataframe tbody tr th:only-of-type {\n",
       "        vertical-align: middle;\n",
       "    }\n",
       "\n",
       "    .dataframe tbody tr th {\n",
       "        vertical-align: top;\n",
       "    }\n",
       "\n",
       "    .dataframe thead th {\n",
       "        text-align: right;\n",
       "    }\n",
       "</style>\n",
       "<table border=\"1\" class=\"dataframe\">\n",
       "  <thead>\n",
       "    <tr style=\"text-align: right;\">\n",
       "      <th></th>\n",
       "      <th>Unnamed: 0</th>\n",
       "      <th>text</th>\n",
       "      <th>toxic</th>\n",
       "    </tr>\n",
       "  </thead>\n",
       "  <tbody>\n",
       "    <tr>\n",
       "      <th>0</th>\n",
       "      <td>0</td>\n",
       "      <td>Explanation\\nWhy the edits made under my usern...</td>\n",
       "      <td>0</td>\n",
       "    </tr>\n",
       "    <tr>\n",
       "      <th>1</th>\n",
       "      <td>1</td>\n",
       "      <td>D'aww! He matches this background colour I'm s...</td>\n",
       "      <td>0</td>\n",
       "    </tr>\n",
       "    <tr>\n",
       "      <th>2</th>\n",
       "      <td>2</td>\n",
       "      <td>Hey man, I'm really not trying to edit war. It...</td>\n",
       "      <td>0</td>\n",
       "    </tr>\n",
       "    <tr>\n",
       "      <th>3</th>\n",
       "      <td>3</td>\n",
       "      <td>\"\\nMore\\nI can't make any real suggestions on ...</td>\n",
       "      <td>0</td>\n",
       "    </tr>\n",
       "    <tr>\n",
       "      <th>4</th>\n",
       "      <td>4</td>\n",
       "      <td>You, sir, are my hero. Any chance you remember...</td>\n",
       "      <td>0</td>\n",
       "    </tr>\n",
       "  </tbody>\n",
       "</table>\n",
       "</div>"
      ],
      "text/plain": [
       "   Unnamed: 0                                               text  toxic\n",
       "0           0  Explanation\\nWhy the edits made under my usern...      0\n",
       "1           1  D'aww! He matches this background colour I'm s...      0\n",
       "2           2  Hey man, I'm really not trying to edit war. It...      0\n",
       "3           3  \"\\nMore\\nI can't make any real suggestions on ...      0\n",
       "4           4  You, sir, are my hero. Any chance you remember...      0"
      ]
     },
     "execution_count": 5,
     "metadata": {},
     "output_type": "execute_result"
    }
   ],
   "source": [
    "data = pd.read_csv('/datasets/toxic_comments.csv', engine='python', error_bad_lines=False,  encoding='latin-1')\n",
    "data.head()"
   ]
  },
  {
   "cell_type": "code",
   "execution_count": 6,
   "metadata": {
    "colab": {
     "base_uri": "https://localhost:8080/"
    },
    "execution": {
     "iopub.execute_input": "2023-05-29T12:37:01.555872Z",
     "iopub.status.busy": "2023-05-29T12:37:01.555484Z",
     "iopub.status.idle": "2023-05-29T12:37:01.629128Z",
     "shell.execute_reply": "2023-05-29T12:37:01.628132Z",
     "shell.execute_reply.started": "2023-05-29T12:37:01.555837Z"
    },
    "id": "ggvNOjJBsUXb",
    "outputId": "d3c7ee20-33f6-43c6-c41b-1aa0d2d2334d",
    "scrolled": true
   },
   "outputs": [
    {
     "name": "stdout",
     "output_type": "stream",
     "text": [
      "<class 'pandas.core.frame.DataFrame'>\n",
      "RangeIndex: 159292 entries, 0 to 159291\n",
      "Data columns (total 3 columns):\n",
      " #   Column      Non-Null Count   Dtype \n",
      "---  ------      --------------   ----- \n",
      " 0   Unnamed: 0  159292 non-null  int64 \n",
      " 1   text        159292 non-null  object\n",
      " 2   toxic       159292 non-null  int64 \n",
      "dtypes: int64(2), object(1)\n",
      "memory usage: 3.6+ MB\n"
     ]
    }
   ],
   "source": [
    "data.info()"
   ]
  },
  {
   "cell_type": "markdown",
   "metadata": {
    "id": "9cV7JBOlCZI9"
   },
   "source": [
    "(в одной из миллиона попыток сделать проект у меня объектов было больше 200к, похоже либо как-то некорректно считывается или загружается датасет)"
   ]
  },
  {
   "cell_type": "markdown",
   "metadata": {
    "id": "lFn8n-yYCZI-"
   },
   "source": [
    "Пропусков нет, зато есть ненужный столбец, повторяющий индекс, избавимся от него."
   ]
  },
  {
   "cell_type": "code",
   "execution_count": 7,
   "metadata": {
    "execution": {
     "iopub.execute_input": "2023-05-29T12:37:01.632567Z",
     "iopub.status.busy": "2023-05-29T12:37:01.631933Z",
     "iopub.status.idle": "2023-05-29T12:37:01.645744Z",
     "shell.execute_reply": "2023-05-29T12:37:01.644492Z",
     "shell.execute_reply.started": "2023-05-29T12:37:01.632528Z"
    },
    "id": "SMmqJL1wsUXc"
   },
   "outputs": [],
   "source": [
    "data = data.drop(['Unnamed: 0'], axis=1)"
   ]
  },
  {
   "cell_type": "markdown",
   "metadata": {
    "id": "yVsrg0_ICZI_"
   },
   "source": [
    "Итак, имеем дело с текстами для обучения в столбце 'text' и отметками об оттенке каждого текста, положительный он или токсичный, в столбце с целевым признаком 'toxic'."
   ]
  },
  {
   "cell_type": "markdown",
   "metadata": {
    "id": "LotQa66vCZJA"
   },
   "source": [
    "Проверим сбалансированность классов в таргете"
   ]
  },
  {
   "cell_type": "code",
   "execution_count": 7,
   "metadata": {
    "colab": {
     "base_uri": "https://localhost:8080/"
    },
    "execution": {
     "iopub.execute_input": "2023-05-29T12:37:01.648228Z",
     "iopub.status.busy": "2023-05-29T12:37:01.647181Z",
     "iopub.status.idle": "2023-05-29T12:37:01.661040Z",
     "shell.execute_reply": "2023-05-29T12:37:01.659983Z",
     "shell.execute_reply.started": "2023-05-29T12:37:01.648147Z"
    },
    "id": "e3mQWeL_sUXe",
    "outputId": "eb94cf57-9d06-4114-f46b-b4680b6630fe"
   },
   "outputs": [
    {
     "data": {
      "text/plain": [
       "0    143106\n",
       "1     16186\n",
       "Name: toxic, dtype: int64"
      ]
     },
     "execution_count": 7,
     "metadata": {},
     "output_type": "execute_result"
    }
   ],
   "source": [
    "data['toxic'].value_counts()"
   ]
  },
  {
   "cell_type": "markdown",
   "metadata": {
    "id": "9tkJGsP8CZJB"
   },
   "source": [
    "Классы несбалансированы. Пока менять ничего не будем.<br>"
   ]
  },
  {
   "cell_type": "code",
   "execution_count": 10,
   "metadata": {
    "execution": {
     "iopub.execute_input": "2023-05-29T12:37:01.685316Z",
     "iopub.status.busy": "2023-05-29T12:37:01.684824Z",
     "iopub.status.idle": "2023-05-29T12:37:01.746782Z",
     "shell.execute_reply": "2023-05-29T12:37:01.745806Z",
     "shell.execute_reply.started": "2023-05-29T12:37:01.685283Z"
    },
    "id": "zjGCNJ0DHC-5"
   },
   "outputs": [],
   "source": [
    "data = data.dropna()"
   ]
  },
  {
   "cell_type": "code",
   "execution_count": 11,
   "metadata": {
    "execution": {
     "iopub.execute_input": "2023-05-29T12:37:01.749609Z",
     "iopub.status.busy": "2023-05-29T12:37:01.749270Z",
     "iopub.status.idle": "2023-05-29T12:37:01.755345Z",
     "shell.execute_reply": "2023-05-29T12:37:01.754248Z",
     "shell.execute_reply.started": "2023-05-29T12:37:01.749577Z"
    },
    "id": "eovtAmuzsUXh"
   },
   "outputs": [],
   "source": [
    "corpus = data['text']"
   ]
  },
  {
   "cell_type": "markdown",
   "metadata": {
    "id": "7-8xpJXTCZJF"
   },
   "source": [
    "<a id='step2'></a>"
   ]
  },
  {
   "cell_type": "markdown",
   "metadata": {
    "id": "JU82y9GpCZJG"
   },
   "source": [
    "Инициализируем BERT, который уже обучен работать с целью классификации текстов на токсичные и положительные"
   ]
  },
  {
   "cell_type": "markdown",
   "metadata": {
    "id": "TZMXOt_eCZJG"
   },
   "source": [
    "Токенайзер отвечает за подготовку входных данных для модели."
   ]
  },
  {
   "cell_type": "code",
   "execution_count": 12,
   "metadata": {
    "colab": {
     "base_uri": "https://localhost:8080/",
     "height": 249,
     "referenced_widgets": [
      "c27d7fdd92604ea5884e8655ac72566a",
      "6ff6f4c79242444cab9d5654ee2f0f38",
      "2e56421ac9ea4ef2b1d03ea5813b87b1",
      "231b3b2e084246c39342a8e0e582813e",
      "1d917d87502b41918c81ddb498c50d1a",
      "d04308a8ff7d4f5aa515697daece024c",
      "a18a5fcdbb8946c897de090e5aae8c27",
      "3efc227d34024096b47d3fc69a001ae9",
      "ccf9ffaf2e854279ac975be89fe90cf5",
      "32be8b3586f445ecb89ccf96a6c23b43",
      "8da421f3b62c4374b7ff666d6c32df7e",
      "131688d7eee04232a402b69db740cbef",
      "99a53ede5eea4430b35963191cc32712",
      "f63e8b45f785461b9d0931cbaba61400",
      "5f56dbf5265444dabbf4a8aefe75ea34",
      "3bb031ef4ae641ecb43f89f920ecaecd",
      "817f1f1d182b4683a3bd6738ef7e1650",
      "733ebfb8a13e42c08e344d1ff404ba04",
      "ab39e3a0743c4da29f52ac9e6babad30",
      "888c38a1fd2b46509bc818bcbcf456ce",
      "34dfc3ece7ca47d5a24c6fa0009bd171",
      "ec9177944c774219a23bcb7af5bad9ba",
      "30bd2ffbc2ad4376a915be42bfbded29",
      "f770c47e24904b7db543e71e9519df4f",
      "5607952051b14d49962fef77caa733d6",
      "5bebc352d6064f1ca7d7f672768f793d",
      "26bc1bdd01b944429e5f75ecd4d27029",
      "c24fbe94e7ba4b87bca9c856f2dde4fa",
      "9f0b9d3530e84f5eb141b9577fba288d",
      "da075144a89049c29483309072ae2602",
      "5903a826681843d3b133127e9434c140",
      "f4ed0a3d2c394a30bf780f760ae9fc9b",
      "40eb2fa7a0fb435899fe670d527772bf",
      "519e2df236a148f2a704bd2e06752fa3",
      "8a1c474dd956466bbef31e8750a75c3f",
      "76c014026b0746cfb8ee0225275cb747",
      "d51f52a8c4c84b80951b2655d261a0ca",
      "0f9465ef544b45bfb8904c74bafbca81",
      "824b1e699f0d4166a0f8c157a32e3c30",
      "0ae133de8057423eb96f14dfebd8fc8d",
      "56f3093c24214a30994ee367e93c62cf",
      "4284b6023bf64717b618f31eac7642ad",
      "37bc123dd4c94feea7838188278c2c77",
      "5736e7f400554ff681c19e4360bff8ad",
      "79dc55b5267c4692beeec155a993029d",
      "f56864866ccc459d8fa142515a2a03e2",
      "54290bf045b0407a9c5304bba0fc56a7",
      "6760916c0a3246b2813aee3e6d872d86",
      "0f3bf2db4460458eb5a480519f9d7a76",
      "39f8ee40c4d248bca4f747f70075eb58",
      "311a168df81140aeb2b1fb879a48d300",
      "233a882e7fc54a2db28eac7bb053a83b",
      "fbfb809a6f6f4844b1d4ff9dfe66fae9",
      "d63ac9fdbd6846f9a4881ea8e538dd79",
      "917c6d5737484d13abe7142e1fffcb9b"
     ]
    },
    "execution": {
     "iopub.execute_input": "2023-05-29T12:37:01.760170Z",
     "iopub.status.busy": "2023-05-29T12:37:01.759909Z",
     "iopub.status.idle": "2023-05-29T12:37:20.006359Z",
     "shell.execute_reply": "2023-05-29T12:37:20.005436Z",
     "shell.execute_reply.started": "2023-05-29T12:37:01.760142Z"
    },
    "id": "rjwN4R8dsUXi",
    "outputId": "efaf3770-de70-49c9-b116-819c043b076f"
   },
   "outputs": [
    {
     "data": {
      "application/vnd.jupyter.widget-view+json": {
       "model_id": "4f3a670d47ec4daba0561b52535c2815",
       "version_major": 2,
       "version_minor": 0
      },
      "text/plain": [
       "Downloading (…)lve/main/config.json:   0%|          | 0.00/811 [00:00<?, ?B/s]"
      ]
     },
     "metadata": {},
     "output_type": "display_data"
    },
    {
     "data": {
      "application/vnd.jupyter.widget-view+json": {
       "model_id": "efb38bd1eb76497397378b15189effb2",
       "version_major": 2,
       "version_minor": 0
      },
      "text/plain": [
       "Downloading pytorch_model.bin:   0%|          | 0.00/438M [00:00<?, ?B/s]"
      ]
     },
     "metadata": {},
     "output_type": "display_data"
    },
    {
     "name": "stderr",
     "output_type": "stream",
     "text": [
      "Some weights of the model checkpoint at unitary/toxic-bert were not used when initializing BertModel: ['classifier.weight', 'classifier.bias']\n",
      "- This IS expected if you are initializing BertModel from the checkpoint of a model trained on another task or with another architecture (e.g. initializing a BertForSequenceClassification model from a BertForPreTraining model).\n",
      "- This IS NOT expected if you are initializing BertModel from the checkpoint of a model that you expect to be exactly identical (initializing a BertForSequenceClassification model from a BertForSequenceClassification model).\n"
     ]
    },
    {
     "data": {
      "application/vnd.jupyter.widget-view+json": {
       "model_id": "3348e455c06f4d709b1b46a929ae06ea",
       "version_major": 2,
       "version_minor": 0
      },
      "text/plain": [
       "Downloading (…)okenizer_config.json:   0%|          | 0.00/174 [00:00<?, ?B/s]"
      ]
     },
     "metadata": {},
     "output_type": "display_data"
    },
    {
     "data": {
      "application/vnd.jupyter.widget-view+json": {
       "model_id": "95fa8c44f7b441648b370374c5ba2ed7",
       "version_major": 2,
       "version_minor": 0
      },
      "text/plain": [
       "Downloading (…)solve/main/vocab.txt:   0%|          | 0.00/232k [00:00<?, ?B/s]"
      ]
     },
     "metadata": {},
     "output_type": "display_data"
    },
    {
     "data": {
      "application/vnd.jupyter.widget-view+json": {
       "model_id": "14f823ee3c2f4b2a828497adb91efb9e",
       "version_major": 2,
       "version_minor": 0
      },
      "text/plain": [
       "Downloading (…)cial_tokens_map.json:   0%|          | 0.00/112 [00:00<?, ?B/s]"
      ]
     },
     "metadata": {},
     "output_type": "display_data"
    }
   ],
   "source": [
    "model_name = \"unitary/toxic-bert\" \n",
    "model = AutoModel.from_pretrained(model_name)\n",
    "tokenizer = AutoTokenizer.from_pretrained(model_name)"
   ]
  },
  {
   "cell_type": "markdown",
   "metadata": {
    "id": "l493ZNifCZJI"
   },
   "source": [
    "Преобразуем текст в номера токенов из словаря и обрезаем под нужное количество токенов"
   ]
  },
  {
   "cell_type": "code",
   "execution_count": 13,
   "metadata": {
    "execution": {
     "iopub.execute_input": "2023-05-29T12:37:20.009951Z",
     "iopub.status.busy": "2023-05-29T12:37:20.009247Z",
     "iopub.status.idle": "2023-05-29T12:38:21.639778Z",
     "shell.execute_reply": "2023-05-29T12:38:21.638839Z",
     "shell.execute_reply.started": "2023-05-29T12:37:20.009917Z"
    },
    "id": "IG2udS61sUXl"
   },
   "outputs": [],
   "source": [
    "tokenized = corpus.apply(lambda x: tokenizer.encode(x, max_length=128, truncation=True, add_special_tokens=True))"
   ]
  },
  {
   "cell_type": "markdown",
   "metadata": {
    "id": "XVIHfgzxCZJY"
   },
   "source": [
    "Добавлением нулей приводим все векторы к одной длине (наибольшей длине вектора, но в нашем случае, как я понял, длине которую задали выше)."
   ]
  },
  {
   "cell_type": "code",
   "execution_count": 14,
   "metadata": {
    "execution": {
     "iopub.execute_input": "2023-05-29T12:38:21.647007Z",
     "iopub.status.busy": "2023-05-29T12:38:21.644784Z",
     "iopub.status.idle": "2023-05-29T12:38:26.973450Z",
     "shell.execute_reply": "2023-05-29T12:38:26.972330Z",
     "shell.execute_reply.started": "2023-05-29T12:38:21.646972Z"
    },
    "id": "8h4AlsacsUXn"
   },
   "outputs": [],
   "source": [
    "padded = pad_sequence([torch.as_tensor(seq) for seq in tokenized], batch_first=True)"
   ]
  },
  {
   "cell_type": "code",
   "execution_count": 15,
   "metadata": {
    "colab": {
     "base_uri": "https://localhost:8080/"
    },
    "execution": {
     "iopub.execute_input": "2023-05-29T12:38:26.978768Z",
     "iopub.status.busy": "2023-05-29T12:38:26.978408Z",
     "iopub.status.idle": "2023-05-29T12:38:27.049026Z",
     "shell.execute_reply": "2023-05-29T12:38:27.047118Z",
     "shell.execute_reply.started": "2023-05-29T12:38:26.978737Z"
    },
    "id": "tH4oe_FKsUXn",
    "outputId": "fdfbf54f-d88e-4750-eec3-fcb37fa99f52"
   },
   "outputs": [
    {
     "data": {
      "text/plain": [
       "(159292, 128)"
      ]
     },
     "execution_count": 15,
     "metadata": {},
     "output_type": "execute_result"
    }
   ],
   "source": [
    "np.array(padded).shape"
   ]
  },
  {
   "cell_type": "markdown",
   "metadata": {
    "id": "AD_75IZACZJZ"
   },
   "source": [
    "Создадим маску (укажем, что нули ничего не значат)."
   ]
  },
  {
   "cell_type": "code",
   "execution_count": 16,
   "metadata": {
    "execution": {
     "iopub.execute_input": "2023-05-29T12:38:27.051175Z",
     "iopub.status.busy": "2023-05-29T12:38:27.050765Z",
     "iopub.status.idle": "2023-05-29T12:38:27.182374Z",
     "shell.execute_reply": "2023-05-29T12:38:27.181398Z",
     "shell.execute_reply.started": "2023-05-29T12:38:27.051140Z"
    },
    "id": "z1dIaZEisUXp"
   },
   "outputs": [],
   "source": [
    "attention_mask = padded > 0\n",
    "attention_mask = attention_mask.type(torch.LongTensor)    "
   ]
  },
  {
   "cell_type": "markdown",
   "metadata": {
    "id": "iEuMk-C5CZJZ"
   },
   "source": [
    "Создаем загрузчик и датасет."
   ]
  },
  {
   "cell_type": "code",
   "execution_count": 17,
   "metadata": {
    "execution": {
     "iopub.execute_input": "2023-05-29T12:38:27.184314Z",
     "iopub.status.busy": "2023-05-29T12:38:27.183913Z",
     "iopub.status.idle": "2023-05-29T12:38:27.189755Z",
     "shell.execute_reply": "2023-05-29T12:38:27.188651Z",
     "shell.execute_reply.started": "2023-05-29T12:38:27.184282Z"
    },
    "id": "Mnwe3RQrsUXp"
   },
   "outputs": [],
   "source": [
    "dataset = TensorDataset(attention_mask, padded)\n",
    "dataloader = DataLoader(dataset, batch_size=32, shuffle=False, num_workers=0)"
   ]
  },
  {
   "cell_type": "markdown",
   "metadata": {
    "id": "6mnUBegJCZJa"
   },
   "source": [
    "Провряем, доступен ли ли GPU"
   ]
  },
  {
   "cell_type": "code",
   "execution_count": 18,
   "metadata": {
    "colab": {
     "base_uri": "https://localhost:8080/"
    },
    "execution": {
     "iopub.execute_input": "2023-05-29T12:38:27.191919Z",
     "iopub.status.busy": "2023-05-29T12:38:27.191553Z",
     "iopub.status.idle": "2023-05-29T12:38:27.228998Z",
     "shell.execute_reply": "2023-05-29T12:38:27.227858Z",
     "shell.execute_reply.started": "2023-05-29T12:38:27.191887Z"
    },
    "id": "H27tmTyKsUXq",
    "outputId": "4869ff43-dfdb-4f23-84a3-bc519a9de332"
   },
   "outputs": [
    {
     "name": "stdout",
     "output_type": "stream",
     "text": [
      "Device: cuda:0\n"
     ]
    }
   ],
   "source": [
    "device = torch.device(\"cuda:0\") if torch.cuda.is_available() else torch.device(\"cpu\") #проверяет доступно ли нам GPU или нет\n",
    "print(f'Device: {device}')"
   ]
  },
  {
   "cell_type": "markdown",
   "metadata": {
    "id": "uPxsR9cfCZJb"
   },
   "source": [
    "GPU доступен."
   ]
  },
  {
   "cell_type": "markdown",
   "metadata": {
    "id": "fWGz4coiCZJb"
   },
   "source": [
    "Создаем эмбеддинги и указываем, чтобы вычисления проводились на GPU"
   ]
  },
  {
   "cell_type": "code",
   "execution_count": 19,
   "metadata": {
    "colab": {
     "base_uri": "https://localhost:8080/",
     "height": 49,
     "referenced_widgets": [
      "33058751cdad4f03b019477020ef007a",
      "4608aa8f88f142878b9ce51a90de2f8f",
      "7956f0564bfa412891c539c0613e30bd",
      "b92004691a24476386af467f5e127bb7",
      "3e0e864c1e584b5fbc45696d90a0052b",
      "3fad77e75c364a3ebe44712f80acc9f9",
      "b33fbdbca17e4135bb94582b41ce487a",
      "77b19f0fff634d48ab8f692f6a3ece50",
      "2eda27387bf544129fe6336da11892f7",
      "e42a661159834f1aabba2990e56035cc",
      "bef1b74f751e43399d9ca5752b3d7c64"
     ]
    },
    "execution": {
     "iopub.execute_input": "2023-05-29T12:38:27.231405Z",
     "iopub.status.busy": "2023-05-29T12:38:27.230834Z",
     "iopub.status.idle": "2023-05-29T12:47:56.507720Z",
     "shell.execute_reply": "2023-05-29T12:47:56.506686Z",
     "shell.execute_reply.started": "2023-05-29T12:38:27.231363Z"
    },
    "id": "L07kqtKzsUXr",
    "outputId": "a557ff7e-6854-48bc-dcae-c179104be09e"
   },
   "outputs": [
    {
     "data": {
      "application/vnd.jupyter.widget-view+json": {
       "model_id": "1fc5f51fc1344efa8c107299cd62338d",
       "version_major": 2,
       "version_minor": 0
      },
      "text/plain": [
       "  0%|          | 0/4978 [00:00<?, ?it/s]"
      ]
     },
     "metadata": {},
     "output_type": "display_data"
    }
   ],
   "source": [
    "embeddings = []\n",
    "model.to(device)\n",
    "model.eval() \n",
    "for attention_mask, padded in notebook.tqdm(dataloader):\n",
    "    attention_mask, padded = attention_mask.to(device), padded.to(device)\n",
    "\n",
    "    with torch.no_grad(): \n",
    "        batch_embeddings = model(padded, attention_mask=attention_mask)\n",
    "\n",
    "    embeddings.append(batch_embeddings[0][:,0,:].cpu().numpy()) \n"
   ]
  },
  {
   "cell_type": "markdown",
   "metadata": {
    "id": "oCiYieAcCZJc"
   },
   "source": [
    "Разделяем данные на признаки и целевой признак"
   ]
  },
  {
   "cell_type": "code",
   "execution_count": 20,
   "metadata": {
    "execution": {
     "iopub.execute_input": "2023-05-29T12:47:56.509953Z",
     "iopub.status.busy": "2023-05-29T12:47:56.509327Z",
     "iopub.status.idle": "2023-05-29T12:47:56.831656Z",
     "shell.execute_reply": "2023-05-29T12:47:56.830712Z",
     "shell.execute_reply.started": "2023-05-29T12:47:56.509917Z"
    },
    "id": "TkqAzteusUXt"
   },
   "outputs": [],
   "source": [
    "features = np.concatenate(embeddings)\n",
    "target = data['toxic']\n",
    "\n",
    "df_features = pd.DataFrame(features)\n",
    "\n",
    "features_train, features_test, target_train, target_test = train_test_split(df_features, target)\n"
   ]
  },
  {
   "cell_type": "markdown",
   "metadata": {},
   "source": [
    "Почистим память"
   ]
  },
  {
   "cell_type": "code",
   "execution_count": 21,
   "metadata": {
    "execution": {
     "iopub.execute_input": "2023-05-29T12:47:56.833541Z",
     "iopub.status.busy": "2023-05-29T12:47:56.833169Z",
     "iopub.status.idle": "2023-05-29T12:47:57.292079Z",
     "shell.execute_reply": "2023-05-29T12:47:57.291159Z",
     "shell.execute_reply.started": "2023-05-29T12:47:56.833508Z"
    },
    "id": "ArQVj3Yvi2Bb"
   },
   "outputs": [],
   "source": [
    "del data\n",
    "del attention_mask\n",
    "del embeddings\n",
    "\n",
    "gc.collect()\n",
    "torch.cuda.empty_cache()"
   ]
  },
  {
   "cell_type": "markdown",
   "metadata": {
    "id": "F0MDYKowCZJf"
   },
   "source": [
    "<a id='step3'></a>"
   ]
  },
  {
   "cell_type": "markdown",
   "metadata": {
    "id": "LHS2cHhFsUXv"
   },
   "source": [
    "## Обучение"
   ]
  },
  {
   "cell_type": "markdown",
   "metadata": {
    "id": "hKGMtqHQCZJg"
   },
   "source": [
    "*Логистическая регрессия*"
   ]
  },
  {
   "cell_type": "markdown",
   "metadata": {
    "id": "EaZWYrRECZJg"
   },
   "source": [
    "Сначала обучим логистическую регрессию, перебирать гиперпараметры не будем."
   ]
  },
  {
   "cell_type": "code",
   "execution_count": null,
   "metadata": {
    "execution": {
     "iopub.execute_input": "2023-05-28T16:17:53.099000Z",
     "iopub.status.busy": "2023-05-28T16:17:53.097869Z",
     "iopub.status.idle": "2023-05-28T16:19:05.177894Z",
     "shell.execute_reply": "2023-05-28T16:19:05.176638Z",
     "shell.execute_reply.started": "2023-05-28T16:17:53.098947Z"
    },
    "id": "NML5F143CZJh",
    "outputId": "4c71edba-f399-4929-e8d2-64847641dfa6"
   },
   "outputs": [
    {
     "name": "stdout",
     "output_type": "stream",
     "text": [
      "F1: 0.9354544412754944\n",
      "CPU times: user 2min 8s, sys: 6.66 s, total: 2min 15s\n",
      "Wall time: 1min 12s\n"
     ]
    }
   ],
   "source": [
    "%%time\n",
    "\n",
    "model = LogisticRegression()\n",
    "model.fit(features_train, target_train) \n",
    "result = cross_val_score(model, features_train, target_train, cv=5, scoring='f1').mean()\n",
    "print('F1:', result)"
   ]
  },
  {
   "cell_type": "markdown",
   "metadata": {
    "id": "hT1-xJPOCZJi"
   },
   "source": [
    "F1 = ~0.94 за 2 мин 15 секунд. На этом можно было бы остановиться."
   ]
  },
  {
   "cell_type": "markdown",
   "metadata": {
    "id": "tX4br4V4CZJi"
   },
   "source": [
    "*Решающее дерево*"
   ]
  },
  {
   "cell_type": "markdown",
   "metadata": {
    "id": "ClRMl1D8CZJj"
   },
   "source": [
    "Будем варьировать глубину дерева"
   ]
  },
  {
   "cell_type": "code",
   "execution_count": null,
   "metadata": {
    "colab": {
     "background_save": true,
     "base_uri": "https://localhost:8080/",
     "height": 415
    },
    "execution": {
     "iopub.execute_input": "2023-05-28T14:31:54.823755Z",
     "iopub.status.busy": "2023-05-28T14:31:54.823176Z",
     "iopub.status.idle": "2023-05-28T16:17:52.437094Z",
     "shell.execute_reply": "2023-05-28T16:17:52.436114Z",
     "shell.execute_reply.started": "2023-05-28T14:31:54.823715Z"
    },
    "id": "k_ivM0RsBynT",
    "outputId": "611eb262-8282-4fcf-e7d7-c67923d11ad2"
   },
   "outputs": [
    {
     "name": "stdout",
     "output_type": "stream",
     "text": [
      "Наилучшие гиперпараметры: {'max_depth': 3}\n",
      "Наибольший F1: 0.9266595315315808\n",
      "CPU times: user 1h 45min 35s, sys: 8.02 s, total: 1h 45min 43s\n",
      "Wall time: 1h 45min 57s\n"
     ]
    }
   ],
   "source": [
    "%%time\n",
    "\n",
    "params = { 'max_depth': np.arange(1, 16) }\n",
    "\n",
    "\n",
    "model = DecisionTreeClassifier(random_state=12345)\n",
    "\n",
    "tree_grid = GridSearchCV(model, params, scoring='f1')\n",
    "tree_grid.fit(features_train, target_train)\n",
    "\n",
    "\n",
    "print('Наилучшие гиперпараметры: '+str(tree_grid.best_params_))\n",
    "print('Наибольший F1: '+str(abs(tree_grid.best_score_)))"
   ]
  },
  {
   "cell_type": "markdown",
   "metadata": {
    "id": "N1BFPK1NCZJk"
   },
   "source": [
    "F1 = ~0.93 за 1 час 45 минут, с ЛР не сравнится."
   ]
  },
  {
   "cell_type": "markdown",
   "metadata": {
    "id": "hIz8HkGeCZJk"
   },
   "source": [
    "*Случайный лес*"
   ]
  },
  {
   "cell_type": "markdown",
   "metadata": {
    "id": "FLBEgleKCZJl"
   },
   "source": [
    "Варьируем количество деревьев и глубину."
   ]
  },
  {
   "cell_type": "code",
   "execution_count": null,
   "metadata": {
    "execution": {
     "iopub.execute_input": "2023-05-28T16:19:05.187575Z",
     "iopub.status.busy": "2023-05-28T16:19:05.184729Z",
     "iopub.status.idle": "2023-05-28T19:08:44.511081Z",
     "shell.execute_reply": "2023-05-28T19:08:44.510101Z",
     "shell.execute_reply.started": "2023-05-28T16:19:05.187516Z"
    },
    "id": "qVpjbYYnB3ZS",
    "outputId": "94e9c28b-dca4-405a-b3ea-3e6e7fd1aea1"
   },
   "outputs": [
    {
     "name": "stdout",
     "output_type": "stream",
     "text": [
      "Наилучшие гиперпараметры: {'max_depth': 17, 'n_estimators': 17}\n",
      "Наибольший F1: 0.9331585718192714\n",
      "CPU times: user 2h 49min, sys: 17 s, total: 2h 49min 17s\n",
      "Wall time: 2h 49min 39s\n"
     ]
    }
   ],
   "source": [
    "%%time\n",
    "\n",
    "params = { 'n_estimators' : np.arange(13, 19), \n",
    "           'max_depth': np.arange(13, 19) }\n",
    "\n",
    "model = RandomForestClassifier(random_state=12345)\n",
    "\n",
    "forest_grid = GridSearchCV(model, params, scoring='f1')\n",
    "forest_grid.fit(features_train, target_train)\n",
    "\n",
    "\n",
    "print('Наилучшие гиперпараметры: '+str(forest_grid.best_params_))\n",
    "print('Наибольший F1: '+str(abs(forest_grid.best_score_)))"
   ]
  },
  {
   "cell_type": "markdown",
   "metadata": {
    "id": "VAVT9tdVCZJl"
   },
   "source": [
    "F1 = 0.93 за 2 часа 49 минут. Возможно, при увеличении диапазонов получили бы более высокое значение F1 (но времени и нервов потрачено уже достаточно)."
   ]
  },
  {
   "cell_type": "markdown",
   "metadata": {
    "id": "e36cRZnjCZJm"
   },
   "source": [
    "*CatBoost*"
   ]
  },
  {
   "cell_type": "markdown",
   "metadata": {
    "id": "XIzH2f4HCZJm"
   },
   "source": [
    "В КБ варьируем глубину и скорость обучения."
   ]
  },
  {
   "cell_type": "code",
   "execution_count": 24,
   "metadata": {
    "colab": {
     "base_uri": "https://localhost:8080/"
    },
    "collapsed": true,
    "execution": {
     "iopub.execute_input": "2023-05-29T12:47:57.313838Z",
     "iopub.status.busy": "2023-05-29T12:47:57.313584Z",
     "iopub.status.idle": "2023-05-29T14:36:45.807182Z",
     "shell.execute_reply": "2023-05-29T14:36:45.806261Z",
     "shell.execute_reply.started": "2023-05-29T12:47:57.313815Z"
    },
    "id": "hQcxmQhnB3Qn",
    "outputId": "ae4b6c64-cb9f-474e-e16a-f8890b5534d4"
   },
   "outputs": [
    {
     "name": "stdout",
     "output_type": "stream",
     "text": [
      "\n",
      "bestTest = 0.9370317878\n",
      "bestIteration = 22\n",
      "\n",
      "\n",
      "bestTest = 0.9346286177\n",
      "bestIteration = 25\n",
      "\n",
      "\n",
      "bestTest = 0.9333333333\n",
      "bestIteration = 17\n",
      "\n",
      "\n",
      "bestTest = 0.9336032389\n",
      "bestIteration = 9\n",
      "\n",
      "\n",
      "bestTest = 0.9343598055\n",
      "bestIteration = 14\n",
      "\n",
      "\n",
      "bestTest = 0.9303452453\n",
      "bestIteration = 3\n",
      "\n",
      "\n",
      "bestTest = 0.9355164746\n",
      "bestIteration = 39\n",
      "\n",
      "\n",
      "bestTest = 0.9337641357\n",
      "bestIteration = 5\n",
      "\n",
      "\n",
      "bestTest = 0.9339010543\n",
      "bestIteration = 7\n",
      "\n",
      "\n",
      "bestTest = 0.9313348187\n",
      "bestIteration = 46\n",
      "\n",
      "\n",
      "bestTest = 0.9303925536\n",
      "bestIteration = 2\n",
      "\n",
      "\n",
      "bestTest = 0.9285569723\n",
      "bestIteration = 5\n",
      "\n",
      "\n",
      "bestTest = 0.9362992922\n",
      "bestIteration = 31\n",
      "\n",
      "\n",
      "bestTest = 0.9360758217\n",
      "bestIteration = 7\n",
      "\n",
      "\n",
      "bestTest = 0.9336569579\n",
      "bestIteration = 27\n",
      "\n",
      "\n",
      "bestTest = 0.9324433657\n",
      "bestIteration = 42\n",
      "\n",
      "\n",
      "bestTest = 0.9269480519\n",
      "bestIteration = 1\n",
      "\n",
      "\n",
      "bestTest = 0.9290322581\n",
      "bestIteration = 1\n",
      "\n",
      "Training on fold [0/5]\n",
      "\n",
      "bestTest = 0.9388347502\n",
      "bestIteration = 13\n",
      "\n",
      "Training on fold [1/5]\n",
      "\n",
      "bestTest = 0.9347064882\n",
      "bestIteration = 24\n",
      "\n",
      "Training on fold [2/5]\n",
      "\n",
      "bestTest = 0.9305870237\n",
      "bestIteration = 18\n",
      "\n",
      "Training on fold [3/5]\n",
      "\n",
      "bestTest = 0.9328651105\n",
      "bestIteration = 21\n",
      "\n",
      "Training on fold [4/5]\n",
      "\n",
      "bestTest = 0.935257732\n",
      "bestIteration = 34\n",
      "\n",
      "Наилучшие гиперпараметры: {'depth': 10, 'learning_rate': 0.2}\n",
      "CPU times: user 3h 28min 13s, sys: 49.1 s, total: 3h 29min 2s\n",
      "Wall time: 1h 48min 48s\n"
     ]
    }
   ],
   "source": [
    "%%time\n",
    "\n",
    "params = { 'depth' : np.arange(10, 13),\n",
    "           'learning_rate': np.array([0.2, 0.3, 0.4, 0.5, 0.6, 0.7]) }\n",
    "\n",
    "model = CatBoostClassifier(random_state=12345, verbose=False, iterations=50, eval_metric='F1')\n",
    "grid_search_result = model.grid_search(params,\n",
    "                                             X=features_train,\n",
    "                                             y=target_train,\n",
    "                                             cv=5,\n",
    "                                             partition_random_seed=12345,\n",
    "                                             calc_cv_statistics=True,\n",
    "                                             search_by_train_test_split=True,\n",
    "                                             refit=True,\n",
    "                                             shuffle=False,\n",
    "                                             train_size=0.8,\n",
    "                                             verbose=False )\n",
    "\n",
    "print('Наилучшие гиперпараметры:', grid_search_result['params'])\n"
   ]
  },
  {
   "cell_type": "code",
   "execution_count": 26,
   "metadata": {
    "execution": {
     "iopub.execute_input": "2023-05-29T14:36:45.818593Z",
     "iopub.status.busy": "2023-05-29T14:36:45.817786Z",
     "iopub.status.idle": "2023-05-29T14:36:45.826016Z",
     "shell.execute_reply": "2023-05-29T14:36:45.824963Z",
     "shell.execute_reply.started": "2023-05-29T14:36:45.818555Z"
    },
    "scrolled": true
   },
   "outputs": [
    {
     "name": "stdout",
     "output_type": "stream",
     "text": [
      "Максимальное значение F1: 0.9336422833004241\n"
     ]
    }
   ],
   "source": [
    "print('Максимальное значение F1:', max(grid_search_result['cv_results']['test-F1-mean']))"
   ]
  },
  {
   "cell_type": "markdown",
   "metadata": {
    "id": "vnTa0II9CZJo"
   },
   "source": [
    "F1 = 0.93 на катбусте."
   ]
  },
  {
   "cell_type": "markdown",
   "metadata": {},
   "source": [
    "Наилучший F1 показала логистическая регрессия. Протестируем модель на тестовой выборке."
   ]
  },
  {
   "cell_type": "markdown",
   "metadata": {
    "id": "HQOC_ZxLCZJp"
   },
   "source": [
    "<a id='step4'></a>"
   ]
  },
  {
   "cell_type": "markdown",
   "metadata": {
    "id": "t_Nlcyn8CZJp"
   },
   "source": [
    "## Тестирование"
   ]
  },
  {
   "cell_type": "code",
   "execution_count": 28,
   "metadata": {
    "execution": {
     "iopub.execute_input": "2023-05-29T14:37:00.061230Z",
     "iopub.status.busy": "2023-05-29T14:37:00.060552Z",
     "iopub.status.idle": "2023-05-29T14:37:13.990690Z",
     "shell.execute_reply": "2023-05-29T14:37:13.987249Z",
     "shell.execute_reply.started": "2023-05-29T14:37:00.061167Z"
    }
   },
   "outputs": [
    {
     "name": "stdout",
     "output_type": "stream",
     "text": [
      "F1 на тестовой выборке: 0.9329460790503852\n",
      "CPU times: user 25.9 s, sys: 1.13 s, total: 27 s\n",
      "Wall time: 13.9 s\n"
     ]
    }
   ],
   "source": [
    "%%time\n",
    "\n",
    "model = LogisticRegression()\n",
    "model.fit(features_train, target_train)\n",
    "predict_test = model.predict(features_test)\n",
    "result = f1_score(target_test, predict_test)\n",
    "\n",
    "print('F1 на тестовой выборке:', result)"
   ]
  },
  {
   "cell_type": "markdown",
   "metadata": {},
   "source": [
    "F1 = 0.93 на тестовой выборке, хороший результат!"
   ]
  },
  {
   "cell_type": "markdown",
   "metadata": {
    "id": "7jGeHWd_CZJr"
   },
   "source": [
    "<a id='step5'></a>"
   ]
  },
  {
   "cell_type": "markdown",
   "metadata": {
    "id": "4t4SN2y8sUXw"
   },
   "source": [
    "## Выводы"
   ]
  },
  {
   "cell_type": "markdown",
   "metadata": {
    "id": "wsd9nqbHCZJr"
   },
   "source": [
    "Таким образом, в ходе работы над проектом:\n",
    "1. Были загружены и изучены данные, произведена предварительная обработка;\n",
    "2. Подготовлена модель BERT для определения оттенка текста (токсичный или положительный);\n",
    "3. Обучены модели линейной регрессии, решающего дерева, случайного леса и CatBoost; подобраны гиперпараметры, для которых F1 на обучающей выборке максимальный;\n",
    "4. На обучающей выборке наилучший результат показала Логистическая Регрессия;\n",
    "5. Протестирована модель Логистической Регрессии, показавшая на обучающей выборке лучший результат. На тестовой выборке F1 оказалось равным 0.93, результат можно считать удовлетворительным.\n",
    "\n",
    "В итоге в качестве модели для классификации текста выбрана Логистическая Регрессия."
   ]
  },
  {
   "cell_type": "markdown",
   "metadata": {},
   "source": [
    "<br>"
   ]
  },
  {
   "cell_type": "markdown",
   "metadata": {},
   "source": [
    "[В начало](#start)"
   ]
  }
 ],
 "metadata": {
  "ExecuteTimeLog": [
   {
    "duration": 72,
    "start_time": "2023-05-28T09:28:12.152Z"
   },
   {
    "duration": 14825,
    "start_time": "2023-05-28T09:28:15.495Z"
   },
   {
    "duration": 521,
    "start_time": "2023-05-28T09:28:30.325Z"
   },
   {
    "duration": 4,
    "start_time": "2023-05-30T08:47:23.990Z"
   },
   {
    "duration": 11,
    "start_time": "2023-05-30T08:47:23.996Z"
   },
   {
    "duration": 12002,
    "start_time": "2023-05-30T08:47:24.009Z"
   },
   {
    "duration": 316,
    "start_time": "2023-05-30T08:47:36.013Z"
   },
   {
    "duration": 3756,
    "start_time": "2023-05-30T08:47:57.905Z"
   },
   {
    "duration": 31,
    "start_time": "2023-05-30T08:48:04.980Z"
   },
   {
    "duration": 13,
    "start_time": "2023-05-30T08:48:10.323Z"
   },
   {
    "duration": 56,
    "start_time": "2023-05-30T09:11:14.392Z"
   },
   {
    "duration": 133,
    "start_time": "2023-05-30T09:11:26.260Z"
   },
   {
    "duration": 153090,
    "start_time": "2023-05-30T09:11:44.795Z"
   },
   {
    "duration": 5,
    "start_time": "2023-05-30T09:15:04.293Z"
   },
   {
    "duration": 26,
    "start_time": "2023-05-30T09:16:00.471Z"
   },
   {
    "duration": 5,
    "start_time": "2023-05-30T09:16:16.453Z"
   },
   {
    "duration": 102,
    "start_time": "2023-05-30T09:18:19.684Z"
   },
   {
    "duration": 26,
    "start_time": "2023-05-30T09:18:28.233Z"
   },
   {
    "duration": 26,
    "start_time": "2023-05-30T09:19:09.936Z"
   },
   {
    "duration": 7,
    "start_time": "2023-05-30T09:19:22.741Z"
   },
   {
    "duration": 6,
    "start_time": "2023-05-30T09:19:36.377Z"
   },
   {
    "duration": 6,
    "start_time": "2023-05-30T09:20:10.815Z"
   },
   {
    "duration": 4,
    "start_time": "2023-05-30T09:20:50.048Z"
   }
  ],
  "accelerator": "GPU",
  "colab": {
   "gpuType": "T4",
   "provenance": []
  },
  "kernelspec": {
   "display_name": "Python 3 (ipykernel)",
   "language": "python",
   "name": "python3"
  },
  "language_info": {
   "codemirror_mode": {
    "name": "ipython",
    "version": 3
   },
   "file_extension": ".py",
   "mimetype": "text/x-python",
   "name": "python",
   "nbconvert_exporter": "python",
   "pygments_lexer": "ipython3",
   "version": "3.9.12"
  },
  "toc": {
   "base_numbering": 1,
   "nav_menu": {},
   "number_sections": true,
   "sideBar": true,
   "skip_h1_title": true,
   "title_cell": "Содержание",
   "title_sidebar": "Contents",
   "toc_cell": true,
   "toc_position": {
    "height": "calc(100% - 180px)",
    "left": "10px",
    "top": "150px",
    "width": "302.391px"
   },
   "toc_section_display": true,
   "toc_window_display": true
  },
  "widgets": {
   "application/vnd.jupyter.widget-state+json": {
    "0ae133de8057423eb96f14dfebd8fc8d": {
     "model_module": "@jupyter-widgets/controls",
     "model_module_version": "1.5.0",
     "model_name": "DescriptionStyleModel",
     "state": {
      "_model_module": "@jupyter-widgets/controls",
      "_model_module_version": "1.5.0",
      "_model_name": "DescriptionStyleModel",
      "_view_count": null,
      "_view_module": "@jupyter-widgets/base",
      "_view_module_version": "1.2.0",
      "_view_name": "StyleView",
      "description_width": ""
     }
    },
    "0f3bf2db4460458eb5a480519f9d7a76": {
     "model_module": "@jupyter-widgets/base",
     "model_module_version": "1.2.0",
     "model_name": "LayoutModel",
     "state": {
      "_model_module": "@jupyter-widgets/base",
      "_model_module_version": "1.2.0",
      "_model_name": "LayoutModel",
      "_view_count": null,
      "_view_module": "@jupyter-widgets/base",
      "_view_module_version": "1.2.0",
      "_view_name": "LayoutView",
      "align_content": null,
      "align_items": null,
      "align_self": null,
      "border": null,
      "bottom": null,
      "display": null,
      "flex": null,
      "flex_flow": null,
      "grid_area": null,
      "grid_auto_columns": null,
      "grid_auto_flow": null,
      "grid_auto_rows": null,
      "grid_column": null,
      "grid_gap": null,
      "grid_row": null,
      "grid_template_areas": null,
      "grid_template_columns": null,
      "grid_template_rows": null,
      "height": null,
      "justify_content": null,
      "justify_items": null,
      "left": null,
      "margin": null,
      "max_height": null,
      "max_width": null,
      "min_height": null,
      "min_width": null,
      "object_fit": null,
      "object_position": null,
      "order": null,
      "overflow": null,
      "overflow_x": null,
      "overflow_y": null,
      "padding": null,
      "right": null,
      "top": null,
      "visibility": null,
      "width": null
     }
    },
    "0f9465ef544b45bfb8904c74bafbca81": {
     "model_module": "@jupyter-widgets/base",
     "model_module_version": "1.2.0",
     "model_name": "LayoutModel",
     "state": {
      "_model_module": "@jupyter-widgets/base",
      "_model_module_version": "1.2.0",
      "_model_name": "LayoutModel",
      "_view_count": null,
      "_view_module": "@jupyter-widgets/base",
      "_view_module_version": "1.2.0",
      "_view_name": "LayoutView",
      "align_content": null,
      "align_items": null,
      "align_self": null,
      "border": null,
      "bottom": null,
      "display": null,
      "flex": null,
      "flex_flow": null,
      "grid_area": null,
      "grid_auto_columns": null,
      "grid_auto_flow": null,
      "grid_auto_rows": null,
      "grid_column": null,
      "grid_gap": null,
      "grid_row": null,
      "grid_template_areas": null,
      "grid_template_columns": null,
      "grid_template_rows": null,
      "height": null,
      "justify_content": null,
      "justify_items": null,
      "left": null,
      "margin": null,
      "max_height": null,
      "max_width": null,
      "min_height": null,
      "min_width": null,
      "object_fit": null,
      "object_position": null,
      "order": null,
      "overflow": null,
      "overflow_x": null,
      "overflow_y": null,
      "padding": null,
      "right": null,
      "top": null,
      "visibility": null,
      "width": null
     }
    },
    "131688d7eee04232a402b69db740cbef": {
     "model_module": "@jupyter-widgets/controls",
     "model_module_version": "1.5.0",
     "model_name": "HBoxModel",
     "state": {
      "_dom_classes": [],
      "_model_module": "@jupyter-widgets/controls",
      "_model_module_version": "1.5.0",
      "_model_name": "HBoxModel",
      "_view_count": null,
      "_view_module": "@jupyter-widgets/controls",
      "_view_module_version": "1.5.0",
      "_view_name": "HBoxView",
      "box_style": "",
      "children": [
       "IPY_MODEL_99a53ede5eea4430b35963191cc32712",
       "IPY_MODEL_f63e8b45f785461b9d0931cbaba61400",
       "IPY_MODEL_5f56dbf5265444dabbf4a8aefe75ea34"
      ],
      "layout": "IPY_MODEL_3bb031ef4ae641ecb43f89f920ecaecd"
     }
    },
    "1d917d87502b41918c81ddb498c50d1a": {
     "model_module": "@jupyter-widgets/base",
     "model_module_version": "1.2.0",
     "model_name": "LayoutModel",
     "state": {
      "_model_module": "@jupyter-widgets/base",
      "_model_module_version": "1.2.0",
      "_model_name": "LayoutModel",
      "_view_count": null,
      "_view_module": "@jupyter-widgets/base",
      "_view_module_version": "1.2.0",
      "_view_name": "LayoutView",
      "align_content": null,
      "align_items": null,
      "align_self": null,
      "border": null,
      "bottom": null,
      "display": null,
      "flex": null,
      "flex_flow": null,
      "grid_area": null,
      "grid_auto_columns": null,
      "grid_auto_flow": null,
      "grid_auto_rows": null,
      "grid_column": null,
      "grid_gap": null,
      "grid_row": null,
      "grid_template_areas": null,
      "grid_template_columns": null,
      "grid_template_rows": null,
      "height": null,
      "justify_content": null,
      "justify_items": null,
      "left": null,
      "margin": null,
      "max_height": null,
      "max_width": null,
      "min_height": null,
      "min_width": null,
      "object_fit": null,
      "object_position": null,
      "order": null,
      "overflow": null,
      "overflow_x": null,
      "overflow_y": null,
      "padding": null,
      "right": null,
      "top": null,
      "visibility": null,
      "width": null
     }
    },
    "231b3b2e084246c39342a8e0e582813e": {
     "model_module": "@jupyter-widgets/controls",
     "model_module_version": "1.5.0",
     "model_name": "HTMLModel",
     "state": {
      "_dom_classes": [],
      "_model_module": "@jupyter-widgets/controls",
      "_model_module_version": "1.5.0",
      "_model_name": "HTMLModel",
      "_view_count": null,
      "_view_module": "@jupyter-widgets/controls",
      "_view_module_version": "1.5.0",
      "_view_name": "HTMLView",
      "description": "",
      "description_tooltip": null,
      "layout": "IPY_MODEL_32be8b3586f445ecb89ccf96a6c23b43",
      "placeholder": "​",
      "style": "IPY_MODEL_8da421f3b62c4374b7ff666d6c32df7e",
      "value": " 811/811 [00:00&lt;00:00, 53.9kB/s]"
     }
    },
    "233a882e7fc54a2db28eac7bb053a83b": {
     "model_module": "@jupyter-widgets/base",
     "model_module_version": "1.2.0",
     "model_name": "LayoutModel",
     "state": {
      "_model_module": "@jupyter-widgets/base",
      "_model_module_version": "1.2.0",
      "_model_name": "LayoutModel",
      "_view_count": null,
      "_view_module": "@jupyter-widgets/base",
      "_view_module_version": "1.2.0",
      "_view_name": "LayoutView",
      "align_content": null,
      "align_items": null,
      "align_self": null,
      "border": null,
      "bottom": null,
      "display": null,
      "flex": null,
      "flex_flow": null,
      "grid_area": null,
      "grid_auto_columns": null,
      "grid_auto_flow": null,
      "grid_auto_rows": null,
      "grid_column": null,
      "grid_gap": null,
      "grid_row": null,
      "grid_template_areas": null,
      "grid_template_columns": null,
      "grid_template_rows": null,
      "height": null,
      "justify_content": null,
      "justify_items": null,
      "left": null,
      "margin": null,
      "max_height": null,
      "max_width": null,
      "min_height": null,
      "min_width": null,
      "object_fit": null,
      "object_position": null,
      "order": null,
      "overflow": null,
      "overflow_x": null,
      "overflow_y": null,
      "padding": null,
      "right": null,
      "top": null,
      "visibility": null,
      "width": null
     }
    },
    "26bc1bdd01b944429e5f75ecd4d27029": {
     "model_module": "@jupyter-widgets/base",
     "model_module_version": "1.2.0",
     "model_name": "LayoutModel",
     "state": {
      "_model_module": "@jupyter-widgets/base",
      "_model_module_version": "1.2.0",
      "_model_name": "LayoutModel",
      "_view_count": null,
      "_view_module": "@jupyter-widgets/base",
      "_view_module_version": "1.2.0",
      "_view_name": "LayoutView",
      "align_content": null,
      "align_items": null,
      "align_self": null,
      "border": null,
      "bottom": null,
      "display": null,
      "flex": null,
      "flex_flow": null,
      "grid_area": null,
      "grid_auto_columns": null,
      "grid_auto_flow": null,
      "grid_auto_rows": null,
      "grid_column": null,
      "grid_gap": null,
      "grid_row": null,
      "grid_template_areas": null,
      "grid_template_columns": null,
      "grid_template_rows": null,
      "height": null,
      "justify_content": null,
      "justify_items": null,
      "left": null,
      "margin": null,
      "max_height": null,
      "max_width": null,
      "min_height": null,
      "min_width": null,
      "object_fit": null,
      "object_position": null,
      "order": null,
      "overflow": null,
      "overflow_x": null,
      "overflow_y": null,
      "padding": null,
      "right": null,
      "top": null,
      "visibility": null,
      "width": null
     }
    },
    "2e56421ac9ea4ef2b1d03ea5813b87b1": {
     "model_module": "@jupyter-widgets/controls",
     "model_module_version": "1.5.0",
     "model_name": "FloatProgressModel",
     "state": {
      "_dom_classes": [],
      "_model_module": "@jupyter-widgets/controls",
      "_model_module_version": "1.5.0",
      "_model_name": "FloatProgressModel",
      "_view_count": null,
      "_view_module": "@jupyter-widgets/controls",
      "_view_module_version": "1.5.0",
      "_view_name": "ProgressView",
      "bar_style": "success",
      "description": "",
      "description_tooltip": null,
      "layout": "IPY_MODEL_3efc227d34024096b47d3fc69a001ae9",
      "max": 811,
      "min": 0,
      "orientation": "horizontal",
      "style": "IPY_MODEL_ccf9ffaf2e854279ac975be89fe90cf5",
      "value": 811
     }
    },
    "2eda27387bf544129fe6336da11892f7": {
     "model_module": "@jupyter-widgets/controls",
     "model_module_version": "1.5.0",
     "model_name": "ProgressStyleModel",
     "state": {
      "_model_module": "@jupyter-widgets/controls",
      "_model_module_version": "1.5.0",
      "_model_name": "ProgressStyleModel",
      "_view_count": null,
      "_view_module": "@jupyter-widgets/base",
      "_view_module_version": "1.2.0",
      "_view_name": "StyleView",
      "bar_color": null,
      "description_width": ""
     }
    },
    "30bd2ffbc2ad4376a915be42bfbded29": {
     "model_module": "@jupyter-widgets/controls",
     "model_module_version": "1.5.0",
     "model_name": "HBoxModel",
     "state": {
      "_dom_classes": [],
      "_model_module": "@jupyter-widgets/controls",
      "_model_module_version": "1.5.0",
      "_model_name": "HBoxModel",
      "_view_count": null,
      "_view_module": "@jupyter-widgets/controls",
      "_view_module_version": "1.5.0",
      "_view_name": "HBoxView",
      "box_style": "",
      "children": [
       "IPY_MODEL_f770c47e24904b7db543e71e9519df4f",
       "IPY_MODEL_5607952051b14d49962fef77caa733d6",
       "IPY_MODEL_5bebc352d6064f1ca7d7f672768f793d"
      ],
      "layout": "IPY_MODEL_26bc1bdd01b944429e5f75ecd4d27029"
     }
    },
    "311a168df81140aeb2b1fb879a48d300": {
     "model_module": "@jupyter-widgets/controls",
     "model_module_version": "1.5.0",
     "model_name": "DescriptionStyleModel",
     "state": {
      "_model_module": "@jupyter-widgets/controls",
      "_model_module_version": "1.5.0",
      "_model_name": "DescriptionStyleModel",
      "_view_count": null,
      "_view_module": "@jupyter-widgets/base",
      "_view_module_version": "1.2.0",
      "_view_name": "StyleView",
      "description_width": ""
     }
    },
    "32be8b3586f445ecb89ccf96a6c23b43": {
     "model_module": "@jupyter-widgets/base",
     "model_module_version": "1.2.0",
     "model_name": "LayoutModel",
     "state": {
      "_model_module": "@jupyter-widgets/base",
      "_model_module_version": "1.2.0",
      "_model_name": "LayoutModel",
      "_view_count": null,
      "_view_module": "@jupyter-widgets/base",
      "_view_module_version": "1.2.0",
      "_view_name": "LayoutView",
      "align_content": null,
      "align_items": null,
      "align_self": null,
      "border": null,
      "bottom": null,
      "display": null,
      "flex": null,
      "flex_flow": null,
      "grid_area": null,
      "grid_auto_columns": null,
      "grid_auto_flow": null,
      "grid_auto_rows": null,
      "grid_column": null,
      "grid_gap": null,
      "grid_row": null,
      "grid_template_areas": null,
      "grid_template_columns": null,
      "grid_template_rows": null,
      "height": null,
      "justify_content": null,
      "justify_items": null,
      "left": null,
      "margin": null,
      "max_height": null,
      "max_width": null,
      "min_height": null,
      "min_width": null,
      "object_fit": null,
      "object_position": null,
      "order": null,
      "overflow": null,
      "overflow_x": null,
      "overflow_y": null,
      "padding": null,
      "right": null,
      "top": null,
      "visibility": null,
      "width": null
     }
    },
    "33058751cdad4f03b019477020ef007a": {
     "model_module": "@jupyter-widgets/controls",
     "model_module_version": "1.5.0",
     "model_name": "HBoxModel",
     "state": {
      "_dom_classes": [],
      "_model_module": "@jupyter-widgets/controls",
      "_model_module_version": "1.5.0",
      "_model_name": "HBoxModel",
      "_view_count": null,
      "_view_module": "@jupyter-widgets/controls",
      "_view_module_version": "1.5.0",
      "_view_name": "HBoxView",
      "box_style": "",
      "children": [
       "IPY_MODEL_4608aa8f88f142878b9ce51a90de2f8f",
       "IPY_MODEL_7956f0564bfa412891c539c0613e30bd",
       "IPY_MODEL_b92004691a24476386af467f5e127bb7"
      ],
      "layout": "IPY_MODEL_3e0e864c1e584b5fbc45696d90a0052b"
     }
    },
    "34dfc3ece7ca47d5a24c6fa0009bd171": {
     "model_module": "@jupyter-widgets/base",
     "model_module_version": "1.2.0",
     "model_name": "LayoutModel",
     "state": {
      "_model_module": "@jupyter-widgets/base",
      "_model_module_version": "1.2.0",
      "_model_name": "LayoutModel",
      "_view_count": null,
      "_view_module": "@jupyter-widgets/base",
      "_view_module_version": "1.2.0",
      "_view_name": "LayoutView",
      "align_content": null,
      "align_items": null,
      "align_self": null,
      "border": null,
      "bottom": null,
      "display": null,
      "flex": null,
      "flex_flow": null,
      "grid_area": null,
      "grid_auto_columns": null,
      "grid_auto_flow": null,
      "grid_auto_rows": null,
      "grid_column": null,
      "grid_gap": null,
      "grid_row": null,
      "grid_template_areas": null,
      "grid_template_columns": null,
      "grid_template_rows": null,
      "height": null,
      "justify_content": null,
      "justify_items": null,
      "left": null,
      "margin": null,
      "max_height": null,
      "max_width": null,
      "min_height": null,
      "min_width": null,
      "object_fit": null,
      "object_position": null,
      "order": null,
      "overflow": null,
      "overflow_x": null,
      "overflow_y": null,
      "padding": null,
      "right": null,
      "top": null,
      "visibility": null,
      "width": null
     }
    },
    "37bc123dd4c94feea7838188278c2c77": {
     "model_module": "@jupyter-widgets/base",
     "model_module_version": "1.2.0",
     "model_name": "LayoutModel",
     "state": {
      "_model_module": "@jupyter-widgets/base",
      "_model_module_version": "1.2.0",
      "_model_name": "LayoutModel",
      "_view_count": null,
      "_view_module": "@jupyter-widgets/base",
      "_view_module_version": "1.2.0",
      "_view_name": "LayoutView",
      "align_content": null,
      "align_items": null,
      "align_self": null,
      "border": null,
      "bottom": null,
      "display": null,
      "flex": null,
      "flex_flow": null,
      "grid_area": null,
      "grid_auto_columns": null,
      "grid_auto_flow": null,
      "grid_auto_rows": null,
      "grid_column": null,
      "grid_gap": null,
      "grid_row": null,
      "grid_template_areas": null,
      "grid_template_columns": null,
      "grid_template_rows": null,
      "height": null,
      "justify_content": null,
      "justify_items": null,
      "left": null,
      "margin": null,
      "max_height": null,
      "max_width": null,
      "min_height": null,
      "min_width": null,
      "object_fit": null,
      "object_position": null,
      "order": null,
      "overflow": null,
      "overflow_x": null,
      "overflow_y": null,
      "padding": null,
      "right": null,
      "top": null,
      "visibility": null,
      "width": null
     }
    },
    "39f8ee40c4d248bca4f747f70075eb58": {
     "model_module": "@jupyter-widgets/base",
     "model_module_version": "1.2.0",
     "model_name": "LayoutModel",
     "state": {
      "_model_module": "@jupyter-widgets/base",
      "_model_module_version": "1.2.0",
      "_model_name": "LayoutModel",
      "_view_count": null,
      "_view_module": "@jupyter-widgets/base",
      "_view_module_version": "1.2.0",
      "_view_name": "LayoutView",
      "align_content": null,
      "align_items": null,
      "align_self": null,
      "border": null,
      "bottom": null,
      "display": null,
      "flex": null,
      "flex_flow": null,
      "grid_area": null,
      "grid_auto_columns": null,
      "grid_auto_flow": null,
      "grid_auto_rows": null,
      "grid_column": null,
      "grid_gap": null,
      "grid_row": null,
      "grid_template_areas": null,
      "grid_template_columns": null,
      "grid_template_rows": null,
      "height": null,
      "justify_content": null,
      "justify_items": null,
      "left": null,
      "margin": null,
      "max_height": null,
      "max_width": null,
      "min_height": null,
      "min_width": null,
      "object_fit": null,
      "object_position": null,
      "order": null,
      "overflow": null,
      "overflow_x": null,
      "overflow_y": null,
      "padding": null,
      "right": null,
      "top": null,
      "visibility": null,
      "width": null
     }
    },
    "3bb031ef4ae641ecb43f89f920ecaecd": {
     "model_module": "@jupyter-widgets/base",
     "model_module_version": "1.2.0",
     "model_name": "LayoutModel",
     "state": {
      "_model_module": "@jupyter-widgets/base",
      "_model_module_version": "1.2.0",
      "_model_name": "LayoutModel",
      "_view_count": null,
      "_view_module": "@jupyter-widgets/base",
      "_view_module_version": "1.2.0",
      "_view_name": "LayoutView",
      "align_content": null,
      "align_items": null,
      "align_self": null,
      "border": null,
      "bottom": null,
      "display": null,
      "flex": null,
      "flex_flow": null,
      "grid_area": null,
      "grid_auto_columns": null,
      "grid_auto_flow": null,
      "grid_auto_rows": null,
      "grid_column": null,
      "grid_gap": null,
      "grid_row": null,
      "grid_template_areas": null,
      "grid_template_columns": null,
      "grid_template_rows": null,
      "height": null,
      "justify_content": null,
      "justify_items": null,
      "left": null,
      "margin": null,
      "max_height": null,
      "max_width": null,
      "min_height": null,
      "min_width": null,
      "object_fit": null,
      "object_position": null,
      "order": null,
      "overflow": null,
      "overflow_x": null,
      "overflow_y": null,
      "padding": null,
      "right": null,
      "top": null,
      "visibility": null,
      "width": null
     }
    },
    "3e0e864c1e584b5fbc45696d90a0052b": {
     "model_module": "@jupyter-widgets/base",
     "model_module_version": "1.2.0",
     "model_name": "LayoutModel",
     "state": {
      "_model_module": "@jupyter-widgets/base",
      "_model_module_version": "1.2.0",
      "_model_name": "LayoutModel",
      "_view_count": null,
      "_view_module": "@jupyter-widgets/base",
      "_view_module_version": "1.2.0",
      "_view_name": "LayoutView",
      "align_content": null,
      "align_items": null,
      "align_self": null,
      "border": null,
      "bottom": null,
      "display": null,
      "flex": null,
      "flex_flow": null,
      "grid_area": null,
      "grid_auto_columns": null,
      "grid_auto_flow": null,
      "grid_auto_rows": null,
      "grid_column": null,
      "grid_gap": null,
      "grid_row": null,
      "grid_template_areas": null,
      "grid_template_columns": null,
      "grid_template_rows": null,
      "height": null,
      "justify_content": null,
      "justify_items": null,
      "left": null,
      "margin": null,
      "max_height": null,
      "max_width": null,
      "min_height": null,
      "min_width": null,
      "object_fit": null,
      "object_position": null,
      "order": null,
      "overflow": null,
      "overflow_x": null,
      "overflow_y": null,
      "padding": null,
      "right": null,
      "top": null,
      "visibility": null,
      "width": null
     }
    },
    "3efc227d34024096b47d3fc69a001ae9": {
     "model_module": "@jupyter-widgets/base",
     "model_module_version": "1.2.0",
     "model_name": "LayoutModel",
     "state": {
      "_model_module": "@jupyter-widgets/base",
      "_model_module_version": "1.2.0",
      "_model_name": "LayoutModel",
      "_view_count": null,
      "_view_module": "@jupyter-widgets/base",
      "_view_module_version": "1.2.0",
      "_view_name": "LayoutView",
      "align_content": null,
      "align_items": null,
      "align_self": null,
      "border": null,
      "bottom": null,
      "display": null,
      "flex": null,
      "flex_flow": null,
      "grid_area": null,
      "grid_auto_columns": null,
      "grid_auto_flow": null,
      "grid_auto_rows": null,
      "grid_column": null,
      "grid_gap": null,
      "grid_row": null,
      "grid_template_areas": null,
      "grid_template_columns": null,
      "grid_template_rows": null,
      "height": null,
      "justify_content": null,
      "justify_items": null,
      "left": null,
      "margin": null,
      "max_height": null,
      "max_width": null,
      "min_height": null,
      "min_width": null,
      "object_fit": null,
      "object_position": null,
      "order": null,
      "overflow": null,
      "overflow_x": null,
      "overflow_y": null,
      "padding": null,
      "right": null,
      "top": null,
      "visibility": null,
      "width": null
     }
    },
    "3fad77e75c364a3ebe44712f80acc9f9": {
     "model_module": "@jupyter-widgets/base",
     "model_module_version": "1.2.0",
     "model_name": "LayoutModel",
     "state": {
      "_model_module": "@jupyter-widgets/base",
      "_model_module_version": "1.2.0",
      "_model_name": "LayoutModel",
      "_view_count": null,
      "_view_module": "@jupyter-widgets/base",
      "_view_module_version": "1.2.0",
      "_view_name": "LayoutView",
      "align_content": null,
      "align_items": null,
      "align_self": null,
      "border": null,
      "bottom": null,
      "display": null,
      "flex": null,
      "flex_flow": null,
      "grid_area": null,
      "grid_auto_columns": null,
      "grid_auto_flow": null,
      "grid_auto_rows": null,
      "grid_column": null,
      "grid_gap": null,
      "grid_row": null,
      "grid_template_areas": null,
      "grid_template_columns": null,
      "grid_template_rows": null,
      "height": null,
      "justify_content": null,
      "justify_items": null,
      "left": null,
      "margin": null,
      "max_height": null,
      "max_width": null,
      "min_height": null,
      "min_width": null,
      "object_fit": null,
      "object_position": null,
      "order": null,
      "overflow": null,
      "overflow_x": null,
      "overflow_y": null,
      "padding": null,
      "right": null,
      "top": null,
      "visibility": null,
      "width": null
     }
    },
    "40eb2fa7a0fb435899fe670d527772bf": {
     "model_module": "@jupyter-widgets/controls",
     "model_module_version": "1.5.0",
     "model_name": "DescriptionStyleModel",
     "state": {
      "_model_module": "@jupyter-widgets/controls",
      "_model_module_version": "1.5.0",
      "_model_name": "DescriptionStyleModel",
      "_view_count": null,
      "_view_module": "@jupyter-widgets/base",
      "_view_module_version": "1.2.0",
      "_view_name": "StyleView",
      "description_width": ""
     }
    },
    "4284b6023bf64717b618f31eac7642ad": {
     "model_module": "@jupyter-widgets/controls",
     "model_module_version": "1.5.0",
     "model_name": "ProgressStyleModel",
     "state": {
      "_model_module": "@jupyter-widgets/controls",
      "_model_module_version": "1.5.0",
      "_model_name": "ProgressStyleModel",
      "_view_count": null,
      "_view_module": "@jupyter-widgets/base",
      "_view_module_version": "1.2.0",
      "_view_name": "StyleView",
      "bar_color": null,
      "description_width": ""
     }
    },
    "4608aa8f88f142878b9ce51a90de2f8f": {
     "model_module": "@jupyter-widgets/controls",
     "model_module_version": "1.5.0",
     "model_name": "HTMLModel",
     "state": {
      "_dom_classes": [],
      "_model_module": "@jupyter-widgets/controls",
      "_model_module_version": "1.5.0",
      "_model_name": "HTMLModel",
      "_view_count": null,
      "_view_module": "@jupyter-widgets/controls",
      "_view_module_version": "1.5.0",
      "_view_name": "HTMLView",
      "description": "",
      "description_tooltip": null,
      "layout": "IPY_MODEL_3fad77e75c364a3ebe44712f80acc9f9",
      "placeholder": "​",
      "style": "IPY_MODEL_b33fbdbca17e4135bb94582b41ce487a",
      "value": "100%"
     }
    },
    "519e2df236a148f2a704bd2e06752fa3": {
     "model_module": "@jupyter-widgets/controls",
     "model_module_version": "1.5.0",
     "model_name": "HBoxModel",
     "state": {
      "_dom_classes": [],
      "_model_module": "@jupyter-widgets/controls",
      "_model_module_version": "1.5.0",
      "_model_name": "HBoxModel",
      "_view_count": null,
      "_view_module": "@jupyter-widgets/controls",
      "_view_module_version": "1.5.0",
      "_view_name": "HBoxView",
      "box_style": "",
      "children": [
       "IPY_MODEL_8a1c474dd956466bbef31e8750a75c3f",
       "IPY_MODEL_76c014026b0746cfb8ee0225275cb747",
       "IPY_MODEL_d51f52a8c4c84b80951b2655d261a0ca"
      ],
      "layout": "IPY_MODEL_0f9465ef544b45bfb8904c74bafbca81"
     }
    },
    "54290bf045b0407a9c5304bba0fc56a7": {
     "model_module": "@jupyter-widgets/controls",
     "model_module_version": "1.5.0",
     "model_name": "FloatProgressModel",
     "state": {
      "_dom_classes": [],
      "_model_module": "@jupyter-widgets/controls",
      "_model_module_version": "1.5.0",
      "_model_name": "FloatProgressModel",
      "_view_count": null,
      "_view_module": "@jupyter-widgets/controls",
      "_view_module_version": "1.5.0",
      "_view_name": "ProgressView",
      "bar_style": "success",
      "description": "",
      "description_tooltip": null,
      "layout": "IPY_MODEL_233a882e7fc54a2db28eac7bb053a83b",
      "max": 112,
      "min": 0,
      "orientation": "horizontal",
      "style": "IPY_MODEL_fbfb809a6f6f4844b1d4ff9dfe66fae9",
      "value": 112
     }
    },
    "5607952051b14d49962fef77caa733d6": {
     "model_module": "@jupyter-widgets/controls",
     "model_module_version": "1.5.0",
     "model_name": "FloatProgressModel",
     "state": {
      "_dom_classes": [],
      "_model_module": "@jupyter-widgets/controls",
      "_model_module_version": "1.5.0",
      "_model_name": "FloatProgressModel",
      "_view_count": null,
      "_view_module": "@jupyter-widgets/controls",
      "_view_module_version": "1.5.0",
      "_view_name": "ProgressView",
      "bar_style": "success",
      "description": "",
      "description_tooltip": null,
      "layout": "IPY_MODEL_da075144a89049c29483309072ae2602",
      "max": 174,
      "min": 0,
      "orientation": "horizontal",
      "style": "IPY_MODEL_5903a826681843d3b133127e9434c140",
      "value": 174
     }
    },
    "56f3093c24214a30994ee367e93c62cf": {
     "model_module": "@jupyter-widgets/base",
     "model_module_version": "1.2.0",
     "model_name": "LayoutModel",
     "state": {
      "_model_module": "@jupyter-widgets/base",
      "_model_module_version": "1.2.0",
      "_model_name": "LayoutModel",
      "_view_count": null,
      "_view_module": "@jupyter-widgets/base",
      "_view_module_version": "1.2.0",
      "_view_name": "LayoutView",
      "align_content": null,
      "align_items": null,
      "align_self": null,
      "border": null,
      "bottom": null,
      "display": null,
      "flex": null,
      "flex_flow": null,
      "grid_area": null,
      "grid_auto_columns": null,
      "grid_auto_flow": null,
      "grid_auto_rows": null,
      "grid_column": null,
      "grid_gap": null,
      "grid_row": null,
      "grid_template_areas": null,
      "grid_template_columns": null,
      "grid_template_rows": null,
      "height": null,
      "justify_content": null,
      "justify_items": null,
      "left": null,
      "margin": null,
      "max_height": null,
      "max_width": null,
      "min_height": null,
      "min_width": null,
      "object_fit": null,
      "object_position": null,
      "order": null,
      "overflow": null,
      "overflow_x": null,
      "overflow_y": null,
      "padding": null,
      "right": null,
      "top": null,
      "visibility": null,
      "width": null
     }
    },
    "5736e7f400554ff681c19e4360bff8ad": {
     "model_module": "@jupyter-widgets/controls",
     "model_module_version": "1.5.0",
     "model_name": "DescriptionStyleModel",
     "state": {
      "_model_module": "@jupyter-widgets/controls",
      "_model_module_version": "1.5.0",
      "_model_name": "DescriptionStyleModel",
      "_view_count": null,
      "_view_module": "@jupyter-widgets/base",
      "_view_module_version": "1.2.0",
      "_view_name": "StyleView",
      "description_width": ""
     }
    },
    "5903a826681843d3b133127e9434c140": {
     "model_module": "@jupyter-widgets/controls",
     "model_module_version": "1.5.0",
     "model_name": "ProgressStyleModel",
     "state": {
      "_model_module": "@jupyter-widgets/controls",
      "_model_module_version": "1.5.0",
      "_model_name": "ProgressStyleModel",
      "_view_count": null,
      "_view_module": "@jupyter-widgets/base",
      "_view_module_version": "1.2.0",
      "_view_name": "StyleView",
      "bar_color": null,
      "description_width": ""
     }
    },
    "5bebc352d6064f1ca7d7f672768f793d": {
     "model_module": "@jupyter-widgets/controls",
     "model_module_version": "1.5.0",
     "model_name": "HTMLModel",
     "state": {
      "_dom_classes": [],
      "_model_module": "@jupyter-widgets/controls",
      "_model_module_version": "1.5.0",
      "_model_name": "HTMLModel",
      "_view_count": null,
      "_view_module": "@jupyter-widgets/controls",
      "_view_module_version": "1.5.0",
      "_view_name": "HTMLView",
      "description": "",
      "description_tooltip": null,
      "layout": "IPY_MODEL_f4ed0a3d2c394a30bf780f760ae9fc9b",
      "placeholder": "​",
      "style": "IPY_MODEL_40eb2fa7a0fb435899fe670d527772bf",
      "value": " 174/174 [00:00&lt;00:00, 6.03kB/s]"
     }
    },
    "5f56dbf5265444dabbf4a8aefe75ea34": {
     "model_module": "@jupyter-widgets/controls",
     "model_module_version": "1.5.0",
     "model_name": "HTMLModel",
     "state": {
      "_dom_classes": [],
      "_model_module": "@jupyter-widgets/controls",
      "_model_module_version": "1.5.0",
      "_model_name": "HTMLModel",
      "_view_count": null,
      "_view_module": "@jupyter-widgets/controls",
      "_view_module_version": "1.5.0",
      "_view_name": "HTMLView",
      "description": "",
      "description_tooltip": null,
      "layout": "IPY_MODEL_34dfc3ece7ca47d5a24c6fa0009bd171",
      "placeholder": "​",
      "style": "IPY_MODEL_ec9177944c774219a23bcb7af5bad9ba",
      "value": " 438M/438M [00:03&lt;00:00, 110MB/s]"
     }
    },
    "6760916c0a3246b2813aee3e6d872d86": {
     "model_module": "@jupyter-widgets/controls",
     "model_module_version": "1.5.0",
     "model_name": "HTMLModel",
     "state": {
      "_dom_classes": [],
      "_model_module": "@jupyter-widgets/controls",
      "_model_module_version": "1.5.0",
      "_model_name": "HTMLModel",
      "_view_count": null,
      "_view_module": "@jupyter-widgets/controls",
      "_view_module_version": "1.5.0",
      "_view_name": "HTMLView",
      "description": "",
      "description_tooltip": null,
      "layout": "IPY_MODEL_d63ac9fdbd6846f9a4881ea8e538dd79",
      "placeholder": "​",
      "style": "IPY_MODEL_917c6d5737484d13abe7142e1fffcb9b",
      "value": " 112/112 [00:00&lt;00:00, 1.69kB/s]"
     }
    },
    "6ff6f4c79242444cab9d5654ee2f0f38": {
     "model_module": "@jupyter-widgets/controls",
     "model_module_version": "1.5.0",
     "model_name": "HTMLModel",
     "state": {
      "_dom_classes": [],
      "_model_module": "@jupyter-widgets/controls",
      "_model_module_version": "1.5.0",
      "_model_name": "HTMLModel",
      "_view_count": null,
      "_view_module": "@jupyter-widgets/controls",
      "_view_module_version": "1.5.0",
      "_view_name": "HTMLView",
      "description": "",
      "description_tooltip": null,
      "layout": "IPY_MODEL_d04308a8ff7d4f5aa515697daece024c",
      "placeholder": "​",
      "style": "IPY_MODEL_a18a5fcdbb8946c897de090e5aae8c27",
      "value": "Downloading (…)lve/main/config.json: 100%"
     }
    },
    "733ebfb8a13e42c08e344d1ff404ba04": {
     "model_module": "@jupyter-widgets/controls",
     "model_module_version": "1.5.0",
     "model_name": "DescriptionStyleModel",
     "state": {
      "_model_module": "@jupyter-widgets/controls",
      "_model_module_version": "1.5.0",
      "_model_name": "DescriptionStyleModel",
      "_view_count": null,
      "_view_module": "@jupyter-widgets/base",
      "_view_module_version": "1.2.0",
      "_view_name": "StyleView",
      "description_width": ""
     }
    },
    "76c014026b0746cfb8ee0225275cb747": {
     "model_module": "@jupyter-widgets/controls",
     "model_module_version": "1.5.0",
     "model_name": "FloatProgressModel",
     "state": {
      "_dom_classes": [],
      "_model_module": "@jupyter-widgets/controls",
      "_model_module_version": "1.5.0",
      "_model_name": "FloatProgressModel",
      "_view_count": null,
      "_view_module": "@jupyter-widgets/controls",
      "_view_module_version": "1.5.0",
      "_view_name": "ProgressView",
      "bar_style": "success",
      "description": "",
      "description_tooltip": null,
      "layout": "IPY_MODEL_56f3093c24214a30994ee367e93c62cf",
      "max": 231508,
      "min": 0,
      "orientation": "horizontal",
      "style": "IPY_MODEL_4284b6023bf64717b618f31eac7642ad",
      "value": 231508
     }
    },
    "77b19f0fff634d48ab8f692f6a3ece50": {
     "model_module": "@jupyter-widgets/base",
     "model_module_version": "1.2.0",
     "model_name": "LayoutModel",
     "state": {
      "_model_module": "@jupyter-widgets/base",
      "_model_module_version": "1.2.0",
      "_model_name": "LayoutModel",
      "_view_count": null,
      "_view_module": "@jupyter-widgets/base",
      "_view_module_version": "1.2.0",
      "_view_name": "LayoutView",
      "align_content": null,
      "align_items": null,
      "align_self": null,
      "border": null,
      "bottom": null,
      "display": null,
      "flex": null,
      "flex_flow": null,
      "grid_area": null,
      "grid_auto_columns": null,
      "grid_auto_flow": null,
      "grid_auto_rows": null,
      "grid_column": null,
      "grid_gap": null,
      "grid_row": null,
      "grid_template_areas": null,
      "grid_template_columns": null,
      "grid_template_rows": null,
      "height": null,
      "justify_content": null,
      "justify_items": null,
      "left": null,
      "margin": null,
      "max_height": null,
      "max_width": null,
      "min_height": null,
      "min_width": null,
      "object_fit": null,
      "object_position": null,
      "order": null,
      "overflow": null,
      "overflow_x": null,
      "overflow_y": null,
      "padding": null,
      "right": null,
      "top": null,
      "visibility": null,
      "width": null
     }
    },
    "7956f0564bfa412891c539c0613e30bd": {
     "model_module": "@jupyter-widgets/controls",
     "model_module_version": "1.5.0",
     "model_name": "FloatProgressModel",
     "state": {
      "_dom_classes": [],
      "_model_module": "@jupyter-widgets/controls",
      "_model_module_version": "1.5.0",
      "_model_name": "FloatProgressModel",
      "_view_count": null,
      "_view_module": "@jupyter-widgets/controls",
      "_view_module_version": "1.5.0",
      "_view_name": "ProgressView",
      "bar_style": "success",
      "description": "",
      "description_tooltip": null,
      "layout": "IPY_MODEL_77b19f0fff634d48ab8f692f6a3ece50",
      "max": 4978,
      "min": 0,
      "orientation": "horizontal",
      "style": "IPY_MODEL_2eda27387bf544129fe6336da11892f7",
      "value": 4978
     }
    },
    "79dc55b5267c4692beeec155a993029d": {
     "model_module": "@jupyter-widgets/controls",
     "model_module_version": "1.5.0",
     "model_name": "HBoxModel",
     "state": {
      "_dom_classes": [],
      "_model_module": "@jupyter-widgets/controls",
      "_model_module_version": "1.5.0",
      "_model_name": "HBoxModel",
      "_view_count": null,
      "_view_module": "@jupyter-widgets/controls",
      "_view_module_version": "1.5.0",
      "_view_name": "HBoxView",
      "box_style": "",
      "children": [
       "IPY_MODEL_f56864866ccc459d8fa142515a2a03e2",
       "IPY_MODEL_54290bf045b0407a9c5304bba0fc56a7",
       "IPY_MODEL_6760916c0a3246b2813aee3e6d872d86"
      ],
      "layout": "IPY_MODEL_0f3bf2db4460458eb5a480519f9d7a76"
     }
    },
    "817f1f1d182b4683a3bd6738ef7e1650": {
     "model_module": "@jupyter-widgets/base",
     "model_module_version": "1.2.0",
     "model_name": "LayoutModel",
     "state": {
      "_model_module": "@jupyter-widgets/base",
      "_model_module_version": "1.2.0",
      "_model_name": "LayoutModel",
      "_view_count": null,
      "_view_module": "@jupyter-widgets/base",
      "_view_module_version": "1.2.0",
      "_view_name": "LayoutView",
      "align_content": null,
      "align_items": null,
      "align_self": null,
      "border": null,
      "bottom": null,
      "display": null,
      "flex": null,
      "flex_flow": null,
      "grid_area": null,
      "grid_auto_columns": null,
      "grid_auto_flow": null,
      "grid_auto_rows": null,
      "grid_column": null,
      "grid_gap": null,
      "grid_row": null,
      "grid_template_areas": null,
      "grid_template_columns": null,
      "grid_template_rows": null,
      "height": null,
      "justify_content": null,
      "justify_items": null,
      "left": null,
      "margin": null,
      "max_height": null,
      "max_width": null,
      "min_height": null,
      "min_width": null,
      "object_fit": null,
      "object_position": null,
      "order": null,
      "overflow": null,
      "overflow_x": null,
      "overflow_y": null,
      "padding": null,
      "right": null,
      "top": null,
      "visibility": null,
      "width": null
     }
    },
    "824b1e699f0d4166a0f8c157a32e3c30": {
     "model_module": "@jupyter-widgets/base",
     "model_module_version": "1.2.0",
     "model_name": "LayoutModel",
     "state": {
      "_model_module": "@jupyter-widgets/base",
      "_model_module_version": "1.2.0",
      "_model_name": "LayoutModel",
      "_view_count": null,
      "_view_module": "@jupyter-widgets/base",
      "_view_module_version": "1.2.0",
      "_view_name": "LayoutView",
      "align_content": null,
      "align_items": null,
      "align_self": null,
      "border": null,
      "bottom": null,
      "display": null,
      "flex": null,
      "flex_flow": null,
      "grid_area": null,
      "grid_auto_columns": null,
      "grid_auto_flow": null,
      "grid_auto_rows": null,
      "grid_column": null,
      "grid_gap": null,
      "grid_row": null,
      "grid_template_areas": null,
      "grid_template_columns": null,
      "grid_template_rows": null,
      "height": null,
      "justify_content": null,
      "justify_items": null,
      "left": null,
      "margin": null,
      "max_height": null,
      "max_width": null,
      "min_height": null,
      "min_width": null,
      "object_fit": null,
      "object_position": null,
      "order": null,
      "overflow": null,
      "overflow_x": null,
      "overflow_y": null,
      "padding": null,
      "right": null,
      "top": null,
      "visibility": null,
      "width": null
     }
    },
    "888c38a1fd2b46509bc818bcbcf456ce": {
     "model_module": "@jupyter-widgets/controls",
     "model_module_version": "1.5.0",
     "model_name": "ProgressStyleModel",
     "state": {
      "_model_module": "@jupyter-widgets/controls",
      "_model_module_version": "1.5.0",
      "_model_name": "ProgressStyleModel",
      "_view_count": null,
      "_view_module": "@jupyter-widgets/base",
      "_view_module_version": "1.2.0",
      "_view_name": "StyleView",
      "bar_color": null,
      "description_width": ""
     }
    },
    "8a1c474dd956466bbef31e8750a75c3f": {
     "model_module": "@jupyter-widgets/controls",
     "model_module_version": "1.5.0",
     "model_name": "HTMLModel",
     "state": {
      "_dom_classes": [],
      "_model_module": "@jupyter-widgets/controls",
      "_model_module_version": "1.5.0",
      "_model_name": "HTMLModel",
      "_view_count": null,
      "_view_module": "@jupyter-widgets/controls",
      "_view_module_version": "1.5.0",
      "_view_name": "HTMLView",
      "description": "",
      "description_tooltip": null,
      "layout": "IPY_MODEL_824b1e699f0d4166a0f8c157a32e3c30",
      "placeholder": "​",
      "style": "IPY_MODEL_0ae133de8057423eb96f14dfebd8fc8d",
      "value": "Downloading (…)solve/main/vocab.txt: 100%"
     }
    },
    "8da421f3b62c4374b7ff666d6c32df7e": {
     "model_module": "@jupyter-widgets/controls",
     "model_module_version": "1.5.0",
     "model_name": "DescriptionStyleModel",
     "state": {
      "_model_module": "@jupyter-widgets/controls",
      "_model_module_version": "1.5.0",
      "_model_name": "DescriptionStyleModel",
      "_view_count": null,
      "_view_module": "@jupyter-widgets/base",
      "_view_module_version": "1.2.0",
      "_view_name": "StyleView",
      "description_width": ""
     }
    },
    "917c6d5737484d13abe7142e1fffcb9b": {
     "model_module": "@jupyter-widgets/controls",
     "model_module_version": "1.5.0",
     "model_name": "DescriptionStyleModel",
     "state": {
      "_model_module": "@jupyter-widgets/controls",
      "_model_module_version": "1.5.0",
      "_model_name": "DescriptionStyleModel",
      "_view_count": null,
      "_view_module": "@jupyter-widgets/base",
      "_view_module_version": "1.2.0",
      "_view_name": "StyleView",
      "description_width": ""
     }
    },
    "99a53ede5eea4430b35963191cc32712": {
     "model_module": "@jupyter-widgets/controls",
     "model_module_version": "1.5.0",
     "model_name": "HTMLModel",
     "state": {
      "_dom_classes": [],
      "_model_module": "@jupyter-widgets/controls",
      "_model_module_version": "1.5.0",
      "_model_name": "HTMLModel",
      "_view_count": null,
      "_view_module": "@jupyter-widgets/controls",
      "_view_module_version": "1.5.0",
      "_view_name": "HTMLView",
      "description": "",
      "description_tooltip": null,
      "layout": "IPY_MODEL_817f1f1d182b4683a3bd6738ef7e1650",
      "placeholder": "​",
      "style": "IPY_MODEL_733ebfb8a13e42c08e344d1ff404ba04",
      "value": "Downloading pytorch_model.bin: 100%"
     }
    },
    "9f0b9d3530e84f5eb141b9577fba288d": {
     "model_module": "@jupyter-widgets/controls",
     "model_module_version": "1.5.0",
     "model_name": "DescriptionStyleModel",
     "state": {
      "_model_module": "@jupyter-widgets/controls",
      "_model_module_version": "1.5.0",
      "_model_name": "DescriptionStyleModel",
      "_view_count": null,
      "_view_module": "@jupyter-widgets/base",
      "_view_module_version": "1.2.0",
      "_view_name": "StyleView",
      "description_width": ""
     }
    },
    "a18a5fcdbb8946c897de090e5aae8c27": {
     "model_module": "@jupyter-widgets/controls",
     "model_module_version": "1.5.0",
     "model_name": "DescriptionStyleModel",
     "state": {
      "_model_module": "@jupyter-widgets/controls",
      "_model_module_version": "1.5.0",
      "_model_name": "DescriptionStyleModel",
      "_view_count": null,
      "_view_module": "@jupyter-widgets/base",
      "_view_module_version": "1.2.0",
      "_view_name": "StyleView",
      "description_width": ""
     }
    },
    "ab39e3a0743c4da29f52ac9e6babad30": {
     "model_module": "@jupyter-widgets/base",
     "model_module_version": "1.2.0",
     "model_name": "LayoutModel",
     "state": {
      "_model_module": "@jupyter-widgets/base",
      "_model_module_version": "1.2.0",
      "_model_name": "LayoutModel",
      "_view_count": null,
      "_view_module": "@jupyter-widgets/base",
      "_view_module_version": "1.2.0",
      "_view_name": "LayoutView",
      "align_content": null,
      "align_items": null,
      "align_self": null,
      "border": null,
      "bottom": null,
      "display": null,
      "flex": null,
      "flex_flow": null,
      "grid_area": null,
      "grid_auto_columns": null,
      "grid_auto_flow": null,
      "grid_auto_rows": null,
      "grid_column": null,
      "grid_gap": null,
      "grid_row": null,
      "grid_template_areas": null,
      "grid_template_columns": null,
      "grid_template_rows": null,
      "height": null,
      "justify_content": null,
      "justify_items": null,
      "left": null,
      "margin": null,
      "max_height": null,
      "max_width": null,
      "min_height": null,
      "min_width": null,
      "object_fit": null,
      "object_position": null,
      "order": null,
      "overflow": null,
      "overflow_x": null,
      "overflow_y": null,
      "padding": null,
      "right": null,
      "top": null,
      "visibility": null,
      "width": null
     }
    },
    "b33fbdbca17e4135bb94582b41ce487a": {
     "model_module": "@jupyter-widgets/controls",
     "model_module_version": "1.5.0",
     "model_name": "DescriptionStyleModel",
     "state": {
      "_model_module": "@jupyter-widgets/controls",
      "_model_module_version": "1.5.0",
      "_model_name": "DescriptionStyleModel",
      "_view_count": null,
      "_view_module": "@jupyter-widgets/base",
      "_view_module_version": "1.2.0",
      "_view_name": "StyleView",
      "description_width": ""
     }
    },
    "b92004691a24476386af467f5e127bb7": {
     "model_module": "@jupyter-widgets/controls",
     "model_module_version": "1.5.0",
     "model_name": "HTMLModel",
     "state": {
      "_dom_classes": [],
      "_model_module": "@jupyter-widgets/controls",
      "_model_module_version": "1.5.0",
      "_model_name": "HTMLModel",
      "_view_count": null,
      "_view_module": "@jupyter-widgets/controls",
      "_view_module_version": "1.5.0",
      "_view_name": "HTMLView",
      "description": "",
      "description_tooltip": null,
      "layout": "IPY_MODEL_e42a661159834f1aabba2990e56035cc",
      "placeholder": "​",
      "style": "IPY_MODEL_bef1b74f751e43399d9ca5752b3d7c64",
      "value": " 4978/4978 [17:15&lt;00:00,  4.82it/s]"
     }
    },
    "bef1b74f751e43399d9ca5752b3d7c64": {
     "model_module": "@jupyter-widgets/controls",
     "model_module_version": "1.5.0",
     "model_name": "DescriptionStyleModel",
     "state": {
      "_model_module": "@jupyter-widgets/controls",
      "_model_module_version": "1.5.0",
      "_model_name": "DescriptionStyleModel",
      "_view_count": null,
      "_view_module": "@jupyter-widgets/base",
      "_view_module_version": "1.2.0",
      "_view_name": "StyleView",
      "description_width": ""
     }
    },
    "c24fbe94e7ba4b87bca9c856f2dde4fa": {
     "model_module": "@jupyter-widgets/base",
     "model_module_version": "1.2.0",
     "model_name": "LayoutModel",
     "state": {
      "_model_module": "@jupyter-widgets/base",
      "_model_module_version": "1.2.0",
      "_model_name": "LayoutModel",
      "_view_count": null,
      "_view_module": "@jupyter-widgets/base",
      "_view_module_version": "1.2.0",
      "_view_name": "LayoutView",
      "align_content": null,
      "align_items": null,
      "align_self": null,
      "border": null,
      "bottom": null,
      "display": null,
      "flex": null,
      "flex_flow": null,
      "grid_area": null,
      "grid_auto_columns": null,
      "grid_auto_flow": null,
      "grid_auto_rows": null,
      "grid_column": null,
      "grid_gap": null,
      "grid_row": null,
      "grid_template_areas": null,
      "grid_template_columns": null,
      "grid_template_rows": null,
      "height": null,
      "justify_content": null,
      "justify_items": null,
      "left": null,
      "margin": null,
      "max_height": null,
      "max_width": null,
      "min_height": null,
      "min_width": null,
      "object_fit": null,
      "object_position": null,
      "order": null,
      "overflow": null,
      "overflow_x": null,
      "overflow_y": null,
      "padding": null,
      "right": null,
      "top": null,
      "visibility": null,
      "width": null
     }
    },
    "c27d7fdd92604ea5884e8655ac72566a": {
     "model_module": "@jupyter-widgets/controls",
     "model_module_version": "1.5.0",
     "model_name": "HBoxModel",
     "state": {
      "_dom_classes": [],
      "_model_module": "@jupyter-widgets/controls",
      "_model_module_version": "1.5.0",
      "_model_name": "HBoxModel",
      "_view_count": null,
      "_view_module": "@jupyter-widgets/controls",
      "_view_module_version": "1.5.0",
      "_view_name": "HBoxView",
      "box_style": "",
      "children": [
       "IPY_MODEL_6ff6f4c79242444cab9d5654ee2f0f38",
       "IPY_MODEL_2e56421ac9ea4ef2b1d03ea5813b87b1",
       "IPY_MODEL_231b3b2e084246c39342a8e0e582813e"
      ],
      "layout": "IPY_MODEL_1d917d87502b41918c81ddb498c50d1a"
     }
    },
    "ccf9ffaf2e854279ac975be89fe90cf5": {
     "model_module": "@jupyter-widgets/controls",
     "model_module_version": "1.5.0",
     "model_name": "ProgressStyleModel",
     "state": {
      "_model_module": "@jupyter-widgets/controls",
      "_model_module_version": "1.5.0",
      "_model_name": "ProgressStyleModel",
      "_view_count": null,
      "_view_module": "@jupyter-widgets/base",
      "_view_module_version": "1.2.0",
      "_view_name": "StyleView",
      "bar_color": null,
      "description_width": ""
     }
    },
    "d04308a8ff7d4f5aa515697daece024c": {
     "model_module": "@jupyter-widgets/base",
     "model_module_version": "1.2.0",
     "model_name": "LayoutModel",
     "state": {
      "_model_module": "@jupyter-widgets/base",
      "_model_module_version": "1.2.0",
      "_model_name": "LayoutModel",
      "_view_count": null,
      "_view_module": "@jupyter-widgets/base",
      "_view_module_version": "1.2.0",
      "_view_name": "LayoutView",
      "align_content": null,
      "align_items": null,
      "align_self": null,
      "border": null,
      "bottom": null,
      "display": null,
      "flex": null,
      "flex_flow": null,
      "grid_area": null,
      "grid_auto_columns": null,
      "grid_auto_flow": null,
      "grid_auto_rows": null,
      "grid_column": null,
      "grid_gap": null,
      "grid_row": null,
      "grid_template_areas": null,
      "grid_template_columns": null,
      "grid_template_rows": null,
      "height": null,
      "justify_content": null,
      "justify_items": null,
      "left": null,
      "margin": null,
      "max_height": null,
      "max_width": null,
      "min_height": null,
      "min_width": null,
      "object_fit": null,
      "object_position": null,
      "order": null,
      "overflow": null,
      "overflow_x": null,
      "overflow_y": null,
      "padding": null,
      "right": null,
      "top": null,
      "visibility": null,
      "width": null
     }
    },
    "d51f52a8c4c84b80951b2655d261a0ca": {
     "model_module": "@jupyter-widgets/controls",
     "model_module_version": "1.5.0",
     "model_name": "HTMLModel",
     "state": {
      "_dom_classes": [],
      "_model_module": "@jupyter-widgets/controls",
      "_model_module_version": "1.5.0",
      "_model_name": "HTMLModel",
      "_view_count": null,
      "_view_module": "@jupyter-widgets/controls",
      "_view_module_version": "1.5.0",
      "_view_name": "HTMLView",
      "description": "",
      "description_tooltip": null,
      "layout": "IPY_MODEL_37bc123dd4c94feea7838188278c2c77",
      "placeholder": "​",
      "style": "IPY_MODEL_5736e7f400554ff681c19e4360bff8ad",
      "value": " 232k/232k [00:00&lt;00:00, 553kB/s]"
     }
    },
    "d63ac9fdbd6846f9a4881ea8e538dd79": {
     "model_module": "@jupyter-widgets/base",
     "model_module_version": "1.2.0",
     "model_name": "LayoutModel",
     "state": {
      "_model_module": "@jupyter-widgets/base",
      "_model_module_version": "1.2.0",
      "_model_name": "LayoutModel",
      "_view_count": null,
      "_view_module": "@jupyter-widgets/base",
      "_view_module_version": "1.2.0",
      "_view_name": "LayoutView",
      "align_content": null,
      "align_items": null,
      "align_self": null,
      "border": null,
      "bottom": null,
      "display": null,
      "flex": null,
      "flex_flow": null,
      "grid_area": null,
      "grid_auto_columns": null,
      "grid_auto_flow": null,
      "grid_auto_rows": null,
      "grid_column": null,
      "grid_gap": null,
      "grid_row": null,
      "grid_template_areas": null,
      "grid_template_columns": null,
      "grid_template_rows": null,
      "height": null,
      "justify_content": null,
      "justify_items": null,
      "left": null,
      "margin": null,
      "max_height": null,
      "max_width": null,
      "min_height": null,
      "min_width": null,
      "object_fit": null,
      "object_position": null,
      "order": null,
      "overflow": null,
      "overflow_x": null,
      "overflow_y": null,
      "padding": null,
      "right": null,
      "top": null,
      "visibility": null,
      "width": null
     }
    },
    "da075144a89049c29483309072ae2602": {
     "model_module": "@jupyter-widgets/base",
     "model_module_version": "1.2.0",
     "model_name": "LayoutModel",
     "state": {
      "_model_module": "@jupyter-widgets/base",
      "_model_module_version": "1.2.0",
      "_model_name": "LayoutModel",
      "_view_count": null,
      "_view_module": "@jupyter-widgets/base",
      "_view_module_version": "1.2.0",
      "_view_name": "LayoutView",
      "align_content": null,
      "align_items": null,
      "align_self": null,
      "border": null,
      "bottom": null,
      "display": null,
      "flex": null,
      "flex_flow": null,
      "grid_area": null,
      "grid_auto_columns": null,
      "grid_auto_flow": null,
      "grid_auto_rows": null,
      "grid_column": null,
      "grid_gap": null,
      "grid_row": null,
      "grid_template_areas": null,
      "grid_template_columns": null,
      "grid_template_rows": null,
      "height": null,
      "justify_content": null,
      "justify_items": null,
      "left": null,
      "margin": null,
      "max_height": null,
      "max_width": null,
      "min_height": null,
      "min_width": null,
      "object_fit": null,
      "object_position": null,
      "order": null,
      "overflow": null,
      "overflow_x": null,
      "overflow_y": null,
      "padding": null,
      "right": null,
      "top": null,
      "visibility": null,
      "width": null
     }
    },
    "e42a661159834f1aabba2990e56035cc": {
     "model_module": "@jupyter-widgets/base",
     "model_module_version": "1.2.0",
     "model_name": "LayoutModel",
     "state": {
      "_model_module": "@jupyter-widgets/base",
      "_model_module_version": "1.2.0",
      "_model_name": "LayoutModel",
      "_view_count": null,
      "_view_module": "@jupyter-widgets/base",
      "_view_module_version": "1.2.0",
      "_view_name": "LayoutView",
      "align_content": null,
      "align_items": null,
      "align_self": null,
      "border": null,
      "bottom": null,
      "display": null,
      "flex": null,
      "flex_flow": null,
      "grid_area": null,
      "grid_auto_columns": null,
      "grid_auto_flow": null,
      "grid_auto_rows": null,
      "grid_column": null,
      "grid_gap": null,
      "grid_row": null,
      "grid_template_areas": null,
      "grid_template_columns": null,
      "grid_template_rows": null,
      "height": null,
      "justify_content": null,
      "justify_items": null,
      "left": null,
      "margin": null,
      "max_height": null,
      "max_width": null,
      "min_height": null,
      "min_width": null,
      "object_fit": null,
      "object_position": null,
      "order": null,
      "overflow": null,
      "overflow_x": null,
      "overflow_y": null,
      "padding": null,
      "right": null,
      "top": null,
      "visibility": null,
      "width": null
     }
    },
    "ec9177944c774219a23bcb7af5bad9ba": {
     "model_module": "@jupyter-widgets/controls",
     "model_module_version": "1.5.0",
     "model_name": "DescriptionStyleModel",
     "state": {
      "_model_module": "@jupyter-widgets/controls",
      "_model_module_version": "1.5.0",
      "_model_name": "DescriptionStyleModel",
      "_view_count": null,
      "_view_module": "@jupyter-widgets/base",
      "_view_module_version": "1.2.0",
      "_view_name": "StyleView",
      "description_width": ""
     }
    },
    "f4ed0a3d2c394a30bf780f760ae9fc9b": {
     "model_module": "@jupyter-widgets/base",
     "model_module_version": "1.2.0",
     "model_name": "LayoutModel",
     "state": {
      "_model_module": "@jupyter-widgets/base",
      "_model_module_version": "1.2.0",
      "_model_name": "LayoutModel",
      "_view_count": null,
      "_view_module": "@jupyter-widgets/base",
      "_view_module_version": "1.2.0",
      "_view_name": "LayoutView",
      "align_content": null,
      "align_items": null,
      "align_self": null,
      "border": null,
      "bottom": null,
      "display": null,
      "flex": null,
      "flex_flow": null,
      "grid_area": null,
      "grid_auto_columns": null,
      "grid_auto_flow": null,
      "grid_auto_rows": null,
      "grid_column": null,
      "grid_gap": null,
      "grid_row": null,
      "grid_template_areas": null,
      "grid_template_columns": null,
      "grid_template_rows": null,
      "height": null,
      "justify_content": null,
      "justify_items": null,
      "left": null,
      "margin": null,
      "max_height": null,
      "max_width": null,
      "min_height": null,
      "min_width": null,
      "object_fit": null,
      "object_position": null,
      "order": null,
      "overflow": null,
      "overflow_x": null,
      "overflow_y": null,
      "padding": null,
      "right": null,
      "top": null,
      "visibility": null,
      "width": null
     }
    },
    "f56864866ccc459d8fa142515a2a03e2": {
     "model_module": "@jupyter-widgets/controls",
     "model_module_version": "1.5.0",
     "model_name": "HTMLModel",
     "state": {
      "_dom_classes": [],
      "_model_module": "@jupyter-widgets/controls",
      "_model_module_version": "1.5.0",
      "_model_name": "HTMLModel",
      "_view_count": null,
      "_view_module": "@jupyter-widgets/controls",
      "_view_module_version": "1.5.0",
      "_view_name": "HTMLView",
      "description": "",
      "description_tooltip": null,
      "layout": "IPY_MODEL_39f8ee40c4d248bca4f747f70075eb58",
      "placeholder": "​",
      "style": "IPY_MODEL_311a168df81140aeb2b1fb879a48d300",
      "value": "Downloading (…)cial_tokens_map.json: 100%"
     }
    },
    "f63e8b45f785461b9d0931cbaba61400": {
     "model_module": "@jupyter-widgets/controls",
     "model_module_version": "1.5.0",
     "model_name": "FloatProgressModel",
     "state": {
      "_dom_classes": [],
      "_model_module": "@jupyter-widgets/controls",
      "_model_module_version": "1.5.0",
      "_model_name": "FloatProgressModel",
      "_view_count": null,
      "_view_module": "@jupyter-widgets/controls",
      "_view_module_version": "1.5.0",
      "_view_name": "ProgressView",
      "bar_style": "success",
      "description": "",
      "description_tooltip": null,
      "layout": "IPY_MODEL_ab39e3a0743c4da29f52ac9e6babad30",
      "max": 438033929,
      "min": 0,
      "orientation": "horizontal",
      "style": "IPY_MODEL_888c38a1fd2b46509bc818bcbcf456ce",
      "value": 438033929
     }
    },
    "f770c47e24904b7db543e71e9519df4f": {
     "model_module": "@jupyter-widgets/controls",
     "model_module_version": "1.5.0",
     "model_name": "HTMLModel",
     "state": {
      "_dom_classes": [],
      "_model_module": "@jupyter-widgets/controls",
      "_model_module_version": "1.5.0",
      "_model_name": "HTMLModel",
      "_view_count": null,
      "_view_module": "@jupyter-widgets/controls",
      "_view_module_version": "1.5.0",
      "_view_name": "HTMLView",
      "description": "",
      "description_tooltip": null,
      "layout": "IPY_MODEL_c24fbe94e7ba4b87bca9c856f2dde4fa",
      "placeholder": "​",
      "style": "IPY_MODEL_9f0b9d3530e84f5eb141b9577fba288d",
      "value": "Downloading (…)okenizer_config.json: 100%"
     }
    },
    "fbfb809a6f6f4844b1d4ff9dfe66fae9": {
     "model_module": "@jupyter-widgets/controls",
     "model_module_version": "1.5.0",
     "model_name": "ProgressStyleModel",
     "state": {
      "_model_module": "@jupyter-widgets/controls",
      "_model_module_version": "1.5.0",
      "_model_name": "ProgressStyleModel",
      "_view_count": null,
      "_view_module": "@jupyter-widgets/base",
      "_view_module_version": "1.2.0",
      "_view_name": "StyleView",
      "bar_color": null,
      "description_width": ""
     }
    }
   }
  }
 },
 "nbformat": 4,
 "nbformat_minor": 4
}
