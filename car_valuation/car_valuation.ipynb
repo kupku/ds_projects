{
 "cells": [
  {
   "cell_type": "markdown",
   "metadata": {},
   "source": [
    "<a id='start'></a>"
   ]
  },
  {
   "cell_type": "markdown",
   "metadata": {},
   "source": [
    "# Определение стоимости автомобилей"
   ]
  },
  {
   "cell_type": "markdown",
   "metadata": {},
   "source": [
    "Сервис по продаже автомобилей с пробегом разрабатывает приложение для привлечения новых клиентов. В нём можно быстро узнать рыночную стоимость своего автомобиля. В распоряжении исторические данные: технические характеристики, комплектации и цены автомобилей. \n",
    "\n",
    "**Цель исследования:**<br> \n",
    "построить модель для определения стоимости.\n",
    "\n",
    "**Задачи исследования:**\n",
    "1. [Открыть файл и изучить его;](#step1)\n",
    "2. [Провести предварительную обработку данных;](#step2)\n",
    "3. [Подготовить данные для обучения: разделить на выборки, закодировать, отмасштабировать;](#step3)\n",
    "4. [Обучить различные модели, варьируя гиперпараметры;](#step4)\n",
    "5. [Выбрать наилучшую модель;](#step5)\n",
    "6. [Подвести итоги.](#step6)\n",
    "\n",
    "\n",
    "Заказчику важны:\n",
    "\n",
    "- качество предсказания;\n",
    "- скорость предсказания;\n",
    "- время обучения."
   ]
  },
  {
   "cell_type": "markdown",
   "metadata": {},
   "source": [
    "<a id='step1'></a>"
   ]
  },
  {
   "cell_type": "markdown",
   "metadata": {},
   "source": [
    "## Подготовка данных"
   ]
  },
  {
   "cell_type": "markdown",
   "metadata": {},
   "source": [
    "Импорт необходимых библиотек"
   ]
  },
  {
   "cell_type": "code",
   "execution_count": 2,
   "metadata": {},
   "outputs": [],
   "source": [
    "import datetime as dt\n",
    "import lightgbm as lgb\n",
    "import matplotlib.pyplot as plt\n",
    "import numpy as np\n",
    "import pandas as pd\n",
    "\n",
    "from tqdm import tqdm\n",
    "\n",
    "from sklearn.ensemble import RandomForestRegressor\n",
    "from sklearn.metrics import mean_squared_error\n",
    "from sklearn.model_selection import train_test_split\n",
    "from sklearn.preprocessing import StandardScaler\n",
    "from sklearn.preprocessing import OneHotEncoder\n",
    "from sklearn.preprocessing import OrdinalEncoder\n",
    "from sklearn.tree import DecisionTreeRegressor\n",
    "\n",
    "from catboost import CatBoostRegressor"
   ]
  },
  {
   "cell_type": "markdown",
   "metadata": {},
   "source": [
    "Чтение файла с данными"
   ]
  },
  {
   "cell_type": "code",
   "execution_count": 5,
   "metadata": {
    "scrolled": false
   },
   "outputs": [
    {
     "data": {
      "text/html": [
       "<div>\n",
       "<style scoped>\n",
       "    .dataframe tbody tr th:only-of-type {\n",
       "        vertical-align: middle;\n",
       "    }\n",
       "\n",
       "    .dataframe tbody tr th {\n",
       "        vertical-align: top;\n",
       "    }\n",
       "\n",
       "    .dataframe thead th {\n",
       "        text-align: right;\n",
       "    }\n",
       "</style>\n",
       "<table border=\"1\" class=\"dataframe\">\n",
       "  <thead>\n",
       "    <tr style=\"text-align: right;\">\n",
       "      <th></th>\n",
       "      <th>DateCrawled</th>\n",
       "      <th>Price</th>\n",
       "      <th>VehicleType</th>\n",
       "      <th>RegistrationYear</th>\n",
       "      <th>Gearbox</th>\n",
       "      <th>Power</th>\n",
       "      <th>Model</th>\n",
       "      <th>Kilometer</th>\n",
       "      <th>RegistrationMonth</th>\n",
       "      <th>FuelType</th>\n",
       "      <th>Brand</th>\n",
       "      <th>Repaired</th>\n",
       "      <th>DateCreated</th>\n",
       "      <th>NumberOfPictures</th>\n",
       "      <th>PostalCode</th>\n",
       "      <th>LastSeen</th>\n",
       "    </tr>\n",
       "  </thead>\n",
       "  <tbody>\n",
       "    <tr>\n",
       "      <th>0</th>\n",
       "      <td>2016-03-24 11:52:17</td>\n",
       "      <td>480</td>\n",
       "      <td>NaN</td>\n",
       "      <td>1993</td>\n",
       "      <td>manual</td>\n",
       "      <td>0</td>\n",
       "      <td>golf</td>\n",
       "      <td>150000</td>\n",
       "      <td>0</td>\n",
       "      <td>petrol</td>\n",
       "      <td>volkswagen</td>\n",
       "      <td>NaN</td>\n",
       "      <td>2016-03-24 00:00:00</td>\n",
       "      <td>0</td>\n",
       "      <td>70435</td>\n",
       "      <td>2016-04-07 03:16:57</td>\n",
       "    </tr>\n",
       "    <tr>\n",
       "      <th>1</th>\n",
       "      <td>2016-03-24 10:58:45</td>\n",
       "      <td>18300</td>\n",
       "      <td>coupe</td>\n",
       "      <td>2011</td>\n",
       "      <td>manual</td>\n",
       "      <td>190</td>\n",
       "      <td>NaN</td>\n",
       "      <td>125000</td>\n",
       "      <td>5</td>\n",
       "      <td>gasoline</td>\n",
       "      <td>audi</td>\n",
       "      <td>yes</td>\n",
       "      <td>2016-03-24 00:00:00</td>\n",
       "      <td>0</td>\n",
       "      <td>66954</td>\n",
       "      <td>2016-04-07 01:46:50</td>\n",
       "    </tr>\n",
       "    <tr>\n",
       "      <th>2</th>\n",
       "      <td>2016-03-14 12:52:21</td>\n",
       "      <td>9800</td>\n",
       "      <td>suv</td>\n",
       "      <td>2004</td>\n",
       "      <td>auto</td>\n",
       "      <td>163</td>\n",
       "      <td>grand</td>\n",
       "      <td>125000</td>\n",
       "      <td>8</td>\n",
       "      <td>gasoline</td>\n",
       "      <td>jeep</td>\n",
       "      <td>NaN</td>\n",
       "      <td>2016-03-14 00:00:00</td>\n",
       "      <td>0</td>\n",
       "      <td>90480</td>\n",
       "      <td>2016-04-05 12:47:46</td>\n",
       "    </tr>\n",
       "    <tr>\n",
       "      <th>3</th>\n",
       "      <td>2016-03-17 16:54:04</td>\n",
       "      <td>1500</td>\n",
       "      <td>small</td>\n",
       "      <td>2001</td>\n",
       "      <td>manual</td>\n",
       "      <td>75</td>\n",
       "      <td>golf</td>\n",
       "      <td>150000</td>\n",
       "      <td>6</td>\n",
       "      <td>petrol</td>\n",
       "      <td>volkswagen</td>\n",
       "      <td>no</td>\n",
       "      <td>2016-03-17 00:00:00</td>\n",
       "      <td>0</td>\n",
       "      <td>91074</td>\n",
       "      <td>2016-03-17 17:40:17</td>\n",
       "    </tr>\n",
       "    <tr>\n",
       "      <th>4</th>\n",
       "      <td>2016-03-31 17:25:20</td>\n",
       "      <td>3600</td>\n",
       "      <td>small</td>\n",
       "      <td>2008</td>\n",
       "      <td>manual</td>\n",
       "      <td>69</td>\n",
       "      <td>fabia</td>\n",
       "      <td>90000</td>\n",
       "      <td>7</td>\n",
       "      <td>gasoline</td>\n",
       "      <td>skoda</td>\n",
       "      <td>no</td>\n",
       "      <td>2016-03-31 00:00:00</td>\n",
       "      <td>0</td>\n",
       "      <td>60437</td>\n",
       "      <td>2016-04-06 10:17:21</td>\n",
       "    </tr>\n",
       "    <tr>\n",
       "      <th>5</th>\n",
       "      <td>2016-04-04 17:36:23</td>\n",
       "      <td>650</td>\n",
       "      <td>sedan</td>\n",
       "      <td>1995</td>\n",
       "      <td>manual</td>\n",
       "      <td>102</td>\n",
       "      <td>3er</td>\n",
       "      <td>150000</td>\n",
       "      <td>10</td>\n",
       "      <td>petrol</td>\n",
       "      <td>bmw</td>\n",
       "      <td>yes</td>\n",
       "      <td>2016-04-04 00:00:00</td>\n",
       "      <td>0</td>\n",
       "      <td>33775</td>\n",
       "      <td>2016-04-06 19:17:07</td>\n",
       "    </tr>\n",
       "    <tr>\n",
       "      <th>6</th>\n",
       "      <td>2016-04-01 20:48:51</td>\n",
       "      <td>2200</td>\n",
       "      <td>convertible</td>\n",
       "      <td>2004</td>\n",
       "      <td>manual</td>\n",
       "      <td>109</td>\n",
       "      <td>2_reihe</td>\n",
       "      <td>150000</td>\n",
       "      <td>8</td>\n",
       "      <td>petrol</td>\n",
       "      <td>peugeot</td>\n",
       "      <td>no</td>\n",
       "      <td>2016-04-01 00:00:00</td>\n",
       "      <td>0</td>\n",
       "      <td>67112</td>\n",
       "      <td>2016-04-05 18:18:39</td>\n",
       "    </tr>\n",
       "    <tr>\n",
       "      <th>7</th>\n",
       "      <td>2016-03-21 18:54:38</td>\n",
       "      <td>0</td>\n",
       "      <td>sedan</td>\n",
       "      <td>1980</td>\n",
       "      <td>manual</td>\n",
       "      <td>50</td>\n",
       "      <td>other</td>\n",
       "      <td>40000</td>\n",
       "      <td>7</td>\n",
       "      <td>petrol</td>\n",
       "      <td>volkswagen</td>\n",
       "      <td>no</td>\n",
       "      <td>2016-03-21 00:00:00</td>\n",
       "      <td>0</td>\n",
       "      <td>19348</td>\n",
       "      <td>2016-03-25 16:47:58</td>\n",
       "    </tr>\n",
       "    <tr>\n",
       "      <th>8</th>\n",
       "      <td>2016-04-04 23:42:13</td>\n",
       "      <td>14500</td>\n",
       "      <td>bus</td>\n",
       "      <td>2014</td>\n",
       "      <td>manual</td>\n",
       "      <td>125</td>\n",
       "      <td>c_max</td>\n",
       "      <td>30000</td>\n",
       "      <td>8</td>\n",
       "      <td>petrol</td>\n",
       "      <td>ford</td>\n",
       "      <td>NaN</td>\n",
       "      <td>2016-04-04 00:00:00</td>\n",
       "      <td>0</td>\n",
       "      <td>94505</td>\n",
       "      <td>2016-04-04 23:42:13</td>\n",
       "    </tr>\n",
       "    <tr>\n",
       "      <th>9</th>\n",
       "      <td>2016-03-17 10:53:50</td>\n",
       "      <td>999</td>\n",
       "      <td>small</td>\n",
       "      <td>1998</td>\n",
       "      <td>manual</td>\n",
       "      <td>101</td>\n",
       "      <td>golf</td>\n",
       "      <td>150000</td>\n",
       "      <td>0</td>\n",
       "      <td>NaN</td>\n",
       "      <td>volkswagen</td>\n",
       "      <td>NaN</td>\n",
       "      <td>2016-03-17 00:00:00</td>\n",
       "      <td>0</td>\n",
       "      <td>27472</td>\n",
       "      <td>2016-03-31 17:17:06</td>\n",
       "    </tr>\n",
       "  </tbody>\n",
       "</table>\n",
       "</div>"
      ],
      "text/plain": [
       "           DateCrawled  Price  VehicleType  RegistrationYear Gearbox  Power  \\\n",
       "0  2016-03-24 11:52:17    480          NaN              1993  manual      0   \n",
       "1  2016-03-24 10:58:45  18300        coupe              2011  manual    190   \n",
       "2  2016-03-14 12:52:21   9800          suv              2004    auto    163   \n",
       "3  2016-03-17 16:54:04   1500        small              2001  manual     75   \n",
       "4  2016-03-31 17:25:20   3600        small              2008  manual     69   \n",
       "5  2016-04-04 17:36:23    650        sedan              1995  manual    102   \n",
       "6  2016-04-01 20:48:51   2200  convertible              2004  manual    109   \n",
       "7  2016-03-21 18:54:38      0        sedan              1980  manual     50   \n",
       "8  2016-04-04 23:42:13  14500          bus              2014  manual    125   \n",
       "9  2016-03-17 10:53:50    999        small              1998  manual    101   \n",
       "\n",
       "     Model  Kilometer  RegistrationMonth  FuelType       Brand Repaired  \\\n",
       "0     golf     150000                  0    petrol  volkswagen      NaN   \n",
       "1      NaN     125000                  5  gasoline        audi      yes   \n",
       "2    grand     125000                  8  gasoline        jeep      NaN   \n",
       "3     golf     150000                  6    petrol  volkswagen       no   \n",
       "4    fabia      90000                  7  gasoline       skoda       no   \n",
       "5      3er     150000                 10    petrol         bmw      yes   \n",
       "6  2_reihe     150000                  8    petrol     peugeot       no   \n",
       "7    other      40000                  7    petrol  volkswagen       no   \n",
       "8    c_max      30000                  8    petrol        ford      NaN   \n",
       "9     golf     150000                  0       NaN  volkswagen      NaN   \n",
       "\n",
       "           DateCreated  NumberOfPictures  PostalCode             LastSeen  \n",
       "0  2016-03-24 00:00:00                 0       70435  2016-04-07 03:16:57  \n",
       "1  2016-03-24 00:00:00                 0       66954  2016-04-07 01:46:50  \n",
       "2  2016-03-14 00:00:00                 0       90480  2016-04-05 12:47:46  \n",
       "3  2016-03-17 00:00:00                 0       91074  2016-03-17 17:40:17  \n",
       "4  2016-03-31 00:00:00                 0       60437  2016-04-06 10:17:21  \n",
       "5  2016-04-04 00:00:00                 0       33775  2016-04-06 19:17:07  \n",
       "6  2016-04-01 00:00:00                 0       67112  2016-04-05 18:18:39  \n",
       "7  2016-03-21 00:00:00                 0       19348  2016-03-25 16:47:58  \n",
       "8  2016-04-04 00:00:00                 0       94505  2016-04-04 23:42:13  \n",
       "9  2016-03-17 00:00:00                 0       27472  2016-03-31 17:17:06  "
      ]
     },
     "execution_count": 5,
     "metadata": {},
     "output_type": "execute_result"
    }
   ],
   "source": [
    "data_initial = pd.read_csv('autos.csv')\n",
    "data_initial.head(10)"
   ]
  },
  {
   "cell_type": "markdown",
   "metadata": {},
   "source": [
    "**Имеем дело с признаками:**<br> \n",
    "DateCrawled — дата скачивания анкеты из базы - не влияет на целевой признак<br>\n",
    "VehicleType — тип автомобильного кузова<br> \n",
    "RegistrationYear — год регистрации автомобиля - дает представление о возрасте автомобиля<br> \n",
    "Gearbox — тип коробки передач<br> \n",
    "Power — мощность (л. с.)<br> \n",
    "Model — модель автомобиля<br> \n",
    "Kilometer — пробег (км)<br> \n",
    "RegistrationMonth — месяц регистрации автомобиля - не влияет на целевой признак<br> \n",
    "FuelType — тип топлива<br> \n",
    "Brand — марка автомобиля<br> \n",
    "Repaired — была машина в ремонте или нет<br> \n",
    "DateCreated — дата создания анкеты - позволит оценить давно ли размещено объвление<br>\n",
    "NumberOfPictures — количество фотографий автомобиля - не влияет на целевой признак<br>\n",
    "PostalCode — почтовый индекс владельца анкеты (пользователя) - не влияет на целевой признак<br> \n",
    "LastSeen — дата последней активности пользователя - не влияет на целевой признак<br> \n",
    "\n",
    "\n",
    "**Целевой признак:**<br>\n",
    "Price — цена (евро)"
   ]
  },
  {
   "cell_type": "markdown",
   "metadata": {},
   "source": [
    "Исследование пропусков и типов данных"
   ]
  },
  {
   "cell_type": "code",
   "execution_count": 6,
   "metadata": {
    "scrolled": true
   },
   "outputs": [
    {
     "name": "stdout",
     "output_type": "stream",
     "text": [
      "<class 'pandas.core.frame.DataFrame'>\n",
      "RangeIndex: 354369 entries, 0 to 354368\n",
      "Data columns (total 16 columns):\n",
      " #   Column             Non-Null Count   Dtype \n",
      "---  ------             --------------   ----- \n",
      " 0   DateCrawled        354369 non-null  object\n",
      " 1   Price              354369 non-null  int64 \n",
      " 2   VehicleType        316879 non-null  object\n",
      " 3   RegistrationYear   354369 non-null  int64 \n",
      " 4   Gearbox            334536 non-null  object\n",
      " 5   Power              354369 non-null  int64 \n",
      " 6   Model              334664 non-null  object\n",
      " 7   Kilometer          354369 non-null  int64 \n",
      " 8   RegistrationMonth  354369 non-null  int64 \n",
      " 9   FuelType           321474 non-null  object\n",
      " 10  Brand              354369 non-null  object\n",
      " 11  Repaired           283215 non-null  object\n",
      " 12  DateCreated        354369 non-null  object\n",
      " 13  NumberOfPictures   354369 non-null  int64 \n",
      " 14  PostalCode         354369 non-null  int64 \n",
      " 15  LastSeen           354369 non-null  object\n",
      "dtypes: int64(7), object(9)\n",
      "memory usage: 43.3+ MB\n"
     ]
    }
   ],
   "source": [
    "data_initial.info()"
   ]
  },
  {
   "cell_type": "markdown",
   "metadata": {},
   "source": [
    "В столбце \"Repaired\" есть большое количество пропусков, в остальных столбцах пропусков не так много. "
   ]
  },
  {
   "cell_type": "markdown",
   "metadata": {},
   "source": [
    "Посмотрим на распределение значений в некоторых столбцах"
   ]
  },
  {
   "cell_type": "code",
   "execution_count": 7,
   "metadata": {},
   "outputs": [
    {
     "data": {
      "text/plain": [
       "array([[<AxesSubplot:title={'center':'Price'}>,\n",
       "        <AxesSubplot:title={'center':'RegistrationYear'}>,\n",
       "        <AxesSubplot:title={'center':'Power'}>],\n",
       "       [<AxesSubplot:title={'center':'Kilometer'}>,\n",
       "        <AxesSubplot:title={'center':'RegistrationMonth'}>,\n",
       "        <AxesSubplot:title={'center':'NumberOfPictures'}>],\n",
       "       [<AxesSubplot:title={'center':'PostalCode'}>, <AxesSubplot:>,\n",
       "        <AxesSubplot:>]], dtype=object)"
      ]
     },
     "execution_count": 7,
     "metadata": {},
     "output_type": "execute_result"
    },
    {
     "data": {
      "image/png": "[encoded data removed]",
      "text/plain": [
       "<Figure size 1080x504 with 9 Axes>"
      ]
     },
     "metadata": {
      "needs_background": "light"
     },
     "output_type": "display_data"
    }
   ],
   "source": [
    "data_initial.hist(bins=48, figsize=(15,7))"
   ]
  },
  {
   "cell_type": "markdown",
   "metadata": {},
   "source": [
    "Вопросы вызывают столбцы \"RegistrationYear\" и \"Power\": видно, что есть аномалии."
   ]
  },
  {
   "cell_type": "markdown",
   "metadata": {},
   "source": [
    "<a id='step2'></a>"
   ]
  },
  {
   "cell_type": "markdown",
   "metadata": {},
   "source": [
    "Посмотрим, есть ли дубликаты в данных"
   ]
  },
  {
   "cell_type": "code",
   "execution_count": 8,
   "metadata": {
    "scrolled": false
   },
   "outputs": [
    {
     "data": {
      "text/plain": [
       "4"
      ]
     },
     "execution_count": 8,
     "metadata": {},
     "output_type": "execute_result"
    }
   ],
   "source": [
    "data_initial.duplicated().sum()"
   ]
  },
  {
   "cell_type": "markdown",
   "metadata": {},
   "source": [
    "Есть повторяющиеся объекты, удалим их."
   ]
  },
  {
   "cell_type": "markdown",
   "metadata": {},
   "source": [
    "Для редакирования данных создадим новую переменную."
   ]
  },
  {
   "cell_type": "code",
   "execution_count": 9,
   "metadata": {},
   "outputs": [],
   "source": [
    "data = data_initial.copy()"
   ]
  },
  {
   "cell_type": "code",
   "execution_count": 10,
   "metadata": {},
   "outputs": [],
   "source": [
    "data = data.drop_duplicates().reset_index(drop=True)"
   ]
  },
  {
   "cell_type": "markdown",
   "metadata": {},
   "source": [
    "Взглянем на уникальные значения столбца \"RegistrationYear\""
   ]
  },
  {
   "cell_type": "code",
   "execution_count": 11,
   "metadata": {},
   "outputs": [
    {
     "data": {
      "text/plain": [
       "array([1000, 1001, 1039, 1111, 1200, 1234, 1253, 1255, 1300, 1400, 1500,\n",
       "       1600, 1602, 1688, 1800, 1910, 1915, 1919, 1920, 1923, 1925, 1927,\n",
       "       1928, 1929, 1930, 1931, 1932, 1933, 1934, 1935, 1936, 1937, 1938,\n",
       "       1940, 1941, 1942, 1943, 1944, 1945, 1946, 1947, 1948, 1949, 1950,\n",
       "       1951, 1952, 1953, 1954, 1955, 1956, 1957, 1958, 1959, 1960, 1961,\n",
       "       1962, 1963, 1964, 1965, 1966, 1967, 1968, 1969, 1970, 1971, 1972,\n",
       "       1973, 1974, 1975, 1976, 1977, 1978, 1979, 1980, 1981, 1982, 1983,\n",
       "       1984, 1985, 1986, 1987, 1988, 1989, 1990, 1991, 1992, 1993, 1994,\n",
       "       1995, 1996, 1997, 1998, 1999, 2000, 2001, 2002, 2003, 2004, 2005,\n",
       "       2006, 2007, 2008, 2009, 2010, 2011, 2012, 2013, 2014, 2015, 2016,\n",
       "       2017, 2018, 2019, 2066, 2200, 2222, 2290, 2500, 2800, 2900, 3000,\n",
       "       3200, 3500, 3700, 3800, 4000, 4100, 4500, 4800, 5000, 5300, 5555,\n",
       "       5600, 5900, 5911, 6000, 6500, 7000, 7100, 7500, 7800, 8000, 8200,\n",
       "       8455, 8500, 8888, 9000, 9229, 9450, 9996, 9999], dtype=int64)"
      ]
     },
     "execution_count": 11,
     "metadata": {},
     "output_type": "execute_result"
    }
   ],
   "source": [
    "data['RegistrationYear'].sort_values().unique()"
   ]
  },
  {
   "cell_type": "markdown",
   "metadata": {},
   "source": [
    "Явно здесь присутствуют ошибки. Оставим данные за вторую половину прошлого века и до настоящего времени, остальное удалим, если таких данных немного."
   ]
  },
  {
   "cell_type": "code",
   "execution_count": 12,
   "metadata": {},
   "outputs": [
    {
     "data": {
      "text/plain": [
       "351"
      ]
     },
     "execution_count": 12,
     "metadata": {},
     "output_type": "execute_result"
    }
   ],
   "source": [
    "len(data.loc[(data['RegistrationYear'] > 2019) | (data['RegistrationYear'] < 1950)])"
   ]
  },
  {
   "cell_type": "markdown",
   "metadata": {},
   "source": [
    "Данных немного, смело удаляем."
   ]
  },
  {
   "cell_type": "code",
   "execution_count": 13,
   "metadata": {},
   "outputs": [],
   "source": [
    "data = data.loc[(data['RegistrationYear'] <= 2019) & (data['RegistrationYear'] >= 1950)]"
   ]
  },
  {
   "cell_type": "markdown",
   "metadata": {},
   "source": [
    "Посмотрим на уникальные значения столбца \"Power\""
   ]
  },
  {
   "cell_type": "code",
   "execution_count": 14,
   "metadata": {
    "scrolled": true
   },
   "outputs": [
    {
     "data": {
      "text/plain": [
       "array([    0,     1,     2,     3,     4,     5,     6,     7,     8,\n",
       "           9,    10,    11,    12,    13,    14,    15,    16,    17,\n",
       "          18,    19,    20,    21,    22,    23,    24,    25,    26,\n",
       "          27,    28,    29,    30,    31,    32,    33,    34,    35,\n",
       "          36,    37,    38,    39,    40,    41,    42,    43,    44,\n",
       "          45,    46,    47,    48,    49,    50,    51,    52,    53,\n",
       "          54,    55,    56,    57,    58,    59,    60,    61,    62,\n",
       "          63,    64,    65,    66,    67,    68,    69,    70,    71,\n",
       "          72,    73,    74,    75,    76,    77,    78,    79,    80,\n",
       "          81,    82,    83,    84,    85,    86,    87,    88,    89,\n",
       "          90,    91,    92,    93,    94,    95,    96,    97,    98,\n",
       "          99,   100,   101,   102,   103,   104,   105,   106,   107,\n",
       "         108,   109,   110,   111,   112,   113,   114,   115,   116,\n",
       "         117,   118,   119,   120,   121,   122,   123,   124,   125,\n",
       "         126,   127,   128,   129,   130,   131,   132,   133,   134,\n",
       "         135,   136,   137,   138,   139,   140,   141,   142,   143,\n",
       "         144,   145,   146,   147,   148,   149,   150,   151,   152,\n",
       "         153,   154,   155,   156,   157,   158,   159,   160,   161,\n",
       "         162,   163,   164,   165,   166,   167,   168,   169,   170,\n",
       "         171,   172,   173,   174,   175,   176,   177,   178,   179,\n",
       "         180,   181,   182,   183,   184,   185,   186,   187,   188,\n",
       "         189,   190,   191,   192,   193,   194,   195,   196,   197,\n",
       "         198,   199,   200,   201,   202,   203,   204,   205,   206,\n",
       "         207,   208,   209,   210,   211,   212,   213,   214,   215,\n",
       "         216,   217,   218,   219,   220,   221,   222,   223,   224,\n",
       "         225,   226,   227,   228,   229,   230,   231,   232,   233,\n",
       "         234,   235,   236,   237,   238,   239,   240,   241,   242,\n",
       "         243,   244,   245,   246,   247,   248,   249,   250,   251,\n",
       "         252,   253,   254,   255,   256,   257,   258,   259,   260,\n",
       "         261,   262,   264,   265,   266,   267,   268,   269,   270,\n",
       "         271,   272,   273,   274,   275,   276,   277,   278,   279,\n",
       "         280,   281,   282,   283,   284,   285,   286,   287,   288,\n",
       "         289,   290,   292,   293,   294,   295,   296,   297,   298,\n",
       "         299,   300,   301,   303,   304,   305,   306,   307,   308,\n",
       "         309,   310,   311,   313,   314,   315,   316,   317,   318,\n",
       "         320,   321,   322,   323,   324,   325,   326,   327,   328,\n",
       "         329,   330,   331,   332,   333,   334,   335,   336,   337,\n",
       "         338,   339,   340,   341,   343,   344,   345,   346,   347,\n",
       "         348,   349,   350,   351,   352,   353,   354,   355,   356,\n",
       "         357,   358,   360,   361,   362,   363,   364,   365,   367,\n",
       "         368,   370,   371,   374,   375,   376,   377,   379,   380,\n",
       "         381,   382,   385,   386,   387,   388,   390,   392,   394,\n",
       "         396,   398,   399,   400,   401,   402,   405,   408,   409,\n",
       "         411,   416,   420,   421,   425,   426,   428,   430,   431,\n",
       "         435,   440,   442,   445,   449,   450,   454,   457,   459,\n",
       "         460,   475,   476,   485,   487,   489,   490,   500,   504,\n",
       "         505,   507,   508,   510,   514,   515,   517,   519,   520,\n",
       "         521,   525,   530,   540,   541,   544,   550,   551,   553,\n",
       "         560,   572,   574,   579,   580,   584,   585,   599,   600,\n",
       "         601,   602,   603,   604,   606,   607,   610,   612,   620,\n",
       "         640,   645,   650,   651,   671,   678,   682,   685,   696,\n",
       "         700,   702,   703,   732,   743,   750,   751,   754,   771,\n",
       "         776,   800,   805,   808,   850,   851,   871,   900,   901,\n",
       "         902,   903,   907,   909,   923,   950,   952,   953,   960,\n",
       "         998,   999,  1000,  1001,  1002,  1003,  1004,  1005,  1011,\n",
       "        1012,  1016,  1017,  1021,  1024,  1054,  1055,  1056,  1062,\n",
       "        1079,  1082,  1090,  1100,  1102,  1103,  1105,  1111,  1115,\n",
       "        1120,  1149,  1151,  1158,  1160,  1162,  1164,  1199,  1200,\n",
       "        1202,  1221,  1223,  1230,  1239,  1240,  1241,  1250,  1252,\n",
       "        1256,  1275,  1288,  1299,  1300,  1312,  1317,  1324,  1339,\n",
       "        1351,  1360,  1362,  1363,  1367,  1390,  1394,  1398,  1399,\n",
       "        1400,  1401,  1403,  1405,  1416,  1432,  1433,  1436,  1500,\n",
       "        1501,  1502,  1503,  1506,  1521,  1548,  1595,  1596,  1597,\n",
       "        1598,  1600,  1625,  1631,  1653,  1659,  1689,  1700,  1701,\n",
       "        1703,  1704,  1707,  1753,  1771,  1779,  1780,  1781,  1783,\n",
       "        1793,  1796,  1799,  1800,  1801,  1870,  1895,  1896,  1900,\n",
       "        1910,  1920,  1922,  1933,  1937,  1968,  1986,  1988,  1992,\n",
       "        1993,  1995,  1998,  1999,  2000,  2004,  2005,  2007,  2009,\n",
       "        2016,  2017,  2018,  2172,  2200,  2201,  2331,  2340,  2389,\n",
       "        2402,  2461,  2598,  2729,  2789,  2792,  2799,  3199,  3454,\n",
       "        3500,  3750,  4400,  4507,  4700,  5000,  5411,  5420,  5575,\n",
       "        5809,  5815,  5867,  6006,  6010,  6011,  6012,  6018,  6045,\n",
       "        6062,  6226,  6512,  6920,  7508,  7511,  7512,  7515,  7518,\n",
       "        7529,  7544,  8011,  8259,  8404,  8500,  9000,  9007,  9010,\n",
       "        9011,  9012,  9013,  9710, 10000, 10110, 10218, 10311, 10317,\n",
       "       10520, 10522, 10710, 10910, 10912, 11011, 11025, 11111, 11509,\n",
       "       11530, 11635, 12012, 12510, 12512, 12684, 13616, 13636, 14009,\n",
       "       15001, 15016, 15017, 15020, 15033, 16011, 16051, 16311, 16312,\n",
       "       17011, 17019, 17410, 17700, 17932, 19208, 19211, 19312, 20000],\n",
       "      dtype=int64)"
      ]
     },
     "execution_count": 14,
     "metadata": {},
     "output_type": "execute_result"
    }
   ],
   "source": [
    "data['Power'].sort_values().unique()"
   ]
  },
  {
   "cell_type": "code",
   "execution_count": 15,
   "metadata": {
    "scrolled": false
   },
   "outputs": [
    {
     "data": {
      "text/plain": [
       "0        39971\n",
       "75       24020\n",
       "60       15894\n",
       "150      14589\n",
       "101      13298\n",
       "         ...  \n",
       "1202         1\n",
       "1221         1\n",
       "1223         1\n",
       "1230         1\n",
       "20000        1\n",
       "Name: Power, Length: 711, dtype: int64"
      ]
     },
     "execution_count": 15,
     "metadata": {},
     "output_type": "execute_result"
    }
   ],
   "source": [
    "data['Power'].sort_values().value_counts()"
   ]
  },
  {
   "cell_type": "markdown",
   "metadata": {},
   "source": [
    "Здесь также заметны аномальные значения: одних только автомобилей с мощностью двигателя 0 л.с. больше 40 тысяч. Помимо этого есть автомобили с мощностью двигателя более 1000 л.с., хотя при исследовании данных гиперкаров обнаружено не было. Для автомобилей с мощностью двигателя более 1000 л.с. скорее всего предполагались значения на порядок меньше, для автомобилей с мощностью двигателя более 10000 л.с., соответственно, предполагались значения на два порядка меньше. Изменим эти значения поделив их на 10 и на 100. Значения для мощности меньше 10 л.с. заменим на медианные."
   ]
  },
  {
   "cell_type": "code",
   "execution_count": 16,
   "metadata": {},
   "outputs": [],
   "source": [
    "data.loc[(data['Power'] >= 1000), 'Power'] = data['Power'] / 10\n",
    "data.loc[(data['Power'] >= 10000), 'Power'] = data['Power'] / 100"
   ]
  },
  {
   "cell_type": "code",
   "execution_count": 17,
   "metadata": {},
   "outputs": [
    {
     "data": {
      "text/plain": [
       "40188"
      ]
     },
     "execution_count": 17,
     "metadata": {},
     "output_type": "execute_result"
    }
   ],
   "source": [
    "len(data.loc[data['Power'] < 10])"
   ]
  },
  {
   "cell_type": "code",
   "execution_count": 18,
   "metadata": {},
   "outputs": [],
   "source": [
    "data.loc[data['Power'] < 10, 'Power'] = None\n",
    "data['Power'] = data['Power'].fillna(data.groupby('Model')['Power'].transform('median'))\n",
    "data = data.loc[~data['Power'].isna()]\n",
    "data['Power'] = data['Power'].astype('int64')"
   ]
  },
  {
   "cell_type": "markdown",
   "metadata": {},
   "source": [
    "В данных встречаются автомобили с мощностью 0, вряд ли продавцы указывают мощность 0, если хотят продать машину без двигателя, думаю тут другая причина кроется. Вероятно, для таких автомобилей должна быть отдельная категория."
   ]
  },
  {
   "cell_type": "markdown",
   "metadata": {},
   "source": [
    "Вероятно, на цену автомобиля может то, насколько давно объявление было выложено, относительно сегодняшнего дня. Создадим соответствующий столбец."
   ]
  },
  {
   "cell_type": "code",
   "execution_count": 19,
   "metadata": {},
   "outputs": [],
   "source": [
    "data['DaysPublished'] = (dt.datetime.now() - pd.to_datetime(data['DateCreated'])).dt.days"
   ]
  },
  {
   "cell_type": "code",
   "execution_count": 20,
   "metadata": {
    "scrolled": true
   },
   "outputs": [
    {
     "data": {
      "text/html": [
       "<div>\n",
       "<style scoped>\n",
       "    .dataframe tbody tr th:only-of-type {\n",
       "        vertical-align: middle;\n",
       "    }\n",
       "\n",
       "    .dataframe tbody tr th {\n",
       "        vertical-align: top;\n",
       "    }\n",
       "\n",
       "    .dataframe thead th {\n",
       "        text-align: right;\n",
       "    }\n",
       "</style>\n",
       "<table border=\"1\" class=\"dataframe\">\n",
       "  <thead>\n",
       "    <tr style=\"text-align: right;\">\n",
       "      <th></th>\n",
       "      <th>DateCrawled</th>\n",
       "      <th>Price</th>\n",
       "      <th>VehicleType</th>\n",
       "      <th>RegistrationYear</th>\n",
       "      <th>Gearbox</th>\n",
       "      <th>Power</th>\n",
       "      <th>Model</th>\n",
       "      <th>Kilometer</th>\n",
       "      <th>RegistrationMonth</th>\n",
       "      <th>FuelType</th>\n",
       "      <th>Brand</th>\n",
       "      <th>Repaired</th>\n",
       "      <th>DateCreated</th>\n",
       "      <th>NumberOfPictures</th>\n",
       "      <th>PostalCode</th>\n",
       "      <th>LastSeen</th>\n",
       "      <th>DaysPublished</th>\n",
       "    </tr>\n",
       "  </thead>\n",
       "  <tbody>\n",
       "    <tr>\n",
       "      <th>0</th>\n",
       "      <td>2016-03-24 11:52:17</td>\n",
       "      <td>480</td>\n",
       "      <td>NaN</td>\n",
       "      <td>1993</td>\n",
       "      <td>manual</td>\n",
       "      <td>101</td>\n",
       "      <td>golf</td>\n",
       "      <td>150000</td>\n",
       "      <td>0</td>\n",
       "      <td>petrol</td>\n",
       "      <td>volkswagen</td>\n",
       "      <td>NaN</td>\n",
       "      <td>2016-03-24 00:00:00</td>\n",
       "      <td>0</td>\n",
       "      <td>70435</td>\n",
       "      <td>2016-04-07 03:16:57</td>\n",
       "      <td>2669</td>\n",
       "    </tr>\n",
       "    <tr>\n",
       "      <th>1</th>\n",
       "      <td>2016-03-24 10:58:45</td>\n",
       "      <td>18300</td>\n",
       "      <td>coupe</td>\n",
       "      <td>2011</td>\n",
       "      <td>manual</td>\n",
       "      <td>190</td>\n",
       "      <td>NaN</td>\n",
       "      <td>125000</td>\n",
       "      <td>5</td>\n",
       "      <td>gasoline</td>\n",
       "      <td>audi</td>\n",
       "      <td>yes</td>\n",
       "      <td>2016-03-24 00:00:00</td>\n",
       "      <td>0</td>\n",
       "      <td>66954</td>\n",
       "      <td>2016-04-07 01:46:50</td>\n",
       "      <td>2669</td>\n",
       "    </tr>\n",
       "    <tr>\n",
       "      <th>2</th>\n",
       "      <td>2016-03-14 12:52:21</td>\n",
       "      <td>9800</td>\n",
       "      <td>suv</td>\n",
       "      <td>2004</td>\n",
       "      <td>auto</td>\n",
       "      <td>163</td>\n",
       "      <td>grand</td>\n",
       "      <td>125000</td>\n",
       "      <td>8</td>\n",
       "      <td>gasoline</td>\n",
       "      <td>jeep</td>\n",
       "      <td>NaN</td>\n",
       "      <td>2016-03-14 00:00:00</td>\n",
       "      <td>0</td>\n",
       "      <td>90480</td>\n",
       "      <td>2016-04-05 12:47:46</td>\n",
       "      <td>2679</td>\n",
       "    </tr>\n",
       "    <tr>\n",
       "      <th>3</th>\n",
       "      <td>2016-03-17 16:54:04</td>\n",
       "      <td>1500</td>\n",
       "      <td>small</td>\n",
       "      <td>2001</td>\n",
       "      <td>manual</td>\n",
       "      <td>75</td>\n",
       "      <td>golf</td>\n",
       "      <td>150000</td>\n",
       "      <td>6</td>\n",
       "      <td>petrol</td>\n",
       "      <td>volkswagen</td>\n",
       "      <td>no</td>\n",
       "      <td>2016-03-17 00:00:00</td>\n",
       "      <td>0</td>\n",
       "      <td>91074</td>\n",
       "      <td>2016-03-17 17:40:17</td>\n",
       "      <td>2676</td>\n",
       "    </tr>\n",
       "    <tr>\n",
       "      <th>4</th>\n",
       "      <td>2016-03-31 17:25:20</td>\n",
       "      <td>3600</td>\n",
       "      <td>small</td>\n",
       "      <td>2008</td>\n",
       "      <td>manual</td>\n",
       "      <td>69</td>\n",
       "      <td>fabia</td>\n",
       "      <td>90000</td>\n",
       "      <td>7</td>\n",
       "      <td>gasoline</td>\n",
       "      <td>skoda</td>\n",
       "      <td>no</td>\n",
       "      <td>2016-03-31 00:00:00</td>\n",
       "      <td>0</td>\n",
       "      <td>60437</td>\n",
       "      <td>2016-04-06 10:17:21</td>\n",
       "      <td>2662</td>\n",
       "    </tr>\n",
       "  </tbody>\n",
       "</table>\n",
       "</div>"
      ],
      "text/plain": [
       "           DateCrawled  Price VehicleType  RegistrationYear Gearbox  Power  \\\n",
       "0  2016-03-24 11:52:17    480         NaN              1993  manual    101   \n",
       "1  2016-03-24 10:58:45  18300       coupe              2011  manual    190   \n",
       "2  2016-03-14 12:52:21   9800         suv              2004    auto    163   \n",
       "3  2016-03-17 16:54:04   1500       small              2001  manual     75   \n",
       "4  2016-03-31 17:25:20   3600       small              2008  manual     69   \n",
       "\n",
       "   Model  Kilometer  RegistrationMonth  FuelType       Brand Repaired  \\\n",
       "0   golf     150000                  0    petrol  volkswagen      NaN   \n",
       "1    NaN     125000                  5  gasoline        audi      yes   \n",
       "2  grand     125000                  8  gasoline        jeep      NaN   \n",
       "3   golf     150000                  6    petrol  volkswagen       no   \n",
       "4  fabia      90000                  7  gasoline       skoda       no   \n",
       "\n",
       "           DateCreated  NumberOfPictures  PostalCode             LastSeen  \\\n",
       "0  2016-03-24 00:00:00                 0       70435  2016-04-07 03:16:57   \n",
       "1  2016-03-24 00:00:00                 0       66954  2016-04-07 01:46:50   \n",
       "2  2016-03-14 00:00:00                 0       90480  2016-04-05 12:47:46   \n",
       "3  2016-03-17 00:00:00                 0       91074  2016-03-17 17:40:17   \n",
       "4  2016-03-31 00:00:00                 0       60437  2016-04-06 10:17:21   \n",
       "\n",
       "   DaysPublished  \n",
       "0           2669  \n",
       "1           2669  \n",
       "2           2679  \n",
       "3           2676  \n",
       "4           2662  "
      ]
     },
     "execution_count": 20,
     "metadata": {},
     "output_type": "execute_result"
    }
   ],
   "source": [
    "data.head()"
   ]
  },
  {
   "cell_type": "markdown",
   "metadata": {},
   "source": [
    "Для более простых моделей необходимо заполнить пропуски или удалить их. Создадим датафрейм, с  которым будут работать обычные модели машинного обучения. У датафреймов для обучения простых моделей название оканчивается на _full."
   ]
  },
  {
   "cell_type": "markdown",
   "metadata": {},
   "source": [
    "Посмотрим на количество данных, где не указана модель автомобиля"
   ]
  },
  {
   "cell_type": "code",
   "execution_count": 21,
   "metadata": {},
   "outputs": [
    {
     "data": {
      "text/plain": [
       "13224"
      ]
     },
     "execution_count": 21,
     "metadata": {},
     "output_type": "execute_result"
    }
   ],
   "source": [
    "len(data.loc[data['Model'].isna()])"
   ]
  },
  {
   "cell_type": "markdown",
   "metadata": {},
   "source": [
    "Эти данные также можно удалить"
   ]
  },
  {
   "cell_type": "code",
   "execution_count": 22,
   "metadata": {},
   "outputs": [],
   "source": [
    "data = data.loc[~data['Model'].isna()]"
   ]
  },
  {
   "cell_type": "markdown",
   "metadata": {},
   "source": [
    "Пропуски в 'Gearbox' заменим наиболее частым значением для каждой модели."
   ]
  },
  {
   "cell_type": "code",
   "execution_count": 23,
   "metadata": {
    "scrolled": true
   },
   "outputs": [
    {
     "data": {
      "text/plain": [
       "15597"
      ]
     },
     "execution_count": 23,
     "metadata": {},
     "output_type": "execute_result"
    }
   ],
   "source": [
    "len(data.loc[data['Gearbox'].isna()])"
   ]
  },
  {
   "cell_type": "code",
   "execution_count": 24,
   "metadata": {
    "scrolled": true
   },
   "outputs": [],
   "source": [
    "data['Gearbox'] = data['Gearbox'].fillna(data\n",
    "                                         .groupby('Model')['Gearbox']\n",
    "                                         .transform(lambda x: x.value_counts().idxmax())\n",
    "                                        )"
   ]
  },
  {
   "cell_type": "markdown",
   "metadata": {},
   "source": [
    "Пропуски в 'VehicleType' заменим заглушкой 'unknown'.\n",
    "Пропуски в 'FuelType' заменим наиболее частым значением для каждой модели."
   ]
  },
  {
   "cell_type": "code",
   "execution_count": 25,
   "metadata": {},
   "outputs": [],
   "source": [
    "data['VehicleType'] = data['VehicleType'].fillna('unknown')\n",
    "\n",
    "data['FuelType'] = data['FuelType'].fillna(data\n",
    "                                           .groupby('Model')['FuelType']\n",
    "                                           .transform(lambda x: x.value_counts().idxmax())\n",
    "                                          )"
   ]
  },
  {
   "cell_type": "markdown",
   "metadata": {},
   "source": [
    "Проверим количество пропусков в \"Repaired\"."
   ]
  },
  {
   "cell_type": "code",
   "execution_count": 26,
   "metadata": {},
   "outputs": [
    {
     "data": {
      "text/plain": [
       "61964"
      ]
     },
     "execution_count": 26,
     "metadata": {},
     "output_type": "execute_result"
    }
   ],
   "source": [
    "len(data[data['Repaired'].isna()])"
   ]
  },
  {
   "cell_type": "markdown",
   "metadata": {},
   "source": [
    "Пропусков много. Вероятнее всего, если не было отметки о ремонте, то ремонта автомобиля не было. Заполним пропуски значением \"no\"."
   ]
  },
  {
   "cell_type": "code",
   "execution_count": 27,
   "metadata": {},
   "outputs": [],
   "source": [
    "data['Repaired'].fillna('no', inplace=True)"
   ]
  },
  {
   "cell_type": "code",
   "execution_count": 28,
   "metadata": {},
   "outputs": [
    {
     "data": {
      "text/plain": [
       "array(['petrol', 'gasoline', 'lpg', 'other', 'hybrid', 'cng', 'electric'],\n",
       "      dtype=object)"
      ]
     },
     "execution_count": 28,
     "metadata": {},
     "output_type": "execute_result"
    }
   ],
   "source": [
    "data['FuelType'].unique()"
   ]
  },
  {
   "cell_type": "markdown",
   "metadata": {},
   "source": [
    "В столбце \"FuelType\" есть две категории топлива, означающих одно и то же: petrol и gasoline - это бензин, который в разных странах называют по-разному. Это тоже может нести в себе важную информацию. Например, по этому, вероятно, можно судить о сборке автомобиля: на gasoline будут ездить автомобили, собранные для США, скорость которых на спидометрах будет показываться в милях."
   ]
  },
  {
   "cell_type": "markdown",
   "metadata": {},
   "source": [
    "Посмотрим, остались ли пропуски в датасете для обучения простых моделей"
   ]
  },
  {
   "cell_type": "code",
   "execution_count": 29,
   "metadata": {
    "scrolled": false
   },
   "outputs": [
    {
     "name": "stdout",
     "output_type": "stream",
     "text": [
      "<class 'pandas.core.frame.DataFrame'>\n",
      "Int64Index: 334474 entries, 0 to 354364\n",
      "Data columns (total 17 columns):\n",
      " #   Column             Non-Null Count   Dtype \n",
      "---  ------             --------------   ----- \n",
      " 0   DateCrawled        334474 non-null  object\n",
      " 1   Price              334474 non-null  int64 \n",
      " 2   VehicleType        334474 non-null  object\n",
      " 3   RegistrationYear   334474 non-null  int64 \n",
      " 4   Gearbox            334474 non-null  object\n",
      " 5   Power              334474 non-null  int64 \n",
      " 6   Model              334474 non-null  object\n",
      " 7   Kilometer          334474 non-null  int64 \n",
      " 8   RegistrationMonth  334474 non-null  int64 \n",
      " 9   FuelType           334474 non-null  object\n",
      " 10  Brand              334474 non-null  object\n",
      " 11  Repaired           334474 non-null  object\n",
      " 12  DateCreated        334474 non-null  object\n",
      " 13  NumberOfPictures   334474 non-null  int64 \n",
      " 14  PostalCode         334474 non-null  int64 \n",
      " 15  LastSeen           334474 non-null  object\n",
      " 16  DaysPublished      334474 non-null  int64 \n",
      "dtypes: int64(8), object(9)\n",
      "memory usage: 45.9+ MB\n"
     ]
    }
   ],
   "source": [
    "data.info()"
   ]
  },
  {
   "cell_type": "markdown",
   "metadata": {},
   "source": [
    "Пропусков не осталось."
   ]
  },
  {
   "cell_type": "markdown",
   "metadata": {},
   "source": [
    "Изучим аномалии в целевом признаке"
   ]
  },
  {
   "cell_type": "code",
   "execution_count": 30,
   "metadata": {
    "scrolled": false
   },
   "outputs": [
    {
     "data": {
      "image/png": "[encoded data removed]",
      "text/plain": [
       "<Figure size 1080x504 with 1 Axes>"
      ]
     },
     "metadata": {
      "needs_background": "light"
     },
     "output_type": "display_data"
    }
   ],
   "source": [
    "data['Price'].hist(bins=50,  figsize=(15, 7), color='#A7D2CB', width=200, alpha=0.7)\n",
    "plt.xlabel('Price')\n",
    "plt.ylabel('Number of cars')\n",
    "plt.title('Number of cars by price')\n",
    "plt.show()"
   ]
  },
  {
   "cell_type": "code",
   "execution_count": 28,
   "metadata": {
    "scrolled": false
   },
   "outputs": [
    {
     "data": {
      "text/plain": [
       "0        8560\n",
       "500      5209\n",
       "1500     4997\n",
       "1200     4298\n",
       "1000     4249\n",
       "         ... \n",
       "3988        1\n",
       "14227       1\n",
       "11920       1\n",
       "1429        1\n",
       "8188        1\n",
       "Name: Price, Length: 3670, dtype: int64"
      ]
     },
     "execution_count": 28,
     "metadata": {},
     "output_type": "execute_result"
    }
   ],
   "source": [
    "data['Price'].sort_values().value_counts()"
   ]
  },
  {
   "cell_type": "markdown",
   "metadata": {},
   "source": [
    "Почти в 11 тысяч случаев указана цена 0. У этого могут быть разные причины, вряд ли все эти владельцы отдают свои автомобили бесплатно."
   ]
  },
  {
   "cell_type": "code",
   "execution_count": 29,
   "metadata": {
    "scrolled": true
   },
   "outputs": [
    {
     "data": {
      "text/html": [
       "<div>\n",
       "<style scoped>\n",
       "    .dataframe tbody tr th:only-of-type {\n",
       "        vertical-align: middle;\n",
       "    }\n",
       "\n",
       "    .dataframe tbody tr th {\n",
       "        vertical-align: top;\n",
       "    }\n",
       "\n",
       "    .dataframe thead th {\n",
       "        text-align: right;\n",
       "    }\n",
       "</style>\n",
       "<table border=\"1\" class=\"dataframe\">\n",
       "  <thead>\n",
       "    <tr style=\"text-align: right;\">\n",
       "      <th></th>\n",
       "      <th>DateCrawled</th>\n",
       "      <th>Price</th>\n",
       "      <th>VehicleType</th>\n",
       "      <th>RegistrationYear</th>\n",
       "      <th>Gearbox</th>\n",
       "      <th>Power</th>\n",
       "      <th>Model</th>\n",
       "      <th>Kilometer</th>\n",
       "      <th>RegistrationMonth</th>\n",
       "      <th>FuelType</th>\n",
       "      <th>Brand</th>\n",
       "      <th>Repaired</th>\n",
       "      <th>DateCreated</th>\n",
       "      <th>NumberOfPictures</th>\n",
       "      <th>PostalCode</th>\n",
       "      <th>LastSeen</th>\n",
       "      <th>DaysPublished</th>\n",
       "    </tr>\n",
       "  </thead>\n",
       "  <tbody>\n",
       "    <tr>\n",
       "      <th>7</th>\n",
       "      <td>2016-03-21 18:54:38</td>\n",
       "      <td>0</td>\n",
       "      <td>sedan</td>\n",
       "      <td>1980</td>\n",
       "      <td>manual</td>\n",
       "      <td>50</td>\n",
       "      <td>other</td>\n",
       "      <td>40000</td>\n",
       "      <td>7</td>\n",
       "      <td>petrol</td>\n",
       "      <td>volkswagen</td>\n",
       "      <td>no</td>\n",
       "      <td>2016-03-21 00:00:00</td>\n",
       "      <td>0</td>\n",
       "      <td>19348</td>\n",
       "      <td>2016-03-25 16:47:58</td>\n",
       "      <td>2608</td>\n",
       "    </tr>\n",
       "    <tr>\n",
       "      <th>40</th>\n",
       "      <td>2016-03-26 22:06:17</td>\n",
       "      <td>0</td>\n",
       "      <td>unknown</td>\n",
       "      <td>1990</td>\n",
       "      <td>manual</td>\n",
       "      <td>60</td>\n",
       "      <td>corsa</td>\n",
       "      <td>150000</td>\n",
       "      <td>1</td>\n",
       "      <td>petrol</td>\n",
       "      <td>opel</td>\n",
       "      <td>no</td>\n",
       "      <td>2016-03-26 00:00:00</td>\n",
       "      <td>0</td>\n",
       "      <td>56412</td>\n",
       "      <td>2016-03-27 17:43:34</td>\n",
       "      <td>2603</td>\n",
       "    </tr>\n",
       "    <tr>\n",
       "      <th>111</th>\n",
       "      <td>2016-03-19 18:40:12</td>\n",
       "      <td>0</td>\n",
       "      <td>unknown</td>\n",
       "      <td>2017</td>\n",
       "      <td>manual</td>\n",
       "      <td>101</td>\n",
       "      <td>golf</td>\n",
       "      <td>5000</td>\n",
       "      <td>12</td>\n",
       "      <td>petrol</td>\n",
       "      <td>volkswagen</td>\n",
       "      <td>no</td>\n",
       "      <td>2016-03-19 00:00:00</td>\n",
       "      <td>0</td>\n",
       "      <td>21698</td>\n",
       "      <td>2016-04-01 08:47:05</td>\n",
       "      <td>2610</td>\n",
       "    </tr>\n",
       "    <tr>\n",
       "      <th>152</th>\n",
       "      <td>2016-03-11 18:55:53</td>\n",
       "      <td>0</td>\n",
       "      <td>bus</td>\n",
       "      <td>2004</td>\n",
       "      <td>manual</td>\n",
       "      <td>101</td>\n",
       "      <td>meriva</td>\n",
       "      <td>150000</td>\n",
       "      <td>10</td>\n",
       "      <td>lpg</td>\n",
       "      <td>opel</td>\n",
       "      <td>yes</td>\n",
       "      <td>2016-03-11 00:00:00</td>\n",
       "      <td>0</td>\n",
       "      <td>27432</td>\n",
       "      <td>2016-03-12 23:47:10</td>\n",
       "      <td>2618</td>\n",
       "    </tr>\n",
       "    <tr>\n",
       "      <th>154</th>\n",
       "      <td>2016-03-22 16:37:59</td>\n",
       "      <td>0</td>\n",
       "      <td>unknown</td>\n",
       "      <td>2006</td>\n",
       "      <td>manual</td>\n",
       "      <td>116</td>\n",
       "      <td>other</td>\n",
       "      <td>5000</td>\n",
       "      <td>0</td>\n",
       "      <td>petrol</td>\n",
       "      <td>fiat</td>\n",
       "      <td>no</td>\n",
       "      <td>2016-03-22 00:00:00</td>\n",
       "      <td>0</td>\n",
       "      <td>44867</td>\n",
       "      <td>2016-04-06 06:17:56</td>\n",
       "      <td>2607</td>\n",
       "    </tr>\n",
       "    <tr>\n",
       "      <th>...</th>\n",
       "      <td>...</td>\n",
       "      <td>...</td>\n",
       "      <td>...</td>\n",
       "      <td>...</td>\n",
       "      <td>...</td>\n",
       "      <td>...</td>\n",
       "      <td>...</td>\n",
       "      <td>...</td>\n",
       "      <td>...</td>\n",
       "      <td>...</td>\n",
       "      <td>...</td>\n",
       "      <td>...</td>\n",
       "      <td>...</td>\n",
       "      <td>...</td>\n",
       "      <td>...</td>\n",
       "      <td>...</td>\n",
       "      <td>...</td>\n",
       "    </tr>\n",
       "    <tr>\n",
       "      <th>354201</th>\n",
       "      <td>2016-03-09 15:56:30</td>\n",
       "      <td>0</td>\n",
       "      <td>unknown</td>\n",
       "      <td>2000</td>\n",
       "      <td>manual</td>\n",
       "      <td>65</td>\n",
       "      <td>corsa</td>\n",
       "      <td>150000</td>\n",
       "      <td>0</td>\n",
       "      <td>petrol</td>\n",
       "      <td>opel</td>\n",
       "      <td>yes</td>\n",
       "      <td>2016-03-09 00:00:00</td>\n",
       "      <td>0</td>\n",
       "      <td>23758</td>\n",
       "      <td>2016-03-30 11:16:08</td>\n",
       "      <td>2620</td>\n",
       "    </tr>\n",
       "    <tr>\n",
       "      <th>354234</th>\n",
       "      <td>2016-03-20 14:55:07</td>\n",
       "      <td>0</td>\n",
       "      <td>small</td>\n",
       "      <td>2002</td>\n",
       "      <td>manual</td>\n",
       "      <td>60</td>\n",
       "      <td>fiesta</td>\n",
       "      <td>150000</td>\n",
       "      <td>3</td>\n",
       "      <td>petrol</td>\n",
       "      <td>ford</td>\n",
       "      <td>no</td>\n",
       "      <td>2016-03-20 00:00:00</td>\n",
       "      <td>0</td>\n",
       "      <td>33659</td>\n",
       "      <td>2016-04-06 18:45:23</td>\n",
       "      <td>2609</td>\n",
       "    </tr>\n",
       "    <tr>\n",
       "      <th>354244</th>\n",
       "      <td>2016-03-24 13:48:05</td>\n",
       "      <td>0</td>\n",
       "      <td>small</td>\n",
       "      <td>1999</td>\n",
       "      <td>manual</td>\n",
       "      <td>53</td>\n",
       "      <td>swift</td>\n",
       "      <td>150000</td>\n",
       "      <td>3</td>\n",
       "      <td>petrol</td>\n",
       "      <td>suzuki</td>\n",
       "      <td>no</td>\n",
       "      <td>2016-03-24 00:00:00</td>\n",
       "      <td>0</td>\n",
       "      <td>42329</td>\n",
       "      <td>2016-04-07 05:17:24</td>\n",
       "      <td>2605</td>\n",
       "    </tr>\n",
       "    <tr>\n",
       "      <th>354273</th>\n",
       "      <td>2016-03-10 22:55:50</td>\n",
       "      <td>0</td>\n",
       "      <td>small</td>\n",
       "      <td>1999</td>\n",
       "      <td>manual</td>\n",
       "      <td>37</td>\n",
       "      <td>arosa</td>\n",
       "      <td>150000</td>\n",
       "      <td>7</td>\n",
       "      <td>petrol</td>\n",
       "      <td>seat</td>\n",
       "      <td>yes</td>\n",
       "      <td>2016-03-10 00:00:00</td>\n",
       "      <td>0</td>\n",
       "      <td>22559</td>\n",
       "      <td>2016-03-12 23:46:32</td>\n",
       "      <td>2619</td>\n",
       "    </tr>\n",
       "    <tr>\n",
       "      <th>354360</th>\n",
       "      <td>2016-03-21 09:50:58</td>\n",
       "      <td>0</td>\n",
       "      <td>unknown</td>\n",
       "      <td>2005</td>\n",
       "      <td>manual</td>\n",
       "      <td>82</td>\n",
       "      <td>colt</td>\n",
       "      <td>150000</td>\n",
       "      <td>7</td>\n",
       "      <td>petrol</td>\n",
       "      <td>mitsubishi</td>\n",
       "      <td>yes</td>\n",
       "      <td>2016-03-21 00:00:00</td>\n",
       "      <td>0</td>\n",
       "      <td>2694</td>\n",
       "      <td>2016-03-21 10:42:49</td>\n",
       "      <td>2608</td>\n",
       "    </tr>\n",
       "  </tbody>\n",
       "</table>\n",
       "<p>8560 rows × 17 columns</p>\n",
       "</div>"
      ],
      "text/plain": [
       "                DateCrawled  Price VehicleType  RegistrationYear Gearbox  \\\n",
       "7       2016-03-21 18:54:38      0       sedan              1980  manual   \n",
       "40      2016-03-26 22:06:17      0     unknown              1990  manual   \n",
       "111     2016-03-19 18:40:12      0     unknown              2017  manual   \n",
       "152     2016-03-11 18:55:53      0         bus              2004  manual   \n",
       "154     2016-03-22 16:37:59      0     unknown              2006  manual   \n",
       "...                     ...    ...         ...               ...     ...   \n",
       "354201  2016-03-09 15:56:30      0     unknown              2000  manual   \n",
       "354234  2016-03-20 14:55:07      0       small              2002  manual   \n",
       "354244  2016-03-24 13:48:05      0       small              1999  manual   \n",
       "354273  2016-03-10 22:55:50      0       small              1999  manual   \n",
       "354360  2016-03-21 09:50:58      0     unknown              2005  manual   \n",
       "\n",
       "        Power   Model  Kilometer  RegistrationMonth FuelType       Brand  \\\n",
       "7          50   other      40000                  7   petrol  volkswagen   \n",
       "40         60   corsa     150000                  1   petrol        opel   \n",
       "111       101    golf       5000                 12   petrol  volkswagen   \n",
       "152       101  meriva     150000                 10      lpg        opel   \n",
       "154       116   other       5000                  0   petrol        fiat   \n",
       "...       ...     ...        ...                ...      ...         ...   \n",
       "354201     65   corsa     150000                  0   petrol        opel   \n",
       "354234     60  fiesta     150000                  3   petrol        ford   \n",
       "354244     53   swift     150000                  3   petrol      suzuki   \n",
       "354273     37   arosa     150000                  7   petrol        seat   \n",
       "354360     82    colt     150000                  7   petrol  mitsubishi   \n",
       "\n",
       "       Repaired          DateCreated  NumberOfPictures  PostalCode  \\\n",
       "7            no  2016-03-21 00:00:00                 0       19348   \n",
       "40           no  2016-03-26 00:00:00                 0       56412   \n",
       "111          no  2016-03-19 00:00:00                 0       21698   \n",
       "152         yes  2016-03-11 00:00:00                 0       27432   \n",
       "154          no  2016-03-22 00:00:00                 0       44867   \n",
       "...         ...                  ...               ...         ...   \n",
       "354201      yes  2016-03-09 00:00:00                 0       23758   \n",
       "354234       no  2016-03-20 00:00:00                 0       33659   \n",
       "354244       no  2016-03-24 00:00:00                 0       42329   \n",
       "354273      yes  2016-03-10 00:00:00                 0       22559   \n",
       "354360      yes  2016-03-21 00:00:00                 0        2694   \n",
       "\n",
       "                   LastSeen  DaysPublished  \n",
       "7       2016-03-25 16:47:58           2608  \n",
       "40      2016-03-27 17:43:34           2603  \n",
       "111     2016-04-01 08:47:05           2610  \n",
       "152     2016-03-12 23:47:10           2618  \n",
       "154     2016-04-06 06:17:56           2607  \n",
       "...                     ...            ...  \n",
       "354201  2016-03-30 11:16:08           2620  \n",
       "354234  2016-04-06 18:45:23           2609  \n",
       "354244  2016-04-07 05:17:24           2605  \n",
       "354273  2016-03-12 23:46:32           2619  \n",
       "354360  2016-03-21 10:42:49           2608  \n",
       "\n",
       "[8560 rows x 17 columns]"
      ]
     },
     "execution_count": 29,
     "metadata": {},
     "output_type": "execute_result"
    }
   ],
   "source": [
    "data.loc[data['Price'] == 0]"
   ]
  },
  {
   "cell_type": "markdown",
   "metadata": {},
   "source": [
    "За 0 отдают совершенно разные автомобили: и новые, и старые, и микроавтобусы, и малолитражки. Удалим данные с ценой 0."
   ]
  },
  {
   "cell_type": "code",
   "execution_count": 30,
   "metadata": {},
   "outputs": [],
   "source": [
    "data = data.loc[data['Price'] != 0]"
   ]
  },
  {
   "cell_type": "code",
   "execution_count": 31,
   "metadata": {},
   "outputs": [],
   "source": [
    "data = data.reset_index(drop=True)"
   ]
  },
  {
   "cell_type": "code",
   "execution_count": 32,
   "metadata": {
    "scrolled": true
   },
   "outputs": [
    {
     "name": "stdout",
     "output_type": "stream",
     "text": [
      "<class 'pandas.core.frame.DataFrame'>\n",
      "RangeIndex: 325914 entries, 0 to 325913\n",
      "Data columns (total 17 columns):\n",
      " #   Column             Non-Null Count   Dtype \n",
      "---  ------             --------------   ----- \n",
      " 0   DateCrawled        325914 non-null  object\n",
      " 1   Price              325914 non-null  int64 \n",
      " 2   VehicleType        325914 non-null  object\n",
      " 3   RegistrationYear   325914 non-null  int64 \n",
      " 4   Gearbox            325914 non-null  object\n",
      " 5   Power              325914 non-null  int64 \n",
      " 6   Model              325914 non-null  object\n",
      " 7   Kilometer          325914 non-null  int64 \n",
      " 8   RegistrationMonth  325914 non-null  int64 \n",
      " 9   FuelType           325914 non-null  object\n",
      " 10  Brand              325914 non-null  object\n",
      " 11  Repaired           325914 non-null  object\n",
      " 12  DateCreated        325914 non-null  object\n",
      " 13  NumberOfPictures   325914 non-null  int64 \n",
      " 14  PostalCode         325914 non-null  int64 \n",
      " 15  LastSeen           325914 non-null  object\n",
      " 16  DaysPublished      325914 non-null  int64 \n",
      "dtypes: int64(8), object(9)\n",
      "memory usage: 42.3+ MB\n"
     ]
    }
   ],
   "source": [
    "data.info()"
   ]
  },
  {
   "cell_type": "markdown",
   "metadata": {},
   "source": [
    "Посмотрим сколько объектов осталось от первоначального количества."
   ]
  },
  {
   "cell_type": "code",
   "execution_count": 33,
   "metadata": {
    "scrolled": true
   },
   "outputs": [
    {
     "data": {
      "text/plain": [
       "91.97023441666737"
      ]
     },
     "execution_count": 33,
     "metadata": {},
     "output_type": "execute_result"
    }
   ],
   "source": [
    "(data.shape[0] / data_initial.shape[0]) * 100"
   ]
  },
  {
   "cell_type": "markdown",
   "metadata": {},
   "source": [
    "Потеряли некритичное количество данных."
   ]
  },
  {
   "cell_type": "markdown",
   "metadata": {},
   "source": [
    "Таким образом, были обработаны аномалии в столбцах \"Power\", \"RegisrationYear\" и \"Price\". Также обработаны пропущенные значения в датасете для обучения моделей."
   ]
  },
  {
   "cell_type": "markdown",
   "metadata": {},
   "source": [
    "<a id='step3'></a>"
   ]
  },
  {
   "cell_type": "markdown",
   "metadata": {},
   "source": [
    "## Обучение моделей"
   ]
  },
  {
   "cell_type": "markdown",
   "metadata": {},
   "source": [
    "Разобьем данные на обучающую, валидационную и тестовую выборки."
   ]
  },
  {
   "cell_type": "markdown",
   "metadata": {},
   "source": [
    "Выделим из данных признаки, влияющие на целевой признак, и сам целевой признак."
   ]
  },
  {
   "cell_type": "code",
   "execution_count": 34,
   "metadata": {},
   "outputs": [],
   "source": [
    "drop_features = ['Price', 'DateCrawled', 'RegistrationMonth', 'NumberOfPictures', 'DateCreated', 'PostalCode', 'LastSeen']"
   ]
  },
  {
   "cell_type": "code",
   "execution_count": 35,
   "metadata": {},
   "outputs": [],
   "source": [
    "\n",
    "data_train, data_test = train_test_split(data, test_size=0.2, random_state=12345)\n",
    "data_train, data_valid = train_test_split(data_train, test_size=0.25, random_state=12345)\n",
    "\n",
    "features_train = data_train.drop(drop_features, axis=1)\n",
    "target_train = data_train['Price']\n",
    "\n",
    "features_valid = data_valid.drop(drop_features, axis=1)\n",
    "target_valid = data_valid['Price']\n",
    "\n",
    "features_test = data_test.drop(drop_features, axis=1)\n",
    "target_test = data_test['Price']"
   ]
  },
  {
   "cell_type": "markdown",
   "metadata": {},
   "source": [
    "Закодируем данные с помощью Ordinal Encoder."
   ]
  },
  {
   "cell_type": "code",
   "execution_count": 36,
   "metadata": {},
   "outputs": [],
   "source": [
    "features_categorical = ['VehicleType', 'Gearbox', 'Model', 'FuelType', 'Repaired', 'Brand', 'RegistrationYear']"
   ]
  },
  {
   "cell_type": "code",
   "execution_count": 37,
   "metadata": {},
   "outputs": [],
   "source": [
    "oe = OrdinalEncoder(handle_unknown='use_encoded_value', unknown_value=-1)\n",
    "oe.fit(features_train[features_categorical])\n",
    "\n",
    "def features_oe(oe_variable, df_features, features_categ):\n",
    "    df_features_oe = pd.DataFrame(\n",
    "        data=oe_variable.transform(df_features[features_categ]), \n",
    "        index=df_features.index,\n",
    "        columns=df_features[features_categ].columns\n",
    "    )\n",
    "\n",
    "    df_features = df_features.drop(features_categ, axis=1)\n",
    "    df_features = df_features.join(df_features_oe)\n",
    "    return df_features    \n",
    "\n",
    "features_train = features_oe(oe, features_train, features_categorical);\n",
    "features_valid = features_oe(oe, features_valid, features_categorical);\n",
    "features_test = features_oe(oe, features_test, features_categorical);"
   ]
  },
  {
   "cell_type": "markdown",
   "metadata": {},
   "source": [
    "Отмасштабируем признаки числового формата"
   ]
  },
  {
   "cell_type": "code",
   "execution_count": 38,
   "metadata": {
    "scrolled": false
   },
   "outputs": [],
   "source": [
    "numeric = ['Power', 'Kilometer', 'DaysPublished']\n",
    "scaler = StandardScaler()\n",
    "scaler.fit(features_train[numeric])\n",
    "\n",
    "features_train[numeric] = scaler.transform(features_train[numeric])\n",
    "features_valid[numeric] = scaler.transform(features_valid[numeric])\n",
    "features_test[numeric] = scaler.transform(features_test[numeric])\n",
    "\n",
    "pd.options.mode.chained_assignment = None"
   ]
  },
  {
   "cell_type": "markdown",
   "metadata": {},
   "source": [
    "<a id='step4'></a>"
   ]
  },
  {
   "cell_type": "markdown",
   "metadata": {},
   "source": [
    "Приступим к обучению. Начнем с простых моделей."
   ]
  },
  {
   "cell_type": "markdown",
   "metadata": {},
   "source": [
    "Первая модель - решающее дерево. Будем варьировать параметр глубины. Задача получить наименьший RMSE, при этом значение должно быть меньше 2500."
   ]
  },
  {
   "cell_type": "markdown",
   "metadata": {},
   "source": [
    "**Решающее дерево**"
   ]
  },
  {
   "cell_type": "code",
   "execution_count": 39,
   "metadata": {
    "scrolled": true
   },
   "outputs": [
    {
     "name": "stderr",
     "output_type": "stream",
     "text": [
      "  5%|▍         | 1/22 [00:00<00:04,  4.70it/s]"
     ]
    },
    {
     "name": "stdout",
     "output_type": "stream",
     "text": [
      "max_depth = 4 : 2673.1173825807095\n"
     ]
    },
    {
     "name": "stderr",
     "output_type": "stream",
     "text": [
      "  9%|▉         | 2/22 [00:00<00:04,  4.36it/s]"
     ]
    },
    {
     "name": "stdout",
     "output_type": "stream",
     "text": [
      "max_depth = 5 : 2455.0651313461676\n"
     ]
    },
    {
     "name": "stderr",
     "output_type": "stream",
     "text": [
      " 14%|█▎        | 3/22 [00:00<00:05,  3.78it/s]"
     ]
    },
    {
     "name": "stdout",
     "output_type": "stream",
     "text": [
      "max_depth = 6 : 2316.948199909966\n"
     ]
    },
    {
     "name": "stderr",
     "output_type": "stream",
     "text": [
      " 18%|█▊        | 4/22 [00:01<00:05,  3.42it/s]"
     ]
    },
    {
     "name": "stdout",
     "output_type": "stream",
     "text": [
      "max_depth = 7 : 2208.857813575968\n"
     ]
    },
    {
     "name": "stderr",
     "output_type": "stream",
     "text": [
      " 23%|██▎       | 5/22 [00:01<00:05,  3.07it/s]"
     ]
    },
    {
     "name": "stdout",
     "output_type": "stream",
     "text": [
      "max_depth = 8 : 2128.458845065033\n"
     ]
    },
    {
     "name": "stderr",
     "output_type": "stream",
     "text": [
      " 27%|██▋       | 6/22 [00:01<00:05,  2.77it/s]"
     ]
    },
    {
     "name": "stdout",
     "output_type": "stream",
     "text": [
      "max_depth = 9 : 2073.4882538224233\n"
     ]
    },
    {
     "name": "stderr",
     "output_type": "stream",
     "text": [
      " 32%|███▏      | 7/22 [00:02<00:05,  2.59it/s]"
     ]
    },
    {
     "name": "stdout",
     "output_type": "stream",
     "text": [
      "max_depth = 10 : 2023.1204832752246\n"
     ]
    },
    {
     "name": "stderr",
     "output_type": "stream",
     "text": [
      " 36%|███▋      | 8/22 [00:02<00:05,  2.35it/s]"
     ]
    },
    {
     "name": "stdout",
     "output_type": "stream",
     "text": [
      "max_depth = 11 : 1973.5956912691354\n"
     ]
    },
    {
     "name": "stderr",
     "output_type": "stream",
     "text": [
      " 41%|████      | 9/22 [00:03<00:05,  2.21it/s]"
     ]
    },
    {
     "name": "stdout",
     "output_type": "stream",
     "text": [
      "max_depth = 12 : 1934.0115528695044\n"
     ]
    },
    {
     "name": "stderr",
     "output_type": "stream",
     "text": [
      " 45%|████▌     | 10/22 [00:03<00:05,  2.07it/s]"
     ]
    },
    {
     "name": "stdout",
     "output_type": "stream",
     "text": [
      "max_depth = 13 : 1929.3240078247668\n"
     ]
    },
    {
     "name": "stderr",
     "output_type": "stream",
     "text": [
      " 50%|█████     | 11/22 [00:04<00:05,  1.94it/s]"
     ]
    },
    {
     "name": "stdout",
     "output_type": "stream",
     "text": [
      "max_depth = 14 : 1925.0044173580416\n"
     ]
    },
    {
     "name": "stderr",
     "output_type": "stream",
     "text": [
      " 55%|█████▍    | 12/22 [00:05<00:05,  1.82it/s]"
     ]
    },
    {
     "name": "stdout",
     "output_type": "stream",
     "text": [
      "max_depth = 15 : 1940.458733481739\n"
     ]
    },
    {
     "name": "stderr",
     "output_type": "stream",
     "text": [
      " 59%|█████▉    | 13/22 [00:05<00:05,  1.71it/s]"
     ]
    },
    {
     "name": "stdout",
     "output_type": "stream",
     "text": [
      "max_depth = 16 : 1969.556166068574\n"
     ]
    },
    {
     "name": "stderr",
     "output_type": "stream",
     "text": [
      " 64%|██████▎   | 14/22 [00:06<00:04,  1.61it/s]"
     ]
    },
    {
     "name": "stdout",
     "output_type": "stream",
     "text": [
      "max_depth = 17 : 2009.4748893794083\n"
     ]
    },
    {
     "name": "stderr",
     "output_type": "stream",
     "text": [
      " 68%|██████▊   | 15/22 [00:07<00:04,  1.49it/s]"
     ]
    },
    {
     "name": "stdout",
     "output_type": "stream",
     "text": [
      "max_depth = 18 : 2059.615637376709\n"
     ]
    },
    {
     "name": "stderr",
     "output_type": "stream",
     "text": [
      " 73%|███████▎  | 16/22 [00:08<00:04,  1.43it/s]"
     ]
    },
    {
     "name": "stdout",
     "output_type": "stream",
     "text": [
      "max_depth = 19 : 2073.895214735547\n"
     ]
    },
    {
     "name": "stderr",
     "output_type": "stream",
     "text": [
      " 77%|███████▋  | 17/22 [00:08<00:03,  1.36it/s]"
     ]
    },
    {
     "name": "stdout",
     "output_type": "stream",
     "text": [
      "max_depth = 20 : 2104.718061045505\n"
     ]
    },
    {
     "name": "stderr",
     "output_type": "stream",
     "text": [
      " 82%|████████▏ | 18/22 [00:09<00:03,  1.30it/s]"
     ]
    },
    {
     "name": "stdout",
     "output_type": "stream",
     "text": [
      "max_depth = 21 : 2122.6459459590715\n"
     ]
    },
    {
     "name": "stderr",
     "output_type": "stream",
     "text": [
      " 86%|████████▋ | 19/22 [00:10<00:02,  1.27it/s]"
     ]
    },
    {
     "name": "stdout",
     "output_type": "stream",
     "text": [
      "max_depth = 22 : 2142.614676819536\n"
     ]
    },
    {
     "name": "stderr",
     "output_type": "stream",
     "text": [
      " 91%|█████████ | 20/22 [00:11<00:01,  1.23it/s]"
     ]
    },
    {
     "name": "stdout",
     "output_type": "stream",
     "text": [
      "max_depth = 23 : 2175.8348617510087\n"
     ]
    },
    {
     "name": "stderr",
     "output_type": "stream",
     "text": [
      " 95%|█████████▌| 21/22 [00:12<00:00,  1.20it/s]"
     ]
    },
    {
     "name": "stdout",
     "output_type": "stream",
     "text": [
      "max_depth = 24 : 2176.2475458789577\n"
     ]
    },
    {
     "name": "stderr",
     "output_type": "stream",
     "text": [
      "100%|██████████| 22/22 [00:13<00:00,  1.66it/s]"
     ]
    },
    {
     "name": "stdout",
     "output_type": "stream",
     "text": [
      "max_depth = 25 : 2184.0365239051985\n",
      "RMSE наилучшей модели на валидационной выборке: 1925.0044173580416\n",
      "Глубина: 14\n",
      "CPU times: user 13.2 s, sys: 10.9 ms, total: 13.2 s\n",
      "Wall time: 13.3 s\n"
     ]
    },
    {
     "name": "stderr",
     "output_type": "stream",
     "text": [
      "\n"
     ]
    }
   ],
   "source": [
    "%%time\n",
    "\n",
    "best_model_tree = None\n",
    "best_result_tree = 3000\n",
    "best_depth = 0\n",
    "depth_plot = []\n",
    "result_plot = []\n",
    "for depth in tqdm(range(4, 26)):\n",
    "    model = DecisionTreeRegressor(random_state=12345, max_depth=depth) \n",
    "    model.fit(features_train, target_train)\n",
    "    predictions = model.predict(features_valid)\n",
    "    result = mean_squared_error(target_valid, predictions, squared=False)\n",
    "    print(f'max_depth = {depth} : {result}')\n",
    "    \n",
    "    depth_plot.append(depth)\n",
    "    result_plot.append(result)\n",
    "    \n",
    "    if result < best_result_tree:\n",
    "        best_model_tree = model # сохраняем наилучшую модель\n",
    "        best_result_tree = result #  сохраняем наилучшее значение метрики accuracy на валидационных данных\n",
    "        best_depth = depth # глубина с лучшим значеним accuracy\n",
    "        \n",
    "print('RMSE наилучшей модели на валидационной выборке:', best_result_tree)\n",
    "print('Глубина:', best_depth)"
   ]
  },
  {
   "cell_type": "code",
   "execution_count": 40,
   "metadata": {},
   "outputs": [
    {
     "name": "stdout",
     "output_type": "stream",
     "text": [
      "CPU times: user 582 ms, sys: 3.96 ms, total: 586 ms\n",
      "Wall time: 597 ms\n"
     ]
    },
    {
     "data": {
      "text/plain": [
       "DecisionTreeRegressor(max_depth=14, random_state=12345)"
      ]
     },
     "execution_count": 40,
     "metadata": {},
     "output_type": "execute_result"
    }
   ],
   "source": [
    "%%time\n",
    "\n",
    "best_model_tree.fit(features_train, target_train)"
   ]
  },
  {
   "cell_type": "code",
   "execution_count": 41,
   "metadata": {},
   "outputs": [
    {
     "name": "stdout",
     "output_type": "stream",
     "text": [
      "CPU times: user 14.7 ms, sys: 0 ns, total: 14.7 ms\n",
      "Wall time: 13.1 ms\n"
     ]
    }
   ],
   "source": [
    "%%time\n",
    "\n",
    "predictions = best_model_tree.predict(features_valid)"
   ]
  },
  {
   "cell_type": "markdown",
   "metadata": {},
   "source": [
    "**Случайный лес**"
   ]
  },
  {
   "cell_type": "markdown",
   "metadata": {},
   "source": [
    "Варьируем значение глубины и количества деревьев."
   ]
  },
  {
   "cell_type": "code",
   "execution_count": 42,
   "metadata": {
    "scrolled": true
   },
   "outputs": [
    {
     "name": "stderr",
     "output_type": "stream",
     "text": [
      "  0%|          | 0/16 [00:00<?, ?it/s]"
     ]
    },
    {
     "name": "stdout",
     "output_type": "stream",
     "text": [
      "est = 10 : 1930.2452295350645, max_depth = 10\n",
      "est = 10 : 1868.0064001915243, max_depth = 11\n",
      "est = 10 : 1808.7376259486377, max_depth = 12\n",
      "est = 10 : 1768.2626282860228, max_depth = 13\n",
      "est = 10 : 1737.2899198454904, max_depth = 14\n",
      "est = 10 : 1719.7318334121837, max_depth = 15\n",
      "est = 10 : 1704.2551364042738, max_depth = 16\n",
      "est = 10 : 1696.3478732792516, max_depth = 17\n",
      "est = 10 : 1697.1764115764743, max_depth = 18\n",
      "est = 10 : 1700.243766588797, max_depth = 19\n",
      "est = 10 : 1704.055025009778, max_depth = 20\n",
      "est = 10 : 1708.9014844810213, max_depth = 21\n",
      "est = 10 : 1715.2386404599915, max_depth = 22\n",
      "est = 10 : 1720.2635973197482, max_depth = 23\n",
      "est = 10 : 1724.645808256024, max_depth = 24\n"
     ]
    },
    {
     "name": "stderr",
     "output_type": "stream",
     "text": [
      "  6%|▋         | 1/16 [01:18<19:42, 78.80s/it]"
     ]
    },
    {
     "name": "stdout",
     "output_type": "stream",
     "text": [
      "est = 10 : 1727.0870203286256, max_depth = 25\n",
      "\n",
      "est = 11 : 1926.5663107400128, max_depth = 10\n",
      "est = 11 : 1864.145475379291, max_depth = 11\n",
      "est = 11 : 1804.8593180731468, max_depth = 12\n",
      "est = 11 : 1764.1598878269338, max_depth = 13\n",
      "est = 11 : 1732.8730825253176, max_depth = 14\n",
      "est = 11 : 1715.5617013223757, max_depth = 15\n",
      "est = 11 : 1699.4093059187046, max_depth = 16\n",
      "est = 11 : 1691.8198617631813, max_depth = 17\n",
      "est = 11 : 1691.619830117805, max_depth = 18\n",
      "est = 11 : 1694.4431397846208, max_depth = 19\n",
      "est = 11 : 1698.850775948621, max_depth = 20\n",
      "est = 11 : 1702.9542122671216, max_depth = 21\n",
      "est = 11 : 1708.713584002598, max_depth = 22\n",
      "est = 11 : 1713.5607014271025, max_depth = 23\n",
      "est = 11 : 1717.8865885576254, max_depth = 24\n"
     ]
    },
    {
     "name": "stderr",
     "output_type": "stream",
     "text": [
      " 12%|█▎        | 2/16 [02:45<19:26, 83.31s/it]"
     ]
    },
    {
     "name": "stdout",
     "output_type": "stream",
     "text": [
      "est = 11 : 1720.5449430131894, max_depth = 25\n",
      "\n",
      "est = 12 : 1925.2612946313795, max_depth = 10\n",
      "est = 12 : 1863.2174038339526, max_depth = 11\n",
      "est = 12 : 1804.145178570586, max_depth = 12\n",
      "est = 12 : 1762.6107553642294, max_depth = 13\n",
      "est = 12 : 1731.1502380173094, max_depth = 14\n",
      "est = 12 : 1712.8134686045341, max_depth = 15\n",
      "est = 12 : 1697.1266822243842, max_depth = 16\n",
      "est = 12 : 1688.7968081626002, max_depth = 17\n",
      "est = 12 : 1688.0334439977537, max_depth = 18\n",
      "est = 12 : 1689.7381325675112, max_depth = 19\n",
      "est = 12 : 1694.020771192603, max_depth = 20\n",
      "est = 12 : 1698.5068557979887, max_depth = 21\n",
      "est = 12 : 1704.6287199031115, max_depth = 22\n",
      "est = 12 : 1708.9834045039136, max_depth = 23\n",
      "est = 12 : 1713.0746655773748, max_depth = 24\n"
     ]
    },
    {
     "name": "stderr",
     "output_type": "stream",
     "text": [
      " 19%|█▉        | 3/16 [04:18<19:02, 87.90s/it]"
     ]
    },
    {
     "name": "stdout",
     "output_type": "stream",
     "text": [
      "est = 12 : 1715.4243635720964, max_depth = 25\n",
      "\n",
      "est = 13 : 1923.42339861366, max_depth = 10\n",
      "est = 13 : 1861.5385879913026, max_depth = 11\n",
      "est = 13 : 1802.7595324031565, max_depth = 12\n",
      "est = 13 : 1760.653389003229, max_depth = 13\n",
      "est = 13 : 1728.7205623067857, max_depth = 14\n",
      "est = 13 : 1710.368209588951, max_depth = 15\n",
      "est = 13 : 1694.014863400598, max_depth = 16\n",
      "est = 13 : 1684.9890731879473, max_depth = 17\n",
      "est = 13 : 1684.3449251293969, max_depth = 18\n",
      "est = 13 : 1685.3059706320644, max_depth = 19\n",
      "est = 13 : 1690.1771366797218, max_depth = 20\n",
      "est = 13 : 1693.861607130104, max_depth = 21\n",
      "est = 13 : 1699.1111890100067, max_depth = 22\n",
      "est = 13 : 1704.3683477174097, max_depth = 23\n",
      "est = 13 : 1707.9651237841515, max_depth = 24\n"
     ]
    },
    {
     "name": "stderr",
     "output_type": "stream",
     "text": [
      " 25%|██▌       | 4/16 [05:57<18:28, 92.39s/it]"
     ]
    },
    {
     "name": "stdout",
     "output_type": "stream",
     "text": [
      "est = 13 : 1709.937149811596, max_depth = 25\n",
      "\n",
      "est = 14 : 1923.2091961261274, max_depth = 10\n",
      "est = 14 : 1861.4868811801905, max_depth = 11\n",
      "est = 14 : 1802.728510772039, max_depth = 12\n",
      "est = 14 : 1760.4815679487601, max_depth = 13\n",
      "est = 14 : 1728.151913088176, max_depth = 14\n",
      "est = 14 : 1709.3350685590144, max_depth = 15\n",
      "est = 14 : 1692.839995608519, max_depth = 16\n",
      "est = 14 : 1683.522704555017, max_depth = 17\n",
      "est = 14 : 1682.0385856398577, max_depth = 18\n",
      "est = 14 : 1682.9267086423781, max_depth = 19\n",
      "est = 14 : 1687.783178833363, max_depth = 20\n",
      "est = 14 : 1691.0481863179396, max_depth = 21\n",
      "est = 14 : 1696.1141731372466, max_depth = 22\n",
      "est = 14 : 1701.2553082489503, max_depth = 23\n",
      "est = 14 : 1704.2358817489862, max_depth = 24\n"
     ]
    },
    {
     "name": "stderr",
     "output_type": "stream",
     "text": [
      " 31%|███▏      | 5/16 [07:43<17:50, 97.33s/it]"
     ]
    },
    {
     "name": "stdout",
     "output_type": "stream",
     "text": [
      "est = 14 : 1706.9677834429099, max_depth = 25\n",
      "\n",
      "est = 15 : 1923.253592546248, max_depth = 10\n",
      "est = 15 : 1861.2780215474236, max_depth = 11\n",
      "est = 15 : 1802.907511339572, max_depth = 12\n",
      "est = 15 : 1759.4993237617352, max_depth = 13\n",
      "est = 15 : 1727.1400949557583, max_depth = 14\n",
      "est = 15 : 1708.068649960081, max_depth = 15\n",
      "est = 15 : 1692.1318380636553, max_depth = 16\n",
      "est = 15 : 1682.9798103299775, max_depth = 17\n",
      "est = 15 : 1681.5842676631532, max_depth = 18\n",
      "est = 15 : 1682.503996256075, max_depth = 19\n",
      "est = 15 : 1686.5503037362878, max_depth = 20\n",
      "est = 15 : 1690.5106979446975, max_depth = 21\n",
      "est = 15 : 1694.772391562945, max_depth = 22\n",
      "est = 15 : 1700.2445902015616, max_depth = 23\n",
      "est = 15 : 1702.733256294499, max_depth = 24\n"
     ]
    },
    {
     "name": "stderr",
     "output_type": "stream",
     "text": [
      " 38%|███▊      | 6/16 [09:39<17:14, 103.41s/it]"
     ]
    },
    {
     "name": "stdout",
     "output_type": "stream",
     "text": [
      "est = 15 : 1705.8427451610044, max_depth = 25\n",
      "\n",
      "est = 16 : 1923.365688975687, max_depth = 10\n",
      "est = 16 : 1861.4136464075998, max_depth = 11\n",
      "est = 16 : 1803.386271514247, max_depth = 12\n",
      "est = 16 : 1758.7748738524022, max_depth = 13\n",
      "est = 16 : 1726.2062359303911, max_depth = 14\n",
      "est = 16 : 1706.7985470029807, max_depth = 15\n",
      "est = 16 : 1690.8386213549236, max_depth = 16\n",
      "est = 16 : 1681.3172461693846, max_depth = 17\n",
      "est = 16 : 1679.5206304191988, max_depth = 18\n",
      "est = 16 : 1680.157668827605, max_depth = 19\n",
      "est = 16 : 1684.3498833852807, max_depth = 20\n",
      "est = 16 : 1688.1574514356466, max_depth = 21\n",
      "est = 16 : 1692.189233223937, max_depth = 22\n",
      "est = 16 : 1697.6760099954015, max_depth = 23\n",
      "est = 16 : 1700.238046015531, max_depth = 24\n"
     ]
    },
    {
     "name": "stderr",
     "output_type": "stream",
     "text": [
      " 44%|████▍     | 7/16 [11:42<16:30, 110.03s/it]"
     ]
    },
    {
     "name": "stdout",
     "output_type": "stream",
     "text": [
      "est = 16 : 1703.6225100826366, max_depth = 25\n",
      "\n",
      "est = 17 : 1922.056175671494, max_depth = 10\n",
      "est = 17 : 1860.2113486850824, max_depth = 11\n",
      "est = 17 : 1802.626761927338, max_depth = 12\n",
      "est = 17 : 1758.22052294867, max_depth = 13\n",
      "est = 17 : 1726.2466743308753, max_depth = 14\n",
      "est = 17 : 1706.257720027698, max_depth = 15\n",
      "est = 17 : 1689.7473490006414, max_depth = 16\n",
      "est = 17 : 1680.382182989673, max_depth = 17\n",
      "est = 17 : 1678.159321219661, max_depth = 18\n",
      "est = 17 : 1678.731730118858, max_depth = 19\n",
      "est = 17 : 1683.188377156276, max_depth = 20\n",
      "est = 17 : 1686.303663741369, max_depth = 21\n",
      "est = 17 : 1690.471638467879, max_depth = 22\n",
      "est = 17 : 1695.6643002786607, max_depth = 23\n",
      "est = 17 : 1698.3757778439135, max_depth = 24\n"
     ]
    },
    {
     "name": "stderr",
     "output_type": "stream",
     "text": [
      " 50%|█████     | 8/16 [13:52<15:29, 116.13s/it]"
     ]
    },
    {
     "name": "stdout",
     "output_type": "stream",
     "text": [
      "est = 17 : 1701.3366715344764, max_depth = 25\n",
      "\n",
      "est = 18 : 1922.7689615602924, max_depth = 10\n",
      "est = 18 : 1860.2706581842747, max_depth = 11\n",
      "est = 18 : 1801.849443141933, max_depth = 12\n",
      "est = 18 : 1757.7760633440553, max_depth = 13\n",
      "est = 18 : 1725.659350709034, max_depth = 14\n",
      "est = 18 : 1705.4218089589888, max_depth = 15\n",
      "est = 18 : 1688.3467352803457, max_depth = 16\n",
      "est = 18 : 1679.2839220408894, max_depth = 17\n",
      "est = 18 : 1676.7950073582106, max_depth = 18\n",
      "est = 18 : 1677.3857645534401, max_depth = 19\n",
      "est = 18 : 1682.1235566117084, max_depth = 20\n",
      "est = 18 : 1684.5817557628966, max_depth = 21\n",
      "est = 18 : 1689.0940487916948, max_depth = 22\n",
      "est = 18 : 1693.9126298472672, max_depth = 23\n",
      "est = 18 : 1696.7707985208542, max_depth = 24\n"
     ]
    },
    {
     "name": "stderr",
     "output_type": "stream",
     "text": [
      " 56%|█████▋    | 9/16 [16:09<14:20, 122.91s/it]"
     ]
    },
    {
     "name": "stdout",
     "output_type": "stream",
     "text": [
      "est = 18 : 1699.7633686154625, max_depth = 25\n",
      "\n",
      "est = 19 : 1922.5509867843668, max_depth = 10\n",
      "est = 19 : 1859.7038154799354, max_depth = 11\n",
      "est = 19 : 1801.045408042652, max_depth = 12\n",
      "est = 19 : 1756.4541683341458, max_depth = 13\n",
      "est = 19 : 1723.959526489471, max_depth = 14\n",
      "est = 19 : 1702.776658788712, max_depth = 15\n",
      "est = 19 : 1686.1049142108443, max_depth = 16\n",
      "est = 19 : 1677.2853631521016, max_depth = 17\n",
      "est = 19 : 1674.6830074979907, max_depth = 18\n",
      "est = 19 : 1675.1249016820957, max_depth = 19\n",
      "est = 19 : 1679.5433593441176, max_depth = 20\n",
      "est = 19 : 1681.666209282692, max_depth = 21\n",
      "est = 19 : 1685.861617972671, max_depth = 22\n",
      "est = 19 : 1691.0538539704944, max_depth = 23\n",
      "est = 19 : 1693.5311549876967, max_depth = 24\n"
     ]
    },
    {
     "name": "stderr",
     "output_type": "stream",
     "text": [
      " 62%|██████▎   | 10/16 [18:34<12:57, 129.57s/it]"
     ]
    },
    {
     "name": "stdout",
     "output_type": "stream",
     "text": [
      "est = 19 : 1696.829504476102, max_depth = 25\n",
      "\n",
      "est = 20 : 1921.165883207991, max_depth = 10\n",
      "est = 20 : 1858.3611201245703, max_depth = 11\n",
      "est = 20 : 1799.2493921334387, max_depth = 12\n",
      "est = 20 : 1754.4524020166791, max_depth = 13\n",
      "est = 20 : 1722.0523272995326, max_depth = 14\n",
      "est = 20 : 1700.8788870874755, max_depth = 15\n",
      "est = 20 : 1684.5561787210743, max_depth = 16\n",
      "est = 20 : 1675.4748007926084, max_depth = 17\n",
      "est = 20 : 1673.124858157523, max_depth = 18\n",
      "est = 20 : 1673.2982712721746, max_depth = 19\n",
      "est = 20 : 1677.6690850241473, max_depth = 20\n",
      "est = 20 : 1679.644457460343, max_depth = 21\n",
      "est = 20 : 1683.7801950168143, max_depth = 22\n",
      "est = 20 : 1689.2019181724363, max_depth = 23\n",
      "est = 20 : 1691.5176404593838, max_depth = 24\n"
     ]
    },
    {
     "name": "stderr",
     "output_type": "stream",
     "text": [
      " 69%|██████▉   | 11/16 [21:08<11:25, 137.15s/it]"
     ]
    },
    {
     "name": "stdout",
     "output_type": "stream",
     "text": [
      "est = 20 : 1694.7655408555822, max_depth = 25\n",
      "\n",
      "est = 21 : 1921.1869795558564, max_depth = 10\n",
      "est = 21 : 1857.8966224302442, max_depth = 11\n",
      "est = 21 : 1798.7698454987121, max_depth = 12\n",
      "est = 21 : 1753.7306777750996, max_depth = 13\n",
      "est = 21 : 1721.1433423969333, max_depth = 14\n",
      "est = 21 : 1700.0040196135062, max_depth = 15\n",
      "est = 21 : 1683.915675498352, max_depth = 16\n",
      "est = 21 : 1675.0843885800043, max_depth = 17\n",
      "est = 21 : 1672.6198415369925, max_depth = 18\n",
      "est = 21 : 1673.3072922028475, max_depth = 19\n",
      "est = 21 : 1677.040880870566, max_depth = 20\n",
      "est = 21 : 1679.5894292978778, max_depth = 21\n",
      "est = 21 : 1683.5530190029644, max_depth = 22\n",
      "est = 21 : 1689.1116004852538, max_depth = 23\n",
      "est = 21 : 1691.308865553219, max_depth = 24\n"
     ]
    },
    {
     "name": "stderr",
     "output_type": "stream",
     "text": [
      " 75%|███████▌  | 12/16 [23:51<09:40, 145.10s/it]"
     ]
    },
    {
     "name": "stdout",
     "output_type": "stream",
     "text": [
      "est = 21 : 1694.5802149308092, max_depth = 25\n",
      "\n",
      "est = 22 : 1920.831175897963, max_depth = 10\n",
      "est = 22 : 1857.2709908024133, max_depth = 11\n",
      "est = 22 : 1798.1793548075202, max_depth = 12\n",
      "est = 22 : 1753.2950260770758, max_depth = 13\n",
      "est = 22 : 1721.060789560941, max_depth = 14\n",
      "est = 22 : 1700.2446956172041, max_depth = 15\n",
      "est = 22 : 1683.8226681918013, max_depth = 16\n",
      "est = 22 : 1674.8412516630642, max_depth = 17\n",
      "est = 22 : 1672.320700729298, max_depth = 18\n",
      "est = 22 : 1672.6349188703177, max_depth = 19\n",
      "est = 22 : 1676.3205184375288, max_depth = 20\n",
      "est = 22 : 1678.750384244692, max_depth = 21\n",
      "est = 22 : 1682.5612861239392, max_depth = 22\n",
      "est = 22 : 1688.2627120679604, max_depth = 23\n",
      "est = 22 : 1690.6682492487562, max_depth = 24\n"
     ]
    },
    {
     "name": "stderr",
     "output_type": "stream",
     "text": [
      " 81%|████████▏ | 13/16 [26:45<07:41, 153.75s/it]"
     ]
    },
    {
     "name": "stdout",
     "output_type": "stream",
     "text": [
      "est = 22 : 1693.9596162463988, max_depth = 25\n",
      "\n",
      "est = 23 : 1920.2055596576763, max_depth = 10\n",
      "est = 23 : 1856.5900746504803, max_depth = 11\n",
      "est = 23 : 1797.760861639557, max_depth = 12\n",
      "est = 23 : 1752.9010147350825, max_depth = 13\n",
      "est = 23 : 1720.2943623331935, max_depth = 14\n",
      "est = 23 : 1699.8039657840334, max_depth = 15\n",
      "est = 23 : 1682.7342154808086, max_depth = 16\n",
      "est = 23 : 1673.8065330285838, max_depth = 17\n",
      "est = 23 : 1671.0400940289085, max_depth = 18\n",
      "est = 23 : 1671.3969896717779, max_depth = 19\n",
      "est = 23 : 1675.055369207958, max_depth = 20\n",
      "est = 23 : 1677.0850312286318, max_depth = 21\n",
      "est = 23 : 1681.2730680256245, max_depth = 22\n",
      "est = 23 : 1686.8317719298577, max_depth = 23\n",
      "est = 23 : 1689.3356782901185, max_depth = 24\n"
     ]
    },
    {
     "name": "stderr",
     "output_type": "stream",
     "text": [
      " 88%|████████▊ | 14/16 [29:47<05:24, 162.34s/it]"
     ]
    },
    {
     "name": "stdout",
     "output_type": "stream",
     "text": [
      "est = 23 : 1692.2085529792819, max_depth = 25\n",
      "\n",
      "est = 24 : 1920.8322452601176, max_depth = 10\n",
      "est = 24 : 1856.7025972584279, max_depth = 11\n",
      "est = 24 : 1797.6728770114682, max_depth = 12\n",
      "est = 24 : 1752.82709343345, max_depth = 13\n",
      "est = 24 : 1720.002643575757, max_depth = 14\n",
      "est = 24 : 1699.242383759735, max_depth = 15\n",
      "est = 24 : 1682.6436952184563, max_depth = 16\n",
      "est = 24 : 1673.7687565663546, max_depth = 17\n",
      "est = 24 : 1670.7853434513052, max_depth = 18\n",
      "est = 24 : 1670.969954742542, max_depth = 19\n",
      "est = 24 : 1674.129035645524, max_depth = 20\n",
      "est = 24 : 1676.0829353464992, max_depth = 21\n",
      "est = 24 : 1680.5444083402317, max_depth = 22\n",
      "est = 24 : 1686.149389314791, max_depth = 23\n",
      "est = 24 : 1688.628498460455, max_depth = 24\n"
     ]
    },
    {
     "name": "stderr",
     "output_type": "stream",
     "text": [
      " 94%|█████████▍| 15/16 [32:56<02:50, 170.17s/it]"
     ]
    },
    {
     "name": "stdout",
     "output_type": "stream",
     "text": [
      "est = 24 : 1691.6881276179324, max_depth = 25\n",
      "\n",
      "est = 25 : 1920.9739801036792, max_depth = 10\n",
      "est = 25 : 1856.730328927819, max_depth = 11\n",
      "est = 25 : 1797.7062204836777, max_depth = 12\n",
      "est = 25 : 1753.4018469418124, max_depth = 13\n",
      "est = 25 : 1720.1356604465893, max_depth = 14\n",
      "est = 25 : 1699.5554277563958, max_depth = 15\n",
      "est = 25 : 1682.9465051500263, max_depth = 16\n",
      "est = 25 : 1673.921564799996, max_depth = 17\n",
      "est = 25 : 1671.3931737379687, max_depth = 18\n",
      "est = 25 : 1671.5556583165978, max_depth = 19\n",
      "est = 25 : 1674.7894094479477, max_depth = 20\n",
      "est = 25 : 1676.5911574014485, max_depth = 21\n",
      "est = 25 : 1681.4995373085183, max_depth = 22\n",
      "est = 25 : 1686.4977551501017, max_depth = 23\n",
      "est = 25 : 1689.28687404757, max_depth = 24\n"
     ]
    },
    {
     "name": "stderr",
     "output_type": "stream",
     "text": [
      "100%|██████████| 16/16 [36:11<00:00, 135.73s/it]"
     ]
    },
    {
     "name": "stdout",
     "output_type": "stream",
     "text": [
      "est = 25 : 1691.9211347874739, max_depth = 25\n",
      "\n",
      "RMSE наилучшей модели на валидационной выборке: 1670.7853434513052\n",
      "Количество деревьев: 24\n",
      "Глубина: 18\n",
      "CPU times: user 35min 55s, sys: 11.6 s, total: 36min 7s\n",
      "Wall time: 36min 11s\n"
     ]
    },
    {
     "name": "stderr",
     "output_type": "stream",
     "text": [
      "\n"
     ]
    }
   ],
   "source": [
    "%%time\n",
    "\n",
    "best_model_forest = None\n",
    "best_result_forest = 3000\n",
    "best_est = 0\n",
    "for est in tqdm(range(10, 26)):\n",
    "    for depth in range(10, 26):\n",
    "        model = RandomForestRegressor(random_state=12345, n_estimators=est, max_depth=depth) \n",
    "        model.fit(features_train, target_train) \n",
    "        predictions = model.predict(features_valid)\n",
    "        result = mean_squared_error(target_valid, predictions, squared=False)\n",
    "        print(f'est = {est} : {result}, max_depth = {depth}')\n",
    "        if result < best_result_forest:\n",
    "            best_model_forest = model\n",
    "            best_result_forest = result\n",
    "            best_est = est \n",
    "            best_depth = depth\n",
    "    print()\n",
    "\n",
    "print('RMSE наилучшей модели на валидационной выборке:', best_result_forest)\n",
    "print('Количество деревьев:', best_est)\n",
    "print('Глубина:', best_depth)"
   ]
  },
  {
   "cell_type": "code",
   "execution_count": 43,
   "metadata": {
    "scrolled": true
   },
   "outputs": [
    {
     "name": "stdout",
     "output_type": "stream",
     "text": [
      "CPU times: user 11.8 s, sys: 16 ms, total: 11.8 s\n",
      "Wall time: 11.8 s\n"
     ]
    },
    {
     "data": {
      "text/plain": [
       "RandomForestRegressor(max_depth=18, n_estimators=24, random_state=12345)"
      ]
     },
     "execution_count": 43,
     "metadata": {},
     "output_type": "execute_result"
    }
   ],
   "source": [
    "%%time\n",
    "\n",
    "best_model_forest.fit(features_train, target_train)"
   ]
  },
  {
   "cell_type": "code",
   "execution_count": 44,
   "metadata": {},
   "outputs": [
    {
     "name": "stdout",
     "output_type": "stream",
     "text": [
      "CPU times: user 411 ms, sys: 3.99 ms, total: 415 ms\n",
      "Wall time: 424 ms\n"
     ]
    }
   ],
   "source": [
    "%%time\n",
    "\n",
    "predictions = best_model_forest.predict(features_valid)"
   ]
  },
  {
   "cell_type": "markdown",
   "metadata": {},
   "source": [
    "**LGBM**"
   ]
  },
  {
   "cell_type": "markdown",
   "metadata": {},
   "source": [
    "Перейдем к градиентному бустингу. Используем Light gradient boosting machine (реализация модели решающих деревьев с градиентным бустингом). Варьируем количество деревьев и глубину."
   ]
  },
  {
   "cell_type": "code",
   "execution_count": 45,
   "metadata": {
    "scrolled": true
   },
   "outputs": [
    {
     "name": "stderr",
     "output_type": "stream",
     "text": [
      "  0%|          | 0/16 [00:00<?, ?it/s]"
     ]
    },
    {
     "name": "stdout",
     "output_type": "stream",
     "text": [
      "est = 10 : 2644.13631653488, max_depth = 8\n",
      "est = 10 : 2644.13631653488, max_depth = 9\n",
      "est = 10 : 2644.13631653488, max_depth = 10\n",
      "est = 10 : 2644.13631653488, max_depth = 11\n",
      "est = 10 : 2644.13631653488, max_depth = 12\n",
      "est = 10 : 2644.13631653488, max_depth = 13\n",
      "est = 10 : 2644.13631653488, max_depth = 14\n",
      "est = 10 : 2644.13631653488, max_depth = 15\n",
      "est = 10 : 2644.13631653488, max_depth = 16\n",
      "est = 10 : 2644.13631653488, max_depth = 17\n",
      "est = 10 : 2644.13631653488, max_depth = 18\n",
      "est = 10 : 2644.13631653488, max_depth = 19\n",
      "est = 10 : 2644.13631653488, max_depth = 20\n",
      "est = 10 : 2644.13631653488, max_depth = 21\n",
      "est = 10 : 2644.13631653488, max_depth = 22\n",
      "est = 10 : 2644.13631653488, max_depth = 23\n",
      "est = 10 : 2644.13631653488, max_depth = 24\n"
     ]
    },
    {
     "name": "stderr",
     "output_type": "stream",
     "text": [
      "  6%|▋         | 1/16 [11:29<2:52:22, 689.49s/it]"
     ]
    },
    {
     "name": "stdout",
     "output_type": "stream",
     "text": [
      "est = 10 : 2644.13631653488, max_depth = 25\n",
      "\n",
      "est = 11 : 2561.3103239283737, max_depth = 8\n",
      "est = 11 : 2561.3103239283737, max_depth = 9\n",
      "est = 11 : 2561.3103239283737, max_depth = 10\n",
      "est = 11 : 2561.3103239283737, max_depth = 11\n",
      "est = 11 : 2561.3103239283737, max_depth = 12\n",
      "est = 11 : 2561.3103239283737, max_depth = 13\n",
      "est = 11 : 2561.3103239283737, max_depth = 14\n",
      "est = 11 : 2561.3103239283737, max_depth = 15\n",
      "est = 11 : 2561.3103239283737, max_depth = 16\n",
      "est = 11 : 2561.3103239283737, max_depth = 17\n",
      "est = 11 : 2561.3103239283737, max_depth = 18\n",
      "est = 11 : 2561.3103239283737, max_depth = 19\n",
      "est = 11 : 2561.3103239283737, max_depth = 20\n",
      "est = 11 : 2561.3103239283737, max_depth = 21\n",
      "est = 11 : 2561.3103239283737, max_depth = 22\n",
      "est = 11 : 2561.3103239283737, max_depth = 23\n",
      "est = 11 : 2561.3103239283737, max_depth = 24\n"
     ]
    },
    {
     "name": "stderr",
     "output_type": "stream",
     "text": [
      " 12%|█▎        | 2/16 [23:46<2:47:28, 717.73s/it]"
     ]
    },
    {
     "name": "stdout",
     "output_type": "stream",
     "text": [
      "est = 11 : 2561.3103239283737, max_depth = 25\n",
      "\n",
      "est = 12 : 2484.6621293036183, max_depth = 8\n",
      "est = 12 : 2484.542420886903, max_depth = 9\n",
      "est = 12 : 2484.542420886903, max_depth = 10\n",
      "est = 12 : 2484.542420886903, max_depth = 11\n",
      "est = 12 : 2484.542420886903, max_depth = 12\n",
      "est = 12 : 2484.542420886903, max_depth = 13\n",
      "est = 12 : 2484.542420886903, max_depth = 14\n",
      "est = 12 : 2484.542420886903, max_depth = 15\n",
      "est = 12 : 2484.542420886903, max_depth = 16\n",
      "est = 12 : 2484.542420886903, max_depth = 17\n",
      "est = 12 : 2484.542420886903, max_depth = 18\n",
      "est = 12 : 2484.542420886903, max_depth = 19\n",
      "est = 12 : 2484.542420886903, max_depth = 20\n",
      "est = 12 : 2484.542420886903, max_depth = 21\n",
      "est = 12 : 2484.542420886903, max_depth = 22\n",
      "est = 12 : 2484.542420886903, max_depth = 23\n",
      "est = 12 : 2484.542420886903, max_depth = 24\n"
     ]
    },
    {
     "name": "stderr",
     "output_type": "stream",
     "text": [
      " 19%|█▉        | 3/16 [37:14<2:44:22, 758.68s/it]"
     ]
    },
    {
     "name": "stdout",
     "output_type": "stream",
     "text": [
      "est = 12 : 2484.542420886903, max_depth = 25\n",
      "\n",
      "est = 13 : 2421.7387709954364, max_depth = 8\n",
      "est = 13 : 2421.514782944283, max_depth = 9\n",
      "est = 13 : 2421.514782944283, max_depth = 10\n",
      "est = 13 : 2421.514782944283, max_depth = 11\n",
      "est = 13 : 2421.514782944283, max_depth = 12\n",
      "est = 13 : 2421.514782944283, max_depth = 13\n",
      "est = 13 : 2421.514782944283, max_depth = 14\n",
      "est = 13 : 2421.514782944283, max_depth = 15\n",
      "est = 13 : 2421.514782944283, max_depth = 16\n",
      "est = 13 : 2421.514782944283, max_depth = 17\n",
      "est = 13 : 2421.514782944283, max_depth = 18\n",
      "est = 13 : 2421.514782944283, max_depth = 19\n",
      "est = 13 : 2421.514782944283, max_depth = 20\n",
      "est = 13 : 2421.514782944283, max_depth = 21\n",
      "est = 13 : 2421.514782944283, max_depth = 22\n",
      "est = 13 : 2421.514782944283, max_depth = 23\n",
      "est = 13 : 2421.514782944283, max_depth = 24\n"
     ]
    },
    {
     "name": "stderr",
     "output_type": "stream",
     "text": [
      " 25%|██▌       | 4/16 [52:38<2:44:48, 824.02s/it]"
     ]
    },
    {
     "name": "stdout",
     "output_type": "stream",
     "text": [
      "est = 13 : 2421.514782944283, max_depth = 25\n",
      "\n",
      "est = 14 : 2364.9788010078614, max_depth = 8\n",
      "est = 14 : 2364.4431206603062, max_depth = 9\n",
      "est = 14 : 2364.4431206603062, max_depth = 10\n",
      "est = 14 : 2364.4431206603062, max_depth = 11\n",
      "est = 14 : 2364.4431206603062, max_depth = 12\n",
      "est = 14 : 2364.4431206603062, max_depth = 13\n",
      "est = 14 : 2364.4431206603062, max_depth = 14\n",
      "est = 14 : 2364.4431206603062, max_depth = 15\n",
      "est = 14 : 2364.4431206603062, max_depth = 16\n",
      "est = 14 : 2364.4431206603062, max_depth = 17\n",
      "est = 14 : 2364.4431206603062, max_depth = 18\n",
      "est = 14 : 2364.4431206603062, max_depth = 19\n",
      "est = 14 : 2364.4431206603062, max_depth = 20\n",
      "est = 14 : 2364.4431206603062, max_depth = 21\n",
      "est = 14 : 2364.4431206603062, max_depth = 22\n",
      "est = 14 : 2364.4431206603062, max_depth = 23\n",
      "est = 14 : 2364.4431206603062, max_depth = 24\n"
     ]
    },
    {
     "name": "stderr",
     "output_type": "stream",
     "text": [
      " 31%|███▏      | 5/16 [1:09:02<2:41:36, 881.53s/it]"
     ]
    },
    {
     "name": "stdout",
     "output_type": "stream",
     "text": [
      "est = 14 : 2364.4431206603062, max_depth = 25\n",
      "\n",
      "est = 15 : 2313.6257682192036, max_depth = 8\n",
      "est = 15 : 2314.1227057775645, max_depth = 9\n",
      "est = 15 : 2314.1227057775645, max_depth = 10\n",
      "est = 15 : 2314.1227057775645, max_depth = 11\n",
      "est = 15 : 2314.1227057775645, max_depth = 12\n",
      "est = 15 : 2314.1227057775645, max_depth = 13\n",
      "est = 15 : 2314.1227057775645, max_depth = 14\n",
      "est = 15 : 2314.1227057775645, max_depth = 15\n",
      "est = 15 : 2314.1227057775645, max_depth = 16\n",
      "est = 15 : 2314.1227057775645, max_depth = 17\n",
      "est = 15 : 2314.1227057775645, max_depth = 18\n",
      "est = 15 : 2314.1227057775645, max_depth = 19\n",
      "est = 15 : 2314.1227057775645, max_depth = 20\n",
      "est = 15 : 2314.1227057775645, max_depth = 21\n",
      "est = 15 : 2314.1227057775645, max_depth = 22\n",
      "est = 15 : 2314.1227057775645, max_depth = 23\n",
      "est = 15 : 2314.1227057775645, max_depth = 24\n"
     ]
    },
    {
     "name": "stderr",
     "output_type": "stream",
     "text": [
      " 38%|███▊      | 6/16 [1:25:29<2:32:56, 917.70s/it]"
     ]
    },
    {
     "name": "stdout",
     "output_type": "stream",
     "text": [
      "est = 15 : 2314.1227057775645, max_depth = 25\n",
      "\n",
      "est = 16 : 2268.5414252569226, max_depth = 8\n",
      "est = 16 : 2269.868491448547, max_depth = 9\n",
      "est = 16 : 2269.868491448547, max_depth = 10\n",
      "est = 16 : 2269.868491448547, max_depth = 11\n",
      "est = 16 : 2269.868491448547, max_depth = 12\n",
      "est = 16 : 2269.868491448547, max_depth = 13\n",
      "est = 16 : 2269.868491448547, max_depth = 14\n",
      "est = 16 : 2269.868491448547, max_depth = 15\n",
      "est = 16 : 2269.868491448547, max_depth = 16\n",
      "est = 16 : 2269.868491448547, max_depth = 17\n",
      "est = 16 : 2269.868491448547, max_depth = 18\n",
      "est = 16 : 2269.868491448547, max_depth = 19\n",
      "est = 16 : 2269.868491448547, max_depth = 20\n",
      "est = 16 : 2269.868491448547, max_depth = 21\n",
      "est = 16 : 2269.868491448547, max_depth = 22\n",
      "est = 16 : 2269.868491448547, max_depth = 23\n",
      "est = 16 : 2269.868491448547, max_depth = 24\n"
     ]
    },
    {
     "name": "stderr",
     "output_type": "stream",
     "text": [
      " 44%|████▍     | 7/16 [1:44:05<2:27:20, 982.26s/it]"
     ]
    },
    {
     "name": "stdout",
     "output_type": "stream",
     "text": [
      "est = 16 : 2269.868491448547, max_depth = 25\n",
      "\n",
      "est = 17 : 2229.793957496506, max_depth = 8\n",
      "est = 17 : 2229.6269282609205, max_depth = 9\n",
      "est = 17 : 2229.6269282609205, max_depth = 10\n",
      "est = 17 : 2229.6269282609205, max_depth = 11\n",
      "est = 17 : 2229.6269282609205, max_depth = 12\n",
      "est = 17 : 2229.6269282609205, max_depth = 13\n",
      "est = 17 : 2229.6269282609205, max_depth = 14\n",
      "est = 17 : 2229.6269282609205, max_depth = 15\n",
      "est = 17 : 2229.6269282609205, max_depth = 16\n",
      "est = 17 : 2229.6269282609205, max_depth = 17\n",
      "est = 17 : 2229.6269282609205, max_depth = 18\n",
      "est = 17 : 2229.6269282609205, max_depth = 19\n",
      "est = 17 : 2229.6269282609205, max_depth = 20\n",
      "est = 17 : 2229.6269282609205, max_depth = 21\n",
      "est = 17 : 2229.6269282609205, max_depth = 22\n",
      "est = 17 : 2229.6269282609205, max_depth = 23\n",
      "est = 17 : 2229.6269282609205, max_depth = 24\n"
     ]
    },
    {
     "name": "stderr",
     "output_type": "stream",
     "text": [
      " 50%|█████     | 8/16 [2:03:42<2:19:15, 1044.45s/it]"
     ]
    },
    {
     "name": "stdout",
     "output_type": "stream",
     "text": [
      "est = 17 : 2229.6269282609205, max_depth = 25\n",
      "\n",
      "est = 18 : 2193.810376172324, max_depth = 8\n",
      "est = 18 : 2194.4676648774525, max_depth = 9\n",
      "est = 18 : 2194.4676648774525, max_depth = 10\n",
      "est = 18 : 2194.4676648774525, max_depth = 11\n",
      "est = 18 : 2194.4676648774525, max_depth = 12\n",
      "est = 18 : 2194.4676648774525, max_depth = 13\n",
      "est = 18 : 2194.4676648774525, max_depth = 14\n",
      "est = 18 : 2194.4676648774525, max_depth = 15\n",
      "est = 18 : 2194.4676648774525, max_depth = 16\n",
      "est = 18 : 2194.4676648774525, max_depth = 17\n",
      "est = 18 : 2194.4676648774525, max_depth = 18\n",
      "est = 18 : 2194.4676648774525, max_depth = 19\n",
      "est = 18 : 2194.4676648774525, max_depth = 20\n",
      "est = 18 : 2194.4676648774525, max_depth = 21\n",
      "est = 18 : 2194.4676648774525, max_depth = 22\n",
      "est = 18 : 2194.4676648774525, max_depth = 23\n",
      "est = 18 : 2194.4676648774525, max_depth = 24\n"
     ]
    },
    {
     "name": "stderr",
     "output_type": "stream",
     "text": [
      " 56%|█████▋    | 9/16 [2:25:14<2:10:52, 1121.82s/it]"
     ]
    },
    {
     "name": "stdout",
     "output_type": "stream",
     "text": [
      "est = 18 : 2194.4676648774525, max_depth = 25\n",
      "\n",
      "est = 19 : 2163.8617302521466, max_depth = 8\n",
      "est = 19 : 2163.2885774049887, max_depth = 9\n",
      "est = 19 : 2163.3139318835, max_depth = 10\n",
      "est = 19 : 2163.3139318835, max_depth = 11\n",
      "est = 19 : 2163.3139318835, max_depth = 12\n",
      "est = 19 : 2163.3139318835, max_depth = 13\n",
      "est = 19 : 2163.3139318835, max_depth = 14\n",
      "est = 19 : 2163.3139318835, max_depth = 15\n",
      "est = 19 : 2163.3139318835, max_depth = 16\n",
      "est = 19 : 2163.3139318835, max_depth = 17\n",
      "est = 19 : 2163.3139318835, max_depth = 18\n",
      "est = 19 : 2163.3139318835, max_depth = 19\n",
      "est = 19 : 2163.3139318835, max_depth = 20\n",
      "est = 19 : 2163.3139318835, max_depth = 21\n",
      "est = 19 : 2163.3139318835, max_depth = 22\n",
      "est = 19 : 2163.3139318835, max_depth = 23\n",
      "est = 19 : 2163.3139318835, max_depth = 24\n"
     ]
    },
    {
     "name": "stderr",
     "output_type": "stream",
     "text": [
      " 62%|██████▎   | 10/16 [2:49:24<2:02:19, 1223.19s/it]"
     ]
    },
    {
     "name": "stdout",
     "output_type": "stream",
     "text": [
      "est = 19 : 2163.3139318835, max_depth = 25\n",
      "\n",
      "est = 20 : 2134.813558880724, max_depth = 8\n",
      "est = 20 : 2135.61788466634, max_depth = 9\n",
      "est = 20 : 2135.5738498545443, max_depth = 10\n",
      "est = 20 : 2135.5738498545443, max_depth = 11\n",
      "est = 20 : 2135.5738498545443, max_depth = 12\n",
      "est = 20 : 2135.5738498545443, max_depth = 13\n",
      "est = 20 : 2135.5738498545443, max_depth = 14\n",
      "est = 20 : 2135.5738498545443, max_depth = 15\n",
      "est = 20 : 2135.5738498545443, max_depth = 16\n",
      "est = 20 : 2135.5738498545443, max_depth = 17\n",
      "est = 20 : 2135.5738498545443, max_depth = 18\n",
      "est = 20 : 2135.5738498545443, max_depth = 19\n",
      "est = 20 : 2135.5738498545443, max_depth = 20\n",
      "est = 20 : 2135.5738498545443, max_depth = 21\n",
      "est = 20 : 2135.5738498545443, max_depth = 22\n",
      "est = 20 : 2135.5738498545443, max_depth = 23\n",
      "est = 20 : 2135.5738498545443, max_depth = 24\n"
     ]
    },
    {
     "name": "stderr",
     "output_type": "stream",
     "text": [
      " 69%|██████▉   | 11/16 [3:13:26<1:47:30, 1290.06s/it]"
     ]
    },
    {
     "name": "stdout",
     "output_type": "stream",
     "text": [
      "est = 20 : 2135.5738498545443, max_depth = 25\n",
      "\n",
      "est = 21 : 2106.567808684331, max_depth = 8\n",
      "est = 21 : 2108.4946572114336, max_depth = 9\n",
      "est = 21 : 2108.3861880607615, max_depth = 10\n",
      "est = 21 : 2108.3861880607615, max_depth = 11\n",
      "est = 21 : 2108.3861880607615, max_depth = 12\n",
      "est = 21 : 2108.3861880607615, max_depth = 13\n",
      "est = 21 : 2108.3861880607615, max_depth = 14\n",
      "est = 21 : 2108.3861880607615, max_depth = 15\n",
      "est = 21 : 2108.3861880607615, max_depth = 16\n",
      "est = 21 : 2108.3861880607615, max_depth = 17\n",
      "est = 21 : 2108.3861880607615, max_depth = 18\n",
      "est = 21 : 2108.3861880607615, max_depth = 19\n",
      "est = 21 : 2108.3861880607615, max_depth = 20\n",
      "est = 21 : 2108.3861880607615, max_depth = 21\n",
      "est = 21 : 2108.3861880607615, max_depth = 22\n",
      "est = 21 : 2108.3861880607615, max_depth = 23\n",
      "est = 21 : 2108.3861880607615, max_depth = 24\n"
     ]
    },
    {
     "name": "stderr",
     "output_type": "stream",
     "text": [
      " 75%|███████▌  | 12/16 [3:38:05<1:29:50, 1347.66s/it]"
     ]
    },
    {
     "name": "stdout",
     "output_type": "stream",
     "text": [
      "est = 21 : 2108.3861880607615, max_depth = 25\n",
      "\n",
      "est = 22 : 2083.3791394656537, max_depth = 8\n",
      "est = 22 : 2082.8364257145236, max_depth = 9\n",
      "est = 22 : 2083.3088295294333, max_depth = 10\n",
      "est = 22 : 2083.3088295294333, max_depth = 11\n",
      "est = 22 : 2083.3088295294333, max_depth = 12\n",
      "est = 22 : 2083.3088295294333, max_depth = 13\n",
      "est = 22 : 2083.3088295294333, max_depth = 14\n",
      "est = 22 : 2083.3088295294333, max_depth = 15\n",
      "est = 22 : 2083.3088295294333, max_depth = 16\n",
      "est = 22 : 2083.3088295294333, max_depth = 17\n",
      "est = 22 : 2083.3088295294333, max_depth = 18\n",
      "est = 22 : 2083.3088295294333, max_depth = 19\n",
      "est = 22 : 2083.3088295294333, max_depth = 20\n",
      "est = 22 : 2083.3088295294333, max_depth = 21\n",
      "est = 22 : 2083.3088295294333, max_depth = 22\n",
      "est = 22 : 2083.3088295294333, max_depth = 23\n",
      "est = 22 : 2083.3088295294333, max_depth = 24\n"
     ]
    },
    {
     "name": "stderr",
     "output_type": "stream",
     "text": [
      " 81%|████████▏ | 13/16 [4:05:05<1:11:30, 1430.13s/it]"
     ]
    },
    {
     "name": "stdout",
     "output_type": "stream",
     "text": [
      "est = 22 : 2083.3088295294333, max_depth = 25\n",
      "\n",
      "est = 23 : 2058.8974216812358, max_depth = 8\n",
      "est = 23 : 2059.9407027662064, max_depth = 9\n",
      "est = 23 : 2059.514966574078, max_depth = 10\n",
      "est = 23 : 2059.514966574078, max_depth = 11\n",
      "est = 23 : 2059.514966574078, max_depth = 12\n",
      "est = 23 : 2059.514966574078, max_depth = 13\n",
      "est = 23 : 2059.514966574078, max_depth = 14\n",
      "est = 23 : 2059.514966574078, max_depth = 15\n",
      "est = 23 : 2059.514966574078, max_depth = 16\n",
      "est = 23 : 2059.514966574078, max_depth = 17\n",
      "est = 23 : 2059.514966574078, max_depth = 18\n",
      "est = 23 : 2059.514966574078, max_depth = 19\n",
      "est = 23 : 2059.514966574078, max_depth = 20\n",
      "est = 23 : 2059.514966574078, max_depth = 21\n",
      "est = 23 : 2059.514966574078, max_depth = 22\n",
      "est = 23 : 2059.514966574078, max_depth = 23\n",
      "est = 23 : 2059.514966574078, max_depth = 24\n"
     ]
    },
    {
     "name": "stderr",
     "output_type": "stream",
     "text": [
      " 88%|████████▊ | 14/16 [4:33:03<50:09, 1504.94s/it]  "
     ]
    },
    {
     "name": "stdout",
     "output_type": "stream",
     "text": [
      "est = 23 : 2059.514966574078, max_depth = 25\n",
      "\n",
      "est = 24 : 2039.1075837235633, max_depth = 8\n",
      "est = 24 : 2039.252176754669, max_depth = 9\n",
      "est = 24 : 2039.148362545408, max_depth = 10\n",
      "est = 24 : 2039.1483625454082, max_depth = 11\n",
      "est = 24 : 2039.148362545408, max_depth = 12\n",
      "est = 24 : 2039.148362545408, max_depth = 13\n",
      "est = 24 : 2039.1483625454082, max_depth = 14\n",
      "est = 24 : 2039.1483625454082, max_depth = 15\n",
      "est = 24 : 2039.1483625454082, max_depth = 16\n",
      "est = 24 : 2039.1483625454082, max_depth = 17\n",
      "est = 24 : 2039.1483625454082, max_depth = 18\n",
      "est = 24 : 2039.1483625454082, max_depth = 19\n",
      "est = 24 : 2039.1483625454082, max_depth = 20\n",
      "est = 24 : 2039.1483625454082, max_depth = 21\n",
      "est = 24 : 2039.148362545408, max_depth = 22\n",
      "est = 24 : 2039.1483625454082, max_depth = 23\n",
      "est = 24 : 2039.148362545408, max_depth = 24\n"
     ]
    },
    {
     "name": "stderr",
     "output_type": "stream",
     "text": [
      " 94%|█████████▍| 15/16 [5:02:44<26:28, 1588.21s/it]"
     ]
    },
    {
     "name": "stdout",
     "output_type": "stream",
     "text": [
      "est = 24 : 2039.1483625454082, max_depth = 25\n",
      "\n",
      "est = 25 : 2017.2758291623265, max_depth = 8\n",
      "est = 25 : 2021.207180226748, max_depth = 9\n",
      "est = 25 : 2020.2045538307661, max_depth = 10\n",
      "est = 25 : 2020.2045538307661, max_depth = 11\n",
      "est = 25 : 2020.2045538307661, max_depth = 12\n",
      "est = 25 : 2020.2045538307661, max_depth = 13\n",
      "est = 25 : 2020.2045538307661, max_depth = 14\n",
      "est = 25 : 2020.2045538307661, max_depth = 15\n",
      "est = 25 : 2020.2045538307661, max_depth = 16\n",
      "est = 25 : 2020.2045538307661, max_depth = 17\n",
      "est = 25 : 2020.2045538307661, max_depth = 18\n",
      "est = 25 : 2020.2045538307661, max_depth = 19\n",
      "est = 25 : 2020.2045538307661, max_depth = 20\n",
      "est = 25 : 2020.2045538307661, max_depth = 21\n",
      "est = 25 : 2020.2045538307661, max_depth = 22\n",
      "est = 25 : 2020.2045538307661, max_depth = 23\n",
      "est = 25 : 2020.2045538307661, max_depth = 24\n"
     ]
    },
    {
     "name": "stderr",
     "output_type": "stream",
     "text": [
      "100%|██████████| 16/16 [5:36:17<00:00, 1261.07s/it]"
     ]
    },
    {
     "name": "stdout",
     "output_type": "stream",
     "text": [
      "est = 25 : 2020.2045538307661, max_depth = 25\n",
      "\n",
      "RMSE наилучшей модели на валидационной выборке: 2017.2758291623265\n",
      "Количество деревьев: 25\n",
      "Глубина: 8\n",
      "CPU times: user 5h 30min 50s, sys: 2min 32s, total: 5h 33min 22s\n",
      "Wall time: 5h 36min 17s\n"
     ]
    },
    {
     "name": "stderr",
     "output_type": "stream",
     "text": [
      "\n"
     ]
    }
   ],
   "source": [
    "%%time\n",
    "\n",
    "best_model_lgb = None\n",
    "best_result_lgb = 3000\n",
    "best_est = 0\n",
    "best_depth = 0\n",
    "\n",
    "for est in tqdm(range(10, 26)):\n",
    "    for depth in range(8, 26):\n",
    "        model = lgb.LGBMModel(objective=\"regression\", random_state=12345, n_estimators=est, max_depth=depth) \n",
    "        model.fit(features_train, target_train, eval_metric='rmse', categorical_feature='auto') \n",
    "        predictions = model.predict(features_valid)\n",
    "        result = mean_squared_error(target_valid, predictions, squared=False)\n",
    "        print(f'est = {est} : {result}, max_depth = {depth}')\n",
    "        if result < best_result_lgb:\n",
    "            best_model_lgb = model\n",
    "            best_result_lgb = result\n",
    "            best_est = est \n",
    "            best_depth = depth\n",
    "    print()\n",
    "\n",
    "print('RMSE наилучшей модели на валидационной выборке:', best_result_lgb)\n",
    "print('Количество деревьев:', best_est)\n",
    "print('Глубина:', best_depth)"
   ]
  },
  {
   "cell_type": "code",
   "execution_count": 46,
   "metadata": {},
   "outputs": [
    {
     "name": "stdout",
     "output_type": "stream",
     "text": [
      "CPU times: user 1min 37s, sys: 632 ms, total: 1min 38s\n",
      "Wall time: 1min 39s\n"
     ]
    },
    {
     "data": {
      "text/plain": [
       "LGBMModel(max_depth=8, n_estimators=25, objective='regression',\n",
       "          random_state=12345)"
      ]
     },
     "execution_count": 46,
     "metadata": {},
     "output_type": "execute_result"
    }
   ],
   "source": [
    "%%time\n",
    "\n",
    "best_model_lgb.fit(features_train, target_train)"
   ]
  },
  {
   "cell_type": "code",
   "execution_count": 47,
   "metadata": {},
   "outputs": [
    {
     "name": "stdout",
     "output_type": "stream",
     "text": [
      "CPU times: user 184 ms, sys: 4.06 ms, total: 188 ms\n",
      "Wall time: 205 ms\n"
     ]
    }
   ],
   "source": [
    "%%time\n",
    "\n",
    "predictions = best_model_lgb.predict(features_valid)"
   ]
  },
  {
   "cell_type": "markdown",
   "metadata": {},
   "source": [
    "**CatBoost**"
   ]
  },
  {
   "cell_type": "markdown",
   "metadata": {},
   "source": [
    "Используем CatBoost. Будем варьировать количество итераций, глубину и скорость обучения."
   ]
  },
  {
   "cell_type": "markdown",
   "metadata": {},
   "source": [
    "Для CatBoost приведем категориальные признаки к формату int."
   ]
  },
  {
   "cell_type": "code",
   "execution_count": 48,
   "metadata": {},
   "outputs": [],
   "source": [
    "features_train_CB = features_train.copy()\n",
    "features_valid_CB = features_valid.copy()\n",
    "features_test_CB = features_test.copy()\n",
    "\n",
    "features_train_CB[features_categorical] = features_train[features_categorical].astype(int)\n",
    "features_valid_CB[features_categorical] = features_valid[features_categorical].astype(int)\n",
    "features_test_CB[features_categorical] = features_test[features_categorical].astype(int)"
   ]
  },
  {
   "cell_type": "code",
   "execution_count": 49,
   "metadata": {
    "scrolled": true
   },
   "outputs": [
    {
     "name": "stderr",
     "output_type": "stream",
     "text": [
      "  0%|          | 0/6 [00:00<?, ?it/s]"
     ]
    },
    {
     "name": "stdout",
     "output_type": "stream",
     "text": [
      "iteration = 35 : 1685.3727597254065, depth = 10, rate = 0.4\n",
      "iteration = 35 : 1683.5804407508324, depth = 10, rate = 0.5\n",
      "iteration = 35 : 1675.5624876198963, depth = 10, rate = 0.6\n",
      "iteration = 35 : 1690.6765682516625, depth = 10, rate = 0.7\n",
      "iteration = 35 : 1698.644471044087, depth = 10, rate = 0.8\n",
      "iteration = 35 : 1708.823850870014, depth = 10, rate = 0.9\n",
      "iteration = 35 : 1735.8830256434994, depth = 10, rate = 1.0\n",
      "iteration = 35 : 1674.8878538308502, depth = 11, rate = 0.4\n",
      "iteration = 35 : 1663.1512319632373, depth = 11, rate = 0.5\n",
      "iteration = 35 : 1665.6860145840126, depth = 11, rate = 0.6\n",
      "iteration = 35 : 1670.7506891789167, depth = 11, rate = 0.7\n",
      "iteration = 35 : 1685.5417020170157, depth = 11, rate = 0.8\n",
      "iteration = 35 : 1687.3740646725066, depth = 11, rate = 0.9\n",
      "iteration = 35 : 1723.466176247701, depth = 11, rate = 1.0\n",
      "iteration = 35 : 1655.9494986152315, depth = 12, rate = 0.4\n",
      "iteration = 35 : 1659.526588502847, depth = 12, rate = 0.5\n",
      "iteration = 35 : 1669.684870755025, depth = 12, rate = 0.6\n",
      "iteration = 35 : 1676.9795948907304, depth = 12, rate = 0.7\n",
      "iteration = 35 : 1684.5997731776633, depth = 12, rate = 0.8\n",
      "iteration = 35 : 1706.8069481784337, depth = 12, rate = 0.9\n",
      "iteration = 35 : 1722.6677856356903, depth = 12, rate = 1.0\n",
      "iteration = 35 : 1649.199981061021, depth = 13, rate = 0.4\n",
      "iteration = 35 : 1659.1275038187848, depth = 13, rate = 0.5\n",
      "iteration = 35 : 1667.2038410689038, depth = 13, rate = 0.6\n",
      "iteration = 35 : 1675.637518730014, depth = 13, rate = 0.7\n",
      "iteration = 35 : 1684.6146162590173, depth = 13, rate = 0.8\n",
      "iteration = 35 : 1704.5539174811918, depth = 13, rate = 0.9\n",
      "iteration = 35 : 1728.8915325275523, depth = 13, rate = 1.0\n",
      "iteration = 35 : 1643.6716185176615, depth = 14, rate = 0.4\n",
      "iteration = 35 : 1658.2855962875797, depth = 14, rate = 0.5\n",
      "iteration = 35 : 1665.5458989819278, depth = 14, rate = 0.6\n",
      "iteration = 35 : 1669.3206925796508, depth = 14, rate = 0.7\n",
      "iteration = 35 : 1692.919763510812, depth = 14, rate = 0.8\n",
      "iteration = 35 : 1721.3285209203787, depth = 14, rate = 0.9\n",
      "iteration = 35 : 1737.616626933869, depth = 14, rate = 1.0\n",
      "iteration = 35 : 1652.509995692705, depth = 15, rate = 0.4\n",
      "iteration = 35 : 1659.117172831669, depth = 15, rate = 0.5\n",
      "iteration = 35 : 1672.1391982584316, depth = 15, rate = 0.6\n",
      "iteration = 35 : 1689.4911409532613, depth = 15, rate = 0.7\n",
      "iteration = 35 : 1704.2284832785513, depth = 15, rate = 0.8\n",
      "iteration = 35 : 1726.787271392133, depth = 15, rate = 0.9\n"
     ]
    },
    {
     "name": "stderr",
     "output_type": "stream",
     "text": [
      " 17%|█▋        | 1/6 [08:13<41:09, 493.85s/it]"
     ]
    },
    {
     "name": "stdout",
     "output_type": "stream",
     "text": [
      "iteration = 35 : 1741.7354904528202, depth = 15, rate = 1.0\n",
      "\n",
      "iteration = 36 : 1682.645830112692, depth = 10, rate = 0.4\n",
      "iteration = 36 : 1681.9340576658637, depth = 10, rate = 0.5\n",
      "iteration = 36 : 1673.4535606858742, depth = 10, rate = 0.6\n",
      "iteration = 36 : 1689.9358200894596, depth = 10, rate = 0.7\n",
      "iteration = 36 : 1696.9980551801098, depth = 10, rate = 0.8\n",
      "iteration = 36 : 1708.4531579294585, depth = 10, rate = 0.9\n",
      "iteration = 36 : 1734.3045512284116, depth = 10, rate = 1.0\n",
      "iteration = 36 : 1671.8830994142797, depth = 11, rate = 0.4\n",
      "iteration = 36 : 1661.778349671144, depth = 11, rate = 0.5\n",
      "iteration = 36 : 1663.2587050845254, depth = 11, rate = 0.6\n",
      "iteration = 36 : 1669.564976727804, depth = 11, rate = 0.7\n",
      "iteration = 36 : 1685.3594678813581, depth = 11, rate = 0.8\n",
      "iteration = 36 : 1688.12863143781, depth = 11, rate = 0.9\n",
      "iteration = 36 : 1724.022675286304, depth = 11, rate = 1.0\n",
      "iteration = 36 : 1653.6966568630953, depth = 12, rate = 0.4\n",
      "iteration = 36 : 1658.634817873952, depth = 12, rate = 0.5\n",
      "iteration = 36 : 1668.5028131200631, depth = 12, rate = 0.6\n",
      "iteration = 36 : 1676.6649569182216, depth = 12, rate = 0.7\n",
      "iteration = 36 : 1684.790418274213, depth = 12, rate = 0.8\n",
      "iteration = 36 : 1705.1235599259544, depth = 12, rate = 0.9\n",
      "iteration = 36 : 1724.2749158751299, depth = 12, rate = 1.0\n",
      "iteration = 36 : 1647.5720754057354, depth = 13, rate = 0.4\n",
      "iteration = 36 : 1658.708435773466, depth = 13, rate = 0.5\n",
      "iteration = 36 : 1666.7074905732675, depth = 13, rate = 0.6\n",
      "iteration = 36 : 1675.2293502463497, depth = 13, rate = 0.7\n",
      "iteration = 36 : 1684.4857241533955, depth = 13, rate = 0.8\n",
      "iteration = 36 : 1704.3986276573005, depth = 13, rate = 0.9\n",
      "iteration = 36 : 1729.8211299470274, depth = 13, rate = 1.0\n",
      "iteration = 36 : 1643.5568553532732, depth = 14, rate = 0.4\n",
      "iteration = 36 : 1656.9300408830836, depth = 14, rate = 0.5\n",
      "iteration = 36 : 1666.127335695973, depth = 14, rate = 0.6\n",
      "iteration = 36 : 1669.6413452823876, depth = 14, rate = 0.7\n",
      "iteration = 36 : 1692.5184770456208, depth = 14, rate = 0.8\n",
      "iteration = 36 : 1722.725281748407, depth = 14, rate = 0.9\n",
      "iteration = 36 : 1736.896377276242, depth = 14, rate = 1.0\n",
      "iteration = 36 : 1651.271472341403, depth = 15, rate = 0.4\n",
      "iteration = 36 : 1658.9936693448292, depth = 15, rate = 0.5\n",
      "iteration = 36 : 1671.8426467693819, depth = 15, rate = 0.6\n",
      "iteration = 36 : 1688.7963610852596, depth = 15, rate = 0.7\n",
      "iteration = 36 : 1705.7576252263361, depth = 15, rate = 0.8\n",
      "iteration = 36 : 1727.1588458007668, depth = 15, rate = 0.9\n"
     ]
    },
    {
     "name": "stderr",
     "output_type": "stream",
     "text": [
      " 33%|███▎      | 2/6 [16:35<33:14, 498.56s/it]"
     ]
    },
    {
     "name": "stdout",
     "output_type": "stream",
     "text": [
      "iteration = 36 : 1742.474122477202, depth = 15, rate = 1.0\n",
      "\n",
      "iteration = 37 : 1681.43250273701, depth = 10, rate = 0.4\n",
      "iteration = 37 : 1678.8743496216732, depth = 10, rate = 0.5\n",
      "iteration = 37 : 1672.0903603849633, depth = 10, rate = 0.6\n",
      "iteration = 37 : 1690.0286053821148, depth = 10, rate = 0.7\n",
      "iteration = 37 : 1695.5902402895438, depth = 10, rate = 0.8\n",
      "iteration = 37 : 1705.0767027882096, depth = 10, rate = 0.9\n",
      "iteration = 37 : 1734.674369342892, depth = 10, rate = 1.0\n",
      "iteration = 37 : 1669.1272319678842, depth = 11, rate = 0.4\n",
      "iteration = 37 : 1661.1967813351457, depth = 11, rate = 0.5\n",
      "iteration = 37 : 1663.3915518609235, depth = 11, rate = 0.6\n",
      "iteration = 37 : 1668.9087185873836, depth = 11, rate = 0.7\n",
      "iteration = 37 : 1680.9227881179743, depth = 11, rate = 0.8\n",
      "iteration = 37 : 1689.6457505480241, depth = 11, rate = 0.9\n",
      "iteration = 37 : 1723.1665749950384, depth = 11, rate = 1.0\n",
      "iteration = 37 : 1652.5896033909164, depth = 12, rate = 0.4\n",
      "iteration = 37 : 1657.344110938743, depth = 12, rate = 0.5\n",
      "iteration = 37 : 1667.0985409824639, depth = 12, rate = 0.6\n",
      "iteration = 37 : 1675.8910571317913, depth = 12, rate = 0.7\n",
      "iteration = 37 : 1684.7378560378997, depth = 12, rate = 0.8\n",
      "iteration = 37 : 1703.0292924085745, depth = 12, rate = 0.9\n",
      "iteration = 37 : 1723.2297425003535, depth = 12, rate = 1.0\n",
      "iteration = 37 : 1646.8304908729297, depth = 13, rate = 0.4\n",
      "iteration = 37 : 1658.044538197938, depth = 13, rate = 0.5\n",
      "iteration = 37 : 1665.119964874776, depth = 13, rate = 0.6\n",
      "iteration = 37 : 1674.7972741725387, depth = 13, rate = 0.7\n",
      "iteration = 37 : 1684.4613944063658, depth = 13, rate = 0.8\n",
      "iteration = 37 : 1704.3890718778075, depth = 13, rate = 0.9\n",
      "iteration = 37 : 1729.68948653574, depth = 13, rate = 1.0\n",
      "iteration = 37 : 1642.64392350467, depth = 14, rate = 0.4\n",
      "iteration = 37 : 1656.1540398806842, depth = 14, rate = 0.5\n",
      "iteration = 37 : 1665.950983232117, depth = 14, rate = 0.6\n",
      "iteration = 37 : 1669.6266141723638, depth = 14, rate = 0.7\n",
      "iteration = 37 : 1692.7543559294645, depth = 14, rate = 0.8\n",
      "iteration = 37 : 1722.8850766241987, depth = 14, rate = 0.9\n",
      "iteration = 37 : 1737.4155594901333, depth = 14, rate = 1.0\n",
      "iteration = 37 : 1650.6778696528484, depth = 15, rate = 0.4\n",
      "iteration = 37 : 1658.691832183016, depth = 15, rate = 0.5\n",
      "iteration = 37 : 1671.6022296216224, depth = 15, rate = 0.6\n",
      "iteration = 37 : 1688.6790444450335, depth = 15, rate = 0.7\n",
      "iteration = 37 : 1705.4915688585206, depth = 15, rate = 0.8\n",
      "iteration = 37 : 1727.4290590533712, depth = 15, rate = 0.9\n"
     ]
    },
    {
     "name": "stderr",
     "output_type": "stream",
     "text": [
      " 50%|█████     | 3/6 [25:17<25:27, 509.10s/it]"
     ]
    },
    {
     "name": "stdout",
     "output_type": "stream",
     "text": [
      "iteration = 37 : 1743.4923153987702, depth = 15, rate = 1.0\n",
      "\n",
      "iteration = 38 : 1680.537349147617, depth = 10, rate = 0.4\n",
      "iteration = 38 : 1675.7946404074519, depth = 10, rate = 0.5\n",
      "iteration = 38 : 1670.9108115590138, depth = 10, rate = 0.6\n",
      "iteration = 38 : 1687.7904667591567, depth = 10, rate = 0.7\n",
      "iteration = 38 : 1690.3389588665634, depth = 10, rate = 0.8\n",
      "iteration = 38 : 1703.7965095966806, depth = 10, rate = 0.9\n",
      "iteration = 38 : 1734.5428707177575, depth = 10, rate = 1.0\n",
      "iteration = 38 : 1666.7620474932528, depth = 11, rate = 0.4\n",
      "iteration = 38 : 1658.4156008496893, depth = 11, rate = 0.5\n",
      "iteration = 38 : 1662.2409810961378, depth = 11, rate = 0.6\n",
      "iteration = 38 : 1669.0145753686124, depth = 11, rate = 0.7\n",
      "iteration = 38 : 1677.4631183392885, depth = 11, rate = 0.8\n",
      "iteration = 38 : 1689.7758991351382, depth = 11, rate = 0.9\n",
      "iteration = 38 : 1724.2310968814948, depth = 11, rate = 1.0\n",
      "iteration = 38 : 1651.7567323754602, depth = 12, rate = 0.4\n",
      "iteration = 38 : 1655.3448713989821, depth = 12, rate = 0.5\n",
      "iteration = 38 : 1666.9614495090566, depth = 12, rate = 0.6\n",
      "iteration = 38 : 1675.317146988393, depth = 12, rate = 0.7\n",
      "iteration = 38 : 1683.9595751123943, depth = 12, rate = 0.8\n",
      "iteration = 38 : 1703.6638881926751, depth = 12, rate = 0.9\n",
      "iteration = 38 : 1721.5924134866773, depth = 12, rate = 1.0\n",
      "iteration = 38 : 1645.4295698836306, depth = 13, rate = 0.4\n",
      "iteration = 38 : 1657.6984595883807, depth = 13, rate = 0.5\n",
      "iteration = 38 : 1664.5066527320387, depth = 13, rate = 0.6\n",
      "iteration = 38 : 1674.520704456363, depth = 13, rate = 0.7\n",
      "iteration = 38 : 1684.0582402241307, depth = 13, rate = 0.8\n",
      "iteration = 38 : 1702.932746481842, depth = 13, rate = 0.9\n",
      "iteration = 38 : 1730.259685088117, depth = 13, rate = 1.0\n",
      "iteration = 38 : 1642.328889383104, depth = 14, rate = 0.4\n",
      "iteration = 38 : 1655.830218883409, depth = 14, rate = 0.5\n",
      "iteration = 38 : 1664.873370677564, depth = 14, rate = 0.6\n",
      "iteration = 38 : 1669.9631704024277, depth = 14, rate = 0.7\n",
      "iteration = 38 : 1690.9766260204526, depth = 14, rate = 0.8\n",
      "iteration = 38 : 1723.3257245957084, depth = 14, rate = 0.9\n",
      "iteration = 38 : 1737.4534029930373, depth = 14, rate = 1.0\n",
      "iteration = 38 : 1649.702278157718, depth = 15, rate = 0.4\n",
      "iteration = 38 : 1657.1074283338717, depth = 15, rate = 0.5\n",
      "iteration = 38 : 1671.7080285751747, depth = 15, rate = 0.6\n",
      "iteration = 38 : 1687.860163805564, depth = 15, rate = 0.7\n",
      "iteration = 38 : 1705.6626569871523, depth = 15, rate = 0.8\n",
      "iteration = 38 : 1728.3928923777996, depth = 15, rate = 0.9\n"
     ]
    },
    {
     "name": "stderr",
     "output_type": "stream",
     "text": [
      " 67%|██████▋   | 4/6 [34:08<17:15, 517.80s/it]"
     ]
    },
    {
     "name": "stdout",
     "output_type": "stream",
     "text": [
      "iteration = 38 : 1742.7979346052834, depth = 15, rate = 1.0\n",
      "\n",
      "iteration = 39 : 1679.516484716586, depth = 10, rate = 0.4\n",
      "iteration = 39 : 1674.8236624864285, depth = 10, rate = 0.5\n",
      "iteration = 39 : 1669.6482922503826, depth = 10, rate = 0.6\n",
      "iteration = 39 : 1687.3287034996647, depth = 10, rate = 0.7\n",
      "iteration = 39 : 1688.9460352491321, depth = 10, rate = 0.8\n",
      "iteration = 39 : 1703.0975113528425, depth = 10, rate = 0.9\n",
      "iteration = 39 : 1733.8676796267505, depth = 10, rate = 1.0\n",
      "iteration = 39 : 1664.7947354716462, depth = 11, rate = 0.4\n",
      "iteration = 39 : 1658.0952957038246, depth = 11, rate = 0.5\n",
      "iteration = 39 : 1661.7611051697043, depth = 11, rate = 0.6\n",
      "iteration = 39 : 1667.8143004633828, depth = 11, rate = 0.7\n",
      "iteration = 39 : 1676.2242531717502, depth = 11, rate = 0.8\n",
      "iteration = 39 : 1690.2297549036111, depth = 11, rate = 0.9\n",
      "iteration = 39 : 1722.1846450038101, depth = 11, rate = 1.0\n",
      "iteration = 39 : 1647.887867884154, depth = 12, rate = 0.4\n",
      "iteration = 39 : 1655.15427084194, depth = 12, rate = 0.5\n",
      "iteration = 39 : 1666.7369205758223, depth = 12, rate = 0.6\n",
      "iteration = 39 : 1675.2919874371223, depth = 12, rate = 0.7\n",
      "iteration = 39 : 1684.4220046321159, depth = 12, rate = 0.8\n",
      "iteration = 39 : 1702.9401330782484, depth = 12, rate = 0.9\n",
      "iteration = 39 : 1720.96785364716, depth = 12, rate = 1.0\n",
      "iteration = 39 : 1644.214896831765, depth = 13, rate = 0.4\n",
      "iteration = 39 : 1656.7566591151935, depth = 13, rate = 0.5\n",
      "iteration = 39 : 1665.1743833114458, depth = 13, rate = 0.6\n",
      "iteration = 39 : 1673.8110250500695, depth = 13, rate = 0.7\n",
      "iteration = 39 : 1684.6359476795424, depth = 13, rate = 0.8\n",
      "iteration = 39 : 1703.2010892383908, depth = 13, rate = 0.9\n",
      "iteration = 39 : 1730.5907448867306, depth = 13, rate = 1.0\n",
      "iteration = 39 : 1641.9071157440292, depth = 14, rate = 0.4\n",
      "iteration = 39 : 1653.7334315908913, depth = 14, rate = 0.5\n",
      "iteration = 39 : 1665.1373647654807, depth = 14, rate = 0.6\n",
      "iteration = 39 : 1669.0959949844325, depth = 14, rate = 0.7\n",
      "iteration = 39 : 1691.3384346034188, depth = 14, rate = 0.8\n",
      "iteration = 39 : 1722.8634184577684, depth = 14, rate = 0.9\n",
      "iteration = 39 : 1738.0473888441236, depth = 14, rate = 1.0\n",
      "iteration = 39 : 1648.694781536725, depth = 15, rate = 0.4\n",
      "iteration = 39 : 1656.6607537794146, depth = 15, rate = 0.5\n",
      "iteration = 39 : 1672.0933487625111, depth = 15, rate = 0.6\n",
      "iteration = 39 : 1687.1330432497584, depth = 15, rate = 0.7\n",
      "iteration = 39 : 1706.1987693027431, depth = 15, rate = 0.8\n",
      "iteration = 39 : 1728.1543665879642, depth = 15, rate = 0.9\n"
     ]
    },
    {
     "name": "stderr",
     "output_type": "stream",
     "text": [
      " 83%|████████▎ | 5/6 [43:12<08:47, 527.42s/it]"
     ]
    },
    {
     "name": "stdout",
     "output_type": "stream",
     "text": [
      "iteration = 39 : 1743.4412434524643, depth = 15, rate = 1.0\n",
      "\n",
      "iteration = 40 : 1676.3054001292144, depth = 10, rate = 0.4\n",
      "iteration = 40 : 1671.0970890451051, depth = 10, rate = 0.5\n",
      "iteration = 40 : 1668.1367569872634, depth = 10, rate = 0.6\n",
      "iteration = 40 : 1686.1674762102782, depth = 10, rate = 0.7\n",
      "iteration = 40 : 1687.7999874490326, depth = 10, rate = 0.8\n",
      "iteration = 40 : 1703.5895188141749, depth = 10, rate = 0.9\n",
      "iteration = 40 : 1733.3820375343341, depth = 10, rate = 1.0\n",
      "iteration = 40 : 1662.2101688377186, depth = 11, rate = 0.4\n",
      "iteration = 40 : 1655.1596548565187, depth = 11, rate = 0.5\n",
      "iteration = 40 : 1661.731627282569, depth = 11, rate = 0.6\n",
      "iteration = 40 : 1667.7689842393775, depth = 11, rate = 0.7\n",
      "iteration = 40 : 1674.8756507583137, depth = 11, rate = 0.8\n",
      "iteration = 40 : 1688.8132233853917, depth = 11, rate = 0.9\n",
      "iteration = 40 : 1722.5152865376251, depth = 11, rate = 1.0\n",
      "iteration = 40 : 1646.858424839209, depth = 12, rate = 0.4\n",
      "iteration = 40 : 1654.510241604523, depth = 12, rate = 0.5\n",
      "iteration = 40 : 1663.7140365800597, depth = 12, rate = 0.6\n",
      "iteration = 40 : 1674.630757189391, depth = 12, rate = 0.7\n",
      "iteration = 40 : 1682.8577155807998, depth = 12, rate = 0.8\n",
      "iteration = 40 : 1704.0818760819204, depth = 12, rate = 0.9\n",
      "iteration = 40 : 1722.205771474652, depth = 12, rate = 1.0\n",
      "iteration = 40 : 1644.084719173942, depth = 13, rate = 0.4\n",
      "iteration = 40 : 1655.749405489407, depth = 13, rate = 0.5\n",
      "iteration = 40 : 1664.3582281378056, depth = 13, rate = 0.6\n",
      "iteration = 40 : 1673.7387606879322, depth = 13, rate = 0.7\n",
      "iteration = 40 : 1684.1473644832788, depth = 13, rate = 0.8\n",
      "iteration = 40 : 1703.7455018382645, depth = 13, rate = 0.9\n",
      "iteration = 40 : 1730.3438563757295, depth = 13, rate = 1.0\n",
      "iteration = 40 : 1641.5568548936765, depth = 14, rate = 0.4\n",
      "iteration = 40 : 1652.5903362913134, depth = 14, rate = 0.5\n",
      "iteration = 40 : 1664.2569754415395, depth = 14, rate = 0.6\n",
      "iteration = 40 : 1668.4871189614685, depth = 14, rate = 0.7\n",
      "iteration = 40 : 1690.7399794019277, depth = 14, rate = 0.8\n",
      "iteration = 40 : 1723.1608141345482, depth = 14, rate = 0.9\n",
      "iteration = 40 : 1738.9027705018002, depth = 14, rate = 1.0\n",
      "iteration = 40 : 1646.947909387477, depth = 15, rate = 0.4\n",
      "iteration = 40 : 1656.0689452685667, depth = 15, rate = 0.5\n",
      "iteration = 40 : 1671.5611660869856, depth = 15, rate = 0.6\n",
      "iteration = 40 : 1686.8522258696087, depth = 15, rate = 0.7\n",
      "iteration = 40 : 1706.4013462485125, depth = 15, rate = 0.8\n",
      "iteration = 40 : 1729.0451563471372, depth = 15, rate = 0.9\n"
     ]
    },
    {
     "name": "stderr",
     "output_type": "stream",
     "text": [
      "100%|██████████| 6/6 [52:29<00:00, 524.97s/it]"
     ]
    },
    {
     "name": "stdout",
     "output_type": "stream",
     "text": [
      "iteration = 40 : 1745.7588583025668, depth = 15, rate = 1.0\n",
      "\n",
      "RMSE наилучшей модели на валидационной выборке: 1641.5568548936765\n",
      "Количество итераций: 40\n",
      "Глубина: 14\n",
      "Скорость: 0.4\n",
      "CPU times: user 45min 22s, sys: 4min 31s, total: 49min 54s\n",
      "Wall time: 52min 29s\n"
     ]
    },
    {
     "name": "stderr",
     "output_type": "stream",
     "text": [
      "\n"
     ]
    }
   ],
   "source": [
    "%%time\n",
    "\n",
    "best_model_catboost = None\n",
    "best_result_catboost = 3000\n",
    "best_iteration = 0\n",
    "best_rate = 0\n",
    "for iteration in tqdm(range(35, 41)):\n",
    "    for depth in range(10, 16):\n",
    "        for rate in [x / 10.0 for x in range(4, 11, 1)]:\n",
    "            model = CatBoostRegressor(iterations=iteration, \n",
    "                              depth=depth, \n",
    "                              learning_rate=rate, \n",
    "                              loss_function='RMSE')\n",
    "            model.fit(features_train_CB, target_train, cat_features=features_categorical, verbose=False) \n",
    "            predictions = model.predict(features_valid_CB)\n",
    "            result = mean_squared_error(target_valid, predictions, squared=False)\n",
    "            print(f'iteration = {iteration} : {result}, depth = {depth}, rate = {rate}')\n",
    "            if result < best_result_catboost:\n",
    "                best_model_catboost = model\n",
    "                best_result_catboost = result\n",
    "                best_iteration = iteration \n",
    "                best_depth = depth\n",
    "                best_rate = rate\n",
    "    print()\n",
    "\n",
    "print('RMSE наилучшей модели на валидационной выборке:', best_result_catboost)\n",
    "print('Количество итераций:', best_iteration)\n",
    "print('Глубина:', best_depth)\n",
    "print('Скорость:', best_rate)"
   ]
  },
  {
   "cell_type": "markdown",
   "metadata": {},
   "source": [
    "<a id='step5'></a>"
   ]
  },
  {
   "cell_type": "code",
   "execution_count": 50,
   "metadata": {},
   "outputs": [
    {
     "name": "stdout",
     "output_type": "stream",
     "text": [
      "CPU times: user 10.3 s, sys: 3.25 s, total: 13.6 s\n",
      "Wall time: 14.1 s\n"
     ]
    },
    {
     "data": {
      "text/plain": [
       "<catboost.core.CatBoostRegressor at 0x7f99950acd30>"
      ]
     },
     "execution_count": 50,
     "metadata": {},
     "output_type": "execute_result"
    }
   ],
   "source": [
    "%%time\n",
    "\n",
    "best_model_catboost.fit(features_train_CB, target_train, verbose=False)"
   ]
  },
  {
   "cell_type": "code",
   "execution_count": 51,
   "metadata": {
    "scrolled": true
   },
   "outputs": [
    {
     "name": "stdout",
     "output_type": "stream",
     "text": [
      "CPU times: user 16.4 ms, sys: 4.12 ms, total: 20.5 ms\n",
      "Wall time: 19 ms\n"
     ]
    }
   ],
   "source": [
    "%%time\n",
    "\n",
    "predictions = best_model_catboost.predict(features_valid_CB)"
   ]
  },
  {
   "cell_type": "markdown",
   "metadata": {},
   "source": [
    "## Анализ моделей"
   ]
  },
  {
   "cell_type": "markdown",
   "metadata": {},
   "source": [
    "Для модели решающего дерева варьировался параметр глубины. Лучшая RMSE = 1925 получилась на глубине 14, хороший результат, учитывая тот факт, что глубина была подобрана за 13,2 секунды (пройдено 22 итерации).\n",
    "\n",
    "\n",
    "Время обучения: 0.597 с <br>\n",
    "Время предсказания: 0.013 с"
   ]
  },
  {
   "cell_type": "markdown",
   "metadata": {},
   "source": [
    " "
   ]
  },
  {
   "cell_type": "markdown",
   "metadata": {},
   "source": [
    "Для случайного леса варьировалось количество деревьев и значение глубины. Лучшая RMSE = 1671 с количеством деревьев 24 и глубиной 18. Параметры подобраны за 35 минут 55 секунд (пройдено 256 итераций).\n",
    "\n",
    "\n",
    "Время обучения: 11.8 с <br>\n",
    "Время предсказания: 0.424 с"
   ]
  },
  {
   "cell_type": "markdown",
   "metadata": {},
   "source": [
    " "
   ]
  },
  {
   "cell_type": "markdown",
   "metadata": {},
   "source": [
    "Для LGBM варьировалось количество деревьев и значение глубины. Лучшая RMSE = 2017 с количеством деревьев 25 и глубиной 8. Параметры подобраны за 5 ч 31 минуту (пройдено 288 итераций).\n",
    "\n",
    "\n",
    "Время обучения: 1 мин 39 с с <br>\n",
    "Время предсказания: 0.205 с"
   ]
  },
  {
   "cell_type": "markdown",
   "metadata": {},
   "source": [
    " "
   ]
  },
  {
   "cell_type": "markdown",
   "metadata": {},
   "source": [
    "Для CatBoost варьировалось количество итераций, глубина и скорость обучения. Лучшая RMSE = 1642 с количеством итераций 40, глубиной 14 и скоростью обучения 0.4. Параметры подобраны за 45 минут (пройдено 252 итерации). \n",
    "\n",
    "\n",
    "Время обучения: 14.1 с <br>\n",
    "Время предсказания: 0.019 с"
   ]
  },
  {
   "cell_type": "markdown",
   "metadata": {},
   "source": [
    "Наилучшая модель по качеству предсказаний - CatBoost. По времени обучения - Решающее дерево. По времени предсказания - Решающее дерево, затем CatBoost. Для тестирования выберем CatBoost как алгоритм, показавший нилучшее качество за приемлемое время обучения и предсказания."
   ]
  },
  {
   "cell_type": "markdown",
   "metadata": {},
   "source": [
    "*Тестирование CatBoost*"
   ]
  },
  {
   "cell_type": "markdown",
   "metadata": {},
   "source": [
    "Для обучения объединим обучающую и валидационную выборки"
   ]
  },
  {
   "cell_type": "code",
   "execution_count": 73,
   "metadata": {},
   "outputs": [],
   "source": [
    "features_concat_CB = pd.concat([features_train_CB, features_valid_CB])\n",
    "target_concat = pd.concat([target_train, target_valid])"
   ]
  },
  {
   "cell_type": "code",
   "execution_count": 74,
   "metadata": {},
   "outputs": [
    {
     "name": "stdout",
     "output_type": "stream",
     "text": [
      "CPU times: user 11.8 s, sys: 3.32 s, total: 15.2 s\n",
      "Wall time: 15.8 s\n"
     ]
    },
    {
     "data": {
      "text/plain": [
       "<catboost.core.CatBoostRegressor at 0x7f99950acd30>"
      ]
     },
     "execution_count": 74,
     "metadata": {},
     "output_type": "execute_result"
    }
   ],
   "source": [
    "%%time\n",
    "\n",
    "best_model_catboost.fit(features_concat_CB, target_concat, verbose=False)"
   ]
  },
  {
   "cell_type": "code",
   "execution_count": 75,
   "metadata": {},
   "outputs": [
    {
     "name": "stdout",
     "output_type": "stream",
     "text": [
      "CPU times: user 30.4 ms, sys: 0 ns, total: 30.4 ms\n",
      "Wall time: 29 ms\n"
     ]
    }
   ],
   "source": [
    "%%time\n",
    "\n",
    "predictions = best_model_catboost.predict(features_test_CB)"
   ]
  },
  {
   "cell_type": "code",
   "execution_count": 76,
   "metadata": {
    "scrolled": true
   },
   "outputs": [
    {
     "data": {
      "text/plain": [
       "1677.0707662937155"
      ]
     },
     "execution_count": 76,
     "metadata": {},
     "output_type": "execute_result"
    }
   ],
   "source": [
    "result = mean_squared_error(target_test, predictions, squared=False)\n",
    "result"
   ]
  },
  {
   "cell_type": "markdown",
   "metadata": {},
   "source": [
    "Качество и время обучения/предсказания остались примерно на том же уровне."
   ]
  },
  {
   "cell_type": "markdown",
   "metadata": {},
   "source": [
    "<a id='step6'></a>"
   ]
  },
  {
   "cell_type": "markdown",
   "metadata": {},
   "source": [
    "## Выводы"
   ]
  },
  {
   "cell_type": "markdown",
   "metadata": {},
   "source": [
    "Данные были выгружены и подготовлены к исследованию: заполнены пропуски, обработаны аномальные значения, определены и отмасштабированы признаки для обучения, категориальные признаки закодированы для обучения простых моделей."
   ]
  },
  {
   "cell_type": "markdown",
   "metadata": {},
   "source": [
    "Кодирование с помощью OrdinalEncoder позволило ускорить процесс обучения, при этом пришлось пожертвовать качеством предсказаний."
   ]
  },
  {
   "cell_type": "markdown",
   "metadata": {},
   "source": [
    "Исследованы различные модели обучения: решающее дерево, случайный лес, CatBoost и LGBM."
   ]
  },
  {
   "cell_type": "markdown",
   "metadata": {},
   "source": [
    "Наилучший результаты по RMSE показали модели Случайный лес и CatBoost: RMSE порядка 1670. Результат выделяется на фоне остальных. Быстрее вех обучается модель \"Решающее дерево\". Быстрее всего предсказывает \"Решающее дерево\" и \"CatBoost\". По соотношению \"качество предсказания / время предсказания\" можно рекомендовать использовать CatBoost."
   ]
  },
  {
   "cell_type": "markdown",
   "metadata": {},
   "source": [
    "На тестовой выборке результаты по качеству и времени обучения/предсказания для CatBoost подтвердились."
   ]
  },
  {
   "cell_type": "markdown",
   "metadata": {},
   "source": [
    "<br>"
   ]
  },
  {
   "cell_type": "markdown",
   "metadata": {},
   "source": [
    "[В начало](#start)"
   ]
  }
 ],
 "metadata": {
  "ExecuteTimeLog": [
   {
    "duration": 1031,
    "start_time": "2023-04-30T12:49:58.243Z"
   },
   {
    "duration": 1012,
    "start_time": "2023-04-30T12:49:59.275Z"
   },
   {
    "duration": 128,
    "start_time": "2023-04-30T12:50:00.288Z"
   },
   {
    "duration": 1599,
    "start_time": "2023-04-30T12:53:42.131Z"
   },
   {
    "duration": 33,
    "start_time": "2023-04-30T13:38:08.449Z"
   },
   {
    "duration": 224,
    "start_time": "2023-04-30T13:43:15.933Z"
   },
   {
    "duration": 191,
    "start_time": "2023-04-30T13:43:48.856Z"
   },
   {
    "duration": 3,
    "start_time": "2023-04-30T13:44:21.575Z"
   },
   {
    "duration": 219,
    "start_time": "2023-04-30T13:44:33.515Z"
   },
   {
    "duration": 287,
    "start_time": "2023-04-30T13:44:57.268Z"
   },
   {
    "duration": 203,
    "start_time": "2023-04-30T13:45:03.307Z"
   },
   {
    "duration": 228,
    "start_time": "2023-04-30T13:45:15.829Z"
   },
   {
    "duration": 209,
    "start_time": "2023-04-30T13:45:22.818Z"
   },
   {
    "duration": 198,
    "start_time": "2023-04-30T13:45:41.222Z"
   },
   {
    "duration": 1175,
    "start_time": "2023-04-30T13:46:20.689Z"
   },
   {
    "duration": 798,
    "start_time": "2023-04-30T13:46:21.866Z"
   },
   {
    "duration": 137,
    "start_time": "2023-04-30T13:46:22.666Z"
   },
   {
    "duration": 1097,
    "start_time": "2023-04-30T13:46:22.805Z"
   },
   {
    "duration": 246,
    "start_time": "2023-04-30T13:46:23.904Z"
   },
   {
    "duration": 28,
    "start_time": "2023-04-30T13:46:24.152Z"
   },
   {
    "duration": 181,
    "start_time": "2023-04-30T13:46:34.195Z"
   },
   {
    "duration": 8,
    "start_time": "2023-04-30T13:47:07.741Z"
   },
   {
    "duration": 95,
    "start_time": "2023-04-30T13:47:27.591Z"
   },
   {
    "duration": 4,
    "start_time": "2023-04-30T13:48:11.945Z"
   },
   {
    "duration": 9,
    "start_time": "2023-04-30T13:48:29.125Z"
   },
   {
    "duration": 12,
    "start_time": "2023-04-30T13:48:34.996Z"
   },
   {
    "duration": 40,
    "start_time": "2023-04-30T13:49:32.604Z"
   },
   {
    "duration": 47,
    "start_time": "2023-04-30T13:50:18.733Z"
   },
   {
    "duration": 206,
    "start_time": "2023-04-30T13:51:25.666Z"
   },
   {
    "duration": 46,
    "start_time": "2023-04-30T13:52:33.988Z"
   },
   {
    "duration": 11,
    "start_time": "2023-04-30T13:53:00.265Z"
   },
   {
    "duration": 43,
    "start_time": "2023-04-30T13:55:46.052Z"
   },
   {
    "duration": 17,
    "start_time": "2023-04-30T13:56:07.041Z"
   },
   {
    "duration": 9,
    "start_time": "2023-04-30T13:56:13.888Z"
   },
   {
    "duration": 31,
    "start_time": "2023-04-30T13:56:19.849Z"
   },
   {
    "duration": 44,
    "start_time": "2023-04-30T13:56:46.788Z"
   },
   {
    "duration": 8,
    "start_time": "2023-04-30T13:59:08.773Z"
   },
   {
    "duration": 35,
    "start_time": "2023-04-30T14:00:07.140Z"
   },
   {
    "duration": 8,
    "start_time": "2023-04-30T14:00:45.692Z"
   },
   {
    "duration": 9,
    "start_time": "2023-04-30T14:01:03.024Z"
   },
   {
    "duration": 151,
    "start_time": "2023-04-30T14:01:48.187Z"
   },
   {
    "duration": 1741,
    "start_time": "2023-04-30T14:01:59.847Z"
   },
   {
    "duration": 133,
    "start_time": "2023-04-30T14:02:06.990Z"
   },
   {
    "duration": 37,
    "start_time": "2023-04-30T14:02:54.835Z"
   },
   {
    "duration": 8,
    "start_time": "2023-04-30T14:03:04.488Z"
   },
   {
    "duration": 23,
    "start_time": "2023-04-30T16:31:40.254Z"
   },
   {
    "duration": 21,
    "start_time": "2023-04-30T16:33:00.603Z"
   },
   {
    "duration": 38,
    "start_time": "2023-04-30T16:33:25.126Z"
   },
   {
    "duration": 28,
    "start_time": "2023-04-30T16:36:35.142Z"
   },
   {
    "duration": 38,
    "start_time": "2023-04-30T16:36:58.165Z"
   },
   {
    "duration": 28,
    "start_time": "2023-04-30T16:37:04.287Z"
   },
   {
    "duration": 29,
    "start_time": "2023-04-30T16:37:09.942Z"
   },
   {
    "duration": 29,
    "start_time": "2023-04-30T16:37:15.362Z"
   },
   {
    "duration": 29,
    "start_time": "2023-04-30T16:37:28.274Z"
   },
   {
    "duration": 19,
    "start_time": "2023-04-30T16:38:01.784Z"
   },
   {
    "duration": 31,
    "start_time": "2023-04-30T16:38:24.146Z"
   },
   {
    "duration": 20,
    "start_time": "2023-04-30T16:38:29.861Z"
   },
   {
    "duration": 13,
    "start_time": "2023-04-30T16:38:57.768Z"
   },
   {
    "duration": 27,
    "start_time": "2023-04-30T16:39:36.172Z"
   },
   {
    "duration": 30,
    "start_time": "2023-04-30T16:39:42.289Z"
   },
   {
    "duration": 28,
    "start_time": "2023-04-30T16:39:47.765Z"
   },
   {
    "duration": 28,
    "start_time": "2023-04-30T16:39:54.764Z"
   },
   {
    "duration": 31,
    "start_time": "2023-04-30T16:39:59.603Z"
   },
   {
    "duration": 17,
    "start_time": "2023-04-30T16:40:15.934Z"
   },
   {
    "duration": 18,
    "start_time": "2023-04-30T16:44:33.435Z"
   },
   {
    "duration": 14,
    "start_time": "2023-04-30T16:45:51.206Z"
   },
   {
    "duration": 14,
    "start_time": "2023-04-30T16:46:09.578Z"
   },
   {
    "duration": 8,
    "start_time": "2023-04-30T16:47:51.452Z"
   },
   {
    "duration": 25,
    "start_time": "2023-04-30T16:47:56.221Z"
   },
   {
    "duration": 193,
    "start_time": "2023-04-30T16:48:09.146Z"
   },
   {
    "duration": 754,
    "start_time": "2023-04-30T16:49:15.966Z"
   },
   {
    "duration": 17,
    "start_time": "2023-04-30T16:49:25.759Z"
   },
   {
    "duration": 11,
    "start_time": "2023-04-30T16:49:38.294Z"
   },
   {
    "duration": 16,
    "start_time": "2023-04-30T16:49:51.968Z"
   },
   {
    "duration": 49,
    "start_time": "2023-04-30T16:49:59.545Z"
   },
   {
    "duration": 14,
    "start_time": "2023-04-30T16:50:34.216Z"
   },
   {
    "duration": 10,
    "start_time": "2023-04-30T16:50:51.878Z"
   },
   {
    "duration": 13,
    "start_time": "2023-04-30T16:50:56.556Z"
   },
   {
    "duration": 94,
    "start_time": "2023-04-30T16:52:19.053Z"
   },
   {
    "duration": 11,
    "start_time": "2023-04-30T16:52:23.845Z"
   },
   {
    "duration": 31,
    "start_time": "2023-04-30T16:53:03.341Z"
   },
   {
    "duration": 24,
    "start_time": "2023-04-30T16:54:22.629Z"
   },
   {
    "duration": 23,
    "start_time": "2023-04-30T16:55:11.481Z"
   },
   {
    "duration": 53,
    "start_time": "2023-04-30T16:55:51.571Z"
   },
   {
    "duration": 23,
    "start_time": "2023-04-30T16:55:54.832Z"
   },
   {
    "duration": 24,
    "start_time": "2023-04-30T16:56:18.181Z"
   },
   {
    "duration": 16,
    "start_time": "2023-04-30T17:04:42.507Z"
   },
   {
    "duration": 25,
    "start_time": "2023-04-30T17:05:13.862Z"
   },
   {
    "duration": 26,
    "start_time": "2023-04-30T17:05:21.688Z"
   },
   {
    "duration": 18,
    "start_time": "2023-04-30T17:05:33.934Z"
   },
   {
    "duration": 15,
    "start_time": "2023-04-30T17:07:40.450Z"
   },
   {
    "duration": 24,
    "start_time": "2023-04-30T17:07:47.888Z"
   },
   {
    "duration": 14,
    "start_time": "2023-04-30T17:08:22.281Z"
   },
   {
    "duration": 9,
    "start_time": "2023-04-30T17:08:35.279Z"
   },
   {
    "duration": 27,
    "start_time": "2023-04-30T17:08:50.040Z"
   },
   {
    "duration": 8,
    "start_time": "2023-04-30T17:09:50.990Z"
   },
   {
    "duration": 16,
    "start_time": "2023-04-30T17:09:57.165Z"
   },
   {
    "duration": 8,
    "start_time": "2023-04-30T17:15:12.338Z"
   },
   {
    "duration": 45,
    "start_time": "2023-04-30T17:15:16.358Z"
   },
   {
    "duration": 764,
    "start_time": "2023-04-30T17:16:12.978Z"
   },
   {
    "duration": 37,
    "start_time": "2023-04-30T17:16:16.450Z"
   },
   {
    "duration": 37,
    "start_time": "2023-04-30T18:37:29.032Z"
   },
   {
    "duration": 23,
    "start_time": "2023-04-30T19:16:03.489Z"
   },
   {
    "duration": 1302,
    "start_time": "2023-04-30T19:21:32.545Z"
   },
   {
    "duration": 821,
    "start_time": "2023-04-30T19:21:33.849Z"
   },
   {
    "duration": 106,
    "start_time": "2023-04-30T19:21:34.672Z"
   },
   {
    "duration": 0,
    "start_time": "2023-04-30T19:21:34.780Z"
   },
   {
    "duration": 0,
    "start_time": "2023-04-30T19:21:34.781Z"
   },
   {
    "duration": 0,
    "start_time": "2023-04-30T19:21:34.782Z"
   },
   {
    "duration": 0,
    "start_time": "2023-04-30T19:21:34.783Z"
   },
   {
    "duration": 0,
    "start_time": "2023-04-30T19:21:34.784Z"
   },
   {
    "duration": 0,
    "start_time": "2023-04-30T19:21:34.785Z"
   },
   {
    "duration": 0,
    "start_time": "2023-04-30T19:21:34.786Z"
   },
   {
    "duration": 0,
    "start_time": "2023-04-30T19:21:34.787Z"
   },
   {
    "duration": 0,
    "start_time": "2023-04-30T19:21:34.788Z"
   },
   {
    "duration": 0,
    "start_time": "2023-04-30T19:21:34.789Z"
   },
   {
    "duration": 137,
    "start_time": "2023-04-30T19:21:51.899Z"
   },
   {
    "duration": 1133,
    "start_time": "2023-04-30T19:21:52.039Z"
   },
   {
    "duration": 30,
    "start_time": "2023-04-30T19:21:53.174Z"
   },
   {
    "duration": 47,
    "start_time": "2023-04-30T19:21:53.206Z"
   },
   {
    "duration": 7,
    "start_time": "2023-04-30T19:21:53.254Z"
   },
   {
    "duration": 44,
    "start_time": "2023-04-30T19:21:53.263Z"
   },
   {
    "duration": 3,
    "start_time": "2023-04-30T19:21:53.309Z"
   },
   {
    "duration": 26,
    "start_time": "2023-04-30T19:21:53.333Z"
   },
   {
    "duration": 0,
    "start_time": "2023-04-30T19:21:53.363Z"
   },
   {
    "duration": 0,
    "start_time": "2023-04-30T19:21:53.364Z"
   },
   {
    "duration": 56,
    "start_time": "2023-04-30T19:22:20.301Z"
   },
   {
    "duration": 22,
    "start_time": "2023-04-30T19:22:28.051Z"
   },
   {
    "duration": 53,
    "start_time": "2023-04-30T19:22:52.849Z"
   },
   {
    "duration": 21,
    "start_time": "2023-04-30T19:22:54.649Z"
   },
   {
    "duration": 65,
    "start_time": "2023-04-30T19:23:52.026Z"
   },
   {
    "duration": 10,
    "start_time": "2023-04-30T19:25:00.807Z"
   },
   {
    "duration": 55,
    "start_time": "2023-04-30T19:25:13.854Z"
   },
   {
    "duration": 3,
    "start_time": "2023-04-30T19:26:05.324Z"
   },
   {
    "duration": 51,
    "start_time": "2023-04-30T19:26:09.959Z"
   },
   {
    "duration": 24,
    "start_time": "2023-04-30T19:26:12.070Z"
   },
   {
    "duration": 64,
    "start_time": "2023-04-30T19:26:30.328Z"
   },
   {
    "duration": 28,
    "start_time": "2023-04-30T19:26:32.232Z"
   },
   {
    "duration": 8,
    "start_time": "2023-04-30T19:27:17.101Z"
   },
   {
    "duration": 31,
    "start_time": "2023-04-30T19:27:34.357Z"
   },
   {
    "duration": 44,
    "start_time": "2023-04-30T19:46:17.305Z"
   },
   {
    "duration": 16,
    "start_time": "2023-04-30T19:46:26.670Z"
   },
   {
    "duration": 21,
    "start_time": "2023-04-30T19:46:38.051Z"
   },
   {
    "duration": 11,
    "start_time": "2023-04-30T19:51:37.663Z"
   },
   {
    "duration": 13,
    "start_time": "2023-04-30T19:51:50.485Z"
   },
   {
    "duration": 3,
    "start_time": "2023-04-30T19:52:03.132Z"
   },
   {
    "duration": 23,
    "start_time": "2023-04-30T19:52:05.693Z"
   },
   {
    "duration": 7,
    "start_time": "2023-04-30T19:52:22.073Z"
   },
   {
    "duration": 23,
    "start_time": "2023-04-30T19:52:25.755Z"
   },
   {
    "duration": 749,
    "start_time": "2023-04-30T19:52:35.681Z"
   },
   {
    "duration": 5,
    "start_time": "2023-04-30T19:52:49.338Z"
   },
   {
    "duration": 21,
    "start_time": "2023-04-30T19:52:59.397Z"
   },
   {
    "duration": 11,
    "start_time": "2023-04-30T19:53:08.127Z"
   },
   {
    "duration": 20,
    "start_time": "2023-04-30T19:53:14.788Z"
   },
   {
    "duration": 12,
    "start_time": "2023-04-30T19:53:24.039Z"
   },
   {
    "duration": 7,
    "start_time": "2023-04-30T19:53:32.330Z"
   },
   {
    "duration": 8,
    "start_time": "2023-04-30T19:53:57.987Z"
   },
   {
    "duration": 21,
    "start_time": "2023-04-30T19:54:01.708Z"
   },
   {
    "duration": 473,
    "start_time": "2023-04-30T20:04:44.698Z"
   },
   {
    "duration": 431,
    "start_time": "2023-04-30T20:04:56.120Z"
   },
   {
    "duration": 354,
    "start_time": "2023-04-30T20:06:44.478Z"
   },
   {
    "duration": 383,
    "start_time": "2023-04-30T20:07:40.719Z"
   },
   {
    "duration": 413,
    "start_time": "2023-04-30T20:10:14.698Z"
   },
   {
    "duration": 419,
    "start_time": "2023-04-30T20:10:34.550Z"
   },
   {
    "duration": 413,
    "start_time": "2023-04-30T20:10:51.965Z"
   },
   {
    "duration": 39,
    "start_time": "2023-04-30T20:15:27.368Z"
   },
   {
    "duration": 162,
    "start_time": "2023-04-30T20:16:15.104Z"
   },
   {
    "duration": 1778,
    "start_time": "2023-04-30T20:16:23.971Z"
   },
   {
    "duration": 730,
    "start_time": "2023-04-30T20:16:39.256Z"
   },
   {
    "duration": 3,
    "start_time": "2023-04-30T20:16:45.023Z"
   },
   {
    "duration": 153,
    "start_time": "2023-04-30T20:16:51.851Z"
   },
   {
    "duration": 9,
    "start_time": "2023-04-30T20:17:11.323Z"
   },
   {
    "duration": 30,
    "start_time": "2023-04-30T20:17:21.791Z"
   },
   {
    "duration": 17,
    "start_time": "2023-04-30T20:20:05.801Z"
   },
   {
    "duration": 13,
    "start_time": "2023-04-30T20:20:53.187Z"
   },
   {
    "duration": 12,
    "start_time": "2023-04-30T20:21:15.860Z"
   },
   {
    "duration": 21,
    "start_time": "2023-04-30T20:21:32.603Z"
   },
   {
    "duration": 21,
    "start_time": "2023-04-30T20:25:39.681Z"
   },
   {
    "duration": 11,
    "start_time": "2023-04-30T20:35:22.262Z"
   },
   {
    "duration": 13,
    "start_time": "2023-04-30T20:44:36.887Z"
   },
   {
    "duration": 2,
    "start_time": "2023-04-30T20:47:44.250Z"
   },
   {
    "duration": 1247,
    "start_time": "2023-04-30T20:48:23.047Z"
   },
   {
    "duration": 800,
    "start_time": "2023-04-30T20:48:24.296Z"
   },
   {
    "duration": 136,
    "start_time": "2023-04-30T20:48:25.097Z"
   },
   {
    "duration": 1035,
    "start_time": "2023-04-30T20:48:25.235Z"
   },
   {
    "duration": 446,
    "start_time": "2023-04-30T20:48:26.271Z"
   },
   {
    "duration": 2,
    "start_time": "2023-04-30T20:48:26.719Z"
   },
   {
    "duration": 559,
    "start_time": "2023-04-30T20:48:26.723Z"
   },
   {
    "duration": 26,
    "start_time": "2023-04-30T20:48:27.284Z"
   },
   {
    "duration": 25,
    "start_time": "2023-04-30T20:48:27.312Z"
   },
   {
    "duration": 31,
    "start_time": "2023-04-30T20:48:27.339Z"
   },
   {
    "duration": 29,
    "start_time": "2023-04-30T20:48:27.372Z"
   },
   {
    "duration": 11,
    "start_time": "2023-04-30T20:48:27.402Z"
   },
   {
    "duration": 5,
    "start_time": "2023-04-30T20:48:27.433Z"
   },
   {
    "duration": 55,
    "start_time": "2023-04-30T20:48:27.439Z"
   },
   {
    "duration": 14,
    "start_time": "2023-04-30T20:48:27.496Z"
   },
   {
    "duration": 141,
    "start_time": "2023-04-30T20:48:27.511Z"
   },
   {
    "duration": 3,
    "start_time": "2023-04-30T20:48:27.654Z"
   },
   {
    "duration": 134,
    "start_time": "2023-04-30T20:59:06.499Z"
   },
   {
    "duration": 140,
    "start_time": "2023-04-30T20:59:14.607Z"
   },
   {
    "duration": 208,
    "start_time": "2023-04-30T21:12:37.557Z"
   },
   {
    "duration": 97,
    "start_time": "2023-04-30T21:12:39.417Z"
   },
   {
    "duration": 358,
    "start_time": "2023-04-30T21:12:50.824Z"
   },
   {
    "duration": 3,
    "start_time": "2023-04-30T21:15:37.867Z"
   },
   {
    "duration": 4166,
    "start_time": "2023-04-30T21:15:44.989Z"
   },
   {
    "duration": 445,
    "start_time": "2023-04-30T21:15:57.321Z"
   },
   {
    "duration": 65,
    "start_time": "2023-04-30T21:21:05.905Z"
   },
   {
    "duration": 264,
    "start_time": "2023-04-30T21:21:12.721Z"
   },
   {
    "duration": 5101,
    "start_time": "2023-04-30T21:21:14.409Z"
   },
   {
    "duration": 136,
    "start_time": "2023-04-30T21:21:21.273Z"
   },
   {
    "duration": 121,
    "start_time": "2023-04-30T21:22:34.058Z"
   },
   {
    "duration": 1347,
    "start_time": "2023-04-30T21:22:44.476Z"
   },
   {
    "duration": 990,
    "start_time": "2023-04-30T21:22:45.826Z"
   },
   {
    "duration": 167,
    "start_time": "2023-04-30T21:22:46.818Z"
   },
   {
    "duration": 1286,
    "start_time": "2023-04-30T21:22:46.987Z"
   },
   {
    "duration": 528,
    "start_time": "2023-04-30T21:22:48.275Z"
   },
   {
    "duration": 3,
    "start_time": "2023-04-30T21:22:48.805Z"
   },
   {
    "duration": 661,
    "start_time": "2023-04-30T21:22:48.810Z"
   },
   {
    "duration": 29,
    "start_time": "2023-04-30T21:22:49.473Z"
   },
   {
    "duration": 43,
    "start_time": "2023-04-30T21:22:49.504Z"
   },
   {
    "duration": 42,
    "start_time": "2023-04-30T21:22:49.555Z"
   },
   {
    "duration": 39,
    "start_time": "2023-04-30T21:22:49.599Z"
   },
   {
    "duration": 18,
    "start_time": "2023-04-30T21:22:49.640Z"
   },
   {
    "duration": 14,
    "start_time": "2023-04-30T21:22:49.660Z"
   },
   {
    "duration": 75,
    "start_time": "2023-04-30T21:22:49.678Z"
   },
   {
    "duration": 18,
    "start_time": "2023-04-30T21:22:49.755Z"
   },
   {
    "duration": 198,
    "start_time": "2023-04-30T21:22:49.774Z"
   },
   {
    "duration": 140,
    "start_time": "2023-04-30T21:22:49.974Z"
   },
   {
    "duration": 144,
    "start_time": "2023-04-30T21:22:50.116Z"
   },
   {
    "duration": 58,
    "start_time": "2023-04-30T21:22:50.263Z"
   },
   {
    "duration": 218,
    "start_time": "2023-04-30T21:22:50.322Z"
   },
   {
    "duration": 5038,
    "start_time": "2023-04-30T21:22:50.546Z"
   },
   {
    "duration": 118,
    "start_time": "2023-04-30T21:22:55.585Z"
   },
   {
    "duration": 53,
    "start_time": "2023-04-30T21:27:29.882Z"
   },
   {
    "duration": 1911,
    "start_time": "2023-05-01T10:58:17.344Z"
   },
   {
    "duration": 0,
    "start_time": "2023-05-01T10:58:19.263Z"
   },
   {
    "duration": 0,
    "start_time": "2023-05-01T10:58:19.264Z"
   },
   {
    "duration": 0,
    "start_time": "2023-05-01T10:58:19.275Z"
   },
   {
    "duration": 0,
    "start_time": "2023-05-01T10:58:19.278Z"
   },
   {
    "duration": 0,
    "start_time": "2023-05-01T10:58:19.280Z"
   },
   {
    "duration": 0,
    "start_time": "2023-05-01T10:58:19.282Z"
   },
   {
    "duration": 0,
    "start_time": "2023-05-01T10:58:19.284Z"
   },
   {
    "duration": 0,
    "start_time": "2023-05-01T10:58:19.285Z"
   },
   {
    "duration": 0,
    "start_time": "2023-05-01T10:58:19.287Z"
   },
   {
    "duration": 0,
    "start_time": "2023-05-01T10:58:19.288Z"
   },
   {
    "duration": 0,
    "start_time": "2023-05-01T10:58:19.289Z"
   },
   {
    "duration": 1,
    "start_time": "2023-05-01T10:58:19.290Z"
   },
   {
    "duration": 0,
    "start_time": "2023-05-01T10:58:19.292Z"
   },
   {
    "duration": 0,
    "start_time": "2023-05-01T10:58:19.293Z"
   },
   {
    "duration": 0,
    "start_time": "2023-05-01T10:58:19.294Z"
   },
   {
    "duration": 0,
    "start_time": "2023-05-01T10:58:19.295Z"
   },
   {
    "duration": 0,
    "start_time": "2023-05-01T10:58:19.297Z"
   },
   {
    "duration": 0,
    "start_time": "2023-05-01T10:58:19.298Z"
   },
   {
    "duration": 0,
    "start_time": "2023-05-01T10:58:19.300Z"
   },
   {
    "duration": 0,
    "start_time": "2023-05-01T10:58:19.301Z"
   },
   {
    "duration": 0,
    "start_time": "2023-05-01T10:58:19.302Z"
   },
   {
    "duration": 1663,
    "start_time": "2023-05-01T10:58:39.752Z"
   },
   {
    "duration": 0,
    "start_time": "2023-05-01T10:58:41.418Z"
   },
   {
    "duration": 0,
    "start_time": "2023-05-01T10:58:41.419Z"
   },
   {
    "duration": 0,
    "start_time": "2023-05-01T10:58:41.421Z"
   },
   {
    "duration": 0,
    "start_time": "2023-05-01T10:58:41.422Z"
   },
   {
    "duration": 0,
    "start_time": "2023-05-01T10:58:41.423Z"
   },
   {
    "duration": 0,
    "start_time": "2023-05-01T10:58:41.424Z"
   },
   {
    "duration": 0,
    "start_time": "2023-05-01T10:58:41.425Z"
   },
   {
    "duration": 0,
    "start_time": "2023-05-01T10:58:41.426Z"
   },
   {
    "duration": 0,
    "start_time": "2023-05-01T10:58:41.427Z"
   },
   {
    "duration": 0,
    "start_time": "2023-05-01T10:58:41.428Z"
   },
   {
    "duration": 0,
    "start_time": "2023-05-01T10:58:41.429Z"
   },
   {
    "duration": 0,
    "start_time": "2023-05-01T10:58:41.430Z"
   },
   {
    "duration": 0,
    "start_time": "2023-05-01T10:58:41.432Z"
   },
   {
    "duration": 0,
    "start_time": "2023-05-01T10:58:41.433Z"
   },
   {
    "duration": 0,
    "start_time": "2023-05-01T10:58:41.460Z"
   },
   {
    "duration": 1,
    "start_time": "2023-05-01T10:58:41.462Z"
   },
   {
    "duration": 0,
    "start_time": "2023-05-01T10:58:41.464Z"
   },
   {
    "duration": 0,
    "start_time": "2023-05-01T10:58:41.466Z"
   },
   {
    "duration": 0,
    "start_time": "2023-05-01T10:58:41.467Z"
   },
   {
    "duration": 0,
    "start_time": "2023-05-01T10:58:41.469Z"
   },
   {
    "duration": 0,
    "start_time": "2023-05-01T10:58:41.470Z"
   },
   {
    "duration": 1729,
    "start_time": "2023-05-01T10:59:07.509Z"
   },
   {
    "duration": 0,
    "start_time": "2023-05-01T10:59:09.240Z"
   },
   {
    "duration": 0,
    "start_time": "2023-05-01T10:59:09.241Z"
   },
   {
    "duration": 0,
    "start_time": "2023-05-01T10:59:09.243Z"
   },
   {
    "duration": 0,
    "start_time": "2023-05-01T10:59:09.244Z"
   },
   {
    "duration": 0,
    "start_time": "2023-05-01T10:59:09.265Z"
   },
   {
    "duration": 0,
    "start_time": "2023-05-01T10:59:09.266Z"
   },
   {
    "duration": 0,
    "start_time": "2023-05-01T10:59:09.268Z"
   },
   {
    "duration": 0,
    "start_time": "2023-05-01T10:59:09.269Z"
   },
   {
    "duration": 0,
    "start_time": "2023-05-01T10:59:09.270Z"
   },
   {
    "duration": 0,
    "start_time": "2023-05-01T10:59:09.272Z"
   },
   {
    "duration": 0,
    "start_time": "2023-05-01T10:59:09.273Z"
   },
   {
    "duration": 0,
    "start_time": "2023-05-01T10:59:09.275Z"
   },
   {
    "duration": 0,
    "start_time": "2023-05-01T10:59:09.276Z"
   },
   {
    "duration": 0,
    "start_time": "2023-05-01T10:59:09.277Z"
   },
   {
    "duration": 0,
    "start_time": "2023-05-01T10:59:09.279Z"
   },
   {
    "duration": 0,
    "start_time": "2023-05-01T10:59:09.281Z"
   },
   {
    "duration": 0,
    "start_time": "2023-05-01T10:59:09.282Z"
   },
   {
    "duration": 0,
    "start_time": "2023-05-01T10:59:09.284Z"
   },
   {
    "duration": 0,
    "start_time": "2023-05-01T10:59:09.285Z"
   },
   {
    "duration": 0,
    "start_time": "2023-05-01T10:59:09.286Z"
   },
   {
    "duration": 0,
    "start_time": "2023-05-01T10:59:09.287Z"
   },
   {
    "duration": 1684,
    "start_time": "2023-05-01T10:59:27.600Z"
   },
   {
    "duration": 3978,
    "start_time": "2023-05-01T10:59:29.294Z"
   },
   {
    "duration": 147,
    "start_time": "2023-05-01T10:59:33.274Z"
   },
   {
    "duration": 1556,
    "start_time": "2023-05-01T10:59:33.423Z"
   },
   {
    "duration": 587,
    "start_time": "2023-05-01T10:59:34.985Z"
   },
   {
    "duration": 12,
    "start_time": "2023-05-01T10:59:35.581Z"
   },
   {
    "duration": 685,
    "start_time": "2023-05-01T10:59:35.599Z"
   },
   {
    "duration": 35,
    "start_time": "2023-05-01T10:59:36.293Z"
   },
   {
    "duration": 17,
    "start_time": "2023-05-01T10:59:36.330Z"
   },
   {
    "duration": 67,
    "start_time": "2023-05-01T10:59:36.349Z"
   },
   {
    "duration": 67,
    "start_time": "2023-05-01T10:59:36.418Z"
   },
   {
    "duration": 20,
    "start_time": "2023-05-01T10:59:36.487Z"
   },
   {
    "duration": 11,
    "start_time": "2023-05-01T10:59:36.509Z"
   },
   {
    "duration": 85,
    "start_time": "2023-05-01T10:59:36.523Z"
   },
   {
    "duration": 17,
    "start_time": "2023-05-01T10:59:36.610Z"
   },
   {
    "duration": 154,
    "start_time": "2023-05-01T10:59:36.629Z"
   },
   {
    "duration": 113,
    "start_time": "2023-05-01T10:59:36.790Z"
   },
   {
    "duration": 129,
    "start_time": "2023-05-01T10:59:36.905Z"
   },
   {
    "duration": 71,
    "start_time": "2023-05-01T10:59:37.035Z"
   },
   {
    "duration": 216,
    "start_time": "2023-05-01T10:59:37.108Z"
   },
   {
    "duration": 7240,
    "start_time": "2023-05-01T10:59:37.326Z"
   },
   {
    "duration": 0,
    "start_time": "2023-05-01T10:59:44.568Z"
   },
   {
    "duration": 125,
    "start_time": "2023-05-01T11:01:06.499Z"
   },
   {
    "duration": 146,
    "start_time": "2023-05-01T11:01:42.005Z"
   },
   {
    "duration": 125,
    "start_time": "2023-05-01T11:01:45.822Z"
   },
   {
    "duration": 260,
    "start_time": "2023-05-01T11:01:49.500Z"
   },
   {
    "duration": 299,
    "start_time": "2023-05-01T11:01:51.427Z"
   },
   {
    "duration": 7174,
    "start_time": "2023-05-01T11:01:53.580Z"
   },
   {
    "duration": 362,
    "start_time": "2023-05-01T11:02:17.180Z"
   },
   {
    "duration": 152,
    "start_time": "2023-05-01T11:02:20.438Z"
   },
   {
    "duration": 210,
    "start_time": "2023-05-01T11:02:23.812Z"
   },
   {
    "duration": 327,
    "start_time": "2023-05-01T11:02:25.737Z"
   },
   {
    "duration": 7502,
    "start_time": "2023-05-01T11:02:27.798Z"
   },
   {
    "duration": 243,
    "start_time": "2023-05-01T11:04:56.811Z"
   },
   {
    "duration": 129,
    "start_time": "2023-05-01T11:04:59.807Z"
   },
   {
    "duration": 59,
    "start_time": "2023-05-01T11:05:02.508Z"
   },
   {
    "duration": 309,
    "start_time": "2023-05-01T11:05:04.214Z"
   },
   {
    "duration": 20,
    "start_time": "2023-05-01T11:05:06.212Z"
   },
   {
    "duration": 55,
    "start_time": "2023-05-01T11:08:11.347Z"
   },
   {
    "duration": 12,
    "start_time": "2023-05-01T11:08:19.906Z"
   },
   {
    "duration": 32,
    "start_time": "2023-05-01T11:08:27.204Z"
   },
   {
    "duration": 29,
    "start_time": "2023-05-01T11:08:34.624Z"
   },
   {
    "duration": 7,
    "start_time": "2023-05-01T11:08:42.327Z"
   },
   {
    "duration": 7,
    "start_time": "2023-05-01T11:08:48.921Z"
   },
   {
    "duration": 20,
    "start_time": "2023-05-01T11:09:23.412Z"
   },
   {
    "duration": 2023,
    "start_time": "2023-05-01T11:09:34.415Z"
   },
   {
    "duration": 3593,
    "start_time": "2023-05-01T11:09:36.440Z"
   },
   {
    "duration": 158,
    "start_time": "2023-05-01T11:09:40.035Z"
   },
   {
    "duration": 1441,
    "start_time": "2023-05-01T11:09:40.194Z"
   },
   {
    "duration": 636,
    "start_time": "2023-05-01T11:09:41.638Z"
   },
   {
    "duration": 4,
    "start_time": "2023-05-01T11:09:42.276Z"
   },
   {
    "duration": 733,
    "start_time": "2023-05-01T11:09:42.291Z"
   },
   {
    "duration": 8,
    "start_time": "2023-05-01T11:09:43.030Z"
   },
   {
    "duration": 45,
    "start_time": "2023-05-01T11:09:43.040Z"
   },
   {
    "duration": 57,
    "start_time": "2023-05-01T11:09:43.093Z"
   },
   {
    "duration": 61,
    "start_time": "2023-05-01T11:09:43.152Z"
   },
   {
    "duration": 15,
    "start_time": "2023-05-01T11:09:43.217Z"
   },
   {
    "duration": 14,
    "start_time": "2023-05-01T11:09:43.235Z"
   },
   {
    "duration": 106,
    "start_time": "2023-05-01T11:09:43.252Z"
   },
   {
    "duration": 27,
    "start_time": "2023-05-01T11:09:43.361Z"
   },
   {
    "duration": 225,
    "start_time": "2023-05-01T11:09:43.395Z"
   },
   {
    "duration": 142,
    "start_time": "2023-05-01T11:09:43.624Z"
   },
   {
    "duration": 161,
    "start_time": "2023-05-01T11:09:43.780Z"
   },
   {
    "duration": 83,
    "start_time": "2023-05-01T11:09:43.944Z"
   },
   {
    "duration": 241,
    "start_time": "2023-05-01T11:09:44.030Z"
   },
   {
    "duration": 213,
    "start_time": "2023-05-01T11:09:44.277Z"
   },
   {
    "duration": 0,
    "start_time": "2023-05-01T11:09:44.494Z"
   },
   {
    "duration": 9554,
    "start_time": "2023-05-01T11:10:55.036Z"
   },
   {
    "duration": 25,
    "start_time": "2023-05-01T11:11:09.111Z"
   },
   {
    "duration": 1637,
    "start_time": "2023-05-01T11:15:42.209Z"
   },
   {
    "duration": 1140,
    "start_time": "2023-05-01T11:15:43.848Z"
   },
   {
    "duration": 146,
    "start_time": "2023-05-01T11:15:45.001Z"
   },
   {
    "duration": 1416,
    "start_time": "2023-05-01T11:15:45.148Z"
   },
   {
    "duration": 601,
    "start_time": "2023-05-01T11:15:46.571Z"
   },
   {
    "duration": 7,
    "start_time": "2023-05-01T11:15:47.177Z"
   },
   {
    "duration": 702,
    "start_time": "2023-05-01T11:15:47.186Z"
   },
   {
    "duration": 12,
    "start_time": "2023-05-01T11:15:47.890Z"
   },
   {
    "duration": 23,
    "start_time": "2023-05-01T11:15:47.904Z"
   },
   {
    "duration": 58,
    "start_time": "2023-05-01T11:15:47.929Z"
   },
   {
    "duration": 40,
    "start_time": "2023-05-01T11:15:47.988Z"
   },
   {
    "duration": 15,
    "start_time": "2023-05-01T11:15:48.029Z"
   },
   {
    "duration": 30,
    "start_time": "2023-05-01T11:15:48.046Z"
   },
   {
    "duration": 68,
    "start_time": "2023-05-01T11:15:48.079Z"
   },
   {
    "duration": 23,
    "start_time": "2023-05-01T11:15:48.148Z"
   },
   {
    "duration": 143,
    "start_time": "2023-05-01T11:15:48.174Z"
   },
   {
    "duration": 144,
    "start_time": "2023-05-01T11:15:48.320Z"
   },
   {
    "duration": 151,
    "start_time": "2023-05-01T11:15:48.473Z"
   },
   {
    "duration": 70,
    "start_time": "2023-05-01T11:15:48.625Z"
   },
   {
    "duration": 146,
    "start_time": "2023-05-01T11:15:48.697Z"
   },
   {
    "duration": 0,
    "start_time": "2023-05-01T11:15:48.844Z"
   },
   {
    "duration": 0,
    "start_time": "2023-05-01T11:15:48.846Z"
   },
   {
    "duration": 0,
    "start_time": "2023-05-01T11:15:48.847Z"
   },
   {
    "duration": 1602,
    "start_time": "2023-05-01T11:16:18.006Z"
   },
   {
    "duration": 1043,
    "start_time": "2023-05-01T11:16:19.611Z"
   },
   {
    "duration": 172,
    "start_time": "2023-05-01T11:16:20.670Z"
   },
   {
    "duration": 1602,
    "start_time": "2023-05-01T11:16:20.844Z"
   },
   {
    "duration": 650,
    "start_time": "2023-05-01T11:16:22.449Z"
   },
   {
    "duration": 7,
    "start_time": "2023-05-01T11:16:23.102Z"
   },
   {
    "duration": 689,
    "start_time": "2023-05-01T11:16:23.112Z"
   },
   {
    "duration": 9,
    "start_time": "2023-05-01T11:16:23.810Z"
   },
   {
    "duration": 22,
    "start_time": "2023-05-01T11:16:23.821Z"
   },
   {
    "duration": 62,
    "start_time": "2023-05-01T11:16:23.845Z"
   },
   {
    "duration": 44,
    "start_time": "2023-05-01T11:16:23.911Z"
   },
   {
    "duration": 29,
    "start_time": "2023-05-01T11:16:23.970Z"
   },
   {
    "duration": 13,
    "start_time": "2023-05-01T11:16:24.005Z"
   },
   {
    "duration": 92,
    "start_time": "2023-05-01T11:16:24.022Z"
   },
   {
    "duration": 21,
    "start_time": "2023-05-01T11:16:24.115Z"
   },
   {
    "duration": 196,
    "start_time": "2023-05-01T11:16:24.140Z"
   },
   {
    "duration": 168,
    "start_time": "2023-05-01T11:16:24.339Z"
   },
   {
    "duration": 138,
    "start_time": "2023-05-01T11:16:24.516Z"
   },
   {
    "duration": 63,
    "start_time": "2023-05-01T11:16:24.660Z"
   },
   {
    "duration": 215,
    "start_time": "2023-05-01T11:16:24.724Z"
   },
   {
    "duration": 203,
    "start_time": "2023-05-01T11:16:24.941Z"
   },
   {
    "duration": 6886,
    "start_time": "2023-05-01T11:16:25.145Z"
   },
   {
    "duration": 36,
    "start_time": "2023-05-01T11:16:32.032Z"
   },
   {
    "duration": 395,
    "start_time": "2023-05-01T11:20:01.675Z"
   },
   {
    "duration": 210,
    "start_time": "2023-05-01T11:20:03.990Z"
   },
   {
    "duration": 8723,
    "start_time": "2023-05-01T11:20:06.028Z"
   },
   {
    "duration": 44,
    "start_time": "2023-05-01T11:20:16.443Z"
   },
   {
    "duration": 1530,
    "start_time": "2023-05-01T11:22:41.392Z"
   },
   {
    "duration": 1016,
    "start_time": "2023-05-01T11:22:42.924Z"
   },
   {
    "duration": 165,
    "start_time": "2023-05-01T11:22:43.942Z"
   },
   {
    "duration": 1408,
    "start_time": "2023-05-01T11:22:44.110Z"
   },
   {
    "duration": 533,
    "start_time": "2023-05-01T11:22:45.520Z"
   },
   {
    "duration": 4,
    "start_time": "2023-05-01T11:22:46.056Z"
   },
   {
    "duration": 643,
    "start_time": "2023-05-01T11:22:46.067Z"
   },
   {
    "duration": 9,
    "start_time": "2023-05-01T11:22:46.711Z"
   },
   {
    "duration": 18,
    "start_time": "2023-05-01T11:22:46.721Z"
   },
   {
    "duration": 59,
    "start_time": "2023-05-01T11:22:46.741Z"
   },
   {
    "duration": 36,
    "start_time": "2023-05-01T11:22:46.802Z"
   },
   {
    "duration": 34,
    "start_time": "2023-05-01T11:22:46.839Z"
   },
   {
    "duration": 10,
    "start_time": "2023-05-01T11:22:46.883Z"
   },
   {
    "duration": 81,
    "start_time": "2023-05-01T11:22:46.898Z"
   },
   {
    "duration": 19,
    "start_time": "2023-05-01T11:22:46.987Z"
   },
   {
    "duration": 125,
    "start_time": "2023-05-01T11:22:47.007Z"
   },
   {
    "duration": 138,
    "start_time": "2023-05-01T11:22:47.134Z"
   },
   {
    "duration": 140,
    "start_time": "2023-05-01T11:22:47.274Z"
   },
   {
    "duration": 73,
    "start_time": "2023-05-01T11:22:47.416Z"
   },
   {
    "duration": 210,
    "start_time": "2023-05-01T11:22:47.492Z"
   },
   {
    "duration": 308,
    "start_time": "2023-05-01T11:22:47.703Z"
   },
   {
    "duration": 0,
    "start_time": "2023-05-01T11:22:48.013Z"
   },
   {
    "duration": 0,
    "start_time": "2023-05-01T11:22:48.014Z"
   },
   {
    "duration": 175,
    "start_time": "2023-05-01T11:23:00.006Z"
   },
   {
    "duration": 185,
    "start_time": "2023-05-01T11:23:06.244Z"
   },
   {
    "duration": 6033,
    "start_time": "2023-05-01T11:23:14.777Z"
   },
   {
    "duration": 30,
    "start_time": "2023-05-01T11:23:32.120Z"
   },
   {
    "duration": 1495,
    "start_time": "2023-05-01T11:46:57.322Z"
   },
   {
    "duration": 966,
    "start_time": "2023-05-01T11:46:58.819Z"
   },
   {
    "duration": 119,
    "start_time": "2023-05-01T11:46:59.787Z"
   },
   {
    "duration": 1390,
    "start_time": "2023-05-01T11:46:59.908Z"
   },
   {
    "duration": 549,
    "start_time": "2023-05-01T11:47:01.299Z"
   },
   {
    "duration": 9,
    "start_time": "2023-05-01T11:47:01.849Z"
   },
   {
    "duration": 623,
    "start_time": "2023-05-01T11:47:01.866Z"
   },
   {
    "duration": 8,
    "start_time": "2023-05-01T11:47:02.491Z"
   },
   {
    "duration": 17,
    "start_time": "2023-05-01T11:47:02.501Z"
   },
   {
    "duration": 53,
    "start_time": "2023-05-01T11:47:02.521Z"
   },
   {
    "duration": 43,
    "start_time": "2023-05-01T11:47:02.575Z"
   },
   {
    "duration": 18,
    "start_time": "2023-05-01T11:47:02.620Z"
   },
   {
    "duration": 30,
    "start_time": "2023-05-01T11:47:02.639Z"
   },
   {
    "duration": 65,
    "start_time": "2023-05-01T11:47:02.673Z"
   },
   {
    "duration": 18,
    "start_time": "2023-05-01T11:47:02.739Z"
   },
   {
    "duration": 148,
    "start_time": "2023-05-01T11:47:02.759Z"
   },
   {
    "duration": 124,
    "start_time": "2023-05-01T11:47:02.909Z"
   },
   {
    "duration": 149,
    "start_time": "2023-05-01T11:47:03.035Z"
   },
   {
    "duration": 53,
    "start_time": "2023-05-01T11:47:03.186Z"
   },
   {
    "duration": 215,
    "start_time": "2023-05-01T11:47:03.241Z"
   },
   {
    "duration": 367,
    "start_time": "2023-05-01T11:47:03.458Z"
   },
   {
    "duration": 8394,
    "start_time": "2023-05-01T11:47:03.827Z"
   },
   {
    "duration": 34,
    "start_time": "2023-05-01T11:47:12.223Z"
   },
   {
    "duration": 309141,
    "start_time": "2023-05-01T11:47:12.259Z"
   },
   {
    "duration": 214,
    "start_time": "2023-05-01T11:53:36.637Z"
   },
   {
    "duration": 5230018,
    "start_time": "2023-05-01T11:53:54.161Z"
   },
   {
    "duration": 64,
    "start_time": "2023-05-01T13:24:32.522Z"
   },
   {
    "duration": 118,
    "start_time": "2023-05-01T13:24:41.727Z"
   },
   {
    "duration": 8975074,
    "start_time": "2023-05-01T13:27:26.302Z"
   },
   {
    "duration": 136,
    "start_time": "2023-05-01T16:14:00.993Z"
   },
   {
    "duration": 450,
    "start_time": "2023-05-01T16:14:51.037Z"
   },
   {
    "duration": 119,
    "start_time": "2023-05-01T16:17:47.828Z"
   },
   {
    "duration": 1875,
    "start_time": "2023-05-01T16:18:13.443Z"
   },
   {
    "duration": 1207,
    "start_time": "2023-05-01T16:18:15.320Z"
   },
   {
    "duration": 115,
    "start_time": "2023-05-01T16:18:16.529Z"
   },
   {
    "duration": 1381,
    "start_time": "2023-05-01T16:18:16.646Z"
   },
   {
    "duration": 512,
    "start_time": "2023-05-01T16:18:18.029Z"
   },
   {
    "duration": 2,
    "start_time": "2023-05-01T16:18:18.543Z"
   },
   {
    "duration": 565,
    "start_time": "2023-05-01T16:18:18.547Z"
   },
   {
    "duration": 8,
    "start_time": "2023-05-01T16:18:19.113Z"
   },
   {
    "duration": 15,
    "start_time": "2023-05-01T16:18:19.123Z"
   },
   {
    "duration": 50,
    "start_time": "2023-05-01T16:18:19.139Z"
   },
   {
    "duration": 33,
    "start_time": "2023-05-01T16:18:19.191Z"
   },
   {
    "duration": 32,
    "start_time": "2023-05-01T16:18:19.226Z"
   },
   {
    "duration": 7,
    "start_time": "2023-05-01T16:18:19.260Z"
   },
   {
    "duration": 56,
    "start_time": "2023-05-01T16:18:19.270Z"
   },
   {
    "duration": 33,
    "start_time": "2023-05-01T16:18:19.328Z"
   },
   {
    "duration": 119,
    "start_time": "2023-05-01T16:18:19.363Z"
   },
   {
    "duration": 112,
    "start_time": "2023-05-01T16:18:19.483Z"
   },
   {
    "duration": 106,
    "start_time": "2023-05-01T16:18:19.597Z"
   },
   {
    "duration": 63,
    "start_time": "2023-05-01T16:18:21.399Z"
   },
   {
    "duration": 192,
    "start_time": "2023-05-01T16:18:21.621Z"
   },
   {
    "duration": 414,
    "start_time": "2023-05-01T16:18:21.815Z"
   },
   {
    "duration": 6669,
    "start_time": "2023-05-01T16:18:22.379Z"
   },
   {
    "duration": 39,
    "start_time": "2023-05-01T16:18:29.049Z"
   },
   {
    "duration": 1453159,
    "start_time": "2023-05-01T16:19:34.514Z"
   },
   {
    "duration": 1563,
    "start_time": "2023-05-01T16:59:09.789Z"
   },
   {
    "duration": 951,
    "start_time": "2023-05-01T16:59:11.358Z"
   },
   {
    "duration": 125,
    "start_time": "2023-05-01T16:59:12.314Z"
   },
   {
    "duration": 1324,
    "start_time": "2023-05-01T16:59:12.441Z"
   },
   {
    "duration": 593,
    "start_time": "2023-05-01T16:59:13.766Z"
   },
   {
    "duration": 3,
    "start_time": "2023-05-01T16:59:14.360Z"
   },
   {
    "duration": 662,
    "start_time": "2023-05-01T16:59:14.367Z"
   },
   {
    "duration": 11,
    "start_time": "2023-05-01T16:59:15.031Z"
   },
   {
    "duration": 27,
    "start_time": "2023-05-01T16:59:15.059Z"
   },
   {
    "duration": 49,
    "start_time": "2023-05-01T16:59:15.088Z"
   },
   {
    "duration": 62,
    "start_time": "2023-05-01T16:59:15.139Z"
   },
   {
    "duration": 19,
    "start_time": "2023-05-01T16:59:15.203Z"
   },
   {
    "duration": 8,
    "start_time": "2023-05-01T16:59:15.224Z"
   },
   {
    "duration": 96,
    "start_time": "2023-05-01T16:59:15.235Z"
   },
   {
    "duration": 27,
    "start_time": "2023-05-01T16:59:15.333Z"
   },
   {
    "duration": 138,
    "start_time": "2023-05-01T16:59:15.361Z"
   },
   {
    "duration": 127,
    "start_time": "2023-05-01T16:59:15.501Z"
   },
   {
    "duration": 140,
    "start_time": "2023-05-01T16:59:15.629Z"
   },
   {
    "duration": 107,
    "start_time": "2023-05-01T16:59:15.771Z"
   },
   {
    "duration": 226,
    "start_time": "2023-05-01T16:59:15.880Z"
   },
   {
    "duration": 373,
    "start_time": "2023-05-01T16:59:16.108Z"
   },
   {
    "duration": 7680,
    "start_time": "2023-05-01T16:59:16.483Z"
   },
   {
    "duration": 41,
    "start_time": "2023-05-01T16:59:24.165Z"
   },
   {
    "duration": 17588,
    "start_time": "2023-05-01T16:59:24.209Z"
   },
   {
    "duration": 1583,
    "start_time": "2023-05-01T17:00:08.372Z"
   },
   {
    "duration": 1018,
    "start_time": "2023-05-01T17:00:09.958Z"
   },
   {
    "duration": 143,
    "start_time": "2023-05-01T17:00:10.979Z"
   },
   {
    "duration": 1319,
    "start_time": "2023-05-01T17:00:11.126Z"
   },
   {
    "duration": 519,
    "start_time": "2023-05-01T17:00:12.447Z"
   },
   {
    "duration": 4,
    "start_time": "2023-05-01T17:00:12.969Z"
   },
   {
    "duration": 644,
    "start_time": "2023-05-01T17:00:12.976Z"
   },
   {
    "duration": 15,
    "start_time": "2023-05-01T17:00:13.622Z"
   },
   {
    "duration": 33,
    "start_time": "2023-05-01T17:00:13.639Z"
   },
   {
    "duration": 36,
    "start_time": "2023-05-01T17:00:13.675Z"
   },
   {
    "duration": 60,
    "start_time": "2023-05-01T17:00:13.713Z"
   },
   {
    "duration": 13,
    "start_time": "2023-05-01T17:00:13.775Z"
   },
   {
    "duration": 7,
    "start_time": "2023-05-01T17:00:13.790Z"
   },
   {
    "duration": 72,
    "start_time": "2023-05-01T17:00:13.799Z"
   },
   {
    "duration": 17,
    "start_time": "2023-05-01T17:00:13.873Z"
   },
   {
    "duration": 172,
    "start_time": "2023-05-01T17:00:13.892Z"
   },
   {
    "duration": 147,
    "start_time": "2023-05-01T17:00:14.067Z"
   },
   {
    "duration": 152,
    "start_time": "2023-05-01T17:00:14.216Z"
   },
   {
    "duration": 60,
    "start_time": "2023-05-01T17:00:14.370Z"
   },
   {
    "duration": 218,
    "start_time": "2023-05-01T17:00:14.432Z"
   },
   {
    "duration": 347,
    "start_time": "2023-05-01T17:00:14.655Z"
   },
   {
    "duration": 7345,
    "start_time": "2023-05-01T17:00:15.004Z"
   },
   {
    "duration": 32,
    "start_time": "2023-05-01T17:00:22.356Z"
   },
   {
    "duration": 219255,
    "start_time": "2023-05-01T17:00:22.390Z"
   },
   {
    "duration": 2696773,
    "start_time": "2023-05-01T17:04:01.646Z"
   },
   {
    "duration": 3,
    "start_time": "2023-05-01T17:48:58.420Z"
   },
   {
    "duration": 6012373,
    "start_time": "2023-05-01T17:48:58.425Z"
   },
   {
    "duration": 1569,
    "start_time": "2023-05-01T19:49:40.578Z"
   },
   {
    "duration": 1283,
    "start_time": "2023-05-01T19:49:42.149Z"
   },
   {
    "duration": 126,
    "start_time": "2023-05-01T19:49:43.434Z"
   },
   {
    "duration": 1392,
    "start_time": "2023-05-01T19:49:43.562Z"
   },
   {
    "duration": 504,
    "start_time": "2023-05-01T19:49:44.970Z"
   },
   {
    "duration": 3,
    "start_time": "2023-05-01T19:49:45.476Z"
   },
   {
    "duration": 562,
    "start_time": "2023-05-01T19:49:45.481Z"
   },
   {
    "duration": 28,
    "start_time": "2023-05-01T19:49:46.045Z"
   },
   {
    "duration": 18,
    "start_time": "2023-05-01T19:49:46.075Z"
   },
   {
    "duration": 33,
    "start_time": "2023-05-01T19:49:46.095Z"
   },
   {
    "duration": 49,
    "start_time": "2023-05-01T19:49:46.130Z"
   },
   {
    "duration": 15,
    "start_time": "2023-05-01T19:49:46.182Z"
   },
   {
    "duration": 7,
    "start_time": "2023-05-01T19:49:46.198Z"
   },
   {
    "duration": 87,
    "start_time": "2023-05-01T19:49:46.208Z"
   },
   {
    "duration": 17,
    "start_time": "2023-05-01T19:49:46.296Z"
   },
   {
    "duration": 130,
    "start_time": "2023-05-01T19:49:46.314Z"
   },
   {
    "duration": 121,
    "start_time": "2023-05-01T19:49:46.445Z"
   },
   {
    "duration": 107,
    "start_time": "2023-05-01T19:49:46.568Z"
   },
   {
    "duration": 68,
    "start_time": "2023-05-01T19:49:46.677Z"
   },
   {
    "duration": 192,
    "start_time": "2023-05-01T19:49:46.746Z"
   },
   {
    "duration": 368,
    "start_time": "2023-05-01T19:49:46.940Z"
   },
   {
    "duration": 7644,
    "start_time": "2023-05-01T19:49:47.309Z"
   },
   {
    "duration": 27,
    "start_time": "2023-05-01T19:49:54.955Z"
   },
   {
    "duration": 4771780,
    "start_time": "2023-05-01T19:49:54.984Z"
   },
   {
    "duration": 52,
    "start_time": "2023-05-03T20:38:43.692Z"
   },
   {
    "duration": 7,
    "start_time": "2023-05-03T20:39:01.773Z"
   },
   {
    "duration": 1829,
    "start_time": "2023-05-03T20:39:07.505Z"
   },
   {
    "duration": 1457,
    "start_time": "2023-05-03T20:39:09.337Z"
   },
   {
    "duration": 122,
    "start_time": "2023-05-03T20:39:10.796Z"
   },
   {
    "duration": 1394,
    "start_time": "2023-05-03T20:39:10.920Z"
   },
   {
    "duration": 489,
    "start_time": "2023-05-03T20:39:12.316Z"
   },
   {
    "duration": 3,
    "start_time": "2023-05-03T20:39:12.807Z"
   },
   {
    "duration": 590,
    "start_time": "2023-05-03T20:39:12.812Z"
   },
   {
    "duration": 9,
    "start_time": "2023-05-03T20:39:13.404Z"
   },
   {
    "duration": 15,
    "start_time": "2023-05-03T20:39:13.415Z"
   },
   {
    "duration": 56,
    "start_time": "2023-05-03T20:39:13.433Z"
   },
   {
    "duration": 36,
    "start_time": "2023-05-03T20:39:13.491Z"
   },
   {
    "duration": 14,
    "start_time": "2023-05-03T20:39:13.529Z"
   },
   {
    "duration": 8,
    "start_time": "2023-05-03T20:39:13.545Z"
   },
   {
    "duration": 97,
    "start_time": "2023-05-03T20:39:13.555Z"
   },
   {
    "duration": 17,
    "start_time": "2023-05-03T20:39:13.654Z"
   },
   {
    "duration": 119,
    "start_time": "2023-05-03T20:39:13.689Z"
   },
   {
    "duration": 139,
    "start_time": "2023-05-03T20:39:13.810Z"
   },
   {
    "duration": 127,
    "start_time": "2023-05-03T20:39:13.951Z"
   },
   {
    "duration": 39,
    "start_time": "2023-05-03T20:39:16.161Z"
   },
   {
    "duration": 124,
    "start_time": "2023-05-03T20:39:35.821Z"
   },
   {
    "duration": 38,
    "start_time": "2023-05-03T20:39:45.506Z"
   },
   {
    "duration": 39,
    "start_time": "2023-05-03T20:39:52.464Z"
   },
   {
    "duration": 172,
    "start_time": "2023-05-03T20:40:04.453Z"
   },
   {
    "duration": 326,
    "start_time": "2023-05-03T20:41:04.963Z"
   },
   {
    "duration": 296,
    "start_time": "2023-05-03T20:41:11.841Z"
   },
   {
    "duration": 255,
    "start_time": "2023-05-03T20:41:17.456Z"
   },
   {
    "duration": 283,
    "start_time": "2023-05-03T20:41:29.174Z"
   },
   {
    "duration": 367,
    "start_time": "2023-05-03T20:41:34.611Z"
   },
   {
    "duration": 249,
    "start_time": "2023-05-03T20:41:39.435Z"
   },
   {
    "duration": 253,
    "start_time": "2023-05-03T20:41:57.411Z"
   },
   {
    "duration": 245,
    "start_time": "2023-05-03T20:42:22.727Z"
   },
   {
    "duration": 270,
    "start_time": "2023-05-03T20:44:48.512Z"
   },
   {
    "duration": 53,
    "start_time": "2023-05-03T20:45:29.499Z"
   },
   {
    "duration": 54,
    "start_time": "2023-05-03T20:50:28.462Z"
   },
   {
    "duration": 35,
    "start_time": "2023-05-03T20:51:10.597Z"
   },
   {
    "duration": 31,
    "start_time": "2023-05-03T20:51:19.673Z"
   },
   {
    "duration": 27,
    "start_time": "2023-05-03T20:52:04.108Z"
   },
   {
    "duration": 64,
    "start_time": "2023-05-04T07:44:47.015Z"
   },
   {
    "duration": 1923,
    "start_time": "2023-05-04T07:44:58.233Z"
   },
   {
    "duration": 3427,
    "start_time": "2023-05-04T07:45:00.158Z"
   },
   {
    "duration": 170,
    "start_time": "2023-05-04T07:45:03.588Z"
   },
   {
    "duration": 1520,
    "start_time": "2023-05-04T07:45:03.760Z"
   },
   {
    "duration": 675,
    "start_time": "2023-05-04T07:45:05.282Z"
   },
   {
    "duration": 3,
    "start_time": "2023-05-04T07:45:05.959Z"
   },
   {
    "duration": 743,
    "start_time": "2023-05-04T07:45:05.964Z"
   },
   {
    "duration": 27,
    "start_time": "2023-05-04T07:45:06.708Z"
   },
   {
    "duration": 27,
    "start_time": "2023-05-04T07:45:06.738Z"
   },
   {
    "duration": 60,
    "start_time": "2023-05-04T07:45:06.767Z"
   },
   {
    "duration": 42,
    "start_time": "2023-05-04T07:45:06.830Z"
   },
   {
    "duration": 17,
    "start_time": "2023-05-04T07:45:06.874Z"
   },
   {
    "duration": 25,
    "start_time": "2023-05-04T07:45:06.893Z"
   },
   {
    "duration": 114,
    "start_time": "2023-05-04T07:45:06.920Z"
   },
   {
    "duration": 21,
    "start_time": "2023-05-04T07:45:07.036Z"
   },
   {
    "duration": 325,
    "start_time": "2023-05-04T07:45:07.060Z"
   },
   {
    "duration": 164,
    "start_time": "2023-05-04T07:45:07.387Z"
   },
   {
    "duration": 1660,
    "start_time": "2023-05-04T07:45:10.024Z"
   },
   {
    "duration": 25,
    "start_time": "2023-05-04T07:45:32.362Z"
   },
   {
    "duration": 5,
    "start_time": "2023-05-04T08:57:58.543Z"
   },
   {
    "duration": 869,
    "start_time": "2023-05-04T08:57:58.551Z"
   },
   {
    "duration": 144,
    "start_time": "2023-05-04T08:57:59.422Z"
   },
   {
    "duration": 1292,
    "start_time": "2023-05-04T08:57:59.568Z"
   },
   {
    "duration": 465,
    "start_time": "2023-05-04T08:58:00.863Z"
   },
   {
    "duration": 5,
    "start_time": "2023-05-04T08:58:01.330Z"
   },
   {
    "duration": 576,
    "start_time": "2023-05-04T08:58:01.337Z"
   },
   {
    "duration": 12,
    "start_time": "2023-05-04T08:58:01.916Z"
   },
   {
    "duration": 162,
    "start_time": "2023-05-04T08:58:01.930Z"
   },
   {
    "duration": 51,
    "start_time": "2023-05-04T08:58:02.094Z"
   },
   {
    "duration": 84,
    "start_time": "2023-05-04T08:58:02.149Z"
   },
   {
    "duration": 14,
    "start_time": "2023-05-04T08:58:02.235Z"
   },
   {
    "duration": 159,
    "start_time": "2023-05-04T08:58:02.251Z"
   },
   {
    "duration": 211,
    "start_time": "2023-05-04T08:58:02.412Z"
   },
   {
    "duration": 22,
    "start_time": "2023-05-04T08:58:02.626Z"
   },
   {
    "duration": 241,
    "start_time": "2023-05-04T08:58:02.651Z"
   },
   {
    "duration": 130,
    "start_time": "2023-05-04T08:58:02.894Z"
   },
   {
    "duration": 23,
    "start_time": "2023-05-04T08:58:03.025Z"
   },
   {
    "duration": 169,
    "start_time": "2023-05-04T08:58:03.050Z"
   },
   {
    "duration": 283,
    "start_time": "2023-05-04T08:58:03.221Z"
   },
   {
    "duration": 49,
    "start_time": "2023-05-04T08:58:03.506Z"
   },
   {
    "duration": 61,
    "start_time": "2023-05-04T08:58:03.557Z"
   },
   {
    "duration": 22,
    "start_time": "2023-05-04T08:58:03.620Z"
   },
   {
    "duration": 50,
    "start_time": "2023-05-04T08:58:03.644Z"
   },
   {
    "duration": 22,
    "start_time": "2023-05-04T08:58:03.696Z"
   },
   {
    "duration": 84,
    "start_time": "2023-05-04T08:58:03.720Z"
   },
   {
    "duration": 0,
    "start_time": "2023-05-04T08:58:03.806Z"
   },
   {
    "duration": 0,
    "start_time": "2023-05-04T08:58:03.808Z"
   },
   {
    "duration": 0,
    "start_time": "2023-05-04T08:58:03.809Z"
   },
   {
    "duration": 348,
    "start_time": "2023-05-04T09:05:06.602Z"
   },
   {
    "duration": 179,
    "start_time": "2023-05-04T09:05:09.865Z"
   },
   {
    "duration": 45,
    "start_time": "2023-05-04T09:05:19.919Z"
   },
   {
    "duration": 358,
    "start_time": "2023-05-04T09:05:29.935Z"
   },
   {
    "duration": 348,
    "start_time": "2023-05-04T09:05:48.504Z"
   },
   {
    "duration": 283,
    "start_time": "2023-05-04T09:05:54.298Z"
   },
   {
    "duration": 80,
    "start_time": "2023-05-04T09:05:58.601Z"
   },
   {
    "duration": 579,
    "start_time": "2023-05-04T09:08:23.522Z"
   },
   {
    "duration": 466,
    "start_time": "2023-05-04T09:10:32.644Z"
   },
   {
    "duration": 512,
    "start_time": "2023-05-04T09:11:06.151Z"
   },
   {
    "duration": 1010,
    "start_time": "2023-05-04T09:15:25.788Z"
   },
   {
    "duration": 1326,
    "start_time": "2023-05-04T09:15:31.117Z"
   },
   {
    "duration": 509,
    "start_time": "2023-05-04T09:17:27.111Z"
   },
   {
    "duration": 15,
    "start_time": "2023-05-04T09:17:37.765Z"
   },
   {
    "duration": 1581,
    "start_time": "2023-05-04T09:28:43.090Z"
   },
   {
    "duration": 893,
    "start_time": "2023-05-04T09:28:44.672Z"
   },
   {
    "duration": 159,
    "start_time": "2023-05-04T09:28:45.567Z"
   },
   {
    "duration": 1281,
    "start_time": "2023-05-04T09:28:45.728Z"
   },
   {
    "duration": 511,
    "start_time": "2023-05-04T09:28:47.011Z"
   },
   {
    "duration": 2,
    "start_time": "2023-05-04T09:28:47.524Z"
   },
   {
    "duration": 615,
    "start_time": "2023-05-04T09:28:47.528Z"
   },
   {
    "duration": 9,
    "start_time": "2023-05-04T09:28:48.145Z"
   },
   {
    "duration": 42,
    "start_time": "2023-05-04T09:28:48.155Z"
   },
   {
    "duration": 58,
    "start_time": "2023-05-04T09:28:48.200Z"
   },
   {
    "duration": 38,
    "start_time": "2023-05-04T09:28:48.260Z"
   },
   {
    "duration": 21,
    "start_time": "2023-05-04T09:28:48.300Z"
   },
   {
    "duration": 25,
    "start_time": "2023-05-04T09:28:48.323Z"
   },
   {
    "duration": 90,
    "start_time": "2023-05-04T09:28:48.350Z"
   },
   {
    "duration": 16,
    "start_time": "2023-05-04T09:28:48.442Z"
   },
   {
    "duration": 220,
    "start_time": "2023-05-04T09:28:48.459Z"
   },
   {
    "duration": 126,
    "start_time": "2023-05-04T09:28:48.681Z"
   },
   {
    "duration": 27,
    "start_time": "2023-05-04T09:28:48.809Z"
   },
   {
    "duration": 168,
    "start_time": "2023-05-04T09:28:48.837Z"
   },
   {
    "duration": 288,
    "start_time": "2023-05-04T09:28:49.007Z"
   },
   {
    "duration": 50,
    "start_time": "2023-05-04T09:28:49.297Z"
   },
   {
    "duration": 52,
    "start_time": "2023-05-04T09:28:49.349Z"
   },
   {
    "duration": 29,
    "start_time": "2023-05-04T09:28:49.402Z"
   },
   {
    "duration": 57,
    "start_time": "2023-05-04T09:28:49.433Z"
   },
   {
    "duration": 3,
    "start_time": "2023-05-04T09:28:49.492Z"
   },
   {
    "duration": 358,
    "start_time": "2023-05-04T09:28:49.496Z"
   },
   {
    "duration": 350,
    "start_time": "2023-05-04T09:28:49.856Z"
   },
   {
    "duration": 3,
    "start_time": "2023-05-04T09:28:50.218Z"
   },
   {
    "duration": 320,
    "start_time": "2023-05-04T09:28:50.222Z"
   },
   {
    "duration": 541,
    "start_time": "2023-05-04T09:28:50.545Z"
   },
   {
    "duration": 14,
    "start_time": "2023-05-04T09:28:51.088Z"
   },
   {
    "duration": 15973,
    "start_time": "2023-05-04T09:28:51.117Z"
   },
   {
    "duration": 202301,
    "start_time": "2023-05-04T09:29:07.091Z"
   },
   {
    "duration": 3,
    "start_time": "2023-05-04T09:32:29.394Z"
   },
   {
    "duration": 3270,
    "start_time": "2023-05-04T09:32:29.398Z"
   },
   {
    "duration": 134851,
    "start_time": "2023-05-04T09:32:32.670Z"
   },
   {
    "duration": 12,
    "start_time": "2023-05-04T09:34:47.523Z"
   },
   {
    "duration": 907,
    "start_time": "2023-05-04T09:34:47.538Z"
   },
   {
    "duration": 84,
    "start_time": "2023-05-04T09:34:48.447Z"
   },
   {
    "duration": 4,
    "start_time": "2023-05-04T09:34:48.533Z"
   },
   {
    "duration": 10889,
    "start_time": "2023-05-04T09:34:48.539Z"
   },
   {
    "duration": 98,
    "start_time": "2023-05-04T09:34:59.430Z"
   },
   {
    "duration": 4,
    "start_time": "2023-05-04T09:34:59.529Z"
   },
   {
    "duration": 2892,
    "start_time": "2023-05-04T09:34:59.535Z"
   },
   {
    "duration": 194,
    "start_time": "2023-05-04T09:35:02.429Z"
   },
   {
    "duration": 4,
    "start_time": "2023-05-04T09:35:02.624Z"
   },
   {
    "duration": 66,
    "start_time": "2023-05-04T09:35:02.630Z"
   },
   {
    "duration": 223,
    "start_time": "2023-05-04T09:35:02.698Z"
   },
   {
    "duration": 82,
    "start_time": "2023-05-04T09:35:02.923Z"
   },
   {
    "duration": 4,
    "start_time": "2023-05-04T09:35:03.007Z"
   },
   {
    "duration": 417,
    "start_time": "2023-05-04T09:38:10.720Z"
   },
   {
    "duration": 3,
    "start_time": "2023-05-04T09:38:41.394Z"
   },
   {
    "duration": 344,
    "start_time": "2023-05-04T09:38:42.803Z"
   },
   {
    "duration": 341,
    "start_time": "2023-05-04T09:38:44.788Z"
   },
   {
    "duration": 622,
    "start_time": "2023-05-04T09:38:49.179Z"
   },
   {
    "duration": 23,
    "start_time": "2023-05-04T09:39:04.495Z"
   },
   {
    "duration": 945,
    "start_time": "2023-05-04T09:39:05.951Z"
   },
   {
    "duration": 20,
    "start_time": "2023-05-04T09:39:08.354Z"
   },
   {
    "duration": 4,
    "start_time": "2023-05-04T09:39:14.200Z"
   },
   {
    "duration": 6,
    "start_time": "2023-05-04T09:39:22.094Z"
   },
   {
    "duration": 10643,
    "start_time": "2023-05-04T09:39:31.155Z"
   },
   {
    "duration": 237,
    "start_time": "2023-05-04T09:39:41.800Z"
   },
   {
    "duration": 4,
    "start_time": "2023-05-04T09:39:42.039Z"
   },
   {
    "duration": 22,
    "start_time": "2023-05-04T09:39:46.972Z"
   },
   {
    "duration": 6,
    "start_time": "2023-05-04T09:39:53.195Z"
   },
   {
    "duration": 30551,
    "start_time": "2023-05-04T09:39:59.985Z"
   },
   {
    "duration": 194,
    "start_time": "2023-05-04T09:40:30.538Z"
   },
   {
    "duration": 35,
    "start_time": "2023-05-04T09:40:30.734Z"
   },
   {
    "duration": 186,
    "start_time": "2023-05-04T09:52:54.226Z"
   },
   {
    "duration": 1951,
    "start_time": "2023-05-04T09:52:56.593Z"
   },
   {
    "duration": 31,
    "start_time": "2023-05-04T09:53:38.612Z"
   },
   {
    "duration": 53,
    "start_time": "2023-05-04T09:53:45.616Z"
   },
   {
    "duration": 1935,
    "start_time": "2023-05-04T09:55:42.693Z"
   },
   {
    "duration": 2988,
    "start_time": "2023-05-04T09:56:02.714Z"
   },
   {
    "duration": 314,
    "start_time": "2023-05-04T09:56:51.047Z"
   },
   {
    "duration": 46,
    "start_time": "2023-05-04T09:57:22.392Z"
   },
   {
    "duration": 4,
    "start_time": "2023-05-04T09:57:22.441Z"
   },
   {
    "duration": 402,
    "start_time": "2023-05-04T09:57:22.447Z"
   },
   {
    "duration": 362,
    "start_time": "2023-05-04T09:57:22.852Z"
   },
   {
    "duration": 12,
    "start_time": "2023-05-04T09:57:23.217Z"
   },
   {
    "duration": 315,
    "start_time": "2023-05-04T09:57:23.235Z"
   },
   {
    "duration": 685,
    "start_time": "2023-05-04T09:57:23.552Z"
   },
   {
    "duration": 19,
    "start_time": "2023-05-04T09:57:30.418Z"
   },
   {
    "duration": 13,
    "start_time": "2023-05-04T10:03:05.020Z"
   },
   {
    "duration": 63,
    "start_time": "2023-05-04T10:03:31.379Z"
   },
   {
    "duration": 4,
    "start_time": "2023-05-04T10:07:26.491Z"
   },
   {
    "duration": 969,
    "start_time": "2023-05-04T10:07:26.497Z"
   },
   {
    "duration": 173,
    "start_time": "2023-05-04T10:07:27.468Z"
   },
   {
    "duration": 1422,
    "start_time": "2023-05-04T10:07:27.644Z"
   },
   {
    "duration": 468,
    "start_time": "2023-05-04T10:07:29.068Z"
   },
   {
    "duration": 3,
    "start_time": "2023-05-04T10:07:29.538Z"
   },
   {
    "duration": 585,
    "start_time": "2023-05-04T10:07:29.543Z"
   },
   {
    "duration": 11,
    "start_time": "2023-05-04T10:07:30.131Z"
   },
   {
    "duration": 41,
    "start_time": "2023-05-04T10:07:30.144Z"
   },
   {
    "duration": 66,
    "start_time": "2023-05-04T10:07:30.187Z"
   },
   {
    "duration": 36,
    "start_time": "2023-05-04T10:07:30.255Z"
   },
   {
    "duration": 29,
    "start_time": "2023-05-04T10:07:30.293Z"
   },
   {
    "duration": 46,
    "start_time": "2023-05-04T10:07:30.325Z"
   },
   {
    "duration": 98,
    "start_time": "2023-05-04T10:07:30.373Z"
   },
   {
    "duration": 20,
    "start_time": "2023-05-04T10:07:30.473Z"
   },
   {
    "duration": 248,
    "start_time": "2023-05-04T10:07:30.495Z"
   },
   {
    "duration": 161,
    "start_time": "2023-05-04T10:07:30.747Z"
   },
   {
    "duration": 38,
    "start_time": "2023-05-04T10:07:30.910Z"
   },
   {
    "duration": 201,
    "start_time": "2023-05-04T10:07:30.950Z"
   },
   {
    "duration": 350,
    "start_time": "2023-05-04T10:07:31.153Z"
   },
   {
    "duration": 57,
    "start_time": "2023-05-04T10:07:31.505Z"
   },
   {
    "duration": 55,
    "start_time": "2023-05-04T10:07:31.564Z"
   },
   {
    "duration": 22,
    "start_time": "2023-05-04T10:07:31.621Z"
   },
   {
    "duration": 76,
    "start_time": "2023-05-04T10:07:31.647Z"
   },
   {
    "duration": 25,
    "start_time": "2023-05-04T10:07:31.726Z"
   },
   {
    "duration": 408,
    "start_time": "2023-05-04T10:07:31.753Z"
   },
   {
    "duration": 389,
    "start_time": "2023-05-04T10:07:32.163Z"
   },
   {
    "duration": 4,
    "start_time": "2023-05-04T10:07:32.554Z"
   },
   {
    "duration": 401,
    "start_time": "2023-05-04T10:07:32.560Z"
   },
   {
    "duration": 697,
    "start_time": "2023-05-04T10:07:32.962Z"
   },
   {
    "duration": 15,
    "start_time": "2023-05-04T10:07:33.663Z"
   },
   {
    "duration": 108,
    "start_time": "2023-05-04T10:07:54.247Z"
   },
   {
    "duration": 2030,
    "start_time": "2023-05-04T10:08:08.471Z"
   },
   {
    "duration": 15,
    "start_time": "2023-05-04T10:09:10.186Z"
   },
   {
    "duration": 15,
    "start_time": "2023-05-04T10:09:32.367Z"
   },
   {
    "duration": 4079,
    "start_time": "2023-05-04T10:09:57.536Z"
   },
   {
    "duration": 57,
    "start_time": "2023-05-04T14:13:13.368Z"
   },
   {
    "duration": 1778,
    "start_time": "2023-05-04T14:16:58.336Z"
   },
   {
    "duration": 1331,
    "start_time": "2023-05-04T14:17:00.116Z"
   },
   {
    "duration": 130,
    "start_time": "2023-05-04T14:17:01.449Z"
   },
   {
    "duration": 1445,
    "start_time": "2023-05-04T14:17:01.581Z"
   },
   {
    "duration": 543,
    "start_time": "2023-05-04T14:17:03.029Z"
   },
   {
    "duration": 3,
    "start_time": "2023-05-04T14:17:03.574Z"
   },
   {
    "duration": 649,
    "start_time": "2023-05-04T14:17:03.578Z"
   },
   {
    "duration": 9,
    "start_time": "2023-05-04T14:17:04.229Z"
   },
   {
    "duration": 15,
    "start_time": "2023-05-04T14:17:04.240Z"
   },
   {
    "duration": 58,
    "start_time": "2023-05-04T14:17:04.257Z"
   },
   {
    "duration": 35,
    "start_time": "2023-05-04T14:17:04.317Z"
   },
   {
    "duration": 13,
    "start_time": "2023-05-04T14:17:04.354Z"
   },
   {
    "duration": 34,
    "start_time": "2023-05-04T14:17:04.369Z"
   },
   {
    "duration": 65,
    "start_time": "2023-05-04T14:17:04.406Z"
   },
   {
    "duration": 34,
    "start_time": "2023-05-04T14:17:04.473Z"
   },
   {
    "duration": 178,
    "start_time": "2023-05-04T14:17:04.510Z"
   },
   {
    "duration": 136,
    "start_time": "2023-05-04T14:17:04.697Z"
   },
   {
    "duration": 32,
    "start_time": "2023-05-04T14:17:04.835Z"
   },
   {
    "duration": 149,
    "start_time": "2023-05-04T14:17:04.869Z"
   },
   {
    "duration": 289,
    "start_time": "2023-05-04T14:17:05.020Z"
   },
   {
    "duration": 46,
    "start_time": "2023-05-04T14:17:05.311Z"
   },
   {
    "duration": 68,
    "start_time": "2023-05-04T14:17:05.359Z"
   },
   {
    "duration": 22,
    "start_time": "2023-05-04T14:17:05.429Z"
   },
   {
    "duration": 76,
    "start_time": "2023-05-04T14:17:05.453Z"
   },
   {
    "duration": 3,
    "start_time": "2023-05-04T14:17:05.531Z"
   },
   {
    "duration": 384,
    "start_time": "2023-05-04T14:17:05.536Z"
   },
   {
    "duration": 355,
    "start_time": "2023-05-04T14:17:05.921Z"
   },
   {
    "duration": 3,
    "start_time": "2023-05-04T14:17:06.278Z"
   },
   {
    "duration": 319,
    "start_time": "2023-05-04T14:17:06.282Z"
   },
   {
    "duration": 639,
    "start_time": "2023-05-04T14:17:06.603Z"
   },
   {
    "duration": 39,
    "start_time": "2023-05-04T14:17:08.469Z"
   },
   {
    "duration": 26,
    "start_time": "2023-05-04T14:17:21.349Z"
   },
   {
    "duration": 240,
    "start_time": "2023-05-04T14:18:41.584Z"
   },
   {
    "duration": 33,
    "start_time": "2023-05-04T14:19:00.941Z"
   },
   {
    "duration": 7674,
    "start_time": "2023-05-04T14:19:04.235Z"
   },
   {
    "duration": 65,
    "start_time": "2023-05-04T14:20:08.943Z"
   },
   {
    "duration": 6,
    "start_time": "2023-05-04T14:20:28.476Z"
   },
   {
    "duration": 918,
    "start_time": "2023-05-04T14:20:28.484Z"
   },
   {
    "duration": 123,
    "start_time": "2023-05-04T14:20:29.410Z"
   },
   {
    "duration": 1463,
    "start_time": "2023-05-04T14:20:29.535Z"
   },
   {
    "duration": 502,
    "start_time": "2023-05-04T14:20:31.001Z"
   },
   {
    "duration": 7,
    "start_time": "2023-05-04T14:20:31.504Z"
   },
   {
    "duration": 563,
    "start_time": "2023-05-04T14:20:31.513Z"
   },
   {
    "duration": 25,
    "start_time": "2023-05-04T14:20:32.078Z"
   },
   {
    "duration": 16,
    "start_time": "2023-05-04T14:20:32.110Z"
   },
   {
    "duration": 50,
    "start_time": "2023-05-04T14:20:32.128Z"
   },
   {
    "duration": 46,
    "start_time": "2023-05-04T14:20:32.182Z"
   },
   {
    "duration": 16,
    "start_time": "2023-05-04T14:20:32.232Z"
   },
   {
    "duration": 12,
    "start_time": "2023-05-04T14:20:32.250Z"
   },
   {
    "duration": 93,
    "start_time": "2023-05-04T14:20:32.264Z"
   },
   {
    "duration": 22,
    "start_time": "2023-05-04T14:20:32.359Z"
   },
   {
    "duration": 188,
    "start_time": "2023-05-04T14:20:32.382Z"
   },
   {
    "duration": 131,
    "start_time": "2023-05-04T14:20:32.572Z"
   },
   {
    "duration": 25,
    "start_time": "2023-05-04T14:20:32.705Z"
   },
   {
    "duration": 142,
    "start_time": "2023-05-04T14:20:32.732Z"
   },
   {
    "duration": 283,
    "start_time": "2023-05-04T14:20:32.875Z"
   },
   {
    "duration": 56,
    "start_time": "2023-05-04T14:20:33.159Z"
   },
   {
    "duration": 48,
    "start_time": "2023-05-04T14:20:33.218Z"
   },
   {
    "duration": 34,
    "start_time": "2023-05-04T14:20:33.268Z"
   },
   {
    "duration": 62,
    "start_time": "2023-05-04T14:20:33.305Z"
   },
   {
    "duration": 3,
    "start_time": "2023-05-04T14:20:33.369Z"
   },
   {
    "duration": 368,
    "start_time": "2023-05-04T14:20:33.375Z"
   },
   {
    "duration": 367,
    "start_time": "2023-05-04T14:20:33.745Z"
   },
   {
    "duration": 3,
    "start_time": "2023-05-04T14:20:34.113Z"
   },
   {
    "duration": 314,
    "start_time": "2023-05-04T14:20:34.119Z"
   },
   {
    "duration": 656,
    "start_time": "2023-05-04T14:20:34.435Z"
   },
   {
    "duration": 23,
    "start_time": "2023-05-04T14:20:35.095Z"
   },
   {
    "duration": 1006,
    "start_time": "2023-05-04T14:21:04.511Z"
   },
   {
    "duration": 7546,
    "start_time": "2023-05-04T14:21:07.810Z"
   },
   {
    "duration": 281,
    "start_time": "2023-05-04T14:21:51.078Z"
   },
   {
    "duration": 230,
    "start_time": "2023-05-04T14:22:19.581Z"
   },
   {
    "duration": 19,
    "start_time": "2023-05-04T14:23:20.009Z"
   },
   {
    "duration": 224,
    "start_time": "2023-05-04T14:23:26.537Z"
   },
   {
    "duration": 270,
    "start_time": "2023-05-04T14:23:41.636Z"
   },
   {
    "duration": 237,
    "start_time": "2023-05-04T14:23:48.507Z"
   },
   {
    "duration": 235,
    "start_time": "2023-05-04T14:23:53.782Z"
   },
   {
    "duration": 227,
    "start_time": "2023-05-04T14:23:59.230Z"
   },
   {
    "duration": 249,
    "start_time": "2023-05-04T14:24:10.773Z"
   },
   {
    "duration": 588,
    "start_time": "2023-05-04T14:24:16.531Z"
   },
   {
    "duration": 537,
    "start_time": "2023-05-04T14:24:28.085Z"
   },
   {
    "duration": 432,
    "start_time": "2023-05-04T14:24:34.573Z"
   },
   {
    "duration": 632,
    "start_time": "2023-05-04T14:24:39.328Z"
   },
   {
    "duration": 576,
    "start_time": "2023-05-04T14:24:44.438Z"
   },
   {
    "duration": 240,
    "start_time": "2023-05-04T14:24:50.879Z"
   },
   {
    "duration": 256,
    "start_time": "2023-05-04T14:24:56.719Z"
   },
   {
    "duration": 14,
    "start_time": "2023-05-04T14:26:23.689Z"
   },
   {
    "duration": 5,
    "start_time": "2023-05-04T14:28:07.891Z"
   },
   {
    "duration": 801,
    "start_time": "2023-05-04T14:28:07.898Z"
   },
   {
    "duration": 119,
    "start_time": "2023-05-04T14:28:08.701Z"
   },
   {
    "duration": 1197,
    "start_time": "2023-05-04T14:28:08.822Z"
   },
   {
    "duration": 433,
    "start_time": "2023-05-04T14:28:10.022Z"
   },
   {
    "duration": 3,
    "start_time": "2023-05-04T14:28:10.457Z"
   },
   {
    "duration": 522,
    "start_time": "2023-05-04T14:28:10.461Z"
   },
   {
    "duration": 9,
    "start_time": "2023-05-04T14:28:10.985Z"
   },
   {
    "duration": 46,
    "start_time": "2023-05-04T14:28:10.996Z"
   },
   {
    "duration": 34,
    "start_time": "2023-05-04T14:28:11.043Z"
   },
   {
    "duration": 35,
    "start_time": "2023-05-04T14:28:11.080Z"
   },
   {
    "duration": 13,
    "start_time": "2023-05-04T14:28:11.116Z"
   },
   {
    "duration": 6,
    "start_time": "2023-05-04T14:28:11.131Z"
   },
   {
    "duration": 83,
    "start_time": "2023-05-04T14:28:11.139Z"
   },
   {
    "duration": 153,
    "start_time": "2023-05-04T14:28:11.224Z"
   },
   {
    "duration": 159,
    "start_time": "2023-05-04T14:28:11.378Z"
   },
   {
    "duration": 129,
    "start_time": "2023-05-04T14:28:11.538Z"
   },
   {
    "duration": 28,
    "start_time": "2023-05-04T14:28:11.669Z"
   },
   {
    "duration": 150,
    "start_time": "2023-05-04T14:28:11.699Z"
   },
   {
    "duration": 294,
    "start_time": "2023-05-04T14:28:11.851Z"
   },
   {
    "duration": 47,
    "start_time": "2023-05-04T14:28:12.147Z"
   },
   {
    "duration": 42,
    "start_time": "2023-05-04T14:28:12.196Z"
   },
   {
    "duration": 17,
    "start_time": "2023-05-04T14:28:12.240Z"
   },
   {
    "duration": 80,
    "start_time": "2023-05-04T14:28:12.259Z"
   },
   {
    "duration": 3,
    "start_time": "2023-05-04T14:28:12.341Z"
   },
   {
    "duration": 342,
    "start_time": "2023-05-04T14:28:12.346Z"
   },
   {
    "duration": 336,
    "start_time": "2023-05-04T14:28:12.690Z"
   },
   {
    "duration": 3,
    "start_time": "2023-05-04T14:28:13.028Z"
   },
   {
    "duration": 294,
    "start_time": "2023-05-04T14:28:13.035Z"
   },
   {
    "duration": 587,
    "start_time": "2023-05-04T14:28:13.331Z"
   },
   {
    "duration": 21,
    "start_time": "2023-05-04T14:28:13.920Z"
   },
   {
    "duration": 346,
    "start_time": "2023-05-04T14:28:31.107Z"
   },
   {
    "duration": 377,
    "start_time": "2023-05-04T14:28:44.274Z"
   },
   {
    "duration": 2137,
    "start_time": "2023-05-04T14:28:46.844Z"
   },
   {
    "duration": 26,
    "start_time": "2023-05-04T14:29:22.119Z"
   },
   {
    "duration": 1217,
    "start_time": "2023-05-04T14:29:33.876Z"
   },
   {
    "duration": 1223,
    "start_time": "2023-05-04T14:29:46.516Z"
   },
   {
    "duration": 30,
    "start_time": "2023-05-04T14:29:56.165Z"
   },
   {
    "duration": 2166,
    "start_time": "2023-05-04T14:34:05.227Z"
   },
   {
    "duration": 111,
    "start_time": "2023-05-04T14:38:23.454Z"
   },
   {
    "duration": 6,
    "start_time": "2023-05-04T14:39:54.039Z"
   },
   {
    "duration": 28,
    "start_time": "2023-05-04T14:40:07.588Z"
   },
   {
    "duration": 19,
    "start_time": "2023-05-04T14:40:48.907Z"
   },
   {
    "duration": 123,
    "start_time": "2023-05-04T14:41:27.119Z"
   },
   {
    "duration": 15,
    "start_time": "2023-05-04T14:41:31.430Z"
   },
   {
    "duration": 6747,
    "start_time": "2023-05-04T14:41:41.905Z"
   },
   {
    "duration": 1500,
    "start_time": "2023-05-04T14:42:55.007Z"
   },
   {
    "duration": 894,
    "start_time": "2023-05-04T14:42:56.510Z"
   },
   {
    "duration": 130,
    "start_time": "2023-05-04T14:42:57.405Z"
   },
   {
    "duration": 1329,
    "start_time": "2023-05-04T14:42:57.537Z"
   },
   {
    "duration": 520,
    "start_time": "2023-05-04T14:42:58.868Z"
   },
   {
    "duration": 2,
    "start_time": "2023-05-04T14:42:59.392Z"
   },
   {
    "duration": 627,
    "start_time": "2023-05-04T14:42:59.396Z"
   },
   {
    "duration": 9,
    "start_time": "2023-05-04T14:43:00.025Z"
   },
   {
    "duration": 40,
    "start_time": "2023-05-04T14:43:00.036Z"
   },
   {
    "duration": 35,
    "start_time": "2023-05-04T14:43:00.079Z"
   },
   {
    "duration": 36,
    "start_time": "2023-05-04T14:43:00.116Z"
   },
   {
    "duration": 13,
    "start_time": "2023-05-04T14:43:00.154Z"
   },
   {
    "duration": 24,
    "start_time": "2023-05-04T14:43:00.169Z"
   },
   {
    "duration": 89,
    "start_time": "2023-05-04T14:43:00.195Z"
   },
   {
    "duration": 21,
    "start_time": "2023-05-04T14:43:00.286Z"
   },
   {
    "duration": 212,
    "start_time": "2023-05-04T14:43:00.309Z"
   },
   {
    "duration": 126,
    "start_time": "2023-05-04T14:43:00.523Z"
   },
   {
    "duration": 26,
    "start_time": "2023-05-04T14:43:00.651Z"
   },
   {
    "duration": 176,
    "start_time": "2023-05-04T14:43:00.679Z"
   },
   {
    "duration": 259,
    "start_time": "2023-05-04T14:43:00.857Z"
   },
   {
    "duration": 46,
    "start_time": "2023-05-04T14:43:01.117Z"
   },
   {
    "duration": 65,
    "start_time": "2023-05-04T14:43:01.164Z"
   },
   {
    "duration": 21,
    "start_time": "2023-05-04T14:43:01.231Z"
   },
   {
    "duration": 109,
    "start_time": "2023-05-04T14:43:01.254Z"
   },
   {
    "duration": 8,
    "start_time": "2023-05-04T14:43:01.365Z"
   },
   {
    "duration": 484,
    "start_time": "2023-05-04T14:43:01.375Z"
   },
   {
    "duration": 368,
    "start_time": "2023-05-04T14:43:01.861Z"
   },
   {
    "duration": 2,
    "start_time": "2023-05-04T14:43:02.234Z"
   },
   {
    "duration": 351,
    "start_time": "2023-05-04T14:43:02.238Z"
   },
   {
    "duration": 604,
    "start_time": "2023-05-04T14:43:02.591Z"
   },
   {
    "duration": 17,
    "start_time": "2023-05-04T14:43:03.197Z"
   },
   {
    "duration": 15855,
    "start_time": "2023-05-04T14:43:03.216Z"
   },
   {
    "duration": 198279,
    "start_time": "2023-05-04T14:43:19.073Z"
   },
   {
    "duration": 4,
    "start_time": "2023-05-04T14:46:37.354Z"
   },
   {
    "duration": 82,
    "start_time": "2023-05-04T14:46:37.360Z"
   },
   {
    "duration": 142454,
    "start_time": "2023-05-04T14:46:37.444Z"
   },
   {
    "duration": 3,
    "start_time": "2023-05-04T14:48:59.899Z"
   },
   {
    "duration": 36,
    "start_time": "2023-05-04T14:48:59.903Z"
   },
   {
    "duration": 8,
    "start_time": "2023-05-04T14:48:59.941Z"
   },
   {
    "duration": 18,
    "start_time": "2023-05-04T14:48:59.951Z"
   },
   {
    "duration": 7,
    "start_time": "2023-05-04T14:48:59.971Z"
   },
   {
    "duration": 3915,
    "start_time": "2023-05-04T14:48:59.980Z"
   },
   {
    "duration": 11,
    "start_time": "2023-05-04T14:49:03.897Z"
   },
   {
    "duration": 828,
    "start_time": "2023-05-04T14:49:03.909Z"
   },
   {
    "duration": 15,
    "start_time": "2023-05-04T14:49:04.738Z"
   },
   {
    "duration": 5,
    "start_time": "2023-05-04T14:49:04.755Z"
   },
   {
    "duration": 10144,
    "start_time": "2023-05-04T14:49:04.762Z"
   },
   {
    "duration": 95,
    "start_time": "2023-05-04T14:49:14.908Z"
   },
   {
    "duration": 6,
    "start_time": "2023-05-04T14:49:15.005Z"
   },
   {
    "duration": 1691,
    "start_time": "2023-05-04T14:49:15.013Z"
   },
   {
    "duration": 97,
    "start_time": "2023-05-04T14:49:16.706Z"
   },
   {
    "duration": 89,
    "start_time": "2023-05-04T14:49:16.805Z"
   },
   {
    "duration": 41,
    "start_time": "2023-05-04T14:49:16.896Z"
   },
   {
    "duration": 78,
    "start_time": "2023-05-04T14:49:16.939Z"
   },
   {
    "duration": 77,
    "start_time": "2023-05-04T14:49:17.018Z"
   },
   {
    "duration": 3,
    "start_time": "2023-05-04T14:49:17.097Z"
   },
   {
    "duration": 290,
    "start_time": "2023-05-04T14:53:02.383Z"
   },
   {
    "duration": 2202,
    "start_time": "2023-05-04T14:53:33.191Z"
   },
   {
    "duration": 88,
    "start_time": "2023-05-04T14:56:10.584Z"
   },
   {
    "duration": 10,
    "start_time": "2023-05-04T15:01:32.791Z"
   },
   {
    "duration": 810,
    "start_time": "2023-05-04T15:01:37.681Z"
   },
   {
    "duration": 1151,
    "start_time": "2023-05-04T15:03:15.602Z"
   },
   {
    "duration": 2138,
    "start_time": "2023-05-04T15:04:53.276Z"
   },
   {
    "duration": 907,
    "start_time": "2023-05-04T15:05:04.319Z"
   },
   {
    "duration": 2417,
    "start_time": "2023-05-04T15:05:16.507Z"
   },
   {
    "duration": 860,
    "start_time": "2023-05-04T15:05:26.408Z"
   },
   {
    "duration": 1471,
    "start_time": "2023-05-04T15:05:30.438Z"
   },
   {
    "duration": 861,
    "start_time": "2023-05-04T15:05:34.867Z"
   },
   {
    "duration": 199,
    "start_time": "2023-05-04T15:07:03.253Z"
   },
   {
    "duration": 1553,
    "start_time": "2023-05-04T15:07:17.016Z"
   },
   {
    "duration": 887,
    "start_time": "2023-05-04T15:07:18.571Z"
   },
   {
    "duration": 137,
    "start_time": "2023-05-04T15:07:19.460Z"
   },
   {
    "duration": 1269,
    "start_time": "2023-05-04T15:07:19.600Z"
   },
   {
    "duration": 501,
    "start_time": "2023-05-04T15:07:20.872Z"
   },
   {
    "duration": 2,
    "start_time": "2023-05-04T15:07:21.375Z"
   },
   {
    "duration": 648,
    "start_time": "2023-05-04T15:07:21.379Z"
   },
   {
    "duration": 8,
    "start_time": "2023-05-04T15:07:22.029Z"
   },
   {
    "duration": 35,
    "start_time": "2023-05-04T15:07:22.039Z"
   },
   {
    "duration": 34,
    "start_time": "2023-05-04T15:07:22.077Z"
   },
   {
    "duration": 39,
    "start_time": "2023-05-04T15:07:22.113Z"
   },
   {
    "duration": 12,
    "start_time": "2023-05-04T15:07:22.154Z"
   },
   {
    "duration": 12,
    "start_time": "2023-05-04T15:07:22.168Z"
   },
   {
    "duration": 73,
    "start_time": "2023-05-04T15:07:22.181Z"
   },
   {
    "duration": 19,
    "start_time": "2023-05-04T15:07:22.256Z"
   },
   {
    "duration": 230,
    "start_time": "2023-05-04T15:07:22.278Z"
   },
   {
    "duration": 120,
    "start_time": "2023-05-04T15:07:22.510Z"
   },
   {
    "duration": 22,
    "start_time": "2023-05-04T15:07:22.632Z"
   },
   {
    "duration": 124,
    "start_time": "2023-05-04T15:07:22.656Z"
   },
   {
    "duration": 259,
    "start_time": "2023-05-04T15:07:22.781Z"
   },
   {
    "duration": 53,
    "start_time": "2023-05-04T15:07:23.042Z"
   },
   {
    "duration": 49,
    "start_time": "2023-05-04T15:07:23.096Z"
   },
   {
    "duration": 20,
    "start_time": "2023-05-04T15:07:23.147Z"
   },
   {
    "duration": 74,
    "start_time": "2023-05-04T15:07:23.169Z"
   },
   {
    "duration": 3,
    "start_time": "2023-05-04T15:07:23.244Z"
   },
   {
    "duration": 353,
    "start_time": "2023-05-04T15:07:23.249Z"
   },
   {
    "duration": 355,
    "start_time": "2023-05-04T15:07:23.604Z"
   },
   {
    "duration": 2,
    "start_time": "2023-05-04T15:07:23.963Z"
   },
   {
    "duration": 296,
    "start_time": "2023-05-04T15:07:23.967Z"
   },
   {
    "duration": 576,
    "start_time": "2023-05-04T15:07:24.265Z"
   },
   {
    "duration": 16,
    "start_time": "2023-05-04T15:07:24.843Z"
   },
   {
    "duration": 15712,
    "start_time": "2023-05-04T15:07:24.861Z"
   },
   {
    "duration": 193721,
    "start_time": "2023-05-04T15:07:40.575Z"
   },
   {
    "duration": 3,
    "start_time": "2023-05-04T15:10:54.297Z"
   },
   {
    "duration": 54,
    "start_time": "2023-05-04T15:10:54.301Z"
   },
   {
    "duration": 123548,
    "start_time": "2023-05-04T15:10:54.357Z"
   },
   {
    "duration": 2,
    "start_time": "2023-05-04T15:12:57.907Z"
   },
   {
    "duration": 82,
    "start_time": "2023-05-04T15:12:57.911Z"
   },
   {
    "duration": 5,
    "start_time": "2023-05-04T15:12:57.995Z"
   },
   {
    "duration": 15,
    "start_time": "2023-05-04T15:12:58.002Z"
   },
   {
    "duration": 7,
    "start_time": "2023-05-04T15:12:58.019Z"
   },
   {
    "duration": 2585,
    "start_time": "2023-05-04T15:12:58.028Z"
   },
   {
    "duration": 13,
    "start_time": "2023-05-04T15:13:00.615Z"
   },
   {
    "duration": 882,
    "start_time": "2023-05-04T15:13:00.630Z"
   },
   {
    "duration": 17,
    "start_time": "2023-05-04T15:13:01.514Z"
   },
   {
    "duration": 19,
    "start_time": "2023-05-04T15:13:01.533Z"
   },
   {
    "duration": 10154,
    "start_time": "2023-05-04T15:13:01.554Z"
   },
   {
    "duration": 107,
    "start_time": "2023-05-04T15:13:11.710Z"
   },
   {
    "duration": 7,
    "start_time": "2023-05-04T15:13:11.819Z"
   },
   {
    "duration": 1775,
    "start_time": "2023-05-04T15:13:11.827Z"
   },
   {
    "duration": 96,
    "start_time": "2023-05-04T15:13:13.603Z"
   },
   {
    "duration": 5,
    "start_time": "2023-05-04T15:13:13.701Z"
   },
   {
    "duration": 106,
    "start_time": "2023-05-04T15:13:13.708Z"
   },
   {
    "duration": 78,
    "start_time": "2023-05-04T15:13:13.816Z"
   },
   {
    "duration": 82,
    "start_time": "2023-05-04T15:13:13.896Z"
   },
   {
    "duration": 5,
    "start_time": "2023-05-04T15:13:13.980Z"
   },
   {
    "duration": 1582,
    "start_time": "2023-05-05T03:02:57.395Z"
   },
   {
    "duration": 2772,
    "start_time": "2023-05-05T03:02:58.979Z"
   },
   {
    "duration": 157,
    "start_time": "2023-05-05T03:03:01.753Z"
   },
   {
    "duration": 1060,
    "start_time": "2023-05-05T03:03:01.912Z"
   },
   {
    "duration": 443,
    "start_time": "2023-05-05T03:03:02.975Z"
   },
   {
    "duration": 3,
    "start_time": "2023-05-05T03:03:03.420Z"
   },
   {
    "duration": 544,
    "start_time": "2023-05-05T03:03:03.424Z"
   },
   {
    "duration": 8,
    "start_time": "2023-05-05T03:03:03.970Z"
   },
   {
    "duration": 16,
    "start_time": "2023-05-05T03:03:03.980Z"
   },
   {
    "duration": 44,
    "start_time": "2023-05-05T03:03:03.997Z"
   },
   {
    "duration": 30,
    "start_time": "2023-05-05T03:03:04.043Z"
   },
   {
    "duration": 11,
    "start_time": "2023-05-05T03:03:04.075Z"
   },
   {
    "duration": 7,
    "start_time": "2023-05-05T03:03:04.088Z"
   },
   {
    "duration": 77,
    "start_time": "2023-05-05T03:03:04.098Z"
   },
   {
    "duration": 14,
    "start_time": "2023-05-05T03:03:04.177Z"
   },
   {
    "duration": 191,
    "start_time": "2023-05-05T03:03:04.193Z"
   },
   {
    "duration": 119,
    "start_time": "2023-05-05T03:03:04.386Z"
   },
   {
    "duration": 22,
    "start_time": "2023-05-05T03:03:04.507Z"
   },
   {
    "duration": 163,
    "start_time": "2023-05-05T03:03:04.535Z"
   },
   {
    "duration": 238,
    "start_time": "2023-05-05T03:03:04.700Z"
   },
   {
    "duration": 43,
    "start_time": "2023-05-05T03:03:04.940Z"
   },
   {
    "duration": 64,
    "start_time": "2023-05-05T03:03:04.985Z"
   },
   {
    "duration": 19,
    "start_time": "2023-05-05T03:03:05.051Z"
   },
   {
    "duration": 64,
    "start_time": "2023-05-05T03:03:05.072Z"
   },
   {
    "duration": 3,
    "start_time": "2023-05-05T03:03:05.138Z"
   },
   {
    "duration": 343,
    "start_time": "2023-05-05T03:03:05.142Z"
   },
   {
    "duration": 329,
    "start_time": "2023-05-05T03:03:05.487Z"
   },
   {
    "duration": 3,
    "start_time": "2023-05-05T03:03:05.817Z"
   },
   {
    "duration": 261,
    "start_time": "2023-05-05T03:03:05.821Z"
   },
   {
    "duration": 552,
    "start_time": "2023-05-05T03:03:06.084Z"
   },
   {
    "duration": 12,
    "start_time": "2023-05-05T03:03:06.638Z"
   },
   {
    "duration": 13,
    "start_time": "2023-05-05T03:03:41.185Z"
   },
   {
    "duration": 1886,
    "start_time": "2023-05-05T03:04:12.961Z"
   },
   {
    "duration": 16,
    "start_time": "2023-05-05T03:07:29.019Z"
   },
   {
    "duration": 54,
    "start_time": "2023-05-05T03:08:07.310Z"
   },
   {
    "duration": 1291,
    "start_time": "2023-05-05T03:14:20.094Z"
   },
   {
    "duration": 763,
    "start_time": "2023-05-05T03:14:21.386Z"
   },
   {
    "duration": 133,
    "start_time": "2023-05-05T03:14:22.150Z"
   },
   {
    "duration": 1172,
    "start_time": "2023-05-05T03:14:22.284Z"
   },
   {
    "duration": 458,
    "start_time": "2023-05-05T03:14:23.458Z"
   },
   {
    "duration": 2,
    "start_time": "2023-05-05T03:14:23.918Z"
   },
   {
    "duration": 573,
    "start_time": "2023-05-05T03:14:23.922Z"
   },
   {
    "duration": 9,
    "start_time": "2023-05-05T03:14:24.496Z"
   },
   {
    "duration": 27,
    "start_time": "2023-05-05T03:14:24.507Z"
   },
   {
    "duration": 30,
    "start_time": "2023-05-05T03:14:24.537Z"
   },
   {
    "duration": 30,
    "start_time": "2023-05-05T03:14:24.568Z"
   },
   {
    "duration": 10,
    "start_time": "2023-05-05T03:14:24.600Z"
   },
   {
    "duration": 26,
    "start_time": "2023-05-05T03:14:24.612Z"
   },
   {
    "duration": 72,
    "start_time": "2023-05-05T03:14:24.640Z"
   },
   {
    "duration": 32,
    "start_time": "2023-05-05T03:14:24.715Z"
   },
   {
    "duration": 208,
    "start_time": "2023-05-05T03:14:24.748Z"
   },
   {
    "duration": 122,
    "start_time": "2023-05-05T03:14:24.958Z"
   },
   {
    "duration": 21,
    "start_time": "2023-05-05T03:14:25.081Z"
   },
   {
    "duration": 146,
    "start_time": "2023-05-05T03:14:25.103Z"
   },
   {
    "duration": 263,
    "start_time": "2023-05-05T03:14:25.251Z"
   },
   {
    "duration": 52,
    "start_time": "2023-05-05T03:14:25.516Z"
   },
   {
    "duration": 43,
    "start_time": "2023-05-05T03:14:25.570Z"
   },
   {
    "duration": 30,
    "start_time": "2023-05-05T03:14:25.615Z"
   },
   {
    "duration": 50,
    "start_time": "2023-05-05T03:14:25.647Z"
   },
   {
    "duration": 3,
    "start_time": "2023-05-05T03:14:25.698Z"
   },
   {
    "duration": 342,
    "start_time": "2023-05-05T03:14:25.702Z"
   },
   {
    "duration": 334,
    "start_time": "2023-05-05T03:14:26.046Z"
   },
   {
    "duration": 3,
    "start_time": "2023-05-05T03:14:26.383Z"
   },
   {
    "duration": 269,
    "start_time": "2023-05-05T03:14:26.388Z"
   },
   {
    "duration": 570,
    "start_time": "2023-05-05T03:14:26.659Z"
   },
   {
    "duration": 13,
    "start_time": "2023-05-05T03:14:27.235Z"
   },
   {
    "duration": 17,
    "start_time": "2023-05-05T03:14:27.249Z"
   },
   {
    "duration": 12,
    "start_time": "2023-05-05T03:14:27.268Z"
   },
   {
    "duration": 75,
    "start_time": "2023-05-05T03:14:27.281Z"
   },
   {
    "duration": 5082,
    "start_time": "2023-05-05T03:16:03.250Z"
   },
   {
    "duration": 12,
    "start_time": "2023-05-05T03:19:10.058Z"
   },
   {
    "duration": 12,
    "start_time": "2023-05-05T03:19:12.149Z"
   },
   {
    "duration": 62,
    "start_time": "2023-05-05T03:19:23.248Z"
   },
   {
    "duration": 3483,
    "start_time": "2023-05-05T03:19:39.321Z"
   },
   {
    "duration": 23,
    "start_time": "2023-05-05T03:22:05.770Z"
   },
   {
    "duration": 12,
    "start_time": "2023-05-05T03:22:08.226Z"
   },
   {
    "duration": 27,
    "start_time": "2023-05-05T03:23:39.808Z"
   },
   {
    "duration": 11,
    "start_time": "2023-05-05T03:23:44.131Z"
   },
   {
    "duration": 2780,
    "start_time": "2023-05-05T03:23:57.210Z"
   },
   {
    "duration": 33,
    "start_time": "2023-05-05T03:25:44.405Z"
   },
   {
    "duration": 11,
    "start_time": "2023-05-05T03:25:48.362Z"
   },
   {
    "duration": 2299,
    "start_time": "2023-05-05T03:25:53.871Z"
   },
   {
    "duration": 46,
    "start_time": "2023-05-05T03:27:40.048Z"
   },
   {
    "duration": 12,
    "start_time": "2023-05-05T03:27:44.137Z"
   },
   {
    "duration": 47456,
    "start_time": "2023-05-05T03:28:09.310Z"
   },
   {
    "duration": 1306,
    "start_time": "2023-05-05T03:30:46.373Z"
   },
   {
    "duration": 800,
    "start_time": "2023-05-05T03:30:47.681Z"
   },
   {
    "duration": 137,
    "start_time": "2023-05-05T03:30:48.482Z"
   },
   {
    "duration": 1152,
    "start_time": "2023-05-05T03:30:48.620Z"
   },
   {
    "duration": 465,
    "start_time": "2023-05-05T03:30:49.774Z"
   },
   {
    "duration": 3,
    "start_time": "2023-05-05T03:30:50.240Z"
   },
   {
    "duration": 586,
    "start_time": "2023-05-05T03:30:50.245Z"
   },
   {
    "duration": 8,
    "start_time": "2023-05-05T03:30:50.834Z"
   },
   {
    "duration": 15,
    "start_time": "2023-05-05T03:30:50.843Z"
   },
   {
    "duration": 27,
    "start_time": "2023-05-05T03:30:50.860Z"
   },
   {
    "duration": 47,
    "start_time": "2023-05-05T03:30:50.888Z"
   },
   {
    "duration": 10,
    "start_time": "2023-05-05T03:30:50.937Z"
   },
   {
    "duration": 6,
    "start_time": "2023-05-05T03:30:50.949Z"
   },
   {
    "duration": 64,
    "start_time": "2023-05-05T03:30:50.959Z"
   },
   {
    "duration": 23,
    "start_time": "2023-05-05T03:30:51.025Z"
   },
   {
    "duration": 195,
    "start_time": "2023-05-05T03:30:51.049Z"
   },
   {
    "duration": 137,
    "start_time": "2023-05-05T03:30:51.246Z"
   },
   {
    "duration": 20,
    "start_time": "2023-05-05T03:30:51.384Z"
   },
   {
    "duration": 134,
    "start_time": "2023-05-05T03:30:51.405Z"
   },
   {
    "duration": 220,
    "start_time": "2023-05-05T03:30:51.541Z"
   },
   {
    "duration": 40,
    "start_time": "2023-05-05T03:30:51.763Z"
   },
   {
    "duration": 58,
    "start_time": "2023-05-05T03:30:51.805Z"
   },
   {
    "duration": 20,
    "start_time": "2023-05-05T03:30:51.865Z"
   },
   {
    "duration": 64,
    "start_time": "2023-05-05T03:30:51.886Z"
   },
   {
    "duration": 3,
    "start_time": "2023-05-05T03:30:51.952Z"
   },
   {
    "duration": 343,
    "start_time": "2023-05-05T03:30:51.957Z"
   },
   {
    "duration": 332,
    "start_time": "2023-05-05T03:30:52.302Z"
   },
   {
    "duration": 3,
    "start_time": "2023-05-05T03:30:52.636Z"
   },
   {
    "duration": 258,
    "start_time": "2023-05-05T03:30:52.640Z"
   },
   {
    "duration": 606,
    "start_time": "2023-05-05T03:30:52.900Z"
   },
   {
    "duration": 14,
    "start_time": "2023-05-05T03:30:53.508Z"
   },
   {
    "duration": 24,
    "start_time": "2023-05-05T03:30:53.524Z"
   },
   {
    "duration": 74,
    "start_time": "2023-05-05T03:30:53.549Z"
   },
   {
    "duration": 16,
    "start_time": "2023-05-05T03:30:53.625Z"
   },
   {
    "duration": 118,
    "start_time": "2023-05-05T03:30:53.643Z"
   },
   {
    "duration": 13848,
    "start_time": "2023-05-05T03:30:53.763Z"
   },
   {
    "duration": 2267679,
    "start_time": "2023-05-05T03:31:07.612Z"
   },
   {
    "duration": 2,
    "start_time": "2023-05-05T04:08:55.294Z"
   },
   {
    "duration": 71,
    "start_time": "2023-05-05T04:08:55.298Z"
   },
   {
    "duration": 193776,
    "start_time": "2023-05-05T04:08:55.371Z"
   },
   {
    "duration": 2,
    "start_time": "2023-05-05T04:12:09.150Z"
   },
   {
    "duration": 82,
    "start_time": "2023-05-05T04:12:09.153Z"
   },
   {
    "duration": 8,
    "start_time": "2023-05-05T04:12:09.236Z"
   },
   {
    "duration": 6,
    "start_time": "2023-05-05T04:12:09.245Z"
   },
   {
    "duration": 4,
    "start_time": "2023-05-05T04:12:09.252Z"
   },
   {
    "duration": 1923,
    "start_time": "2023-05-05T11:02:24.725Z"
   },
   {
    "duration": 3713,
    "start_time": "2023-05-05T11:02:26.651Z"
   },
   {
    "duration": 154,
    "start_time": "2023-05-05T11:02:30.366Z"
   },
   {
    "duration": 1337,
    "start_time": "2023-05-05T11:02:30.522Z"
   },
   {
    "duration": 553,
    "start_time": "2023-05-05T11:02:31.861Z"
   },
   {
    "duration": 2,
    "start_time": "2023-05-05T11:02:32.416Z"
   },
   {
    "duration": 635,
    "start_time": "2023-05-05T11:02:32.420Z"
   },
   {
    "duration": 8,
    "start_time": "2023-05-05T11:02:33.057Z"
   },
   {
    "duration": 22,
    "start_time": "2023-05-05T11:02:33.067Z"
   },
   {
    "duration": 72,
    "start_time": "2023-05-05T11:02:33.092Z"
   },
   {
    "duration": 43,
    "start_time": "2023-05-05T11:02:33.166Z"
   },
   {
    "duration": 29,
    "start_time": "2023-05-05T11:02:33.211Z"
   },
   {
    "duration": 12,
    "start_time": "2023-05-05T11:02:33.243Z"
   },
   {
    "duration": 73,
    "start_time": "2023-05-05T11:02:33.256Z"
   },
   {
    "duration": 23,
    "start_time": "2023-05-05T11:02:33.331Z"
   },
   {
    "duration": 205,
    "start_time": "2023-05-05T11:02:33.356Z"
   },
   {
    "duration": 124,
    "start_time": "2023-05-05T11:02:33.563Z"
   },
   {
    "duration": 23,
    "start_time": "2023-05-05T11:02:33.689Z"
   },
   {
    "duration": 162,
    "start_time": "2023-05-05T11:02:33.713Z"
   },
   {
    "duration": 281,
    "start_time": "2023-05-05T11:02:33.877Z"
   },
   {
    "duration": 43,
    "start_time": "2023-05-05T11:02:34.160Z"
   },
   {
    "duration": 60,
    "start_time": "2023-05-05T11:02:34.205Z"
   },
   {
    "duration": 21,
    "start_time": "2023-05-05T11:02:34.267Z"
   },
   {
    "duration": 68,
    "start_time": "2023-05-05T11:02:34.290Z"
   },
   {
    "duration": 3,
    "start_time": "2023-05-05T11:02:34.360Z"
   },
   {
    "duration": 337,
    "start_time": "2023-05-05T11:02:34.365Z"
   },
   {
    "duration": 351,
    "start_time": "2023-05-05T11:02:34.704Z"
   },
   {
    "duration": 3,
    "start_time": "2023-05-05T11:02:35.059Z"
   },
   {
    "duration": 309,
    "start_time": "2023-05-05T11:02:35.063Z"
   },
   {
    "duration": 642,
    "start_time": "2023-05-05T11:02:35.374Z"
   },
   {
    "duration": 32,
    "start_time": "2023-05-05T11:02:36.018Z"
   },
   {
    "duration": 21,
    "start_time": "2023-05-05T11:02:36.052Z"
   },
   {
    "duration": 77,
    "start_time": "2023-05-05T11:02:36.075Z"
   },
   {
    "duration": 14,
    "start_time": "2023-05-05T11:02:36.156Z"
   },
   {
    "duration": 86,
    "start_time": "2023-05-05T11:02:36.171Z"
   },
   {
    "duration": 16040,
    "start_time": "2023-05-05T11:03:00.810Z"
   },
   {
    "duration": 2995,
    "start_time": "2023-05-05T11:03:49.284Z"
   },
   {
    "duration": 9,
    "start_time": "2023-05-05T11:11:02.874Z"
   },
   {
    "duration": 4776,
    "start_time": "2023-05-05T11:11:10.665Z"
   },
   {
    "duration": 12,
    "start_time": "2023-05-05T11:11:58.161Z"
   },
   {
    "duration": 3232,
    "start_time": "2023-05-05T11:12:04.461Z"
   },
   {
    "duration": 24,
    "start_time": "2023-05-05T11:15:26.764Z"
   },
   {
    "duration": 1673,
    "start_time": "2023-05-05T18:05:24.501Z"
   },
   {
    "duration": 1330,
    "start_time": "2023-05-05T18:05:26.177Z"
   },
   {
    "duration": 150,
    "start_time": "2023-05-05T18:05:27.509Z"
   },
   {
    "duration": 1294,
    "start_time": "2023-05-05T18:05:27.662Z"
   },
   {
    "duration": 485,
    "start_time": "2023-05-05T18:05:28.959Z"
   },
   {
    "duration": 3,
    "start_time": "2023-05-05T18:05:29.446Z"
   },
   {
    "duration": 586,
    "start_time": "2023-05-05T18:05:29.452Z"
   },
   {
    "duration": 11,
    "start_time": "2023-05-05T18:05:30.040Z"
   },
   {
    "duration": 33,
    "start_time": "2023-05-05T18:05:30.053Z"
   },
   {
    "duration": 53,
    "start_time": "2023-05-05T18:05:30.089Z"
   },
   {
    "duration": 42,
    "start_time": "2023-05-05T18:05:30.145Z"
   },
   {
    "duration": 14,
    "start_time": "2023-05-05T18:05:30.189Z"
   },
   {
    "duration": 12,
    "start_time": "2023-05-05T18:05:30.205Z"
   },
   {
    "duration": 83,
    "start_time": "2023-05-05T18:05:30.220Z"
   },
   {
    "duration": 17,
    "start_time": "2023-05-05T18:05:30.305Z"
   },
   {
    "duration": 255,
    "start_time": "2023-05-05T18:05:30.323Z"
   },
   {
    "duration": 139,
    "start_time": "2023-05-05T18:05:30.580Z"
   },
   {
    "duration": 24,
    "start_time": "2023-05-05T18:05:30.723Z"
   },
   {
    "duration": 176,
    "start_time": "2023-05-05T18:05:30.750Z"
   },
   {
    "duration": 267,
    "start_time": "2023-05-05T18:05:30.929Z"
   },
   {
    "duration": 43,
    "start_time": "2023-05-05T18:05:31.198Z"
   },
   {
    "duration": 59,
    "start_time": "2023-05-05T18:05:31.242Z"
   },
   {
    "duration": 19,
    "start_time": "2023-05-05T18:05:31.303Z"
   },
   {
    "duration": 87,
    "start_time": "2023-05-05T18:05:31.323Z"
   },
   {
    "duration": 2,
    "start_time": "2023-05-05T18:05:31.412Z"
   },
   {
    "duration": 353,
    "start_time": "2023-05-05T18:05:31.416Z"
   },
   {
    "duration": 327,
    "start_time": "2023-05-05T18:05:31.770Z"
   },
   {
    "duration": 2,
    "start_time": "2023-05-05T18:05:32.099Z"
   },
   {
    "duration": 295,
    "start_time": "2023-05-05T18:05:32.102Z"
   },
   {
    "duration": 633,
    "start_time": "2023-05-05T18:05:32.399Z"
   },
   {
    "duration": 14,
    "start_time": "2023-05-05T18:05:33.034Z"
   },
   {
    "duration": 18,
    "start_time": "2023-05-05T18:05:33.049Z"
   },
   {
    "duration": 53,
    "start_time": "2023-05-05T18:05:33.069Z"
   },
   {
    "duration": 97,
    "start_time": "2023-05-05T18:05:33.124Z"
   },
   {
    "duration": 12,
    "start_time": "2023-05-05T18:05:33.222Z"
   },
   {
    "duration": 74,
    "start_time": "2023-05-05T18:05:33.235Z"
   },
   {
    "duration": 3434200,
    "start_time": "2023-05-05T18:05:33.312Z"
   },
   {
    "duration": 23,
    "start_time": "2023-05-05T19:16:00.103Z"
   },
   {
    "duration": 13789,
    "start_time": "2023-05-05T19:16:05.884Z"
   },
   {
    "duration": 42,
    "start_time": "2023-05-05T19:16:36.453Z"
   },
   {
    "duration": 5,
    "start_time": "2023-05-05T19:16:40.011Z"
   },
   {
    "duration": 5,
    "start_time": "2023-05-05T19:16:53.233Z"
   },
   {
    "duration": 5,
    "start_time": "2023-05-05T19:18:22.033Z"
   },
   {
    "duration": 1794,
    "start_time": "2023-05-10T13:46:11.575Z"
   },
   {
    "duration": 1094,
    "start_time": "2023-05-10T13:46:13.371Z"
   },
   {
    "duration": 124,
    "start_time": "2023-05-10T13:46:14.467Z"
   },
   {
    "duration": 1308,
    "start_time": "2023-05-10T13:46:14.594Z"
   },
   {
    "duration": 479,
    "start_time": "2023-05-10T13:46:15.904Z"
   },
   {
    "duration": 3,
    "start_time": "2023-05-10T13:46:20.146Z"
   },
   {
    "duration": 602,
    "start_time": "2023-05-10T13:46:22.223Z"
   },
   {
    "duration": 4,
    "start_time": "2023-05-10T13:46:36.607Z"
   },
   {
    "duration": 837,
    "start_time": "2023-05-10T13:46:36.616Z"
   },
   {
    "duration": 113,
    "start_time": "2023-05-10T13:46:37.455Z"
   },
   {
    "duration": 1302,
    "start_time": "2023-05-10T13:46:37.569Z"
   },
   {
    "duration": 450,
    "start_time": "2023-05-10T13:46:38.873Z"
   },
   {
    "duration": 14,
    "start_time": "2023-05-10T13:46:39.324Z"
   },
   {
    "duration": 520,
    "start_time": "2023-05-10T13:46:42.580Z"
   },
   {
    "duration": 7,
    "start_time": "2023-05-10T13:47:01.411Z"
   },
   {
    "duration": 120,
    "start_time": "2023-05-10T13:47:16.617Z"
   },
   {
    "duration": 31,
    "start_time": "2023-05-10T13:47:23.783Z"
   },
   {
    "duration": 8,
    "start_time": "2023-05-10T13:47:53.296Z"
   },
   {
    "duration": 7,
    "start_time": "2023-05-10T13:48:02.191Z"
   },
   {
    "duration": 34,
    "start_time": "2023-05-10T14:14:22.353Z"
   },
   {
    "duration": 19,
    "start_time": "2023-05-10T14:14:30.572Z"
   },
   {
    "duration": 18,
    "start_time": "2023-05-10T14:14:47.119Z"
   },
   {
    "duration": 5,
    "start_time": "2023-05-10T16:39:12.323Z"
   },
   {
    "duration": 797,
    "start_time": "2023-05-10T16:39:12.333Z"
   },
   {
    "duration": 124,
    "start_time": "2023-05-10T16:39:13.132Z"
   },
   {
    "duration": 1157,
    "start_time": "2023-05-10T16:39:13.257Z"
   },
   {
    "duration": 435,
    "start_time": "2023-05-10T16:39:14.416Z"
   },
   {
    "duration": 41,
    "start_time": "2023-05-10T16:39:14.853Z"
   },
   {
    "duration": 533,
    "start_time": "2023-05-10T16:39:14.895Z"
   },
   {
    "duration": 31,
    "start_time": "2023-05-10T16:39:15.430Z"
   },
   {
    "duration": 9,
    "start_time": "2023-05-10T16:39:15.463Z"
   },
   {
    "duration": 61,
    "start_time": "2023-05-10T16:39:15.474Z"
   },
   {
    "duration": 33,
    "start_time": "2023-05-10T16:39:15.538Z"
   },
   {
    "duration": 47,
    "start_time": "2023-05-10T16:39:15.573Z"
   },
   {
    "duration": 26,
    "start_time": "2023-05-10T16:39:15.622Z"
   },
   {
    "duration": 17,
    "start_time": "2023-05-10T16:39:15.650Z"
   },
   {
    "duration": 107,
    "start_time": "2023-05-10T16:39:15.669Z"
   },
   {
    "duration": 67,
    "start_time": "2023-05-10T16:39:15.778Z"
   },
   {
    "duration": 14,
    "start_time": "2023-05-10T16:39:15.846Z"
   },
   {
    "duration": 53,
    "start_time": "2023-05-10T16:39:15.862Z"
   },
   {
    "duration": 562,
    "start_time": "2023-05-10T16:39:15.917Z"
   },
   {
    "duration": 0,
    "start_time": "2023-05-10T16:39:16.481Z"
   },
   {
    "duration": 0,
    "start_time": "2023-05-10T16:39:16.482Z"
   },
   {
    "duration": 0,
    "start_time": "2023-05-10T16:39:16.484Z"
   },
   {
    "duration": 0,
    "start_time": "2023-05-10T16:39:16.485Z"
   },
   {
    "duration": 0,
    "start_time": "2023-05-10T16:39:16.486Z"
   },
   {
    "duration": 0,
    "start_time": "2023-05-10T16:39:16.487Z"
   },
   {
    "duration": 0,
    "start_time": "2023-05-10T16:39:16.488Z"
   },
   {
    "duration": 0,
    "start_time": "2023-05-10T16:39:16.489Z"
   },
   {
    "duration": 0,
    "start_time": "2023-05-10T16:39:16.490Z"
   },
   {
    "duration": 0,
    "start_time": "2023-05-10T16:39:16.491Z"
   },
   {
    "duration": 0,
    "start_time": "2023-05-10T16:39:16.492Z"
   },
   {
    "duration": 0,
    "start_time": "2023-05-10T16:39:16.493Z"
   },
   {
    "duration": 587,
    "start_time": "2023-05-10T16:41:20.929Z"
   },
   {
    "duration": 21,
    "start_time": "2023-05-10T16:42:00.391Z"
   },
   {
    "duration": 75,
    "start_time": "2023-05-10T16:42:24.749Z"
   },
   {
    "duration": 776,
    "start_time": "2023-05-10T16:42:30.552Z"
   },
   {
    "duration": 5,
    "start_time": "2023-05-10T16:42:52.679Z"
   },
   {
    "duration": 4,
    "start_time": "2023-05-10T16:43:06.529Z"
   },
   {
    "duration": 39,
    "start_time": "2023-05-10T16:43:32.781Z"
   },
   {
    "duration": 49,
    "start_time": "2023-05-10T16:43:51.647Z"
   },
   {
    "duration": 4,
    "start_time": "2023-05-10T16:45:23.123Z"
   },
   {
    "duration": 821,
    "start_time": "2023-05-10T16:45:23.133Z"
   },
   {
    "duration": 117,
    "start_time": "2023-05-10T16:45:23.956Z"
   },
   {
    "duration": 1337,
    "start_time": "2023-05-10T16:45:24.075Z"
   },
   {
    "duration": 423,
    "start_time": "2023-05-10T16:45:25.414Z"
   },
   {
    "duration": 21,
    "start_time": "2023-05-10T16:45:25.839Z"
   },
   {
    "duration": 527,
    "start_time": "2023-05-10T16:45:25.862Z"
   },
   {
    "duration": 30,
    "start_time": "2023-05-10T16:45:26.391Z"
   },
   {
    "duration": 8,
    "start_time": "2023-05-10T16:45:26.423Z"
   },
   {
    "duration": 62,
    "start_time": "2023-05-10T16:45:26.433Z"
   },
   {
    "duration": 542,
    "start_time": "2023-05-10T16:45:28.446Z"
   },
   {
    "duration": 90,
    "start_time": "2023-05-10T16:47:04.776Z"
   },
   {
    "duration": 63,
    "start_time": "2023-05-10T16:52:42.935Z"
   },
   {
    "duration": 14,
    "start_time": "2023-05-10T16:55:03.340Z"
   },
   {
    "duration": 12,
    "start_time": "2023-05-10T16:55:27.245Z"
   },
   {
    "duration": 20,
    "start_time": "2023-05-10T17:05:31.338Z"
   },
   {
    "duration": 22,
    "start_time": "2023-05-10T17:06:59.834Z"
   },
   {
    "duration": 10,
    "start_time": "2023-05-10T17:07:12.133Z"
   },
   {
    "duration": 10,
    "start_time": "2023-05-10T17:07:26.590Z"
   },
   {
    "duration": 5,
    "start_time": "2023-05-10T17:07:34.487Z"
   },
   {
    "duration": 57,
    "start_time": "2023-05-10T17:07:49.202Z"
   },
   {
    "duration": 59,
    "start_time": "2023-05-10T17:07:58.108Z"
   },
   {
    "duration": 5,
    "start_time": "2023-05-10T17:12:22.739Z"
   },
   {
    "duration": 794,
    "start_time": "2023-05-10T17:12:22.749Z"
   },
   {
    "duration": 117,
    "start_time": "2023-05-10T17:12:23.545Z"
   },
   {
    "duration": 1397,
    "start_time": "2023-05-10T17:12:23.664Z"
   },
   {
    "duration": 455,
    "start_time": "2023-05-10T17:12:25.064Z"
   },
   {
    "duration": 21,
    "start_time": "2023-05-10T17:12:25.521Z"
   },
   {
    "duration": 540,
    "start_time": "2023-05-10T17:12:25.544Z"
   },
   {
    "duration": 31,
    "start_time": "2023-05-10T17:12:26.086Z"
   },
   {
    "duration": 7,
    "start_time": "2023-05-10T17:12:26.119Z"
   },
   {
    "duration": 51,
    "start_time": "2023-05-10T17:12:26.127Z"
   },
   {
    "duration": 34,
    "start_time": "2023-05-10T17:12:26.193Z"
   },
   {
    "duration": 40,
    "start_time": "2023-05-10T17:12:26.229Z"
   },
   {
    "duration": 34,
    "start_time": "2023-05-10T17:12:26.271Z"
   },
   {
    "duration": 16,
    "start_time": "2023-05-10T17:12:26.307Z"
   },
   {
    "duration": 111,
    "start_time": "2023-05-10T17:12:26.325Z"
   },
   {
    "duration": 76,
    "start_time": "2023-05-10T17:12:26.437Z"
   },
   {
    "duration": 22,
    "start_time": "2023-05-10T17:12:26.515Z"
   },
   {
    "duration": 67,
    "start_time": "2023-05-10T17:12:26.539Z"
   },
   {
    "duration": 50,
    "start_time": "2023-05-10T17:12:26.607Z"
   },
   {
    "duration": 16,
    "start_time": "2023-05-10T17:12:46.116Z"
   },
   {
    "duration": 25,
    "start_time": "2023-05-10T17:12:53.812Z"
   },
   {
    "duration": 276,
    "start_time": "2023-05-10T17:13:22.112Z"
   },
   {
    "duration": 4,
    "start_time": "2023-05-10T17:13:39.633Z"
   },
   {
    "duration": 814,
    "start_time": "2023-05-10T17:13:39.642Z"
   },
   {
    "duration": 121,
    "start_time": "2023-05-10T17:13:40.458Z"
   },
   {
    "duration": 1210,
    "start_time": "2023-05-10T17:13:40.581Z"
   },
   {
    "duration": 478,
    "start_time": "2023-05-10T17:13:41.794Z"
   },
   {
    "duration": 52,
    "start_time": "2023-05-10T17:13:42.274Z"
   },
   {
    "duration": 507,
    "start_time": "2023-05-10T17:13:42.328Z"
   },
   {
    "duration": 34,
    "start_time": "2023-05-10T17:13:42.837Z"
   },
   {
    "duration": 21,
    "start_time": "2023-05-10T17:13:42.873Z"
   },
   {
    "duration": 73,
    "start_time": "2023-05-10T17:13:42.896Z"
   },
   {
    "duration": 34,
    "start_time": "2023-05-10T17:13:42.972Z"
   },
   {
    "duration": 37,
    "start_time": "2023-05-10T17:13:43.008Z"
   },
   {
    "duration": 22,
    "start_time": "2023-05-10T17:13:43.047Z"
   },
   {
    "duration": 33,
    "start_time": "2023-05-10T17:13:43.071Z"
   },
   {
    "duration": 106,
    "start_time": "2023-05-10T17:13:43.106Z"
   },
   {
    "duration": 69,
    "start_time": "2023-05-10T17:13:43.215Z"
   },
   {
    "duration": 19,
    "start_time": "2023-05-10T17:13:43.286Z"
   },
   {
    "duration": 51,
    "start_time": "2023-05-10T17:13:43.307Z"
   },
   {
    "duration": 51,
    "start_time": "2023-05-10T17:13:43.360Z"
   },
   {
    "duration": 24,
    "start_time": "2023-05-10T17:13:43.413Z"
   },
   {
    "duration": 280,
    "start_time": "2023-05-10T17:13:43.438Z"
   },
   {
    "duration": 285,
    "start_time": "2023-05-10T17:13:43.719Z"
   },
   {
    "duration": 1275,
    "start_time": "2023-05-10T17:13:44.006Z"
   },
   {
    "duration": 0,
    "start_time": "2023-05-10T17:13:45.283Z"
   },
   {
    "duration": 0,
    "start_time": "2023-05-10T17:13:45.284Z"
   },
   {
    "duration": 0,
    "start_time": "2023-05-10T17:13:45.286Z"
   },
   {
    "duration": 0,
    "start_time": "2023-05-10T17:13:45.287Z"
   },
   {
    "duration": 0,
    "start_time": "2023-05-10T17:13:45.288Z"
   },
   {
    "duration": 0,
    "start_time": "2023-05-10T17:13:45.290Z"
   },
   {
    "duration": 0,
    "start_time": "2023-05-10T17:13:45.291Z"
   },
   {
    "duration": 0,
    "start_time": "2023-05-10T17:13:45.293Z"
   },
   {
    "duration": 29,
    "start_time": "2023-05-10T17:14:19.122Z"
   },
   {
    "duration": 16,
    "start_time": "2023-05-10T17:14:27.719Z"
   },
   {
    "duration": 4,
    "start_time": "2023-05-10T17:15:45.209Z"
   },
   {
    "duration": 795,
    "start_time": "2023-05-10T17:15:45.218Z"
   },
   {
    "duration": 120,
    "start_time": "2023-05-10T17:15:46.016Z"
   },
   {
    "duration": 1389,
    "start_time": "2023-05-10T17:15:46.137Z"
   },
   {
    "duration": 424,
    "start_time": "2023-05-10T17:15:47.528Z"
   },
   {
    "duration": 31,
    "start_time": "2023-05-10T17:15:47.954Z"
   },
   {
    "duration": 577,
    "start_time": "2023-05-10T17:15:47.986Z"
   },
   {
    "duration": 37,
    "start_time": "2023-05-10T17:15:48.565Z"
   },
   {
    "duration": 36,
    "start_time": "2023-05-10T17:15:48.604Z"
   },
   {
    "duration": 52,
    "start_time": "2023-05-10T17:15:48.642Z"
   },
   {
    "duration": 35,
    "start_time": "2023-05-10T17:15:48.697Z"
   },
   {
    "duration": 34,
    "start_time": "2023-05-10T17:15:48.734Z"
   },
   {
    "duration": 38,
    "start_time": "2023-05-10T17:15:48.769Z"
   },
   {
    "duration": 17,
    "start_time": "2023-05-10T17:15:48.809Z"
   },
   {
    "duration": 108,
    "start_time": "2023-05-10T17:15:48.827Z"
   },
   {
    "duration": 64,
    "start_time": "2023-05-10T17:15:48.937Z"
   },
   {
    "duration": 19,
    "start_time": "2023-05-10T17:15:49.003Z"
   },
   {
    "duration": 45,
    "start_time": "2023-05-10T17:15:49.024Z"
   },
   {
    "duration": 68,
    "start_time": "2023-05-10T17:15:49.071Z"
   },
   {
    "duration": 26,
    "start_time": "2023-05-10T17:15:49.141Z"
   },
   {
    "duration": 301,
    "start_time": "2023-05-10T17:15:49.169Z"
   },
   {
    "duration": 279,
    "start_time": "2023-05-10T17:15:49.472Z"
   },
   {
    "duration": 41,
    "start_time": "2023-05-10T17:15:49.753Z"
   },
   {
    "duration": 18,
    "start_time": "2023-05-10T17:15:49.796Z"
   },
   {
    "duration": 23,
    "start_time": "2023-05-10T17:15:49.815Z"
   },
   {
    "duration": 127,
    "start_time": "2023-05-10T17:15:49.840Z"
   },
   {
    "duration": 265,
    "start_time": "2023-05-10T17:15:49.968Z"
   },
   {
    "duration": 39,
    "start_time": "2023-05-10T17:15:50.235Z"
   },
   {
    "duration": 43,
    "start_time": "2023-05-10T17:15:50.277Z"
   },
   {
    "duration": 47,
    "start_time": "2023-05-10T17:15:50.322Z"
   },
   {
    "duration": 42,
    "start_time": "2023-05-10T17:15:50.371Z"
   },
   {
    "duration": 26,
    "start_time": "2023-05-10T17:23:17.853Z"
   },
   {
    "duration": 106,
    "start_time": "2023-05-10T17:23:28.851Z"
   },
   {
    "duration": 4,
    "start_time": "2023-05-10T17:23:55.042Z"
   },
   {
    "duration": 4,
    "start_time": "2023-05-10T17:23:58.721Z"
   },
   {
    "duration": 10,
    "start_time": "2023-05-10T17:24:07.602Z"
   },
   {
    "duration": 4,
    "start_time": "2023-05-10T17:24:13.103Z"
   },
   {
    "duration": 5,
    "start_time": "2023-05-10T17:24:23.340Z"
   },
   {
    "duration": 15,
    "start_time": "2023-05-10T17:24:32.700Z"
   },
   {
    "duration": 3,
    "start_time": "2023-05-10T17:24:38.363Z"
   },
   {
    "duration": 4,
    "start_time": "2023-05-10T17:26:11.132Z"
   },
   {
    "duration": 845,
    "start_time": "2023-05-10T17:26:11.141Z"
   },
   {
    "duration": 135,
    "start_time": "2023-05-10T17:26:11.988Z"
   },
   {
    "duration": 1230,
    "start_time": "2023-05-10T17:26:12.125Z"
   },
   {
    "duration": 420,
    "start_time": "2023-05-10T17:26:13.357Z"
   },
   {
    "duration": 41,
    "start_time": "2023-05-10T17:26:13.779Z"
   },
   {
    "duration": 553,
    "start_time": "2023-05-10T17:26:13.822Z"
   },
   {
    "duration": 37,
    "start_time": "2023-05-10T17:26:14.377Z"
   },
   {
    "duration": 8,
    "start_time": "2023-05-10T17:26:14.416Z"
   },
   {
    "duration": 47,
    "start_time": "2023-05-10T17:26:14.425Z"
   },
   {
    "duration": 50,
    "start_time": "2023-05-10T17:26:14.475Z"
   },
   {
    "duration": 34,
    "start_time": "2023-05-10T17:26:14.527Z"
   },
   {
    "duration": 57,
    "start_time": "2023-05-10T17:26:14.563Z"
   },
   {
    "duration": 18,
    "start_time": "2023-05-10T17:26:14.624Z"
   },
   {
    "duration": 94,
    "start_time": "2023-05-10T17:26:14.644Z"
   },
   {
    "duration": 66,
    "start_time": "2023-05-10T17:26:14.740Z"
   },
   {
    "duration": 14,
    "start_time": "2023-05-10T17:26:14.808Z"
   },
   {
    "duration": 40,
    "start_time": "2023-05-10T17:26:14.823Z"
   },
   {
    "duration": 63,
    "start_time": "2023-05-10T17:26:14.865Z"
   },
   {
    "duration": 24,
    "start_time": "2023-05-10T17:26:14.930Z"
   },
   {
    "duration": 297,
    "start_time": "2023-05-10T17:26:14.956Z"
   },
   {
    "duration": 293,
    "start_time": "2023-05-10T17:26:15.255Z"
   },
   {
    "duration": 30,
    "start_time": "2023-05-10T17:26:15.550Z"
   },
   {
    "duration": 36,
    "start_time": "2023-05-10T17:26:15.581Z"
   },
   {
    "duration": 23,
    "start_time": "2023-05-10T17:26:15.619Z"
   },
   {
    "duration": 107,
    "start_time": "2023-05-10T17:26:15.644Z"
   },
   {
    "duration": 268,
    "start_time": "2023-05-10T17:26:15.753Z"
   },
   {
    "duration": 38,
    "start_time": "2023-05-10T17:26:16.023Z"
   },
   {
    "duration": 43,
    "start_time": "2023-05-10T17:26:16.065Z"
   },
   {
    "duration": 48,
    "start_time": "2023-05-10T17:26:16.111Z"
   },
   {
    "duration": 51,
    "start_time": "2023-05-10T17:26:16.160Z"
   },
   {
    "duration": 109,
    "start_time": "2023-05-10T17:26:16.213Z"
   },
   {
    "duration": 4,
    "start_time": "2023-05-10T17:26:16.324Z"
   },
   {
    "duration": 3,
    "start_time": "2023-05-10T17:26:16.330Z"
   },
   {
    "duration": 25,
    "start_time": "2023-05-10T17:26:16.334Z"
   },
   {
    "duration": 3,
    "start_time": "2023-05-10T17:26:16.361Z"
   },
   {
    "duration": 523,
    "start_time": "2023-05-10T17:26:16.366Z"
   },
   {
    "duration": 3,
    "start_time": "2023-05-10T17:26:16.892Z"
   },
   {
    "duration": 9,
    "start_time": "2023-05-10T17:26:16.897Z"
   },
   {
    "duration": 138,
    "start_time": "2023-05-10T17:26:16.908Z"
   },
   {
    "duration": 545,
    "start_time": "2023-05-10T17:26:17.048Z"
   },
   {
    "duration": 15,
    "start_time": "2023-05-10T17:26:17.595Z"
   },
   {
    "duration": 17,
    "start_time": "2023-05-10T17:26:28.176Z"
   },
   {
    "duration": 27,
    "start_time": "2023-05-10T17:26:30.783Z"
   },
   {
    "duration": 116,
    "start_time": "2023-05-10T17:27:00.794Z"
   },
   {
    "duration": 13816,
    "start_time": "2023-05-10T17:27:22.020Z"
   },
   {
    "duration": 93,
    "start_time": "2023-05-10T17:27:51.253Z"
   },
   {
    "duration": 3,
    "start_time": "2023-05-10T17:27:51.349Z"
   },
   {
    "duration": 26,
    "start_time": "2023-05-10T17:27:51.354Z"
   },
   {
    "duration": 91,
    "start_time": "2023-05-10T17:27:51.383Z"
   },
   {
    "duration": 82,
    "start_time": "2023-05-10T17:27:51.475Z"
   },
   {
    "duration": 9,
    "start_time": "2023-05-10T17:27:51.559Z"
   },
   {
    "duration": 0,
    "start_time": "2023-05-10T17:27:51.569Z"
   },
   {
    "duration": 0,
    "start_time": "2023-05-10T17:27:51.570Z"
   },
   {
    "duration": 0,
    "start_time": "2023-05-10T17:27:51.571Z"
   },
   {
    "duration": 0,
    "start_time": "2023-05-10T17:27:51.572Z"
   },
   {
    "duration": 0,
    "start_time": "2023-05-10T17:27:51.573Z"
   },
   {
    "duration": 0,
    "start_time": "2023-05-10T17:27:51.574Z"
   },
   {
    "duration": 0,
    "start_time": "2023-05-10T17:27:51.575Z"
   },
   {
    "duration": 1,
    "start_time": "2023-05-10T17:27:51.576Z"
   },
   {
    "duration": 0,
    "start_time": "2023-05-10T17:27:51.578Z"
   },
   {
    "duration": 0,
    "start_time": "2023-05-10T17:27:51.580Z"
   },
   {
    "duration": 0,
    "start_time": "2023-05-10T17:27:51.580Z"
   },
   {
    "duration": 0,
    "start_time": "2023-05-10T17:27:51.582Z"
   },
   {
    "duration": 0,
    "start_time": "2023-05-10T17:27:51.583Z"
   },
   {
    "duration": 2216551,
    "start_time": "2023-05-10T17:28:09.512Z"
   },
   {
    "duration": 119756,
    "start_time": "2023-05-10T18:05:06.065Z"
   },
   {
    "duration": 2261,
    "start_time": "2023-05-10T18:07:05.822Z"
   },
   {
    "duration": 11,
    "start_time": "2023-05-10T18:07:08.085Z"
   },
   {
    "duration": 622,
    "start_time": "2023-05-10T18:07:08.098Z"
   },
   {
    "duration": 13,
    "start_time": "2023-05-10T18:07:08.722Z"
   },
   {
    "duration": 6,
    "start_time": "2023-05-10T18:07:08.737Z"
   },
   {
    "duration": 17370,
    "start_time": "2023-05-10T18:07:08.744Z"
   },
   {
    "duration": 128,
    "start_time": "2023-05-10T18:07:26.116Z"
   },
   {
    "duration": 6,
    "start_time": "2023-05-10T18:07:26.246Z"
   },
   {
    "duration": 13,
    "start_time": "2023-05-10T18:07:37.312Z"
   },
   {
    "duration": 854,
    "start_time": "2023-05-10T18:07:39.593Z"
   },
   {
    "duration": 13,
    "start_time": "2023-05-10T18:07:42.879Z"
   },
   {
    "duration": 5,
    "start_time": "2023-05-10T18:07:44.879Z"
   },
   {
    "duration": 16422,
    "start_time": "2023-05-10T18:07:53.838Z"
   },
   {
    "duration": 124,
    "start_time": "2023-05-10T18:08:15.496Z"
   },
   {
    "duration": 5,
    "start_time": "2023-05-10T18:08:17.522Z"
   },
   {
    "duration": 176753,
    "start_time": "2023-05-10T18:08:53.534Z"
   },
   {
    "duration": 18085,
    "start_time": "2023-05-10T18:11:56.299Z"
   },
   {
    "duration": 135,
    "start_time": "2023-05-10T18:12:14.386Z"
   },
   {
    "duration": 7,
    "start_time": "2023-05-10T18:12:14.523Z"
   },
   {
    "duration": 8,
    "start_time": "2023-05-10T18:12:20.097Z"
   },
   {
    "duration": 6,
    "start_time": "2023-05-10T18:12:25.089Z"
   },
   {
    "duration": 12391,
    "start_time": "2023-05-10T18:12:57.108Z"
   },
   {
    "duration": 143,
    "start_time": "2023-05-10T18:13:09.501Z"
   },
   {
    "duration": 5,
    "start_time": "2023-05-10T18:13:09.646Z"
   },
   {
    "duration": 4,
    "start_time": "2023-05-10T20:25:58.929Z"
   },
   {
    "duration": 785,
    "start_time": "2023-05-10T20:25:58.940Z"
   },
   {
    "duration": 121,
    "start_time": "2023-05-10T20:25:59.728Z"
   },
   {
    "duration": 1199,
    "start_time": "2023-05-10T20:25:59.851Z"
   },
   {
    "duration": 460,
    "start_time": "2023-05-10T20:26:01.052Z"
   },
   {
    "duration": 47,
    "start_time": "2023-05-10T20:26:01.514Z"
   },
   {
    "duration": 600,
    "start_time": "2023-05-10T20:26:01.562Z"
   },
   {
    "duration": 37,
    "start_time": "2023-05-10T20:26:02.164Z"
   },
   {
    "duration": 28,
    "start_time": "2023-05-10T20:26:02.203Z"
   },
   {
    "duration": 66,
    "start_time": "2023-05-10T20:26:02.233Z"
   },
   {
    "duration": 36,
    "start_time": "2023-05-10T20:26:02.302Z"
   },
   {
    "duration": 38,
    "start_time": "2023-05-10T20:26:02.340Z"
   },
   {
    "duration": 30,
    "start_time": "2023-05-10T20:26:02.380Z"
   },
   {
    "duration": 17,
    "start_time": "2023-05-10T20:26:02.412Z"
   },
   {
    "duration": 117,
    "start_time": "2023-05-10T20:26:02.431Z"
   },
   {
    "duration": 69,
    "start_time": "2023-05-10T20:26:02.549Z"
   },
   {
    "duration": 17,
    "start_time": "2023-05-10T20:26:02.619Z"
   },
   {
    "duration": 70,
    "start_time": "2023-05-10T20:26:02.637Z"
   },
   {
    "duration": 54,
    "start_time": "2023-05-10T20:26:02.709Z"
   },
   {
    "duration": 55,
    "start_time": "2023-05-10T20:26:02.765Z"
   },
   {
    "duration": 276,
    "start_time": "2023-05-10T20:26:02.822Z"
   },
   {
    "duration": 295,
    "start_time": "2023-05-10T20:26:03.099Z"
   },
   {
    "duration": 33,
    "start_time": "2023-05-10T20:26:03.396Z"
   },
   {
    "duration": 17,
    "start_time": "2023-05-10T20:26:03.431Z"
   },
   {
    "duration": 23,
    "start_time": "2023-05-10T20:26:03.449Z"
   },
   {
    "duration": 132,
    "start_time": "2023-05-10T20:26:03.474Z"
   },
   {
    "duration": 260,
    "start_time": "2023-05-10T20:26:03.608Z"
   },
   {
    "duration": 48,
    "start_time": "2023-05-10T20:26:03.870Z"
   },
   {
    "duration": 30,
    "start_time": "2023-05-10T20:26:03.921Z"
   },
   {
    "duration": 64,
    "start_time": "2023-05-10T20:26:03.952Z"
   },
   {
    "duration": 31,
    "start_time": "2023-05-10T20:26:04.018Z"
   },
   {
    "duration": 120,
    "start_time": "2023-05-10T20:26:04.051Z"
   },
   {
    "duration": 5,
    "start_time": "2023-05-10T20:26:07.812Z"
   },
   {
    "duration": 3,
    "start_time": "2023-05-10T20:26:13.434Z"
   },
   {
    "duration": 3274,
    "start_time": "2023-05-10T20:26:13.439Z"
   },
   {
    "duration": 3,
    "start_time": "2023-05-10T20:26:16.715Z"
   },
   {
    "duration": 1476,
    "start_time": "2023-05-10T20:26:16.720Z"
   },
   {
    "duration": 0,
    "start_time": "2023-05-10T20:26:18.198Z"
   },
   {
    "duration": 1142,
    "start_time": "2023-05-10T20:26:26.953Z"
   },
   {
    "duration": 1217,
    "start_time": "2023-05-10T20:26:46.265Z"
   },
   {
    "duration": 1243,
    "start_time": "2023-05-10T20:27:04.928Z"
   },
   {
    "duration": 1144,
    "start_time": "2023-05-10T20:27:45.840Z"
   },
   {
    "duration": 6,
    "start_time": "2023-05-10T20:28:07.390Z"
   },
   {
    "duration": 1209,
    "start_time": "2023-05-10T20:28:31.928Z"
   },
   {
    "duration": 5,
    "start_time": "2023-05-10T20:29:07.609Z"
   },
   {
    "duration": 1270,
    "start_time": "2023-05-10T20:29:55.640Z"
   },
   {
    "duration": 4,
    "start_time": "2023-05-10T20:36:52.179Z"
   },
   {
    "duration": 802,
    "start_time": "2023-05-10T20:36:52.189Z"
   },
   {
    "duration": 117,
    "start_time": "2023-05-10T20:36:52.993Z"
   },
   {
    "duration": 1173,
    "start_time": "2023-05-10T20:36:53.112Z"
   },
   {
    "duration": 429,
    "start_time": "2023-05-10T20:36:54.287Z"
   },
   {
    "duration": 34,
    "start_time": "2023-05-10T20:36:54.717Z"
   },
   {
    "duration": 598,
    "start_time": "2023-05-10T20:36:54.753Z"
   },
   {
    "duration": 41,
    "start_time": "2023-05-10T20:36:55.353Z"
   },
   {
    "duration": 9,
    "start_time": "2023-05-10T20:36:55.396Z"
   },
   {
    "duration": 60,
    "start_time": "2023-05-10T20:36:55.408Z"
   },
   {
    "duration": 49,
    "start_time": "2023-05-10T20:36:55.472Z"
   },
   {
    "duration": 37,
    "start_time": "2023-05-10T20:36:55.523Z"
   },
   {
    "duration": 54,
    "start_time": "2023-05-10T20:36:55.562Z"
   },
   {
    "duration": 19,
    "start_time": "2023-05-10T20:36:55.618Z"
   },
   {
    "duration": 157,
    "start_time": "2023-05-10T20:36:55.640Z"
   },
   {
    "duration": 105,
    "start_time": "2023-05-10T20:36:55.799Z"
   },
   {
    "duration": 15,
    "start_time": "2023-05-10T20:36:55.906Z"
   },
   {
    "duration": 53,
    "start_time": "2023-05-10T20:36:55.923Z"
   },
   {
    "duration": 85,
    "start_time": "2023-05-10T20:36:55.978Z"
   },
   {
    "duration": 35,
    "start_time": "2023-05-10T20:36:56.065Z"
   },
   {
    "duration": 280,
    "start_time": "2023-05-10T20:36:56.102Z"
   },
   {
    "duration": 292,
    "start_time": "2023-05-10T20:36:56.384Z"
   },
   {
    "duration": 35,
    "start_time": "2023-05-10T20:36:56.677Z"
   },
   {
    "duration": 17,
    "start_time": "2023-05-10T20:36:56.714Z"
   },
   {
    "duration": 30,
    "start_time": "2023-05-10T20:36:56.733Z"
   },
   {
    "duration": 131,
    "start_time": "2023-05-10T20:36:56.764Z"
   },
   {
    "duration": 256,
    "start_time": "2023-05-10T20:36:56.897Z"
   },
   {
    "duration": 53,
    "start_time": "2023-05-10T20:36:57.154Z"
   },
   {
    "duration": 33,
    "start_time": "2023-05-10T20:36:57.211Z"
   },
   {
    "duration": 67,
    "start_time": "2023-05-10T20:36:57.246Z"
   },
   {
    "duration": 32,
    "start_time": "2023-05-10T20:36:57.315Z"
   },
   {
    "duration": 116,
    "start_time": "2023-05-10T20:36:57.349Z"
   },
   {
    "duration": 6,
    "start_time": "2023-05-10T20:36:57.467Z"
   },
   {
    "duration": 3,
    "start_time": "2023-05-10T20:37:08.480Z"
   },
   {
    "duration": 50,
    "start_time": "2023-05-10T20:37:08.485Z"
   },
   {
    "duration": 0,
    "start_time": "2023-05-10T20:37:08.536Z"
   },
   {
    "duration": 20,
    "start_time": "2023-05-10T20:39:04.306Z"
   },
   {
    "duration": 13,
    "start_time": "2023-05-10T20:39:17.081Z"
   },
   {
    "duration": 13,
    "start_time": "2023-05-10T20:40:15.745Z"
   },
   {
    "duration": 151,
    "start_time": "2023-05-10T20:40:36.714Z"
   },
   {
    "duration": 52,
    "start_time": "2023-05-10T20:40:38.713Z"
   },
   {
    "duration": 16,
    "start_time": "2023-05-10T20:45:04.237Z"
   },
   {
    "duration": 43,
    "start_time": "2023-05-10T20:45:23.544Z"
   },
   {
    "duration": 8459,
    "start_time": "2023-05-10T20:47:09.176Z"
   },
   {
    "duration": 8199,
    "start_time": "2023-05-10T20:48:41.242Z"
   },
   {
    "duration": 8126,
    "start_time": "2023-05-10T20:48:53.397Z"
   },
   {
    "duration": 19,
    "start_time": "2023-05-10T20:50:13.150Z"
   },
   {
    "duration": 4,
    "start_time": "2023-05-10T20:51:03.354Z"
   },
   {
    "duration": 871,
    "start_time": "2023-05-10T20:51:03.365Z"
   },
   {
    "duration": 120,
    "start_time": "2023-05-10T20:51:04.238Z"
   },
   {
    "duration": 1179,
    "start_time": "2023-05-10T20:51:04.360Z"
   },
   {
    "duration": 443,
    "start_time": "2023-05-10T20:51:05.541Z"
   },
   {
    "duration": 44,
    "start_time": "2023-05-10T20:51:05.986Z"
   },
   {
    "duration": 523,
    "start_time": "2023-05-10T20:51:06.032Z"
   },
   {
    "duration": 37,
    "start_time": "2023-05-10T20:51:06.557Z"
   },
   {
    "duration": 7,
    "start_time": "2023-05-10T20:51:06.595Z"
   },
   {
    "duration": 55,
    "start_time": "2023-05-10T20:51:06.604Z"
   },
   {
    "duration": 51,
    "start_time": "2023-05-10T20:51:06.663Z"
   },
   {
    "duration": 35,
    "start_time": "2023-05-10T20:51:06.716Z"
   },
   {
    "duration": 45,
    "start_time": "2023-05-10T20:51:06.753Z"
   },
   {
    "duration": 23,
    "start_time": "2023-05-10T20:51:06.800Z"
   },
   {
    "duration": 108,
    "start_time": "2023-05-10T20:51:06.825Z"
   },
   {
    "duration": 68,
    "start_time": "2023-05-10T20:51:06.935Z"
   },
   {
    "duration": 14,
    "start_time": "2023-05-10T20:51:07.005Z"
   },
   {
    "duration": 53,
    "start_time": "2023-05-10T20:51:07.021Z"
   },
   {
    "duration": 54,
    "start_time": "2023-05-10T20:51:07.076Z"
   },
   {
    "duration": 24,
    "start_time": "2023-05-10T20:51:07.132Z"
   },
   {
    "duration": 300,
    "start_time": "2023-05-10T20:51:07.158Z"
   },
   {
    "duration": 283,
    "start_time": "2023-05-10T20:51:07.459Z"
   },
   {
    "duration": 32,
    "start_time": "2023-05-10T20:51:07.744Z"
   },
   {
    "duration": 38,
    "start_time": "2023-05-10T20:51:07.778Z"
   },
   {
    "duration": 63,
    "start_time": "2023-05-10T20:51:07.819Z"
   },
   {
    "duration": 149,
    "start_time": "2023-05-10T20:51:07.884Z"
   },
   {
    "duration": 281,
    "start_time": "2023-05-10T20:51:08.035Z"
   },
   {
    "duration": 38,
    "start_time": "2023-05-10T20:51:08.317Z"
   },
   {
    "duration": 56,
    "start_time": "2023-05-10T20:51:08.358Z"
   },
   {
    "duration": 53,
    "start_time": "2023-05-10T20:51:08.416Z"
   },
   {
    "duration": 44,
    "start_time": "2023-05-10T20:51:08.471Z"
   },
   {
    "duration": 121,
    "start_time": "2023-05-10T20:51:08.517Z"
   },
   {
    "duration": 6,
    "start_time": "2023-05-10T20:51:08.640Z"
   },
   {
    "duration": 3,
    "start_time": "2023-05-10T20:51:12.365Z"
   },
   {
    "duration": 19,
    "start_time": "2023-05-10T20:51:14.109Z"
   },
   {
    "duration": 1498,
    "start_time": "2023-05-10T20:53:08.028Z"
   },
   {
    "duration": 912,
    "start_time": "2023-05-10T20:53:09.528Z"
   },
   {
    "duration": 129,
    "start_time": "2023-05-10T20:53:10.442Z"
   },
   {
    "duration": 1276,
    "start_time": "2023-05-10T20:53:10.574Z"
   },
   {
    "duration": 508,
    "start_time": "2023-05-10T20:53:11.851Z"
   },
   {
    "duration": 65,
    "start_time": "2023-05-10T20:53:12.361Z"
   },
   {
    "duration": 617,
    "start_time": "2023-05-10T20:53:12.428Z"
   },
   {
    "duration": 29,
    "start_time": "2023-05-10T20:53:13.046Z"
   },
   {
    "duration": 19,
    "start_time": "2023-05-10T20:53:13.077Z"
   },
   {
    "duration": 61,
    "start_time": "2023-05-10T20:53:13.099Z"
   },
   {
    "duration": 51,
    "start_time": "2023-05-10T20:53:13.162Z"
   },
   {
    "duration": 35,
    "start_time": "2023-05-10T20:53:13.215Z"
   },
   {
    "duration": 20,
    "start_time": "2023-05-10T20:53:13.252Z"
   },
   {
    "duration": 19,
    "start_time": "2023-05-10T20:53:13.293Z"
   },
   {
    "duration": 103,
    "start_time": "2023-05-10T20:53:13.314Z"
   },
   {
    "duration": 60,
    "start_time": "2023-05-10T20:53:13.419Z"
   },
   {
    "duration": 23,
    "start_time": "2023-05-10T20:53:13.480Z"
   },
   {
    "duration": 44,
    "start_time": "2023-05-10T20:53:13.505Z"
   },
   {
    "duration": 81,
    "start_time": "2023-05-10T20:53:13.551Z"
   },
   {
    "duration": 25,
    "start_time": "2023-05-10T20:53:13.634Z"
   },
   {
    "duration": 281,
    "start_time": "2023-05-10T20:53:13.661Z"
   },
   {
    "duration": 287,
    "start_time": "2023-05-10T20:53:13.944Z"
   },
   {
    "duration": 32,
    "start_time": "2023-05-10T20:53:14.233Z"
   },
   {
    "duration": 30,
    "start_time": "2023-05-10T20:53:14.267Z"
   },
   {
    "duration": 30,
    "start_time": "2023-05-10T20:53:14.299Z"
   },
   {
    "duration": 124,
    "start_time": "2023-05-10T20:53:14.330Z"
   },
   {
    "duration": 260,
    "start_time": "2023-05-10T20:53:14.456Z"
   },
   {
    "duration": 39,
    "start_time": "2023-05-10T20:53:14.720Z"
   },
   {
    "duration": 56,
    "start_time": "2023-05-10T20:53:14.761Z"
   },
   {
    "duration": 51,
    "start_time": "2023-05-10T20:53:14.819Z"
   },
   {
    "duration": 50,
    "start_time": "2023-05-10T20:53:14.872Z"
   },
   {
    "duration": 106,
    "start_time": "2023-05-10T20:53:14.923Z"
   },
   {
    "duration": 5,
    "start_time": "2023-05-10T20:53:15.031Z"
   },
   {
    "duration": 4,
    "start_time": "2023-05-10T20:53:18.173Z"
   },
   {
    "duration": 135,
    "start_time": "2023-05-10T20:53:20.305Z"
   },
   {
    "duration": 19,
    "start_time": "2023-05-10T20:54:23.398Z"
   },
   {
    "duration": 3,
    "start_time": "2023-05-10T20:54:23.420Z"
   },
   {
    "duration": 343,
    "start_time": "2023-05-10T20:54:23.425Z"
   },
   {
    "duration": 4,
    "start_time": "2023-05-10T20:54:23.770Z"
   },
   {
    "duration": 26,
    "start_time": "2023-05-10T20:54:23.776Z"
   },
   {
    "duration": 10,
    "start_time": "2023-05-10T20:54:31.341Z"
   },
   {
    "duration": 243,
    "start_time": "2023-05-10T20:54:53.815Z"
   },
   {
    "duration": 27,
    "start_time": "2023-05-10T20:54:57.245Z"
   },
   {
    "duration": 8086,
    "start_time": "2023-05-10T20:55:22.224Z"
   },
   {
    "duration": 13510,
    "start_time": "2023-05-10T20:59:10.829Z"
   },
   {
    "duration": 24,
    "start_time": "2023-05-10T20:59:34.236Z"
   },
   {
    "duration": 30,
    "start_time": "2023-05-10T21:00:21.307Z"
   },
   {
    "duration": 3,
    "start_time": "2023-05-10T21:00:21.339Z"
   },
   {
    "duration": 435,
    "start_time": "2023-05-10T21:00:21.344Z"
   },
   {
    "duration": 5,
    "start_time": "2023-05-10T21:00:21.790Z"
   },
   {
    "duration": 8040,
    "start_time": "2023-05-10T21:00:30.928Z"
   },
   {
    "duration": 13493,
    "start_time": "2023-05-10T21:00:50.591Z"
   },
   {
    "duration": 18,
    "start_time": "2023-05-10T21:01:07.158Z"
   },
   {
    "duration": 72,
    "start_time": "2023-05-10T21:02:19.596Z"
   },
   {
    "duration": 19,
    "start_time": "2023-05-10T21:02:29.263Z"
   },
   {
    "duration": 16,
    "start_time": "2023-05-10T21:02:56.496Z"
   },
   {
    "duration": 28,
    "start_time": "2023-05-10T21:03:14.698Z"
   },
   {
    "duration": 8,
    "start_time": "2023-05-10T21:03:14.728Z"
   },
   {
    "duration": 384,
    "start_time": "2023-05-10T21:03:14.738Z"
   },
   {
    "duration": 3,
    "start_time": "2023-05-10T21:03:15.124Z"
   },
   {
    "duration": 301,
    "start_time": "2023-05-10T21:03:18.539Z"
   },
   {
    "duration": 569,
    "start_time": "2023-05-10T21:03:54.542Z"
   },
   {
    "duration": 86,
    "start_time": "2023-05-10T21:04:00.050Z"
   },
   {
    "duration": 20,
    "start_time": "2023-05-10T21:10:41.297Z"
   },
   {
    "duration": 22,
    "start_time": "2023-05-10T21:10:54.596Z"
   },
   {
    "duration": 4,
    "start_time": "2023-05-10T21:10:54.620Z"
   },
   {
    "duration": 314,
    "start_time": "2023-05-10T21:10:54.625Z"
   },
   {
    "duration": 3,
    "start_time": "2023-05-10T21:10:54.941Z"
   },
   {
    "duration": 562,
    "start_time": "2023-05-10T21:11:00.693Z"
   },
   {
    "duration": 88,
    "start_time": "2023-05-10T21:11:04.876Z"
   },
   {
    "duration": 1486,
    "start_time": "2023-05-10T21:11:42.766Z"
   },
   {
    "duration": 848,
    "start_time": "2023-05-10T21:11:44.254Z"
   },
   {
    "duration": 130,
    "start_time": "2023-05-10T21:11:45.103Z"
   },
   {
    "duration": 1256,
    "start_time": "2023-05-10T21:11:45.235Z"
   },
   {
    "duration": 488,
    "start_time": "2023-05-10T21:11:46.493Z"
   },
   {
    "duration": 54,
    "start_time": "2023-05-10T21:11:46.983Z"
   },
   {
    "duration": 651,
    "start_time": "2023-05-10T21:11:47.039Z"
   },
   {
    "duration": 31,
    "start_time": "2023-05-10T21:11:47.693Z"
   },
   {
    "duration": 9,
    "start_time": "2023-05-10T21:11:47.725Z"
   },
   {
    "duration": 75,
    "start_time": "2023-05-10T21:11:47.736Z"
   },
   {
    "duration": 44,
    "start_time": "2023-05-10T21:11:47.814Z"
   },
   {
    "duration": 53,
    "start_time": "2023-05-10T21:11:47.860Z"
   },
   {
    "duration": 22,
    "start_time": "2023-05-10T21:11:47.915Z"
   },
   {
    "duration": 19,
    "start_time": "2023-05-10T21:11:47.939Z"
   },
   {
    "duration": 136,
    "start_time": "2023-05-10T21:11:47.960Z"
   },
   {
    "duration": 59,
    "start_time": "2023-05-10T21:11:48.098Z"
   },
   {
    "duration": 34,
    "start_time": "2023-05-10T21:11:48.159Z"
   },
   {
    "duration": 43,
    "start_time": "2023-05-10T21:11:48.195Z"
   },
   {
    "duration": 72,
    "start_time": "2023-05-10T21:11:48.239Z"
   },
   {
    "duration": 26,
    "start_time": "2023-05-10T21:11:48.313Z"
   },
   {
    "duration": 286,
    "start_time": "2023-05-10T21:11:48.341Z"
   },
   {
    "duration": 302,
    "start_time": "2023-05-10T21:11:48.629Z"
   },
   {
    "duration": 40,
    "start_time": "2023-05-10T21:11:48.933Z"
   },
   {
    "duration": 35,
    "start_time": "2023-05-10T21:11:48.975Z"
   },
   {
    "duration": 32,
    "start_time": "2023-05-10T21:11:49.012Z"
   },
   {
    "duration": 123,
    "start_time": "2023-05-10T21:11:49.046Z"
   },
   {
    "duration": 289,
    "start_time": "2023-05-10T21:11:49.171Z"
   },
   {
    "duration": 48,
    "start_time": "2023-05-10T21:11:49.463Z"
   },
   {
    "duration": 30,
    "start_time": "2023-05-10T21:11:49.513Z"
   },
   {
    "duration": 68,
    "start_time": "2023-05-10T21:11:49.544Z"
   },
   {
    "duration": 31,
    "start_time": "2023-05-10T21:11:49.614Z"
   },
   {
    "duration": 118,
    "start_time": "2023-05-10T21:11:49.646Z"
   },
   {
    "duration": 4,
    "start_time": "2023-05-10T21:11:49.766Z"
   },
   {
    "duration": 36,
    "start_time": "2023-05-10T21:11:49.772Z"
   },
   {
    "duration": 3,
    "start_time": "2023-05-10T21:11:49.810Z"
   },
   {
    "duration": 328,
    "start_time": "2023-05-10T21:11:49.815Z"
   },
   {
    "duration": 3,
    "start_time": "2023-05-10T21:11:50.145Z"
   },
   {
    "duration": 29,
    "start_time": "2023-05-10T21:11:50.149Z"
   },
   {
    "duration": 259,
    "start_time": "2023-05-10T21:11:50.179Z"
   },
   {
    "duration": 21,
    "start_time": "2023-05-10T21:11:50.440Z"
   },
   {
    "duration": 546,
    "start_time": "2023-05-10T21:11:50.463Z"
   },
   {
    "duration": 105,
    "start_time": "2023-05-10T21:11:51.011Z"
   },
   {
    "duration": 18781,
    "start_time": "2023-05-10T21:12:27.544Z"
   },
   {
    "duration": 24,
    "start_time": "2023-05-10T21:12:57.960Z"
   },
   {
    "duration": 1243,
    "start_time": "2023-05-10T21:12:59.739Z"
   },
   {
    "duration": 27,
    "start_time": "2023-05-10T21:13:03.100Z"
   },
   {
    "duration": 5,
    "start_time": "2023-05-10T21:13:11.132Z"
   },
   {
    "duration": 138,
    "start_time": "2023-05-10T21:14:12.800Z"
   },
   {
    "duration": 17767,
    "start_time": "2023-05-10T21:14:18.270Z"
   },
   {
    "duration": 27,
    "start_time": "2023-05-10T21:14:48.761Z"
   },
   {
    "duration": 1077,
    "start_time": "2023-05-10T21:14:48.791Z"
   },
   {
    "duration": 28,
    "start_time": "2023-05-10T21:14:49.870Z"
   },
   {
    "duration": 6,
    "start_time": "2023-05-10T21:14:49.900Z"
   },
   {
    "duration": 27,
    "start_time": "2023-05-10T21:14:59.680Z"
   },
   {
    "duration": 1094,
    "start_time": "2023-05-10T21:15:02.077Z"
   },
   {
    "duration": 15,
    "start_time": "2023-05-10T21:15:05.529Z"
   },
   {
    "duration": 5,
    "start_time": "2023-05-10T21:15:08.700Z"
   },
   {
    "duration": 56,
    "start_time": "2023-05-10T21:15:49.528Z"
   },
   {
    "duration": 17448,
    "start_time": "2023-05-10T21:16:00.063Z"
   },
   {
    "duration": 24,
    "start_time": "2023-05-10T21:16:17.513Z"
   },
   {
    "duration": 1076,
    "start_time": "2023-05-10T21:16:17.539Z"
   },
   {
    "duration": 25,
    "start_time": "2023-05-10T21:16:18.617Z"
   },
   {
    "duration": 6,
    "start_time": "2023-05-10T21:16:18.644Z"
   },
   {
    "duration": 1508,
    "start_time": "2023-05-10T21:17:39.207Z"
   },
   {
    "duration": 848,
    "start_time": "2023-05-10T21:17:40.717Z"
   },
   {
    "duration": 134,
    "start_time": "2023-05-10T21:17:41.566Z"
   },
   {
    "duration": 1278,
    "start_time": "2023-05-10T21:17:41.702Z"
   },
   {
    "duration": 478,
    "start_time": "2023-05-10T21:17:42.982Z"
   },
   {
    "duration": 63,
    "start_time": "2023-05-10T21:17:43.461Z"
   },
   {
    "duration": 608,
    "start_time": "2023-05-10T21:17:43.525Z"
   },
   {
    "duration": 29,
    "start_time": "2023-05-10T21:17:44.135Z"
   },
   {
    "duration": 8,
    "start_time": "2023-05-10T21:17:44.166Z"
   },
   {
    "duration": 68,
    "start_time": "2023-05-10T21:17:44.177Z"
   },
   {
    "duration": 33,
    "start_time": "2023-05-10T21:17:44.247Z"
   },
   {
    "duration": 44,
    "start_time": "2023-05-10T21:17:44.281Z"
   },
   {
    "duration": 21,
    "start_time": "2023-05-10T21:17:44.327Z"
   },
   {
    "duration": 43,
    "start_time": "2023-05-10T21:17:44.350Z"
   },
   {
    "duration": 98,
    "start_time": "2023-05-10T21:17:44.395Z"
   },
   {
    "duration": 60,
    "start_time": "2023-05-10T21:17:44.495Z"
   },
   {
    "duration": 14,
    "start_time": "2023-05-10T21:17:44.557Z"
   },
   {
    "duration": 65,
    "start_time": "2023-05-10T21:17:44.573Z"
   },
   {
    "duration": 53,
    "start_time": "2023-05-10T21:17:44.640Z"
   },
   {
    "duration": 25,
    "start_time": "2023-05-10T21:17:44.694Z"
   },
   {
    "duration": 274,
    "start_time": "2023-05-10T21:17:44.721Z"
   },
   {
    "duration": 284,
    "start_time": "2023-05-10T21:17:44.997Z"
   },
   {
    "duration": 36,
    "start_time": "2023-05-10T21:17:45.282Z"
   },
   {
    "duration": 17,
    "start_time": "2023-05-10T21:17:45.319Z"
   },
   {
    "duration": 23,
    "start_time": "2023-05-10T21:17:45.337Z"
   },
   {
    "duration": 121,
    "start_time": "2023-05-10T21:17:45.361Z"
   },
   {
    "duration": 255,
    "start_time": "2023-05-10T21:17:45.484Z"
   },
   {
    "duration": 45,
    "start_time": "2023-05-10T21:17:45.749Z"
   },
   {
    "duration": 30,
    "start_time": "2023-05-10T21:17:45.795Z"
   },
   {
    "duration": 71,
    "start_time": "2023-05-10T21:17:45.827Z"
   },
   {
    "duration": 31,
    "start_time": "2023-05-10T21:17:45.900Z"
   },
   {
    "duration": 114,
    "start_time": "2023-05-10T21:17:45.933Z"
   },
   {
    "duration": 4,
    "start_time": "2023-05-10T21:17:46.048Z"
   },
   {
    "duration": 19,
    "start_time": "2023-05-10T21:17:46.054Z"
   },
   {
    "duration": 17,
    "start_time": "2023-05-10T21:17:46.076Z"
   },
   {
    "duration": 308,
    "start_time": "2023-05-10T21:17:46.096Z"
   },
   {
    "duration": 4,
    "start_time": "2023-05-10T21:17:46.406Z"
   },
   {
    "duration": 29,
    "start_time": "2023-05-10T21:17:46.411Z"
   },
   {
    "duration": 249,
    "start_time": "2023-05-10T21:17:46.442Z"
   },
   {
    "duration": 20,
    "start_time": "2023-05-10T21:17:46.693Z"
   },
   {
    "duration": 546,
    "start_time": "2023-05-10T21:17:46.714Z"
   },
   {
    "duration": 104,
    "start_time": "2023-05-10T21:17:47.262Z"
   },
   {
    "duration": 18058,
    "start_time": "2023-05-10T21:17:47.542Z"
   },
   {
    "duration": 26,
    "start_time": "2023-05-10T21:18:05.602Z"
   },
   {
    "duration": 1178,
    "start_time": "2023-05-10T21:18:05.630Z"
   },
   {
    "duration": 26,
    "start_time": "2023-05-10T21:18:06.811Z"
   },
   {
    "duration": 5,
    "start_time": "2023-05-10T21:18:06.840Z"
   },
   {
    "duration": 1520,
    "start_time": "2023-05-10T21:24:31.797Z"
   },
   {
    "duration": 856,
    "start_time": "2023-05-10T21:24:33.319Z"
   },
   {
    "duration": 125,
    "start_time": "2023-05-10T21:24:34.177Z"
   },
   {
    "duration": 1287,
    "start_time": "2023-05-10T21:24:34.304Z"
   },
   {
    "duration": 507,
    "start_time": "2023-05-10T21:24:35.593Z"
   },
   {
    "duration": 55,
    "start_time": "2023-05-10T21:24:36.102Z"
   },
   {
    "duration": 629,
    "start_time": "2023-05-10T21:24:36.158Z"
   },
   {
    "duration": 31,
    "start_time": "2023-05-10T21:24:36.789Z"
   },
   {
    "duration": 10,
    "start_time": "2023-05-10T21:24:36.821Z"
   },
   {
    "duration": 76,
    "start_time": "2023-05-10T21:24:36.834Z"
   },
   {
    "duration": 34,
    "start_time": "2023-05-10T21:24:36.913Z"
   },
   {
    "duration": 52,
    "start_time": "2023-05-10T21:24:36.949Z"
   },
   {
    "duration": 24,
    "start_time": "2023-05-10T21:24:37.003Z"
   },
   {
    "duration": 19,
    "start_time": "2023-05-10T21:24:37.029Z"
   },
   {
    "duration": 109,
    "start_time": "2023-05-10T21:24:37.050Z"
   },
   {
    "duration": 71,
    "start_time": "2023-05-10T21:24:37.162Z"
   },
   {
    "duration": 15,
    "start_time": "2023-05-10T21:24:37.235Z"
   },
   {
    "duration": 51,
    "start_time": "2023-05-10T21:24:37.251Z"
   },
   {
    "duration": 53,
    "start_time": "2023-05-10T21:24:37.305Z"
   },
   {
    "duration": 40,
    "start_time": "2023-05-10T21:24:37.360Z"
   },
   {
    "duration": 304,
    "start_time": "2023-05-10T21:24:37.402Z"
   },
   {
    "duration": 303,
    "start_time": "2023-05-10T21:24:37.708Z"
   },
   {
    "duration": 34,
    "start_time": "2023-05-10T21:24:38.013Z"
   },
   {
    "duration": 16,
    "start_time": "2023-05-10T21:24:38.049Z"
   },
   {
    "duration": 39,
    "start_time": "2023-05-10T21:24:38.067Z"
   },
   {
    "duration": 120,
    "start_time": "2023-05-10T21:24:38.107Z"
   },
   {
    "duration": 265,
    "start_time": "2023-05-10T21:24:38.229Z"
   },
   {
    "duration": 39,
    "start_time": "2023-05-10T21:24:38.498Z"
   },
   {
    "duration": 30,
    "start_time": "2023-05-10T21:24:38.538Z"
   },
   {
    "duration": 68,
    "start_time": "2023-05-10T21:24:38.570Z"
   },
   {
    "duration": 32,
    "start_time": "2023-05-10T21:24:38.640Z"
   },
   {
    "duration": 126,
    "start_time": "2023-05-10T21:24:38.674Z"
   },
   {
    "duration": 4,
    "start_time": "2023-05-10T21:24:38.801Z"
   },
   {
    "duration": 15,
    "start_time": "2023-05-10T21:24:46.583Z"
   },
   {
    "duration": 3,
    "start_time": "2023-05-10T21:24:51.286Z"
   },
   {
    "duration": 123,
    "start_time": "2023-05-10T21:25:05.622Z"
   },
   {
    "duration": 311,
    "start_time": "2023-05-10T21:25:16.095Z"
   },
   {
    "duration": 541,
    "start_time": "2023-05-10T21:25:21.999Z"
   },
   {
    "duration": 174,
    "start_time": "2023-05-10T21:25:31.790Z"
   },
   {
    "duration": 13449,
    "start_time": "2023-05-10T21:25:39.576Z"
   },
   {
    "duration": 15,
    "start_time": "2023-05-10T21:26:10.611Z"
   },
   {
    "duration": 843,
    "start_time": "2023-05-10T21:26:10.629Z"
   },
   {
    "duration": 32,
    "start_time": "2023-05-10T21:26:11.474Z"
   },
   {
    "duration": 4,
    "start_time": "2023-05-10T21:26:11.508Z"
   },
   {
    "duration": 20,
    "start_time": "2023-05-10T21:26:25.386Z"
   },
   {
    "duration": 2125197,
    "start_time": "2023-05-10T21:26:50.261Z"
   },
   {
    "duration": 16261,
    "start_time": "2023-05-10T22:02:36.349Z"
   },
   {
    "duration": 485,
    "start_time": "2023-05-10T22:02:52.612Z"
   },
   {
    "duration": 6,
    "start_time": "2023-05-10T22:02:53.098Z"
   },
   {
    "duration": 19,
    "start_time": "2023-05-10T22:03:01.981Z"
   },
   {
    "duration": 1729,
    "start_time": "2023-05-11T11:23:01.837Z"
   },
   {
    "duration": 2945,
    "start_time": "2023-05-11T11:23:03.568Z"
   },
   {
    "duration": 119,
    "start_time": "2023-05-11T11:23:06.514Z"
   },
   {
    "duration": 1105,
    "start_time": "2023-05-11T11:23:06.634Z"
   },
   {
    "duration": 424,
    "start_time": "2023-05-11T11:23:07.741Z"
   },
   {
    "duration": 58,
    "start_time": "2023-05-11T11:23:08.166Z"
   },
   {
    "duration": 528,
    "start_time": "2023-05-11T11:23:08.226Z"
   },
   {
    "duration": 31,
    "start_time": "2023-05-11T11:23:08.756Z"
   },
   {
    "duration": 228,
    "start_time": "2023-05-11T11:23:08.788Z"
   },
   {
    "duration": 57,
    "start_time": "2023-05-11T11:23:09.018Z"
   },
   {
    "duration": 33,
    "start_time": "2023-05-11T11:23:09.076Z"
   },
   {
    "duration": 38,
    "start_time": "2023-05-11T11:23:09.110Z"
   },
   {
    "duration": 24,
    "start_time": "2023-05-11T11:23:09.150Z"
   },
   {
    "duration": 14,
    "start_time": "2023-05-11T11:23:09.175Z"
   },
   {
    "duration": 110,
    "start_time": "2023-05-11T11:23:09.191Z"
   },
   {
    "duration": 69,
    "start_time": "2023-05-11T11:23:09.303Z"
   },
   {
    "duration": 13,
    "start_time": "2023-05-11T11:23:09.374Z"
   },
   {
    "duration": 48,
    "start_time": "2023-05-11T11:23:09.389Z"
   },
   {
    "duration": 49,
    "start_time": "2023-05-11T11:23:09.439Z"
   },
   {
    "duration": 36,
    "start_time": "2023-05-11T11:23:09.489Z"
   },
   {
    "duration": 334,
    "start_time": "2023-05-11T11:23:09.527Z"
   },
   {
    "duration": 306,
    "start_time": "2023-05-11T11:23:09.863Z"
   },
   {
    "duration": 31,
    "start_time": "2023-05-11T11:23:10.170Z"
   },
   {
    "duration": 68,
    "start_time": "2023-05-11T11:23:10.203Z"
   },
   {
    "duration": 44,
    "start_time": "2023-05-11T11:23:10.273Z"
   },
   {
    "duration": 154,
    "start_time": "2023-05-11T11:23:10.319Z"
   },
   {
    "duration": 242,
    "start_time": "2023-05-11T11:23:10.475Z"
   },
   {
    "duration": 34,
    "start_time": "2023-05-11T11:23:10.724Z"
   },
   {
    "duration": 25,
    "start_time": "2023-05-11T11:23:10.760Z"
   },
   {
    "duration": 61,
    "start_time": "2023-05-11T11:23:10.787Z"
   },
   {
    "duration": 26,
    "start_time": "2023-05-11T11:23:10.849Z"
   },
   {
    "duration": 129,
    "start_time": "2023-05-11T11:23:10.877Z"
   },
   {
    "duration": 9,
    "start_time": "2023-05-11T11:23:11.008Z"
   },
   {
    "duration": 70,
    "start_time": "2023-05-11T11:23:11.018Z"
   },
   {
    "duration": 10,
    "start_time": "2023-05-11T11:23:11.090Z"
   },
   {
    "duration": 304,
    "start_time": "2023-05-11T11:23:11.101Z"
   },
   {
    "duration": 2,
    "start_time": "2023-05-11T11:23:11.407Z"
   },
   {
    "duration": 503,
    "start_time": "2023-05-11T11:23:22.421Z"
   },
   {
    "duration": 146,
    "start_time": "2023-05-11T11:23:45.045Z"
   },
   {
    "duration": 12135,
    "start_time": "2023-05-11T11:23:51.957Z"
   },
   {
    "duration": 14,
    "start_time": "2023-05-11T11:24:30.806Z"
   },
   {
    "duration": 910,
    "start_time": "2023-05-11T11:24:30.822Z"
   },
   {
    "duration": 19,
    "start_time": "2023-05-11T11:24:31.734Z"
   },
   {
    "duration": 5,
    "start_time": "2023-05-11T11:24:31.755Z"
   },
   {
    "duration": 5360,
    "start_time": "2023-05-11T11:24:54.462Z"
   },
   {
    "duration": 20,
    "start_time": "2023-05-11T11:25:31.785Z"
   },
   {
    "duration": 19,
    "start_time": "2023-05-11T11:25:55.977Z"
   },
   {
    "duration": 34,
    "start_time": "2023-05-11T11:26:11.329Z"
   },
   {
    "duration": 25,
    "start_time": "2023-05-11T11:26:19.149Z"
   },
   {
    "duration": 11015,
    "start_time": "2023-05-11T11:26:22.889Z"
   },
   {
    "duration": 26,
    "start_time": "2023-05-11T11:27:25.665Z"
   },
   {
    "duration": 27,
    "start_time": "2023-05-11T11:28:05.401Z"
   },
   {
    "duration": 2970464,
    "start_time": "2023-05-11T11:28:08.241Z"
   },
   {
    "duration": 6,
    "start_time": "2023-05-11T12:17:38.725Z"
   },
   {
    "duration": 302,
    "start_time": "2023-05-11T12:17:38.733Z"
   },
   {
    "duration": 12,
    "start_time": "2023-05-11T12:21:00.493Z"
   },
   {
    "duration": 0,
    "start_time": "2023-05-11T12:21:00.507Z"
   },
   {
    "duration": 0,
    "start_time": "2023-05-11T12:21:00.508Z"
   },
   {
    "duration": 0,
    "start_time": "2023-05-11T12:21:00.509Z"
   },
   {
    "duration": 1167,
    "start_time": "2023-05-11T12:21:10.017Z"
   },
   {
    "duration": 531,
    "start_time": "2023-05-11T12:22:16.294Z"
   },
   {
    "duration": 151,
    "start_time": "2023-05-11T12:22:22.050Z"
   },
   {
    "duration": 23,
    "start_time": "2023-05-11T12:22:32.697Z"
   },
   {
    "duration": 54,
    "start_time": "2023-05-11T12:23:17.918Z"
   },
   {
    "duration": 191,
    "start_time": "2023-05-11T12:23:30.590Z"
   },
   {
    "duration": 118,
    "start_time": "2023-05-11T12:23:30.782Z"
   },
   {
    "duration": 10,
    "start_time": "2023-05-11T12:23:30.902Z"
   },
   {
    "duration": 18,
    "start_time": "2023-05-11T12:23:34.508Z"
   },
   {
    "duration": 25451,
    "start_time": "2023-05-11T12:23:40.243Z"
   },
   {
    "duration": 27,
    "start_time": "2023-05-11T12:24:05.696Z"
   },
   {
    "duration": 6,
    "start_time": "2023-05-11T12:24:05.725Z"
   },
   {
    "duration": 1699,
    "start_time": "2023-05-11T12:26:06.402Z"
   },
   {
    "duration": 822,
    "start_time": "2023-05-11T12:26:08.103Z"
   },
   {
    "duration": 148,
    "start_time": "2023-05-11T12:26:08.927Z"
   },
   {
    "duration": 1293,
    "start_time": "2023-05-11T12:26:09.077Z"
   },
   {
    "duration": 492,
    "start_time": "2023-05-11T12:26:10.371Z"
   },
   {
    "duration": 64,
    "start_time": "2023-05-11T12:26:10.864Z"
   },
   {
    "duration": 678,
    "start_time": "2023-05-11T12:26:10.930Z"
   },
   {
    "duration": 34,
    "start_time": "2023-05-11T12:26:11.611Z"
   },
   {
    "duration": 9,
    "start_time": "2023-05-11T12:26:11.647Z"
   },
   {
    "duration": 69,
    "start_time": "2023-05-11T12:26:11.658Z"
   },
   {
    "duration": 35,
    "start_time": "2023-05-11T12:26:11.728Z"
   },
   {
    "duration": 33,
    "start_time": "2023-05-11T12:26:11.764Z"
   },
   {
    "duration": 37,
    "start_time": "2023-05-11T12:26:11.799Z"
   },
   {
    "duration": 17,
    "start_time": "2023-05-11T12:26:11.838Z"
   },
   {
    "duration": 106,
    "start_time": "2023-05-11T12:26:11.857Z"
   },
   {
    "duration": 68,
    "start_time": "2023-05-11T12:26:11.965Z"
   },
   {
    "duration": 14,
    "start_time": "2023-05-11T12:26:12.035Z"
   },
   {
    "duration": 42,
    "start_time": "2023-05-11T12:26:12.050Z"
   },
   {
    "duration": 65,
    "start_time": "2023-05-11T12:26:12.094Z"
   },
   {
    "duration": 26,
    "start_time": "2023-05-11T12:26:12.161Z"
   },
   {
    "duration": 273,
    "start_time": "2023-05-11T12:26:12.188Z"
   },
   {
    "duration": 284,
    "start_time": "2023-05-11T12:26:12.463Z"
   },
   {
    "duration": 33,
    "start_time": "2023-05-11T12:26:12.749Z"
   },
   {
    "duration": 20,
    "start_time": "2023-05-11T12:26:12.784Z"
   },
   {
    "duration": 51,
    "start_time": "2023-05-11T12:26:12.806Z"
   },
   {
    "duration": 120,
    "start_time": "2023-05-11T12:26:12.859Z"
   },
   {
    "duration": 250,
    "start_time": "2023-05-11T12:26:12.981Z"
   },
   {
    "duration": 40,
    "start_time": "2023-05-11T12:26:13.235Z"
   },
   {
    "duration": 48,
    "start_time": "2023-05-11T12:26:13.277Z"
   },
   {
    "duration": 48,
    "start_time": "2023-05-11T12:26:13.327Z"
   },
   {
    "duration": 29,
    "start_time": "2023-05-11T12:26:13.377Z"
   },
   {
    "duration": 132,
    "start_time": "2023-05-11T12:26:13.425Z"
   },
   {
    "duration": 5,
    "start_time": "2023-05-11T12:26:13.559Z"
   },
   {
    "duration": 27,
    "start_time": "2023-05-11T12:26:13.566Z"
   },
   {
    "duration": 335,
    "start_time": "2023-05-11T12:26:13.595Z"
   },
   {
    "duration": 3,
    "start_time": "2023-05-11T12:26:13.931Z"
   },
   {
    "duration": 28,
    "start_time": "2023-05-11T12:26:13.936Z"
   },
   {
    "duration": 18,
    "start_time": "2023-05-11T12:26:13.965Z"
   },
   {
    "duration": 578,
    "start_time": "2023-05-11T12:26:13.985Z"
   },
   {
    "duration": 3,
    "start_time": "2023-05-11T12:26:14.565Z"
   },
   {
    "duration": 17,
    "start_time": "2023-05-11T12:26:14.569Z"
   },
   {
    "duration": 18,
    "start_time": "2023-05-11T12:26:14.589Z"
   },
   {
    "duration": 14,
    "start_time": "2023-05-11T12:26:14.608Z"
   },
   {
    "duration": 16,
    "start_time": "2023-05-11T12:26:14.623Z"
   },
   {
    "duration": 40,
    "start_time": "2023-05-11T12:26:14.641Z"
   },
   {
    "duration": 20,
    "start_time": "2023-05-11T12:26:14.683Z"
   },
   {
    "duration": 26,
    "start_time": "2023-05-11T12:26:14.705Z"
   },
   {
    "duration": 40,
    "start_time": "2023-05-11T12:26:14.733Z"
   },
   {
    "duration": 24,
    "start_time": "2023-05-11T12:26:14.776Z"
   },
   {
    "duration": 19,
    "start_time": "2023-05-11T12:26:14.802Z"
   },
   {
    "duration": 210,
    "start_time": "2023-05-11T12:26:14.823Z"
   },
   {
    "duration": 3,
    "start_time": "2023-05-11T12:26:15.034Z"
   },
   {
    "duration": 27,
    "start_time": "2023-05-11T12:26:15.039Z"
   },
   {
    "duration": 17,
    "start_time": "2023-05-11T12:26:15.068Z"
   },
   {
    "duration": 21,
    "start_time": "2023-05-11T12:26:15.086Z"
   },
   {
    "duration": 38,
    "start_time": "2023-05-11T12:26:15.109Z"
   },
   {
    "duration": 47,
    "start_time": "2023-05-11T12:26:15.149Z"
   },
   {
    "duration": 18,
    "start_time": "2023-05-11T12:26:15.198Z"
   },
   {
    "duration": 13197,
    "start_time": "2023-05-11T12:26:15.218Z"
   },
   {
    "duration": 2142654,
    "start_time": "2023-05-11T12:26:28.416Z"
   },
   {
    "duration": 3,
    "start_time": "2023-05-11T13:02:11.073Z"
   },
   {
    "duration": 58,
    "start_time": "2023-05-11T13:02:11.078Z"
   },
   {
    "duration": 627294,
    "start_time": "2023-05-11T13:02:11.139Z"
   },
   {
    "duration": 117,
    "start_time": "2023-05-11T13:12:38.435Z"
   },
   {
    "duration": 3007782,
    "start_time": "2023-05-11T13:12:38.554Z"
   },
   {
    "duration": 11,
    "start_time": "2023-05-11T14:02:46.337Z"
   },
   {
    "duration": 768,
    "start_time": "2023-05-11T14:02:46.349Z"
   },
   {
    "duration": 20,
    "start_time": "2023-05-11T14:02:47.119Z"
   },
   {
    "duration": 4,
    "start_time": "2023-05-11T14:02:47.141Z"
   },
   {
    "duration": 19,
    "start_time": "2023-05-11T14:02:47.147Z"
   },
   {
    "duration": 14712,
    "start_time": "2023-05-11T14:02:47.167Z"
   },
   {
    "duration": 391,
    "start_time": "2023-05-11T14:03:01.881Z"
   },
   {
    "duration": 5,
    "start_time": "2023-05-11T14:03:02.273Z"
   },
   {
    "duration": 71,
    "start_time": "2023-05-11T14:03:02.280Z"
   },
   {
    "duration": 390,
    "start_time": "2023-05-11T14:03:02.353Z"
   },
   {
    "duration": 208,
    "start_time": "2023-05-11T14:03:02.745Z"
   },
   {
    "duration": 8,
    "start_time": "2023-05-11T14:03:02.954Z"
   },
   {
    "duration": 0,
    "start_time": "2023-05-11T14:03:02.964Z"
   },
   {
    "duration": 0,
    "start_time": "2023-05-11T14:03:02.965Z"
   },
   {
    "duration": 0,
    "start_time": "2023-05-11T14:03:02.966Z"
   },
   {
    "duration": 0,
    "start_time": "2023-05-11T14:03:02.967Z"
   },
   {
    "duration": 1598,
    "start_time": "2023-05-11T18:00:40.731Z"
   },
   {
    "duration": 88,
    "start_time": "2023-05-11T18:00:42.441Z"
   },
   {
    "duration": 10,
    "start_time": "2023-05-11T18:00:44.541Z"
   },
   {
    "duration": 5,
    "start_time": "2023-05-11T18:00:48.080Z"
   },
   {
    "duration": 16,
    "start_time": "2023-05-11T18:00:54.845Z"
   },
   {
    "duration": 15569,
    "start_time": "2023-05-11T18:00:56.830Z"
   },
   {
    "duration": 23,
    "start_time": "2023-05-11T18:01:12.401Z"
   },
   {
    "duration": 13,
    "start_time": "2023-05-11T18:01:12.425Z"
   },
   {
    "duration": 59,
    "start_time": "2023-05-11T22:50:12.033Z"
   },
   {
    "duration": 2022,
    "start_time": "2023-05-11T22:50:14.496Z"
   },
   {
    "duration": 3929,
    "start_time": "2023-05-11T22:50:16.854Z"
   },
   {
    "duration": 54,
    "start_time": "2023-05-11T22:50:29.751Z"
   },
   {
    "duration": 44,
    "start_time": "2023-05-11T22:51:06.743Z"
   },
   {
    "duration": 1857,
    "start_time": "2023-05-12T13:15:43.284Z"
   },
   {
    "duration": 1339,
    "start_time": "2023-05-12T13:15:45.143Z"
   },
   {
    "duration": 202,
    "start_time": "2023-05-12T13:15:46.484Z"
   },
   {
    "duration": 1460,
    "start_time": "2023-05-12T13:15:46.688Z"
   },
   {
    "duration": 506,
    "start_time": "2023-05-12T13:15:48.150Z"
   },
   {
    "duration": 61,
    "start_time": "2023-05-12T13:15:48.657Z"
   },
   {
    "duration": 571,
    "start_time": "2023-05-12T13:15:48.720Z"
   },
   {
    "duration": 33,
    "start_time": "2023-05-12T13:15:49.293Z"
   },
   {
    "duration": 10,
    "start_time": "2023-05-12T13:15:49.328Z"
   },
   {
    "duration": 94,
    "start_time": "2023-05-12T13:15:49.342Z"
   },
   {
    "duration": 61,
    "start_time": "2023-05-12T13:15:49.438Z"
   },
   {
    "duration": 44,
    "start_time": "2023-05-12T13:15:49.504Z"
   },
   {
    "duration": 34,
    "start_time": "2023-05-12T13:15:49.550Z"
   },
   {
    "duration": 18,
    "start_time": "2023-05-12T13:15:49.586Z"
   },
   {
    "duration": 134,
    "start_time": "2023-05-12T13:15:49.606Z"
   },
   {
    "duration": 67,
    "start_time": "2023-05-12T13:15:49.742Z"
   },
   {
    "duration": 16,
    "start_time": "2023-05-12T13:15:49.811Z"
   },
   {
    "duration": 58,
    "start_time": "2023-05-12T13:15:49.829Z"
   },
   {
    "duration": 56,
    "start_time": "2023-05-12T13:15:49.891Z"
   },
   {
    "duration": 41,
    "start_time": "2023-05-12T13:15:49.948Z"
   },
   {
    "duration": 288,
    "start_time": "2023-05-12T13:15:49.992Z"
   },
   {
    "duration": 440,
    "start_time": "2023-05-12T13:15:50.285Z"
   },
   {
    "duration": 32,
    "start_time": "2023-05-12T13:15:50.727Z"
   },
   {
    "duration": 38,
    "start_time": "2023-05-12T13:15:50.760Z"
   },
   {
    "duration": 32,
    "start_time": "2023-05-12T13:15:50.801Z"
   },
   {
    "duration": 141,
    "start_time": "2023-05-12T13:15:50.835Z"
   },
   {
    "duration": 285,
    "start_time": "2023-05-12T13:15:50.978Z"
   },
   {
    "duration": 50,
    "start_time": "2023-05-12T13:15:51.274Z"
   },
   {
    "duration": 161,
    "start_time": "2023-05-12T13:15:51.327Z"
   },
   {
    "duration": 56,
    "start_time": "2023-05-12T13:15:51.490Z"
   },
   {
    "duration": 52,
    "start_time": "2023-05-12T13:15:51.548Z"
   },
   {
    "duration": 158,
    "start_time": "2023-05-12T13:15:51.602Z"
   },
   {
    "duration": 14,
    "start_time": "2023-05-12T13:15:51.762Z"
   },
   {
    "duration": 4,
    "start_time": "2023-05-12T13:15:51.778Z"
   },
   {
    "duration": 335,
    "start_time": "2023-05-12T13:15:51.784Z"
   },
   {
    "duration": 3,
    "start_time": "2023-05-12T13:15:52.121Z"
   },
   {
    "duration": 572,
    "start_time": "2023-05-12T13:15:52.126Z"
   },
   {
    "duration": 166,
    "start_time": "2023-05-12T13:15:52.700Z"
   },
   {
    "duration": 13808,
    "start_time": "2023-05-12T13:15:52.868Z"
   },
   {
    "duration": 625,
    "start_time": "2023-05-12T13:16:06.677Z"
   },
   {
    "duration": 16,
    "start_time": "2023-05-12T13:16:07.304Z"
   },
   {
    "duration": 2307443,
    "start_time": "2023-05-12T13:16:07.322Z"
   },
   {
    "duration": 13939,
    "start_time": "2023-05-12T13:54:34.768Z"
   },
   {
    "duration": 480,
    "start_time": "2023-05-12T13:54:48.708Z"
   },
   {
    "duration": 1549,
    "start_time": "2023-05-12T15:16:28.992Z"
   },
   {
    "duration": 906,
    "start_time": "2023-05-12T15:16:30.543Z"
   },
   {
    "duration": 129,
    "start_time": "2023-05-12T15:16:31.450Z"
   },
   {
    "duration": 1217,
    "start_time": "2023-05-12T15:16:31.580Z"
   },
   {
    "duration": 480,
    "start_time": "2023-05-12T15:16:32.799Z"
   },
   {
    "duration": 51,
    "start_time": "2023-05-12T15:16:33.281Z"
   },
   {
    "duration": 625,
    "start_time": "2023-05-12T15:16:33.334Z"
   },
   {
    "duration": 39,
    "start_time": "2023-05-12T15:16:33.962Z"
   },
   {
    "duration": 11,
    "start_time": "2023-05-12T15:16:34.003Z"
   },
   {
    "duration": 83,
    "start_time": "2023-05-12T15:16:34.016Z"
   },
   {
    "duration": 39,
    "start_time": "2023-05-12T15:16:34.101Z"
   },
   {
    "duration": 58,
    "start_time": "2023-05-12T15:16:34.142Z"
   },
   {
    "duration": 32,
    "start_time": "2023-05-12T15:16:34.202Z"
   },
   {
    "duration": 38,
    "start_time": "2023-05-12T15:16:34.238Z"
   },
   {
    "duration": 101,
    "start_time": "2023-05-12T15:16:34.277Z"
   },
   {
    "duration": 56,
    "start_time": "2023-05-12T15:16:34.380Z"
   },
   {
    "duration": 14,
    "start_time": "2023-05-12T15:16:34.438Z"
   },
   {
    "duration": 55,
    "start_time": "2023-05-12T15:16:34.454Z"
   },
   {
    "duration": 73,
    "start_time": "2023-05-12T15:16:34.511Z"
   },
   {
    "duration": 27,
    "start_time": "2023-05-12T15:16:34.586Z"
   },
   {
    "duration": 272,
    "start_time": "2023-05-12T15:16:34.615Z"
   },
   {
    "duration": 287,
    "start_time": "2023-05-12T15:16:34.889Z"
   },
   {
    "duration": 33,
    "start_time": "2023-05-12T15:16:35.178Z"
   },
   {
    "duration": 18,
    "start_time": "2023-05-12T15:16:35.213Z"
   },
   {
    "duration": 29,
    "start_time": "2023-05-12T15:16:35.232Z"
   },
   {
    "duration": 133,
    "start_time": "2023-05-12T15:16:35.263Z"
   },
   {
    "duration": 259,
    "start_time": "2023-05-12T15:16:35.398Z"
   },
   {
    "duration": 47,
    "start_time": "2023-05-12T15:16:35.659Z"
   },
   {
    "duration": 27,
    "start_time": "2023-05-12T15:16:35.707Z"
   },
   {
    "duration": 67,
    "start_time": "2023-05-12T15:16:35.735Z"
   },
   {
    "duration": 32,
    "start_time": "2023-05-12T15:16:35.805Z"
   },
   {
    "duration": 125,
    "start_time": "2023-05-12T15:16:35.839Z"
   },
   {
    "duration": 11,
    "start_time": "2023-05-12T15:16:35.965Z"
   },
   {
    "duration": 3,
    "start_time": "2023-05-12T15:16:35.977Z"
   },
   {
    "duration": 305,
    "start_time": "2023-05-12T15:16:35.982Z"
   },
   {
    "duration": 3,
    "start_time": "2023-05-12T15:16:36.289Z"
   },
   {
    "duration": 541,
    "start_time": "2023-05-12T15:16:36.295Z"
   },
   {
    "duration": 159,
    "start_time": "2023-05-12T15:16:36.838Z"
   },
   {
    "duration": 13279,
    "start_time": "2023-05-12T15:16:36.999Z"
   },
   {
    "duration": 606,
    "start_time": "2023-05-12T15:16:50.280Z"
   },
   {
    "duration": 16,
    "start_time": "2023-05-12T15:16:50.891Z"
   },
   {
    "duration": 2171738,
    "start_time": "2023-05-12T15:16:50.909Z"
   },
   {
    "duration": 11809,
    "start_time": "2023-05-12T15:53:02.649Z"
   },
   {
    "duration": 427,
    "start_time": "2023-05-12T15:53:14.460Z"
   },
   {
    "duration": 20177205,
    "start_time": "2023-05-12T15:53:14.889Z"
   },
   {
    "duration": 99388,
    "start_time": "2023-05-12T21:29:32.097Z"
   },
   {
    "duration": 209,
    "start_time": "2023-05-12T21:31:11.489Z"
   },
   {
    "duration": 88,
    "start_time": "2023-05-12T21:31:11.700Z"
   },
   {
    "duration": 3149820,
    "start_time": "2023-05-12T21:31:11.790Z"
   },
   {
    "duration": 14137,
    "start_time": "2023-05-12T22:23:41.612Z"
   },
   {
    "duration": 23,
    "start_time": "2023-05-12T22:23:55.750Z"
   },
   {
    "duration": 3,
    "start_time": "2023-05-12T22:23:55.775Z"
   },
   {
    "duration": 8,
    "start_time": "2023-05-12T22:23:55.780Z"
   },
   {
    "duration": 4,
    "start_time": "2023-05-12T22:23:55.791Z"
   },
   {
    "duration": 6,
    "start_time": "2023-05-12T22:23:55.797Z"
   },
   {
    "duration": 6,
    "start_time": "2023-05-12T22:23:55.804Z"
   },
   {
    "duration": 4,
    "start_time": "2023-05-12T22:23:55.811Z"
   },
   {
    "duration": 3,
    "start_time": "2023-05-12T22:46:22.506Z"
   },
   {
    "duration": 16,
    "start_time": "2023-05-12T22:46:57.550Z"
   },
   {
    "duration": 5,
    "start_time": "2023-05-12T22:46:57.568Z"
   },
   {
    "duration": 12,
    "start_time": "2023-05-12T22:47:33.781Z"
   },
   {
    "duration": 14084,
    "start_time": "2023-05-12T22:47:33.795Z"
   },
   {
    "duration": 29,
    "start_time": "2023-05-12T22:47:47.882Z"
   },
   {
    "duration": 5,
    "start_time": "2023-05-12T22:47:47.913Z"
   },
   {
    "duration": 6,
    "start_time": "2023-05-12T22:49:42.144Z"
   },
   {
    "duration": 14180,
    "start_time": "2023-05-12T22:50:06.874Z"
   },
   {
    "duration": 28,
    "start_time": "2023-05-12T22:50:21.056Z"
   },
   {
    "duration": 7,
    "start_time": "2023-05-12T22:50:21.087Z"
   },
   {
    "duration": 10,
    "start_time": "2023-05-12T23:05:23.788Z"
   },
   {
    "duration": 239,
    "start_time": "2023-05-12T23:05:23.802Z"
   },
   {
    "duration": 40,
    "start_time": "2023-05-12T23:05:24.043Z"
   },
   {
    "duration": 12,
    "start_time": "2023-05-12T23:05:24.087Z"
   },
   {
    "duration": 14,
    "start_time": "2023-05-12T23:06:16.193Z"
   },
   {
    "duration": 15822,
    "start_time": "2023-05-12T23:06:16.210Z"
   },
   {
    "duration": 33,
    "start_time": "2023-05-12T23:06:32.034Z"
   },
   {
    "duration": 5,
    "start_time": "2023-05-12T23:06:32.069Z"
   }
  ],
  "kernelspec": {
   "display_name": "Python 3 (ipykernel)",
   "language": "python",
   "name": "python3"
  },
  "language_info": {
   "codemirror_mode": {
    "name": "ipython",
    "version": 3
   },
   "file_extension": ".py",
   "mimetype": "text/x-python",
   "name": "python",
   "nbconvert_exporter": "python",
   "pygments_lexer": "ipython3",
   "version": "3.9.12"
  },
  "toc": {
   "base_numbering": 1,
   "nav_menu": {},
   "number_sections": true,
   "sideBar": true,
   "skip_h1_title": true,
   "title_cell": "Table of Contents",
   "title_sidebar": "Contents",
   "toc_cell": false,
   "toc_position": {},
   "toc_section_display": true,
   "toc_window_display": true
  }
 },
 "nbformat": 4,
 "nbformat_minor": 2
}
