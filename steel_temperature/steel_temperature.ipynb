{
 "cells": [
  {
   "cell_type": "markdown",
   "id": "fdcadea0",
   "metadata": {},
   "source": [
    "<a id='start'></a>"
   ]
  },
  {
   "cell_type": "markdown",
   "id": "c80c0886",
   "metadata": {},
   "source": [
    "# Исследование факторов, влияющих на перегрев на этапе производства стали"
   ]
  },
  {
   "cell_type": "markdown",
   "id": "e895cd12",
   "metadata": {},
   "source": [
    "Для оптимизации производственных расходов металлургическому комбинату необходимо уменьшить потребление электроэнергии на этапе обработки стали."
   ]
  },
  {
   "cell_type": "markdown",
   "id": "b1aa2ec0",
   "metadata": {},
   "source": [
    "Описание этапа обработки стали\n",
    "\n",
    "Сталь обрабатывают в металлическом ковше, который изнутри облицован огнеупорным кирпичом. Сталь заливают в ковш и подогревают до нужной температуры графитовыми электродами, установленными в крышке ковша. \n",
    "Производится десульфация. Путем добавления примесей корректируется химический состав и отбираются пробы. Происходит легирование стали: подаются куски сплава из бункера для сыпучих материалов или проволока через специальный трайб-аппарат.\n",
    "Перед введением добавок измеряется температура стали, производится её химический анализ. Затем температуру на несколько минут повышают, добавляют легирующие материалы и продувают сплав инертным газом. Затем его перемешивают и снова проводят измерения. Такой цикл повторяется до достижения целевого химического состава и оптимальной температуры плавки.\n",
    "Тогда расплавленная сталь отправляется на доводку металла или поступает в машину непрерывной разливки. Оттуда готовый продукт выходит в виде заготовок-слябов."
   ]
  },
  {
   "cell_type": "markdown",
   "id": "6e588af0",
   "metadata": {},
   "source": [
    "**Цель проекта:**\n",
    "\n",
    "Построить модель, которая предскажет температуру стали, что поможет снизить затраты бизнеса на электроэнергию.\n",
    "\n",
    "Необходимо достичь значения MAE ≤ 6.8"
   ]
  },
  {
   "cell_type": "markdown",
   "id": "3050f339",
   "metadata": {},
   "source": [
    "**Задачи:**\n",
    "1. [Провести исследовательский анализ, обработать данные и подготовить признаки;](#step1) <br>\n",
    "    1.1 [data_arc_new.csv — данные об электродах;](#step1_1)<br>\n",
    "    1.2 [data_bulk_new.csv — данные о подаче сыпучих материалов;](#step1_2)<br>\n",
    "    1.3 [data_gas_new.csv — данные о продувке сплава газом;](#step1_3)<br>\n",
    "    1.4 [data_temp_new.csv — результаты измерения температуры;](#step1_4)<br>\n",
    "    1.5 [data_wire_new.csv — данные о проволочных материалах;](#step1_5)<br>\n",
    "2. [Объединить признаки в один датафрейм;](#step2)\n",
    "3. [Обучить модели;](#step3)<br>\n",
    "    3.1 [Линейная регрессия;](#step3_1)<br>\n",
    "    3.2 [Случайный лес;](#step3_2)<br>\n",
    "    3.3 [CatBoost;](#step3_3)<br>\n",
    "4. [Протестировать лучшую модель;](#step4)\n",
    "5. [Провести анализ важности факторов;](#step5)\n",
    "6. [Подвести итог.](#step6)"
   ]
  },
  {
   "cell_type": "markdown",
   "id": "c41257a0",
   "metadata": {},
   "source": [
    "## Предобработка данных, подготовка признаков"
   ]
  },
  {
   "cell_type": "markdown",
   "id": "8c64418d",
   "metadata": {},
   "source": [
    "Импорт библиотек:"
   ]
  },
  {
   "cell_type": "code",
   "execution_count": 2,
   "id": "c8560857",
   "metadata": {},
   "outputs": [
    {
     "name": "stderr",
     "output_type": "stream",
     "text": [
      "Using `tqdm.autonotebook.tqdm` in notebook mode. Use `tqdm.tqdm` instead to force console mode (e.g. in jupyter console)\n"
     ]
    }
   ],
   "source": [
    "import datetime as dt\n",
    "import matplotlib.pyplot as plt\n",
    "import numpy as np\n",
    "import pandas as pd\n",
    "import seaborn as sns\n",
    "\n",
    "import shap\n",
    "import warnings\n",
    "\n",
    "from sklearn.dummy import DummyRegressor\n",
    "from sklearn.ensemble import RandomForestRegressor\n",
    "from sklearn.linear_model import LinearRegression\n",
    "from sklearn.metrics import mean_absolute_error\n",
    "from sklearn.model_selection import cross_val_score\n",
    "from sklearn.model_selection import GridSearchCV\n",
    "from sklearn.model_selection import train_test_split\n",
    "from sklearn.preprocessing import StandardScaler\n",
    "\n",
    "from pyod.models.knn import KNN\n",
    "\n",
    "from catboost import CatBoostRegressor\n",
    "from catboost.utils import eval_metric\n",
    "\n",
    "warnings.filterwarnings('ignore')"
   ]
  },
  {
   "cell_type": "markdown",
   "id": "64efd8b8",
   "metadata": {},
   "source": [
    "### 1. Данные об электродах <a id='step1_1'></a>"
   ]
  },
  {
   "cell_type": "markdown",
   "id": "6504c73b",
   "metadata": {},
   "source": [
    "Взглянем на данные:"
   ]
  },
  {
   "cell_type": "code",
   "execution_count": 3,
   "id": "c4be1360",
   "metadata": {},
   "outputs": [],
   "source": [
    "data_arc = pd.read_csv('datasets/data_arc_new.csv')"
   ]
  },
  {
   "cell_type": "code",
   "execution_count": 4,
   "id": "a8d2c052",
   "metadata": {
    "scrolled": true
   },
   "outputs": [
    {
     "data": {
      "text/html": [
       "<div>\n",
       "<style scoped>\n",
       "    .dataframe tbody tr th:only-of-type {\n",
       "        vertical-align: middle;\n",
       "    }\n",
       "\n",
       "    .dataframe tbody tr th {\n",
       "        vertical-align: top;\n",
       "    }\n",
       "\n",
       "    .dataframe thead th {\n",
       "        text-align: right;\n",
       "    }\n",
       "</style>\n",
       "<table border=\"1\" class=\"dataframe\">\n",
       "  <thead>\n",
       "    <tr style=\"text-align: right;\">\n",
       "      <th></th>\n",
       "      <th>key</th>\n",
       "      <th>Начало нагрева дугой</th>\n",
       "      <th>Конец нагрева дугой</th>\n",
       "      <th>Активная мощность</th>\n",
       "      <th>Реактивная мощность</th>\n",
       "    </tr>\n",
       "  </thead>\n",
       "  <tbody>\n",
       "    <tr>\n",
       "      <th>0</th>\n",
       "      <td>1</td>\n",
       "      <td>2019-05-03 11:02:14</td>\n",
       "      <td>2019-05-03 11:06:02</td>\n",
       "      <td>0.305130</td>\n",
       "      <td>0.211253</td>\n",
       "    </tr>\n",
       "    <tr>\n",
       "      <th>1</th>\n",
       "      <td>1</td>\n",
       "      <td>2019-05-03 11:07:28</td>\n",
       "      <td>2019-05-03 11:10:33</td>\n",
       "      <td>0.765658</td>\n",
       "      <td>0.477438</td>\n",
       "    </tr>\n",
       "    <tr>\n",
       "      <th>2</th>\n",
       "      <td>1</td>\n",
       "      <td>2019-05-03 11:11:44</td>\n",
       "      <td>2019-05-03 11:14:36</td>\n",
       "      <td>0.580313</td>\n",
       "      <td>0.430460</td>\n",
       "    </tr>\n",
       "    <tr>\n",
       "      <th>3</th>\n",
       "      <td>1</td>\n",
       "      <td>2019-05-03 11:18:14</td>\n",
       "      <td>2019-05-03 11:24:19</td>\n",
       "      <td>0.518496</td>\n",
       "      <td>0.379979</td>\n",
       "    </tr>\n",
       "    <tr>\n",
       "      <th>4</th>\n",
       "      <td>1</td>\n",
       "      <td>2019-05-03 11:26:09</td>\n",
       "      <td>2019-05-03 11:28:37</td>\n",
       "      <td>0.867133</td>\n",
       "      <td>0.643691</td>\n",
       "    </tr>\n",
       "    <tr>\n",
       "      <th>5</th>\n",
       "      <td>2</td>\n",
       "      <td>2019-05-03 11:34:14</td>\n",
       "      <td>2019-05-03 11:36:31</td>\n",
       "      <td>0.381124</td>\n",
       "      <td>0.220351</td>\n",
       "    </tr>\n",
       "    <tr>\n",
       "      <th>6</th>\n",
       "      <td>2</td>\n",
       "      <td>2019-05-03 11:38:50</td>\n",
       "      <td>2019-05-03 11:44:28</td>\n",
       "      <td>0.261665</td>\n",
       "      <td>0.205527</td>\n",
       "    </tr>\n",
       "    <tr>\n",
       "      <th>7</th>\n",
       "      <td>2</td>\n",
       "      <td>2019-05-03 11:46:19</td>\n",
       "      <td>2019-05-03 11:48:25</td>\n",
       "      <td>0.710297</td>\n",
       "      <td>0.484962</td>\n",
       "    </tr>\n",
       "    <tr>\n",
       "      <th>8</th>\n",
       "      <td>2</td>\n",
       "      <td>2019-05-03 11:49:48</td>\n",
       "      <td>2019-05-03 11:53:18</td>\n",
       "      <td>0.786322</td>\n",
       "      <td>0.542517</td>\n",
       "    </tr>\n",
       "    <tr>\n",
       "      <th>9</th>\n",
       "      <td>3</td>\n",
       "      <td>2019-05-03 12:06:54</td>\n",
       "      <td>2019-05-03 12:11:34</td>\n",
       "      <td>1.101678</td>\n",
       "      <td>0.820856</td>\n",
       "    </tr>\n",
       "  </tbody>\n",
       "</table>\n",
       "</div>"
      ],
      "text/plain": [
       "   key Начало нагрева дугой  Конец нагрева дугой  Активная мощность  \\\n",
       "0    1  2019-05-03 11:02:14  2019-05-03 11:06:02           0.305130   \n",
       "1    1  2019-05-03 11:07:28  2019-05-03 11:10:33           0.765658   \n",
       "2    1  2019-05-03 11:11:44  2019-05-03 11:14:36           0.580313   \n",
       "3    1  2019-05-03 11:18:14  2019-05-03 11:24:19           0.518496   \n",
       "4    1  2019-05-03 11:26:09  2019-05-03 11:28:37           0.867133   \n",
       "5    2  2019-05-03 11:34:14  2019-05-03 11:36:31           0.381124   \n",
       "6    2  2019-05-03 11:38:50  2019-05-03 11:44:28           0.261665   \n",
       "7    2  2019-05-03 11:46:19  2019-05-03 11:48:25           0.710297   \n",
       "8    2  2019-05-03 11:49:48  2019-05-03 11:53:18           0.786322   \n",
       "9    3  2019-05-03 12:06:54  2019-05-03 12:11:34           1.101678   \n",
       "\n",
       "   Реактивная мощность  \n",
       "0             0.211253  \n",
       "1             0.477438  \n",
       "2             0.430460  \n",
       "3             0.379979  \n",
       "4             0.643691  \n",
       "5             0.220351  \n",
       "6             0.205527  \n",
       "7             0.484962  \n",
       "8             0.542517  \n",
       "9             0.820856  "
      ]
     },
     "execution_count": 4,
     "metadata": {},
     "output_type": "execute_result"
    }
   ],
   "source": [
    "data_arc.head(10)"
   ]
  },
  {
   "cell_type": "code",
   "execution_count": 5,
   "id": "59f88f26",
   "metadata": {},
   "outputs": [
    {
     "name": "stdout",
     "output_type": "stream",
     "text": [
      "<class 'pandas.core.frame.DataFrame'>\n",
      "RangeIndex: 14876 entries, 0 to 14875\n",
      "Data columns (total 5 columns):\n",
      " #   Column                Non-Null Count  Dtype  \n",
      "---  ------                --------------  -----  \n",
      " 0   key                   14876 non-null  int64  \n",
      " 1   Начало нагрева дугой  14876 non-null  object \n",
      " 2   Конец нагрева дугой   14876 non-null  object \n",
      " 3   Активная мощность     14876 non-null  float64\n",
      " 4   Реактивная мощность   14876 non-null  float64\n",
      "dtypes: float64(2), int64(1), object(2)\n",
      "memory usage: 581.2+ KB\n"
     ]
    }
   ],
   "source": [
    "data_arc.info()"
   ]
  },
  {
   "cell_type": "code",
   "execution_count": 6,
   "id": "5a994384",
   "metadata": {},
   "outputs": [
    {
     "data": {
      "text/plain": [
       "0"
      ]
     },
     "execution_count": 6,
     "metadata": {},
     "output_type": "execute_result"
    }
   ],
   "source": [
    "data_arc.duplicated().sum()"
   ]
  },
  {
   "cell_type": "code",
   "execution_count": 7,
   "id": "af5f3f5b",
   "metadata": {},
   "outputs": [
    {
     "data": {
      "text/plain": [
       "3214"
      ]
     },
     "execution_count": 7,
     "metadata": {},
     "output_type": "execute_result"
    }
   ],
   "source": [
    "data_arc['key'].nunique()"
   ]
  },
  {
   "cell_type": "markdown",
   "id": "03c31811",
   "metadata": {},
   "source": [
    "В данных об электродах отсутствуют пропуски и дубликаты, в данных 14876 записи.<br>\n",
    "Для некоторых партий записи отсутствуют (3214 vs 3239 для газа).<br>"
   ]
  },
  {
   "cell_type": "markdown",
   "id": "1cfc9a13",
   "metadata": {},
   "source": [
    "Количество итераций для различных партий:"
   ]
  },
  {
   "cell_type": "code",
   "execution_count": 9,
   "id": "a057b53d",
   "metadata": {},
   "outputs": [
    {
     "data": {
      "text/html": [
       "<div>\n",
       "<style scoped>\n",
       "    .dataframe tbody tr th:only-of-type {\n",
       "        vertical-align: middle;\n",
       "    }\n",
       "\n",
       "    .dataframe tbody tr th {\n",
       "        vertical-align: top;\n",
       "    }\n",
       "\n",
       "    .dataframe thead th {\n",
       "        text-align: right;\n",
       "    }\n",
       "</style>\n",
       "<table border=\"1\" class=\"dataframe\">\n",
       "  <thead>\n",
       "    <tr style=\"text-align: right;\">\n",
       "      <th></th>\n",
       "      <th>Активная мощность</th>\n",
       "    </tr>\n",
       "  </thead>\n",
       "  <tbody>\n",
       "    <tr>\n",
       "      <th>count</th>\n",
       "      <td>3214.000000</td>\n",
       "    </tr>\n",
       "    <tr>\n",
       "      <th>mean</th>\n",
       "      <td>4.628500</td>\n",
       "    </tr>\n",
       "    <tr>\n",
       "      <th>std</th>\n",
       "      <td>1.608647</td>\n",
       "    </tr>\n",
       "    <tr>\n",
       "      <th>min</th>\n",
       "      <td>1.000000</td>\n",
       "    </tr>\n",
       "    <tr>\n",
       "      <th>25%</th>\n",
       "      <td>4.000000</td>\n",
       "    </tr>\n",
       "    <tr>\n",
       "      <th>50%</th>\n",
       "      <td>4.000000</td>\n",
       "    </tr>\n",
       "    <tr>\n",
       "      <th>75%</th>\n",
       "      <td>6.000000</td>\n",
       "    </tr>\n",
       "    <tr>\n",
       "      <th>max</th>\n",
       "      <td>16.000000</td>\n",
       "    </tr>\n",
       "  </tbody>\n",
       "</table>\n",
       "</div>"
      ],
      "text/plain": [
       "       Активная мощность\n",
       "count        3214.000000\n",
       "mean            4.628500\n",
       "std             1.608647\n",
       "min             1.000000\n",
       "25%             4.000000\n",
       "50%             4.000000\n",
       "75%             6.000000\n",
       "max            16.000000"
      ]
     },
     "execution_count": 9,
     "metadata": {},
     "output_type": "execute_result"
    }
   ],
   "source": [
    "data_arc.pivot_table(index='key', values='Активная мощность', aggfunc='count').describe()"
   ]
  },
  {
   "cell_type": "markdown",
   "id": "b46d7ac9",
   "metadata": {},
   "source": [
    "Чаще всего проходит 4 итерации, их количество варьируется от 1 до 16."
   ]
  },
  {
   "cell_type": "markdown",
   "id": "11581668",
   "metadata": {},
   "source": [
    "Распределение значений активной мощности:"
   ]
  },
  {
   "cell_type": "code",
   "execution_count": 10,
   "id": "58850b79",
   "metadata": {},
   "outputs": [
    {
     "data": {
      "image/png": "[encoded data removed]",
      "text/plain": [
       "<Figure size 1080x504 with 1 Axes>"
      ]
     },
     "metadata": {
      "needs_background": "light"
     },
     "output_type": "display_data"
    }
   ],
   "source": [
    "data_arc['Активная мощность'].hist(bins=50, figsize=(15, 7), color='#A7D2CB', alpha=0.7)\n",
    "plt.xlabel('Активная мощность')\n",
    "plt.ylabel('Количество записей')\n",
    "plt.title('Распределение значений активной мощности')\n",
    "plt.show()"
   ]
  },
  {
   "cell_type": "markdown",
   "id": "d92eb47a",
   "metadata": {},
   "source": [
    "На первый взгляд выбросов нет. Распределение асимметрично. Убедимся в этом:"
   ]
  },
  {
   "cell_type": "code",
   "execution_count": 11,
   "id": "ca92dbcd",
   "metadata": {},
   "outputs": [
    {
     "data": {
      "text/plain": [
       "count    14876.000000\n",
       "mean         0.662752\n",
       "std          0.258885\n",
       "min          0.223120\n",
       "25%          0.467115\n",
       "50%          0.599587\n",
       "75%          0.830070\n",
       "max          1.463773\n",
       "Name: Активная мощность, dtype: float64"
      ]
     },
     "execution_count": 11,
     "metadata": {},
     "output_type": "execute_result"
    }
   ],
   "source": [
    "data_arc['Активная мощность'].describe()"
   ]
  },
  {
   "cell_type": "code",
   "execution_count": 12,
   "id": "419d7c5c",
   "metadata": {},
   "outputs": [
    {
     "data": {
      "text/plain": [
       "<AxesSubplot:>"
      ]
     },
     "execution_count": 12,
     "metadata": {},
     "output_type": "execute_result"
    },
    {
     "data": {
      "image/png": "[encoded data removed]",
      "text/plain": [
       "<Figure size 1440x720 with 1 Axes>"
      ]
     },
     "metadata": {
      "needs_background": "light"
     },
     "output_type": "display_data"
    }
   ],
   "source": [
    "data_arc.boxplot(column='Активная мощность', figsize=(20, 10))"
   ]
  },
  {
   "cell_type": "markdown",
   "id": "2058945f",
   "metadata": {},
   "source": [
    "Медиана смещена влево, есть небольшие выбросы у верхней границы."
   ]
  },
  {
   "cell_type": "markdown",
   "id": "3d9a1b67",
   "metadata": {},
   "source": [
    "Распределение реактивной мощности:"
   ]
  },
  {
   "cell_type": "code",
   "execution_count": 13,
   "id": "a0b0172a",
   "metadata": {},
   "outputs": [
    {
     "data": {
      "image/png": "[encoded data removed]",
      "text/plain": [
       "<Figure size 1080x504 with 1 Axes>"
      ]
     },
     "metadata": {
      "needs_background": "light"
     },
     "output_type": "display_data"
    }
   ],
   "source": [
    "data_arc['Реактивная мощность'].hist(bins=50, figsize=(15, 7), color='#A7D2CB', alpha=0.7)\n",
    "plt.xlabel('Реактивная мощность')\n",
    "plt.ylabel('Количество записей')\n",
    "plt.title('Распределение значений реактивной мощности')\n",
    "plt.show()"
   ]
  },
  {
   "cell_type": "markdown",
   "id": "07a176bf",
   "metadata": {},
   "source": [
    "Здесь явно есть выбросы, убедимся в этом:"
   ]
  },
  {
   "cell_type": "code",
   "execution_count": 14,
   "id": "0ceefaf9",
   "metadata": {},
   "outputs": [
    {
     "data": {
      "text/plain": [
       "count    14876.000000\n",
       "mean         0.438986\n",
       "std          5.873485\n",
       "min       -715.479924\n",
       "25%          0.337175\n",
       "50%          0.441639\n",
       "75%          0.608201\n",
       "max          1.270284\n",
       "Name: Реактивная мощность, dtype: float64"
      ]
     },
     "execution_count": 14,
     "metadata": {},
     "output_type": "execute_result"
    }
   ],
   "source": [
    "data_arc['Реактивная мощность'].describe()"
   ]
  },
  {
   "cell_type": "code",
   "execution_count": 15,
   "id": "0115f284",
   "metadata": {},
   "outputs": [
    {
     "data": {
      "text/plain": [
       "array([-7.15479924e+02,  1.53777000e-01,  1.53921000e-01, ...,\n",
       "        1.22306300e+00,  1.25862800e+00,  1.27028400e+00])"
      ]
     },
     "execution_count": 15,
     "metadata": {},
     "output_type": "execute_result"
    }
   ],
   "source": [
    "data_arc['Реактивная мощность'].sort_values().unique()"
   ]
  },
  {
   "cell_type": "markdown",
   "id": "875b77ed",
   "metadata": {},
   "source": [
    "Похоже, одно значение (-715.479924) является выбросом, выбивающимся из общей картины. Убедимся в этом:"
   ]
  },
  {
   "cell_type": "code",
   "execution_count": 16,
   "id": "8819c6ff",
   "metadata": {},
   "outputs": [
    {
     "data": {
      "text/plain": [
       "(0.0, 1.4)"
      ]
     },
     "execution_count": 16,
     "metadata": {},
     "output_type": "execute_result"
    },
    {
     "data": {
      "image/png": "[encoded data removed]",
      "text/plain": [
       "<Figure size 1440x720 with 1 Axes>"
      ]
     },
     "metadata": {
      "needs_background": "light"
     },
     "output_type": "display_data"
    }
   ],
   "source": [
    "data_arc.boxplot(column='Реактивная мощность', figsize=(20, 10))\n",
    "plt.ylim(0, 1.4) "
   ]
  },
  {
   "cell_type": "markdown",
   "id": "b92119fd",
   "metadata": {},
   "source": [
    "Помимо значения -715.479924, есть выбросы у верхней границы."
   ]
  },
  {
   "cell_type": "markdown",
   "id": "b886e9c9",
   "metadata": {},
   "source": [
    "Активная мощность - это полезная часть мощности, та часть, которая определяет прямое преобразования электрической энергии в другие необходимые виды энергии.\n",
    "Реактивная мощность - как правило, является «вредной» или «паразитной».\n",
    "Есть ли между ними связь:"
   ]
  },
  {
   "cell_type": "code",
   "execution_count": 17,
   "id": "34ffc3dd",
   "metadata": {},
   "outputs": [
    {
     "data": {
      "text/html": [
       "<div>\n",
       "<style scoped>\n",
       "    .dataframe tbody tr th:only-of-type {\n",
       "        vertical-align: middle;\n",
       "    }\n",
       "\n",
       "    .dataframe tbody tr th {\n",
       "        vertical-align: top;\n",
       "    }\n",
       "\n",
       "    .dataframe thead th {\n",
       "        text-align: right;\n",
       "    }\n",
       "</style>\n",
       "<table border=\"1\" class=\"dataframe\">\n",
       "  <thead>\n",
       "    <tr style=\"text-align: right;\">\n",
       "      <th></th>\n",
       "      <th>key</th>\n",
       "      <th>Активная мощность</th>\n",
       "      <th>Реактивная мощность</th>\n",
       "    </tr>\n",
       "  </thead>\n",
       "  <tbody>\n",
       "    <tr>\n",
       "      <th>key</th>\n",
       "      <td>1.000000</td>\n",
       "      <td>-0.010220</td>\n",
       "      <td>-0.004834</td>\n",
       "    </tr>\n",
       "    <tr>\n",
       "      <th>Активная мощность</th>\n",
       "      <td>-0.010220</td>\n",
       "      <td>1.000000</td>\n",
       "      <td>0.031164</td>\n",
       "    </tr>\n",
       "    <tr>\n",
       "      <th>Реактивная мощность</th>\n",
       "      <td>-0.004834</td>\n",
       "      <td>0.031164</td>\n",
       "      <td>1.000000</td>\n",
       "    </tr>\n",
       "  </tbody>\n",
       "</table>\n",
       "</div>"
      ],
      "text/plain": [
       "                          key  Активная мощность  Реактивная мощность\n",
       "key                  1.000000          -0.010220            -0.004834\n",
       "Активная мощность   -0.010220           1.000000             0.031164\n",
       "Реактивная мощность -0.004834           0.031164             1.000000"
      ]
     },
     "execution_count": 17,
     "metadata": {},
     "output_type": "execute_result"
    }
   ],
   "source": [
    "data_arc.corr()"
   ]
  },
  {
   "cell_type": "markdown",
   "id": "d9248bc0",
   "metadata": {},
   "source": [
    "Активная и реактивная мощности не взаимосвязаны, судя по предварительному анализу, что странно. Скорее всего это влияние выбросов."
   ]
  },
  {
   "cell_type": "markdown",
   "id": "fee61ca6",
   "metadata": {},
   "source": [
    "#### Предобработка данных об электродах и создание признаков"
   ]
  },
  {
   "cell_type": "markdown",
   "id": "e39bcdb5",
   "metadata": {},
   "source": [
    "Скопируем данные для работы"
   ]
  },
  {
   "cell_type": "code",
   "execution_count": 18,
   "id": "86710c23",
   "metadata": {},
   "outputs": [],
   "source": [
    "arc = data_arc.copy()"
   ]
  },
  {
   "cell_type": "markdown",
   "id": "fea3122d",
   "metadata": {},
   "source": [
    "Ранее выяснено, что в реактивной мощности есть явный выброс (-715.479924), его необходимо удалить."
   ]
  },
  {
   "cell_type": "markdown",
   "id": "e044bad5",
   "metadata": {},
   "source": [
    "Исключим выброс в реактивной мощности (в исследовательском анализе выяснено, что это единственное отрицательное значение)"
   ]
  },
  {
   "cell_type": "code",
   "execution_count": 19,
   "id": "145ce13f",
   "metadata": {},
   "outputs": [],
   "source": [
    "arc = arc[arc['Реактивная мощность'] > 0]"
   ]
  },
  {
   "cell_type": "markdown",
   "id": "b9398c85",
   "metadata": {},
   "source": [
    "Убедимся что это значение было единственным"
   ]
  },
  {
   "cell_type": "code",
   "execution_count": 20,
   "id": "ee3106e3",
   "metadata": {},
   "outputs": [
    {
     "data": {
      "text/plain": [
       "(14875, 5)"
      ]
     },
     "execution_count": 20,
     "metadata": {},
     "output_type": "execute_result"
    }
   ],
   "source": [
    "arc.shape"
   ]
  },
  {
   "cell_type": "markdown",
   "id": "244c930a",
   "metadata": {},
   "source": [
    "После того, как избавились от выброса, посмотрим как связаны активная и реактивная мощности"
   ]
  },
  {
   "cell_type": "code",
   "execution_count": 21,
   "id": "b901e822",
   "metadata": {
    "scrolled": false
   },
   "outputs": [
    {
     "data": {
      "text/html": [
       "<div>\n",
       "<style scoped>\n",
       "    .dataframe tbody tr th:only-of-type {\n",
       "        vertical-align: middle;\n",
       "    }\n",
       "\n",
       "    .dataframe tbody tr th {\n",
       "        vertical-align: top;\n",
       "    }\n",
       "\n",
       "    .dataframe thead th {\n",
       "        text-align: right;\n",
       "    }\n",
       "</style>\n",
       "<table border=\"1\" class=\"dataframe\">\n",
       "  <thead>\n",
       "    <tr style=\"text-align: right;\">\n",
       "      <th></th>\n",
       "      <th>key</th>\n",
       "      <th>Активная мощность</th>\n",
       "      <th>Реактивная мощность</th>\n",
       "    </tr>\n",
       "  </thead>\n",
       "  <tbody>\n",
       "    <tr>\n",
       "      <th>key</th>\n",
       "      <td>1.000000</td>\n",
       "      <td>-0.010226</td>\n",
       "      <td>-0.013169</td>\n",
       "    </tr>\n",
       "    <tr>\n",
       "      <th>Активная мощность</th>\n",
       "      <td>-0.010226</td>\n",
       "      <td>1.000000</td>\n",
       "      <td>0.966373</td>\n",
       "    </tr>\n",
       "    <tr>\n",
       "      <th>Реактивная мощность</th>\n",
       "      <td>-0.013169</td>\n",
       "      <td>0.966373</td>\n",
       "      <td>1.000000</td>\n",
       "    </tr>\n",
       "  </tbody>\n",
       "</table>\n",
       "</div>"
      ],
      "text/plain": [
       "                          key  Активная мощность  Реактивная мощность\n",
       "key                  1.000000          -0.010226            -0.013169\n",
       "Активная мощность   -0.010226           1.000000             0.966373\n",
       "Реактивная мощность -0.013169           0.966373             1.000000"
      ]
     },
     "execution_count": 21,
     "metadata": {},
     "output_type": "execute_result"
    }
   ],
   "source": [
    "arc.corr()"
   ]
  },
  {
   "cell_type": "markdown",
   "id": "e05ed9eb",
   "metadata": {},
   "source": [
    "Как предполагалось, активная и реактивные мощности взаимосвязаны. Нельзя оставлять их одновременно в качестве отдельных признаков."
   ]
  },
  {
   "cell_type": "markdown",
   "id": "44ae5fd6",
   "metadata": {},
   "source": [
    "Данные об электродах можно объединить в один фактор - суммарную работу по партии. Сама работа вычисляется следующим образом:\n",
    "$$\n",
    "A=Nt,\n",
    "$$\n",
    "где N - полная мощность, t - длительность нагрева.\n",
    "Полную мощность можно вычислить следующим образом:\n",
    "$$\n",
    "N = \\sqrt{P^2 + Q^2},\n",
    "$$\n",
    "где P - активная мощность, Q - реактивная мощность."
   ]
  },
  {
   "cell_type": "markdown",
   "id": "fe53a995",
   "metadata": {},
   "source": [
    "Вычислим недостающее значение - время нагрева. Вынесем это значение в отдельный столбец."
   ]
  },
  {
   "cell_type": "code",
   "execution_count": 22,
   "id": "802f4ffe",
   "metadata": {},
   "outputs": [],
   "source": [
    "arc['heating_duration'] = (pd.to_datetime(arc['Конец нагрева дугой']) - pd.to_datetime(arc['Начало нагрева дугой'])).dt.total_seconds()"
   ]
  },
  {
   "cell_type": "code",
   "execution_count": 23,
   "id": "01f24276",
   "metadata": {},
   "outputs": [
    {
     "data": {
      "text/html": [
       "<div>\n",
       "<style scoped>\n",
       "    .dataframe tbody tr th:only-of-type {\n",
       "        vertical-align: middle;\n",
       "    }\n",
       "\n",
       "    .dataframe tbody tr th {\n",
       "        vertical-align: top;\n",
       "    }\n",
       "\n",
       "    .dataframe thead th {\n",
       "        text-align: right;\n",
       "    }\n",
       "</style>\n",
       "<table border=\"1\" class=\"dataframe\">\n",
       "  <thead>\n",
       "    <tr style=\"text-align: right;\">\n",
       "      <th></th>\n",
       "      <th>key</th>\n",
       "      <th>Начало нагрева дугой</th>\n",
       "      <th>Конец нагрева дугой</th>\n",
       "      <th>Активная мощность</th>\n",
       "      <th>Реактивная мощность</th>\n",
       "      <th>heating_duration</th>\n",
       "    </tr>\n",
       "  </thead>\n",
       "  <tbody>\n",
       "    <tr>\n",
       "      <th>0</th>\n",
       "      <td>1</td>\n",
       "      <td>2019-05-03 11:02:14</td>\n",
       "      <td>2019-05-03 11:06:02</td>\n",
       "      <td>0.305130</td>\n",
       "      <td>0.211253</td>\n",
       "      <td>228.0</td>\n",
       "    </tr>\n",
       "    <tr>\n",
       "      <th>1</th>\n",
       "      <td>1</td>\n",
       "      <td>2019-05-03 11:07:28</td>\n",
       "      <td>2019-05-03 11:10:33</td>\n",
       "      <td>0.765658</td>\n",
       "      <td>0.477438</td>\n",
       "      <td>185.0</td>\n",
       "    </tr>\n",
       "    <tr>\n",
       "      <th>2</th>\n",
       "      <td>1</td>\n",
       "      <td>2019-05-03 11:11:44</td>\n",
       "      <td>2019-05-03 11:14:36</td>\n",
       "      <td>0.580313</td>\n",
       "      <td>0.430460</td>\n",
       "      <td>172.0</td>\n",
       "    </tr>\n",
       "    <tr>\n",
       "      <th>3</th>\n",
       "      <td>1</td>\n",
       "      <td>2019-05-03 11:18:14</td>\n",
       "      <td>2019-05-03 11:24:19</td>\n",
       "      <td>0.518496</td>\n",
       "      <td>0.379979</td>\n",
       "      <td>365.0</td>\n",
       "    </tr>\n",
       "    <tr>\n",
       "      <th>4</th>\n",
       "      <td>1</td>\n",
       "      <td>2019-05-03 11:26:09</td>\n",
       "      <td>2019-05-03 11:28:37</td>\n",
       "      <td>0.867133</td>\n",
       "      <td>0.643691</td>\n",
       "      <td>148.0</td>\n",
       "    </tr>\n",
       "  </tbody>\n",
       "</table>\n",
       "</div>"
      ],
      "text/plain": [
       "   key Начало нагрева дугой  Конец нагрева дугой  Активная мощность  \\\n",
       "0    1  2019-05-03 11:02:14  2019-05-03 11:06:02           0.305130   \n",
       "1    1  2019-05-03 11:07:28  2019-05-03 11:10:33           0.765658   \n",
       "2    1  2019-05-03 11:11:44  2019-05-03 11:14:36           0.580313   \n",
       "3    1  2019-05-03 11:18:14  2019-05-03 11:24:19           0.518496   \n",
       "4    1  2019-05-03 11:26:09  2019-05-03 11:28:37           0.867133   \n",
       "\n",
       "   Реактивная мощность  heating_duration  \n",
       "0             0.211253             228.0  \n",
       "1             0.477438             185.0  \n",
       "2             0.430460             172.0  \n",
       "3             0.379979             365.0  \n",
       "4             0.643691             148.0  "
      ]
     },
     "execution_count": 23,
     "metadata": {},
     "output_type": "execute_result"
    }
   ],
   "source": [
    "arc.head()"
   ]
  },
  {
   "cell_type": "markdown",
   "id": "ac7dd476",
   "metadata": {},
   "source": [
    "По вышеуказанной формуле вычислим работу и вынесем значение в отдельный столбец"
   ]
  },
  {
   "cell_type": "code",
   "execution_count": 24,
   "id": "36dfd995",
   "metadata": {},
   "outputs": [],
   "source": [
    "arc['work'] = arc['heating_duration'] * (((arc['Активная мощность']**2) + (arc['Реактивная мощность']**2)) ** 0.5)"
   ]
  },
  {
   "cell_type": "code",
   "execution_count": 25,
   "id": "f7c58094",
   "metadata": {
    "scrolled": true
   },
   "outputs": [
    {
     "data": {
      "text/html": [
       "<div>\n",
       "<style scoped>\n",
       "    .dataframe tbody tr th:only-of-type {\n",
       "        vertical-align: middle;\n",
       "    }\n",
       "\n",
       "    .dataframe tbody tr th {\n",
       "        vertical-align: top;\n",
       "    }\n",
       "\n",
       "    .dataframe thead th {\n",
       "        text-align: right;\n",
       "    }\n",
       "</style>\n",
       "<table border=\"1\" class=\"dataframe\">\n",
       "  <thead>\n",
       "    <tr style=\"text-align: right;\">\n",
       "      <th></th>\n",
       "      <th>key</th>\n",
       "      <th>Начало нагрева дугой</th>\n",
       "      <th>Конец нагрева дугой</th>\n",
       "      <th>Активная мощность</th>\n",
       "      <th>Реактивная мощность</th>\n",
       "      <th>heating_duration</th>\n",
       "      <th>work</th>\n",
       "    </tr>\n",
       "  </thead>\n",
       "  <tbody>\n",
       "    <tr>\n",
       "      <th>0</th>\n",
       "      <td>1</td>\n",
       "      <td>2019-05-03 11:02:14</td>\n",
       "      <td>2019-05-03 11:06:02</td>\n",
       "      <td>0.305130</td>\n",
       "      <td>0.211253</td>\n",
       "      <td>228.0</td>\n",
       "      <td>84.616003</td>\n",
       "    </tr>\n",
       "    <tr>\n",
       "      <th>1</th>\n",
       "      <td>1</td>\n",
       "      <td>2019-05-03 11:07:28</td>\n",
       "      <td>2019-05-03 11:10:33</td>\n",
       "      <td>0.765658</td>\n",
       "      <td>0.477438</td>\n",
       "      <td>185.0</td>\n",
       "      <td>166.928978</td>\n",
       "    </tr>\n",
       "    <tr>\n",
       "      <th>2</th>\n",
       "      <td>1</td>\n",
       "      <td>2019-05-03 11:11:44</td>\n",
       "      <td>2019-05-03 11:14:36</td>\n",
       "      <td>0.580313</td>\n",
       "      <td>0.430460</td>\n",
       "      <td>172.0</td>\n",
       "      <td>124.276277</td>\n",
       "    </tr>\n",
       "    <tr>\n",
       "      <th>3</th>\n",
       "      <td>1</td>\n",
       "      <td>2019-05-03 11:18:14</td>\n",
       "      <td>2019-05-03 11:24:19</td>\n",
       "      <td>0.518496</td>\n",
       "      <td>0.379979</td>\n",
       "      <td>365.0</td>\n",
       "      <td>234.630603</td>\n",
       "    </tr>\n",
       "    <tr>\n",
       "      <th>4</th>\n",
       "      <td>1</td>\n",
       "      <td>2019-05-03 11:26:09</td>\n",
       "      <td>2019-05-03 11:28:37</td>\n",
       "      <td>0.867133</td>\n",
       "      <td>0.643691</td>\n",
       "      <td>148.0</td>\n",
       "      <td>159.830252</td>\n",
       "    </tr>\n",
       "    <tr>\n",
       "      <th>5</th>\n",
       "      <td>2</td>\n",
       "      <td>2019-05-03 11:34:14</td>\n",
       "      <td>2019-05-03 11:36:31</td>\n",
       "      <td>0.381124</td>\n",
       "      <td>0.220351</td>\n",
       "      <td>137.0</td>\n",
       "      <td>60.312695</td>\n",
       "    </tr>\n",
       "  </tbody>\n",
       "</table>\n",
       "</div>"
      ],
      "text/plain": [
       "   key Начало нагрева дугой  Конец нагрева дугой  Активная мощность  \\\n",
       "0    1  2019-05-03 11:02:14  2019-05-03 11:06:02           0.305130   \n",
       "1    1  2019-05-03 11:07:28  2019-05-03 11:10:33           0.765658   \n",
       "2    1  2019-05-03 11:11:44  2019-05-03 11:14:36           0.580313   \n",
       "3    1  2019-05-03 11:18:14  2019-05-03 11:24:19           0.518496   \n",
       "4    1  2019-05-03 11:26:09  2019-05-03 11:28:37           0.867133   \n",
       "5    2  2019-05-03 11:34:14  2019-05-03 11:36:31           0.381124   \n",
       "\n",
       "   Реактивная мощность  heating_duration        work  \n",
       "0             0.211253             228.0   84.616003  \n",
       "1             0.477438             185.0  166.928978  \n",
       "2             0.430460             172.0  124.276277  \n",
       "3             0.379979             365.0  234.630603  \n",
       "4             0.643691             148.0  159.830252  \n",
       "5             0.220351             137.0   60.312695  "
      ]
     },
     "execution_count": 25,
     "metadata": {},
     "output_type": "execute_result"
    }
   ],
   "source": [
    "arc.head(6)"
   ]
  },
  {
   "cell_type": "markdown",
   "id": "c9f4299a",
   "metadata": {},
   "source": [
    "Создадим новую таблицу с суммарной работой"
   ]
  },
  {
   "cell_type": "code",
   "execution_count": 26,
   "id": "2c2c7e68",
   "metadata": {},
   "outputs": [],
   "source": [
    "arc_work = arc.pivot_table(index='key', values='work', aggfunc='sum')"
   ]
  },
  {
   "cell_type": "code",
   "execution_count": 27,
   "id": "c3b41d22",
   "metadata": {
    "scrolled": true
   },
   "outputs": [
    {
     "data": {
      "text/html": [
       "<div>\n",
       "<style scoped>\n",
       "    .dataframe tbody tr th:only-of-type {\n",
       "        vertical-align: middle;\n",
       "    }\n",
       "\n",
       "    .dataframe tbody tr th {\n",
       "        vertical-align: top;\n",
       "    }\n",
       "\n",
       "    .dataframe thead th {\n",
       "        text-align: right;\n",
       "    }\n",
       "</style>\n",
       "<table border=\"1\" class=\"dataframe\">\n",
       "  <thead>\n",
       "    <tr style=\"text-align: right;\">\n",
       "      <th></th>\n",
       "      <th>work</th>\n",
       "    </tr>\n",
       "    <tr>\n",
       "      <th>key</th>\n",
       "      <th></th>\n",
       "    </tr>\n",
       "  </thead>\n",
       "  <tbody>\n",
       "    <tr>\n",
       "      <th>1</th>\n",
       "      <td>770.282114</td>\n",
       "    </tr>\n",
       "    <tr>\n",
       "      <th>2</th>\n",
       "      <td>481.760005</td>\n",
       "    </tr>\n",
       "    <tr>\n",
       "      <th>3</th>\n",
       "      <td>722.837668</td>\n",
       "    </tr>\n",
       "    <tr>\n",
       "      <th>4</th>\n",
       "      <td>683.455597</td>\n",
       "    </tr>\n",
       "    <tr>\n",
       "      <th>5</th>\n",
       "      <td>512.169934</td>\n",
       "    </tr>\n",
       "  </tbody>\n",
       "</table>\n",
       "</div>"
      ],
      "text/plain": [
       "           work\n",
       "key            \n",
       "1    770.282114\n",
       "2    481.760005\n",
       "3    722.837668\n",
       "4    683.455597\n",
       "5    512.169934"
      ]
     },
     "execution_count": 27,
     "metadata": {},
     "output_type": "execute_result"
    }
   ],
   "source": [
    "arc_work.head()"
   ]
  },
  {
   "cell_type": "code",
   "execution_count": 28,
   "id": "733fbb35",
   "metadata": {
    "scrolled": false
   },
   "outputs": [
    {
     "data": {
      "text/plain": [
       "(3214, 1)"
      ]
     },
     "execution_count": 28,
     "metadata": {},
     "output_type": "execute_result"
    }
   ],
   "source": [
    "arc_work.shape"
   ]
  },
  {
   "cell_type": "markdown",
   "id": "1938946e",
   "metadata": {},
   "source": [
    "Добавим еще один признак для обучения - количество включений электродов"
   ]
  },
  {
   "cell_type": "code",
   "execution_count": 29,
   "id": "426ac3a9",
   "metadata": {},
   "outputs": [],
   "source": [
    "arc_work['arc_count'] = arc.pivot_table(index='key', values='work', aggfunc='count')['work']"
   ]
  },
  {
   "cell_type": "code",
   "execution_count": 30,
   "id": "b108bcea",
   "metadata": {},
   "outputs": [
    {
     "data": {
      "text/html": [
       "<div>\n",
       "<style scoped>\n",
       "    .dataframe tbody tr th:only-of-type {\n",
       "        vertical-align: middle;\n",
       "    }\n",
       "\n",
       "    .dataframe tbody tr th {\n",
       "        vertical-align: top;\n",
       "    }\n",
       "\n",
       "    .dataframe thead th {\n",
       "        text-align: right;\n",
       "    }\n",
       "</style>\n",
       "<table border=\"1\" class=\"dataframe\">\n",
       "  <thead>\n",
       "    <tr style=\"text-align: right;\">\n",
       "      <th></th>\n",
       "      <th>work</th>\n",
       "      <th>arc_count</th>\n",
       "    </tr>\n",
       "    <tr>\n",
       "      <th>key</th>\n",
       "      <th></th>\n",
       "      <th></th>\n",
       "    </tr>\n",
       "  </thead>\n",
       "  <tbody>\n",
       "    <tr>\n",
       "      <th>1</th>\n",
       "      <td>770.282114</td>\n",
       "      <td>5</td>\n",
       "    </tr>\n",
       "    <tr>\n",
       "      <th>2</th>\n",
       "      <td>481.760005</td>\n",
       "      <td>4</td>\n",
       "    </tr>\n",
       "    <tr>\n",
       "      <th>3</th>\n",
       "      <td>722.837668</td>\n",
       "      <td>5</td>\n",
       "    </tr>\n",
       "    <tr>\n",
       "      <th>4</th>\n",
       "      <td>683.455597</td>\n",
       "      <td>4</td>\n",
       "    </tr>\n",
       "    <tr>\n",
       "      <th>5</th>\n",
       "      <td>512.169934</td>\n",
       "      <td>4</td>\n",
       "    </tr>\n",
       "  </tbody>\n",
       "</table>\n",
       "</div>"
      ],
      "text/plain": [
       "           work  arc_count\n",
       "key                       \n",
       "1    770.282114          5\n",
       "2    481.760005          4\n",
       "3    722.837668          5\n",
       "4    683.455597          4\n",
       "5    512.169934          4"
      ]
     },
     "execution_count": 30,
     "metadata": {},
     "output_type": "execute_result"
    }
   ],
   "source": [
    "arc_work.head()"
   ]
  },
  {
   "cell_type": "markdown",
   "id": "2313404c",
   "metadata": {},
   "source": [
    "### 2. Данные о подаче сыпучих материалов <a id='step1_2'></a>"
   ]
  },
  {
   "cell_type": "markdown",
   "id": "909627e6",
   "metadata": {},
   "source": [
    "Взглянем на данные"
   ]
  },
  {
   "cell_type": "code",
   "execution_count": 31,
   "id": "70086dba",
   "metadata": {},
   "outputs": [],
   "source": [
    "data_bulk = pd.read_csv('datasets/data_bulk_new.csv')"
   ]
  },
  {
   "cell_type": "code",
   "execution_count": 32,
   "id": "be10d88b",
   "metadata": {
    "scrolled": true
   },
   "outputs": [
    {
     "data": {
      "text/html": [
       "<div>\n",
       "<style scoped>\n",
       "    .dataframe tbody tr th:only-of-type {\n",
       "        vertical-align: middle;\n",
       "    }\n",
       "\n",
       "    .dataframe tbody tr th {\n",
       "        vertical-align: top;\n",
       "    }\n",
       "\n",
       "    .dataframe thead th {\n",
       "        text-align: right;\n",
       "    }\n",
       "</style>\n",
       "<table border=\"1\" class=\"dataframe\">\n",
       "  <thead>\n",
       "    <tr style=\"text-align: right;\">\n",
       "      <th></th>\n",
       "      <th>key</th>\n",
       "      <th>Bulk 1</th>\n",
       "      <th>Bulk 2</th>\n",
       "      <th>Bulk 3</th>\n",
       "      <th>Bulk 4</th>\n",
       "      <th>Bulk 5</th>\n",
       "      <th>Bulk 6</th>\n",
       "      <th>Bulk 7</th>\n",
       "      <th>Bulk 8</th>\n",
       "      <th>Bulk 9</th>\n",
       "      <th>Bulk 10</th>\n",
       "      <th>Bulk 11</th>\n",
       "      <th>Bulk 12</th>\n",
       "      <th>Bulk 13</th>\n",
       "      <th>Bulk 14</th>\n",
       "      <th>Bulk 15</th>\n",
       "    </tr>\n",
       "  </thead>\n",
       "  <tbody>\n",
       "    <tr>\n",
       "      <th>0</th>\n",
       "      <td>1</td>\n",
       "      <td>NaN</td>\n",
       "      <td>NaN</td>\n",
       "      <td>NaN</td>\n",
       "      <td>43.0</td>\n",
       "      <td>NaN</td>\n",
       "      <td>NaN</td>\n",
       "      <td>NaN</td>\n",
       "      <td>NaN</td>\n",
       "      <td>NaN</td>\n",
       "      <td>NaN</td>\n",
       "      <td>NaN</td>\n",
       "      <td>206.0</td>\n",
       "      <td>NaN</td>\n",
       "      <td>150.0</td>\n",
       "      <td>154.0</td>\n",
       "    </tr>\n",
       "    <tr>\n",
       "      <th>1</th>\n",
       "      <td>2</td>\n",
       "      <td>NaN</td>\n",
       "      <td>NaN</td>\n",
       "      <td>NaN</td>\n",
       "      <td>73.0</td>\n",
       "      <td>NaN</td>\n",
       "      <td>NaN</td>\n",
       "      <td>NaN</td>\n",
       "      <td>NaN</td>\n",
       "      <td>NaN</td>\n",
       "      <td>NaN</td>\n",
       "      <td>NaN</td>\n",
       "      <td>206.0</td>\n",
       "      <td>NaN</td>\n",
       "      <td>149.0</td>\n",
       "      <td>154.0</td>\n",
       "    </tr>\n",
       "    <tr>\n",
       "      <th>2</th>\n",
       "      <td>3</td>\n",
       "      <td>NaN</td>\n",
       "      <td>NaN</td>\n",
       "      <td>NaN</td>\n",
       "      <td>34.0</td>\n",
       "      <td>NaN</td>\n",
       "      <td>NaN</td>\n",
       "      <td>NaN</td>\n",
       "      <td>NaN</td>\n",
       "      <td>NaN</td>\n",
       "      <td>NaN</td>\n",
       "      <td>NaN</td>\n",
       "      <td>205.0</td>\n",
       "      <td>NaN</td>\n",
       "      <td>152.0</td>\n",
       "      <td>153.0</td>\n",
       "    </tr>\n",
       "    <tr>\n",
       "      <th>3</th>\n",
       "      <td>4</td>\n",
       "      <td>NaN</td>\n",
       "      <td>NaN</td>\n",
       "      <td>NaN</td>\n",
       "      <td>81.0</td>\n",
       "      <td>NaN</td>\n",
       "      <td>NaN</td>\n",
       "      <td>NaN</td>\n",
       "      <td>NaN</td>\n",
       "      <td>NaN</td>\n",
       "      <td>NaN</td>\n",
       "      <td>NaN</td>\n",
       "      <td>207.0</td>\n",
       "      <td>NaN</td>\n",
       "      <td>153.0</td>\n",
       "      <td>154.0</td>\n",
       "    </tr>\n",
       "    <tr>\n",
       "      <th>4</th>\n",
       "      <td>5</td>\n",
       "      <td>NaN</td>\n",
       "      <td>NaN</td>\n",
       "      <td>NaN</td>\n",
       "      <td>78.0</td>\n",
       "      <td>NaN</td>\n",
       "      <td>NaN</td>\n",
       "      <td>NaN</td>\n",
       "      <td>NaN</td>\n",
       "      <td>NaN</td>\n",
       "      <td>NaN</td>\n",
       "      <td>NaN</td>\n",
       "      <td>203.0</td>\n",
       "      <td>NaN</td>\n",
       "      <td>151.0</td>\n",
       "      <td>152.0</td>\n",
       "    </tr>\n",
       "  </tbody>\n",
       "</table>\n",
       "</div>"
      ],
      "text/plain": [
       "   key  Bulk 1  Bulk 2  Bulk 3  Bulk 4  Bulk 5  Bulk 6  Bulk 7  Bulk 8  \\\n",
       "0    1     NaN     NaN     NaN    43.0     NaN     NaN     NaN     NaN   \n",
       "1    2     NaN     NaN     NaN    73.0     NaN     NaN     NaN     NaN   \n",
       "2    3     NaN     NaN     NaN    34.0     NaN     NaN     NaN     NaN   \n",
       "3    4     NaN     NaN     NaN    81.0     NaN     NaN     NaN     NaN   \n",
       "4    5     NaN     NaN     NaN    78.0     NaN     NaN     NaN     NaN   \n",
       "\n",
       "   Bulk 9  Bulk 10  Bulk 11  Bulk 12  Bulk 13  Bulk 14  Bulk 15  \n",
       "0     NaN      NaN      NaN    206.0      NaN    150.0    154.0  \n",
       "1     NaN      NaN      NaN    206.0      NaN    149.0    154.0  \n",
       "2     NaN      NaN      NaN    205.0      NaN    152.0    153.0  \n",
       "3     NaN      NaN      NaN    207.0      NaN    153.0    154.0  \n",
       "4     NaN      NaN      NaN    203.0      NaN    151.0    152.0  "
      ]
     },
     "execution_count": 32,
     "metadata": {},
     "output_type": "execute_result"
    }
   ],
   "source": [
    "data_bulk.head()"
   ]
  },
  {
   "cell_type": "code",
   "execution_count": 33,
   "id": "469fefa6",
   "metadata": {},
   "outputs": [
    {
     "name": "stdout",
     "output_type": "stream",
     "text": [
      "<class 'pandas.core.frame.DataFrame'>\n",
      "RangeIndex: 3129 entries, 0 to 3128\n",
      "Data columns (total 16 columns):\n",
      " #   Column   Non-Null Count  Dtype  \n",
      "---  ------   --------------  -----  \n",
      " 0   key      3129 non-null   int64  \n",
      " 1   Bulk 1   252 non-null    float64\n",
      " 2   Bulk 2   22 non-null     float64\n",
      " 3   Bulk 3   1298 non-null   float64\n",
      " 4   Bulk 4   1014 non-null   float64\n",
      " 5   Bulk 5   77 non-null     float64\n",
      " 6   Bulk 6   576 non-null    float64\n",
      " 7   Bulk 7   25 non-null     float64\n",
      " 8   Bulk 8   1 non-null      float64\n",
      " 9   Bulk 9   19 non-null     float64\n",
      " 10  Bulk 10  176 non-null    float64\n",
      " 11  Bulk 11  177 non-null    float64\n",
      " 12  Bulk 12  2450 non-null   float64\n",
      " 13  Bulk 13  18 non-null     float64\n",
      " 14  Bulk 14  2806 non-null   float64\n",
      " 15  Bulk 15  2248 non-null   float64\n",
      "dtypes: float64(15), int64(1)\n",
      "memory usage: 391.2 KB\n"
     ]
    }
   ],
   "source": [
    "data_bulk.info()"
   ]
  },
  {
   "cell_type": "code",
   "execution_count": 34,
   "id": "41cd1091",
   "metadata": {},
   "outputs": [
    {
     "data": {
      "text/plain": [
       "0"
      ]
     },
     "execution_count": 34,
     "metadata": {},
     "output_type": "execute_result"
    }
   ],
   "source": [
    "data_bulk.duplicated().sum()"
   ]
  },
  {
   "cell_type": "code",
   "execution_count": 35,
   "id": "58d3c319",
   "metadata": {},
   "outputs": [
    {
     "data": {
      "text/plain": [
       "3129"
      ]
     },
     "execution_count": 35,
     "metadata": {},
     "output_type": "execute_result"
    }
   ],
   "source": [
    "data_bulk['key'].nunique()"
   ]
  },
  {
   "cell_type": "markdown",
   "id": "7b7a5358",
   "metadata": {},
   "source": [
    "В данных об объемах подачи сыпучих материалов отсутствуют дубликаты, но в каждом признаке есть пропуски, в большинстве случаев пропусков слишком много. <br>\n",
    "Разные цифры в названии признака - разный сыпучий материал.<br>\n",
    "Каждый объект - информация об отдельной партии.<br>\n",
    "С чем можно работать:\n",
    "1. key - есть для всех объектов\n",
    "2. Bulk 3 - есть ~1/3 данных от всего количества\n",
    "3. Bulk 4 - есть ~1/3 данных от всего количества\n",
    "4. Bulk 6 - есть ~1/6 данных от всего количества\n",
    "5. Bulk 12 - есть ~2/3 данных от всего количества\n",
    "6. Bulk 14 - есть ~90% данных от всего количества\n",
    "7. Bulk 15 - есть ~2/3 данных от всего количества\n",
    "\n",
    "\n",
    "Для некоторых партий записи отсутствуют (3129 vs 3239 для газа)."
   ]
  },
  {
   "cell_type": "markdown",
   "id": "34c61e92",
   "metadata": {},
   "source": [
    "Распределение данных:"
   ]
  },
  {
   "cell_type": "code",
   "execution_count": 36,
   "id": "6f451cfb",
   "metadata": {},
   "outputs": [
    {
     "data": {
      "image/png": "[encoded data removed]",
      "text/plain": [
       "<Figure size 1440x1080 with 16 Axes>"
      ]
     },
     "metadata": {
      "needs_background": "light"
     },
     "output_type": "display_data"
    }
   ],
   "source": [
    "data_bulk.hist(bins=30, figsize=(20, 15), color='#A7D2CB', alpha=0.7)\n",
    "plt.show()"
   ]
  },
  {
   "cell_type": "markdown",
   "id": "c5df8547",
   "metadata": {},
   "source": [
    "1. Bulk 3 - медиана смещена влево, есть аномальные значения\n",
    "2. Bulk 4 - распределение близко к нормальному\n",
    "3. Bulk 6 - медиана смещена влево, есть аномальные значения\n",
    "4. Bulk 12 - есть выбросы\n",
    "5. Bulk 14 - есть выбросы\n",
    "6. Bulk 15 - несколько пиковых значений"
   ]
  },
  {
   "cell_type": "code",
   "execution_count": 37,
   "id": "c601180b",
   "metadata": {},
   "outputs": [],
   "source": [
    "# Функция для построения графиков для сыпучих материалов:\n",
    "def bulk_plotter(name):\n",
    "    data_bulk[name].hist(bins=50, figsize=(15, 7), color='#A7D2CB', alpha=0.7)\n",
    "    plt.xlabel('Объем')\n",
    "    plt.ylabel('Количество записей')\n",
    "    plt.title(f'Распределение объемов {name}')\n",
    "    plt.show()\n",
    "    \n",
    "    data_bulk.boxplot(column=name, figsize=(20, 10))\n",
    "    plt.show() "
   ]
  },
  {
   "cell_type": "markdown",
   "id": "2d56fa59",
   "metadata": {},
   "source": [
    "**Bulk 3:**"
   ]
  },
  {
   "cell_type": "code",
   "execution_count": 38,
   "id": "a0820d75",
   "metadata": {},
   "outputs": [
    {
     "data": {
      "image/png": "[encoded data removed]",
      "text/plain": [
       "<Figure size 1080x504 with 1 Axes>"
      ]
     },
     "metadata": {
      "needs_background": "light"
     },
     "output_type": "display_data"
    },
    {
     "data": {
      "image/png": "[encoded data removed]",
      "text/plain": [
       "<Figure size 1440x720 with 1 Axes>"
      ]
     },
     "metadata": {
      "needs_background": "light"
     },
     "output_type": "display_data"
    }
   ],
   "source": [
    "bulk_plotter('Bulk 3')"
   ]
  },
  {
   "cell_type": "code",
   "execution_count": 39,
   "id": "7ce070fb",
   "metadata": {},
   "outputs": [
    {
     "data": {
      "text/plain": [
       "count    1298.000000\n",
       "mean      113.879045\n",
       "std        75.483494\n",
       "min         6.000000\n",
       "25%        58.000000\n",
       "50%        97.500000\n",
       "75%       152.000000\n",
       "max       454.000000\n",
       "Name: Bulk 3, dtype: float64"
      ]
     },
     "execution_count": 39,
     "metadata": {},
     "output_type": "execute_result"
    }
   ],
   "source": [
    "data_bulk['Bulk 3'].describe()"
   ]
  },
  {
   "cell_type": "markdown",
   "id": "b3e07175",
   "metadata": {},
   "source": [
    "Предположения подтвердились: в Bulk 3 медиана смещена влево, есть аномальные значения"
   ]
  },
  {
   "cell_type": "markdown",
   "id": "7efa6a99",
   "metadata": {},
   "source": [
    "**Bulk 6:**"
   ]
  },
  {
   "cell_type": "code",
   "execution_count": 40,
   "id": "0fd26031",
   "metadata": {},
   "outputs": [
    {
     "data": {
      "image/png": "[encoded data removed]",
      "text/plain": [
       "<Figure size 1080x504 with 1 Axes>"
      ]
     },
     "metadata": {
      "needs_background": "light"
     },
     "output_type": "display_data"
    },
    {
     "data": {
      "image/png": "[encoded data removed]",
      "text/plain": [
       "<Figure size 1440x720 with 1 Axes>"
      ]
     },
     "metadata": {
      "needs_background": "light"
     },
     "output_type": "display_data"
    }
   ],
   "source": [
    "bulk_plotter('Bulk 6')"
   ]
  },
  {
   "cell_type": "code",
   "execution_count": 41,
   "id": "bf50a3a6",
   "metadata": {},
   "outputs": [
    {
     "data": {
      "text/plain": [
       "count    576.000000\n",
       "mean     118.925347\n",
       "std       72.057776\n",
       "min       17.000000\n",
       "25%       69.750000\n",
       "50%      100.000000\n",
       "75%      157.000000\n",
       "max      503.000000\n",
       "Name: Bulk 6, dtype: float64"
      ]
     },
     "execution_count": 41,
     "metadata": {},
     "output_type": "execute_result"
    }
   ],
   "source": [
    "data_bulk['Bulk 6'].describe()"
   ]
  },
  {
   "cell_type": "markdown",
   "id": "89e89d62",
   "metadata": {},
   "source": [
    "Предположения подтвердились: в Bulk 6 медиана смещена влево, есть аномальные значения"
   ]
  },
  {
   "cell_type": "markdown",
   "id": "84cde9ea",
   "metadata": {},
   "source": [
    "**Bulk 12:**"
   ]
  },
  {
   "cell_type": "code",
   "execution_count": 42,
   "id": "39942934",
   "metadata": {},
   "outputs": [
    {
     "data": {
      "image/png": "[encoded data removed]",
      "text/plain": [
       "<Figure size 1080x504 with 1 Axes>"
      ]
     },
     "metadata": {
      "needs_background": "light"
     },
     "output_type": "display_data"
    },
    {
     "data": {
      "image/png": "[encoded data removed]",
      "text/plain": [
       "<Figure size 1440x720 with 1 Axes>"
      ]
     },
     "metadata": {
      "needs_background": "light"
     },
     "output_type": "display_data"
    }
   ],
   "source": [
    "bulk_plotter('Bulk 12')"
   ]
  },
  {
   "cell_type": "code",
   "execution_count": 43,
   "id": "b68d3836",
   "metadata": {},
   "outputs": [
    {
     "data": {
      "text/plain": [
       "count    2450.000000\n",
       "mean      260.471020\n",
       "std       120.649269\n",
       "min        53.000000\n",
       "25%       204.000000\n",
       "50%       208.000000\n",
       "75%       316.000000\n",
       "max      1849.000000\n",
       "Name: Bulk 12, dtype: float64"
      ]
     },
     "execution_count": 43,
     "metadata": {},
     "output_type": "execute_result"
    }
   ],
   "source": [
    "data_bulk['Bulk 12'].describe()"
   ]
  },
  {
   "cell_type": "markdown",
   "id": "b01d1d0c",
   "metadata": {},
   "source": [
    "Предположения подтвердились: в Bulk 12 много выбросов."
   ]
  },
  {
   "cell_type": "markdown",
   "id": "60351526",
   "metadata": {},
   "source": [
    "**Bulk 14:**"
   ]
  },
  {
   "cell_type": "code",
   "execution_count": 44,
   "id": "e5b90b1e",
   "metadata": {},
   "outputs": [
    {
     "data": {
      "image/png": "[encoded data removed]",
      "text/plain": [
       "<Figure size 1080x504 with 1 Axes>"
      ]
     },
     "metadata": {
      "needs_background": "light"
     },
     "output_type": "display_data"
    },
    {
     "data": {
      "image/png": "[encoded data removed]",
      "text/plain": [
       "<Figure size 1440x720 with 1 Axes>"
      ]
     },
     "metadata": {
      "needs_background": "light"
     },
     "output_type": "display_data"
    }
   ],
   "source": [
    "bulk_plotter('Bulk 14')"
   ]
  },
  {
   "cell_type": "code",
   "execution_count": 45,
   "id": "6b394909",
   "metadata": {},
   "outputs": [
    {
     "data": {
      "text/plain": [
       "count    2806.000000\n",
       "mean      170.284747\n",
       "std        65.868652\n",
       "min        16.000000\n",
       "25%       119.000000\n",
       "50%       151.000000\n",
       "75%       205.750000\n",
       "max       636.000000\n",
       "Name: Bulk 14, dtype: float64"
      ]
     },
     "execution_count": 45,
     "metadata": {},
     "output_type": "execute_result"
    }
   ],
   "source": [
    "data_bulk['Bulk 14'].describe()"
   ]
  },
  {
   "cell_type": "markdown",
   "id": "53b8335c",
   "metadata": {},
   "source": [
    "Предположения подтвердились: в Bulk 14 много выбросов."
   ]
  },
  {
   "cell_type": "markdown",
   "id": "4e93221d",
   "metadata": {},
   "source": [
    "**Bulk 15:**"
   ]
  },
  {
   "cell_type": "code",
   "execution_count": 46,
   "id": "f2ee8983",
   "metadata": {},
   "outputs": [
    {
     "data": {
      "image/png": "[encoded data removed]",
      "text/plain": [
       "<Figure size 1080x504 with 1 Axes>"
      ]
     },
     "metadata": {
      "needs_background": "light"
     },
     "output_type": "display_data"
    },
    {
     "data": {
      "image/png": "[encoded data removed]",
      "text/plain": [
       "<Figure size 1440x720 with 1 Axes>"
      ]
     },
     "metadata": {
      "needs_background": "light"
     },
     "output_type": "display_data"
    }
   ],
   "source": [
    "bulk_plotter('Bulk 15')"
   ]
  },
  {
   "cell_type": "code",
   "execution_count": 47,
   "id": "9308d767",
   "metadata": {},
   "outputs": [
    {
     "data": {
      "text/plain": [
       "count    2248.000000\n",
       "mean      160.513345\n",
       "std        51.765319\n",
       "min         1.000000\n",
       "25%       105.000000\n",
       "50%       160.000000\n",
       "75%       205.000000\n",
       "max       405.000000\n",
       "Name: Bulk 15, dtype: float64"
      ]
     },
     "execution_count": 47,
     "metadata": {},
     "output_type": "execute_result"
    }
   ],
   "source": [
    "data_bulk['Bulk 15'].describe()"
   ]
  },
  {
   "cell_type": "markdown",
   "id": "45bb7b9a",
   "metadata": {},
   "source": [
    "Распределение похоже на мультимодальное. Значит, этот сыпучий материал обычно подается в объемах, ограниченных ~3 разными диапазонами."
   ]
  },
  {
   "cell_type": "markdown",
   "id": "0ef0bda0",
   "metadata": {},
   "source": [
    "**Данные о времени подачи сыпучих материалов**"
   ]
  },
  {
   "cell_type": "code",
   "execution_count": 48,
   "id": "79cdaa34",
   "metadata": {},
   "outputs": [],
   "source": [
    "data_bulk_time = pd.read_csv('datasets/data_bulk_time_new.csv')"
   ]
  },
  {
   "cell_type": "code",
   "execution_count": 49,
   "id": "ce09aeb1",
   "metadata": {},
   "outputs": [
    {
     "data": {
      "text/html": [
       "<div>\n",
       "<style scoped>\n",
       "    .dataframe tbody tr th:only-of-type {\n",
       "        vertical-align: middle;\n",
       "    }\n",
       "\n",
       "    .dataframe tbody tr th {\n",
       "        vertical-align: top;\n",
       "    }\n",
       "\n",
       "    .dataframe thead th {\n",
       "        text-align: right;\n",
       "    }\n",
       "</style>\n",
       "<table border=\"1\" class=\"dataframe\">\n",
       "  <thead>\n",
       "    <tr style=\"text-align: right;\">\n",
       "      <th></th>\n",
       "      <th>key</th>\n",
       "      <th>Bulk 1</th>\n",
       "      <th>Bulk 2</th>\n",
       "      <th>Bulk 3</th>\n",
       "      <th>Bulk 4</th>\n",
       "      <th>Bulk 5</th>\n",
       "      <th>Bulk 6</th>\n",
       "      <th>Bulk 7</th>\n",
       "      <th>Bulk 8</th>\n",
       "      <th>Bulk 9</th>\n",
       "      <th>Bulk 10</th>\n",
       "      <th>Bulk 11</th>\n",
       "      <th>Bulk 12</th>\n",
       "      <th>Bulk 13</th>\n",
       "      <th>Bulk 14</th>\n",
       "      <th>Bulk 15</th>\n",
       "    </tr>\n",
       "  </thead>\n",
       "  <tbody>\n",
       "    <tr>\n",
       "      <th>0</th>\n",
       "      <td>1</td>\n",
       "      <td>NaN</td>\n",
       "      <td>NaN</td>\n",
       "      <td>NaN</td>\n",
       "      <td>2019-05-03 11:28:48</td>\n",
       "      <td>NaN</td>\n",
       "      <td>NaN</td>\n",
       "      <td>NaN</td>\n",
       "      <td>NaN</td>\n",
       "      <td>NaN</td>\n",
       "      <td>NaN</td>\n",
       "      <td>NaN</td>\n",
       "      <td>2019-05-03 11:24:31</td>\n",
       "      <td>NaN</td>\n",
       "      <td>2019-05-03 11:14:50</td>\n",
       "      <td>2019-05-03 11:10:43</td>\n",
       "    </tr>\n",
       "    <tr>\n",
       "      <th>1</th>\n",
       "      <td>2</td>\n",
       "      <td>NaN</td>\n",
       "      <td>NaN</td>\n",
       "      <td>NaN</td>\n",
       "      <td>2019-05-03 11:36:50</td>\n",
       "      <td>NaN</td>\n",
       "      <td>NaN</td>\n",
       "      <td>NaN</td>\n",
       "      <td>NaN</td>\n",
       "      <td>NaN</td>\n",
       "      <td>NaN</td>\n",
       "      <td>NaN</td>\n",
       "      <td>2019-05-03 11:53:30</td>\n",
       "      <td>NaN</td>\n",
       "      <td>2019-05-03 11:48:37</td>\n",
       "      <td>2019-05-03 11:44:39</td>\n",
       "    </tr>\n",
       "    <tr>\n",
       "      <th>2</th>\n",
       "      <td>3</td>\n",
       "      <td>NaN</td>\n",
       "      <td>NaN</td>\n",
       "      <td>NaN</td>\n",
       "      <td>2019-05-03 12:32:39</td>\n",
       "      <td>NaN</td>\n",
       "      <td>NaN</td>\n",
       "      <td>NaN</td>\n",
       "      <td>NaN</td>\n",
       "      <td>NaN</td>\n",
       "      <td>NaN</td>\n",
       "      <td>NaN</td>\n",
       "      <td>2019-05-03 12:27:13</td>\n",
       "      <td>NaN</td>\n",
       "      <td>2019-05-03 12:21:01</td>\n",
       "      <td>2019-05-03 12:16:16</td>\n",
       "    </tr>\n",
       "    <tr>\n",
       "      <th>3</th>\n",
       "      <td>4</td>\n",
       "      <td>NaN</td>\n",
       "      <td>NaN</td>\n",
       "      <td>NaN</td>\n",
       "      <td>2019-05-03 12:43:22</td>\n",
       "      <td>NaN</td>\n",
       "      <td>NaN</td>\n",
       "      <td>NaN</td>\n",
       "      <td>NaN</td>\n",
       "      <td>NaN</td>\n",
       "      <td>NaN</td>\n",
       "      <td>NaN</td>\n",
       "      <td>2019-05-03 12:58:00</td>\n",
       "      <td>NaN</td>\n",
       "      <td>2019-05-03 12:51:11</td>\n",
       "      <td>2019-05-03 12:46:36</td>\n",
       "    </tr>\n",
       "    <tr>\n",
       "      <th>4</th>\n",
       "      <td>5</td>\n",
       "      <td>NaN</td>\n",
       "      <td>NaN</td>\n",
       "      <td>NaN</td>\n",
       "      <td>2019-05-03 13:30:47</td>\n",
       "      <td>NaN</td>\n",
       "      <td>NaN</td>\n",
       "      <td>NaN</td>\n",
       "      <td>NaN</td>\n",
       "      <td>NaN</td>\n",
       "      <td>NaN</td>\n",
       "      <td>NaN</td>\n",
       "      <td>2019-05-03 13:30:47</td>\n",
       "      <td>NaN</td>\n",
       "      <td>2019-05-03 13:34:12</td>\n",
       "      <td>2019-05-03 13:30:47</td>\n",
       "    </tr>\n",
       "  </tbody>\n",
       "</table>\n",
       "</div>"
      ],
      "text/plain": [
       "   key Bulk 1 Bulk 2 Bulk 3               Bulk 4 Bulk 5 Bulk 6 Bulk 7 Bulk 8  \\\n",
       "0    1    NaN    NaN    NaN  2019-05-03 11:28:48    NaN    NaN    NaN    NaN   \n",
       "1    2    NaN    NaN    NaN  2019-05-03 11:36:50    NaN    NaN    NaN    NaN   \n",
       "2    3    NaN    NaN    NaN  2019-05-03 12:32:39    NaN    NaN    NaN    NaN   \n",
       "3    4    NaN    NaN    NaN  2019-05-03 12:43:22    NaN    NaN    NaN    NaN   \n",
       "4    5    NaN    NaN    NaN  2019-05-03 13:30:47    NaN    NaN    NaN    NaN   \n",
       "\n",
       "  Bulk 9 Bulk 10 Bulk 11              Bulk 12 Bulk 13              Bulk 14  \\\n",
       "0    NaN     NaN     NaN  2019-05-03 11:24:31     NaN  2019-05-03 11:14:50   \n",
       "1    NaN     NaN     NaN  2019-05-03 11:53:30     NaN  2019-05-03 11:48:37   \n",
       "2    NaN     NaN     NaN  2019-05-03 12:27:13     NaN  2019-05-03 12:21:01   \n",
       "3    NaN     NaN     NaN  2019-05-03 12:58:00     NaN  2019-05-03 12:51:11   \n",
       "4    NaN     NaN     NaN  2019-05-03 13:30:47     NaN  2019-05-03 13:34:12   \n",
       "\n",
       "               Bulk 15  \n",
       "0  2019-05-03 11:10:43  \n",
       "1  2019-05-03 11:44:39  \n",
       "2  2019-05-03 12:16:16  \n",
       "3  2019-05-03 12:46:36  \n",
       "4  2019-05-03 13:30:47  "
      ]
     },
     "execution_count": 49,
     "metadata": {},
     "output_type": "execute_result"
    }
   ],
   "source": [
    "data_bulk_time.head()"
   ]
  },
  {
   "cell_type": "code",
   "execution_count": 50,
   "id": "fa9c4a14",
   "metadata": {},
   "outputs": [
    {
     "name": "stdout",
     "output_type": "stream",
     "text": [
      "<class 'pandas.core.frame.DataFrame'>\n",
      "RangeIndex: 3129 entries, 0 to 3128\n",
      "Data columns (total 16 columns):\n",
      " #   Column   Non-Null Count  Dtype \n",
      "---  ------   --------------  ----- \n",
      " 0   key      3129 non-null   int64 \n",
      " 1   Bulk 1   252 non-null    object\n",
      " 2   Bulk 2   22 non-null     object\n",
      " 3   Bulk 3   1298 non-null   object\n",
      " 4   Bulk 4   1014 non-null   object\n",
      " 5   Bulk 5   77 non-null     object\n",
      " 6   Bulk 6   576 non-null    object\n",
      " 7   Bulk 7   25 non-null     object\n",
      " 8   Bulk 8   1 non-null      object\n",
      " 9   Bulk 9   19 non-null     object\n",
      " 10  Bulk 10  176 non-null    object\n",
      " 11  Bulk 11  177 non-null    object\n",
      " 12  Bulk 12  2450 non-null   object\n",
      " 13  Bulk 13  18 non-null     object\n",
      " 14  Bulk 14  2806 non-null   object\n",
      " 15  Bulk 15  2248 non-null   object\n",
      "dtypes: int64(1), object(15)\n",
      "memory usage: 391.2+ KB\n"
     ]
    }
   ],
   "source": [
    "data_bulk_time.info()"
   ]
  },
  {
   "cell_type": "code",
   "execution_count": 51,
   "id": "a9acb515",
   "metadata": {},
   "outputs": [
    {
     "data": {
      "text/plain": [
       "0"
      ]
     },
     "execution_count": 51,
     "metadata": {},
     "output_type": "execute_result"
    }
   ],
   "source": [
    "data_bulk_time.duplicated().sum()"
   ]
  },
  {
   "cell_type": "markdown",
   "id": "65c68668",
   "metadata": {},
   "source": [
    "В данных о времени подачи сыпучих материалов отсутствуют дубликаты, но в каждом признаке есть пропуски. Судя по идентичному количеству пропусков, записи о времени подачи существуют для объектов, у которых есть записи об объемах подачи."
   ]
  },
  {
   "cell_type": "markdown",
   "id": "4ebb7d6d",
   "metadata": {},
   "source": [
    "**Предобработка данных о сыпучих материалах и создание признаков**"
   ]
  },
  {
   "cell_type": "markdown",
   "id": "9071fd96",
   "metadata": {},
   "source": [
    "Найденные в исследовательском анализе выбросы удалять не будем, возможно, это особенности технологического процесса.\n",
    "\n",
    "Пропуски в данных заменим на \"0\".\n",
    "\n",
    "Данные о времени подачи в анализе не понадобятся."
   ]
  },
  {
   "cell_type": "markdown",
   "id": "5c3f8d16",
   "metadata": {},
   "source": [
    "Создадим копию данных для работы"
   ]
  },
  {
   "cell_type": "code",
   "execution_count": 52,
   "id": "9ee341af",
   "metadata": {},
   "outputs": [],
   "source": [
    "bulk = data_bulk.copy()"
   ]
  },
  {
   "cell_type": "markdown",
   "id": "c0250c66",
   "metadata": {},
   "source": [
    "Заполним пропуски нулями"
   ]
  },
  {
   "cell_type": "code",
   "execution_count": 53,
   "id": "6610508e",
   "metadata": {},
   "outputs": [],
   "source": [
    "bulk = bulk.fillna(0)"
   ]
  },
  {
   "cell_type": "code",
   "execution_count": 54,
   "id": "9a5b07d0",
   "metadata": {
    "scrolled": false
   },
   "outputs": [
    {
     "data": {
      "text/html": [
       "<div>\n",
       "<style scoped>\n",
       "    .dataframe tbody tr th:only-of-type {\n",
       "        vertical-align: middle;\n",
       "    }\n",
       "\n",
       "    .dataframe tbody tr th {\n",
       "        vertical-align: top;\n",
       "    }\n",
       "\n",
       "    .dataframe thead th {\n",
       "        text-align: right;\n",
       "    }\n",
       "</style>\n",
       "<table border=\"1\" class=\"dataframe\">\n",
       "  <thead>\n",
       "    <tr style=\"text-align: right;\">\n",
       "      <th></th>\n",
       "      <th>key</th>\n",
       "      <th>Bulk 1</th>\n",
       "      <th>Bulk 2</th>\n",
       "      <th>Bulk 3</th>\n",
       "      <th>Bulk 4</th>\n",
       "      <th>Bulk 5</th>\n",
       "      <th>Bulk 6</th>\n",
       "      <th>Bulk 7</th>\n",
       "      <th>Bulk 8</th>\n",
       "      <th>Bulk 9</th>\n",
       "      <th>Bulk 10</th>\n",
       "      <th>Bulk 11</th>\n",
       "      <th>Bulk 12</th>\n",
       "      <th>Bulk 13</th>\n",
       "      <th>Bulk 14</th>\n",
       "      <th>Bulk 15</th>\n",
       "    </tr>\n",
       "  </thead>\n",
       "  <tbody>\n",
       "    <tr>\n",
       "      <th>0</th>\n",
       "      <td>1</td>\n",
       "      <td>0.0</td>\n",
       "      <td>0.0</td>\n",
       "      <td>0.0</td>\n",
       "      <td>43.0</td>\n",
       "      <td>0.0</td>\n",
       "      <td>0.0</td>\n",
       "      <td>0.0</td>\n",
       "      <td>0.0</td>\n",
       "      <td>0.0</td>\n",
       "      <td>0.0</td>\n",
       "      <td>0.0</td>\n",
       "      <td>206.0</td>\n",
       "      <td>0.0</td>\n",
       "      <td>150.0</td>\n",
       "      <td>154.0</td>\n",
       "    </tr>\n",
       "    <tr>\n",
       "      <th>1</th>\n",
       "      <td>2</td>\n",
       "      <td>0.0</td>\n",
       "      <td>0.0</td>\n",
       "      <td>0.0</td>\n",
       "      <td>73.0</td>\n",
       "      <td>0.0</td>\n",
       "      <td>0.0</td>\n",
       "      <td>0.0</td>\n",
       "      <td>0.0</td>\n",
       "      <td>0.0</td>\n",
       "      <td>0.0</td>\n",
       "      <td>0.0</td>\n",
       "      <td>206.0</td>\n",
       "      <td>0.0</td>\n",
       "      <td>149.0</td>\n",
       "      <td>154.0</td>\n",
       "    </tr>\n",
       "    <tr>\n",
       "      <th>2</th>\n",
       "      <td>3</td>\n",
       "      <td>0.0</td>\n",
       "      <td>0.0</td>\n",
       "      <td>0.0</td>\n",
       "      <td>34.0</td>\n",
       "      <td>0.0</td>\n",
       "      <td>0.0</td>\n",
       "      <td>0.0</td>\n",
       "      <td>0.0</td>\n",
       "      <td>0.0</td>\n",
       "      <td>0.0</td>\n",
       "      <td>0.0</td>\n",
       "      <td>205.0</td>\n",
       "      <td>0.0</td>\n",
       "      <td>152.0</td>\n",
       "      <td>153.0</td>\n",
       "    </tr>\n",
       "    <tr>\n",
       "      <th>3</th>\n",
       "      <td>4</td>\n",
       "      <td>0.0</td>\n",
       "      <td>0.0</td>\n",
       "      <td>0.0</td>\n",
       "      <td>81.0</td>\n",
       "      <td>0.0</td>\n",
       "      <td>0.0</td>\n",
       "      <td>0.0</td>\n",
       "      <td>0.0</td>\n",
       "      <td>0.0</td>\n",
       "      <td>0.0</td>\n",
       "      <td>0.0</td>\n",
       "      <td>207.0</td>\n",
       "      <td>0.0</td>\n",
       "      <td>153.0</td>\n",
       "      <td>154.0</td>\n",
       "    </tr>\n",
       "    <tr>\n",
       "      <th>4</th>\n",
       "      <td>5</td>\n",
       "      <td>0.0</td>\n",
       "      <td>0.0</td>\n",
       "      <td>0.0</td>\n",
       "      <td>78.0</td>\n",
       "      <td>0.0</td>\n",
       "      <td>0.0</td>\n",
       "      <td>0.0</td>\n",
       "      <td>0.0</td>\n",
       "      <td>0.0</td>\n",
       "      <td>0.0</td>\n",
       "      <td>0.0</td>\n",
       "      <td>203.0</td>\n",
       "      <td>0.0</td>\n",
       "      <td>151.0</td>\n",
       "      <td>152.0</td>\n",
       "    </tr>\n",
       "  </tbody>\n",
       "</table>\n",
       "</div>"
      ],
      "text/plain": [
       "   key  Bulk 1  Bulk 2  Bulk 3  Bulk 4  Bulk 5  Bulk 6  Bulk 7  Bulk 8  \\\n",
       "0    1     0.0     0.0     0.0    43.0     0.0     0.0     0.0     0.0   \n",
       "1    2     0.0     0.0     0.0    73.0     0.0     0.0     0.0     0.0   \n",
       "2    3     0.0     0.0     0.0    34.0     0.0     0.0     0.0     0.0   \n",
       "3    4     0.0     0.0     0.0    81.0     0.0     0.0     0.0     0.0   \n",
       "4    5     0.0     0.0     0.0    78.0     0.0     0.0     0.0     0.0   \n",
       "\n",
       "   Bulk 9  Bulk 10  Bulk 11  Bulk 12  Bulk 13  Bulk 14  Bulk 15  \n",
       "0     0.0      0.0      0.0    206.0      0.0    150.0    154.0  \n",
       "1     0.0      0.0      0.0    206.0      0.0    149.0    154.0  \n",
       "2     0.0      0.0      0.0    205.0      0.0    152.0    153.0  \n",
       "3     0.0      0.0      0.0    207.0      0.0    153.0    154.0  \n",
       "4     0.0      0.0      0.0    203.0      0.0    151.0    152.0  "
      ]
     },
     "execution_count": 54,
     "metadata": {},
     "output_type": "execute_result"
    }
   ],
   "source": [
    "bulk.head()"
   ]
  },
  {
   "cell_type": "markdown",
   "id": "685ecfdd",
   "metadata": {},
   "source": [
    "Создадим признак для обучения - суммарный объем сыпучих материалов в партии. По нему можно будет судить о доле конкретного сыпучего материала на этапе обработки стали конкретной партии."
   ]
  },
  {
   "cell_type": "code",
   "execution_count": 55,
   "id": "c0a76a3f",
   "metadata": {},
   "outputs": [],
   "source": [
    "bulk['sum_bulk'] = bulk[bulk.columns[1:]].sum(axis=1)"
   ]
  },
  {
   "cell_type": "code",
   "execution_count": 56,
   "id": "99278f53",
   "metadata": {},
   "outputs": [
    {
     "data": {
      "text/html": [
       "<div>\n",
       "<style scoped>\n",
       "    .dataframe tbody tr th:only-of-type {\n",
       "        vertical-align: middle;\n",
       "    }\n",
       "\n",
       "    .dataframe tbody tr th {\n",
       "        vertical-align: top;\n",
       "    }\n",
       "\n",
       "    .dataframe thead th {\n",
       "        text-align: right;\n",
       "    }\n",
       "</style>\n",
       "<table border=\"1\" class=\"dataframe\">\n",
       "  <thead>\n",
       "    <tr style=\"text-align: right;\">\n",
       "      <th></th>\n",
       "      <th>key</th>\n",
       "      <th>Bulk 1</th>\n",
       "      <th>Bulk 2</th>\n",
       "      <th>Bulk 3</th>\n",
       "      <th>Bulk 4</th>\n",
       "      <th>Bulk 5</th>\n",
       "      <th>Bulk 6</th>\n",
       "      <th>Bulk 7</th>\n",
       "      <th>Bulk 8</th>\n",
       "      <th>Bulk 9</th>\n",
       "      <th>Bulk 10</th>\n",
       "      <th>Bulk 11</th>\n",
       "      <th>Bulk 12</th>\n",
       "      <th>Bulk 13</th>\n",
       "      <th>Bulk 14</th>\n",
       "      <th>Bulk 15</th>\n",
       "      <th>sum_bulk</th>\n",
       "    </tr>\n",
       "  </thead>\n",
       "  <tbody>\n",
       "    <tr>\n",
       "      <th>0</th>\n",
       "      <td>1</td>\n",
       "      <td>0.0</td>\n",
       "      <td>0.0</td>\n",
       "      <td>0.0</td>\n",
       "      <td>43.0</td>\n",
       "      <td>0.0</td>\n",
       "      <td>0.0</td>\n",
       "      <td>0.0</td>\n",
       "      <td>0.0</td>\n",
       "      <td>0.0</td>\n",
       "      <td>0.0</td>\n",
       "      <td>0.0</td>\n",
       "      <td>206.0</td>\n",
       "      <td>0.0</td>\n",
       "      <td>150.0</td>\n",
       "      <td>154.0</td>\n",
       "      <td>553.0</td>\n",
       "    </tr>\n",
       "    <tr>\n",
       "      <th>1</th>\n",
       "      <td>2</td>\n",
       "      <td>0.0</td>\n",
       "      <td>0.0</td>\n",
       "      <td>0.0</td>\n",
       "      <td>73.0</td>\n",
       "      <td>0.0</td>\n",
       "      <td>0.0</td>\n",
       "      <td>0.0</td>\n",
       "      <td>0.0</td>\n",
       "      <td>0.0</td>\n",
       "      <td>0.0</td>\n",
       "      <td>0.0</td>\n",
       "      <td>206.0</td>\n",
       "      <td>0.0</td>\n",
       "      <td>149.0</td>\n",
       "      <td>154.0</td>\n",
       "      <td>582.0</td>\n",
       "    </tr>\n",
       "    <tr>\n",
       "      <th>2</th>\n",
       "      <td>3</td>\n",
       "      <td>0.0</td>\n",
       "      <td>0.0</td>\n",
       "      <td>0.0</td>\n",
       "      <td>34.0</td>\n",
       "      <td>0.0</td>\n",
       "      <td>0.0</td>\n",
       "      <td>0.0</td>\n",
       "      <td>0.0</td>\n",
       "      <td>0.0</td>\n",
       "      <td>0.0</td>\n",
       "      <td>0.0</td>\n",
       "      <td>205.0</td>\n",
       "      <td>0.0</td>\n",
       "      <td>152.0</td>\n",
       "      <td>153.0</td>\n",
       "      <td>544.0</td>\n",
       "    </tr>\n",
       "    <tr>\n",
       "      <th>3</th>\n",
       "      <td>4</td>\n",
       "      <td>0.0</td>\n",
       "      <td>0.0</td>\n",
       "      <td>0.0</td>\n",
       "      <td>81.0</td>\n",
       "      <td>0.0</td>\n",
       "      <td>0.0</td>\n",
       "      <td>0.0</td>\n",
       "      <td>0.0</td>\n",
       "      <td>0.0</td>\n",
       "      <td>0.0</td>\n",
       "      <td>0.0</td>\n",
       "      <td>207.0</td>\n",
       "      <td>0.0</td>\n",
       "      <td>153.0</td>\n",
       "      <td>154.0</td>\n",
       "      <td>595.0</td>\n",
       "    </tr>\n",
       "    <tr>\n",
       "      <th>4</th>\n",
       "      <td>5</td>\n",
       "      <td>0.0</td>\n",
       "      <td>0.0</td>\n",
       "      <td>0.0</td>\n",
       "      <td>78.0</td>\n",
       "      <td>0.0</td>\n",
       "      <td>0.0</td>\n",
       "      <td>0.0</td>\n",
       "      <td>0.0</td>\n",
       "      <td>0.0</td>\n",
       "      <td>0.0</td>\n",
       "      <td>0.0</td>\n",
       "      <td>203.0</td>\n",
       "      <td>0.0</td>\n",
       "      <td>151.0</td>\n",
       "      <td>152.0</td>\n",
       "      <td>584.0</td>\n",
       "    </tr>\n",
       "  </tbody>\n",
       "</table>\n",
       "</div>"
      ],
      "text/plain": [
       "   key  Bulk 1  Bulk 2  Bulk 3  Bulk 4  Bulk 5  Bulk 6  Bulk 7  Bulk 8  \\\n",
       "0    1     0.0     0.0     0.0    43.0     0.0     0.0     0.0     0.0   \n",
       "1    2     0.0     0.0     0.0    73.0     0.0     0.0     0.0     0.0   \n",
       "2    3     0.0     0.0     0.0    34.0     0.0     0.0     0.0     0.0   \n",
       "3    4     0.0     0.0     0.0    81.0     0.0     0.0     0.0     0.0   \n",
       "4    5     0.0     0.0     0.0    78.0     0.0     0.0     0.0     0.0   \n",
       "\n",
       "   Bulk 9  Bulk 10  Bulk 11  Bulk 12  Bulk 13  Bulk 14  Bulk 15  sum_bulk  \n",
       "0     0.0      0.0      0.0    206.0      0.0    150.0    154.0     553.0  \n",
       "1     0.0      0.0      0.0    206.0      0.0    149.0    154.0     582.0  \n",
       "2     0.0      0.0      0.0    205.0      0.0    152.0    153.0     544.0  \n",
       "3     0.0      0.0      0.0    207.0      0.0    153.0    154.0     595.0  \n",
       "4     0.0      0.0      0.0    203.0      0.0    151.0    152.0     584.0  "
      ]
     },
     "execution_count": 56,
     "metadata": {},
     "output_type": "execute_result"
    }
   ],
   "source": [
    "bulk.head()"
   ]
  },
  {
   "cell_type": "markdown",
   "id": "90456bf3",
   "metadata": {},
   "source": [
    "### 3. Данные о продувке сплава газом <a id='step1_3'></a>"
   ]
  },
  {
   "cell_type": "markdown",
   "id": "4d58f3d8",
   "metadata": {},
   "source": [
    "Взглянем на данные:"
   ]
  },
  {
   "cell_type": "code",
   "execution_count": 57,
   "id": "3cc0d8ef",
   "metadata": {},
   "outputs": [],
   "source": [
    "data_gas = pd.read_csv('datasets/data_gas_new.csv')"
   ]
  },
  {
   "cell_type": "code",
   "execution_count": 58,
   "id": "c050285e",
   "metadata": {
    "scrolled": false
   },
   "outputs": [
    {
     "data": {
      "text/html": [
       "<div>\n",
       "<style scoped>\n",
       "    .dataframe tbody tr th:only-of-type {\n",
       "        vertical-align: middle;\n",
       "    }\n",
       "\n",
       "    .dataframe tbody tr th {\n",
       "        vertical-align: top;\n",
       "    }\n",
       "\n",
       "    .dataframe thead th {\n",
       "        text-align: right;\n",
       "    }\n",
       "</style>\n",
       "<table border=\"1\" class=\"dataframe\">\n",
       "  <thead>\n",
       "    <tr style=\"text-align: right;\">\n",
       "      <th></th>\n",
       "      <th>key</th>\n",
       "      <th>Газ 1</th>\n",
       "    </tr>\n",
       "  </thead>\n",
       "  <tbody>\n",
       "    <tr>\n",
       "      <th>0</th>\n",
       "      <td>1</td>\n",
       "      <td>29.749986</td>\n",
       "    </tr>\n",
       "    <tr>\n",
       "      <th>1</th>\n",
       "      <td>2</td>\n",
       "      <td>12.555561</td>\n",
       "    </tr>\n",
       "    <tr>\n",
       "      <th>2</th>\n",
       "      <td>3</td>\n",
       "      <td>28.554793</td>\n",
       "    </tr>\n",
       "    <tr>\n",
       "      <th>3</th>\n",
       "      <td>4</td>\n",
       "      <td>18.841219</td>\n",
       "    </tr>\n",
       "    <tr>\n",
       "      <th>4</th>\n",
       "      <td>5</td>\n",
       "      <td>5.413692</td>\n",
       "    </tr>\n",
       "  </tbody>\n",
       "</table>\n",
       "</div>"
      ],
      "text/plain": [
       "   key      Газ 1\n",
       "0    1  29.749986\n",
       "1    2  12.555561\n",
       "2    3  28.554793\n",
       "3    4  18.841219\n",
       "4    5   5.413692"
      ]
     },
     "execution_count": 58,
     "metadata": {},
     "output_type": "execute_result"
    }
   ],
   "source": [
    "data_gas.head()"
   ]
  },
  {
   "cell_type": "code",
   "execution_count": 59,
   "id": "e314aab7",
   "metadata": {},
   "outputs": [
    {
     "name": "stdout",
     "output_type": "stream",
     "text": [
      "<class 'pandas.core.frame.DataFrame'>\n",
      "RangeIndex: 3239 entries, 0 to 3238\n",
      "Data columns (total 2 columns):\n",
      " #   Column  Non-Null Count  Dtype  \n",
      "---  ------  --------------  -----  \n",
      " 0   key     3239 non-null   int64  \n",
      " 1   Газ 1   3239 non-null   float64\n",
      "dtypes: float64(1), int64(1)\n",
      "memory usage: 50.7 KB\n"
     ]
    }
   ],
   "source": [
    "data_gas.info()"
   ]
  },
  {
   "cell_type": "code",
   "execution_count": 60,
   "id": "654383f8",
   "metadata": {},
   "outputs": [
    {
     "data": {
      "text/plain": [
       "0"
      ]
     },
     "execution_count": 60,
     "metadata": {},
     "output_type": "execute_result"
    }
   ],
   "source": [
    "data_gas.duplicated().sum()"
   ]
  },
  {
   "cell_type": "code",
   "execution_count": 61,
   "id": "dfdb3eef",
   "metadata": {},
   "outputs": [
    {
     "data": {
      "text/plain": [
       "3239"
      ]
     },
     "execution_count": 61,
     "metadata": {},
     "output_type": "execute_result"
    }
   ],
   "source": [
    "data_gas['key'].nunique()"
   ]
  },
  {
   "cell_type": "markdown",
   "id": "7aeebfdd",
   "metadata": {},
   "source": [
    "В данных о продувке сплава газом отсутствуют пропуски и дубликаты. Каждый объект - запись для отдельной партии. Сплав продувают газом, признак - объем этого газа."
   ]
  },
  {
   "cell_type": "markdown",
   "id": "090e4086",
   "metadata": {},
   "source": [
    "Распределение объема газа:"
   ]
  },
  {
   "cell_type": "code",
   "execution_count": 62,
   "id": "7bddf939",
   "metadata": {},
   "outputs": [
    {
     "data": {
      "image/png": "[encoded data removed]",
      "text/plain": [
       "<Figure size 1080x504 with 1 Axes>"
      ]
     },
     "metadata": {
      "needs_background": "light"
     },
     "output_type": "display_data"
    }
   ],
   "source": [
    "data_gas['Газ 1'].hist(bins=50, figsize=(15, 7), color='#A7D2CB', alpha=0.7)\n",
    "plt.xlabel('Объем газа')\n",
    "plt.ylabel('Количество записей')\n",
    "plt.title('Распределение значений объема')\n",
    "plt.show()"
   ]
  },
  {
   "cell_type": "markdown",
   "id": "4dc24257",
   "metadata": {},
   "source": [
    "Есть выбросы. Убедимся:"
   ]
  },
  {
   "cell_type": "code",
   "execution_count": 63,
   "id": "af295a53",
   "metadata": {},
   "outputs": [
    {
     "data": {
      "image/png": "[encoded data removed]",
      "text/plain": [
       "<Figure size 1440x720 with 1 Axes>"
      ]
     },
     "metadata": {
      "needs_background": "light"
     },
     "output_type": "display_data"
    }
   ],
   "source": [
    "data_gas.boxplot(column='Газ 1', figsize=(20, 10))\n",
    "plt.show()"
   ]
  },
  {
   "cell_type": "code",
   "execution_count": 64,
   "id": "45b575db",
   "metadata": {},
   "outputs": [
    {
     "data": {
      "text/plain": [
       "count    3239.000000\n",
       "mean       11.002062\n",
       "std         6.220327\n",
       "min         0.008399\n",
       "25%         7.043089\n",
       "50%         9.836267\n",
       "75%        13.769915\n",
       "max        77.995040\n",
       "Name: Газ 1, dtype: float64"
      ]
     },
     "execution_count": 64,
     "metadata": {},
     "output_type": "execute_result"
    }
   ],
   "source": [
    "data_gas['Газ 1'].describe()"
   ]
  },
  {
   "cell_type": "markdown",
   "id": "b22621ef",
   "metadata": {},
   "source": [
    "Без выбросов вид распределение напоминает нормальное:"
   ]
  },
  {
   "cell_type": "code",
   "execution_count": 65,
   "id": "63b6445d",
   "metadata": {},
   "outputs": [
    {
     "data": {
      "image/png": "[encoded data removed]",
      "text/plain": [
       "<Figure size 1080x504 with 1 Axes>"
      ]
     },
     "metadata": {
      "needs_background": "light"
     },
     "output_type": "display_data"
    }
   ],
   "source": [
    "data_gas['Газ 1'].hist(bins=50, figsize=(15, 7), color='#A7D2CB', alpha=0.7)\n",
    "plt.xlabel('Объем газа')\n",
    "plt.ylabel('Количество записей')\n",
    "plt.title('Распределение значений объема газа')\n",
    "plt.xlim(0, 40) \n",
    "plt.show()"
   ]
  },
  {
   "cell_type": "markdown",
   "id": "1cb74587",
   "metadata": {},
   "source": [
    "**Предобработка данных об объемах газа**"
   ]
  },
  {
   "cell_type": "markdown",
   "id": "85af9323",
   "metadata": {},
   "source": [
    "Найденные в исследовательском анализе выбросы удалять не будем, возможно, это особенности технологического процесса.\n",
    "\n",
    "Пропусков в данных нет."
   ]
  },
  {
   "cell_type": "markdown",
   "id": "8c016726",
   "metadata": {},
   "source": [
    "Переименуем столбцы для удобства"
   ]
  },
  {
   "cell_type": "code",
   "execution_count": 66,
   "id": "2271510c",
   "metadata": {},
   "outputs": [],
   "source": [
    "data_gas.columns = ['key', 'gas']"
   ]
  },
  {
   "cell_type": "code",
   "execution_count": 67,
   "id": "98cc0cef",
   "metadata": {},
   "outputs": [
    {
     "data": {
      "text/html": [
       "<div>\n",
       "<style scoped>\n",
       "    .dataframe tbody tr th:only-of-type {\n",
       "        vertical-align: middle;\n",
       "    }\n",
       "\n",
       "    .dataframe tbody tr th {\n",
       "        vertical-align: top;\n",
       "    }\n",
       "\n",
       "    .dataframe thead th {\n",
       "        text-align: right;\n",
       "    }\n",
       "</style>\n",
       "<table border=\"1\" class=\"dataframe\">\n",
       "  <thead>\n",
       "    <tr style=\"text-align: right;\">\n",
       "      <th></th>\n",
       "      <th>key</th>\n",
       "      <th>gas</th>\n",
       "    </tr>\n",
       "  </thead>\n",
       "  <tbody>\n",
       "    <tr>\n",
       "      <th>0</th>\n",
       "      <td>1</td>\n",
       "      <td>29.749986</td>\n",
       "    </tr>\n",
       "    <tr>\n",
       "      <th>1</th>\n",
       "      <td>2</td>\n",
       "      <td>12.555561</td>\n",
       "    </tr>\n",
       "    <tr>\n",
       "      <th>2</th>\n",
       "      <td>3</td>\n",
       "      <td>28.554793</td>\n",
       "    </tr>\n",
       "    <tr>\n",
       "      <th>3</th>\n",
       "      <td>4</td>\n",
       "      <td>18.841219</td>\n",
       "    </tr>\n",
       "    <tr>\n",
       "      <th>4</th>\n",
       "      <td>5</td>\n",
       "      <td>5.413692</td>\n",
       "    </tr>\n",
       "  </tbody>\n",
       "</table>\n",
       "</div>"
      ],
      "text/plain": [
       "   key        gas\n",
       "0    1  29.749986\n",
       "1    2  12.555561\n",
       "2    3  28.554793\n",
       "3    4  18.841219\n",
       "4    5   5.413692"
      ]
     },
     "execution_count": 67,
     "metadata": {},
     "output_type": "execute_result"
    }
   ],
   "source": [
    "data_gas.head()"
   ]
  },
  {
   "cell_type": "markdown",
   "id": "0e49d26d",
   "metadata": {},
   "source": [
    "### 4. Результаты измерения температуры <a id='step1_4'></a>"
   ]
  },
  {
   "cell_type": "markdown",
   "id": "3aa370e3",
   "metadata": {},
   "source": [
    "Взглянем на данные"
   ]
  },
  {
   "cell_type": "code",
   "execution_count": 68,
   "id": "733659f0",
   "metadata": {},
   "outputs": [],
   "source": [
    "data_temperature = pd.read_csv('datasets/data_temp_new.csv')"
   ]
  },
  {
   "cell_type": "code",
   "execution_count": 69,
   "id": "b8169606",
   "metadata": {
    "scrolled": true
   },
   "outputs": [
    {
     "data": {
      "text/html": [
       "<div>\n",
       "<style scoped>\n",
       "    .dataframe tbody tr th:only-of-type {\n",
       "        vertical-align: middle;\n",
       "    }\n",
       "\n",
       "    .dataframe tbody tr th {\n",
       "        vertical-align: top;\n",
       "    }\n",
       "\n",
       "    .dataframe thead th {\n",
       "        text-align: right;\n",
       "    }\n",
       "</style>\n",
       "<table border=\"1\" class=\"dataframe\">\n",
       "  <thead>\n",
       "    <tr style=\"text-align: right;\">\n",
       "      <th></th>\n",
       "      <th>key</th>\n",
       "      <th>Время замера</th>\n",
       "      <th>Температура</th>\n",
       "    </tr>\n",
       "  </thead>\n",
       "  <tbody>\n",
       "    <tr>\n",
       "      <th>0</th>\n",
       "      <td>1</td>\n",
       "      <td>2019-05-03 11:02:04</td>\n",
       "      <td>1571.0</td>\n",
       "    </tr>\n",
       "    <tr>\n",
       "      <th>1</th>\n",
       "      <td>1</td>\n",
       "      <td>2019-05-03 11:07:18</td>\n",
       "      <td>1604.0</td>\n",
       "    </tr>\n",
       "    <tr>\n",
       "      <th>2</th>\n",
       "      <td>1</td>\n",
       "      <td>2019-05-03 11:11:34</td>\n",
       "      <td>1618.0</td>\n",
       "    </tr>\n",
       "    <tr>\n",
       "      <th>3</th>\n",
       "      <td>1</td>\n",
       "      <td>2019-05-03 11:18:04</td>\n",
       "      <td>1601.0</td>\n",
       "    </tr>\n",
       "    <tr>\n",
       "      <th>4</th>\n",
       "      <td>1</td>\n",
       "      <td>2019-05-03 11:25:59</td>\n",
       "      <td>1606.0</td>\n",
       "    </tr>\n",
       "    <tr>\n",
       "      <th>5</th>\n",
       "      <td>1</td>\n",
       "      <td>2019-05-03 11:30:38</td>\n",
       "      <td>1613.0</td>\n",
       "    </tr>\n",
       "    <tr>\n",
       "      <th>6</th>\n",
       "      <td>2</td>\n",
       "      <td>2019-05-03 11:34:04</td>\n",
       "      <td>1581.0</td>\n",
       "    </tr>\n",
       "    <tr>\n",
       "      <th>7</th>\n",
       "      <td>2</td>\n",
       "      <td>2019-05-03 11:38:40</td>\n",
       "      <td>1577.0</td>\n",
       "    </tr>\n",
       "    <tr>\n",
       "      <th>8</th>\n",
       "      <td>2</td>\n",
       "      <td>2019-05-03 11:46:09</td>\n",
       "      <td>1589.0</td>\n",
       "    </tr>\n",
       "    <tr>\n",
       "      <th>9</th>\n",
       "      <td>2</td>\n",
       "      <td>2019-05-03 11:49:38</td>\n",
       "      <td>1604.0</td>\n",
       "    </tr>\n",
       "    <tr>\n",
       "      <th>10</th>\n",
       "      <td>2</td>\n",
       "      <td>2019-05-03 11:55:09</td>\n",
       "      <td>1602.0</td>\n",
       "    </tr>\n",
       "    <tr>\n",
       "      <th>11</th>\n",
       "      <td>3</td>\n",
       "      <td>2019-05-03 12:06:44</td>\n",
       "      <td>1596.0</td>\n",
       "    </tr>\n",
       "  </tbody>\n",
       "</table>\n",
       "</div>"
      ],
      "text/plain": [
       "    key         Время замера  Температура\n",
       "0     1  2019-05-03 11:02:04       1571.0\n",
       "1     1  2019-05-03 11:07:18       1604.0\n",
       "2     1  2019-05-03 11:11:34       1618.0\n",
       "3     1  2019-05-03 11:18:04       1601.0\n",
       "4     1  2019-05-03 11:25:59       1606.0\n",
       "5     1  2019-05-03 11:30:38       1613.0\n",
       "6     2  2019-05-03 11:34:04       1581.0\n",
       "7     2  2019-05-03 11:38:40       1577.0\n",
       "8     2  2019-05-03 11:46:09       1589.0\n",
       "9     2  2019-05-03 11:49:38       1604.0\n",
       "10    2  2019-05-03 11:55:09       1602.0\n",
       "11    3  2019-05-03 12:06:44       1596.0"
      ]
     },
     "execution_count": 69,
     "metadata": {},
     "output_type": "execute_result"
    }
   ],
   "source": [
    "data_temperature.head(12)"
   ]
  },
  {
   "cell_type": "code",
   "execution_count": 70,
   "id": "a495ce1a",
   "metadata": {},
   "outputs": [
    {
     "name": "stdout",
     "output_type": "stream",
     "text": [
      "<class 'pandas.core.frame.DataFrame'>\n",
      "RangeIndex: 18092 entries, 0 to 18091\n",
      "Data columns (total 3 columns):\n",
      " #   Column        Non-Null Count  Dtype  \n",
      "---  ------        --------------  -----  \n",
      " 0   key           18092 non-null  int64  \n",
      " 1   Время замера  18092 non-null  object \n",
      " 2   Температура   14665 non-null  float64\n",
      "dtypes: float64(1), int64(1), object(1)\n",
      "memory usage: 424.2+ KB\n"
     ]
    }
   ],
   "source": [
    "data_temperature.info()"
   ]
  },
  {
   "cell_type": "code",
   "execution_count": 71,
   "id": "b5e67f92",
   "metadata": {},
   "outputs": [
    {
     "data": {
      "text/plain": [
       "0"
      ]
     },
     "execution_count": 71,
     "metadata": {},
     "output_type": "execute_result"
    }
   ],
   "source": [
    "data_temperature.duplicated().sum()"
   ]
  },
  {
   "cell_type": "code",
   "execution_count": 72,
   "id": "b4a01857",
   "metadata": {},
   "outputs": [
    {
     "data": {
      "text/plain": [
       "3216"
      ]
     },
     "execution_count": 72,
     "metadata": {},
     "output_type": "execute_result"
    }
   ],
   "source": [
    "data_temperature['key'].nunique()"
   ]
  },
  {
   "cell_type": "markdown",
   "id": "b61cf73d",
   "metadata": {},
   "source": [
    "В данных о результатах изменения температуры отсутствуют дубликаты, есть пропуски в записях температуры. Вероятно, температура не замерена для некоторых итераций. <br>\n",
    "Для некоторых партий записи отсутствуют (3216 vs 3239 для газа)."
   ]
  },
  {
   "cell_type": "markdown",
   "id": "320cd456",
   "metadata": {},
   "source": [
    "Распределение температуры:"
   ]
  },
  {
   "cell_type": "code",
   "execution_count": 73,
   "id": "996c1458",
   "metadata": {},
   "outputs": [
    {
     "data": {
      "image/png": "[encoded data removed]",
      "text/plain": [
       "<Figure size 1080x504 with 1 Axes>"
      ]
     },
     "metadata": {
      "needs_background": "light"
     },
     "output_type": "display_data"
    }
   ],
   "source": [
    "data_temperature['Температура'].hist(bins=50, figsize=(15, 7), color='#A7D2CB', alpha=0.7)\n",
    "plt.xlabel('Температура')\n",
    "plt.ylabel('Количество записей')\n",
    "plt.title('Распределение температуры')\n",
    "plt.show()"
   ]
  },
  {
   "cell_type": "markdown",
   "id": "8267f2bc",
   "metadata": {},
   "source": [
    "Есть выбросы, убедимся:"
   ]
  },
  {
   "cell_type": "code",
   "execution_count": 74,
   "id": "21c49d6f",
   "metadata": {},
   "outputs": [
    {
     "data": {
      "image/png": "[encoded data removed]",
      "text/plain": [
       "<Figure size 1440x720 with 1 Axes>"
      ]
     },
     "metadata": {
      "needs_background": "light"
     },
     "output_type": "display_data"
    }
   ],
   "source": [
    "data_temperature.boxplot(column='Температура', figsize=(20, 10))\n",
    "plt.show()"
   ]
  },
  {
   "cell_type": "markdown",
   "id": "a731b259",
   "metadata": {},
   "source": [
    "Без выбросов вид распределение напоминает нормальное:"
   ]
  },
  {
   "cell_type": "code",
   "execution_count": 75,
   "id": "83747069",
   "metadata": {},
   "outputs": [
    {
     "data": {
      "image/png": "[encoded data removed]",
      "text/plain": [
       "<Figure size 1080x504 with 1 Axes>"
      ]
     },
     "metadata": {
      "needs_background": "light"
     },
     "output_type": "display_data"
    }
   ],
   "source": [
    "data_temperature['Температура'].hist(bins=50, figsize=(15, 7), color='#A7D2CB', alpha=0.7)\n",
    "plt.xlabel('Температура')\n",
    "plt.ylabel('Количество записей')\n",
    "plt.title('Распределение температуры')\n",
    "plt.xlim(1500, 1700) \n",
    "plt.show()"
   ]
  },
  {
   "cell_type": "markdown",
   "id": "d804c911",
   "metadata": {},
   "source": [
    "Возможно, аномально низкие значения существуют для одной партии и это особенность этой партии:"
   ]
  },
  {
   "cell_type": "code",
   "execution_count": 76,
   "id": "9e401ae4",
   "metadata": {},
   "outputs": [
    {
     "data": {
      "text/html": [
       "<div>\n",
       "<style scoped>\n",
       "    .dataframe tbody tr th:only-of-type {\n",
       "        vertical-align: middle;\n",
       "    }\n",
       "\n",
       "    .dataframe tbody tr th {\n",
       "        vertical-align: top;\n",
       "    }\n",
       "\n",
       "    .dataframe thead th {\n",
       "        text-align: right;\n",
       "    }\n",
       "</style>\n",
       "<table border=\"1\" class=\"dataframe\">\n",
       "  <thead>\n",
       "    <tr style=\"text-align: right;\">\n",
       "      <th></th>\n",
       "      <th>key</th>\n",
       "      <th>Время замера</th>\n",
       "      <th>Температура</th>\n",
       "    </tr>\n",
       "  </thead>\n",
       "  <tbody>\n",
       "    <tr>\n",
       "      <th>4883</th>\n",
       "      <td>867</td>\n",
       "      <td>2019-06-06 08:03:39</td>\n",
       "      <td>1191.0</td>\n",
       "    </tr>\n",
       "    <tr>\n",
       "      <th>6784</th>\n",
       "      <td>1214</td>\n",
       "      <td>2019-06-18 08:01:03</td>\n",
       "      <td>1208.0</td>\n",
       "    </tr>\n",
       "    <tr>\n",
       "      <th>9050</th>\n",
       "      <td>1619</td>\n",
       "      <td>2019-07-03 02:34:41</td>\n",
       "      <td>1218.0</td>\n",
       "    </tr>\n",
       "    <tr>\n",
       "      <th>11495</th>\n",
       "      <td>2052</td>\n",
       "      <td>2019-07-25 08:49:15</td>\n",
       "      <td>1227.0</td>\n",
       "    </tr>\n",
       "    <tr>\n",
       "      <th>14283</th>\n",
       "      <td>2561</td>\n",
       "      <td>2019-08-12 18:49:29</td>\n",
       "      <td>1204.0</td>\n",
       "    </tr>\n",
       "  </tbody>\n",
       "</table>\n",
       "</div>"
      ],
      "text/plain": [
       "        key         Время замера  Температура\n",
       "4883    867  2019-06-06 08:03:39       1191.0\n",
       "6784   1214  2019-06-18 08:01:03       1208.0\n",
       "9050   1619  2019-07-03 02:34:41       1218.0\n",
       "11495  2052  2019-07-25 08:49:15       1227.0\n",
       "14283  2561  2019-08-12 18:49:29       1204.0"
      ]
     },
     "execution_count": 76,
     "metadata": {},
     "output_type": "execute_result"
    }
   ],
   "source": [
    "data_temperature[data_temperature['Температура'] < 1300]"
   ]
  },
  {
   "cell_type": "markdown",
   "id": "c0c1e214",
   "metadata": {},
   "source": [
    "Аномально низкие значения существуют для разных партий, вероятно, ошибка измерений или нарушение технологического процесса."
   ]
  },
  {
   "cell_type": "markdown",
   "id": "5e93e710",
   "metadata": {},
   "source": [
    "**Предобработка данных о температуре и создание признаков**"
   ]
  },
  {
   "cell_type": "markdown",
   "id": "8886c899",
   "metadata": {},
   "source": [
    "Создадим копию данных для работы"
   ]
  },
  {
   "cell_type": "code",
   "execution_count": 77,
   "id": "d4f7eac8",
   "metadata": {},
   "outputs": [],
   "source": [
    "data_temp = data_temperature.copy()"
   ]
  },
  {
   "cell_type": "markdown",
   "id": "64b87cc1",
   "metadata": {},
   "source": [
    "Целевой признак - температура розлива, т.е. выходная температура каждой партии. \n",
    "\n",
    "Ранее выяснено, что в данных есть выбросы. \n",
    "\n",
    "Температура плавления некоторых марок сталей может опускаться до 1300 °С. Будем считать выбросами температуру менее 1300 °С.\n",
    "\n",
    "Сначала сформируем таблицу, состоящую из столбца с номером партии и столбца с выходной температурой. Проконтролируем, чтобы данных, где есть пропуски в записи температуры, не было. Создадим признак входной температуры и разницы во времени замеров. Затем удалим данные с выбросами.\n"
   ]
  },
  {
   "cell_type": "markdown",
   "id": "50469abc",
   "metadata": {},
   "source": [
    "Для начала посмотрим, для всех ли партий записана выходная температура. Если есть партии лишь с одной записью, то непонятно, выходная ли это температура, и такие данные следует удалить."
   ]
  },
  {
   "cell_type": "code",
   "execution_count": 78,
   "id": "dff5ffe1",
   "metadata": {
    "scrolled": true
   },
   "outputs": [
    {
     "data": {
      "text/plain": [
       "Температура\n",
       "1              741\n",
       "5              688\n",
       "6              580\n",
       "4              395\n",
       "7              388\n",
       "8              152\n",
       "3              136\n",
       "9               66\n",
       "2               32\n",
       "10              21\n",
       "11               7\n",
       "12               3\n",
       "13               2\n",
       "14               2\n",
       "16               2\n",
       "17               1\n",
       "dtype: int64"
      ]
     },
     "execution_count": 78,
     "metadata": {},
     "output_type": "execute_result"
    }
   ],
   "source": [
    "(\n",
    "    data_temp\n",
    "    .pivot_table(index='key', values='Температура', aggfunc='count')\n",
    "    .value_counts()\n",
    ")"
   ]
  },
  {
   "cell_type": "code",
   "execution_count": 79,
   "id": "e8440fbd",
   "metadata": {
    "scrolled": true
   },
   "outputs": [
    {
     "data": {
      "text/plain": [
       "23.041044776119403"
      ]
     },
     "execution_count": 79,
     "metadata": {},
     "output_type": "execute_result"
    }
   ],
   "source": [
    "(741 / data_temp['key'].nunique()) * 100"
   ]
  },
  {
   "cell_type": "code",
   "execution_count": 80,
   "id": "07025baf",
   "metadata": {},
   "outputs": [
    {
     "data": {
      "text/plain": [
       "4.095732920627902"
      ]
     },
     "execution_count": 80,
     "metadata": {},
     "output_type": "execute_result"
    }
   ],
   "source": [
    "(741 / data_temp.shape[0]) * 100"
   ]
  },
  {
   "cell_type": "markdown",
   "id": "8566081d",
   "metadata": {},
   "source": [
    "Для 741 партии существует лишь один замер температуры. Это 23% от общего количества партий и 4% от общего количества данных. Делать нечего, соответствующие записи придется удалять."
   ]
  },
  {
   "cell_type": "markdown",
   "id": "9784fd83",
   "metadata": {},
   "source": [
    "Создадим таблицу с количеством замеров температуры"
   ]
  },
  {
   "cell_type": "code",
   "execution_count": 81,
   "id": "217986a5",
   "metadata": {},
   "outputs": [
    {
     "data": {
      "text/html": [
       "<div>\n",
       "<style scoped>\n",
       "    .dataframe tbody tr th:only-of-type {\n",
       "        vertical-align: middle;\n",
       "    }\n",
       "\n",
       "    .dataframe tbody tr th {\n",
       "        vertical-align: top;\n",
       "    }\n",
       "\n",
       "    .dataframe thead th {\n",
       "        text-align: right;\n",
       "    }\n",
       "</style>\n",
       "<table border=\"1\" class=\"dataframe\">\n",
       "  <thead>\n",
       "    <tr style=\"text-align: right;\">\n",
       "      <th></th>\n",
       "      <th>count</th>\n",
       "    </tr>\n",
       "    <tr>\n",
       "      <th>key</th>\n",
       "      <th></th>\n",
       "    </tr>\n",
       "  </thead>\n",
       "  <tbody>\n",
       "    <tr>\n",
       "      <th>1</th>\n",
       "      <td>6</td>\n",
       "    </tr>\n",
       "    <tr>\n",
       "      <th>2</th>\n",
       "      <td>5</td>\n",
       "    </tr>\n",
       "    <tr>\n",
       "      <th>3</th>\n",
       "      <td>6</td>\n",
       "    </tr>\n",
       "    <tr>\n",
       "      <th>4</th>\n",
       "      <td>5</td>\n",
       "    </tr>\n",
       "    <tr>\n",
       "      <th>5</th>\n",
       "      <td>5</td>\n",
       "    </tr>\n",
       "  </tbody>\n",
       "</table>\n",
       "</div>"
      ],
      "text/plain": [
       "     count\n",
       "key       \n",
       "1        6\n",
       "2        5\n",
       "3        6\n",
       "4        5\n",
       "5        5"
      ]
     },
     "execution_count": 81,
     "metadata": {},
     "output_type": "execute_result"
    }
   ],
   "source": [
    "temp = data_temp.pivot_table(index='key', values='Температура', aggfunc='count')\n",
    "temp.columns = ['count']\n",
    "temp.head()"
   ]
  },
  {
   "cell_type": "markdown",
   "id": "f7c3b590",
   "metadata": {},
   "source": [
    "Добавим столбец с выходной температурой для партии"
   ]
  },
  {
   "cell_type": "code",
   "execution_count": 82,
   "id": "f57d5ee1",
   "metadata": {
    "scrolled": false
   },
   "outputs": [
    {
     "data": {
      "text/html": [
       "<div>\n",
       "<style scoped>\n",
       "    .dataframe tbody tr th:only-of-type {\n",
       "        vertical-align: middle;\n",
       "    }\n",
       "\n",
       "    .dataframe tbody tr th {\n",
       "        vertical-align: top;\n",
       "    }\n",
       "\n",
       "    .dataframe thead th {\n",
       "        text-align: right;\n",
       "    }\n",
       "</style>\n",
       "<table border=\"1\" class=\"dataframe\">\n",
       "  <thead>\n",
       "    <tr style=\"text-align: right;\">\n",
       "      <th></th>\n",
       "      <th>count</th>\n",
       "      <th>temperature</th>\n",
       "    </tr>\n",
       "    <tr>\n",
       "      <th>key</th>\n",
       "      <th></th>\n",
       "      <th></th>\n",
       "    </tr>\n",
       "  </thead>\n",
       "  <tbody>\n",
       "    <tr>\n",
       "      <th>1</th>\n",
       "      <td>6</td>\n",
       "      <td>1613.0</td>\n",
       "    </tr>\n",
       "    <tr>\n",
       "      <th>2</th>\n",
       "      <td>5</td>\n",
       "      <td>1602.0</td>\n",
       "    </tr>\n",
       "    <tr>\n",
       "      <th>3</th>\n",
       "      <td>6</td>\n",
       "      <td>1599.0</td>\n",
       "    </tr>\n",
       "    <tr>\n",
       "      <th>4</th>\n",
       "      <td>5</td>\n",
       "      <td>1625.0</td>\n",
       "    </tr>\n",
       "    <tr>\n",
       "      <th>5</th>\n",
       "      <td>5</td>\n",
       "      <td>1602.0</td>\n",
       "    </tr>\n",
       "  </tbody>\n",
       "</table>\n",
       "</div>"
      ],
      "text/plain": [
       "     count  temperature\n",
       "key                    \n",
       "1        6       1613.0\n",
       "2        5       1602.0\n",
       "3        6       1599.0\n",
       "4        5       1625.0\n",
       "5        5       1602.0"
      ]
     },
     "execution_count": 82,
     "metadata": {},
     "output_type": "execute_result"
    }
   ],
   "source": [
    "temp['temperature'] = data_temp.pivot_table(index='key', values='Температура', aggfunc='last')\n",
    "temp.head()"
   ]
  },
  {
   "cell_type": "markdown",
   "id": "fe0e04d5",
   "metadata": {},
   "source": [
    "Добавим признак - входное значение измерения температуры"
   ]
  },
  {
   "cell_type": "code",
   "execution_count": 83,
   "id": "0d1b5691",
   "metadata": {},
   "outputs": [
    {
     "data": {
      "text/html": [
       "<div>\n",
       "<style scoped>\n",
       "    .dataframe tbody tr th:only-of-type {\n",
       "        vertical-align: middle;\n",
       "    }\n",
       "\n",
       "    .dataframe tbody tr th {\n",
       "        vertical-align: top;\n",
       "    }\n",
       "\n",
       "    .dataframe thead th {\n",
       "        text-align: right;\n",
       "    }\n",
       "</style>\n",
       "<table border=\"1\" class=\"dataframe\">\n",
       "  <thead>\n",
       "    <tr style=\"text-align: right;\">\n",
       "      <th></th>\n",
       "      <th>count</th>\n",
       "      <th>temperature</th>\n",
       "      <th>first_temperature</th>\n",
       "    </tr>\n",
       "    <tr>\n",
       "      <th>key</th>\n",
       "      <th></th>\n",
       "      <th></th>\n",
       "      <th></th>\n",
       "    </tr>\n",
       "  </thead>\n",
       "  <tbody>\n",
       "    <tr>\n",
       "      <th>1</th>\n",
       "      <td>6</td>\n",
       "      <td>1613.0</td>\n",
       "      <td>1571.0</td>\n",
       "    </tr>\n",
       "    <tr>\n",
       "      <th>2</th>\n",
       "      <td>5</td>\n",
       "      <td>1602.0</td>\n",
       "      <td>1581.0</td>\n",
       "    </tr>\n",
       "    <tr>\n",
       "      <th>3</th>\n",
       "      <td>6</td>\n",
       "      <td>1599.0</td>\n",
       "      <td>1596.0</td>\n",
       "    </tr>\n",
       "    <tr>\n",
       "      <th>4</th>\n",
       "      <td>5</td>\n",
       "      <td>1625.0</td>\n",
       "      <td>1601.0</td>\n",
       "    </tr>\n",
       "    <tr>\n",
       "      <th>5</th>\n",
       "      <td>5</td>\n",
       "      <td>1602.0</td>\n",
       "      <td>1576.0</td>\n",
       "    </tr>\n",
       "  </tbody>\n",
       "</table>\n",
       "</div>"
      ],
      "text/plain": [
       "     count  temperature  first_temperature\n",
       "key                                       \n",
       "1        6       1613.0             1571.0\n",
       "2        5       1602.0             1581.0\n",
       "3        6       1599.0             1596.0\n",
       "4        5       1625.0             1601.0\n",
       "5        5       1602.0             1576.0"
      ]
     },
     "execution_count": 83,
     "metadata": {},
     "output_type": "execute_result"
    }
   ],
   "source": [
    "temp['first_temperature'] = data_temp.pivot_table(index='key', values='Температура', aggfunc='first')\n",
    "temp.head()"
   ]
  },
  {
   "cell_type": "code",
   "execution_count": 84,
   "id": "11809833",
   "metadata": {},
   "outputs": [
    {
     "data": {
      "text/plain": [
       "(3216, 3)"
      ]
     },
     "execution_count": 84,
     "metadata": {},
     "output_type": "execute_result"
    }
   ],
   "source": [
    "temp.shape"
   ]
  },
  {
   "cell_type": "markdown",
   "id": "47c5677d",
   "metadata": {},
   "source": [
    "Удаляем данные с одним замером температуры"
   ]
  },
  {
   "cell_type": "code",
   "execution_count": 85,
   "id": "a7f96d66",
   "metadata": {},
   "outputs": [],
   "source": [
    "temp = temp[temp['count'] != 1]"
   ]
  },
  {
   "cell_type": "code",
   "execution_count": 86,
   "id": "7ba6d4c7",
   "metadata": {
    "scrolled": true
   },
   "outputs": [
    {
     "data": {
      "text/plain": [
       "(2475, 3)"
      ]
     },
     "execution_count": 86,
     "metadata": {},
     "output_type": "execute_result"
    }
   ],
   "source": [
    "temp.shape"
   ]
  },
  {
   "cell_type": "markdown",
   "id": "c20d742b",
   "metadata": {},
   "source": [
    "Потеряли те самые 23% данных."
   ]
  },
  {
   "cell_type": "markdown",
   "id": "682baba3",
   "metadata": {},
   "source": [
    "Удалим лишний признак - количество замеров температуры, вряд ли он сильно повлияет на будущую модель."
   ]
  },
  {
   "cell_type": "code",
   "execution_count": 87,
   "id": "41184d00",
   "metadata": {},
   "outputs": [],
   "source": [
    "temp = temp.drop(['count'], axis=1)"
   ]
  },
  {
   "cell_type": "code",
   "execution_count": 88,
   "id": "bd1dc3b9",
   "metadata": {},
   "outputs": [
    {
     "data": {
      "text/html": [
       "<div>\n",
       "<style scoped>\n",
       "    .dataframe tbody tr th:only-of-type {\n",
       "        vertical-align: middle;\n",
       "    }\n",
       "\n",
       "    .dataframe tbody tr th {\n",
       "        vertical-align: top;\n",
       "    }\n",
       "\n",
       "    .dataframe thead th {\n",
       "        text-align: right;\n",
       "    }\n",
       "</style>\n",
       "<table border=\"1\" class=\"dataframe\">\n",
       "  <thead>\n",
       "    <tr style=\"text-align: right;\">\n",
       "      <th></th>\n",
       "      <th>temperature</th>\n",
       "      <th>first_temperature</th>\n",
       "    </tr>\n",
       "    <tr>\n",
       "      <th>key</th>\n",
       "      <th></th>\n",
       "      <th></th>\n",
       "    </tr>\n",
       "  </thead>\n",
       "  <tbody>\n",
       "    <tr>\n",
       "      <th>1</th>\n",
       "      <td>1613.0</td>\n",
       "      <td>1571.0</td>\n",
       "    </tr>\n",
       "    <tr>\n",
       "      <th>2</th>\n",
       "      <td>1602.0</td>\n",
       "      <td>1581.0</td>\n",
       "    </tr>\n",
       "    <tr>\n",
       "      <th>3</th>\n",
       "      <td>1599.0</td>\n",
       "      <td>1596.0</td>\n",
       "    </tr>\n",
       "    <tr>\n",
       "      <th>4</th>\n",
       "      <td>1625.0</td>\n",
       "      <td>1601.0</td>\n",
       "    </tr>\n",
       "    <tr>\n",
       "      <th>5</th>\n",
       "      <td>1602.0</td>\n",
       "      <td>1576.0</td>\n",
       "    </tr>\n",
       "  </tbody>\n",
       "</table>\n",
       "</div>"
      ],
      "text/plain": [
       "     temperature  first_temperature\n",
       "key                                \n",
       "1         1613.0             1571.0\n",
       "2         1602.0             1581.0\n",
       "3         1599.0             1596.0\n",
       "4         1625.0             1601.0\n",
       "5         1602.0             1576.0"
      ]
     },
     "execution_count": 88,
     "metadata": {},
     "output_type": "execute_result"
    }
   ],
   "source": [
    "temp.head()"
   ]
  },
  {
   "cell_type": "markdown",
   "id": "776e087c",
   "metadata": {},
   "source": [
    "Создадим новый признак - разницу во времени замера входной и выходной температур."
   ]
  },
  {
   "cell_type": "code",
   "execution_count": 89,
   "id": "db536400",
   "metadata": {},
   "outputs": [],
   "source": [
    "data_temp['Время замера'] = pd.to_datetime(data_temp['Время замера'])"
   ]
  },
  {
   "cell_type": "code",
   "execution_count": 90,
   "id": "70a76de6",
   "metadata": {
    "scrolled": true
   },
   "outputs": [],
   "source": [
    "temp['time_delta'] = data_temp.pivot_table(index='key', values='Время замера', aggfunc='last') - data_temp.pivot_table(index='key', values='Время замера', aggfunc='first')"
   ]
  },
  {
   "cell_type": "code",
   "execution_count": 91,
   "id": "0ecc153f",
   "metadata": {},
   "outputs": [],
   "source": [
    "temp['time_delta'] = temp['time_delta'].dt.total_seconds()"
   ]
  },
  {
   "cell_type": "code",
   "execution_count": 92,
   "id": "24742aec",
   "metadata": {},
   "outputs": [
    {
     "data": {
      "text/html": [
       "<div>\n",
       "<style scoped>\n",
       "    .dataframe tbody tr th:only-of-type {\n",
       "        vertical-align: middle;\n",
       "    }\n",
       "\n",
       "    .dataframe tbody tr th {\n",
       "        vertical-align: top;\n",
       "    }\n",
       "\n",
       "    .dataframe thead th {\n",
       "        text-align: right;\n",
       "    }\n",
       "</style>\n",
       "<table border=\"1\" class=\"dataframe\">\n",
       "  <thead>\n",
       "    <tr style=\"text-align: right;\">\n",
       "      <th></th>\n",
       "      <th>temperature</th>\n",
       "      <th>first_temperature</th>\n",
       "      <th>time_delta</th>\n",
       "    </tr>\n",
       "    <tr>\n",
       "      <th>key</th>\n",
       "      <th></th>\n",
       "      <th></th>\n",
       "      <th></th>\n",
       "    </tr>\n",
       "  </thead>\n",
       "  <tbody>\n",
       "    <tr>\n",
       "      <th>1</th>\n",
       "      <td>1613.0</td>\n",
       "      <td>1571.0</td>\n",
       "      <td>1714.0</td>\n",
       "    </tr>\n",
       "    <tr>\n",
       "      <th>2</th>\n",
       "      <td>1602.0</td>\n",
       "      <td>1581.0</td>\n",
       "      <td>1265.0</td>\n",
       "    </tr>\n",
       "    <tr>\n",
       "      <th>3</th>\n",
       "      <td>1599.0</td>\n",
       "      <td>1596.0</td>\n",
       "      <td>1753.0</td>\n",
       "    </tr>\n",
       "    <tr>\n",
       "      <th>4</th>\n",
       "      <td>1625.0</td>\n",
       "      <td>1601.0</td>\n",
       "      <td>1220.0</td>\n",
       "    </tr>\n",
       "    <tr>\n",
       "      <th>5</th>\n",
       "      <td>1602.0</td>\n",
       "      <td>1576.0</td>\n",
       "      <td>1536.0</td>\n",
       "    </tr>\n",
       "  </tbody>\n",
       "</table>\n",
       "</div>"
      ],
      "text/plain": [
       "     temperature  first_temperature  time_delta\n",
       "key                                            \n",
       "1         1613.0             1571.0      1714.0\n",
       "2         1602.0             1581.0      1265.0\n",
       "3         1599.0             1596.0      1753.0\n",
       "4         1625.0             1601.0      1220.0\n",
       "5         1602.0             1576.0      1536.0"
      ]
     },
     "execution_count": 92,
     "metadata": {},
     "output_type": "execute_result"
    }
   ],
   "source": [
    "temp.head()"
   ]
  },
  {
   "cell_type": "markdown",
   "id": "1bd9e903",
   "metadata": {},
   "source": [
    "Взглянем на информацию о данных перед удалением выбросов"
   ]
  },
  {
   "cell_type": "code",
   "execution_count": 93,
   "id": "a468467f",
   "metadata": {
    "scrolled": true
   },
   "outputs": [
    {
     "name": "stdout",
     "output_type": "stream",
     "text": [
      "<class 'pandas.core.frame.DataFrame'>\n",
      "Int64Index: 2475 entries, 1 to 2499\n",
      "Data columns (total 3 columns):\n",
      " #   Column             Non-Null Count  Dtype  \n",
      "---  ------             --------------  -----  \n",
      " 0   temperature        2475 non-null   float64\n",
      " 1   first_temperature  2475 non-null   float64\n",
      " 2   time_delta         2475 non-null   float64\n",
      "dtypes: float64(3)\n",
      "memory usage: 77.3 KB\n"
     ]
    }
   ],
   "source": [
    "temp.info()"
   ]
  },
  {
   "cell_type": "markdown",
   "id": "73f5fd8f",
   "metadata": {},
   "source": [
    "Удаляем выбросы"
   ]
  },
  {
   "cell_type": "code",
   "execution_count": 94,
   "id": "ad285e29",
   "metadata": {},
   "outputs": [],
   "source": [
    "temp = temp[temp['temperature'] > 1300]"
   ]
  },
  {
   "cell_type": "code",
   "execution_count": 95,
   "id": "b586a425",
   "metadata": {
    "scrolled": true
   },
   "outputs": [
    {
     "name": "stdout",
     "output_type": "stream",
     "text": [
      "<class 'pandas.core.frame.DataFrame'>\n",
      "Int64Index: 2475 entries, 1 to 2499\n",
      "Data columns (total 3 columns):\n",
      " #   Column             Non-Null Count  Dtype  \n",
      "---  ------             --------------  -----  \n",
      " 0   temperature        2475 non-null   float64\n",
      " 1   first_temperature  2475 non-null   float64\n",
      " 2   time_delta         2475 non-null   float64\n",
      "dtypes: float64(3)\n",
      "memory usage: 77.3 KB\n"
     ]
    }
   ],
   "source": [
    "temp.info()"
   ]
  },
  {
   "cell_type": "markdown",
   "id": "efb6c968",
   "metadata": {},
   "source": [
    "От пропусков избавились в процессе создания признаков."
   ]
  },
  {
   "cell_type": "markdown",
   "id": "10fe6660",
   "metadata": {},
   "source": [
    "### 5. Данные о проволочных материалах <a id='step1_5'></a>"
   ]
  },
  {
   "cell_type": "markdown",
   "id": "e55ff2cf",
   "metadata": {},
   "source": [
    "Взглянем на данные"
   ]
  },
  {
   "cell_type": "code",
   "execution_count": 96,
   "id": "ac1be89a",
   "metadata": {},
   "outputs": [],
   "source": [
    "data_wire = pd.read_csv('datasets/data_wire_new.csv')"
   ]
  },
  {
   "cell_type": "code",
   "execution_count": 97,
   "id": "29a3ce8f",
   "metadata": {
    "scrolled": true
   },
   "outputs": [
    {
     "data": {
      "text/html": [
       "<div>\n",
       "<style scoped>\n",
       "    .dataframe tbody tr th:only-of-type {\n",
       "        vertical-align: middle;\n",
       "    }\n",
       "\n",
       "    .dataframe tbody tr th {\n",
       "        vertical-align: top;\n",
       "    }\n",
       "\n",
       "    .dataframe thead th {\n",
       "        text-align: right;\n",
       "    }\n",
       "</style>\n",
       "<table border=\"1\" class=\"dataframe\">\n",
       "  <thead>\n",
       "    <tr style=\"text-align: right;\">\n",
       "      <th></th>\n",
       "      <th>key</th>\n",
       "      <th>Wire 1</th>\n",
       "      <th>Wire 2</th>\n",
       "      <th>Wire 3</th>\n",
       "      <th>Wire 4</th>\n",
       "      <th>Wire 5</th>\n",
       "      <th>Wire 6</th>\n",
       "      <th>Wire 7</th>\n",
       "      <th>Wire 8</th>\n",
       "      <th>Wire 9</th>\n",
       "    </tr>\n",
       "  </thead>\n",
       "  <tbody>\n",
       "    <tr>\n",
       "      <th>0</th>\n",
       "      <td>1</td>\n",
       "      <td>60.059998</td>\n",
       "      <td>NaN</td>\n",
       "      <td>NaN</td>\n",
       "      <td>NaN</td>\n",
       "      <td>NaN</td>\n",
       "      <td>NaN</td>\n",
       "      <td>NaN</td>\n",
       "      <td>NaN</td>\n",
       "      <td>NaN</td>\n",
       "    </tr>\n",
       "    <tr>\n",
       "      <th>1</th>\n",
       "      <td>2</td>\n",
       "      <td>96.052315</td>\n",
       "      <td>NaN</td>\n",
       "      <td>NaN</td>\n",
       "      <td>NaN</td>\n",
       "      <td>NaN</td>\n",
       "      <td>NaN</td>\n",
       "      <td>NaN</td>\n",
       "      <td>NaN</td>\n",
       "      <td>NaN</td>\n",
       "    </tr>\n",
       "    <tr>\n",
       "      <th>2</th>\n",
       "      <td>3</td>\n",
       "      <td>91.160157</td>\n",
       "      <td>NaN</td>\n",
       "      <td>NaN</td>\n",
       "      <td>NaN</td>\n",
       "      <td>NaN</td>\n",
       "      <td>NaN</td>\n",
       "      <td>NaN</td>\n",
       "      <td>NaN</td>\n",
       "      <td>NaN</td>\n",
       "    </tr>\n",
       "    <tr>\n",
       "      <th>3</th>\n",
       "      <td>4</td>\n",
       "      <td>89.063515</td>\n",
       "      <td>NaN</td>\n",
       "      <td>NaN</td>\n",
       "      <td>NaN</td>\n",
       "      <td>NaN</td>\n",
       "      <td>NaN</td>\n",
       "      <td>NaN</td>\n",
       "      <td>NaN</td>\n",
       "      <td>NaN</td>\n",
       "    </tr>\n",
       "    <tr>\n",
       "      <th>4</th>\n",
       "      <td>5</td>\n",
       "      <td>89.238236</td>\n",
       "      <td>9.11456</td>\n",
       "      <td>NaN</td>\n",
       "      <td>NaN</td>\n",
       "      <td>NaN</td>\n",
       "      <td>NaN</td>\n",
       "      <td>NaN</td>\n",
       "      <td>NaN</td>\n",
       "      <td>NaN</td>\n",
       "    </tr>\n",
       "  </tbody>\n",
       "</table>\n",
       "</div>"
      ],
      "text/plain": [
       "   key     Wire 1   Wire 2  Wire 3  Wire 4  Wire 5  Wire 6  Wire 7  Wire 8  \\\n",
       "0    1  60.059998      NaN     NaN     NaN     NaN     NaN     NaN     NaN   \n",
       "1    2  96.052315      NaN     NaN     NaN     NaN     NaN     NaN     NaN   \n",
       "2    3  91.160157      NaN     NaN     NaN     NaN     NaN     NaN     NaN   \n",
       "3    4  89.063515      NaN     NaN     NaN     NaN     NaN     NaN     NaN   \n",
       "4    5  89.238236  9.11456     NaN     NaN     NaN     NaN     NaN     NaN   \n",
       "\n",
       "   Wire 9  \n",
       "0     NaN  \n",
       "1     NaN  \n",
       "2     NaN  \n",
       "3     NaN  \n",
       "4     NaN  "
      ]
     },
     "execution_count": 97,
     "metadata": {},
     "output_type": "execute_result"
    }
   ],
   "source": [
    "data_wire.head()"
   ]
  },
  {
   "cell_type": "code",
   "execution_count": 98,
   "id": "e262e1b3",
   "metadata": {},
   "outputs": [
    {
     "name": "stdout",
     "output_type": "stream",
     "text": [
      "<class 'pandas.core.frame.DataFrame'>\n",
      "RangeIndex: 3081 entries, 0 to 3080\n",
      "Data columns (total 10 columns):\n",
      " #   Column  Non-Null Count  Dtype  \n",
      "---  ------  --------------  -----  \n",
      " 0   key     3081 non-null   int64  \n",
      " 1   Wire 1  3055 non-null   float64\n",
      " 2   Wire 2  1079 non-null   float64\n",
      " 3   Wire 3  63 non-null     float64\n",
      " 4   Wire 4  14 non-null     float64\n",
      " 5   Wire 5  1 non-null      float64\n",
      " 6   Wire 6  73 non-null     float64\n",
      " 7   Wire 7  11 non-null     float64\n",
      " 8   Wire 8  19 non-null     float64\n",
      " 9   Wire 9  29 non-null     float64\n",
      "dtypes: float64(9), int64(1)\n",
      "memory usage: 240.8 KB\n"
     ]
    }
   ],
   "source": [
    "data_wire.info()"
   ]
  },
  {
   "cell_type": "code",
   "execution_count": 99,
   "id": "8aa4d966",
   "metadata": {},
   "outputs": [
    {
     "data": {
      "text/plain": [
       "0"
      ]
     },
     "execution_count": 99,
     "metadata": {},
     "output_type": "execute_result"
    }
   ],
   "source": [
    "data_wire.duplicated().sum()"
   ]
  },
  {
   "cell_type": "code",
   "execution_count": 100,
   "id": "12d8b30c",
   "metadata": {},
   "outputs": [
    {
     "data": {
      "text/plain": [
       "3081"
      ]
     },
     "execution_count": 100,
     "metadata": {},
     "output_type": "execute_result"
    }
   ],
   "source": [
    "data_wire['key'].nunique()"
   ]
  },
  {
   "cell_type": "markdown",
   "id": "0514ba16",
   "metadata": {},
   "source": [
    "В данных об объемах проволочного материала отсутствуют дубликаты, есть много пропусков для большинства признаков. Точно можно работать с Wire 1, Wire 2. Похожая с Bulk ситуация. \n",
    "Для некоторых партий записи отсутствуют (3081 vs 3239 для газа)."
   ]
  },
  {
   "cell_type": "markdown",
   "id": "930bfc2a",
   "metadata": {},
   "source": [
    "Распределение данных:"
   ]
  },
  {
   "cell_type": "code",
   "execution_count": 101,
   "id": "ca54b8d0",
   "metadata": {},
   "outputs": [
    {
     "data": {
      "image/png": "[encoded data removed]",
      "text/plain": [
       "<Figure size 1440x1080 with 12 Axes>"
      ]
     },
     "metadata": {
      "needs_background": "light"
     },
     "output_type": "display_data"
    }
   ],
   "source": [
    "data_wire.hist(bins=30, figsize=(20, 15), color='#A7D2CB', alpha=0.7)\n",
    "plt.show()"
   ]
  },
  {
   "cell_type": "markdown",
   "id": "168ab7e7",
   "metadata": {},
   "source": [
    "1. Wire 1 - Похоже, что есть выбросы. Распределение похоже на нормальное.\n",
    "2. Wire 2 - Есть выбросы. Медиана смещена влево."
   ]
  },
  {
   "cell_type": "code",
   "execution_count": 102,
   "id": "37e2cbea",
   "metadata": {},
   "outputs": [],
   "source": [
    "# Функция для построения графиков для проволочных материалов:\n",
    "def wire_plotter(name):\n",
    "    data_wire[name].hist(bins=50, figsize=(15, 7), color='#A7D2CB', alpha=0.7)\n",
    "    plt.xlabel('Объем')\n",
    "    plt.ylabel('Количество записей')\n",
    "    plt.title(f'Распределение объемов {name}')\n",
    "    plt.show()\n",
    "    \n",
    "    data_wire.boxplot(column=name, figsize=(20, 10))\n",
    "    plt.show()"
   ]
  },
  {
   "cell_type": "markdown",
   "id": "fcd70c8f",
   "metadata": {},
   "source": [
    "**Wire 1:**"
   ]
  },
  {
   "cell_type": "code",
   "execution_count": 103,
   "id": "db04700f",
   "metadata": {},
   "outputs": [
    {
     "data": {
      "image/png": "[encoded data removed]",
      "text/plain": [
       "<Figure size 1080x504 with 1 Axes>"
      ]
     },
     "metadata": {
      "needs_background": "light"
     },
     "output_type": "display_data"
    },
    {
     "data": {
      "image/png": "[encoded data removed]",
      "text/plain": [
       "<Figure size 1440x720 with 1 Axes>"
      ]
     },
     "metadata": {
      "needs_background": "light"
     },
     "output_type": "display_data"
    }
   ],
   "source": [
    "wire_plotter('Wire 1')"
   ]
  },
  {
   "cell_type": "code",
   "execution_count": 104,
   "id": "1da93515",
   "metadata": {},
   "outputs": [
    {
     "data": {
      "text/plain": [
       "count    3055.000000\n",
       "mean      100.895853\n",
       "std        42.012518\n",
       "min         1.918800\n",
       "25%        72.115684\n",
       "50%       100.158234\n",
       "75%       126.060483\n",
       "max       330.314424\n",
       "Name: Wire 1, dtype: float64"
      ]
     },
     "execution_count": 104,
     "metadata": {},
     "output_type": "execute_result"
    }
   ],
   "source": [
    "data_wire['Wire 1'].describe()"
   ]
  },
  {
   "cell_type": "markdown",
   "id": "c48aedf6",
   "metadata": {},
   "source": [
    "Есть небольшие выбросы, распределение похоже на нормальное."
   ]
  },
  {
   "cell_type": "markdown",
   "id": "f0888ca2",
   "metadata": {},
   "source": [
    "**Wire 2:**"
   ]
  },
  {
   "cell_type": "code",
   "execution_count": 105,
   "id": "cc820318",
   "metadata": {},
   "outputs": [
    {
     "data": {
      "image/png": "[encoded data removed]",
      "text/plain": [
       "<Figure size 1080x504 with 1 Axes>"
      ]
     },
     "metadata": {
      "needs_background": "light"
     },
     "output_type": "display_data"
    },
    {
     "data": {
      "image/png": "[encoded data removed]",
      "text/plain": [
       "<Figure size 1440x720 with 1 Axes>"
      ]
     },
     "metadata": {
      "needs_background": "light"
     },
     "output_type": "display_data"
    }
   ],
   "source": [
    "wire_plotter('Wire 2')"
   ]
  },
  {
   "cell_type": "code",
   "execution_count": 106,
   "id": "dee5563d",
   "metadata": {},
   "outputs": [
    {
     "data": {
      "text/plain": [
       "count    1079.000000\n",
       "mean       50.577323\n",
       "std        39.320216\n",
       "min         0.030160\n",
       "25%        20.193680\n",
       "50%        40.142956\n",
       "75%        70.227558\n",
       "max       282.780152\n",
       "Name: Wire 2, dtype: float64"
      ]
     },
     "execution_count": 106,
     "metadata": {},
     "output_type": "execute_result"
    }
   ],
   "source": [
    "data_wire['Wire 2'].describe()"
   ]
  },
  {
   "cell_type": "markdown",
   "id": "ae84fc35",
   "metadata": {},
   "source": [
    "Много выбросов, медиана смещена влево."
   ]
  },
  {
   "cell_type": "markdown",
   "id": "99d9d2a4",
   "metadata": {},
   "source": [
    "**Данные о времени подачи сыпучих материалов**"
   ]
  },
  {
   "cell_type": "code",
   "execution_count": 107,
   "id": "86900247",
   "metadata": {},
   "outputs": [],
   "source": [
    "data_wire_time = pd.read_csv('datasets/data_wire_time_new.csv')"
   ]
  },
  {
   "cell_type": "code",
   "execution_count": 108,
   "id": "d73a4d7a",
   "metadata": {},
   "outputs": [
    {
     "data": {
      "text/html": [
       "<div>\n",
       "<style scoped>\n",
       "    .dataframe tbody tr th:only-of-type {\n",
       "        vertical-align: middle;\n",
       "    }\n",
       "\n",
       "    .dataframe tbody tr th {\n",
       "        vertical-align: top;\n",
       "    }\n",
       "\n",
       "    .dataframe thead th {\n",
       "        text-align: right;\n",
       "    }\n",
       "</style>\n",
       "<table border=\"1\" class=\"dataframe\">\n",
       "  <thead>\n",
       "    <tr style=\"text-align: right;\">\n",
       "      <th></th>\n",
       "      <th>key</th>\n",
       "      <th>Wire 1</th>\n",
       "      <th>Wire 2</th>\n",
       "      <th>Wire 3</th>\n",
       "      <th>Wire 4</th>\n",
       "      <th>Wire 5</th>\n",
       "      <th>Wire 6</th>\n",
       "      <th>Wire 7</th>\n",
       "      <th>Wire 8</th>\n",
       "      <th>Wire 9</th>\n",
       "    </tr>\n",
       "  </thead>\n",
       "  <tbody>\n",
       "    <tr>\n",
       "      <th>0</th>\n",
       "      <td>1</td>\n",
       "      <td>2019-05-03 11:06:19</td>\n",
       "      <td>NaN</td>\n",
       "      <td>NaN</td>\n",
       "      <td>NaN</td>\n",
       "      <td>NaN</td>\n",
       "      <td>NaN</td>\n",
       "      <td>NaN</td>\n",
       "      <td>NaN</td>\n",
       "      <td>NaN</td>\n",
       "    </tr>\n",
       "    <tr>\n",
       "      <th>1</th>\n",
       "      <td>2</td>\n",
       "      <td>2019-05-03 11:36:50</td>\n",
       "      <td>NaN</td>\n",
       "      <td>NaN</td>\n",
       "      <td>NaN</td>\n",
       "      <td>NaN</td>\n",
       "      <td>NaN</td>\n",
       "      <td>NaN</td>\n",
       "      <td>NaN</td>\n",
       "      <td>NaN</td>\n",
       "    </tr>\n",
       "    <tr>\n",
       "      <th>2</th>\n",
       "      <td>3</td>\n",
       "      <td>2019-05-03 12:11:46</td>\n",
       "      <td>NaN</td>\n",
       "      <td>NaN</td>\n",
       "      <td>NaN</td>\n",
       "      <td>NaN</td>\n",
       "      <td>NaN</td>\n",
       "      <td>NaN</td>\n",
       "      <td>NaN</td>\n",
       "      <td>NaN</td>\n",
       "    </tr>\n",
       "    <tr>\n",
       "      <th>3</th>\n",
       "      <td>4</td>\n",
       "      <td>2019-05-03 12:43:22</td>\n",
       "      <td>NaN</td>\n",
       "      <td>NaN</td>\n",
       "      <td>NaN</td>\n",
       "      <td>NaN</td>\n",
       "      <td>NaN</td>\n",
       "      <td>NaN</td>\n",
       "      <td>NaN</td>\n",
       "      <td>NaN</td>\n",
       "    </tr>\n",
       "    <tr>\n",
       "      <th>4</th>\n",
       "      <td>5</td>\n",
       "      <td>2019-05-03 13:20:44</td>\n",
       "      <td>2019-05-03 13:15:34</td>\n",
       "      <td>NaN</td>\n",
       "      <td>NaN</td>\n",
       "      <td>NaN</td>\n",
       "      <td>NaN</td>\n",
       "      <td>NaN</td>\n",
       "      <td>NaN</td>\n",
       "      <td>NaN</td>\n",
       "    </tr>\n",
       "  </tbody>\n",
       "</table>\n",
       "</div>"
      ],
      "text/plain": [
       "   key               Wire 1               Wire 2 Wire 3 Wire 4 Wire 5 Wire 6  \\\n",
       "0    1  2019-05-03 11:06:19                  NaN    NaN    NaN    NaN    NaN   \n",
       "1    2  2019-05-03 11:36:50                  NaN    NaN    NaN    NaN    NaN   \n",
       "2    3  2019-05-03 12:11:46                  NaN    NaN    NaN    NaN    NaN   \n",
       "3    4  2019-05-03 12:43:22                  NaN    NaN    NaN    NaN    NaN   \n",
       "4    5  2019-05-03 13:20:44  2019-05-03 13:15:34    NaN    NaN    NaN    NaN   \n",
       "\n",
       "  Wire 7 Wire 8 Wire 9  \n",
       "0    NaN    NaN    NaN  \n",
       "1    NaN    NaN    NaN  \n",
       "2    NaN    NaN    NaN  \n",
       "3    NaN    NaN    NaN  \n",
       "4    NaN    NaN    NaN  "
      ]
     },
     "execution_count": 108,
     "metadata": {},
     "output_type": "execute_result"
    }
   ],
   "source": [
    "data_wire_time.head()"
   ]
  },
  {
   "cell_type": "code",
   "execution_count": 109,
   "id": "211b2ffb",
   "metadata": {},
   "outputs": [
    {
     "name": "stdout",
     "output_type": "stream",
     "text": [
      "<class 'pandas.core.frame.DataFrame'>\n",
      "RangeIndex: 3081 entries, 0 to 3080\n",
      "Data columns (total 10 columns):\n",
      " #   Column  Non-Null Count  Dtype \n",
      "---  ------  --------------  ----- \n",
      " 0   key     3081 non-null   int64 \n",
      " 1   Wire 1  3055 non-null   object\n",
      " 2   Wire 2  1079 non-null   object\n",
      " 3   Wire 3  63 non-null     object\n",
      " 4   Wire 4  14 non-null     object\n",
      " 5   Wire 5  1 non-null      object\n",
      " 6   Wire 6  73 non-null     object\n",
      " 7   Wire 7  11 non-null     object\n",
      " 8   Wire 8  19 non-null     object\n",
      " 9   Wire 9  29 non-null     object\n",
      "dtypes: int64(1), object(9)\n",
      "memory usage: 240.8+ KB\n"
     ]
    }
   ],
   "source": [
    "data_wire_time.info()"
   ]
  },
  {
   "cell_type": "code",
   "execution_count": 110,
   "id": "9528743a",
   "metadata": {},
   "outputs": [
    {
     "data": {
      "text/plain": [
       "0"
      ]
     },
     "execution_count": 110,
     "metadata": {},
     "output_type": "execute_result"
    }
   ],
   "source": [
    "data_wire_time.duplicated().sum()"
   ]
  },
  {
   "cell_type": "markdown",
   "id": "d3053e43",
   "metadata": {},
   "source": [
    "В данных о времени для проволочного материала нет дубликатов, записи для времени соответствуют записям, где есть отметки об объемах проволочного материала."
   ]
  },
  {
   "cell_type": "markdown",
   "id": "a7c453f2",
   "metadata": {},
   "source": [
    "**Предобработка данных о проволочных материалах и создание признаков**"
   ]
  },
  {
   "cell_type": "markdown",
   "id": "cadd9d21",
   "metadata": {},
   "source": [
    "Ситуация здесь похожа на ситуацию с сыпучими материалами."
   ]
  },
  {
   "cell_type": "markdown",
   "id": "465a57b8",
   "metadata": {},
   "source": [
    "Найденные в исследовательском анализе выбросы удалять не будем, возможно, это особенности технологического процесса.\n",
    "\n",
    "Пропуски в данных заменим на \"0\".\n",
    "\n",
    "Данные о времени подачи в анализе не понадобятся."
   ]
  },
  {
   "cell_type": "markdown",
   "id": "3a438534",
   "metadata": {},
   "source": [
    "Создадим копию данных для дальнейшей работы"
   ]
  },
  {
   "cell_type": "code",
   "execution_count": 111,
   "id": "7c6629a6",
   "metadata": {},
   "outputs": [],
   "source": [
    "wire = data_wire.copy()"
   ]
  },
  {
   "cell_type": "markdown",
   "id": "d83c6085",
   "metadata": {},
   "source": [
    "Заполним пропуски нулями"
   ]
  },
  {
   "cell_type": "code",
   "execution_count": 112,
   "id": "6b6cafc5",
   "metadata": {},
   "outputs": [],
   "source": [
    "wire = wire.fillna(0)"
   ]
  },
  {
   "cell_type": "code",
   "execution_count": 113,
   "id": "2666e364",
   "metadata": {
    "scrolled": false
   },
   "outputs": [
    {
     "data": {
      "text/html": [
       "<div>\n",
       "<style scoped>\n",
       "    .dataframe tbody tr th:only-of-type {\n",
       "        vertical-align: middle;\n",
       "    }\n",
       "\n",
       "    .dataframe tbody tr th {\n",
       "        vertical-align: top;\n",
       "    }\n",
       "\n",
       "    .dataframe thead th {\n",
       "        text-align: right;\n",
       "    }\n",
       "</style>\n",
       "<table border=\"1\" class=\"dataframe\">\n",
       "  <thead>\n",
       "    <tr style=\"text-align: right;\">\n",
       "      <th></th>\n",
       "      <th>key</th>\n",
       "      <th>Wire 1</th>\n",
       "      <th>Wire 2</th>\n",
       "      <th>Wire 3</th>\n",
       "      <th>Wire 4</th>\n",
       "      <th>Wire 5</th>\n",
       "      <th>Wire 6</th>\n",
       "      <th>Wire 7</th>\n",
       "      <th>Wire 8</th>\n",
       "      <th>Wire 9</th>\n",
       "    </tr>\n",
       "  </thead>\n",
       "  <tbody>\n",
       "    <tr>\n",
       "      <th>0</th>\n",
       "      <td>1</td>\n",
       "      <td>60.059998</td>\n",
       "      <td>0.00000</td>\n",
       "      <td>0.0</td>\n",
       "      <td>0.0</td>\n",
       "      <td>0.0</td>\n",
       "      <td>0.0</td>\n",
       "      <td>0.0</td>\n",
       "      <td>0.0</td>\n",
       "      <td>0.0</td>\n",
       "    </tr>\n",
       "    <tr>\n",
       "      <th>1</th>\n",
       "      <td>2</td>\n",
       "      <td>96.052315</td>\n",
       "      <td>0.00000</td>\n",
       "      <td>0.0</td>\n",
       "      <td>0.0</td>\n",
       "      <td>0.0</td>\n",
       "      <td>0.0</td>\n",
       "      <td>0.0</td>\n",
       "      <td>0.0</td>\n",
       "      <td>0.0</td>\n",
       "    </tr>\n",
       "    <tr>\n",
       "      <th>2</th>\n",
       "      <td>3</td>\n",
       "      <td>91.160157</td>\n",
       "      <td>0.00000</td>\n",
       "      <td>0.0</td>\n",
       "      <td>0.0</td>\n",
       "      <td>0.0</td>\n",
       "      <td>0.0</td>\n",
       "      <td>0.0</td>\n",
       "      <td>0.0</td>\n",
       "      <td>0.0</td>\n",
       "    </tr>\n",
       "    <tr>\n",
       "      <th>3</th>\n",
       "      <td>4</td>\n",
       "      <td>89.063515</td>\n",
       "      <td>0.00000</td>\n",
       "      <td>0.0</td>\n",
       "      <td>0.0</td>\n",
       "      <td>0.0</td>\n",
       "      <td>0.0</td>\n",
       "      <td>0.0</td>\n",
       "      <td>0.0</td>\n",
       "      <td>0.0</td>\n",
       "    </tr>\n",
       "    <tr>\n",
       "      <th>4</th>\n",
       "      <td>5</td>\n",
       "      <td>89.238236</td>\n",
       "      <td>9.11456</td>\n",
       "      <td>0.0</td>\n",
       "      <td>0.0</td>\n",
       "      <td>0.0</td>\n",
       "      <td>0.0</td>\n",
       "      <td>0.0</td>\n",
       "      <td>0.0</td>\n",
       "      <td>0.0</td>\n",
       "    </tr>\n",
       "  </tbody>\n",
       "</table>\n",
       "</div>"
      ],
      "text/plain": [
       "   key     Wire 1   Wire 2  Wire 3  Wire 4  Wire 5  Wire 6  Wire 7  Wire 8  \\\n",
       "0    1  60.059998  0.00000     0.0     0.0     0.0     0.0     0.0     0.0   \n",
       "1    2  96.052315  0.00000     0.0     0.0     0.0     0.0     0.0     0.0   \n",
       "2    3  91.160157  0.00000     0.0     0.0     0.0     0.0     0.0     0.0   \n",
       "3    4  89.063515  0.00000     0.0     0.0     0.0     0.0     0.0     0.0   \n",
       "4    5  89.238236  9.11456     0.0     0.0     0.0     0.0     0.0     0.0   \n",
       "\n",
       "   Wire 9  \n",
       "0     0.0  \n",
       "1     0.0  \n",
       "2     0.0  \n",
       "3     0.0  \n",
       "4     0.0  "
      ]
     },
     "execution_count": 113,
     "metadata": {},
     "output_type": "execute_result"
    }
   ],
   "source": [
    "wire.head()"
   ]
  },
  {
   "cell_type": "markdown",
   "id": "3979d04c",
   "metadata": {},
   "source": [
    "Новый признак - количество проволочного материала в каждой партии"
   ]
  },
  {
   "cell_type": "code",
   "execution_count": 114,
   "id": "83b0f164",
   "metadata": {},
   "outputs": [],
   "source": [
    "wire['sum_wire'] = wire[wire.columns[1:]].sum(axis=1)"
   ]
  },
  {
   "cell_type": "code",
   "execution_count": 115,
   "id": "344af05c",
   "metadata": {},
   "outputs": [
    {
     "data": {
      "text/html": [
       "<div>\n",
       "<style scoped>\n",
       "    .dataframe tbody tr th:only-of-type {\n",
       "        vertical-align: middle;\n",
       "    }\n",
       "\n",
       "    .dataframe tbody tr th {\n",
       "        vertical-align: top;\n",
       "    }\n",
       "\n",
       "    .dataframe thead th {\n",
       "        text-align: right;\n",
       "    }\n",
       "</style>\n",
       "<table border=\"1\" class=\"dataframe\">\n",
       "  <thead>\n",
       "    <tr style=\"text-align: right;\">\n",
       "      <th></th>\n",
       "      <th>key</th>\n",
       "      <th>Wire 1</th>\n",
       "      <th>Wire 2</th>\n",
       "      <th>Wire 3</th>\n",
       "      <th>Wire 4</th>\n",
       "      <th>Wire 5</th>\n",
       "      <th>Wire 6</th>\n",
       "      <th>Wire 7</th>\n",
       "      <th>Wire 8</th>\n",
       "      <th>Wire 9</th>\n",
       "      <th>sum_wire</th>\n",
       "    </tr>\n",
       "  </thead>\n",
       "  <tbody>\n",
       "    <tr>\n",
       "      <th>0</th>\n",
       "      <td>1</td>\n",
       "      <td>60.059998</td>\n",
       "      <td>0.00000</td>\n",
       "      <td>0.0</td>\n",
       "      <td>0.0</td>\n",
       "      <td>0.0</td>\n",
       "      <td>0.0</td>\n",
       "      <td>0.0</td>\n",
       "      <td>0.0</td>\n",
       "      <td>0.0</td>\n",
       "      <td>60.059998</td>\n",
       "    </tr>\n",
       "    <tr>\n",
       "      <th>1</th>\n",
       "      <td>2</td>\n",
       "      <td>96.052315</td>\n",
       "      <td>0.00000</td>\n",
       "      <td>0.0</td>\n",
       "      <td>0.0</td>\n",
       "      <td>0.0</td>\n",
       "      <td>0.0</td>\n",
       "      <td>0.0</td>\n",
       "      <td>0.0</td>\n",
       "      <td>0.0</td>\n",
       "      <td>96.052315</td>\n",
       "    </tr>\n",
       "    <tr>\n",
       "      <th>2</th>\n",
       "      <td>3</td>\n",
       "      <td>91.160157</td>\n",
       "      <td>0.00000</td>\n",
       "      <td>0.0</td>\n",
       "      <td>0.0</td>\n",
       "      <td>0.0</td>\n",
       "      <td>0.0</td>\n",
       "      <td>0.0</td>\n",
       "      <td>0.0</td>\n",
       "      <td>0.0</td>\n",
       "      <td>91.160157</td>\n",
       "    </tr>\n",
       "    <tr>\n",
       "      <th>3</th>\n",
       "      <td>4</td>\n",
       "      <td>89.063515</td>\n",
       "      <td>0.00000</td>\n",
       "      <td>0.0</td>\n",
       "      <td>0.0</td>\n",
       "      <td>0.0</td>\n",
       "      <td>0.0</td>\n",
       "      <td>0.0</td>\n",
       "      <td>0.0</td>\n",
       "      <td>0.0</td>\n",
       "      <td>89.063515</td>\n",
       "    </tr>\n",
       "    <tr>\n",
       "      <th>4</th>\n",
       "      <td>5</td>\n",
       "      <td>89.238236</td>\n",
       "      <td>9.11456</td>\n",
       "      <td>0.0</td>\n",
       "      <td>0.0</td>\n",
       "      <td>0.0</td>\n",
       "      <td>0.0</td>\n",
       "      <td>0.0</td>\n",
       "      <td>0.0</td>\n",
       "      <td>0.0</td>\n",
       "      <td>98.352796</td>\n",
       "    </tr>\n",
       "  </tbody>\n",
       "</table>\n",
       "</div>"
      ],
      "text/plain": [
       "   key     Wire 1   Wire 2  Wire 3  Wire 4  Wire 5  Wire 6  Wire 7  Wire 8  \\\n",
       "0    1  60.059998  0.00000     0.0     0.0     0.0     0.0     0.0     0.0   \n",
       "1    2  96.052315  0.00000     0.0     0.0     0.0     0.0     0.0     0.0   \n",
       "2    3  91.160157  0.00000     0.0     0.0     0.0     0.0     0.0     0.0   \n",
       "3    4  89.063515  0.00000     0.0     0.0     0.0     0.0     0.0     0.0   \n",
       "4    5  89.238236  9.11456     0.0     0.0     0.0     0.0     0.0     0.0   \n",
       "\n",
       "   Wire 9   sum_wire  \n",
       "0     0.0  60.059998  \n",
       "1     0.0  96.052315  \n",
       "2     0.0  91.160157  \n",
       "3     0.0  89.063515  \n",
       "4     0.0  98.352796  "
      ]
     },
     "execution_count": 115,
     "metadata": {},
     "output_type": "execute_result"
    }
   ],
   "source": [
    "wire.head()"
   ]
  },
  {
   "cell_type": "markdown",
   "id": "8df51162",
   "metadata": {},
   "source": [
    "## Объединение признаков в один датафрейм<a id='step2'></a>"
   ]
  },
  {
   "cell_type": "code",
   "execution_count": 116,
   "id": "fed80734",
   "metadata": {
    "scrolled": false
   },
   "outputs": [],
   "source": [
    "data = (\n",
    "    temp\n",
    "    .merge(arc_work, how ='left', on='key')\n",
    "    .merge(data_gas, how ='left', on='key')\n",
    "    .merge(bulk, how ='left', on='key')\n",
    "    .merge(wire, how ='left', on='key')\n",
    ")"
   ]
  },
  {
   "cell_type": "code",
   "execution_count": 117,
   "id": "53b6ca3b",
   "metadata": {},
   "outputs": [],
   "source": [
    "data = data.set_index('key')"
   ]
  },
  {
   "cell_type": "code",
   "execution_count": 118,
   "id": "e4eff187",
   "metadata": {
    "scrolled": true
   },
   "outputs": [
    {
     "data": {
      "text/html": [
       "<div>\n",
       "<style scoped>\n",
       "    .dataframe tbody tr th:only-of-type {\n",
       "        vertical-align: middle;\n",
       "    }\n",
       "\n",
       "    .dataframe tbody tr th {\n",
       "        vertical-align: top;\n",
       "    }\n",
       "\n",
       "    .dataframe thead th {\n",
       "        text-align: right;\n",
       "    }\n",
       "</style>\n",
       "<table border=\"1\" class=\"dataframe\">\n",
       "  <thead>\n",
       "    <tr style=\"text-align: right;\">\n",
       "      <th></th>\n",
       "      <th>temperature</th>\n",
       "      <th>first_temperature</th>\n",
       "      <th>time_delta</th>\n",
       "      <th>work</th>\n",
       "      <th>arc_count</th>\n",
       "      <th>gas</th>\n",
       "      <th>Bulk 1</th>\n",
       "      <th>Bulk 2</th>\n",
       "      <th>Bulk 3</th>\n",
       "      <th>Bulk 4</th>\n",
       "      <th>...</th>\n",
       "      <th>Wire 1</th>\n",
       "      <th>Wire 2</th>\n",
       "      <th>Wire 3</th>\n",
       "      <th>Wire 4</th>\n",
       "      <th>Wire 5</th>\n",
       "      <th>Wire 6</th>\n",
       "      <th>Wire 7</th>\n",
       "      <th>Wire 8</th>\n",
       "      <th>Wire 9</th>\n",
       "      <th>sum_wire</th>\n",
       "    </tr>\n",
       "    <tr>\n",
       "      <th>key</th>\n",
       "      <th></th>\n",
       "      <th></th>\n",
       "      <th></th>\n",
       "      <th></th>\n",
       "      <th></th>\n",
       "      <th></th>\n",
       "      <th></th>\n",
       "      <th></th>\n",
       "      <th></th>\n",
       "      <th></th>\n",
       "      <th></th>\n",
       "      <th></th>\n",
       "      <th></th>\n",
       "      <th></th>\n",
       "      <th></th>\n",
       "      <th></th>\n",
       "      <th></th>\n",
       "      <th></th>\n",
       "      <th></th>\n",
       "      <th></th>\n",
       "      <th></th>\n",
       "    </tr>\n",
       "  </thead>\n",
       "  <tbody>\n",
       "    <tr>\n",
       "      <th>1</th>\n",
       "      <td>1613.0</td>\n",
       "      <td>1571.0</td>\n",
       "      <td>1714.0</td>\n",
       "      <td>770.282114</td>\n",
       "      <td>5</td>\n",
       "      <td>29.749986</td>\n",
       "      <td>0.0</td>\n",
       "      <td>0.0</td>\n",
       "      <td>0.0</td>\n",
       "      <td>43.0</td>\n",
       "      <td>...</td>\n",
       "      <td>60.059998</td>\n",
       "      <td>0.00000</td>\n",
       "      <td>0.0</td>\n",
       "      <td>0.0</td>\n",
       "      <td>0.0</td>\n",
       "      <td>0.0</td>\n",
       "      <td>0.0</td>\n",
       "      <td>0.0</td>\n",
       "      <td>0.0</td>\n",
       "      <td>60.059998</td>\n",
       "    </tr>\n",
       "    <tr>\n",
       "      <th>2</th>\n",
       "      <td>1602.0</td>\n",
       "      <td>1581.0</td>\n",
       "      <td>1265.0</td>\n",
       "      <td>481.760005</td>\n",
       "      <td>4</td>\n",
       "      <td>12.555561</td>\n",
       "      <td>0.0</td>\n",
       "      <td>0.0</td>\n",
       "      <td>0.0</td>\n",
       "      <td>73.0</td>\n",
       "      <td>...</td>\n",
       "      <td>96.052315</td>\n",
       "      <td>0.00000</td>\n",
       "      <td>0.0</td>\n",
       "      <td>0.0</td>\n",
       "      <td>0.0</td>\n",
       "      <td>0.0</td>\n",
       "      <td>0.0</td>\n",
       "      <td>0.0</td>\n",
       "      <td>0.0</td>\n",
       "      <td>96.052315</td>\n",
       "    </tr>\n",
       "    <tr>\n",
       "      <th>3</th>\n",
       "      <td>1599.0</td>\n",
       "      <td>1596.0</td>\n",
       "      <td>1753.0</td>\n",
       "      <td>722.837668</td>\n",
       "      <td>5</td>\n",
       "      <td>28.554793</td>\n",
       "      <td>0.0</td>\n",
       "      <td>0.0</td>\n",
       "      <td>0.0</td>\n",
       "      <td>34.0</td>\n",
       "      <td>...</td>\n",
       "      <td>91.160157</td>\n",
       "      <td>0.00000</td>\n",
       "      <td>0.0</td>\n",
       "      <td>0.0</td>\n",
       "      <td>0.0</td>\n",
       "      <td>0.0</td>\n",
       "      <td>0.0</td>\n",
       "      <td>0.0</td>\n",
       "      <td>0.0</td>\n",
       "      <td>91.160157</td>\n",
       "    </tr>\n",
       "    <tr>\n",
       "      <th>4</th>\n",
       "      <td>1625.0</td>\n",
       "      <td>1601.0</td>\n",
       "      <td>1220.0</td>\n",
       "      <td>683.455597</td>\n",
       "      <td>4</td>\n",
       "      <td>18.841219</td>\n",
       "      <td>0.0</td>\n",
       "      <td>0.0</td>\n",
       "      <td>0.0</td>\n",
       "      <td>81.0</td>\n",
       "      <td>...</td>\n",
       "      <td>89.063515</td>\n",
       "      <td>0.00000</td>\n",
       "      <td>0.0</td>\n",
       "      <td>0.0</td>\n",
       "      <td>0.0</td>\n",
       "      <td>0.0</td>\n",
       "      <td>0.0</td>\n",
       "      <td>0.0</td>\n",
       "      <td>0.0</td>\n",
       "      <td>89.063515</td>\n",
       "    </tr>\n",
       "    <tr>\n",
       "      <th>5</th>\n",
       "      <td>1602.0</td>\n",
       "      <td>1576.0</td>\n",
       "      <td>1536.0</td>\n",
       "      <td>512.169934</td>\n",
       "      <td>4</td>\n",
       "      <td>5.413692</td>\n",
       "      <td>0.0</td>\n",
       "      <td>0.0</td>\n",
       "      <td>0.0</td>\n",
       "      <td>78.0</td>\n",
       "      <td>...</td>\n",
       "      <td>89.238236</td>\n",
       "      <td>9.11456</td>\n",
       "      <td>0.0</td>\n",
       "      <td>0.0</td>\n",
       "      <td>0.0</td>\n",
       "      <td>0.0</td>\n",
       "      <td>0.0</td>\n",
       "      <td>0.0</td>\n",
       "      <td>0.0</td>\n",
       "      <td>98.352796</td>\n",
       "    </tr>\n",
       "  </tbody>\n",
       "</table>\n",
       "<p>5 rows × 32 columns</p>\n",
       "</div>"
      ],
      "text/plain": [
       "     temperature  first_temperature  time_delta        work  arc_count  \\\n",
       "key                                                                      \n",
       "1         1613.0             1571.0      1714.0  770.282114          5   \n",
       "2         1602.0             1581.0      1265.0  481.760005          4   \n",
       "3         1599.0             1596.0      1753.0  722.837668          5   \n",
       "4         1625.0             1601.0      1220.0  683.455597          4   \n",
       "5         1602.0             1576.0      1536.0  512.169934          4   \n",
       "\n",
       "           gas  Bulk 1  Bulk 2  Bulk 3  Bulk 4  ...     Wire 1   Wire 2  \\\n",
       "key                                             ...                       \n",
       "1    29.749986     0.0     0.0     0.0    43.0  ...  60.059998  0.00000   \n",
       "2    12.555561     0.0     0.0     0.0    73.0  ...  96.052315  0.00000   \n",
       "3    28.554793     0.0     0.0     0.0    34.0  ...  91.160157  0.00000   \n",
       "4    18.841219     0.0     0.0     0.0    81.0  ...  89.063515  0.00000   \n",
       "5     5.413692     0.0     0.0     0.0    78.0  ...  89.238236  9.11456   \n",
       "\n",
       "     Wire 3  Wire 4  Wire 5  Wire 6  Wire 7  Wire 8  Wire 9   sum_wire  \n",
       "key                                                                     \n",
       "1       0.0     0.0     0.0     0.0     0.0     0.0     0.0  60.059998  \n",
       "2       0.0     0.0     0.0     0.0     0.0     0.0     0.0  96.052315  \n",
       "3       0.0     0.0     0.0     0.0     0.0     0.0     0.0  91.160157  \n",
       "4       0.0     0.0     0.0     0.0     0.0     0.0     0.0  89.063515  \n",
       "5       0.0     0.0     0.0     0.0     0.0     0.0     0.0  98.352796  \n",
       "\n",
       "[5 rows x 32 columns]"
      ]
     },
     "execution_count": 118,
     "metadata": {},
     "output_type": "execute_result"
    }
   ],
   "source": [
    "data.head()"
   ]
  },
  {
   "cell_type": "code",
   "execution_count": 119,
   "id": "970beac7",
   "metadata": {
    "scrolled": true
   },
   "outputs": [
    {
     "name": "stdout",
     "output_type": "stream",
     "text": [
      "<class 'pandas.core.frame.DataFrame'>\n",
      "Int64Index: 2475 entries, 1 to 2499\n",
      "Data columns (total 32 columns):\n",
      " #   Column             Non-Null Count  Dtype  \n",
      "---  ------             --------------  -----  \n",
      " 0   temperature        2475 non-null   float64\n",
      " 1   first_temperature  2475 non-null   float64\n",
      " 2   time_delta         2475 non-null   float64\n",
      " 3   work               2475 non-null   float64\n",
      " 4   arc_count          2475 non-null   int64  \n",
      " 5   gas                2473 non-null   float64\n",
      " 6   Bulk 1             2407 non-null   float64\n",
      " 7   Bulk 2             2407 non-null   float64\n",
      " 8   Bulk 3             2407 non-null   float64\n",
      " 9   Bulk 4             2407 non-null   float64\n",
      " 10  Bulk 5             2407 non-null   float64\n",
      " 11  Bulk 6             2407 non-null   float64\n",
      " 12  Bulk 7             2407 non-null   float64\n",
      " 13  Bulk 8             2407 non-null   float64\n",
      " 14  Bulk 9             2407 non-null   float64\n",
      " 15  Bulk 10            2407 non-null   float64\n",
      " 16  Bulk 11            2407 non-null   float64\n",
      " 17  Bulk 12            2407 non-null   float64\n",
      " 18  Bulk 13            2407 non-null   float64\n",
      " 19  Bulk 14            2407 non-null   float64\n",
      " 20  Bulk 15            2407 non-null   float64\n",
      " 21  sum_bulk           2407 non-null   float64\n",
      " 22  Wire 1             2372 non-null   float64\n",
      " 23  Wire 2             2372 non-null   float64\n",
      " 24  Wire 3             2372 non-null   float64\n",
      " 25  Wire 4             2372 non-null   float64\n",
      " 26  Wire 5             2372 non-null   float64\n",
      " 27  Wire 6             2372 non-null   float64\n",
      " 28  Wire 7             2372 non-null   float64\n",
      " 29  Wire 8             2372 non-null   float64\n",
      " 30  Wire 9             2372 non-null   float64\n",
      " 31  sum_wire           2372 non-null   float64\n",
      "dtypes: float64(31), int64(1)\n",
      "memory usage: 638.1 KB\n"
     ]
    }
   ],
   "source": [
    "data.info()"
   ]
  },
  {
   "cell_type": "markdown",
   "id": "66aec8d3",
   "metadata": {},
   "source": [
    "Для многих партий отсутствуют записи некоторых факторов. Проверим, сколько данных мы потеряем, удалив данные с пропусками."
   ]
  },
  {
   "cell_type": "code",
   "execution_count": 120,
   "id": "9c69de17",
   "metadata": {
    "scrolled": true
   },
   "outputs": [
    {
     "data": {
      "text/plain": [
       "5.898989898989903"
      ]
     },
     "execution_count": 120,
     "metadata": {},
     "output_type": "execute_result"
    }
   ],
   "source": [
    "(1 - (data.dropna().shape[0] / data.shape[0])) * 100"
   ]
  },
  {
   "cell_type": "markdown",
   "id": "a65ec057",
   "metadata": {},
   "source": [
    "Потеряем примерно 6% данных. Даже с учетом удаления выбросов (единичные случаи), данных теряем немного, можно удалять."
   ]
  },
  {
   "cell_type": "code",
   "execution_count": 121,
   "id": "18dcf894",
   "metadata": {},
   "outputs": [],
   "source": [
    "data = data.dropna()"
   ]
  },
  {
   "cell_type": "code",
   "execution_count": 122,
   "id": "820a0aa1",
   "metadata": {
    "scrolled": false
   },
   "outputs": [
    {
     "name": "stdout",
     "output_type": "stream",
     "text": [
      "<class 'pandas.core.frame.DataFrame'>\n",
      "Int64Index: 2329 entries, 1 to 2499\n",
      "Data columns (total 32 columns):\n",
      " #   Column             Non-Null Count  Dtype  \n",
      "---  ------             --------------  -----  \n",
      " 0   temperature        2329 non-null   float64\n",
      " 1   first_temperature  2329 non-null   float64\n",
      " 2   time_delta         2329 non-null   float64\n",
      " 3   work               2329 non-null   float64\n",
      " 4   arc_count          2329 non-null   int64  \n",
      " 5   gas                2329 non-null   float64\n",
      " 6   Bulk 1             2329 non-null   float64\n",
      " 7   Bulk 2             2329 non-null   float64\n",
      " 8   Bulk 3             2329 non-null   float64\n",
      " 9   Bulk 4             2329 non-null   float64\n",
      " 10  Bulk 5             2329 non-null   float64\n",
      " 11  Bulk 6             2329 non-null   float64\n",
      " 12  Bulk 7             2329 non-null   float64\n",
      " 13  Bulk 8             2329 non-null   float64\n",
      " 14  Bulk 9             2329 non-null   float64\n",
      " 15  Bulk 10            2329 non-null   float64\n",
      " 16  Bulk 11            2329 non-null   float64\n",
      " 17  Bulk 12            2329 non-null   float64\n",
      " 18  Bulk 13            2329 non-null   float64\n",
      " 19  Bulk 14            2329 non-null   float64\n",
      " 20  Bulk 15            2329 non-null   float64\n",
      " 21  sum_bulk           2329 non-null   float64\n",
      " 22  Wire 1             2329 non-null   float64\n",
      " 23  Wire 2             2329 non-null   float64\n",
      " 24  Wire 3             2329 non-null   float64\n",
      " 25  Wire 4             2329 non-null   float64\n",
      " 26  Wire 5             2329 non-null   float64\n",
      " 27  Wire 6             2329 non-null   float64\n",
      " 28  Wire 7             2329 non-null   float64\n",
      " 29  Wire 8             2329 non-null   float64\n",
      " 30  Wire 9             2329 non-null   float64\n",
      " 31  sum_wire           2329 non-null   float64\n",
      "dtypes: float64(31), int64(1)\n",
      "memory usage: 600.4 KB\n"
     ]
    }
   ],
   "source": [
    "data.info()"
   ]
  },
  {
   "cell_type": "markdown",
   "id": "9d38b972",
   "metadata": {},
   "source": [
    "Изучим данные на предмет существования мультиколлинеарности"
   ]
  },
  {
   "cell_type": "code",
   "execution_count": 123,
   "id": "02161ac2",
   "metadata": {
    "scrolled": false
   },
   "outputs": [
    {
     "data": {
      "image/png": "[encoded data removed]",
      "text/plain": [
       "<Figure size 432x288 with 2 Axes>"
      ]
     },
     "metadata": {
      "needs_background": "light"
     },
     "output_type": "display_data"
    }
   ],
   "source": [
    "sns.heatmap(data.corr())\n",
    "plt.rcParams['figure.figsize'] = [20, 15]\n",
    "plt.show()"
   ]
  },
  {
   "cell_type": "markdown",
   "id": "d9bcf3d4",
   "metadata": {},
   "source": [
    "Бросается в глаза белая линия Wire 5"
   ]
  },
  {
   "cell_type": "code",
   "execution_count": 124,
   "id": "f95be43e",
   "metadata": {
    "scrolled": true
   },
   "outputs": [
    {
     "data": {
      "text/plain": [
       "array([0.])"
      ]
     },
     "execution_count": 124,
     "metadata": {},
     "output_type": "execute_result"
    }
   ],
   "source": [
    "data['Wire 5'].unique()"
   ]
  },
  {
   "cell_type": "markdown",
   "id": "334c7d16",
   "metadata": {},
   "source": [
    "В Wire 5 остались лишь нули, удалим этот признак"
   ]
  },
  {
   "cell_type": "markdown",
   "id": "bd3774ab",
   "metadata": {},
   "source": [
    "Наблюдается корреляция между Bulk 9 и Wire 8, Bulk 2 и Bulk 7, Bulk 7 и Wire 4, Bulk 12 и Bulk 15, Bulk 12 и sum_bulk."
   ]
  },
  {
   "cell_type": "code",
   "execution_count": 125,
   "id": "a542302c",
   "metadata": {
    "scrolled": true
   },
   "outputs": [
    {
     "data": {
      "text/plain": [
       "0.9749686403984961"
      ]
     },
     "execution_count": 125,
     "metadata": {},
     "output_type": "execute_result"
    }
   ],
   "source": [
    "data['Bulk 9'].corr(data['Wire 8'])"
   ]
  },
  {
   "cell_type": "markdown",
   "id": "44c5e2a1",
   "metadata": {},
   "source": [
    "Очень высокая корреляция."
   ]
  },
  {
   "cell_type": "code",
   "execution_count": 126,
   "id": "a2cd7821",
   "metadata": {},
   "outputs": [
    {
     "data": {
      "text/plain": [
       "0.8678912701290873"
      ]
     },
     "execution_count": 126,
     "metadata": {},
     "output_type": "execute_result"
    }
   ],
   "source": [
    "data['Bulk 12'].corr(data['sum_bulk'])"
   ]
  },
  {
   "cell_type": "markdown",
   "id": "7710d430",
   "metadata": {},
   "source": [
    "Высокая корреляция."
   ]
  },
  {
   "cell_type": "code",
   "execution_count": 127,
   "id": "34fdbe98",
   "metadata": {
    "scrolled": true
   },
   "outputs": [
    {
     "data": {
      "text/plain": [
       "0.6793557926765945"
      ]
     },
     "execution_count": 127,
     "metadata": {},
     "output_type": "execute_result"
    }
   ],
   "source": [
    "data['Bulk 2'].corr(data['Bulk 7'])"
   ]
  },
  {
   "cell_type": "markdown",
   "id": "e3b65e74",
   "metadata": {},
   "source": [
    "Средняя корреляция."
   ]
  },
  {
   "cell_type": "code",
   "execution_count": 128,
   "id": "4b2fb854",
   "metadata": {
    "scrolled": true
   },
   "outputs": [
    {
     "data": {
      "text/plain": [
       "0.7405719889021148"
      ]
     },
     "execution_count": 128,
     "metadata": {},
     "output_type": "execute_result"
    }
   ],
   "source": [
    "data['Bulk 7'].corr(data['Wire 4'])"
   ]
  },
  {
   "cell_type": "markdown",
   "id": "a68b899d",
   "metadata": {},
   "source": [
    "Средняя корреляция."
   ]
  },
  {
   "cell_type": "code",
   "execution_count": 129,
   "id": "590869b3",
   "metadata": {
    "scrolled": true
   },
   "outputs": [
    {
     "data": {
      "text/plain": [
       "0.6144793601036254"
      ]
     },
     "execution_count": 129,
     "metadata": {},
     "output_type": "execute_result"
    }
   ],
   "source": [
    "data['Bulk 12'].corr(data['Bulk 15'])"
   ]
  },
  {
   "cell_type": "markdown",
   "id": "ad617772",
   "metadata": {},
   "source": [
    "Средняя корреляция."
   ]
  },
  {
   "cell_type": "markdown",
   "id": "0029dacb",
   "metadata": {},
   "source": [
    "С уверенностью удаляем столбец 'Bulk 9', так как он взаимосвязан с 'Wire 8'. Также удаляем 'Wire 5' и 'Bulk 12'."
   ]
  },
  {
   "cell_type": "code",
   "execution_count": 130,
   "id": "dbb9ef18",
   "metadata": {},
   "outputs": [],
   "source": [
    "data = data.drop(['Bulk 9', 'Wire 5', 'Bulk 12'], axis=1)"
   ]
  },
  {
   "cell_type": "markdown",
   "id": "b33694c4",
   "metadata": {},
   "source": [
    "Итоговый датасет для обучения:"
   ]
  },
  {
   "cell_type": "code",
   "execution_count": 131,
   "id": "c5bd4352",
   "metadata": {},
   "outputs": [
    {
     "data": {
      "text/html": [
       "<div>\n",
       "<style scoped>\n",
       "    .dataframe tbody tr th:only-of-type {\n",
       "        vertical-align: middle;\n",
       "    }\n",
       "\n",
       "    .dataframe tbody tr th {\n",
       "        vertical-align: top;\n",
       "    }\n",
       "\n",
       "    .dataframe thead th {\n",
       "        text-align: right;\n",
       "    }\n",
       "</style>\n",
       "<table border=\"1\" class=\"dataframe\">\n",
       "  <thead>\n",
       "    <tr style=\"text-align: right;\">\n",
       "      <th></th>\n",
       "      <th>temperature</th>\n",
       "      <th>first_temperature</th>\n",
       "      <th>time_delta</th>\n",
       "      <th>work</th>\n",
       "      <th>arc_count</th>\n",
       "      <th>gas</th>\n",
       "      <th>Bulk 1</th>\n",
       "      <th>Bulk 2</th>\n",
       "      <th>Bulk 3</th>\n",
       "      <th>Bulk 4</th>\n",
       "      <th>...</th>\n",
       "      <th>sum_bulk</th>\n",
       "      <th>Wire 1</th>\n",
       "      <th>Wire 2</th>\n",
       "      <th>Wire 3</th>\n",
       "      <th>Wire 4</th>\n",
       "      <th>Wire 6</th>\n",
       "      <th>Wire 7</th>\n",
       "      <th>Wire 8</th>\n",
       "      <th>Wire 9</th>\n",
       "      <th>sum_wire</th>\n",
       "    </tr>\n",
       "    <tr>\n",
       "      <th>key</th>\n",
       "      <th></th>\n",
       "      <th></th>\n",
       "      <th></th>\n",
       "      <th></th>\n",
       "      <th></th>\n",
       "      <th></th>\n",
       "      <th></th>\n",
       "      <th></th>\n",
       "      <th></th>\n",
       "      <th></th>\n",
       "      <th></th>\n",
       "      <th></th>\n",
       "      <th></th>\n",
       "      <th></th>\n",
       "      <th></th>\n",
       "      <th></th>\n",
       "      <th></th>\n",
       "      <th></th>\n",
       "      <th></th>\n",
       "      <th></th>\n",
       "      <th></th>\n",
       "    </tr>\n",
       "  </thead>\n",
       "  <tbody>\n",
       "    <tr>\n",
       "      <th>1</th>\n",
       "      <td>1613.0</td>\n",
       "      <td>1571.0</td>\n",
       "      <td>1714.0</td>\n",
       "      <td>770.282114</td>\n",
       "      <td>5</td>\n",
       "      <td>29.749986</td>\n",
       "      <td>0.0</td>\n",
       "      <td>0.0</td>\n",
       "      <td>0.0</td>\n",
       "      <td>43.0</td>\n",
       "      <td>...</td>\n",
       "      <td>553.0</td>\n",
       "      <td>60.059998</td>\n",
       "      <td>0.00000</td>\n",
       "      <td>0.0</td>\n",
       "      <td>0.0</td>\n",
       "      <td>0.0</td>\n",
       "      <td>0.0</td>\n",
       "      <td>0.0</td>\n",
       "      <td>0.0</td>\n",
       "      <td>60.059998</td>\n",
       "    </tr>\n",
       "    <tr>\n",
       "      <th>2</th>\n",
       "      <td>1602.0</td>\n",
       "      <td>1581.0</td>\n",
       "      <td>1265.0</td>\n",
       "      <td>481.760005</td>\n",
       "      <td>4</td>\n",
       "      <td>12.555561</td>\n",
       "      <td>0.0</td>\n",
       "      <td>0.0</td>\n",
       "      <td>0.0</td>\n",
       "      <td>73.0</td>\n",
       "      <td>...</td>\n",
       "      <td>582.0</td>\n",
       "      <td>96.052315</td>\n",
       "      <td>0.00000</td>\n",
       "      <td>0.0</td>\n",
       "      <td>0.0</td>\n",
       "      <td>0.0</td>\n",
       "      <td>0.0</td>\n",
       "      <td>0.0</td>\n",
       "      <td>0.0</td>\n",
       "      <td>96.052315</td>\n",
       "    </tr>\n",
       "    <tr>\n",
       "      <th>3</th>\n",
       "      <td>1599.0</td>\n",
       "      <td>1596.0</td>\n",
       "      <td>1753.0</td>\n",
       "      <td>722.837668</td>\n",
       "      <td>5</td>\n",
       "      <td>28.554793</td>\n",
       "      <td>0.0</td>\n",
       "      <td>0.0</td>\n",
       "      <td>0.0</td>\n",
       "      <td>34.0</td>\n",
       "      <td>...</td>\n",
       "      <td>544.0</td>\n",
       "      <td>91.160157</td>\n",
       "      <td>0.00000</td>\n",
       "      <td>0.0</td>\n",
       "      <td>0.0</td>\n",
       "      <td>0.0</td>\n",
       "      <td>0.0</td>\n",
       "      <td>0.0</td>\n",
       "      <td>0.0</td>\n",
       "      <td>91.160157</td>\n",
       "    </tr>\n",
       "    <tr>\n",
       "      <th>4</th>\n",
       "      <td>1625.0</td>\n",
       "      <td>1601.0</td>\n",
       "      <td>1220.0</td>\n",
       "      <td>683.455597</td>\n",
       "      <td>4</td>\n",
       "      <td>18.841219</td>\n",
       "      <td>0.0</td>\n",
       "      <td>0.0</td>\n",
       "      <td>0.0</td>\n",
       "      <td>81.0</td>\n",
       "      <td>...</td>\n",
       "      <td>595.0</td>\n",
       "      <td>89.063515</td>\n",
       "      <td>0.00000</td>\n",
       "      <td>0.0</td>\n",
       "      <td>0.0</td>\n",
       "      <td>0.0</td>\n",
       "      <td>0.0</td>\n",
       "      <td>0.0</td>\n",
       "      <td>0.0</td>\n",
       "      <td>89.063515</td>\n",
       "    </tr>\n",
       "    <tr>\n",
       "      <th>5</th>\n",
       "      <td>1602.0</td>\n",
       "      <td>1576.0</td>\n",
       "      <td>1536.0</td>\n",
       "      <td>512.169934</td>\n",
       "      <td>4</td>\n",
       "      <td>5.413692</td>\n",
       "      <td>0.0</td>\n",
       "      <td>0.0</td>\n",
       "      <td>0.0</td>\n",
       "      <td>78.0</td>\n",
       "      <td>...</td>\n",
       "      <td>584.0</td>\n",
       "      <td>89.238236</td>\n",
       "      <td>9.11456</td>\n",
       "      <td>0.0</td>\n",
       "      <td>0.0</td>\n",
       "      <td>0.0</td>\n",
       "      <td>0.0</td>\n",
       "      <td>0.0</td>\n",
       "      <td>0.0</td>\n",
       "      <td>98.352796</td>\n",
       "    </tr>\n",
       "  </tbody>\n",
       "</table>\n",
       "<p>5 rows × 29 columns</p>\n",
       "</div>"
      ],
      "text/plain": [
       "     temperature  first_temperature  time_delta        work  arc_count  \\\n",
       "key                                                                      \n",
       "1         1613.0             1571.0      1714.0  770.282114          5   \n",
       "2         1602.0             1581.0      1265.0  481.760005          4   \n",
       "3         1599.0             1596.0      1753.0  722.837668          5   \n",
       "4         1625.0             1601.0      1220.0  683.455597          4   \n",
       "5         1602.0             1576.0      1536.0  512.169934          4   \n",
       "\n",
       "           gas  Bulk 1  Bulk 2  Bulk 3  Bulk 4  ...  sum_bulk     Wire 1  \\\n",
       "key                                             ...                        \n",
       "1    29.749986     0.0     0.0     0.0    43.0  ...     553.0  60.059998   \n",
       "2    12.555561     0.0     0.0     0.0    73.0  ...     582.0  96.052315   \n",
       "3    28.554793     0.0     0.0     0.0    34.0  ...     544.0  91.160157   \n",
       "4    18.841219     0.0     0.0     0.0    81.0  ...     595.0  89.063515   \n",
       "5     5.413692     0.0     0.0     0.0    78.0  ...     584.0  89.238236   \n",
       "\n",
       "      Wire 2  Wire 3  Wire 4  Wire 6  Wire 7  Wire 8  Wire 9   sum_wire  \n",
       "key                                                                      \n",
       "1    0.00000     0.0     0.0     0.0     0.0     0.0     0.0  60.059998  \n",
       "2    0.00000     0.0     0.0     0.0     0.0     0.0     0.0  96.052315  \n",
       "3    0.00000     0.0     0.0     0.0     0.0     0.0     0.0  91.160157  \n",
       "4    0.00000     0.0     0.0     0.0     0.0     0.0     0.0  89.063515  \n",
       "5    9.11456     0.0     0.0     0.0     0.0     0.0     0.0  98.352796  \n",
       "\n",
       "[5 rows x 29 columns]"
      ]
     },
     "execution_count": 131,
     "metadata": {},
     "output_type": "execute_result"
    }
   ],
   "source": [
    "data.head()"
   ]
  },
  {
   "cell_type": "markdown",
   "id": "3c228758",
   "metadata": {},
   "source": [
    "Посмотрим, остались ли аномалии в данных"
   ]
  },
  {
   "cell_type": "code",
   "execution_count": 132,
   "id": "78d7cace",
   "metadata": {
    "scrolled": true
   },
   "outputs": [
    {
     "name": "stdout",
     "output_type": "stream",
     "text": [
      "Количество аномалий (KNN):  233\n"
     ]
    }
   ],
   "source": [
    "model = KNN()\n",
    "estimation_knn = model.fit_predict(data)\n",
    "outliers_knn = (estimation_knn == 1).sum()\n",
    "print(\"Количество аномалий (KNN): \", outliers_knn)"
   ]
  },
  {
   "cell_type": "markdown",
   "id": "a4da5397",
   "metadata": {},
   "source": [
    "KNN определил аномалии, пока трогать их не будем."
   ]
  },
  {
   "cell_type": "markdown",
   "id": "5c2d5028",
   "metadata": {},
   "source": [
    "## Обучение моделей<a id='step3'></a>"
   ]
  },
  {
   "cell_type": "markdown",
   "id": "d0485fea",
   "metadata": {},
   "source": [
    "Делим данные на выборки: 75% на обучающую, 25% на тестовую"
   ]
  },
  {
   "cell_type": "code",
   "execution_count": 133,
   "id": "17888d1e",
   "metadata": {},
   "outputs": [],
   "source": [
    "data_train, data_test = train_test_split(data, test_size=0.25, random_state=170723)"
   ]
  },
  {
   "cell_type": "markdown",
   "id": "a4e8f142",
   "metadata": {},
   "source": [
    "Выделим признаки для обучения и таргет"
   ]
  },
  {
   "cell_type": "code",
   "execution_count": 134,
   "id": "30efe589",
   "metadata": {},
   "outputs": [],
   "source": [
    "features_train = data_train.drop(['temperature'], axis=1)\n",
    "target_train = data_train['temperature']\n",
    "\n",
    "features_test = data_test.drop(['temperature'], axis=1)\n",
    "target_test = data_test['temperature']"
   ]
  },
  {
   "cell_type": "markdown",
   "id": "1db841ed",
   "metadata": {},
   "source": [
    "Проверим правильно ли поделили данные"
   ]
  },
  {
   "cell_type": "code",
   "execution_count": 135,
   "id": "a59f4aea",
   "metadata": {
    "scrolled": true
   },
   "outputs": [
    {
     "data": {
      "text/plain": [
       "0.25032202662086733"
      ]
     },
     "execution_count": 135,
     "metadata": {},
     "output_type": "execute_result"
    }
   ],
   "source": [
    "data_test.shape[0] / data.shape[0]"
   ]
  },
  {
   "cell_type": "markdown",
   "id": "4f77f0df",
   "metadata": {},
   "source": [
    "### 1. Линейная регрессия<a id='step3_1'></a>"
   ]
  },
  {
   "cell_type": "markdown",
   "id": "3ab931d8",
   "metadata": {},
   "source": [
    "Подберем модель с наилучшей метрикой качества. Начнем с линейной регрессии."
   ]
  },
  {
   "cell_type": "markdown",
   "id": "963934b7",
   "metadata": {},
   "source": [
    "Изучим качество модели с помощью кросс-валидации"
   ]
  },
  {
   "cell_type": "code",
   "execution_count": 136,
   "id": "195c2b2f",
   "metadata": {},
   "outputs": [
    {
     "name": "stdout",
     "output_type": "stream",
     "text": [
      "MAE: 6.815551825707464\n",
      "CPU times: total: 141 ms\n",
      "Wall time: 66.8 ms\n"
     ]
    }
   ],
   "source": [
    "%%time\n",
    "\n",
    "model = LinearRegression()\n",
    "model.fit(features_train, target_train) \n",
    "result = cross_val_score(model, features_train, target_train, cv=5, scoring='neg_mean_absolute_error').mean()\n",
    "print('MAE:', abs(result))"
   ]
  },
  {
   "cell_type": "markdown",
   "id": "1c5f972e",
   "metadata": {},
   "source": [
    "Получили MAE чуть больше 6.8 при ТЗ MAE ≤ 6.8, неплохой результат!"
   ]
  },
  {
   "cell_type": "markdown",
   "id": "8f264d38",
   "metadata": {},
   "source": [
    "### 2. Случайный лес<a id='step3_2'></a>"
   ]
  },
  {
   "cell_type": "markdown",
   "id": "cb8237d6",
   "metadata": {},
   "source": [
    "Подберем параметры случайного леса с помощью GridSearch. Варьируем количество деревьев от 3 до 25, глубину от 3 до 15."
   ]
  },
  {
   "cell_type": "code",
   "execution_count": 137,
   "id": "3ca6d6df",
   "metadata": {},
   "outputs": [
    {
     "name": "stdout",
     "output_type": "stream",
     "text": [
      "Наилучшие гиперпараметры: {'max_depth': 9, 'n_estimators': 25}\n",
      "Наименьшая MAE: 6.691769949700188\n",
      "CPU times: total: 3min 53s\n",
      "Wall time: 3min 53s\n"
     ]
    }
   ],
   "source": [
    "%%time\n",
    "\n",
    "params = { 'n_estimators' : range(3, 26), \n",
    "           'max_depth': range(3, 16) }\n",
    "\n",
    "model = RandomForestRegressor(random_state=170723)\n",
    "\n",
    "forest_grid = GridSearchCV(model, params, scoring='neg_mean_absolute_error')\n",
    "forest_grid.fit(features_train, target_train)\n",
    "\n",
    "print('Наилучшие гиперпараметры: '+ str(forest_grid.best_params_))\n",
    "print('Наименьшая MAE: '+ str(abs(forest_grid.best_score_)))"
   ]
  },
  {
   "cell_type": "markdown",
   "id": "4c2afac3",
   "metadata": {},
   "source": [
    "MAE около 6.7, хороший результат."
   ]
  },
  {
   "cell_type": "markdown",
   "id": "c136f400",
   "metadata": {},
   "source": [
    "### 3. CatBoost<a id='step3_3'></a>"
   ]
  },
  {
   "cell_type": "markdown",
   "id": "163159c8",
   "metadata": {},
   "source": [
    "Подберем параметры КБ с помощью GridSearch. Варьируем скорость обучения от 0.2 до 0.9 с шагом 0.1, глубину от 3 до 15."
   ]
  },
  {
   "cell_type": "code",
   "execution_count": 138,
   "id": "b0b3816f",
   "metadata": {
    "scrolled": true
   },
   "outputs": [
    {
     "name": "stdout",
     "output_type": "stream",
     "text": [
      "\n",
      "bestTest = 10.28168346\n",
      "bestIteration = 49\n",
      "\n",
      "\n",
      "bestTest = 10.03719766\n",
      "bestIteration = 49\n",
      "\n",
      "\n",
      "bestTest = 9.609271777\n",
      "bestIteration = 49\n",
      "\n",
      "\n",
      "bestTest = 9.772526418\n",
      "bestIteration = 48\n",
      "\n",
      "\n",
      "bestTest = 10.25070807\n",
      "bestIteration = 41\n",
      "\n",
      "\n",
      "bestTest = 10.0507253\n",
      "bestIteration = 47\n",
      "\n",
      "\n",
      "bestTest = 10.29193143\n",
      "bestIteration = 28\n",
      "\n",
      "\n",
      "bestTest = 10.25629468\n",
      "bestIteration = 35\n",
      "\n",
      "\n",
      "bestTest = 12.9954763\n",
      "bestIteration = 48\n",
      "\n",
      "\n",
      "bestTest = 13.14278559\n",
      "bestIteration = 49\n",
      "\n",
      "\n",
      "bestTest = 12.67811275\n",
      "bestIteration = 48\n",
      "\n",
      "\n",
      "bestTest = 12.47285844\n",
      "bestIteration = 48\n",
      "\n",
      "\n",
      "bestTest = 13.45649243\n",
      "bestIteration = 48\n",
      "\n",
      "\n",
      "bestTest = 12.80117759\n",
      "bestIteration = 49\n",
      "\n",
      "\n",
      "bestTest = 15.47229045\n",
      "bestIteration = 45\n",
      "\n",
      "\n",
      "bestTest = 12.60818779\n",
      "bestIteration = 20\n",
      "\n",
      "\n",
      "bestTest = 15.23000563\n",
      "bestIteration = 49\n",
      "\n",
      "\n",
      "bestTest = 14.93042096\n",
      "bestIteration = 49\n",
      "\n",
      "\n",
      "bestTest = 15.48554388\n",
      "bestIteration = 48\n",
      "\n",
      "\n",
      "bestTest = 17.79901385\n",
      "bestIteration = 47\n",
      "\n",
      "\n",
      "bestTest = 15.45197616\n",
      "bestIteration = 43\n",
      "\n",
      "\n",
      "bestTest = 17.70810217\n",
      "bestIteration = 26\n",
      "\n",
      "\n",
      "bestTest = 18.31190322\n",
      "bestIteration = 36\n",
      "\n",
      "\n",
      "bestTest = 17.274018\n",
      "bestIteration = 19\n",
      "\n",
      "\n",
      "bestTest = 16.7985382\n",
      "bestIteration = 49\n",
      "\n",
      "\n",
      "bestTest = 16.08658136\n",
      "bestIteration = 49\n",
      "\n",
      "\n",
      "bestTest = 16.01292692\n",
      "bestIteration = 46\n",
      "\n",
      "\n",
      "bestTest = 18.26272499\n",
      "bestIteration = 48\n",
      "\n",
      "\n",
      "bestTest = 18.52610189\n",
      "bestIteration = 41\n",
      "\n",
      "\n",
      "bestTest = 19.29084105\n",
      "bestIteration = 30\n",
      "\n",
      "\n",
      "bestTest = 20.05850457\n",
      "bestIteration = 30\n",
      "\n",
      "\n",
      "bestTest = 18.24335869\n",
      "bestIteration = 18\n",
      "\n",
      "\n",
      "bestTest = 23.493023\n",
      "bestIteration = 49\n",
      "\n",
      "\n",
      "bestTest = 23.62893004\n",
      "bestIteration = 49\n",
      "\n",
      "\n",
      "bestTest = 23.19970443\n",
      "bestIteration = 47\n",
      "\n",
      "\n",
      "bestTest = 23.93633518\n",
      "bestIteration = 47\n",
      "\n",
      "\n",
      "bestTest = 26.99733978\n",
      "bestIteration = 49\n",
      "\n",
      "\n",
      "bestTest = 25.25542389\n",
      "bestIteration = 45\n",
      "\n",
      "\n",
      "bestTest = 26.74745767\n",
      "bestIteration = 27\n",
      "\n",
      "\n",
      "bestTest = 28.71298728\n",
      "bestIteration = 43\n",
      "\n",
      "\n",
      "bestTest = 33.61885987\n",
      "bestIteration = 49\n",
      "\n",
      "\n",
      "bestTest = 32.16327868\n",
      "bestIteration = 49\n",
      "\n",
      "\n",
      "bestTest = 33.45602102\n",
      "bestIteration = 48\n",
      "\n",
      "\n",
      "bestTest = 35.86307835\n",
      "bestIteration = 48\n",
      "\n",
      "\n",
      "bestTest = 35.23975812\n",
      "bestIteration = 44\n",
      "\n",
      "\n",
      "bestTest = 32.33099657\n",
      "bestIteration = 40\n",
      "\n",
      "\n",
      "bestTest = 32.12370049\n",
      "bestIteration = 27\n",
      "\n",
      "\n",
      "bestTest = 37.29431377\n",
      "bestIteration = 28\n",
      "\n",
      "\n",
      "bestTest = 39.41307716\n",
      "bestIteration = 49\n",
      "\n",
      "\n",
      "bestTest = 37.40502997\n",
      "bestIteration = 48\n",
      "\n",
      "\n",
      "bestTest = 35.81606491\n",
      "bestIteration = 45\n",
      "\n",
      "\n",
      "bestTest = 35.75142931\n",
      "bestIteration = 49\n",
      "\n",
      "\n",
      "bestTest = 38.03522724\n",
      "bestIteration = 46\n",
      "\n",
      "\n",
      "bestTest = 35.53526372\n",
      "bestIteration = 44\n",
      "\n",
      "\n",
      "bestTest = 37.73212484\n",
      "bestIteration = 49\n",
      "\n",
      "\n",
      "bestTest = 38.06723605\n",
      "bestIteration = 24\n",
      "\n",
      "\n",
      "bestTest = 44.42760109\n",
      "bestIteration = 49\n",
      "\n",
      "\n",
      "bestTest = 43.26915818\n",
      "bestIteration = 49\n",
      "\n",
      "\n",
      "bestTest = 42.02726694\n",
      "bestIteration = 49\n",
      "\n",
      "\n",
      "bestTest = 43.76888406\n",
      "bestIteration = 47\n",
      "\n",
      "\n",
      "bestTest = 46.5747021\n",
      "bestIteration = 43\n",
      "\n",
      "\n",
      "bestTest = 44.77433321\n",
      "bestIteration = 36\n",
      "\n",
      "\n",
      "bestTest = 44.73544094\n",
      "bestIteration = 28\n",
      "\n",
      "\n",
      "bestTest = 36.64547286\n",
      "bestIteration = 34\n",
      "\n",
      "\n",
      "bestTest = 48.13780962\n",
      "bestIteration = 49\n",
      "\n",
      "\n",
      "bestTest = 48.65372599\n",
      "bestIteration = 47\n",
      "\n",
      "\n",
      "bestTest = 50.70669424\n",
      "bestIteration = 48\n",
      "\n",
      "\n",
      "bestTest = 48.98520576\n",
      "bestIteration = 48\n",
      "\n",
      "\n",
      "bestTest = 48.30839238\n",
      "bestIteration = 48\n",
      "\n",
      "\n",
      "bestTest = 47.06166877\n",
      "bestIteration = 36\n",
      "\n",
      "\n",
      "bestTest = 50.19358809\n",
      "bestIteration = 27\n",
      "\n",
      "\n",
      "bestTest = 43.86626027\n",
      "bestIteration = 28\n",
      "\n",
      "\n",
      "bestTest = 57.33032644\n",
      "bestIteration = 49\n",
      "\n",
      "\n",
      "bestTest = 55.209498\n",
      "bestIteration = 48\n",
      "\n",
      "\n",
      "bestTest = 55.38639826\n",
      "bestIteration = 49\n",
      "\n",
      "\n",
      "bestTest = 53.69090229\n",
      "bestIteration = 49\n",
      "\n",
      "\n",
      "bestTest = 49.7973611\n",
      "bestIteration = 42\n",
      "\n",
      "\n",
      "bestTest = 51.98148814\n",
      "bestIteration = 34\n",
      "\n",
      "\n",
      "bestTest = 42.50459875\n",
      "bestIteration = 36\n",
      "\n",
      "\n",
      "bestTest = 53.29749677\n",
      "bestIteration = 49\n",
      "\n",
      "\n",
      "bestTest = 58.6839679\n",
      "bestIteration = 49\n",
      "\n",
      "\n",
      "bestTest = 57.43536617\n",
      "bestIteration = 49\n",
      "\n",
      "\n",
      "bestTest = 52.42863269\n",
      "bestIteration = 49\n",
      "\n",
      "\n",
      "bestTest = 50.06224061\n",
      "bestIteration = 49\n",
      "\n",
      "\n",
      "bestTest = 59.95027561\n",
      "bestIteration = 49\n",
      "\n",
      "\n",
      "bestTest = 59.69026711\n",
      "bestIteration = 46\n",
      "\n",
      "\n",
      "bestTest = 56.79989376\n",
      "bestIteration = 19\n",
      "\n",
      "\n",
      "bestTest = 59.77806195\n",
      "bestIteration = 15\n",
      "\n",
      "\n",
      "bestTest = 75.83308284\n",
      "bestIteration = 49\n",
      "\n",
      "\n",
      "bestTest = 75.29119219\n",
      "bestIteration = 49\n",
      "\n",
      "\n",
      "bestTest = 65.2785381\n",
      "bestIteration = 49\n",
      "\n",
      "\n",
      "bestTest = 62.26924323\n",
      "bestIteration = 48\n",
      "\n",
      "\n",
      "bestTest = 61.25494951\n",
      "bestIteration = 49\n",
      "\n",
      "\n",
      "bestTest = 58.03199839\n",
      "bestIteration = 37\n",
      "\n",
      "\n",
      "bestTest = 57.74741418\n",
      "bestIteration = 23\n",
      "\n",
      "\n",
      "bestTest = 59.77537783\n",
      "bestIteration = 15\n",
      "\n",
      "\n",
      "bestTest = 84.608086\n",
      "bestIteration = 49\n",
      "\n",
      "\n",
      "bestTest = 85.02027802\n",
      "bestIteration = 49\n",
      "\n",
      "\n",
      "bestTest = 86.34735066\n",
      "bestIteration = 49\n",
      "\n",
      "\n",
      "bestTest = 75.38782631\n",
      "bestIteration = 49\n",
      "\n",
      "\n",
      "bestTest = 78.53696699\n",
      "bestIteration = 48\n",
      "\n",
      "\n",
      "bestTest = 77.04887747\n",
      "bestIteration = 47\n",
      "\n",
      "\n",
      "bestTest = 61.79665927\n",
      "bestIteration = 26\n",
      "\n",
      "\n",
      "bestTest = 64.58548543\n",
      "bestIteration = 25\n",
      "\n",
      "Training on fold [0/5]\n",
      "\n",
      "bestTest = 7.90684334\n",
      "bestIteration = 49\n",
      "\n",
      "Training on fold [1/5]\n",
      "\n",
      "bestTest = 9.18067467\n",
      "bestIteration = 44\n",
      "\n",
      "Training on fold [2/5]\n",
      "\n",
      "bestTest = 10.10443357\n",
      "bestIteration = 47\n",
      "\n",
      "Training on fold [3/5]\n",
      "\n",
      "bestTest = 8.639751199\n",
      "bestIteration = 47\n",
      "\n",
      "Training on fold [4/5]\n",
      "\n",
      "bestTest = 8.783896959\n",
      "bestIteration = 49\n",
      "\n",
      "Наилучшие гиперпараметры: {'depth': 3, 'learning_rate': 0.4}\n",
      "CPU times: total: 1h 27min 55s\n",
      "Wall time: 22min 59s\n"
     ]
    }
   ],
   "source": [
    "%%time\n",
    "\n",
    "params = { 'depth' : range(3, 16),\n",
    "           'learning_rate': np.array([0.2, 0.3, 0.4, 0.5, 0.6, 0.7, 0.8, 0.9])}\n",
    "\n",
    "model = CatBoostRegressor(random_state=170723, verbose=False, iterations=50, eval_metric='MAE')\n",
    "grid_search_result = model.grid_search(params,\n",
    "                                             X=features_train,\n",
    "                                             y=target_train,\n",
    "                                             cv=5,\n",
    "                                             partition_random_seed=170723,\n",
    "                                             calc_cv_statistics=True,\n",
    "                                             search_by_train_test_split=True,\n",
    "                                             refit=True,\n",
    "                                             shuffle=False,\n",
    "                                             train_size=0.8,\n",
    "                                             verbose=False )\n",
    "\n",
    "\n",
    "\n",
    "print('Наилучшие гиперпараметры:', grid_search_result['params'])\n"
   ]
  },
  {
   "cell_type": "code",
   "execution_count": 139,
   "id": "14a6c921",
   "metadata": {},
   "outputs": [
    {
     "name": "stdout",
     "output_type": "stream",
     "text": [
      "MAE: 5.64502044456952\n"
     ]
    }
   ],
   "source": [
    "print('MAE:', model.get_best_score()['learn']['MAE'])"
   ]
  },
  {
   "cell_type": "markdown",
   "id": "47a0ae0f",
   "metadata": {},
   "source": [
    "MAE около 5.65 - отличный результат!"
   ]
  },
  {
   "cell_type": "markdown",
   "id": "31b55e4e",
   "metadata": {},
   "source": [
    "Гиперпараметры подобранной модели:"
   ]
  },
  {
   "cell_type": "code",
   "execution_count": 140,
   "id": "23b97ba0",
   "metadata": {
    "scrolled": true
   },
   "outputs": [
    {
     "data": {
      "text/plain": [
       "{'iterations': 50,\n",
       " 'loss_function': 'RMSE',\n",
       " 'verbose': False,\n",
       " 'eval_metric': 'MAE',\n",
       " 'random_state': 170723,\n",
       " 'depth': 3,\n",
       " 'learning_rate': 0.4}"
      ]
     },
     "execution_count": 140,
     "metadata": {},
     "output_type": "execute_result"
    }
   ],
   "source": [
    "model.get_params()"
   ]
  },
  {
   "cell_type": "markdown",
   "id": "cee40fb4",
   "metadata": {},
   "source": [
    "## Тестирование модели<a id='step4'></a>"
   ]
  },
  {
   "cell_type": "markdown",
   "id": "0a55321d",
   "metadata": {},
   "source": [
    "Наилучший результат показал CatBoost, протестируем его"
   ]
  },
  {
   "cell_type": "code",
   "execution_count": 142,
   "id": "6c5d32e8",
   "metadata": {},
   "outputs": [
    {
     "name": "stdout",
     "output_type": "stream",
     "text": [
      "MAE: 6.407283078693335\n"
     ]
    }
   ],
   "source": [
    "best_model = CatBoostRegressor(random_state=170723, verbose=False, iterations=50, eval_metric='MAE', depth=3, learning_rate=0.4)\n",
    "best_model.fit(features_train, target_train) \n",
    "predictions = best_model.predict(features_test)\n",
    "result = mean_absolute_error(target_test, predictions)\n",
    "print('MAE:', result)"
   ]
  },
  {
   "cell_type": "markdown",
   "id": "37579d7b",
   "metadata": {},
   "source": [
    "Исследуем модель на адекватность. Сравним с моделью, которая всегда предсказывает медианное значение выходной температуры."
   ]
  },
  {
   "cell_type": "code",
   "execution_count": 143,
   "id": "ed111f0e",
   "metadata": {},
   "outputs": [
    {
     "name": "stdout",
     "output_type": "stream",
     "text": [
      "MAE: 7.900514579759863\n"
     ]
    }
   ],
   "source": [
    "dummy = DummyRegressor(strategy='median')\n",
    "dummy.fit(features_train, target_train)\n",
    "predictions = dummy.predict(features_test)\n",
    "result = mean_absolute_error(target_test, predictions)\n",
    "print('MAE:', result)"
   ]
  },
  {
   "cell_type": "markdown",
   "id": "7bdc24e7",
   "metadata": {},
   "source": [
    "Полученная модель КБ адекватна, метрика качества лучше метрики наивной модели."
   ]
  },
  {
   "cell_type": "markdown",
   "id": "164b3d89",
   "metadata": {},
   "source": [
    "## Исследование важности факторов<a id='step5'></a>"
   ]
  },
  {
   "cell_type": "markdown",
   "id": "48944f70",
   "metadata": {},
   "source": [
    "Используем библиотеку SHAP для исследования важности факторов"
   ]
  },
  {
   "cell_type": "code",
   "execution_count": 144,
   "id": "8869ab2e",
   "metadata": {
    "scrolled": false
   },
   "outputs": [
    {
     "data": {
      "image/png": "[encoded data removed]",
      "text/plain": [
       "<Figure size 576x828 with 2 Axes>"
      ]
     },
     "metadata": {
      "needs_background": "light"
     },
     "output_type": "display_data"
    }
   ],
   "source": [
    "shap_test = shap.TreeExplainer(best_model).shap_values(features_train)\n",
    "shap.summary_plot(shap_test, features_train,\n",
    "                      max_display=25, auto_size_plot=True)"
   ]
  },
  {
   "cell_type": "markdown",
   "id": "010a4f19",
   "metadata": {},
   "source": [
    "Из графика можно сделать некоторые выводы:\n",
    "1. Wire 7, Bulk 8, Wire 9 почти не влияют на температуру. Скорее всего для этих признаков недостаточно данных. Не стоит удалять эти факторы, так как они, возможно, важны для бизнеса (технологического процесса);\n",
    "2. Наибольшее влияние оказывают признаки first_temperature, work, Wire 1, причем зависимость между признаками и таргетом прямая. Новые признаки были созданы не зря;\n",
    "3. Некоторые данные обратно пропорциональны температуре розлива: чем больше объемы примесей Wire 2, Bulk 6, Bulk 1, тем меньше выходная температура. Возможно, во избежание перегрева стоит использовать именно их.\n",
    "4. Увеличение объемов Wire 1, Bulk 15, Bulk 14 и количества включений электродов способствуют перегреву."
   ]
  },
  {
   "cell_type": "markdown",
   "id": "d1e5c7a8",
   "metadata": {},
   "source": [
    "# Заключение<a id='step6'></a>"
   ]
  },
  {
   "cell_type": "markdown",
   "id": "0ca899c3",
   "metadata": {},
   "source": [
    "Таким образом, в итоге работы над проектом была получена модель, предсказывающая температуру стали, что поможет снизить затраты бизнеса на электроэнергию. Итоговая MAE равна 6.4, ТЗ (MAE ≤ 6.8) выполнено."
   ]
  },
  {
   "cell_type": "markdown",
   "id": "e6819c38",
   "metadata": {},
   "source": [
    "В ходе работы были выполнены следующие ключевые шаги:\n",
    "\n",
    "1. Проведен исследовательский анализ данных, выявлены особенности данных и аномалии;\n",
    "2. Выполнена предобработка данных: часть данных удалена, пропуски в сыпучих и проволочных материалах заменены нулем;\n",
    "3. Созданы новые признаки для обучения, позволившие избавиться от мультиколлинерности некоторых признаков и, соответственно, повысить качество модели;\n",
    "4. Сформирован итоговый датасет, лишние признаки удалены после финальной проверки на мультиколлинеарность;\n",
    "5. Датасет был разбит на тренировочную (75%) и тестовую(25%) выборки;\n",
    "6. Были обучены модели: Линейная регрессия, Случайный лес, CatBoost. Наилучший результат показал CatBoost: MAE около 5.65;\n",
    "   *Гиперпараметры модели: random_state=170723, iterations=50, depth=3, learning_rate=0.4;*\n",
    "7. Наилучшая модель была протестирована: MAE = 6.4. ТЗ выполнено;\n",
    "8. Модель исследована на адекватность;\n",
    "9. Был выполнен анализ важности факторов, сделаны выводы о том, что может влиять на перегрев на этапе обработки стали."
   ]
  },
  {
   "cell_type": "markdown",
   "id": "a888cedf",
   "metadata": {},
   "source": [
    "Для обучения были сформированы следующие признаки:\n",
    "\n",
    "1. Температура розлива - целевой признак.<br>\n",
    "   Пропущенные значения удалены; данные с одним замером температуры удалены.\n",
    "2. Первое измеренное значение температуры.\n",
    "3. Разница во времени первого и последнего замеров температуры в секундах.\n",
    "4. Работа: просуммировано в рамках каждой партии произведение полной мощности на время работы электродов.\n",
    "5. Количество включений электродов во время обработки отдельной партии.\n",
    "6. Объем продуваемого газа.\n",
    "7. Объем каждого сыпучего материала (кроме №9, №12). Пропуски заменены на ноль.\n",
    "8. Суммарный объем добавленных сыпучих материалов для партии.\n",
    "9. Объем каждого проволочного материала (кроме №5). Пропуски заменены на ноль.\n",
    "10. Суммарный объем добавленных проволочных материалов для партии.\n",
    "\n",
    "Из итоговой таблицы с признаками удалены записи, где есть хоть один пропуск. Всего потеряно около 6% данных."
   ]
  },
  {
   "cell_type": "markdown",
   "id": "f9f77a91",
   "metadata": {},
   "source": [
    "Для улучшения решения, возможно, стоит пересмотреть саму задачу, перестроить ее в задачу классификации, так как нам важно не точное значение температуры при перегреве, а сам факт перегрева:\n",
    "\n",
    "- Уточняем у заказчика рабочий диапазон температур этапа обработки;\n",
    "- Ставим метку, когда наблюдаемая температура выше этого диапазона (перегрев).\n",
    "- В итоге изучаем какие факторы способствовали этому перегреву."
   ]
  },
  {
   "cell_type": "markdown",
   "id": "799d123a",
   "metadata": {},
   "source": [
    "[В начало](#start)"
   ]
  }
 ],
 "metadata": {
  "ExecuteTimeLog": [
   {
    "duration": 7566,
    "start_time": "2023-07-24T03:57:26.561Z"
   },
   {
    "duration": 8154,
    "start_time": "2023-07-24T03:57:48.029Z"
   },
   {
    "duration": 352,
    "start_time": "2023-07-24T03:58:00.796Z"
   },
   {
    "duration": 14,
    "start_time": "2023-07-24T03:58:01.472Z"
   },
   {
    "duration": 47,
    "start_time": "2023-07-24T03:58:09.953Z"
   },
   {
    "duration": 13,
    "start_time": "2023-07-24T03:58:10.973Z"
   },
   {
    "duration": 13,
    "start_time": "2023-07-24T03:58:14.738Z"
   },
   {
    "duration": 4,
    "start_time": "2023-07-24T03:58:15.647Z"
   },
   {
    "duration": 7,
    "start_time": "2023-07-24T03:58:16.578Z"
   },
   {
    "duration": 4,
    "start_time": "2023-07-24T03:58:18.587Z"
   },
   {
    "duration": 13,
    "start_time": "2023-07-24T03:58:19.857Z"
   },
   {
    "duration": 13,
    "start_time": "2023-07-24T03:58:24.261Z"
   },
   {
    "duration": 10,
    "start_time": "2023-07-24T03:58:24.755Z"
   },
   {
    "duration": 5,
    "start_time": "2023-07-24T03:58:26.089Z"
   },
   {
    "duration": 23,
    "start_time": "2023-07-24T03:58:26.733Z"
   },
   {
    "duration": 16,
    "start_time": "2023-07-24T03:58:27.940Z"
   },
   {
    "duration": 20,
    "start_time": "2023-07-24T03:58:28.121Z"
   },
   {
    "duration": 4,
    "start_time": "2023-07-24T03:58:28.675Z"
   },
   {
    "duration": 12,
    "start_time": "2023-07-24T03:58:29.755Z"
   },
   {
    "duration": 9,
    "start_time": "2023-07-24T03:58:29.970Z"
   },
   {
    "duration": 39,
    "start_time": "2023-07-24T03:58:37.533Z"
   },
   {
    "duration": 35,
    "start_time": "2023-07-24T03:58:38.086Z"
   },
   {
    "duration": 3,
    "start_time": "2023-07-24T03:58:39.251Z"
   },
   {
    "duration": 7,
    "start_time": "2023-07-24T03:58:39.633Z"
   },
   {
    "duration": 26,
    "start_time": "2023-07-24T03:58:39.786Z"
   },
   {
    "duration": 6,
    "start_time": "2023-07-24T03:58:40.871Z"
   },
   {
    "duration": 32,
    "start_time": "2023-07-24T03:58:41.289Z"
   },
   {
    "duration": 80,
    "start_time": "2023-07-24T03:58:46.998Z"
   },
   {
    "duration": 14,
    "start_time": "2023-07-24T03:58:47.537Z"
   },
   {
    "duration": 5,
    "start_time": "2023-07-24T03:58:48.598Z"
   },
   {
    "duration": 8,
    "start_time": "2023-07-24T03:58:48.794Z"
   },
   {
    "duration": 65,
    "start_time": "2023-07-24T03:58:54.300Z"
   },
   {
    "duration": 3,
    "start_time": "2023-07-24T03:58:54.984Z"
   },
   {
    "duration": 25,
    "start_time": "2023-07-24T03:58:55.330Z"
   },
   {
    "duration": 24,
    "start_time": "2023-07-24T03:58:56.446Z"
   },
   {
    "duration": 6,
    "start_time": "2023-07-24T03:58:56.596Z"
   },
   {
    "duration": 5,
    "start_time": "2023-07-24T03:58:57.173Z"
   },
   {
    "duration": 23,
    "start_time": "2023-07-24T03:58:58.425Z"
   },
   {
    "duration": 18,
    "start_time": "2023-07-24T03:58:59.471Z"
   },
   {
    "duration": 23,
    "start_time": "2023-07-24T03:59:00.974Z"
   },
   {
    "duration": 6,
    "start_time": "2023-07-24T03:59:01.185Z"
   },
   {
    "duration": 5,
    "start_time": "2023-07-24T03:59:02.565Z"
   },
   {
    "duration": 5,
    "start_time": "2023-07-24T03:59:03.146Z"
   },
   {
    "duration": 6,
    "start_time": "2023-07-24T03:59:04.147Z"
   },
   {
    "duration": 9,
    "start_time": "2023-07-24T03:59:04.348Z"
   },
   {
    "duration": 14,
    "start_time": "2023-07-24T03:59:04.742Z"
   },
   {
    "duration": 23,
    "start_time": "2023-07-24T03:59:04.967Z"
   },
   {
    "duration": 5,
    "start_time": "2023-07-24T03:59:05.691Z"
   },
   {
    "duration": 9,
    "start_time": "2023-07-24T03:59:06.184Z"
   },
   {
    "duration": 20,
    "start_time": "2023-07-24T03:59:07.389Z"
   },
   {
    "duration": 4,
    "start_time": "2023-07-24T03:59:08.949Z"
   },
   {
    "duration": 11,
    "start_time": "2023-07-24T03:59:09.541Z"
   },
   {
    "duration": 65,
    "start_time": "2023-07-24T03:59:11.728Z"
   },
   {
    "duration": 11,
    "start_time": "2023-07-24T03:59:12.089Z"
   },
   {
    "duration": 30,
    "start_time": "2023-07-24T03:59:19.552Z"
   },
   {
    "duration": 18,
    "start_time": "2023-07-24T03:59:20.044Z"
   },
   {
    "duration": 2,
    "start_time": "2023-07-24T03:59:21.074Z"
   },
   {
    "duration": 3,
    "start_time": "2023-07-24T03:59:21.680Z"
   },
   {
    "duration": 14,
    "start_time": "2023-07-24T03:59:21.869Z"
   },
   {
    "duration": 8,
    "start_time": "2023-07-24T03:59:22.250Z"
   },
   {
    "duration": 18,
    "start_time": "2023-07-24T03:59:22.458Z"
   },
   {
    "duration": 17,
    "start_time": "2023-07-24T03:59:23.066Z"
   },
   {
    "duration": 30,
    "start_time": "2023-07-24T03:59:53.712Z"
   },
   {
    "duration": 4,
    "start_time": "2023-07-24T03:59:54.293Z"
   },
   {
    "duration": 31,
    "start_time": "2023-07-24T03:59:54.949Z"
   },
   {
    "duration": 14,
    "start_time": "2023-07-24T03:59:56.890Z"
   },
   {
    "duration": 12,
    "start_time": "2023-07-24T04:00:06.994Z"
   },
   {
    "duration": 7,
    "start_time": "2023-07-24T04:00:09.342Z"
   },
   {
    "duration": 12,
    "start_time": "2023-07-24T04:00:09.976Z"
   },
   {
    "duration": 497,
    "start_time": "2023-07-24T04:02:21.231Z"
   },
   {
    "duration": 5,
    "start_time": "2023-07-24T04:02:26.870Z"
   },
   {
    "duration": 28,
    "start_time": "2023-07-24T04:02:50.627Z"
   },
   {
    "duration": 5,
    "start_time": "2023-07-24T04:02:52.474Z"
   },
   {
    "duration": 12,
    "start_time": "2023-07-24T04:02:54.334Z"
   },
   {
    "duration": 15,
    "start_time": "2023-07-24T04:02:55.451Z"
   },
   {
    "duration": 9,
    "start_time": "2023-07-24T04:02:57.132Z"
   },
   {
    "duration": 6,
    "start_time": "2023-07-24T04:03:12.784Z"
   },
   {
    "duration": 38,
    "start_time": "2023-07-24T04:03:14.230Z"
   },
   {
    "duration": 283,
    "start_time": "2023-07-24T04:03:24.272Z"
   },
   {
    "duration": 11,
    "start_time": "2023-07-24T04:04:43.834Z"
   },
   {
    "duration": 13,
    "start_time": "2023-07-24T04:04:45.827Z"
   },
   {
    "duration": 4,
    "start_time": "2023-07-24T04:04:48.793Z"
   },
   {
    "duration": 932,
    "start_time": "2023-07-24T04:05:48.981Z"
   }
  ],
  "kernelspec": {
   "display_name": "Python 3 (ipykernel)",
   "language": "python",
   "name": "python3"
  },
  "language_info": {
   "codemirror_mode": {
    "name": "ipython",
    "version": 3
   },
   "file_extension": ".py",
   "mimetype": "text/x-python",
   "name": "python",
   "nbconvert_exporter": "python",
   "pygments_lexer": "ipython3",
   "version": "3.9.12"
  },
  "toc": {
   "base_numbering": 1,
   "nav_menu": {},
   "number_sections": true,
   "sideBar": true,
   "skip_h1_title": true,
   "title_cell": "Table of Contents",
   "title_sidebar": "Contents",
   "toc_cell": false,
   "toc_position": {},
   "toc_section_display": true,
   "toc_window_display": false
  }
 },
 "nbformat": 4,
 "nbformat_minor": 5
}
