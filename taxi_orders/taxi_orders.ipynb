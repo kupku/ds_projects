{
 "cells": [
  {
   "cell_type": "markdown",
   "metadata": {},
   "source": [
    "<a id='start'></a>"
   ]
  },
  {
   "cell_type": "markdown",
   "metadata": {},
   "source": [
    "#  Прогнозирование заказов такси"
   ]
  },
  {
   "cell_type": "markdown",
   "metadata": {},
   "source": [
    "Компания такси собрала исторические данные о заказах такси в аэропортах. Чтобы привлекать больше водителей в период пиковой нагрузки, нужно спрогнозировать количество заказов такси на следующий час. \n",
    "\n",
    "**Цель исследования:**<br>\n",
    "Построить модель предсказания количества заказов такси на следующий час.\n",
    "\n",
    "Значение метрики *RMSE* на тестовой выборке должно быть не больше 48.\n",
    "\n",
    "Задачи иследования:\n",
    "\n",
    "1. [Загрузить данные;](#step1)\n",
    "2. [Выполнить ресемплирование данных по одному часу и проанализировать их;](#step2)\n",
    "3. [Обучить разные модели с различными гиперпараметрами. Сделать тестовую выборку размером 10% от исходных данных;](#step3)\n",
    "4. [Проверить данные на тестовой выборке и сделать выводы;](#step4)\n",
    "5. [Подвести итог.](#step5)\n",
    "\n"
   ]
  },
  {
   "cell_type": "markdown",
   "metadata": {},
   "source": [
    "## Подготовка"
   ]
  },
  {
   "cell_type": "markdown",
   "metadata": {},
   "source": [
    "Импорт библиотек"
   ]
  },
  {
   "cell_type": "code",
   "execution_count": 1,
   "metadata": {},
   "outputs": [],
   "source": [
    "import pandas as pd\n",
    "import numpy as np\n",
    "import matplotlib.pyplot as plt\n",
    "\n",
    "from tqdm import tqdm\n",
    "\n",
    "from sklearn.ensemble import RandomForestRegressor\n",
    "from sklearn.linear_model import LinearRegression\n",
    "from sklearn.metrics import mean_squared_error\n",
    "from sklearn.model_selection import train_test_split\n",
    "from sklearn.model_selection import RandomizedSearchCV\n",
    "from sklearn.model_selection import GridSearchCV\n",
    "from sklearn.model_selection import TimeSeriesSplit\n",
    "from sklearn.tree import DecisionTreeRegressor\n",
    "\n",
    "from catboost import CatBoostRegressor\n",
    "from catboost.utils import eval_metric\n",
    "\n",
    "from statsmodels.tsa.seasonal import seasonal_decompose\n"
   ]
  },
  {
   "cell_type": "markdown",
   "metadata": {},
   "source": [
    "<a id='step1'></a>"
   ]
  },
  {
   "cell_type": "markdown",
   "metadata": {},
   "source": [
    "Загрузка данных. Сразу укажем столбец с датой, чтобы он точно был в нужном формате. Укажем столбец с датой в качестве индекса."
   ]
  },
  {
   "cell_type": "code",
   "execution_count": 2,
   "metadata": {
    "scrolled": false
   },
   "outputs": [
    {
     "data": {
      "text/html": [
       "<div>\n",
       "<style scoped>\n",
       "    .dataframe tbody tr th:only-of-type {\n",
       "        vertical-align: middle;\n",
       "    }\n",
       "\n",
       "    .dataframe tbody tr th {\n",
       "        vertical-align: top;\n",
       "    }\n",
       "\n",
       "    .dataframe thead th {\n",
       "        text-align: right;\n",
       "    }\n",
       "</style>\n",
       "<table border=\"1\" class=\"dataframe\">\n",
       "  <thead>\n",
       "    <tr style=\"text-align: right;\">\n",
       "      <th></th>\n",
       "      <th>num_orders</th>\n",
       "    </tr>\n",
       "    <tr>\n",
       "      <th>datetime</th>\n",
       "      <th></th>\n",
       "    </tr>\n",
       "  </thead>\n",
       "  <tbody>\n",
       "    <tr>\n",
       "      <th>2018-03-01 00:00:00</th>\n",
       "      <td>9</td>\n",
       "    </tr>\n",
       "    <tr>\n",
       "      <th>2018-03-01 00:10:00</th>\n",
       "      <td>14</td>\n",
       "    </tr>\n",
       "    <tr>\n",
       "      <th>2018-03-01 00:20:00</th>\n",
       "      <td>28</td>\n",
       "    </tr>\n",
       "    <tr>\n",
       "      <th>2018-03-01 00:30:00</th>\n",
       "      <td>20</td>\n",
       "    </tr>\n",
       "    <tr>\n",
       "      <th>2018-03-01 00:40:00</th>\n",
       "      <td>32</td>\n",
       "    </tr>\n",
       "  </tbody>\n",
       "</table>\n",
       "</div>"
      ],
      "text/plain": [
       "                     num_orders\n",
       "datetime                       \n",
       "2018-03-01 00:00:00           9\n",
       "2018-03-01 00:10:00          14\n",
       "2018-03-01 00:20:00          28\n",
       "2018-03-01 00:30:00          20\n",
       "2018-03-01 00:40:00          32"
      ]
     },
     "execution_count": 2,
     "metadata": {},
     "output_type": "execute_result"
    }
   ],
   "source": [
    "data_initial = pd.read_csv('/datasets/taxi.csv', parse_dates=['datetime'], index_col=[0])\n",
    "data_initial.head()"
   ]
  },
  {
   "cell_type": "markdown",
   "metadata": {},
   "source": [
    "Дату сделал индексом, тем самым преобразовал датафрейм во временной ряд."
   ]
  },
  {
   "cell_type": "markdown",
   "metadata": {},
   "source": [
    "На первый взгляд данные отсортированы по дате (далее проверим это), количество заказов находится в столбце 'num_orders'."
   ]
  },
  {
   "cell_type": "code",
   "execution_count": 3,
   "metadata": {},
   "outputs": [
    {
     "data": {
      "text/plain": [
       "num_orders   2018-08-13 02:20:00\n",
       "dtype: datetime64[ns]"
      ]
     },
     "execution_count": 3,
     "metadata": {},
     "output_type": "execute_result"
    }
   ],
   "source": [
    "data_initial.idxmax()"
   ]
  },
  {
   "cell_type": "markdown",
   "metadata": {},
   "source": [
    "Данные предоставлены до 2018-08-13"
   ]
  },
  {
   "cell_type": "markdown",
   "metadata": {},
   "source": [
    "<a id='step2'></a>"
   ]
  },
  {
   "cell_type": "markdown",
   "metadata": {},
   "source": [
    "## Анализ"
   ]
  },
  {
   "cell_type": "code",
   "execution_count": 4,
   "metadata": {
    "scrolled": false
   },
   "outputs": [
    {
     "name": "stdout",
     "output_type": "stream",
     "text": [
      "<class 'pandas.core.frame.DataFrame'>\n",
      "DatetimeIndex: 26496 entries, 2018-03-01 00:00:00 to 2018-08-31 23:50:00\n",
      "Data columns (total 1 columns):\n",
      " #   Column      Non-Null Count  Dtype\n",
      "---  ------      --------------  -----\n",
      " 0   num_orders  26496 non-null  int64\n",
      "dtypes: int64(1)\n",
      "memory usage: 414.0 KB\n"
     ]
    }
   ],
   "source": [
    "data_initial.info()"
   ]
  },
  {
   "cell_type": "markdown",
   "metadata": {},
   "source": [
    "Пропусков нет"
   ]
  },
  {
   "cell_type": "markdown",
   "metadata": {},
   "source": [
    "Убедимся, что данные отсортированы по дате"
   ]
  },
  {
   "cell_type": "code",
   "execution_count": 5,
   "metadata": {},
   "outputs": [
    {
     "data": {
      "text/plain": [
       "True"
      ]
     },
     "execution_count": 5,
     "metadata": {},
     "output_type": "execute_result"
    }
   ],
   "source": [
    "data_initial.index.is_monotonic"
   ]
  },
  {
   "cell_type": "markdown",
   "metadata": {},
   "source": [
    "Построим график"
   ]
  },
  {
   "cell_type": "code",
   "execution_count": 6,
   "metadata": {
    "scrolled": false
   },
   "outputs": [
    {
     "data": {
      "image/png": "[encoded data removed]",
      "text/plain": [
       "<Figure size 1080x504 with 1 Axes>"
      ]
     },
     "metadata": {
      "needs_background": "light"
     },
     "output_type": "display_data"
    }
   ],
   "source": [
    "data_initial.plot(figsize=(15, 7))\n",
    "plt.xlabel('Время')\n",
    "plt.ylabel('Количество заказов')\n",
    "plt.title('Количество заказов такси в зависимости от времени')\n",
    "plt.show()"
   ]
  },
  {
   "cell_type": "markdown",
   "metadata": {},
   "source": [
    "График плохо различим, построим заново график для промежутка с 6 по 7 июля для примера."
   ]
  },
  {
   "cell_type": "code",
   "execution_count": 7,
   "metadata": {
    "scrolled": false
   },
   "outputs": [
    {
     "data": {
      "image/png": "[encoded data removed]",
      "text/plain": [
       "<Figure size 1080x504 with 1 Axes>"
      ]
     },
     "metadata": {
      "needs_background": "light"
     },
     "output_type": "display_data"
    }
   ],
   "source": [
    "data_initial['2018-07-06 00:00':'2018-07-07 00:00'].plot(figsize=(15, 7))\n",
    "plt.xlabel('Время')\n",
    "plt.ylabel('Количество заказов')\n",
    "plt.title('Количество заказов такси 6 июля в зависимости от времени')\n",
    "plt.show()"
   ]
  },
  {
   "cell_type": "markdown",
   "metadata": {},
   "source": [
    "Временной ряд выглядит стационарным."
   ]
  },
  {
   "cell_type": "markdown",
   "metadata": {},
   "source": [
    "Выполним ресемплирование по 1 часу"
   ]
  },
  {
   "cell_type": "code",
   "execution_count": 8,
   "metadata": {},
   "outputs": [],
   "source": [
    "data = data_initial.copy()"
   ]
  },
  {
   "cell_type": "code",
   "execution_count": 9,
   "metadata": {},
   "outputs": [],
   "source": [
    "data = data.resample('1H').sum()"
   ]
  },
  {
   "cell_type": "code",
   "execution_count": 10,
   "metadata": {},
   "outputs": [
    {
     "data": {
      "text/html": [
       "<div>\n",
       "<style scoped>\n",
       "    .dataframe tbody tr th:only-of-type {\n",
       "        vertical-align: middle;\n",
       "    }\n",
       "\n",
       "    .dataframe tbody tr th {\n",
       "        vertical-align: top;\n",
       "    }\n",
       "\n",
       "    .dataframe thead th {\n",
       "        text-align: right;\n",
       "    }\n",
       "</style>\n",
       "<table border=\"1\" class=\"dataframe\">\n",
       "  <thead>\n",
       "    <tr style=\"text-align: right;\">\n",
       "      <th></th>\n",
       "      <th>num_orders</th>\n",
       "    </tr>\n",
       "    <tr>\n",
       "      <th>datetime</th>\n",
       "      <th></th>\n",
       "    </tr>\n",
       "  </thead>\n",
       "  <tbody>\n",
       "    <tr>\n",
       "      <th>2018-03-01 00:00:00</th>\n",
       "      <td>124</td>\n",
       "    </tr>\n",
       "    <tr>\n",
       "      <th>2018-03-01 01:00:00</th>\n",
       "      <td>85</td>\n",
       "    </tr>\n",
       "    <tr>\n",
       "      <th>2018-03-01 02:00:00</th>\n",
       "      <td>71</td>\n",
       "    </tr>\n",
       "    <tr>\n",
       "      <th>2018-03-01 03:00:00</th>\n",
       "      <td>66</td>\n",
       "    </tr>\n",
       "    <tr>\n",
       "      <th>2018-03-01 04:00:00</th>\n",
       "      <td>43</td>\n",
       "    </tr>\n",
       "  </tbody>\n",
       "</table>\n",
       "</div>"
      ],
      "text/plain": [
       "                     num_orders\n",
       "datetime                       \n",
       "2018-03-01 00:00:00         124\n",
       "2018-03-01 01:00:00          85\n",
       "2018-03-01 02:00:00          71\n",
       "2018-03-01 03:00:00          66\n",
       "2018-03-01 04:00:00          43"
      ]
     },
     "execution_count": 10,
     "metadata": {},
     "output_type": "execute_result"
    }
   ],
   "source": [
    "data.head()"
   ]
  },
  {
   "cell_type": "markdown",
   "metadata": {},
   "source": [
    "Ресемплирование проведено корректно."
   ]
  },
  {
   "cell_type": "markdown",
   "metadata": {},
   "source": [
    "Посмотрим как поменялся график"
   ]
  },
  {
   "cell_type": "code",
   "execution_count": 11,
   "metadata": {
    "scrolled": false
   },
   "outputs": [
    {
     "data": {
      "image/png": "[encoded data removed]",
      "text/plain": [
       "<Figure size 1080x504 with 1 Axes>"
      ]
     },
     "metadata": {
      "needs_background": "light"
     },
     "output_type": "display_data"
    }
   ],
   "source": [
    "data['2018-07-06 00:00':'2018-07-07 00:00'].plot(figsize=(15, 7))\n",
    "plt.xlabel('Время')\n",
    "plt.ylabel('Количество заказов')\n",
    "plt.title('Количество заказов такси 6 июля в зависимости от времени')\n",
    "plt.show()"
   ]
  },
  {
   "cell_type": "markdown",
   "metadata": {},
   "source": [
    "Видно, что шаг в данных уменьшился."
   ]
  },
  {
   "cell_type": "markdown",
   "metadata": {},
   "source": [
    "Создадим функцию, генерирующую новые признаки: год, месяц, день, день недели, отстающие значения и скользящее среднее"
   ]
  },
  {
   "cell_type": "code",
   "execution_count": 12,
   "metadata": {},
   "outputs": [],
   "source": [
    "def make_features(data, max_lag, rolling_mean_size):\n",
    "#     data['year'] = data.index.year\n",
    "    data['month'] = data.index.month\n",
    "#     data['day'] = data.index.day\n",
    "    data['dayofweek'] = data.index.dayofweek\n",
    "    data['hour'] = data.index.hour\n",
    "    \n",
    "    for lag in range(1, max_lag + 1):\n",
    "        data['lag_{}'.format(lag)] = data.iloc[:, 0].shift(lag)\n",
    "\n",
    "\n",
    "    data['rolling_mean'] = data.iloc[:, 0].shift().rolling(rolling_mean_size).mean()\n",
    "    "
   ]
  },
  {
   "cell_type": "markdown",
   "metadata": {},
   "source": [
    "Проверим работоспособность функции"
   ]
  },
  {
   "cell_type": "code",
   "execution_count": 13,
   "metadata": {},
   "outputs": [],
   "source": [
    "data_check = data.copy()"
   ]
  },
  {
   "cell_type": "code",
   "execution_count": 14,
   "metadata": {},
   "outputs": [],
   "source": [
    "make_features(data_check, 3, 3)"
   ]
  },
  {
   "cell_type": "code",
   "execution_count": 15,
   "metadata": {
    "scrolled": true
   },
   "outputs": [
    {
     "data": {
      "text/html": [
       "<div>\n",
       "<style scoped>\n",
       "    .dataframe tbody tr th:only-of-type {\n",
       "        vertical-align: middle;\n",
       "    }\n",
       "\n",
       "    .dataframe tbody tr th {\n",
       "        vertical-align: top;\n",
       "    }\n",
       "\n",
       "    .dataframe thead th {\n",
       "        text-align: right;\n",
       "    }\n",
       "</style>\n",
       "<table border=\"1\" class=\"dataframe\">\n",
       "  <thead>\n",
       "    <tr style=\"text-align: right;\">\n",
       "      <th></th>\n",
       "      <th>num_orders</th>\n",
       "      <th>month</th>\n",
       "      <th>dayofweek</th>\n",
       "      <th>hour</th>\n",
       "      <th>lag_1</th>\n",
       "      <th>lag_2</th>\n",
       "      <th>lag_3</th>\n",
       "      <th>rolling_mean</th>\n",
       "    </tr>\n",
       "    <tr>\n",
       "      <th>datetime</th>\n",
       "      <th></th>\n",
       "      <th></th>\n",
       "      <th></th>\n",
       "      <th></th>\n",
       "      <th></th>\n",
       "      <th></th>\n",
       "      <th></th>\n",
       "      <th></th>\n",
       "    </tr>\n",
       "  </thead>\n",
       "  <tbody>\n",
       "    <tr>\n",
       "      <th>2018-03-01 00:00:00</th>\n",
       "      <td>124</td>\n",
       "      <td>3</td>\n",
       "      <td>3</td>\n",
       "      <td>0</td>\n",
       "      <td>NaN</td>\n",
       "      <td>NaN</td>\n",
       "      <td>NaN</td>\n",
       "      <td>NaN</td>\n",
       "    </tr>\n",
       "    <tr>\n",
       "      <th>2018-03-01 01:00:00</th>\n",
       "      <td>85</td>\n",
       "      <td>3</td>\n",
       "      <td>3</td>\n",
       "      <td>1</td>\n",
       "      <td>124.0</td>\n",
       "      <td>NaN</td>\n",
       "      <td>NaN</td>\n",
       "      <td>NaN</td>\n",
       "    </tr>\n",
       "    <tr>\n",
       "      <th>2018-03-01 02:00:00</th>\n",
       "      <td>71</td>\n",
       "      <td>3</td>\n",
       "      <td>3</td>\n",
       "      <td>2</td>\n",
       "      <td>85.0</td>\n",
       "      <td>124.0</td>\n",
       "      <td>NaN</td>\n",
       "      <td>NaN</td>\n",
       "    </tr>\n",
       "    <tr>\n",
       "      <th>2018-03-01 03:00:00</th>\n",
       "      <td>66</td>\n",
       "      <td>3</td>\n",
       "      <td>3</td>\n",
       "      <td>3</td>\n",
       "      <td>71.0</td>\n",
       "      <td>85.0</td>\n",
       "      <td>124.0</td>\n",
       "      <td>93.333333</td>\n",
       "    </tr>\n",
       "    <tr>\n",
       "      <th>2018-03-01 04:00:00</th>\n",
       "      <td>43</td>\n",
       "      <td>3</td>\n",
       "      <td>3</td>\n",
       "      <td>4</td>\n",
       "      <td>66.0</td>\n",
       "      <td>71.0</td>\n",
       "      <td>85.0</td>\n",
       "      <td>74.000000</td>\n",
       "    </tr>\n",
       "  </tbody>\n",
       "</table>\n",
       "</div>"
      ],
      "text/plain": [
       "                     num_orders  month  dayofweek  hour  lag_1  lag_2  lag_3  \\\n",
       "datetime                                                                       \n",
       "2018-03-01 00:00:00         124      3          3     0    NaN    NaN    NaN   \n",
       "2018-03-01 01:00:00          85      3          3     1  124.0    NaN    NaN   \n",
       "2018-03-01 02:00:00          71      3          3     2   85.0  124.0    NaN   \n",
       "2018-03-01 03:00:00          66      3          3     3   71.0   85.0  124.0   \n",
       "2018-03-01 04:00:00          43      3          3     4   66.0   71.0   85.0   \n",
       "\n",
       "                     rolling_mean  \n",
       "datetime                           \n",
       "2018-03-01 00:00:00           NaN  \n",
       "2018-03-01 01:00:00           NaN  \n",
       "2018-03-01 02:00:00           NaN  \n",
       "2018-03-01 03:00:00     93.333333  \n",
       "2018-03-01 04:00:00     74.000000  "
      ]
     },
     "execution_count": 15,
     "metadata": {},
     "output_type": "execute_result"
    }
   ],
   "source": [
    "data_check.head()"
   ]
  },
  {
   "cell_type": "markdown",
   "metadata": {},
   "source": [
    "Функция работает корректно."
   ]
  },
  {
   "cell_type": "markdown",
   "metadata": {},
   "source": [
    "Для примера построим график скользящего среднего для промежутка времени с 1 по 3 июля"
   ]
  },
  {
   "cell_type": "code",
   "execution_count": 16,
   "metadata": {
    "scrolled": false
   },
   "outputs": [
    {
     "data": {
      "image/png": "[encoded data removed]",
      "text/plain": [
       "<Figure size 1080x504 with 1 Axes>"
      ]
     },
     "metadata": {
      "needs_background": "light"
     },
     "output_type": "display_data"
    }
   ],
   "source": [
    "data_check['2018-07-01 00:00':'2018-07-03 00:00'].plot(y=['num_orders', 'rolling_mean'], figsize=(15, 7))\n",
    "plt.xlabel('Время')\n",
    "plt.ylabel('Количество заказов')\n",
    "plt.title('Количество заказов такси с 1 по 3 июля в зависимости от времени')\n",
    "plt.show()"
   ]
  },
  {
   "cell_type": "markdown",
   "metadata": {},
   "source": [
    "График выглядит корректно"
   ]
  },
  {
   "cell_type": "markdown",
   "metadata": {},
   "source": [
    "Исследуем временной ряд на тренды и сезонность"
   ]
  },
  {
   "cell_type": "code",
   "execution_count": 17,
   "metadata": {},
   "outputs": [],
   "source": [
    "decomposed = seasonal_decompose(data)"
   ]
  },
  {
   "cell_type": "code",
   "execution_count": 18,
   "metadata": {
    "scrolled": false
   },
   "outputs": [
    {
     "data": {
      "image/png": "[encoded data removed]",
      "text/plain": [
       "<Figure size 1080x504 with 1 Axes>"
      ]
     },
     "metadata": {
      "needs_background": "light"
     },
     "output_type": "display_data"
    }
   ],
   "source": [
    "decomposed.trend.plot(ax=plt.gca(), figsize=(15, 7))\n",
    "plt.title('Тренд')\n",
    "plt.xlabel('Дата')\n",
    "plt.ylabel('Количество заказов')\n",
    "plt.show()"
   ]
  },
  {
   "cell_type": "markdown",
   "metadata": {},
   "source": [
    "Общий тренд такой, что количество заказов с марта по август в целом постоянно растет."
   ]
  },
  {
   "cell_type": "code",
   "execution_count": 19,
   "metadata": {},
   "outputs": [
    {
     "data": {
      "image/png": "[encoded data removed]",
      "text/plain": [
       "<Figure size 1080x504 with 1 Axes>"
      ]
     },
     "metadata": {
      "needs_background": "light"
     },
     "output_type": "display_data"
    }
   ],
   "source": [
    "decomposed.seasonal['2018-07-01':'2018-07-07'].plot(ax=plt.gca(), figsize=(15, 7))\n",
    "plt.title('Сезонность')\n",
    "plt.xlabel('Дата')\n",
    "plt.ylabel('Количество заказов')\n",
    "plt.show()"
   ]
  },
  {
   "cell_type": "markdown",
   "metadata": {},
   "source": [
    "Из графика видно, что период сезонности 1 сутки."
   ]
  },
  {
   "cell_type": "markdown",
   "metadata": {},
   "source": [
    "<a id='step3'></a>"
   ]
  },
  {
   "cell_type": "markdown",
   "metadata": {},
   "source": [
    "## Обучение"
   ]
  },
  {
   "cell_type": "markdown",
   "metadata": {},
   "source": [
    "Проведем обучение модели и проверим качество на обучающей выборке. На базе линейной регрессии подберем количество отстающих значений и размера окна скользящего среднего, при которых качество будет наибольшим."
   ]
  },
  {
   "cell_type": "markdown",
   "metadata": {},
   "source": [
    "*Линейная регрессия*"
   ]
  },
  {
   "cell_type": "code",
   "execution_count": 21,
   "metadata": {
    "scrolled": true
   },
   "outputs": [
    {
     "name": "stderr",
     "output_type": "stream",
     "text": [
      "  0%|          | 0/40 [00:00<?, ?it/s]"
     ]
    },
    {
     "name": "stdout",
     "output_type": "stream",
     "text": [
      "lag = 1; size = 1; result = 30.810087348640323\n",
      "lag = 1; size = 2; result = 30.773374507968935\n",
      "lag = 1; size = 3; result = 30.81759432383814\n",
      "lag = 1; size = 4; result = 30.803905739080307\n",
      "lag = 1; size = 5; result = 30.79204307396713\n",
      "lag = 1; size = 6; result = 30.773090357999962\n",
      "lag = 1; size = 7; result = 30.80136649358068\n",
      "lag = 1; size = 8; result = 30.816801123252983\n",
      "lag = 1; size = 9; result = 30.80799793059764\n",
      "lag = 1; size = 10; result = 30.812487236750467\n",
      "lag = 1; size = 11; result = 30.83177190551659\n",
      "lag = 1; size = 12; result = 30.83355822816304\n",
      "lag = 1; size = 13; result = 30.82969366054147\n",
      "lag = 1; size = 14; result = 30.829128158523336\n",
      "lag = 1; size = 15; result = 30.824825423436273\n",
      "lag = 1; size = 16; result = 30.831504097439876\n",
      "lag = 1; size = 17; result = 30.82566651658022\n",
      "lag = 1; size = 18; result = 30.80361649446527\n",
      "lag = 1; size = 19; result = 30.775553852519167\n",
      "lag = 1; size = 20; result = 30.756076677219685\n",
      "lag = 1; size = 21; result = 30.764717615989472\n",
      "lag = 1; size = 22; result = 30.822598808738686\n",
      "lag = 1; size = 23; result = 30.851375597295192\n",
      "lag = 1; size = 24; result = 30.78018907959706\n",
      "lag = 1; size = 25; result = 30.744278000015527\n",
      "lag = 1; size = 26; result = 30.74675703257115\n",
      "lag = 1; size = 27; result = 30.784232260287904\n",
      "lag = 1; size = 28; result = 30.81844478024105\n",
      "lag = 1; size = 29; result = 30.82975202329367\n",
      "lag = 1; size = 30; result = 30.84104151093636\n",
      "lag = 1; size = 31; result = 30.844968165102202\n",
      "lag = 1; size = 32; result = 30.846402315231547\n",
      "lag = 1; size = 33; result = 30.854405463523833\n",
      "lag = 1; size = 34; result = 30.859184194781413\n",
      "lag = 1; size = 35; result = 30.862169515006574\n",
      "lag = 1; size = 36; result = 30.85988929891741\n",
      "lag = 1; size = 37; result = 30.859177003614477\n",
      "lag = 1; size = 38; result = 30.86521566060189\n"
     ]
    },
    {
     "name": "stderr",
     "output_type": "stream",
     "text": [
      "  2%|▎         | 1/40 [00:05<03:28,  5.34s/it]"
     ]
    },
    {
     "name": "stdout",
     "output_type": "stream",
     "text": [
      "lag = 1; size = 39; result = 30.86894610241031\n",
      "lag = 1; size = 40; result = 30.872676664116984\n",
      "lag = 2; size = 1; result = 30.773374507968935\n",
      "lag = 2; size = 2; result = 30.773374507968935\n",
      "lag = 2; size = 3; result = 30.682335711056208\n",
      "lag = 2; size = 4; result = 30.637134218388976\n",
      "lag = 2; size = 5; result = 30.647445419927482\n",
      "lag = 2; size = 6; result = 30.643348892300494\n",
      "lag = 2; size = 7; result = 30.71339014125139\n",
      "lag = 2; size = 8; result = 30.75104620390195\n",
      "lag = 2; size = 9; result = 30.7359740195741\n",
      "lag = 2; size = 10; result = 30.74355596411371\n",
      "lag = 2; size = 11; result = 30.778271358870835\n",
      "lag = 2; size = 12; result = 30.788236528914908\n",
      "lag = 2; size = 13; result = 30.785638258653147\n",
      "lag = 2; size = 14; result = 30.7777809754398\n",
      "lag = 2; size = 15; result = 30.76744635588746\n",
      "lag = 2; size = 16; result = 30.77733445991905\n",
      "lag = 2; size = 17; result = 30.76926548269736\n",
      "lag = 2; size = 18; result = 30.739288957352\n",
      "lag = 2; size = 19; result = 30.70423026757147\n",
      "lag = 2; size = 20; result = 30.682239838965945\n",
      "lag = 2; size = 21; result = 30.694127939478292\n",
      "lag = 2; size = 22; result = 30.764665759844046\n",
      "lag = 2; size = 23; result = 30.80878803038575\n",
      "lag = 2; size = 24; result = 30.754738954229307\n",
      "lag = 2; size = 25; result = 30.72349604687213\n",
      "lag = 2; size = 26; result = 30.729856013094945\n",
      "lag = 2; size = 27; result = 30.765409913337507\n",
      "lag = 2; size = 28; result = 30.794147616552344\n",
      "lag = 2; size = 29; result = 30.801101548738377\n",
      "lag = 2; size = 30; result = 30.807490319159132\n",
      "lag = 2; size = 31; result = 30.810240839182267\n",
      "lag = 2; size = 32; result = 30.811424040956187\n",
      "lag = 2; size = 33; result = 30.816045154939555\n",
      "lag = 2; size = 34; result = 30.819972726129695\n",
      "lag = 2; size = 35; result = 30.82369789008508\n",
      "lag = 2; size = 36; result = 30.82160513383294\n",
      "lag = 2; size = 37; result = 30.820707713683042\n",
      "lag = 2; size = 38; result = 30.824332443085357\n",
      "lag = 2; size = 39; result = 30.826580936495347\n"
     ]
    },
    {
     "name": "stderr",
     "output_type": "stream",
     "text": [
      "  5%|▌         | 2/40 [00:11<03:46,  5.97s/it]"
     ]
    },
    {
     "name": "stdout",
     "output_type": "stream",
     "text": [
      "lag = 2; size = 40; result = 30.83080269461154\n",
      "lag = 3; size = 1; result = 30.684204520109592\n",
      "lag = 3; size = 2; result = 30.682335711056208\n",
      "lag = 3; size = 3; result = 30.683181517975175\n",
      "lag = 3; size = 4; result = 30.63712049002996\n",
      "lag = 3; size = 5; result = 30.642361328157307\n",
      "lag = 3; size = 6; result = 30.63101608901156\n",
      "lag = 3; size = 7; result = 30.67229414038335\n",
      "lag = 3; size = 8; result = 30.687693343044522\n",
      "lag = 3; size = 9; result = 30.678899891169355\n",
      "lag = 3; size = 10; result = 30.681936580226697\n",
      "lag = 3; size = 11; result = 30.699500845315985\n",
      "lag = 3; size = 12; result = 30.69873206723015\n",
      "lag = 3; size = 13; result = 30.695116933176383\n",
      "lag = 3; size = 14; result = 30.696812269425944\n",
      "lag = 3; size = 15; result = 30.693410371648216\n",
      "lag = 3; size = 16; result = 30.700314546965586\n",
      "lag = 3; size = 17; result = 30.695902940511797\n",
      "lag = 3; size = 18; result = 30.673794019080066\n",
      "lag = 3; size = 19; result = 30.64569088465665\n",
      "lag = 3; size = 20; result = 30.627787560129544\n",
      "lag = 3; size = 21; result = 30.637464288240814\n",
      "lag = 3; size = 22; result = 30.693949259943597\n",
      "lag = 3; size = 23; result = 30.716160115889338\n",
      "lag = 3; size = 24; result = 30.630052235790483\n",
      "lag = 3; size = 25; result = 30.593366126071693\n",
      "lag = 3; size = 26; result = 30.59781407535755\n",
      "lag = 3; size = 27; result = 30.62919012185259\n",
      "lag = 3; size = 28; result = 30.665599388390035\n",
      "lag = 3; size = 29; result = 30.680759209989155\n",
      "lag = 3; size = 30; result = 30.696439655552247\n",
      "lag = 3; size = 31; result = 30.702753316887765\n",
      "lag = 3; size = 32; result = 30.70488129664894\n",
      "lag = 3; size = 33; result = 30.716467363551693\n",
      "lag = 3; size = 34; result = 30.722350156286513\n",
      "lag = 3; size = 35; result = 30.72475708249393\n",
      "lag = 3; size = 36; result = 30.72237994252706\n",
      "lag = 3; size = 37; result = 30.72229442177757\n",
      "lag = 3; size = 38; result = 30.72980396378369\n",
      "lag = 3; size = 39; result = 30.73447528317807\n"
     ]
    },
    {
     "name": "stderr",
     "output_type": "stream",
     "text": [
      "  8%|▊         | 3/40 [00:17<03:42,  6.03s/it]"
     ]
    },
    {
     "name": "stdout",
     "output_type": "stream",
     "text": [
      "lag = 3; size = 40; result = 30.738026889389623\n",
      "lag = 4; size = 1; result = 30.637120490029957\n",
      "lag = 4; size = 2; result = 30.63712049002996\n",
      "lag = 4; size = 3; result = 30.637120490029957\n",
      "lag = 4; size = 4; result = 30.637120490029957\n",
      "lag = 4; size = 5; result = 30.636660025935672\n",
      "lag = 4; size = 6; result = 30.62482826483039\n",
      "lag = 4; size = 7; result = 30.64033365093025\n",
      "lag = 4; size = 8; result = 30.63977103193417\n",
      "lag = 4; size = 9; result = 30.645834649281202\n",
      "lag = 4; size = 10; result = 30.647044626660335\n",
      "lag = 4; size = 11; result = 30.650355480047082\n",
      "lag = 4; size = 12; result = 30.641930074525593\n",
      "lag = 4; size = 13; result = 30.639252674671596\n",
      "lag = 4; size = 14; result = 30.65076492469465\n",
      "lag = 4; size = 15; result = 30.65316784350806\n",
      "lag = 4; size = 16; result = 30.65717339040505\n",
      "lag = 4; size = 17; result = 30.656812561072048\n",
      "lag = 4; size = 18; result = 30.642463817991892\n",
      "lag = 4; size = 19; result = 30.61866853837765\n",
      "lag = 4; size = 20; result = 30.603593784226135\n",
      "lag = 4; size = 21; result = 30.61254483053424\n",
      "lag = 4; size = 22; result = 30.659305339512198\n",
      "lag = 4; size = 23; result = 30.663743193282578\n",
      "lag = 4; size = 24; result = 30.549672713716422\n",
      "lag = 4; size = 25; result = 30.510276041754082\n",
      "lag = 4; size = 26; result = 30.518238534045665\n",
      "lag = 4; size = 27; result = 30.552298685159226\n",
      "lag = 4; size = 28; result = 30.58556112371682\n",
      "lag = 4; size = 29; result = 30.60122478331736\n",
      "lag = 4; size = 30; result = 30.623610281730528\n",
      "lag = 4; size = 31; result = 30.633499819493803\n",
      "lag = 4; size = 32; result = 30.638879121194332\n",
      "lag = 4; size = 33; result = 30.65791008920601\n",
      "lag = 4; size = 34; result = 30.666812606709644\n",
      "lag = 4; size = 35; result = 30.66888070520979\n",
      "lag = 4; size = 36; result = 30.667199757251186\n",
      "lag = 4; size = 37; result = 30.668628073707257\n",
      "lag = 4; size = 38; result = 30.679868007705537\n",
      "lag = 4; size = 39; result = 30.686551646089917\n"
     ]
    },
    {
     "name": "stderr",
     "output_type": "stream",
     "text": [
      " 10%|█         | 4/40 [00:23<03:38,  6.06s/it]"
     ]
    },
    {
     "name": "stdout",
     "output_type": "stream",
     "text": [
      "lag = 4; size = 40; result = 30.689422887310865\n",
      "lag = 5; size = 1; result = 30.636660025935672\n",
      "lag = 5; size = 2; result = 30.636660025935672\n",
      "lag = 5; size = 3; result = 30.63495038979703\n",
      "lag = 5; size = 4; result = 30.636660025935672\n",
      "lag = 5; size = 5; result = 30.636660025935672\n",
      "lag = 5; size = 6; result = 30.621513100146885\n",
      "lag = 5; size = 7; result = 30.632983153913855\n",
      "lag = 5; size = 8; result = 30.626087187549476\n",
      "lag = 5; size = 9; result = 30.64349273843533\n",
      "lag = 5; size = 10; result = 30.64494995708563\n",
      "lag = 5; size = 11; result = 30.643257914547288\n",
      "lag = 5; size = 12; result = 30.63188446110081\n",
      "lag = 5; size = 13; result = 30.629722220882673\n",
      "lag = 5; size = 14; result = 30.645979827512043\n",
      "lag = 5; size = 15; result = 30.650459546632405\n",
      "lag = 5; size = 16; result = 30.65372431806803\n",
      "lag = 5; size = 17; result = 30.654609269291818\n",
      "lag = 5; size = 18; result = 30.64198049520682\n",
      "lag = 5; size = 19; result = 30.61864797415394\n",
      "lag = 5; size = 20; result = 30.60359368894732\n",
      "lag = 5; size = 21; result = 30.612536887902046\n",
      "lag = 5; size = 22; result = 30.658325246407863\n",
      "lag = 5; size = 23; result = 30.65810000030054\n",
      "lag = 5; size = 24; result = 30.531693964702608\n",
      "lag = 5; size = 25; result = 30.49067574306225\n",
      "lag = 5; size = 26; result = 30.501493898807155\n",
      "lag = 5; size = 27; result = 30.537963776951607\n",
      "lag = 5; size = 28; result = 30.572539661789303\n",
      "lag = 5; size = 29; result = 30.585226191037734\n",
      "lag = 5; size = 30; result = 30.608319792997865\n",
      "lag = 5; size = 31; result = 30.61921753447891\n",
      "lag = 5; size = 32; result = 30.62600167868802\n",
      "lag = 5; size = 33; result = 30.648863246340415\n",
      "lag = 5; size = 34; result = 30.65929798610085\n",
      "lag = 5; size = 35; result = 30.66155122046669\n",
      "lag = 5; size = 36; result = 30.660243511881177\n",
      "lag = 5; size = 37; result = 30.661949427753648\n",
      "lag = 5; size = 38; result = 30.67472446424617\n",
      "lag = 5; size = 39; result = 30.682212304441517\n"
     ]
    },
    {
     "name": "stderr",
     "output_type": "stream",
     "text": [
      " 12%|█▎        | 5/40 [00:31<03:47,  6.51s/it]"
     ]
    },
    {
     "name": "stdout",
     "output_type": "stream",
     "text": [
      "lag = 5; size = 40; result = 30.684999029076096\n",
      "lag = 6; size = 1; result = 30.62154345581597\n",
      "lag = 6; size = 2; result = 30.621513100146885\n",
      "lag = 6; size = 3; result = 30.621513100146885\n",
      "lag = 6; size = 4; result = 30.62151310014689\n",
      "lag = 6; size = 5; result = 30.62151310014689\n",
      "lag = 6; size = 6; result = 30.621512072863815\n",
      "lag = 6; size = 7; result = 30.552310777792467\n",
      "lag = 6; size = 8; result = 30.551811261250165\n",
      "lag = 6; size = 9; result = 30.625205991953138\n",
      "lag = 6; size = 10; result = 30.63059257706997\n",
      "lag = 6; size = 11; result = 30.616091056096334\n",
      "lag = 6; size = 12; result = 30.60084164701342\n",
      "lag = 6; size = 13; result = 30.6015994824863\n",
      "lag = 6; size = 14; result = 30.6279507907564\n",
      "lag = 6; size = 15; result = 30.63823364069249\n",
      "lag = 6; size = 16; result = 30.639869781021076\n",
      "lag = 6; size = 17; result = 30.643526114351644\n",
      "lag = 6; size = 18; result = 30.635975891253732\n",
      "lag = 6; size = 19; result = 30.615533186963\n",
      "lag = 6; size = 20; result = 30.60124819170092\n",
      "lag = 6; size = 21; result = 30.609366577029007\n",
      "lag = 6; size = 22; result = 30.650708048612426\n",
      "lag = 6; size = 23; result = 30.640136136484475\n",
      "lag = 6; size = 24; result = 30.492155970978665\n",
      "lag = 6; size = 25; result = 30.44813104171427\n",
      "lag = 6; size = 26; result = 30.463277078825932\n",
      "lag = 6; size = 27; result = 30.505288140077596\n",
      "lag = 6; size = 28; result = 30.543551469228426\n",
      "lag = 6; size = 29; result = 30.55725003570265\n",
      "lag = 6; size = 30; result = 30.576953864163368\n",
      "lag = 6; size = 31; result = 30.58610894688276\n",
      "lag = 6; size = 32; result = 30.593796000968755\n",
      "lag = 6; size = 33; result = 30.623052773542405\n",
      "lag = 6; size = 34; result = 30.636890997491705\n",
      "lag = 6; size = 35; result = 30.639587899956044\n",
      "lag = 6; size = 36; result = 30.63946384068824\n",
      "lag = 6; size = 37; result = 30.642340147526177\n",
      "lag = 6; size = 38; result = 30.657878268984955\n"
     ]
    },
    {
     "name": "stderr",
     "output_type": "stream",
     "text": [
      " 15%|█▌        | 6/40 [00:38<03:46,  6.67s/it]"
     ]
    },
    {
     "name": "stdout",
     "output_type": "stream",
     "text": [
      "lag = 6; size = 39; result = 30.667177070952885\n",
      "lag = 6; size = 40; result = 30.669939155009608\n",
      "lag = 7; size = 1; result = 30.552310777792467\n",
      "lag = 7; size = 2; result = 30.552310777792467\n",
      "lag = 7; size = 3; result = 30.552310777792464\n",
      "lag = 7; size = 4; result = 30.552310777792464\n",
      "lag = 7; size = 5; result = 30.552310777792464\n",
      "lag = 7; size = 6; result = 30.552310777792467\n",
      "lag = 7; size = 7; result = 30.552310777792467\n",
      "lag = 7; size = 8; result = 30.54602835190867\n",
      "lag = 7; size = 9; result = 30.533497153071234\n",
      "lag = 7; size = 10; result = 30.540221232044654\n",
      "lag = 7; size = 11; result = 30.564094880070392\n",
      "lag = 7; size = 12; result = 30.557944249528422\n",
      "lag = 7; size = 13; result = 30.55400839885823\n",
      "lag = 7; size = 14; result = 30.563046488902927\n",
      "lag = 7; size = 15; result = 30.56011307321725\n",
      "lag = 7; size = 16; result = 30.566760502052798\n",
      "lag = 7; size = 17; result = 30.564098517052855\n",
      "lag = 7; size = 18; result = 30.540862764248878\n",
      "lag = 7; size = 19; result = 30.506821905733457\n",
      "lag = 7; size = 20; result = 30.483055071315356\n",
      "lag = 7; size = 21; result = 30.494866667712724\n",
      "lag = 7; size = 22; result = 30.560763735241697\n",
      "lag = 7; size = 23; result = 30.579278482374264\n",
      "lag = 7; size = 24; result = 30.462299811075415\n",
      "lag = 7; size = 25; result = 30.42090784545222\n",
      "lag = 7; size = 26; result = 30.432696882361128\n",
      "lag = 7; size = 27; result = 30.46919169090987\n",
      "lag = 7; size = 28; result = 30.50146178757702\n",
      "lag = 7; size = 29; result = 30.51281959704261\n",
      "lag = 7; size = 30; result = 30.530292119452774\n",
      "lag = 7; size = 31; result = 30.544089143946174\n",
      "lag = 7; size = 32; result = 30.55299491007514\n",
      "lag = 7; size = 33; result = 30.575338583452798\n",
      "lag = 7; size = 34; result = 30.584691637237903\n",
      "lag = 7; size = 35; result = 30.586805512194594\n",
      "lag = 7; size = 36; result = 30.585189961162417\n",
      "lag = 7; size = 37; result = 30.58574031421156\n",
      "lag = 7; size = 38; result = 30.595764216133638\n",
      "lag = 7; size = 39; result = 30.60169291795123\n"
     ]
    },
    {
     "name": "stderr",
     "output_type": "stream",
     "text": [
      " 18%|█▊        | 7/40 [00:45<03:42,  6.75s/it]"
     ]
    },
    {
     "name": "stdout",
     "output_type": "stream",
     "text": [
      "lag = 7; size = 40; result = 30.604762759148223\n",
      "lag = 8; size = 1; result = 30.54602835190867\n",
      "lag = 8; size = 2; result = 30.54602835190867\n",
      "lag = 8; size = 3; result = 30.546028351908674\n",
      "lag = 8; size = 4; result = 30.54602835190867\n",
      "lag = 8; size = 5; result = 30.54602835190867\n",
      "lag = 8; size = 6; result = 30.54602835190867\n",
      "lag = 8; size = 7; result = 30.546028351908674\n",
      "lag = 8; size = 8; result = 30.54602835190867\n",
      "lag = 8; size = 9; result = 30.391109709634406\n",
      "lag = 8; size = 10; result = 30.473436732255724\n",
      "lag = 8; size = 11; result = 30.552435888765316\n",
      "lag = 8; size = 12; result = 30.553891616522577\n",
      "lag = 8; size = 13; result = 30.54947012945217\n",
      "lag = 8; size = 14; result = 30.55244473018578\n",
      "lag = 8; size = 15; result = 30.54471983323023\n",
      "lag = 8; size = 16; result = 30.553908681640234\n",
      "lag = 8; size = 17; result = 30.549459531394493\n",
      "lag = 8; size = 18; result = 30.519680111008203\n",
      "lag = 8; size = 19; result = 30.47756779209474\n",
      "lag = 8; size = 20; result = 30.445613838701565\n",
      "lag = 8; size = 21; result = 30.455972881464174\n",
      "lag = 8; size = 22; result = 30.537503956799767\n",
      "lag = 8; size = 23; result = 30.571925854060204\n",
      "lag = 8; size = 24; result = 30.46229443485999\n",
      "lag = 8; size = 25; result = 30.420740528924792\n",
      "lag = 8; size = 26; result = 30.432695631884357\n",
      "lag = 8; size = 27; result = 30.46885482415149\n",
      "lag = 8; size = 28; result = 30.500299830776232\n",
      "lag = 8; size = 29; result = 30.510934966621754\n",
      "lag = 8; size = 30; result = 30.527594805468006\n",
      "lag = 8; size = 31; result = 30.54086160731127\n",
      "lag = 8; size = 32; result = 30.550389065065744\n",
      "lag = 8; size = 33; result = 30.570978819183345\n",
      "lag = 8; size = 34; result = 30.57914982835038\n",
      "lag = 8; size = 35; result = 30.58150499129051\n",
      "lag = 8; size = 36; result = 30.579806947065794\n",
      "lag = 8; size = 37; result = 30.579837304433713\n",
      "lag = 8; size = 38; result = 30.58797660353518\n",
      "lag = 8; size = 39; result = 30.592720348277112\n",
      "lag = 8; size = 40; result = 30.59603122231343\n"
     ]
    },
    {
     "name": "stderr",
     "output_type": "stream",
     "text": [
      " 20%|██        | 8/40 [00:52<03:44,  7.02s/it]"
     ]
    },
    {
     "name": "stdout",
     "output_type": "stream",
     "text": [
      "lag = 9; size = 1; result = 30.391109709634406\n",
      "lag = 9; size = 2; result = 30.391109709634406\n",
      "lag = 9; size = 3; result = 30.391109709634406\n",
      "lag = 9; size = 4; result = 30.39110970963441\n",
      "lag = 9; size = 5; result = 30.39224500058112\n",
      "lag = 9; size = 6; result = 30.391109709634406\n",
      "lag = 9; size = 7; result = 30.39110970963441\n",
      "lag = 9; size = 8; result = 30.391109709634406\n",
      "lag = 9; size = 9; result = 30.391109709634406\n",
      "lag = 9; size = 10; result = 30.385367387449072\n",
      "lag = 9; size = 11; result = 30.30222060973037\n",
      "lag = 9; size = 12; result = 30.284550320199404\n",
      "lag = 9; size = 13; result = 30.31569191720123\n",
      "lag = 9; size = 14; result = 30.376928340580818\n",
      "lag = 9; size = 15; result = 30.397875770449687\n",
      "lag = 9; size = 16; result = 30.398514228654815\n",
      "lag = 9; size = 17; result = 30.403072120976113\n",
      "lag = 9; size = 18; result = 30.396683764720226\n",
      "lag = 9; size = 19; result = 30.371396886500186\n",
      "lag = 9; size = 20; result = 30.351433333858836\n",
      "lag = 9; size = 21; result = 30.36237336611936\n",
      "lag = 9; size = 22; result = 30.412727109151003\n",
      "lag = 9; size = 23; result = 30.387488660694714\n",
      "lag = 9; size = 24; result = 30.186054034982053\n",
      "lag = 9; size = 25; result = 30.133269000049804\n",
      "lag = 9; size = 26; result = 30.161619903585994\n",
      "lag = 9; size = 27; result = 30.218702431739555\n",
      "lag = 9; size = 28; result = 30.268747956047932\n",
      "lag = 9; size = 29; result = 30.289291979529533\n",
      "lag = 9; size = 30; result = 30.31857628636412\n",
      "lag = 9; size = 31; result = 30.338904593069923\n",
      "lag = 9; size = 32; result = 30.352346731965575\n",
      "lag = 9; size = 33; result = 30.375889664611705\n",
      "lag = 9; size = 34; result = 30.385994838495506\n",
      "lag = 9; size = 35; result = 30.384162443470064\n",
      "lag = 9; size = 36; result = 30.383113556153965\n",
      "lag = 9; size = 37; result = 30.390350903936444\n",
      "lag = 9; size = 38; result = 30.41158355317017\n",
      "lag = 9; size = 39; result = 30.424501656509257\n"
     ]
    },
    {
     "name": "stderr",
     "output_type": "stream",
     "text": [
      " 22%|██▎       | 9/40 [01:00<03:41,  7.14s/it]"
     ]
    },
    {
     "name": "stdout",
     "output_type": "stream",
     "text": [
      "lag = 9; size = 40; result = 30.427393333801586\n",
      "lag = 10; size = 1; result = 30.385367387449072\n",
      "lag = 10; size = 2; result = 30.385367387449072\n",
      "lag = 10; size = 3; result = 30.385367387449072\n",
      "lag = 10; size = 4; result = 30.385367387449072\n",
      "lag = 10; size = 5; result = 30.385367387449072\n",
      "lag = 10; size = 6; result = 30.385367387449072\n",
      "lag = 10; size = 7; result = 30.385367387449072\n",
      "lag = 10; size = 8; result = 30.385367387449072\n",
      "lag = 10; size = 9; result = 30.385367387449072\n",
      "lag = 10; size = 10; result = 30.385367387449072\n",
      "lag = 10; size = 11; result = 30.214620413368504\n",
      "lag = 10; size = 12; result = 30.238266785714032\n",
      "lag = 10; size = 13; result = 30.30466933955321\n",
      "lag = 10; size = 14; result = 30.376744984448347\n",
      "lag = 10; size = 15; result = 30.392341281124448\n",
      "lag = 10; size = 16; result = 30.39431010004879\n",
      "lag = 10; size = 17; result = 30.396719107016143\n",
      "lag = 10; size = 18; result = 30.382013605522243\n",
      "lag = 10; size = 19; result = 30.348629420025595\n",
      "lag = 10; size = 20; result = 30.324369642959685\n",
      "lag = 10; size = 21; result = 30.33647736289626\n",
      "lag = 10; size = 22; result = 30.400766498554095\n",
      "lag = 10; size = 23; result = 30.386695928393696\n",
      "lag = 10; size = 24; result = 30.179535221249502\n",
      "lag = 10; size = 25; result = 30.126043554235846\n",
      "lag = 10; size = 26; result = 30.15701160397742\n",
      "lag = 10; size = 27; result = 30.21676433254605\n",
      "lag = 10; size = 28; result = 30.268300446138337\n",
      "lag = 10; size = 29; result = 30.289246040178558\n",
      "lag = 10; size = 30; result = 30.31850586943037\n",
      "lag = 10; size = 31; result = 30.338478856648553\n",
      "lag = 10; size = 32; result = 30.35160613676477\n",
      "lag = 10; size = 33; result = 30.374699631100196\n",
      "lag = 10; size = 34; result = 30.38527508034193\n",
      "lag = 10; size = 35; result = 30.383898157418255\n",
      "lag = 10; size = 36; result = 30.382950043934223\n",
      "lag = 10; size = 37; result = 30.389858834039003\n",
      "lag = 10; size = 38; result = 30.40975560569691\n",
      "lag = 10; size = 39; result = 30.42134411860486\n",
      "lag = 10; size = 40; result = 30.424101890433608"
     ]
    },
    {
     "name": "stderr",
     "output_type": "stream",
     "text": [
      " 25%|██▌       | 10/40 [01:08<03:41,  7.37s/it]"
     ]
    },
    {
     "name": "stdout",
     "output_type": "stream",
     "text": [
      "\n",
      "lag = 11; size = 1; result = 30.214620413368504\n",
      "lag = 11; size = 2; result = 30.214620413368504\n",
      "lag = 11; size = 3; result = 30.214620413368504\n",
      "lag = 11; size = 4; result = 30.214620413368504\n",
      "lag = 11; size = 5; result = 30.214620413368504\n",
      "lag = 11; size = 6; result = 30.214620413368504\n",
      "lag = 11; size = 7; result = 30.216584940620734\n",
      "lag = 11; size = 8; result = 30.214620413368504\n",
      "lag = 11; size = 9; result = 30.214620413368504\n",
      "lag = 11; size = 10; result = 30.214620413368504\n",
      "lag = 11; size = 11; result = 30.214620413368504\n",
      "lag = 11; size = 12; result = 30.209307908998042\n",
      "lag = 11; size = 13; result = 30.211491146112607\n",
      "lag = 11; size = 14; result = 30.183905645225114\n",
      "lag = 11; size = 15; result = 30.1533047028581\n",
      "lag = 11; size = 16; result = 30.189743684418904\n",
      "lag = 11; size = 17; result = 30.188428484725762\n",
      "lag = 11; size = 18; result = 30.133367811822584\n",
      "lag = 11; size = 19; result = 30.05920294990774\n",
      "lag = 11; size = 20; result = 30.02292639491294\n",
      "lag = 11; size = 21; result = 30.049193019241606\n",
      "lag = 11; size = 22; result = 30.171951421770366\n",
      "lag = 11; size = 23; result = 30.234323786916363\n",
      "lag = 11; size = 24; result = 30.1073823639073\n",
      "lag = 11; size = 25; result = 30.059449469268635\n",
      "lag = 11; size = 26; result = 30.077690672407126\n",
      "lag = 11; size = 27; result = 30.123477663990116\n",
      "lag = 11; size = 28; result = 30.161260046699564\n",
      "lag = 11; size = 29; result = 30.174269124348744\n",
      "lag = 11; size = 30; result = 30.192550431597105\n",
      "lag = 11; size = 31; result = 30.205175884932927\n",
      "lag = 11; size = 32; result = 30.212463827518594\n",
      "lag = 11; size = 33; result = 30.2275023853723\n",
      "lag = 11; size = 34; result = 30.235283567909637\n",
      "lag = 11; size = 35; result = 30.240765604509285\n",
      "lag = 11; size = 36; result = 30.24178968705171\n",
      "lag = 11; size = 37; result = 30.242443705831832\n",
      "lag = 11; size = 38; result = 30.24765229835913\n"
     ]
    },
    {
     "name": "stderr",
     "output_type": "stream",
     "text": [
      " 28%|██▊       | 11/40 [01:16<03:39,  7.56s/it]"
     ]
    },
    {
     "name": "stdout",
     "output_type": "stream",
     "text": [
      "lag = 11; size = 39; result = 30.24969053243778\n",
      "lag = 11; size = 40; result = 30.25411224925135\n",
      "lag = 12; size = 1; result = 30.209307908998042\n",
      "lag = 12; size = 2; result = 30.209307908998042\n",
      "lag = 12; size = 3; result = 30.209307908998042\n",
      "lag = 12; size = 4; result = 30.209307908998042\n",
      "lag = 12; size = 5; result = 30.20930790899804\n",
      "lag = 12; size = 6; result = 30.209307908998042\n",
      "lag = 12; size = 7; result = 30.209307908998042\n",
      "lag = 12; size = 8; result = 30.209307908998042\n",
      "lag = 12; size = 9; result = 30.209307908998042\n",
      "lag = 12; size = 10; result = 30.209307908998042\n",
      "lag = 12; size = 11; result = 30.20930790899804\n",
      "lag = 12; size = 12; result = 30.209307908998042\n",
      "lag = 12; size = 13; result = 30.184352736216887\n",
      "lag = 12; size = 14; result = 30.09845160136902\n",
      "lag = 12; size = 15; result = 30.064715323479387\n",
      "lag = 12; size = 16; result = 30.147916171734405\n",
      "lag = 12; size = 17; result = 30.153628412694097\n",
      "lag = 12; size = 18; result = 30.085492300085882\n",
      "lag = 12; size = 19; result = 29.993944486906503\n",
      "lag = 12; size = 20; result = 29.946348787685388\n",
      "lag = 12; size = 21; result = 29.98364809681844\n",
      "lag = 12; size = 22; result = 30.139147643111947\n",
      "lag = 12; size = 23; result = 30.226250661777474\n",
      "lag = 12; size = 24; result = 30.106472008321653\n",
      "lag = 12; size = 25; result = 30.057277498451768\n",
      "lag = 12; size = 26; result = 30.076935058766495\n",
      "lag = 12; size = 27; result = 30.123473979637158\n",
      "lag = 12; size = 28; result = 30.160957184188014\n",
      "lag = 12; size = 29; result = 30.173532110328193\n",
      "lag = 12; size = 30; result = 30.190946105874385\n",
      "lag = 12; size = 31; result = 30.20273347792507\n",
      "lag = 12; size = 32; result = 30.209496243888353\n",
      "lag = 12; size = 33; result = 30.223207383147024\n",
      "lag = 12; size = 34; result = 30.23033245767036\n",
      "lag = 12; size = 35; result = 30.235675073025327\n",
      "lag = 12; size = 36; result = 30.236671311395057\n",
      "lag = 12; size = 37; result = 30.23634046833312\n",
      "lag = 12; size = 38; result = 30.238391365372774\n"
     ]
    },
    {
     "name": "stderr",
     "output_type": "stream",
     "text": [
      " 30%|███       | 12/40 [01:23<03:33,  7.64s/it]"
     ]
    },
    {
     "name": "stdout",
     "output_type": "stream",
     "text": [
      "lag = 12; size = 39; result = 30.238463143545633\n",
      "lag = 12; size = 40; result = 30.24414294444107\n",
      "lag = 13; size = 1; result = 30.184352736216884\n",
      "lag = 13; size = 2; result = 30.184352736216887\n",
      "lag = 13; size = 3; result = 30.184352736216887\n",
      "lag = 13; size = 4; result = 30.184352736216884\n",
      "lag = 13; size = 5; result = 30.184352736216887\n",
      "lag = 13; size = 6; result = 30.184352736216887\n",
      "lag = 13; size = 7; result = 30.184352736216887\n",
      "lag = 13; size = 8; result = 30.184352736216887\n",
      "lag = 13; size = 9; result = 30.184370834787902\n",
      "lag = 13; size = 10; result = 30.184352736216887\n",
      "lag = 13; size = 11; result = 30.184352736216884\n",
      "lag = 13; size = 12; result = 30.184352736216887\n",
      "lag = 13; size = 13; result = 30.184352736216887\n",
      "lag = 13; size = 14; result = 30.047840136293594\n",
      "lag = 13; size = 15; result = 30.032493812947394\n",
      "lag = 13; size = 16; result = 30.147691387611843\n",
      "lag = 13; size = 17; result = 30.153368516795656\n",
      "lag = 13; size = 18; result = 30.084875920013545\n",
      "lag = 13; size = 19; result = 29.990853240030017\n",
      "lag = 13; size = 20; result = 29.940504246857603\n",
      "lag = 13; size = 21; result = 29.978732525568077\n",
      "lag = 13; size = 22; result = 30.138613123314276\n",
      "lag = 13; size = 23; result = 30.20665152480285\n",
      "lag = 13; size = 24; result = 30.02724569731268\n",
      "lag = 13; size = 25; result = 29.967786992576492\n",
      "lag = 13; size = 26; result = 29.99805746615407\n",
      "lag = 13; size = 27; result = 30.060161699009246\n",
      "lag = 13; size = 28; result = 30.11063369979472\n",
      "lag = 13; size = 29; result = 30.128440691283206\n",
      "lag = 13; size = 30; result = 30.151901067733494\n",
      "lag = 13; size = 31; result = 30.167613829236625\n",
      "lag = 13; size = 32; result = 30.176902545792665\n",
      "lag = 13; size = 33; result = 30.1948503596762\n",
      "lag = 13; size = 34; result = 30.204272853596446\n",
      "lag = 13; size = 35; result = 30.210513003137212\n",
      "lag = 13; size = 36; result = 30.21172093581879\n",
      "lag = 13; size = 37; result = 30.21207849474405\n",
      "lag = 13; size = 38; result = 30.218871517104205\n",
      "lag = 13; size = 39; result = 30.221793699231878\n",
      "lag = 13; size = 40; result = 30.22586941498597\n"
     ]
    },
    {
     "name": "stderr",
     "output_type": "stream",
     "text": [
      " 32%|███▎      | 13/40 [01:31<03:29,  7.75s/it]"
     ]
    },
    {
     "name": "stdout",
     "output_type": "stream",
     "text": [
      "lag = 14; size = 1; result = 30.047840136293594\n",
      "lag = 14; size = 2; result = 30.048675508664584\n",
      "lag = 14; size = 3; result = 30.047840136293594\n",
      "lag = 14; size = 4; result = 30.047840136293594\n",
      "lag = 14; size = 5; result = 30.047840136293594\n",
      "lag = 14; size = 6; result = 30.047840136293594\n",
      "lag = 14; size = 7; result = 30.047840136293594\n",
      "lag = 14; size = 8; result = 30.047840136293594\n",
      "lag = 14; size = 9; result = 30.047840136293594\n",
      "lag = 14; size = 10; result = 30.047840136293594\n",
      "lag = 14; size = 11; result = 30.047840136293594\n",
      "lag = 14; size = 12; result = 30.047840136293594\n",
      "lag = 14; size = 13; result = 30.047840136293594\n",
      "lag = 14; size = 14; result = 30.047840136293594\n",
      "lag = 14; size = 15; result = 30.025236123655265\n",
      "lag = 14; size = 16; result = 30.049056622141773\n",
      "lag = 14; size = 17; result = 30.055428028923878\n",
      "lag = 14; size = 18; result = 30.03123977128338\n",
      "lag = 14; size = 19; result = 29.959694078240805\n",
      "lag = 14; size = 20; result = 29.914623352558156\n",
      "lag = 14; size = 21; result = 29.948233650951558\n",
      "lag = 14; size = 22; result = 30.059698709212267\n",
      "lag = 14; size = 23; result = 30.020923799560457\n",
      "lag = 14; size = 24; result = 29.663695594609607\n",
      "lag = 14; size = 25; result = 29.594002910204733\n",
      "lag = 14; size = 26; result = 29.656567626344568\n",
      "lag = 14; size = 27; result = 29.760924727741717\n",
      "lag = 14; size = 28; result = 29.852314993625967\n",
      "lag = 14; size = 29; result = 29.892612024801295\n",
      "lag = 14; size = 30; result = 29.935750581871567\n",
      "lag = 14; size = 31; result = 29.96481020903889\n",
      "lag = 14; size = 32; result = 29.98363581342863\n",
      "lag = 14; size = 33; result = 30.016009921536916\n",
      "lag = 14; size = 34; result = 30.033695080648577\n",
      "lag = 14; size = 35; result = 30.045275537787894\n",
      "lag = 14; size = 36; result = 30.050690569657345\n",
      "lag = 14; size = 37; result = 30.05534458457399\n",
      "lag = 14; size = 38; result = 30.06673841046831\n"
     ]
    },
    {
     "name": "stderr",
     "output_type": "stream",
     "text": [
      " 35%|███▌      | 14/40 [01:40<03:25,  7.89s/it]"
     ]
    },
    {
     "name": "stdout",
     "output_type": "stream",
     "text": [
      "lag = 14; size = 39; result = 30.074733239699345\n",
      "lag = 14; size = 40; result = 30.07320540190963\n",
      "lag = 15; size = 1; result = 30.025236123655265\n",
      "lag = 15; size = 2; result = 30.02523612365527\n",
      "lag = 15; size = 3; result = 30.025236123655265\n",
      "lag = 15; size = 4; result = 30.025236123655265\n",
      "lag = 15; size = 5; result = 30.025236123655265\n",
      "lag = 15; size = 6; result = 30.025236123655265\n",
      "lag = 15; size = 7; result = 30.025236123655265\n",
      "lag = 15; size = 8; result = 30.025236123655265\n",
      "lag = 15; size = 9; result = 30.024896873086877\n",
      "lag = 15; size = 10; result = 30.025236123655265\n",
      "lag = 15; size = 11; result = 30.025236123655265\n",
      "lag = 15; size = 12; result = 30.025236123655265\n",
      "lag = 15; size = 13; result = 30.025236123655265\n",
      "lag = 15; size = 14; result = 30.025236123655265\n",
      "lag = 15; size = 15; result = 30.025236123655265\n",
      "lag = 15; size = 16; result = 29.91015634785341\n",
      "lag = 15; size = 17; result = 29.99393437452352\n",
      "lag = 15; size = 18; result = 30.0259120009684\n",
      "lag = 15; size = 19; result = 29.95925460679292\n",
      "lag = 15; size = 20; result = 29.912180025784853\n",
      "lag = 15; size = 21; result = 29.94807977049388\n",
      "lag = 15; size = 22; result = 30.043673604351458\n",
      "lag = 15; size = 23; result = 29.922200863748913\n",
      "lag = 15; size = 24; result = 29.39490662466741\n",
      "lag = 15; size = 25; result = 29.33745414465316\n",
      "lag = 15; size = 26; result = 29.448292843421886\n",
      "lag = 15; size = 27; result = 29.59955542247648\n",
      "lag = 15; size = 28; result = 29.72706897025108\n",
      "lag = 15; size = 29; result = 29.78942996062433\n",
      "lag = 15; size = 30; result = 29.85236894034029\n",
      "lag = 15; size = 31; result = 29.892516732758104\n",
      "lag = 15; size = 32; result = 29.91926919000296\n",
      "lag = 15; size = 33; result = 29.962641918196855\n",
      "lag = 15; size = 34; result = 29.986813890385317\n",
      "lag = 15; size = 35; result = 30.00226792988694\n",
      "lag = 15; size = 36; result = 30.011286241269502\n",
      "lag = 15; size = 37; result = 30.017979760250117\n",
      "lag = 15; size = 38; result = 30.03178793223613\n",
      "lag = 15; size = 39; result = 30.038517214309866\n"
     ]
    },
    {
     "name": "stderr",
     "output_type": "stream",
     "text": [
      " 38%|███▊      | 15/40 [01:48<03:20,  8.01s/it]"
     ]
    },
    {
     "name": "stdout",
     "output_type": "stream",
     "text": [
      "lag = 15; size = 40; result = 30.032404869330556\n",
      "lag = 16; size = 1; result = 29.91015634785341\n",
      "lag = 16; size = 2; result = 29.91015634785341\n",
      "lag = 16; size = 3; result = 29.910156347853405\n",
      "lag = 16; size = 4; result = 29.91015634785341\n",
      "lag = 16; size = 5; result = 29.910156347853405\n",
      "lag = 16; size = 6; result = 29.910156347853405\n",
      "lag = 16; size = 7; result = 29.91015634785341\n",
      "lag = 16; size = 8; result = 29.91015634785341\n",
      "lag = 16; size = 9; result = 29.910156347853405\n",
      "lag = 16; size = 10; result = 29.91015634785341\n",
      "lag = 16; size = 11; result = 29.91015634785341\n",
      "lag = 16; size = 12; result = 29.91015634785341\n",
      "lag = 16; size = 13; result = 29.91015634785341\n",
      "lag = 16; size = 14; result = 29.91015634785341\n",
      "lag = 16; size = 15; result = 29.91015634785341\n",
      "lag = 16; size = 16; result = 29.91015634785341\n",
      "lag = 16; size = 17; result = 29.884202895481298\n",
      "lag = 16; size = 18; result = 29.66797167731175\n",
      "lag = 16; size = 19; result = 29.463846943459323\n",
      "lag = 16; size = 20; result = 29.411660894333373\n",
      "lag = 16; size = 21; result = 29.55390300270726\n",
      "lag = 16; size = 22; result = 29.86916724532136\n",
      "lag = 16; size = 23; result = 29.883607436868452\n",
      "lag = 16; size = 24; result = 29.392228980887392\n",
      "lag = 16; size = 25; result = 29.336506403879543\n",
      "lag = 16; size = 26; result = 29.446972182775404\n",
      "lag = 16; size = 27; result = 29.58966114018816\n",
      "lag = 16; size = 28; result = 29.703741202073452\n",
      "lag = 16; size = 29; result = 29.755835392082776\n",
      "lag = 16; size = 30; result = 29.80564158318141\n",
      "lag = 16; size = 31; result = 29.834904425874694\n",
      "lag = 16; size = 32; result = 29.854200185264258\n",
      "lag = 16; size = 33; result = 29.886001827295058\n",
      "lag = 16; size = 34; result = 29.902389486386383\n",
      "lag = 16; size = 35; result = 29.912584155739967\n",
      "lag = 16; size = 36; result = 29.916519648724066\n",
      "lag = 16; size = 37; result = 29.919139610052532\n",
      "lag = 16; size = 38; result = 29.92841627075137\n"
     ]
    },
    {
     "name": "stderr",
     "output_type": "stream",
     "text": [
      " 40%|████      | 16/40 [01:56<03:14,  8.10s/it]"
     ]
    },
    {
     "name": "stdout",
     "output_type": "stream",
     "text": [
      "lag = 16; size = 39; result = 29.933980215955952\n",
      "lag = 16; size = 40; result = 29.935064165791648\n",
      "lag = 17; size = 1; result = 29.884202895481298\n",
      "lag = 17; size = 2; result = 29.884202895481298\n",
      "lag = 17; size = 3; result = 29.884202895481298\n",
      "lag = 17; size = 4; result = 29.884202895481298\n",
      "lag = 17; size = 5; result = 29.884202895481298\n",
      "lag = 17; size = 6; result = 29.884202895481298\n",
      "lag = 17; size = 7; result = 29.884202895481298\n",
      "lag = 17; size = 8; result = 29.884202895481298\n",
      "lag = 17; size = 9; result = 29.884202895481298\n",
      "lag = 17; size = 10; result = 29.884202895481298\n",
      "lag = 17; size = 11; result = 29.884202895481298\n",
      "lag = 17; size = 12; result = 29.884202895481298\n",
      "lag = 17; size = 13; result = 29.884202895481298\n",
      "lag = 17; size = 14; result = 29.884202895481298\n",
      "lag = 17; size = 15; result = 29.884202895481298\n",
      "lag = 17; size = 16; result = 29.884202895481298\n",
      "lag = 17; size = 17; result = 29.884202895481298\n",
      "lag = 17; size = 18; result = 29.48765949584809\n",
      "lag = 17; size = 19; result = 29.245886045497237\n",
      "lag = 17; size = 20; result = 29.276730869693253\n",
      "lag = 17; size = 21; result = 29.51647873904592\n",
      "lag = 17; size = 22; result = 29.86484387651347\n",
      "lag = 17; size = 23; result = 29.81823450952227\n",
      "lag = 17; size = 24; result = 29.21071321965414\n",
      "lag = 17; size = 25; result = 29.151073633571286\n",
      "lag = 17; size = 26; result = 29.301988150631345\n",
      "lag = 17; size = 27; result = 29.480223261124056\n",
      "lag = 17; size = 28; result = 29.617035993168386\n",
      "lag = 17; size = 29; result = 29.681397567642705\n",
      "lag = 17; size = 30; result = 29.741261442619347\n",
      "lag = 17; size = 31; result = 29.778185000010435\n",
      "lag = 17; size = 32; result = 29.803267579503267\n",
      "lag = 17; size = 33; result = 29.841484420283418\n",
      "lag = 17; size = 34; result = 29.86151540534789\n",
      "lag = 17; size = 35; result = 29.874124133570007\n",
      "lag = 17; size = 36; result = 29.87994797388108\n",
      "lag = 17; size = 37; result = 29.8839416279154\n",
      "lag = 17; size = 38; result = 29.895756581755787\n"
     ]
    },
    {
     "name": "stderr",
     "output_type": "stream",
     "text": [
      " 42%|████▎     | 17/40 [02:05<03:08,  8.19s/it]"
     ]
    },
    {
     "name": "stdout",
     "output_type": "stream",
     "text": [
      "lag = 17; size = 39; result = 29.90215197228048\n",
      "lag = 17; size = 40; result = 29.901671591295667\n",
      "lag = 18; size = 1; result = 29.487659495848085\n",
      "lag = 18; size = 2; result = 29.48765949584809\n",
      "lag = 18; size = 3; result = 29.48765949584809\n",
      "lag = 18; size = 4; result = 29.487659495848085\n",
      "lag = 18; size = 5; result = 29.487659495848085\n",
      "lag = 18; size = 6; result = 29.48765949584809\n",
      "lag = 18; size = 7; result = 29.48765949584809\n",
      "lag = 18; size = 8; result = 29.487659495848085\n",
      "lag = 18; size = 9; result = 29.48765949584809\n",
      "lag = 18; size = 10; result = 29.48765949584809\n",
      "lag = 18; size = 11; result = 29.48765949584809\n",
      "lag = 18; size = 12; result = 29.48765949584809\n",
      "lag = 18; size = 13; result = 29.487659495848085\n",
      "lag = 18; size = 14; result = 29.48765949584809\n",
      "lag = 18; size = 15; result = 29.48765949584809\n",
      "lag = 18; size = 16; result = 29.487659495848085\n",
      "lag = 18; size = 17; result = 29.48765949584809\n",
      "lag = 18; size = 18; result = 29.48765949584809\n",
      "lag = 18; size = 19; result = 29.245781510092637\n",
      "lag = 18; size = 20; result = 29.2553294297403\n",
      "lag = 18; size = 21; result = 29.387067603021027\n",
      "lag = 18; size = 22; result = 29.48896723949605\n",
      "lag = 18; size = 23; result = 29.246669996234488\n",
      "lag = 18; size = 24; result = 28.4866098226668\n",
      "lag = 18; size = 25; result = 28.428842877205316\n",
      "lag = 18; size = 26; result = 28.601021154643682\n",
      "lag = 18; size = 27; result = 28.84543747938445\n",
      "lag = 18; size = 28; result = 29.037066342283186\n",
      "lag = 18; size = 29; result = 29.124044426087515\n",
      "lag = 18; size = 30; result = 29.20807175555927\n",
      "lag = 18; size = 31; result = 29.258471284521953\n",
      "lag = 18; size = 32; result = 29.297314378604355\n",
      "lag = 18; size = 33; result = 29.360504427354766\n",
      "lag = 18; size = 34; result = 29.391174043166494\n",
      "lag = 18; size = 35; result = 29.41039217620676\n",
      "lag = 18; size = 36; result = 29.426262703338463\n",
      "lag = 18; size = 37; result = 29.438347935923083\n",
      "lag = 18; size = 38; result = 29.45970379834711\n",
      "lag = 18; size = 39; result = 29.47182999246589\n"
     ]
    },
    {
     "name": "stderr",
     "output_type": "stream",
     "text": [
      " 45%|████▌     | 18/40 [02:14<03:05,  8.43s/it]"
     ]
    },
    {
     "name": "stdout",
     "output_type": "stream",
     "text": [
      "lag = 18; size = 40; result = 29.467831227318335\n",
      "lag = 19; size = 1; result = 29.245781510092637\n",
      "lag = 19; size = 2; result = 29.245781510092637\n",
      "lag = 19; size = 3; result = 29.245781510092634\n",
      "lag = 19; size = 4; result = 29.245781510092637\n",
      "lag = 19; size = 5; result = 29.245781510092637\n",
      "lag = 19; size = 6; result = 29.245781510092634\n",
      "lag = 19; size = 7; result = 29.245781510092634\n",
      "lag = 19; size = 8; result = 29.245781510092637\n",
      "lag = 19; size = 9; result = 29.245781510092634\n",
      "lag = 19; size = 10; result = 29.245781510092637\n",
      "lag = 19; size = 11; result = 29.245781510092637\n",
      "lag = 19; size = 12; result = 29.245781510092634\n",
      "lag = 19; size = 13; result = 29.245781510092637\n",
      "lag = 19; size = 14; result = 29.245781510092634\n",
      "lag = 19; size = 15; result = 29.245781510092637\n",
      "lag = 19; size = 16; result = 29.245781510092637\n",
      "lag = 19; size = 17; result = 29.245781510092637\n",
      "lag = 19; size = 18; result = 29.245781510092634\n",
      "lag = 19; size = 19; result = 29.245781510092637\n",
      "lag = 19; size = 20; result = 29.220809365879187\n",
      "lag = 19; size = 21; result = 29.251437230701985\n",
      "lag = 19; size = 22; result = 29.12714151224375\n",
      "lag = 19; size = 23; result = 28.738150226104786\n",
      "lag = 19; size = 24; result = 27.814726339571163\n",
      "lag = 19; size = 25; result = 27.81689742579749\n",
      "lag = 19; size = 26; result = 28.02056696736724\n",
      "lag = 19; size = 27; result = 28.30031171329026\n",
      "lag = 19; size = 28; result = 28.559074197596445\n",
      "lag = 19; size = 29; result = 28.683351844652655\n",
      "lag = 19; size = 30; result = 28.794107305791105\n",
      "lag = 19; size = 31; result = 28.86077736185701\n",
      "lag = 19; size = 32; result = 28.906835635215756\n",
      "lag = 19; size = 33; result = 28.997470059862806\n",
      "lag = 19; size = 34; result = 29.046879685307452\n",
      "lag = 19; size = 35; result = 29.073240858510605\n",
      "lag = 19; size = 36; result = 29.099700171810163\n",
      "lag = 19; size = 37; result = 29.121161330381817\n",
      "lag = 19; size = 38; result = 29.15545929165624\n",
      "lag = 19; size = 39; result = 29.174689815352465\n"
     ]
    },
    {
     "name": "stderr",
     "output_type": "stream",
     "text": [
      " 48%|████▊     | 19/40 [02:22<02:55,  8.36s/it]"
     ]
    },
    {
     "name": "stdout",
     "output_type": "stream",
     "text": [
      "lag = 19; size = 40; result = 29.170115330040467\n",
      "lag = 20; size = 1; result = 29.220809365879187\n",
      "lag = 20; size = 2; result = 29.220809365879187\n",
      "lag = 20; size = 3; result = 29.220809365879187\n",
      "lag = 20; size = 4; result = 29.220809365879187\n",
      "lag = 20; size = 5; result = 29.220809365879187\n",
      "lag = 20; size = 6; result = 29.220809365879187\n",
      "lag = 20; size = 7; result = 29.220809365879187\n",
      "lag = 20; size = 8; result = 29.22080936587919\n",
      "lag = 20; size = 9; result = 29.220809365879187\n",
      "lag = 20; size = 10; result = 29.220809365879187\n",
      "lag = 20; size = 11; result = 29.22080936587919\n",
      "lag = 20; size = 12; result = 29.220809365879187\n",
      "lag = 20; size = 13; result = 29.220809365879187\n",
      "lag = 20; size = 14; result = 29.220809365879187\n",
      "lag = 20; size = 15; result = 29.220809365879187\n",
      "lag = 20; size = 16; result = 29.220809365879187\n",
      "lag = 20; size = 17; result = 29.220809365879187\n",
      "lag = 20; size = 18; result = 29.220809365879187\n",
      "lag = 20; size = 19; result = 29.220809365879187\n",
      "lag = 20; size = 20; result = 29.220809365879187\n",
      "lag = 20; size = 21; result = 29.197260912509396\n",
      "lag = 20; size = 22; result = 28.84996695083083\n",
      "lag = 20; size = 23; result = 28.318453158709538\n",
      "lag = 20; size = 24; result = 27.17433554322018\n",
      "lag = 20; size = 25; result = 27.28070597319076\n",
      "lag = 20; size = 26; result = 27.612845158543426\n",
      "lag = 20; size = 27; result = 27.966087375697395\n",
      "lag = 20; size = 28; result = 28.28486935542237\n",
      "lag = 20; size = 29; result = 28.45937254707511\n",
      "lag = 20; size = 30; result = 28.612084385204078\n",
      "lag = 20; size = 31; result = 28.698729356894933\n",
      "lag = 20; size = 32; result = 28.755543571170783\n",
      "lag = 20; size = 33; result = 28.867207897344723\n",
      "lag = 20; size = 34; result = 28.933290336281132\n",
      "lag = 20; size = 35; result = 28.97146013724396\n",
      "lag = 20; size = 36; result = 29.006672073746998\n",
      "lag = 20; size = 37; result = 29.035638852609228\n",
      "lag = 20; size = 38; result = 29.07992665390949\n"
     ]
    },
    {
     "name": "stderr",
     "output_type": "stream",
     "text": [
      " 50%|█████     | 20/40 [02:30<02:48,  8.43s/it]"
     ]
    },
    {
     "name": "stdout",
     "output_type": "stream",
     "text": [
      "lag = 20; size = 39; result = 29.105378278669797\n",
      "lag = 20; size = 40; result = 29.10132668068575\n",
      "lag = 21; size = 1; result = 29.197260912509396\n",
      "lag = 21; size = 2; result = 29.197260912509396\n",
      "lag = 21; size = 3; result = 29.197260912509396\n",
      "lag = 21; size = 4; result = 29.197260912509396\n",
      "lag = 21; size = 5; result = 29.197260912509396\n",
      "lag = 21; size = 6; result = 29.197260912509396\n",
      "lag = 21; size = 7; result = 29.197260912509396\n",
      "lag = 21; size = 8; result = 29.197260912509396\n",
      "lag = 21; size = 9; result = 29.19512845746698\n",
      "lag = 21; size = 10; result = 29.197260912509396\n",
      "lag = 21; size = 11; result = 29.197260912509396\n",
      "lag = 21; size = 12; result = 29.197260912509396\n",
      "lag = 21; size = 13; result = 29.197260912509396\n",
      "lag = 21; size = 14; result = 29.197260912509396\n",
      "lag = 21; size = 15; result = 29.197260912509396\n",
      "lag = 21; size = 16; result = 29.197260912509396\n",
      "lag = 21; size = 17; result = 29.197260912509396\n",
      "lag = 21; size = 18; result = 29.197260912509396\n",
      "lag = 21; size = 19; result = 29.197260912509396\n",
      "lag = 21; size = 20; result = 29.197260912509396\n",
      "lag = 21; size = 21; result = 29.197260912509396\n",
      "lag = 21; size = 22; result = 28.560699716061364\n",
      "lag = 21; size = 23; result = 27.889523933659618\n",
      "lag = 21; size = 24; result = 26.469243616004082\n",
      "lag = 21; size = 25; result = 26.805270152168614\n",
      "lag = 21; size = 26; result = 27.322017874062183\n",
      "lag = 21; size = 27; result = 27.807163314919986\n",
      "lag = 21; size = 28; result = 28.1906729813658\n",
      "lag = 21; size = 29; result = 28.3932768671269\n",
      "lag = 21; size = 30; result = 28.577028043726898\n",
      "lag = 21; size = 31; result = 28.67860922069546\n",
      "lag = 21; size = 32; result = 28.740960242234042\n",
      "lag = 21; size = 33; result = 28.860428165465617\n",
      "lag = 21; size = 34; result = 28.930130430266406\n",
      "lag = 21; size = 35; result = 28.970302338771326\n",
      "lag = 21; size = 36; result = 29.00662498102423\n",
      "lag = 21; size = 37; result = 29.03552951218477\n",
      "lag = 21; size = 38; result = 29.07892594993618\n",
      "lag = 21; size = 39; result = 29.103247260998657\n"
     ]
    },
    {
     "name": "stderr",
     "output_type": "stream",
     "text": [
      " 52%|█████▎    | 21/40 [02:39<02:40,  8.43s/it]"
     ]
    },
    {
     "name": "stdout",
     "output_type": "stream",
     "text": [
      "lag = 21; size = 40; result = 29.099061749747037\n",
      "lag = 22; size = 1; result = 28.560699716061364\n",
      "lag = 22; size = 2; result = 28.560699716061364\n",
      "lag = 22; size = 3; result = 28.56055106436506\n",
      "lag = 22; size = 4; result = 28.560699716061364\n",
      "lag = 22; size = 5; result = 28.560699716061364\n",
      "lag = 22; size = 6; result = 28.560699716061364\n",
      "lag = 22; size = 7; result = 28.560719422974447\n",
      "lag = 22; size = 8; result = 28.560684715315244\n",
      "lag = 22; size = 9; result = 28.560628939353276\n",
      "lag = 22; size = 10; result = 28.560699716061364\n",
      "lag = 22; size = 11; result = 28.560921110893005\n",
      "lag = 22; size = 12; result = 28.560517165594476\n",
      "lag = 22; size = 13; result = 28.561242851126213\n",
      "lag = 22; size = 14; result = 28.560624123284203\n",
      "lag = 22; size = 15; result = 28.560629508092173\n",
      "lag = 22; size = 16; result = 28.56065014623846\n",
      "lag = 22; size = 17; result = 28.56090290092405\n",
      "lag = 22; size = 18; result = 28.560699716061364\n",
      "lag = 22; size = 19; result = 28.56079755273593\n",
      "lag = 22; size = 20; result = 28.560600705396983\n",
      "lag = 22; size = 21; result = 28.560657708545968\n",
      "lag = 22; size = 22; result = 28.56055343073617\n",
      "lag = 22; size = 23; result = 27.844771825707976\n",
      "lag = 22; size = 24; result = 26.205765270363692\n",
      "lag = 22; size = 25; result = 26.74982752038615\n",
      "lag = 22; size = 26; result = 27.321957847781977\n",
      "lag = 22; size = 27; result = 27.76847591980585\n",
      "lag = 22; size = 28; result = 28.06974202244324\n",
      "lag = 22; size = 29; result = 28.21760107295663\n",
      "lag = 22; size = 30; result = 28.343450500627238\n",
      "lag = 22; size = 31; result = 28.39501855898663\n",
      "lag = 22; size = 32; result = 28.423883734608765\n",
      "lag = 22; size = 33; result = 28.489477879983873\n",
      "lag = 22; size = 34; result = 28.521488078995656\n",
      "lag = 22; size = 35; result = 28.53885284768392\n",
      "lag = 22; size = 36; result = 28.545115906049503\n",
      "lag = 22; size = 37; result = 28.550795830389553\n",
      "lag = 22; size = 38; result = 28.56506201929964\n"
     ]
    },
    {
     "name": "stderr",
     "output_type": "stream",
     "text": [
      " 55%|█████▌    | 22/40 [02:47<02:33,  8.51s/it]"
     ]
    },
    {
     "name": "stdout",
     "output_type": "stream",
     "text": [
      "lag = 22; size = 39; result = 28.572535185600987\n",
      "lag = 22; size = 40; result = 28.570385365680192\n",
      "lag = 23; size = 1; result = 27.844332663299536\n",
      "lag = 23; size = 2; result = 27.845164363998954\n",
      "lag = 23; size = 3; result = 27.845604568129552\n",
      "lag = 23; size = 4; result = 27.844232744820467\n",
      "lag = 23; size = 5; result = 27.844933619212867\n",
      "lag = 23; size = 6; result = 27.84488690080276\n",
      "lag = 23; size = 7; result = 27.84477182570798\n",
      "lag = 23; size = 8; result = 27.845303700514588\n",
      "lag = 23; size = 9; result = 27.844771825707976\n",
      "lag = 23; size = 10; result = 27.844701440237266\n",
      "lag = 23; size = 11; result = 27.84478653614703\n",
      "lag = 23; size = 12; result = 27.84483238563371\n",
      "lag = 23; size = 13; result = 27.84473836699914\n",
      "lag = 23; size = 14; result = 27.844822997168457\n",
      "lag = 23; size = 15; result = 27.844682940969427\n",
      "lag = 23; size = 16; result = 27.84427536092678\n",
      "lag = 23; size = 17; result = 27.84498990369203\n",
      "lag = 23; size = 18; result = 27.844951016478245\n",
      "lag = 23; size = 19; result = 27.844855795697097\n",
      "lag = 23; size = 20; result = 27.844853864738774\n",
      "lag = 23; size = 21; result = 27.84477182570798\n",
      "lag = 23; size = 22; result = 27.84537815292806\n",
      "lag = 23; size = 23; result = 27.844822422871637\n",
      "lag = 23; size = 24; result = 25.743887697650422\n",
      "lag = 23; size = 25; result = 26.718395841630173\n",
      "lag = 23; size = 26; result = 27.294297724041474\n",
      "lag = 23; size = 27; result = 27.609531577696874\n",
      "lag = 23; size = 28; result = 27.763074604605244\n",
      "lag = 23; size = 29; result = 27.81044618410192\n",
      "lag = 23; size = 30; result = 27.84131983004807\n",
      "lag = 23; size = 31; result = 27.847977161545778\n",
      "lag = 23; size = 32; result = 27.849820828520862\n",
      "lag = 23; size = 33; result = 27.84361553782892\n",
      "lag = 23; size = 34; result = 27.83142818453331\n",
      "lag = 23; size = 35; result = 27.82523158337817\n",
      "lag = 23; size = 36; result = 27.812395250092415\n",
      "lag = 23; size = 37; result = 27.81641191412367\n",
      "lag = 23; size = 38; result = 27.809807225084068\n",
      "lag = 23; size = 39; result = 27.806516882296506\n"
     ]
    },
    {
     "name": "stderr",
     "output_type": "stream",
     "text": [
      " 57%|█████▊    | 23/40 [02:56<02:27,  8.66s/it]"
     ]
    },
    {
     "name": "stdout",
     "output_type": "stream",
     "text": [
      "lag = 23; size = 40; result = 27.823090462420733\n",
      "lag = 24; size = 1; result = 25.743895529912553\n",
      "lag = 24; size = 2; result = 25.743713459309994\n",
      "lag = 24; size = 3; result = 25.743887697650422\n",
      "lag = 24; size = 4; result = 25.744012602830463\n",
      "lag = 24; size = 5; result = 25.7439255384977\n",
      "lag = 24; size = 6; result = 25.743887697650422\n",
      "lag = 24; size = 7; result = 25.743887697650422\n",
      "lag = 24; size = 8; result = 25.74380249287118\n",
      "lag = 24; size = 9; result = 25.74407516387041\n",
      "lag = 24; size = 10; result = 25.743887697650422\n",
      "lag = 24; size = 11; result = 25.743889057400565\n",
      "lag = 24; size = 12; result = 25.743945476079187\n",
      "lag = 24; size = 13; result = 25.743963389527277\n",
      "lag = 24; size = 14; result = 25.74396874566334\n",
      "lag = 24; size = 15; result = 25.743887697650422\n",
      "lag = 24; size = 16; result = 25.743903744494705\n",
      "lag = 24; size = 17; result = 25.743887697650422\n",
      "lag = 24; size = 18; result = 25.74394615324797\n",
      "lag = 24; size = 19; result = 25.743896499235024\n",
      "lag = 24; size = 20; result = 25.743724896354337\n",
      "lag = 24; size = 21; result = 25.743887832921036\n",
      "lag = 24; size = 22; result = 25.743720794864785\n",
      "lag = 24; size = 23; result = 25.743887697650422\n",
      "lag = 24; size = 24; result = 25.743879473967052\n",
      "lag = 24; size = 25; result = 25.725291330996114\n",
      "lag = 24; size = 26; result = 25.630600645381634\n",
      "lag = 24; size = 27; result = 25.533965717469787\n",
      "lag = 24; size = 28; result = 25.44568755294382\n",
      "lag = 24; size = 29; result = 25.434158369446465\n",
      "lag = 24; size = 30; result = 25.39840988691964\n",
      "lag = 24; size = 31; result = 25.3717719313089\n",
      "lag = 24; size = 32; result = 25.373724489771632\n",
      "lag = 24; size = 33; result = 25.339187886050436\n",
      "lag = 24; size = 34; result = 25.32683116817858\n",
      "lag = 24; size = 35; result = 25.321115847311706\n",
      "lag = 24; size = 36; result = 25.320050553625165\n",
      "lag = 24; size = 37; result = 25.351637567575267\n",
      "lag = 24; size = 38; result = 25.367931418642293\n",
      "lag = 24; size = 39; result = 25.404241447275872\n"
     ]
    },
    {
     "name": "stderr",
     "output_type": "stream",
     "text": [
      " 60%|██████    | 24/40 [03:07<02:26,  9.18s/it]"
     ]
    },
    {
     "name": "stdout",
     "output_type": "stream",
     "text": [
      "lag = 24; size = 40; result = 25.469926042163085\n",
      "lag = 25; size = 1; result = 25.725234134990515\n",
      "lag = 25; size = 2; result = 25.725291330996114\n",
      "lag = 25; size = 3; result = 25.72497619862362\n",
      "lag = 25; size = 4; result = 25.725291330996114\n",
      "lag = 25; size = 5; result = 25.725339246296983\n",
      "lag = 25; size = 6; result = 25.725083292740457\n",
      "lag = 25; size = 7; result = 25.72528200503197\n",
      "lag = 25; size = 8; result = 25.725475595495105\n",
      "lag = 25; size = 9; result = 25.725075299979686\n",
      "lag = 25; size = 10; result = 25.725379412809776\n",
      "lag = 25; size = 11; result = 25.725291330996114\n",
      "lag = 25; size = 12; result = 25.725291330996114\n",
      "lag = 25; size = 13; result = 25.725291330996114\n",
      "lag = 25; size = 14; result = 25.725342648902746\n",
      "lag = 25; size = 15; result = 25.725291330996114\n",
      "lag = 25; size = 16; result = 25.725420699726033\n",
      "lag = 25; size = 17; result = 25.725291330996114\n",
      "lag = 25; size = 18; result = 25.725291330996114\n",
      "lag = 25; size = 19; result = 25.725291330996114\n",
      "lag = 25; size = 20; result = 25.72529133099611\n",
      "lag = 25; size = 21; result = 25.725291330996114\n",
      "lag = 25; size = 22; result = 25.725291330996114\n",
      "lag = 25; size = 23; result = 25.725354636303805\n",
      "lag = 25; size = 24; result = 25.725227178872874\n",
      "lag = 25; size = 25; result = 25.725304168478722\n",
      "lag = 25; size = 26; result = 25.59974877535374\n",
      "lag = 25; size = 27; result = 25.489474892692815\n",
      "lag = 25; size = 28; result = 25.40024471631665\n",
      "lag = 25; size = 29; result = 25.404885897752624\n",
      "lag = 25; size = 30; result = 25.374842050516694\n",
      "lag = 25; size = 31; result = 25.3545159942426\n",
      "lag = 25; size = 32; result = 25.359441661210084\n",
      "lag = 25; size = 33; result = 25.323294868033486\n",
      "lag = 25; size = 34; result = 25.315115840466113\n",
      "lag = 25; size = 35; result = 25.312540247895008\n",
      "lag = 25; size = 36; result = 25.312874440484173\n",
      "lag = 25; size = 37; result = 25.346682867985027\n",
      "lag = 25; size = 38; result = 25.364412763222088\n",
      "lag = 25; size = 39; result = 25.402882032214514\n"
     ]
    },
    {
     "name": "stderr",
     "output_type": "stream",
     "text": [
      " 62%|██████▎   | 25/40 [03:17<02:20,  9.36s/it]"
     ]
    },
    {
     "name": "stdout",
     "output_type": "stream",
     "text": [
      "lag = 25; size = 40; result = 25.46989889760106\n",
      "lag = 26; size = 1; result = 25.59974877535374\n",
      "lag = 26; size = 2; result = 25.599748775353735\n",
      "lag = 26; size = 3; result = 25.599748775353742\n",
      "lag = 26; size = 4; result = 25.599748775353742\n",
      "lag = 26; size = 5; result = 25.59974877535374\n",
      "lag = 26; size = 6; result = 25.59974877535374\n",
      "lag = 26; size = 7; result = 25.59974877535374\n",
      "lag = 26; size = 8; result = 25.59974877535374\n",
      "lag = 26; size = 9; result = 25.599748775353742\n",
      "lag = 26; size = 10; result = 25.599748775353742\n",
      "lag = 26; size = 11; result = 25.599748775353742\n",
      "lag = 26; size = 12; result = 25.599748775353742\n",
      "lag = 26; size = 13; result = 25.59974877535374\n",
      "lag = 26; size = 14; result = 25.599748775353742\n",
      "lag = 26; size = 15; result = 25.59974877535374\n",
      "lag = 26; size = 16; result = 25.59974877535374\n",
      "lag = 26; size = 17; result = 25.59974877535374\n",
      "lag = 26; size = 18; result = 25.599748775353735\n",
      "lag = 26; size = 19; result = 25.59974877535374\n",
      "lag = 26; size = 20; result = 25.59974877535374\n",
      "lag = 26; size = 21; result = 25.599748775353742\n",
      "lag = 26; size = 22; result = 25.599748775353742\n",
      "lag = 26; size = 23; result = 25.59974877535374\n",
      "lag = 26; size = 24; result = 25.59974877535374\n",
      "lag = 26; size = 25; result = 25.59974877535374\n",
      "lag = 26; size = 26; result = 25.59974877535374\n",
      "lag = 26; size = 27; result = 25.487073914754404\n",
      "lag = 26; size = 28; result = 25.39792056887818\n",
      "lag = 26; size = 29; result = 25.404630127363834\n",
      "lag = 26; size = 30; result = 25.373379060176653\n",
      "lag = 26; size = 31; result = 25.351023546140503\n",
      "lag = 26; size = 32; result = 25.35133581509892\n",
      "lag = 26; size = 33; result = 25.315894103048784\n",
      "lag = 26; size = 34; result = 25.307175297518228\n",
      "lag = 26; size = 35; result = 25.301182302365113\n",
      "lag = 26; size = 36; result = 25.29775640259906\n",
      "lag = 26; size = 37; result = 25.32740965944548\n",
      "lag = 26; size = 38; result = 25.34218096383137\n",
      "lag = 26; size = 39; result = 25.37533423781255\n"
     ]
    },
    {
     "name": "stderr",
     "output_type": "stream",
     "text": [
      " 65%|██████▌   | 26/40 [03:26<02:12,  9.46s/it]"
     ]
    },
    {
     "name": "stdout",
     "output_type": "stream",
     "text": [
      "lag = 26; size = 40; result = 25.431843250098094\n",
      "lag = 27; size = 1; result = 25.487069495693635\n",
      "lag = 27; size = 2; result = 25.487226003847884\n",
      "lag = 27; size = 3; result = 25.487073914754404\n",
      "lag = 27; size = 4; result = 25.487110707534324\n",
      "lag = 27; size = 5; result = 25.48704637168693\n",
      "lag = 27; size = 6; result = 25.487075606605273\n",
      "lag = 27; size = 7; result = 25.487073914754404\n",
      "lag = 27; size = 8; result = 25.487073914754404\n",
      "lag = 27; size = 9; result = 25.487073914754404\n",
      "lag = 27; size = 10; result = 25.487073914754404\n",
      "lag = 27; size = 11; result = 25.4870739147544\n",
      "lag = 27; size = 12; result = 25.487059396611702\n",
      "lag = 27; size = 13; result = 25.4870739147544\n",
      "lag = 27; size = 14; result = 25.487073914754404\n",
      "lag = 27; size = 15; result = 25.487073914754404\n",
      "lag = 27; size = 16; result = 25.487063545775747\n",
      "lag = 27; size = 17; result = 25.487030892894857\n",
      "lag = 27; size = 18; result = 25.487089883077996\n",
      "lag = 27; size = 19; result = 25.487073914754404\n",
      "lag = 27; size = 20; result = 25.4870739147544\n",
      "lag = 27; size = 21; result = 25.487199141939275\n",
      "lag = 27; size = 22; result = 25.4869445618227\n",
      "lag = 27; size = 23; result = 25.487053556725556\n",
      "lag = 27; size = 24; result = 25.487074174029622\n",
      "lag = 27; size = 25; result = 25.487065933695018\n",
      "lag = 27; size = 26; result = 25.487090850459246\n",
      "lag = 27; size = 27; result = 25.487088535594108\n",
      "lag = 27; size = 28; result = 25.39740782208599\n",
      "lag = 27; size = 29; result = 25.40150127087557\n",
      "lag = 27; size = 30; result = 25.3683121867379\n",
      "lag = 27; size = 31; result = 25.34335808853862\n",
      "lag = 27; size = 32; result = 25.338797922025552\n",
      "lag = 27; size = 33; result = 25.301779583162592\n",
      "lag = 27; size = 34; result = 25.291755049215087\n",
      "lag = 27; size = 35; result = 25.285285706792525\n",
      "lag = 27; size = 36; result = 25.278023018954723\n",
      "lag = 27; size = 37; result = 25.30105638117252\n",
      "lag = 27; size = 38; result = 25.312682806900536\n",
      "lag = 27; size = 39; result = 25.34060901010202\n"
     ]
    },
    {
     "name": "stderr",
     "output_type": "stream",
     "text": [
      " 68%|██████▊   | 27/40 [03:36<02:04,  9.54s/it]"
     ]
    },
    {
     "name": "stdout",
     "output_type": "stream",
     "text": [
      "lag = 27; size = 40; result = 25.387863997335508\n",
      "lag = 28; size = 1; result = 25.39740782208599\n",
      "lag = 28; size = 2; result = 25.39740782208599\n",
      "lag = 28; size = 3; result = 25.39740782208599\n",
      "lag = 28; size = 4; result = 25.39740782208599\n",
      "lag = 28; size = 5; result = 25.39740782208599\n",
      "lag = 28; size = 6; result = 25.397407822085988\n",
      "lag = 28; size = 7; result = 25.39740782208599\n",
      "lag = 28; size = 8; result = 25.39740782208599\n",
      "lag = 28; size = 9; result = 25.39740782208599\n",
      "lag = 28; size = 10; result = 25.39740782208599\n",
      "lag = 28; size = 11; result = 25.39740782208599\n",
      "lag = 28; size = 12; result = 25.39740782208599\n",
      "lag = 28; size = 13; result = 25.39740782208599\n",
      "lag = 28; size = 14; result = 25.39740782208599\n",
      "lag = 28; size = 15; result = 25.39740782208599\n",
      "lag = 28; size = 16; result = 25.39740782208599\n",
      "lag = 28; size = 17; result = 25.39740782208599\n",
      "lag = 28; size = 18; result = 25.39740782208599\n",
      "lag = 28; size = 19; result = 25.39740782208599\n",
      "lag = 28; size = 20; result = 25.39740782208599\n",
      "lag = 28; size = 21; result = 25.39740782208599\n",
      "lag = 28; size = 22; result = 25.397407822085988\n",
      "lag = 28; size = 23; result = 25.397407822085988\n",
      "lag = 28; size = 24; result = 25.39740782208599\n",
      "lag = 28; size = 25; result = 25.39740782208599\n",
      "lag = 28; size = 26; result = 25.39740782208599\n",
      "lag = 28; size = 27; result = 25.39740782208599\n",
      "lag = 28; size = 28; result = 25.39740782208599\n",
      "lag = 28; size = 29; result = 25.388515606060558\n",
      "lag = 28; size = 30; result = 25.3597780876978\n",
      "lag = 28; size = 31; result = 25.334399145627117\n",
      "lag = 28; size = 32; result = 25.325932949688127\n",
      "lag = 28; size = 33; result = 25.29015835175534\n",
      "lag = 28; size = 34; result = 25.276532965949315\n",
      "lag = 28; size = 35; result = 25.269245704498157\n",
      "lag = 28; size = 36; result = 25.26179736261753\n",
      "lag = 28; size = 37; result = 25.278808548069144\n",
      "lag = 28; size = 38; result = 25.286166632291994\n"
     ]
    },
    {
     "name": "stderr",
     "output_type": "stream",
     "text": [
      " 70%|███████   | 28/40 [03:46<01:54,  9.56s/it]"
     ]
    },
    {
     "name": "stdout",
     "output_type": "stream",
     "text": [
      "lag = 28; size = 39; result = 25.309173831354048\n",
      "lag = 28; size = 40; result = 25.34770936198511\n",
      "lag = 29; size = 1; result = 25.38851560606056\n",
      "lag = 29; size = 2; result = 25.388515606060558\n",
      "lag = 29; size = 3; result = 25.388515606060558\n",
      "lag = 29; size = 4; result = 25.38851560606056\n",
      "lag = 29; size = 5; result = 25.38851560606056\n",
      "lag = 29; size = 6; result = 25.388515606060558\n",
      "lag = 29; size = 7; result = 25.38851560606056\n",
      "lag = 29; size = 8; result = 25.38851560606056\n",
      "lag = 29; size = 9; result = 25.388515606060558\n",
      "lag = 29; size = 10; result = 25.388515606060558\n",
      "lag = 29; size = 11; result = 25.388515606060558\n",
      "lag = 29; size = 12; result = 25.388515606060558\n",
      "lag = 29; size = 13; result = 25.38851560606056\n",
      "lag = 29; size = 14; result = 25.388515606060558\n",
      "lag = 29; size = 15; result = 25.388515606060558\n",
      "lag = 29; size = 16; result = 25.38851560606056\n",
      "lag = 29; size = 17; result = 25.388515606060558\n",
      "lag = 29; size = 18; result = 25.38851560606056\n",
      "lag = 29; size = 19; result = 25.388515606060558\n",
      "lag = 29; size = 20; result = 25.38851560606056\n",
      "lag = 29; size = 21; result = 25.38851560606056\n",
      "lag = 29; size = 22; result = 25.38851560606056\n",
      "lag = 29; size = 23; result = 25.388515606060558\n",
      "lag = 29; size = 24; result = 25.38851560606056\n",
      "lag = 29; size = 25; result = 25.38851560606056\n",
      "lag = 29; size = 26; result = 25.388515606060558\n",
      "lag = 29; size = 27; result = 25.388515606060558\n",
      "lag = 29; size = 28; result = 25.38851560606056\n",
      "lag = 29; size = 29; result = 25.388515606060558\n",
      "lag = 29; size = 30; result = 25.351365652057982\n",
      "lag = 29; size = 31; result = 25.32455479483119\n",
      "lag = 29; size = 32; result = 25.31997202892697\n",
      "lag = 29; size = 33; result = 25.282316922406157\n",
      "lag = 29; size = 34; result = 25.270637655151514\n",
      "lag = 29; size = 35; result = 25.26548748269226\n",
      "lag = 29; size = 36; result = 25.258397356192464\n",
      "lag = 29; size = 37; result = 25.276649110831688\n",
      "lag = 29; size = 38; result = 25.285116720993486\n",
      "lag = 29; size = 39; result = 25.309008069672892\n"
     ]
    },
    {
     "name": "stderr",
     "output_type": "stream",
     "text": [
      " 72%|███████▎  | 29/40 [03:56<01:47,  9.77s/it]"
     ]
    },
    {
     "name": "stdout",
     "output_type": "stream",
     "text": [
      "lag = 29; size = 40; result = 25.347595597243874\n",
      "lag = 30; size = 1; result = 25.35136565205798\n",
      "lag = 30; size = 2; result = 25.351365652057982\n",
      "lag = 30; size = 3; result = 25.351365652057982\n",
      "lag = 30; size = 4; result = 25.351365652057982\n",
      "lag = 30; size = 5; result = 25.351365652057982\n",
      "lag = 30; size = 6; result = 25.351365652057982\n",
      "lag = 30; size = 7; result = 25.351365652057982\n",
      "lag = 30; size = 8; result = 25.351365652057982\n",
      "lag = 30; size = 9; result = 25.35136565205798\n",
      "lag = 30; size = 10; result = 25.351365652057982\n",
      "lag = 30; size = 11; result = 25.351365652057982\n",
      "lag = 30; size = 12; result = 25.351365652057982\n",
      "lag = 30; size = 13; result = 25.351365652057982\n",
      "lag = 30; size = 14; result = 25.351365652057982\n",
      "lag = 30; size = 15; result = 25.351365652057982\n",
      "lag = 30; size = 16; result = 25.351365652057982\n",
      "lag = 30; size = 17; result = 25.351365652057982\n",
      "lag = 30; size = 18; result = 25.351365652057982\n",
      "lag = 30; size = 19; result = 25.351365652057982\n",
      "lag = 30; size = 20; result = 25.351365652057982\n",
      "lag = 30; size = 21; result = 25.351365652057982\n",
      "lag = 30; size = 22; result = 25.351365652057982\n",
      "lag = 30; size = 23; result = 25.351365652057982\n",
      "lag = 30; size = 24; result = 25.351365652057982\n",
      "lag = 30; size = 25; result = 25.351365652057982\n",
      "lag = 30; size = 26; result = 25.35136565205798\n",
      "lag = 30; size = 27; result = 25.351365652057982\n",
      "lag = 30; size = 28; result = 25.351365652057982\n",
      "lag = 30; size = 29; result = 25.351365652057982\n",
      "lag = 30; size = 30; result = 25.351365652057982\n",
      "lag = 30; size = 31; result = 25.32448845210939\n",
      "lag = 30; size = 32; result = 25.319513978701224\n",
      "lag = 30; size = 33; result = 25.28231502842112\n",
      "lag = 30; size = 34; result = 25.270398269079482\n",
      "lag = 30; size = 35; result = 25.264621973236835\n",
      "lag = 30; size = 36; result = 25.256529919924837\n",
      "lag = 30; size = 37; result = 25.27315125527979\n",
      "lag = 30; size = 38; result = 25.280777632660126\n",
      "lag = 30; size = 39; result = 25.301216022554225\n"
     ]
    },
    {
     "name": "stderr",
     "output_type": "stream",
     "text": [
      " 75%|███████▌  | 30/40 [04:06<01:38,  9.84s/it]"
     ]
    },
    {
     "name": "stdout",
     "output_type": "stream",
     "text": [
      "lag = 30; size = 40; result = 25.333605828471597\n",
      "lag = 31; size = 1; result = 25.32448845210939\n",
      "lag = 31; size = 2; result = 25.32448845210939\n",
      "lag = 31; size = 3; result = 25.32448845210939\n",
      "lag = 31; size = 4; result = 25.32448845210939\n",
      "lag = 31; size = 5; result = 25.32448845210939\n",
      "lag = 31; size = 6; result = 25.324488452109385\n",
      "lag = 31; size = 7; result = 25.32448845210939\n",
      "lag = 31; size = 8; result = 25.32448845210939\n",
      "lag = 31; size = 9; result = 25.32448845210939\n",
      "lag = 31; size = 10; result = 25.32448845210939\n",
      "lag = 31; size = 11; result = 25.32448845210939\n",
      "lag = 31; size = 12; result = 25.32448845210939\n",
      "lag = 31; size = 13; result = 25.32448845210939\n",
      "lag = 31; size = 14; result = 25.32448845210939\n",
      "lag = 31; size = 15; result = 25.32448845210939\n",
      "lag = 31; size = 16; result = 25.32448845210939\n",
      "lag = 31; size = 17; result = 25.32448845210939\n",
      "lag = 31; size = 18; result = 25.32448845210939\n",
      "lag = 31; size = 19; result = 25.32448845210939\n",
      "lag = 31; size = 20; result = 25.32448845210939\n",
      "lag = 31; size = 21; result = 25.32448845210939\n",
      "lag = 31; size = 22; result = 25.32448845210939\n",
      "lag = 31; size = 23; result = 25.32448845210939\n",
      "lag = 31; size = 24; result = 25.32448845210939\n",
      "lag = 31; size = 25; result = 25.32448845210939\n",
      "lag = 31; size = 26; result = 25.32448845210939\n",
      "lag = 31; size = 27; result = 25.32448845210939\n",
      "lag = 31; size = 28; result = 25.32448845210939\n",
      "lag = 31; size = 29; result = 25.32448845210939\n",
      "lag = 31; size = 30; result = 25.32448845210939\n",
      "lag = 31; size = 31; result = 25.32448845210939\n",
      "lag = 31; size = 32; result = 25.31825688902713\n",
      "lag = 31; size = 33; result = 25.282046240893518\n",
      "lag = 31; size = 34; result = 25.270396011020722\n",
      "lag = 31; size = 35; result = 25.264470346792297\n",
      "lag = 31; size = 36; result = 25.255975666181598\n",
      "lag = 31; size = 37; result = 25.27062292140062\n",
      "lag = 31; size = 38; result = 25.2773270002302\n"
     ]
    },
    {
     "name": "stderr",
     "output_type": "stream",
     "text": [
      " 78%|███████▊  | 31/40 [04:15<01:26,  9.63s/it]"
     ]
    },
    {
     "name": "stdout",
     "output_type": "stream",
     "text": [
      "lag = 31; size = 39; result = 25.29562485975385\n",
      "lag = 31; size = 40; result = 25.322292402840407\n",
      "lag = 32; size = 1; result = 25.318256889027133\n",
      "lag = 32; size = 2; result = 25.31825688902713\n",
      "lag = 32; size = 3; result = 25.318256889027133\n",
      "lag = 32; size = 4; result = 25.318256889027133\n",
      "lag = 32; size = 5; result = 25.31825688902713\n",
      "lag = 32; size = 6; result = 25.31825688902713\n",
      "lag = 32; size = 7; result = 25.3206336317545\n",
      "lag = 32; size = 8; result = 25.318256889027133\n",
      "lag = 32; size = 9; result = 25.318256889027133\n",
      "lag = 32; size = 10; result = 25.31825688902713\n",
      "lag = 32; size = 11; result = 25.31825688902713\n",
      "lag = 32; size = 12; result = 25.318256889027133\n",
      "lag = 32; size = 13; result = 25.318256889027133\n",
      "lag = 32; size = 14; result = 25.318256889027133\n",
      "lag = 32; size = 15; result = 25.31825688902713\n",
      "lag = 32; size = 16; result = 25.31825688902713\n",
      "lag = 32; size = 17; result = 25.31825688902713\n",
      "lag = 32; size = 18; result = 25.31825688902713\n",
      "lag = 32; size = 19; result = 25.318256889027133\n",
      "lag = 32; size = 20; result = 25.31825688902713\n",
      "lag = 32; size = 21; result = 25.31825688902713\n",
      "lag = 32; size = 22; result = 25.31825688902713\n",
      "lag = 32; size = 23; result = 25.31825688902713\n",
      "lag = 32; size = 24; result = 25.31825688902713\n",
      "lag = 32; size = 25; result = 25.318256889027133\n",
      "lag = 32; size = 26; result = 25.31825688902713\n",
      "lag = 32; size = 27; result = 25.31825688902713\n",
      "lag = 32; size = 28; result = 25.31825688902713\n",
      "lag = 32; size = 29; result = 25.318256889027133\n",
      "lag = 32; size = 30; result = 25.31825688902713\n",
      "lag = 32; size = 31; result = 25.318256889027133\n",
      "lag = 32; size = 32; result = 25.31825688902713\n",
      "lag = 32; size = 33; result = 25.26882214632518\n",
      "lag = 32; size = 34; result = 25.263079643241298\n",
      "lag = 32; size = 35; result = 25.260340428858314\n",
      "lag = 32; size = 36; result = 25.253335390648004\n",
      "lag = 32; size = 37; result = 25.270068142566434\n",
      "lag = 32; size = 38; result = 25.277282274045014\n",
      "lag = 32; size = 39; result = 25.295485465679562\n"
     ]
    },
    {
     "name": "stderr",
     "output_type": "stream",
     "text": [
      " 80%|████████  | 32/40 [04:27<01:21, 10.18s/it]"
     ]
    },
    {
     "name": "stdout",
     "output_type": "stream",
     "text": [
      "lag = 32; size = 40; result = 25.320658793776424\n",
      "lag = 33; size = 1; result = 25.268822146325178\n",
      "lag = 33; size = 2; result = 25.268822146325178\n",
      "lag = 33; size = 3; result = 25.26882214632518\n",
      "lag = 33; size = 4; result = 25.26882214632518\n",
      "lag = 33; size = 5; result = 25.26882214632518\n",
      "lag = 33; size = 6; result = 25.26882214632518\n",
      "lag = 33; size = 7; result = 25.26882214632518\n",
      "lag = 33; size = 8; result = 25.26882214632518\n",
      "lag = 33; size = 9; result = 25.26882214632518\n",
      "lag = 33; size = 10; result = 25.268822146325178\n",
      "lag = 33; size = 11; result = 25.268822146325178\n",
      "lag = 33; size = 12; result = 25.268822146325178\n",
      "lag = 33; size = 13; result = 25.26882214632518\n",
      "lag = 33; size = 14; result = 25.268822146325178\n",
      "lag = 33; size = 15; result = 25.26882214632518\n",
      "lag = 33; size = 16; result = 25.26882214632518\n",
      "lag = 33; size = 17; result = 25.26882214632518\n",
      "lag = 33; size = 18; result = 25.26882214632518\n",
      "lag = 33; size = 19; result = 25.26882214632518\n",
      "lag = 33; size = 20; result = 25.26882214632518\n",
      "lag = 33; size = 21; result = 25.268822146325178\n",
      "lag = 33; size = 22; result = 25.26882214632518\n",
      "lag = 33; size = 23; result = 25.26882214632518\n",
      "lag = 33; size = 24; result = 25.26882214632518\n",
      "lag = 33; size = 25; result = 25.26882214632518\n",
      "lag = 33; size = 26; result = 25.268822146325178\n",
      "lag = 33; size = 27; result = 25.268822146325185\n",
      "lag = 33; size = 28; result = 25.26882214632518\n",
      "lag = 33; size = 29; result = 25.268822146325178\n",
      "lag = 33; size = 30; result = 25.268822146325178\n",
      "lag = 33; size = 31; result = 25.268822146325178\n",
      "lag = 33; size = 32; result = 25.26882214632518\n",
      "lag = 33; size = 33; result = 25.26882214632518\n",
      "lag = 33; size = 34; result = 25.259092925817253\n",
      "lag = 33; size = 35; result = 25.253848056587454\n",
      "lag = 33; size = 36; result = 25.24522247671189\n",
      "lag = 33; size = 37; result = 25.255327162726257\n",
      "lag = 33; size = 38; result = 25.258865196971286\n",
      "lag = 33; size = 39; result = 25.26968609152864\n"
     ]
    },
    {
     "name": "stderr",
     "output_type": "stream",
     "text": [
      " 82%|████████▎ | 33/40 [04:36<01:10, 10.01s/it]"
     ]
    },
    {
     "name": "stdout",
     "output_type": "stream",
     "text": [
      "lag = 33; size = 40; result = 25.283361034458824\n",
      "lag = 34; size = 1; result = 25.259092925817253\n",
      "lag = 34; size = 2; result = 25.259092925817253\n",
      "lag = 34; size = 3; result = 25.259092925817253\n",
      "lag = 34; size = 4; result = 25.259092925817253\n",
      "lag = 34; size = 5; result = 25.259085723755348\n",
      "lag = 34; size = 6; result = 25.259082558513526\n",
      "lag = 34; size = 7; result = 25.25893537896802\n",
      "lag = 34; size = 8; result = 25.259092925817253\n",
      "lag = 34; size = 9; result = 25.259092925817253\n",
      "lag = 34; size = 10; result = 25.258742750720458\n",
      "lag = 34; size = 11; result = 25.259092925817253\n",
      "lag = 34; size = 12; result = 25.25912076809437\n",
      "lag = 34; size = 13; result = 25.259092925817253\n",
      "lag = 34; size = 14; result = 25.258922593157138\n",
      "lag = 34; size = 15; result = 25.259092925817253\n",
      "lag = 34; size = 16; result = 25.259092925817253\n",
      "lag = 34; size = 17; result = 25.259089724565015\n",
      "lag = 34; size = 18; result = 25.259199620958956\n",
      "lag = 34; size = 19; result = 25.259092925817253\n",
      "lag = 34; size = 20; result = 25.259092925817253\n",
      "lag = 34; size = 21; result = 25.259092925817253\n",
      "lag = 34; size = 22; result = 25.259092925817253\n",
      "lag = 34; size = 23; result = 25.259092925817253\n",
      "lag = 34; size = 24; result = 25.25909917778027\n",
      "lag = 34; size = 25; result = 25.259092925817253\n",
      "lag = 34; size = 26; result = 25.259092925817253\n",
      "lag = 34; size = 27; result = 25.259092925817253\n",
      "lag = 34; size = 28; result = 25.259092925817253\n",
      "lag = 34; size = 29; result = 25.259092925817253\n",
      "lag = 34; size = 30; result = 25.259092925817253\n",
      "lag = 34; size = 31; result = 25.259144093189555\n",
      "lag = 34; size = 32; result = 25.259092925817253\n",
      "lag = 34; size = 33; result = 25.259092925817253\n",
      "lag = 34; size = 34; result = 25.259092925817253\n",
      "lag = 34; size = 35; result = 25.253834847182503\n",
      "lag = 34; size = 36; result = 25.245152408699226\n",
      "lag = 34; size = 37; result = 25.25464725736051\n",
      "lag = 34; size = 38; result = 25.257546524165257\n",
      "lag = 34; size = 39; result = 25.26617161266962\n"
     ]
    },
    {
     "name": "stderr",
     "output_type": "stream",
     "text": [
      " 85%|████████▌ | 34/40 [04:47<01:01, 10.27s/it]"
     ]
    },
    {
     "name": "stdout",
     "output_type": "stream",
     "text": [
      "lag = 34; size = 40; result = 25.27399030055744\n",
      "lag = 35; size = 1; result = 25.253834847182503\n",
      "lag = 35; size = 2; result = 25.253834847182503\n",
      "lag = 35; size = 3; result = 25.253823144757757\n",
      "lag = 35; size = 4; result = 25.25361804770056\n",
      "lag = 35; size = 5; result = 25.253834847182503\n",
      "lag = 35; size = 6; result = 25.254187559145016\n",
      "lag = 35; size = 7; result = 25.253834847182503\n",
      "lag = 35; size = 8; result = 25.25396699601999\n",
      "lag = 35; size = 9; result = 25.253853477184798\n",
      "lag = 35; size = 10; result = 25.253834847182503\n",
      "lag = 35; size = 11; result = 25.25414102758218\n",
      "lag = 35; size = 12; result = 25.253834847182503\n",
      "lag = 35; size = 13; result = 25.253834847182503\n",
      "lag = 35; size = 14; result = 25.253834847182503\n",
      "lag = 35; size = 15; result = 25.253555040650625\n",
      "lag = 35; size = 16; result = 25.253842514000443\n",
      "lag = 35; size = 17; result = 25.253834847182503\n",
      "lag = 35; size = 18; result = 25.25365553863798\n",
      "lag = 35; size = 19; result = 25.253862015255248\n",
      "lag = 35; size = 20; result = 25.253826662714218\n",
      "lag = 35; size = 21; result = 25.25383607835981\n",
      "lag = 35; size = 22; result = 25.253834847182503\n",
      "lag = 35; size = 23; result = 25.253642580097967\n",
      "lag = 35; size = 24; result = 25.253752843889785\n",
      "lag = 35; size = 25; result = 25.25363692045919\n",
      "lag = 35; size = 26; result = 25.253834847182503\n",
      "lag = 35; size = 27; result = 25.2537963942024\n",
      "lag = 35; size = 28; result = 25.253834847182503\n",
      "lag = 35; size = 29; result = 25.253834847182503\n",
      "lag = 35; size = 30; result = 25.253834847182503\n",
      "lag = 35; size = 31; result = 25.253832223645507\n",
      "lag = 35; size = 32; result = 25.253834847182503\n",
      "lag = 35; size = 33; result = 25.253834847182503\n",
      "lag = 35; size = 34; result = 25.253834847182503\n",
      "lag = 35; size = 35; result = 25.253834847182503\n",
      "lag = 35; size = 36; result = 25.244896969669963\n",
      "lag = 35; size = 37; result = 25.25363864138034\n",
      "lag = 35; size = 38; result = 25.256015566791003\n",
      "lag = 35; size = 39; result = 25.262056134276722\n"
     ]
    },
    {
     "name": "stderr",
     "output_type": "stream",
     "text": [
      " 88%|████████▊ | 35/40 [04:57<00:50, 10.19s/it]"
     ]
    },
    {
     "name": "stdout",
     "output_type": "stream",
     "text": [
      "lag = 35; size = 40; result = 25.262657950577683\n",
      "lag = 36; size = 1; result = 25.244896969669963\n",
      "lag = 36; size = 2; result = 25.244896969669963\n",
      "lag = 36; size = 3; result = 25.244896969669963\n",
      "lag = 36; size = 4; result = 25.244896969669963\n",
      "lag = 36; size = 5; result = 25.244896969669963\n",
      "lag = 36; size = 6; result = 25.244896969669963\n",
      "lag = 36; size = 7; result = 25.244896969669963\n",
      "lag = 36; size = 8; result = 25.244896969669963\n",
      "lag = 36; size = 9; result = 25.244896969669963\n",
      "lag = 36; size = 10; result = 25.244896969669963\n",
      "lag = 36; size = 11; result = 25.244896969669963\n",
      "lag = 36; size = 12; result = 25.244896969669963\n",
      "lag = 36; size = 13; result = 25.244896969669963\n",
      "lag = 36; size = 14; result = 25.244896969669963\n",
      "lag = 36; size = 15; result = 25.244896969669963\n",
      "lag = 36; size = 16; result = 25.244896969669963\n",
      "lag = 36; size = 17; result = 25.244896969669963\n",
      "lag = 36; size = 18; result = 25.244896969669963\n",
      "lag = 36; size = 19; result = 25.244896969669963\n",
      "lag = 36; size = 20; result = 25.244896969669963\n",
      "lag = 36; size = 21; result = 25.244896969669963\n",
      "lag = 36; size = 22; result = 25.244896969669963\n",
      "lag = 36; size = 23; result = 25.244896969669963\n",
      "lag = 36; size = 24; result = 25.244896969669963\n",
      "lag = 36; size = 25; result = 25.244896969669963\n",
      "lag = 36; size = 26; result = 25.244896969669963\n",
      "lag = 36; size = 27; result = 25.244896969669963\n",
      "lag = 36; size = 28; result = 25.244896969669963\n",
      "lag = 36; size = 29; result = 25.244896969669963\n",
      "lag = 36; size = 30; result = 25.244896969669963\n",
      "lag = 36; size = 31; result = 25.244896969669963\n",
      "lag = 36; size = 32; result = 25.244896969669963\n",
      "lag = 36; size = 33; result = 25.244896969669963\n",
      "lag = 36; size = 34; result = 25.244896969669963\n",
      "lag = 36; size = 35; result = 25.244896969669963\n",
      "lag = 36; size = 36; result = 25.244896969669963\n",
      "lag = 36; size = 37; result = 25.247004828113077\n",
      "lag = 36; size = 38; result = 25.250868148159988\n",
      "lag = 36; size = 39; result = 25.252806699714146\n"
     ]
    },
    {
     "name": "stderr",
     "output_type": "stream",
     "text": [
      " 90%|█████████ | 36/40 [05:08<00:42, 10.53s/it]"
     ]
    },
    {
     "name": "stdout",
     "output_type": "stream",
     "text": [
      "lag = 36; size = 40; result = 25.242187643655345\n",
      "lag = 37; size = 1; result = 25.247004828113074\n",
      "lag = 37; size = 2; result = 25.246849538725822\n",
      "lag = 37; size = 3; result = 25.24700482811308\n",
      "lag = 37; size = 4; result = 25.247004828113077\n",
      "lag = 37; size = 5; result = 25.247004828113074\n",
      "lag = 37; size = 6; result = 25.246927823114934\n",
      "lag = 37; size = 7; result = 25.247068578839123\n",
      "lag = 37; size = 8; result = 25.246832205793552\n",
      "lag = 37; size = 9; result = 25.246861556641814\n",
      "lag = 37; size = 10; result = 25.247004828113077\n",
      "lag = 37; size = 11; result = 25.247004828113077\n",
      "lag = 37; size = 12; result = 25.247004828113077\n",
      "lag = 37; size = 13; result = 25.247004828113074\n",
      "lag = 37; size = 14; result = 25.246988455984987\n",
      "lag = 37; size = 15; result = 25.247004828113074\n",
      "lag = 37; size = 16; result = 25.247004828113077\n",
      "lag = 37; size = 17; result = 25.246913474711423\n",
      "lag = 37; size = 18; result = 25.247004828113074\n",
      "lag = 37; size = 19; result = 25.247037064591904\n",
      "lag = 37; size = 20; result = 25.246718743045783\n",
      "lag = 37; size = 21; result = 25.247004828113074\n",
      "lag = 37; size = 22; result = 25.247004828113077\n",
      "lag = 37; size = 23; result = 25.247004828113074\n",
      "lag = 37; size = 24; result = 25.246958405295324\n",
      "lag = 37; size = 25; result = 25.247004828113074\n",
      "lag = 37; size = 26; result = 25.24700482811308\n",
      "lag = 37; size = 27; result = 25.247004828113074\n",
      "lag = 37; size = 28; result = 25.247004828113077\n",
      "lag = 37; size = 29; result = 25.247004828113077\n",
      "lag = 37; size = 30; result = 25.247004828113074\n",
      "lag = 37; size = 31; result = 25.247004828113077\n",
      "lag = 37; size = 32; result = 25.247004828113077\n",
      "lag = 37; size = 33; result = 25.247004828113077\n",
      "lag = 37; size = 34; result = 25.247004828113074\n",
      "lag = 37; size = 35; result = 25.247004828113077\n",
      "lag = 37; size = 36; result = 25.247004828113077\n",
      "lag = 37; size = 37; result = 25.247004828113077\n",
      "lag = 37; size = 38; result = 25.249077609562615\n",
      "lag = 37; size = 39; result = 25.252744618695548\n"
     ]
    },
    {
     "name": "stderr",
     "output_type": "stream",
     "text": [
      " 92%|█████████▎| 37/40 [05:20<00:32, 10.72s/it]"
     ]
    },
    {
     "name": "stdout",
     "output_type": "stream",
     "text": [
      "lag = 37; size = 40; result = 25.239526827387138\n",
      "lag = 38; size = 1; result = 25.249174862031733\n",
      "lag = 38; size = 2; result = 25.24929487070093\n",
      "lag = 38; size = 3; result = 25.249069553364798\n",
      "lag = 38; size = 4; result = 25.249077609562615\n",
      "lag = 38; size = 5; result = 25.24827405225368\n",
      "lag = 38; size = 6; result = 25.249077609562615\n",
      "lag = 38; size = 7; result = 25.249077609562615\n",
      "lag = 38; size = 8; result = 25.248795922251446\n",
      "lag = 38; size = 9; result = 25.249052078535758\n",
      "lag = 38; size = 10; result = 25.249077609562615\n",
      "lag = 38; size = 11; result = 25.249056152376316\n",
      "lag = 38; size = 12; result = 25.249109646265904\n",
      "lag = 38; size = 13; result = 25.248942386569993\n",
      "lag = 38; size = 14; result = 25.249121028321284\n",
      "lag = 38; size = 15; result = 25.249064426512177\n",
      "lag = 38; size = 16; result = 25.24892316136649\n",
      "lag = 38; size = 17; result = 25.24877333443955\n",
      "lag = 38; size = 18; result = 25.24864916404582\n",
      "lag = 38; size = 19; result = 25.249077609562615\n",
      "lag = 38; size = 20; result = 25.24878773864879\n",
      "lag = 38; size = 21; result = 25.248897627136927\n",
      "lag = 38; size = 22; result = 25.248615041104074\n",
      "lag = 38; size = 23; result = 25.249001282095414\n",
      "lag = 38; size = 24; result = 25.249156194164108\n",
      "lag = 38; size = 25; result = 25.249081621218135\n",
      "lag = 38; size = 26; result = 25.248751645851247\n",
      "lag = 38; size = 27; result = 25.249010326277187\n",
      "lag = 38; size = 28; result = 25.249148855728865\n",
      "lag = 38; size = 29; result = 25.249171847838554\n",
      "lag = 38; size = 30; result = 25.249026398689924\n",
      "lag = 38; size = 31; result = 25.249123695965036\n",
      "lag = 38; size = 32; result = 25.24884401907915\n",
      "lag = 38; size = 33; result = 25.249077609562615\n",
      "lag = 38; size = 34; result = 25.249077877183485\n",
      "lag = 38; size = 35; result = 25.24909619999856\n",
      "lag = 38; size = 36; result = 25.248659328833373\n",
      "lag = 38; size = 37; result = 25.24906691258155\n",
      "lag = 38; size = 38; result = 25.249077609562615\n",
      "lag = 38; size = 39; result = 25.247322580518592\n"
     ]
    },
    {
     "name": "stderr",
     "output_type": "stream",
     "text": [
      " 95%|█████████▌| 38/40 [05:30<00:21, 10.68s/it]"
     ]
    },
    {
     "name": "stdout",
     "output_type": "stream",
     "text": [
      "lag = 38; size = 40; result = 25.21554227632574\n",
      "lag = 39; size = 1; result = 25.247322580518592\n",
      "lag = 39; size = 2; result = 25.247267628956884\n",
      "lag = 39; size = 3; result = 25.24730672424163\n",
      "lag = 39; size = 4; result = 25.247322580518592\n",
      "lag = 39; size = 5; result = 25.24732258051859\n",
      "lag = 39; size = 6; result = 25.24732258051859\n",
      "lag = 39; size = 7; result = 25.247438085367946\n",
      "lag = 39; size = 8; result = 25.247860048558202\n",
      "lag = 39; size = 9; result = 25.246850238109623\n",
      "lag = 39; size = 10; result = 25.24732258051859\n",
      "lag = 39; size = 11; result = 25.247322580518592\n",
      "lag = 39; size = 12; result = 25.247442786956952\n",
      "lag = 39; size = 13; result = 25.247322580518592\n",
      "lag = 39; size = 14; result = 25.247322580518592\n",
      "lag = 39; size = 15; result = 25.247331546436328\n",
      "lag = 39; size = 16; result = 25.247281000518132\n",
      "lag = 39; size = 17; result = 25.247322580518592\n",
      "lag = 39; size = 18; result = 25.247322580518592\n",
      "lag = 39; size = 19; result = 25.247322580518592\n",
      "lag = 39; size = 20; result = 25.2472850232339\n",
      "lag = 39; size = 21; result = 25.24720788850573\n",
      "lag = 39; size = 22; result = 25.24732258051859\n",
      "lag = 39; size = 23; result = 25.247341010229853\n",
      "lag = 39; size = 24; result = 25.247322580518592\n",
      "lag = 39; size = 25; result = 25.247326005103414\n",
      "lag = 39; size = 26; result = 25.247322580518592\n",
      "lag = 39; size = 27; result = 25.24726251462689\n",
      "lag = 39; size = 28; result = 25.247322580518592\n",
      "lag = 39; size = 29; result = 25.247322580518592\n",
      "lag = 39; size = 30; result = 25.247322580518592\n",
      "lag = 39; size = 31; result = 25.247322580518592\n",
      "lag = 39; size = 32; result = 25.24732258051859\n",
      "lag = 39; size = 33; result = 25.24727445321083\n",
      "lag = 39; size = 34; result = 25.24738352667963\n",
      "lag = 39; size = 35; result = 25.247322580518592\n",
      "lag = 39; size = 36; result = 25.24739422952854\n",
      "lag = 39; size = 37; result = 25.2473334902153\n",
      "lag = 39; size = 38; result = 25.24732258051859\n",
      "lag = 39; size = 39; result = 25.247322580518592\n"
     ]
    },
    {
     "name": "stderr",
     "output_type": "stream",
     "text": [
      " 98%|█████████▊| 39/40 [05:41<00:10, 10.87s/it]"
     ]
    },
    {
     "name": "stdout",
     "output_type": "stream",
     "text": [
      "lag = 39; size = 40; result = 25.197483826863564\n",
      "lag = 40; size = 1; result = 25.19739184736843\n",
      "lag = 40; size = 2; result = 25.19748886701378\n",
      "lag = 40; size = 3; result = 25.197478328694764\n",
      "lag = 40; size = 4; result = 25.197527586680472\n",
      "lag = 40; size = 5; result = 25.197287485840263\n",
      "lag = 40; size = 6; result = 25.197592989876\n",
      "lag = 40; size = 7; result = 25.197483826863564\n",
      "lag = 40; size = 8; result = 25.197483826863564\n",
      "lag = 40; size = 9; result = 25.19764457738387\n",
      "lag = 40; size = 10; result = 25.197519902523275\n",
      "lag = 40; size = 11; result = 25.197449981913678\n",
      "lag = 40; size = 12; result = 25.197437520609807\n",
      "lag = 40; size = 13; result = 25.19748432015473\n",
      "lag = 40; size = 14; result = 25.197487897882684\n",
      "lag = 40; size = 15; result = 25.197331700182655\n",
      "lag = 40; size = 16; result = 25.19773373322\n",
      "lag = 40; size = 17; result = 25.197839838506482\n",
      "lag = 40; size = 18; result = 25.19739027057593\n",
      "lag = 40; size = 19; result = 25.197501372559636\n",
      "lag = 40; size = 20; result = 25.19741481595873\n",
      "lag = 40; size = 21; result = 25.19748367066805\n",
      "lag = 40; size = 22; result = 25.19688338733576\n",
      "lag = 40; size = 23; result = 25.197475259151968\n",
      "lag = 40; size = 24; result = 25.1974826281872\n",
      "lag = 40; size = 25; result = 25.197265105800415\n",
      "lag = 40; size = 26; result = 25.197450587392023\n",
      "lag = 40; size = 27; result = 25.19735281859541\n",
      "lag = 40; size = 28; result = 25.197515884161724\n",
      "lag = 40; size = 29; result = 25.19734141397085\n",
      "lag = 40; size = 30; result = 25.19746567170923\n",
      "lag = 40; size = 31; result = 25.19775477590822\n",
      "lag = 40; size = 32; result = 25.197650086731006\n",
      "lag = 40; size = 33; result = 25.197352014760355\n",
      "lag = 40; size = 34; result = 25.197431984053047\n",
      "lag = 40; size = 35; result = 25.197495696648144\n",
      "lag = 40; size = 36; result = 25.197428507980383\n",
      "lag = 40; size = 37; result = 25.197476656258704\n",
      "lag = 40; size = 38; result = 25.19738103308412\n",
      "lag = 40; size = 39; result = 25.19764685074003\n"
     ]
    },
    {
     "name": "stderr",
     "output_type": "stream",
     "text": [
      "100%|██████████| 40/40 [05:53<00:00,  8.83s/it]"
     ]
    },
    {
     "name": "stdout",
     "output_type": "stream",
     "text": [
      "lag = 40; size = 40; result = 25.196967694099108\n",
      "best_lag: 40\n",
      "best_size: 22\n",
      "best_result: 25.19688338733576\n",
      "CPU times: user 2min 10s, sys: 3min 39s, total: 5min 50s\n",
      "Wall time: 5min 53s\n"
     ]
    },
    {
     "name": "stderr",
     "output_type": "stream",
     "text": [
      "\n"
     ]
    }
   ],
   "source": [
    "%%time\n",
    "\n",
    "best_result_regr = 60\n",
    "best_lag = 0\n",
    "best_size = 0\n",
    "\n",
    "for lag in tqdm(range(1, 41)):\n",
    "    for size in range(1, 41):\n",
    "        data_copy = data.copy()\n",
    "        make_features(data_copy, lag, size)\n",
    "        train, test = train_test_split(data_copy, shuffle=False, test_size=0.1)\n",
    "        train = train.dropna()\n",
    "        \n",
    "        features_train = train.drop('num_orders', axis=1)\n",
    "        features_test = test.drop('num_orders', axis=1)\n",
    "\n",
    "        target_train = train['num_orders']\n",
    "        target_test = test['num_orders']\n",
    "        \n",
    "        model = LinearRegression()\n",
    "        model.fit(features_train, target_train)\n",
    "\n",
    "        predict_test = model.predict(features_train)\n",
    "        result = mean_squared_error(target_train, predict_test, squared=False)\n",
    "        \n",
    "        print(f'lag = {lag}; size = {size}; result = {result}')\n",
    "        \n",
    "        if result < best_result_regr:\n",
    "            best_lag = lag\n",
    "            best_size = size\n",
    "            best_result_regr = result\n",
    "\n",
    "print('best_lag:', best_lag)\n",
    "print('best_size:', best_size)\n",
    "print('best_result:', best_result_regr)"
   ]
  },
  {
   "cell_type": "markdown",
   "metadata": {},
   "source": [
    "Для линейной регрессии наилучший результат получился с 40 отстающими значениями и размером окна 22. Используем эти параметры для других моделей (не уверен что это корректно, возможно, для каждой модели нужно подбирать отдельно эти параметры, но тогда вместе с перебором гиперпараметров это будет занимать миллион лет)."
   ]
  },
  {
   "cell_type": "markdown",
   "metadata": {},
   "source": [
    "Убедимся, что данные остались прежними после подбора параметров для линейной регрессии."
   ]
  },
  {
   "cell_type": "code",
   "execution_count": 22,
   "metadata": {
    "scrolled": true
   },
   "outputs": [
    {
     "data": {
      "text/html": [
       "<div>\n",
       "<style scoped>\n",
       "    .dataframe tbody tr th:only-of-type {\n",
       "        vertical-align: middle;\n",
       "    }\n",
       "\n",
       "    .dataframe tbody tr th {\n",
       "        vertical-align: top;\n",
       "    }\n",
       "\n",
       "    .dataframe thead th {\n",
       "        text-align: right;\n",
       "    }\n",
       "</style>\n",
       "<table border=\"1\" class=\"dataframe\">\n",
       "  <thead>\n",
       "    <tr style=\"text-align: right;\">\n",
       "      <th></th>\n",
       "      <th>num_orders</th>\n",
       "    </tr>\n",
       "    <tr>\n",
       "      <th>datetime</th>\n",
       "      <th></th>\n",
       "    </tr>\n",
       "  </thead>\n",
       "  <tbody>\n",
       "    <tr>\n",
       "      <th>2018-03-01 00:00:00</th>\n",
       "      <td>124</td>\n",
       "    </tr>\n",
       "    <tr>\n",
       "      <th>2018-03-01 01:00:00</th>\n",
       "      <td>85</td>\n",
       "    </tr>\n",
       "    <tr>\n",
       "      <th>2018-03-01 02:00:00</th>\n",
       "      <td>71</td>\n",
       "    </tr>\n",
       "    <tr>\n",
       "      <th>2018-03-01 03:00:00</th>\n",
       "      <td>66</td>\n",
       "    </tr>\n",
       "    <tr>\n",
       "      <th>2018-03-01 04:00:00</th>\n",
       "      <td>43</td>\n",
       "    </tr>\n",
       "  </tbody>\n",
       "</table>\n",
       "</div>"
      ],
      "text/plain": [
       "                     num_orders\n",
       "datetime                       \n",
       "2018-03-01 00:00:00         124\n",
       "2018-03-01 01:00:00          85\n",
       "2018-03-01 02:00:00          71\n",
       "2018-03-01 03:00:00          66\n",
       "2018-03-01 04:00:00          43"
      ]
     },
     "execution_count": 22,
     "metadata": {},
     "output_type": "execute_result"
    }
   ],
   "source": [
    "data.head()"
   ]
  },
  {
   "cell_type": "markdown",
   "metadata": {},
   "source": [
    "Добавим новые признаки в соответствии с подобранными параметрами."
   ]
  },
  {
   "cell_type": "code",
   "execution_count": 23,
   "metadata": {},
   "outputs": [],
   "source": [
    "make_features(data, best_lag, best_size)"
   ]
  },
  {
   "cell_type": "markdown",
   "metadata": {},
   "source": [
    "Проверим как выглядит датасет теперь."
   ]
  },
  {
   "cell_type": "code",
   "execution_count": 24,
   "metadata": {},
   "outputs": [
    {
     "data": {
      "text/html": [
       "<div>\n",
       "<style scoped>\n",
       "    .dataframe tbody tr th:only-of-type {\n",
       "        vertical-align: middle;\n",
       "    }\n",
       "\n",
       "    .dataframe tbody tr th {\n",
       "        vertical-align: top;\n",
       "    }\n",
       "\n",
       "    .dataframe thead th {\n",
       "        text-align: right;\n",
       "    }\n",
       "</style>\n",
       "<table border=\"1\" class=\"dataframe\">\n",
       "  <thead>\n",
       "    <tr style=\"text-align: right;\">\n",
       "      <th></th>\n",
       "      <th>num_orders</th>\n",
       "      <th>month</th>\n",
       "      <th>dayofweek</th>\n",
       "      <th>hour</th>\n",
       "      <th>lag_1</th>\n",
       "      <th>lag_2</th>\n",
       "      <th>lag_3</th>\n",
       "      <th>lag_4</th>\n",
       "      <th>lag_5</th>\n",
       "      <th>lag_6</th>\n",
       "      <th>...</th>\n",
       "      <th>lag_32</th>\n",
       "      <th>lag_33</th>\n",
       "      <th>lag_34</th>\n",
       "      <th>lag_35</th>\n",
       "      <th>lag_36</th>\n",
       "      <th>lag_37</th>\n",
       "      <th>lag_38</th>\n",
       "      <th>lag_39</th>\n",
       "      <th>lag_40</th>\n",
       "      <th>rolling_mean</th>\n",
       "    </tr>\n",
       "    <tr>\n",
       "      <th>datetime</th>\n",
       "      <th></th>\n",
       "      <th></th>\n",
       "      <th></th>\n",
       "      <th></th>\n",
       "      <th></th>\n",
       "      <th></th>\n",
       "      <th></th>\n",
       "      <th></th>\n",
       "      <th></th>\n",
       "      <th></th>\n",
       "      <th></th>\n",
       "      <th></th>\n",
       "      <th></th>\n",
       "      <th></th>\n",
       "      <th></th>\n",
       "      <th></th>\n",
       "      <th></th>\n",
       "      <th></th>\n",
       "      <th></th>\n",
       "      <th></th>\n",
       "      <th></th>\n",
       "    </tr>\n",
       "  </thead>\n",
       "  <tbody>\n",
       "    <tr>\n",
       "      <th>2018-03-01 00:00:00</th>\n",
       "      <td>124</td>\n",
       "      <td>3</td>\n",
       "      <td>3</td>\n",
       "      <td>0</td>\n",
       "      <td>NaN</td>\n",
       "      <td>NaN</td>\n",
       "      <td>NaN</td>\n",
       "      <td>NaN</td>\n",
       "      <td>NaN</td>\n",
       "      <td>NaN</td>\n",
       "      <td>...</td>\n",
       "      <td>NaN</td>\n",
       "      <td>NaN</td>\n",
       "      <td>NaN</td>\n",
       "      <td>NaN</td>\n",
       "      <td>NaN</td>\n",
       "      <td>NaN</td>\n",
       "      <td>NaN</td>\n",
       "      <td>NaN</td>\n",
       "      <td>NaN</td>\n",
       "      <td>NaN</td>\n",
       "    </tr>\n",
       "    <tr>\n",
       "      <th>2018-03-01 01:00:00</th>\n",
       "      <td>85</td>\n",
       "      <td>3</td>\n",
       "      <td>3</td>\n",
       "      <td>1</td>\n",
       "      <td>124.0</td>\n",
       "      <td>NaN</td>\n",
       "      <td>NaN</td>\n",
       "      <td>NaN</td>\n",
       "      <td>NaN</td>\n",
       "      <td>NaN</td>\n",
       "      <td>...</td>\n",
       "      <td>NaN</td>\n",
       "      <td>NaN</td>\n",
       "      <td>NaN</td>\n",
       "      <td>NaN</td>\n",
       "      <td>NaN</td>\n",
       "      <td>NaN</td>\n",
       "      <td>NaN</td>\n",
       "      <td>NaN</td>\n",
       "      <td>NaN</td>\n",
       "      <td>NaN</td>\n",
       "    </tr>\n",
       "    <tr>\n",
       "      <th>2018-03-01 02:00:00</th>\n",
       "      <td>71</td>\n",
       "      <td>3</td>\n",
       "      <td>3</td>\n",
       "      <td>2</td>\n",
       "      <td>85.0</td>\n",
       "      <td>124.0</td>\n",
       "      <td>NaN</td>\n",
       "      <td>NaN</td>\n",
       "      <td>NaN</td>\n",
       "      <td>NaN</td>\n",
       "      <td>...</td>\n",
       "      <td>NaN</td>\n",
       "      <td>NaN</td>\n",
       "      <td>NaN</td>\n",
       "      <td>NaN</td>\n",
       "      <td>NaN</td>\n",
       "      <td>NaN</td>\n",
       "      <td>NaN</td>\n",
       "      <td>NaN</td>\n",
       "      <td>NaN</td>\n",
       "      <td>NaN</td>\n",
       "    </tr>\n",
       "    <tr>\n",
       "      <th>2018-03-01 03:00:00</th>\n",
       "      <td>66</td>\n",
       "      <td>3</td>\n",
       "      <td>3</td>\n",
       "      <td>3</td>\n",
       "      <td>71.0</td>\n",
       "      <td>85.0</td>\n",
       "      <td>124.0</td>\n",
       "      <td>NaN</td>\n",
       "      <td>NaN</td>\n",
       "      <td>NaN</td>\n",
       "      <td>...</td>\n",
       "      <td>NaN</td>\n",
       "      <td>NaN</td>\n",
       "      <td>NaN</td>\n",
       "      <td>NaN</td>\n",
       "      <td>NaN</td>\n",
       "      <td>NaN</td>\n",
       "      <td>NaN</td>\n",
       "      <td>NaN</td>\n",
       "      <td>NaN</td>\n",
       "      <td>NaN</td>\n",
       "    </tr>\n",
       "    <tr>\n",
       "      <th>2018-03-01 04:00:00</th>\n",
       "      <td>43</td>\n",
       "      <td>3</td>\n",
       "      <td>3</td>\n",
       "      <td>4</td>\n",
       "      <td>66.0</td>\n",
       "      <td>71.0</td>\n",
       "      <td>85.0</td>\n",
       "      <td>124.0</td>\n",
       "      <td>NaN</td>\n",
       "      <td>NaN</td>\n",
       "      <td>...</td>\n",
       "      <td>NaN</td>\n",
       "      <td>NaN</td>\n",
       "      <td>NaN</td>\n",
       "      <td>NaN</td>\n",
       "      <td>NaN</td>\n",
       "      <td>NaN</td>\n",
       "      <td>NaN</td>\n",
       "      <td>NaN</td>\n",
       "      <td>NaN</td>\n",
       "      <td>NaN</td>\n",
       "    </tr>\n",
       "  </tbody>\n",
       "</table>\n",
       "<p>5 rows × 45 columns</p>\n",
       "</div>"
      ],
      "text/plain": [
       "                     num_orders  month  dayofweek  hour  lag_1  lag_2  lag_3  \\\n",
       "datetime                                                                       \n",
       "2018-03-01 00:00:00         124      3          3     0    NaN    NaN    NaN   \n",
       "2018-03-01 01:00:00          85      3          3     1  124.0    NaN    NaN   \n",
       "2018-03-01 02:00:00          71      3          3     2   85.0  124.0    NaN   \n",
       "2018-03-01 03:00:00          66      3          3     3   71.0   85.0  124.0   \n",
       "2018-03-01 04:00:00          43      3          3     4   66.0   71.0   85.0   \n",
       "\n",
       "                     lag_4  lag_5  lag_6  ...  lag_32  lag_33  lag_34  lag_35  \\\n",
       "datetime                                  ...                                   \n",
       "2018-03-01 00:00:00    NaN    NaN    NaN  ...     NaN     NaN     NaN     NaN   \n",
       "2018-03-01 01:00:00    NaN    NaN    NaN  ...     NaN     NaN     NaN     NaN   \n",
       "2018-03-01 02:00:00    NaN    NaN    NaN  ...     NaN     NaN     NaN     NaN   \n",
       "2018-03-01 03:00:00    NaN    NaN    NaN  ...     NaN     NaN     NaN     NaN   \n",
       "2018-03-01 04:00:00  124.0    NaN    NaN  ...     NaN     NaN     NaN     NaN   \n",
       "\n",
       "                     lag_36  lag_37  lag_38  lag_39  lag_40  rolling_mean  \n",
       "datetime                                                                   \n",
       "2018-03-01 00:00:00     NaN     NaN     NaN     NaN     NaN           NaN  \n",
       "2018-03-01 01:00:00     NaN     NaN     NaN     NaN     NaN           NaN  \n",
       "2018-03-01 02:00:00     NaN     NaN     NaN     NaN     NaN           NaN  \n",
       "2018-03-01 03:00:00     NaN     NaN     NaN     NaN     NaN           NaN  \n",
       "2018-03-01 04:00:00     NaN     NaN     NaN     NaN     NaN           NaN  \n",
       "\n",
       "[5 rows x 45 columns]"
      ]
     },
     "execution_count": 24,
     "metadata": {},
     "output_type": "execute_result"
    }
   ],
   "source": [
    "data.head()"
   ]
  },
  {
   "cell_type": "markdown",
   "metadata": {},
   "source": [
    "Разобьем данные на обучающую и тестовую (10%) выборки. Удалим объекты с появившимися пропусками в данных. Выделим признаки и целевой признак в данных."
   ]
  },
  {
   "cell_type": "code",
   "execution_count": 25,
   "metadata": {},
   "outputs": [],
   "source": [
    "train, test = train_test_split(data, shuffle=False, test_size=0.1)\n",
    "train = train.dropna()"
   ]
  },
  {
   "cell_type": "code",
   "execution_count": 26,
   "metadata": {},
   "outputs": [],
   "source": [
    "features_train = train.drop('num_orders', axis=1)\n",
    "features_test = test.drop('num_orders', axis=1)\n",
    "\n",
    "target_train = train['num_orders']\n",
    "target_test = test['num_orders']"
   ]
  },
  {
   "cell_type": "markdown",
   "metadata": {},
   "source": [
    "Обучим другие модели"
   ]
  },
  {
   "cell_type": "markdown",
   "metadata": {},
   "source": [
    "*Решающее дерево*"
   ]
  },
  {
   "cell_type": "markdown",
   "metadata": {},
   "source": [
    "В дереве подберем значение глубины"
   ]
  },
  {
   "cell_type": "code",
   "execution_count": 27,
   "metadata": {
    "scrolled": true
   },
   "outputs": [
    {
     "name": "stdout",
     "output_type": "stream",
     "text": [
      "Наилучшие гиперпараметры: {'max_depth': 5}\n",
      "Наименьший RMSE: 911.5007171293046\n",
      "CPU times: user 23.8 s, sys: 0 ns, total: 23.8 s\n",
      "Wall time: 23.8 s\n"
     ]
    }
   ],
   "source": [
    "%%time\n",
    "\n",
    "params = { 'max_depth': np.arange(1, 51) }\n",
    "\n",
    "\n",
    "model = DecisionTreeRegressor(random_state=12345)\n",
    "\n",
    "tscv = TimeSeriesSplit(n_splits=8)\n",
    "tree_grid = GridSearchCV(model, params, scoring='neg_mean_squared_error', cv=tscv)\n",
    "tree_grid.fit(features_train, target_train)\n",
    "\n",
    "\n",
    "print('Наилучшие гиперпараметры: '+str(tree_grid.best_params_))\n",
    "print('Наименьший RMSE: '+str(abs(tree_grid.best_score_)))"
   ]
  },
  {
   "cell_type": "markdown",
   "metadata": {},
   "source": [
    "*Случайный лес*"
   ]
  },
  {
   "cell_type": "markdown",
   "metadata": {},
   "source": [
    "В случайном лесе варьируем количество деревьев и глубину"
   ]
  },
  {
   "cell_type": "code",
   "execution_count": 29,
   "metadata": {},
   "outputs": [
    {
     "name": "stdout",
     "output_type": "stream",
     "text": [
      "Наилучшие гиперпараметры: {'max_depth': 28, 'n_estimators': 28}\n",
      "Наименьший RMSE: 623.3924019411379\n",
      "CPU times: user 53min 54s, sys: 0 ns, total: 53min 54s\n",
      "Wall time: 53min 55s\n"
     ]
    }
   ],
   "source": [
    "%%time\n",
    "\n",
    "params = { 'n_estimators' : np.arange(5, 31), \n",
    "           'max_depth': np.arange(5, 31) }\n",
    "\n",
    "model = RandomForestRegressor(random_state=12345)\n",
    "\n",
    "tscv = TimeSeriesSplit(n_splits=8)\n",
    "forest_grid = GridSearchCV(model, params, scoring='neg_mean_squared_error', cv=tscv)\n",
    "forest_grid.fit(features_train, target_train)\n",
    "\n",
    "\n",
    "print('Наилучшие гиперпараметры: '+str(forest_grid.best_params_))\n",
    "print('Наименьший RMSE: '+str(abs(forest_grid.best_score_)))"
   ]
  },
  {
   "cell_type": "markdown",
   "metadata": {},
   "source": [
    "*CatBoost*"
   ]
  },
  {
   "cell_type": "markdown",
   "metadata": {},
   "source": [
    "В КБ варьируем число итераций, глубину и скорость обучения. Определим заранее категориальные признаки."
   ]
  },
  {
   "cell_type": "code",
   "execution_count": 40,
   "metadata": {
    "scrolled": true
   },
   "outputs": [],
   "source": [
    "features_categorical = ['hour', 'month', 'dayofweek']"
   ]
  },
  {
   "cell_type": "code",
   "execution_count": 38,
   "metadata": {
    "scrolled": true
   },
   "outputs": [
    {
     "name": "stderr",
     "output_type": "stream",
     "text": [
      "Custom logger is already specified. Specify more than one logger at same time is not thread safe."
     ]
    },
    {
     "name": "stdout",
     "output_type": "stream",
     "text": [
      "\n",
      "bestTest = 40.5730633\n",
      "bestIteration = 49\n",
      "\n",
      "\n",
      "bestTest = 38.93681873\n",
      "bestIteration = 49\n",
      "\n",
      "\n",
      "bestTest = 41.24327078\n",
      "bestIteration = 45\n",
      "\n",
      "\n",
      "bestTest = 41.74288796\n",
      "bestIteration = 28\n",
      "\n",
      "\n",
      "bestTest = 44.17947176\n",
      "bestIteration = 32\n",
      "\n",
      "\n",
      "bestTest = 42.01670916\n",
      "bestIteration = 25\n",
      "\n",
      "\n",
      "bestTest = 40.97504727\n",
      "bestIteration = 49\n",
      "\n",
      "\n",
      "bestTest = 40.37824\n",
      "bestIteration = 45\n",
      "\n",
      "\n",
      "bestTest = 40.63716943\n",
      "bestIteration = 40\n",
      "\n",
      "\n",
      "bestTest = 42.96105446\n",
      "bestIteration = 37\n",
      "\n",
      "\n",
      "bestTest = 44.87125715\n",
      "bestIteration = 29\n",
      "\n",
      "\n",
      "bestTest = 44.23350042\n",
      "bestIteration = 16\n",
      "\n",
      "\n",
      "bestTest = 42.45532317\n",
      "bestIteration = 49\n",
      "\n",
      "\n",
      "bestTest = 42.42914768\n",
      "bestIteration = 48\n",
      "\n",
      "\n",
      "bestTest = 42.79061451\n",
      "bestIteration = 46\n",
      "\n",
      "\n",
      "bestTest = 43.78641871\n",
      "bestIteration = 47\n",
      "\n",
      "\n",
      "bestTest = 43.33473707\n",
      "bestIteration = 29\n",
      "\n",
      "\n",
      "bestTest = 44.99346899\n",
      "bestIteration = 49\n",
      "\n",
      "\n",
      "bestTest = 50.61289154\n",
      "bestIteration = 49\n",
      "\n",
      "\n",
      "bestTest = 50.08774189\n",
      "bestIteration = 48\n",
      "\n",
      "\n",
      "bestTest = 51.5982839\n",
      "bestIteration = 42\n",
      "\n",
      "\n",
      "bestTest = 55.61228567\n",
      "bestIteration = 49\n",
      "\n",
      "\n",
      "bestTest = 56.04887654\n",
      "bestIteration = 42\n",
      "\n",
      "\n",
      "bestTest = 49.20651676\n",
      "bestIteration = 11\n",
      "\n",
      "\n",
      "bestTest = 48.28946567\n",
      "bestIteration = 49\n",
      "\n",
      "\n",
      "bestTest = 53.04104503\n",
      "bestIteration = 49\n",
      "\n",
      "\n",
      "bestTest = 49.63822015\n",
      "bestIteration = 37\n",
      "\n",
      "\n",
      "bestTest = 57.11146964\n",
      "bestIteration = 45\n",
      "\n",
      "\n",
      "bestTest = 55.88898355\n",
      "bestIteration = 33\n",
      "\n",
      "\n",
      "bestTest = 60.46989161\n",
      "bestIteration = 22\n",
      "\n",
      "\n",
      "bestTest = 54.13249696\n",
      "bestIteration = 49\n",
      "\n",
      "\n",
      "bestTest = 55.18588749\n",
      "bestIteration = 46\n",
      "\n",
      "\n",
      "bestTest = 56.46284589\n",
      "bestIteration = 46\n",
      "\n",
      "\n",
      "bestTest = 60.78465595\n",
      "bestIteration = 42\n",
      "\n",
      "\n",
      "bestTest = 59.19854623\n",
      "bestIteration = 41\n",
      "\n",
      "\n",
      "bestTest = 59.47385848\n",
      "bestIteration = 33\n",
      "\n",
      "Training on fold [0/5]\n",
      "\n",
      "bestTest = 20.28917787\n",
      "bestIteration = 46\n",
      "\n",
      "Training on fold [1/5]\n",
      "\n",
      "bestTest = 21.66362917\n",
      "bestIteration = 47\n",
      "\n",
      "Training on fold [2/5]\n",
      "\n",
      "bestTest = 23.25386662\n",
      "bestIteration = 42\n",
      "\n",
      "Training on fold [3/5]\n",
      "\n",
      "bestTest = 24.50745095\n",
      "bestIteration = 44\n",
      "\n",
      "Training on fold [4/5]\n",
      "\n",
      "bestTest = 40.32105002\n",
      "bestIteration = 46\n",
      "\n",
      "Наилучшие гиперпараметры: {'depth': 10, 'learning_rate': 0.3}\n",
      "RMSE : 11.01\n",
      "CPU times: user 39min 25s, sys: 14min 24s, total: 53min 50s\n",
      "Wall time: 53min 56s\n"
     ]
    }
   ],
   "source": [
    "%%time\n",
    "\n",
    "params = { 'depth' : np.arange(10, 16),\n",
    "           'learning_rate': np.array([0.2, 0.3, 0.4, 0.5, 0.6, 0.7]) }\n",
    "\n",
    "model = CatBoostRegressor(random_state=12345, loss_function='RMSE', verbose=False, iterations=50)\n",
    "grid_search_result = model.grid_search(params,\n",
    "                                             X=features_train,\n",
    "                                             y=target_train,\n",
    "                                             cv=5,\n",
    "                                             partition_random_seed=12345,\n",
    "                                             calc_cv_statistics=True,\n",
    "                                             search_by_train_test_split=True,\n",
    "                                             refit=True,\n",
    "                                             shuffle=False,\n",
    "                                             train_size=0.8,\n",
    "                                             verbose= False )\n",
    "\n",
    "prediction = model.predict(features_train)\n",
    "\n",
    "print('Наилучшие гиперпараметры:', grid_search_result['params'])\n",
    "print(\"RMSE : %.2f\"%eval_metric(target_train, prediction, \"RMSE\")[0])"
   ]
  },
  {
   "cell_type": "markdown",
   "metadata": {},
   "source": [
    "<a id='step4'></a>"
   ]
  },
  {
   "cell_type": "markdown",
   "metadata": {},
   "source": [
    "## Тестирование"
   ]
  },
  {
   "cell_type": "markdown",
   "metadata": {},
   "source": [
    "Наилучший результат на обучающей выборке показала модель CatBoost: RMSE = 11.01. Проверим эту модель на тестовой выборке."
   ]
  },
  {
   "cell_type": "code",
   "execution_count": 45,
   "metadata": {},
   "outputs": [
    {
     "name": "stdout",
     "output_type": "stream",
     "text": [
      "RMSE на тестовой выборке: 46.98918530675717\n",
      "CPU times: user 4.82 s, sys: 18.2 ms, total: 4.84 s\n",
      "Wall time: 5.57 s\n"
     ]
    }
   ],
   "source": [
    "%%time \n",
    "\n",
    "best_model_catboost = CatBoostRegressor(iterations=50, \n",
    "                                        depth=10, \n",
    "                                        learning_rate=0.3, \n",
    "                                        loss_function='RMSE',\n",
    "                                        random_state=12345)\n",
    "best_model_catboost.fit(features_train, target_train, cat_features=features_categorical, verbose=False)\n",
    "predictions = best_model_catboost.predict(features_test)\n",
    "print('RMSE на тестовой выборке:', mean_squared_error(target_test, predictions, squared=False))\n"
   ]
  },
  {
   "cell_type": "markdown",
   "metadata": {},
   "source": [
    "RMSE на тестовой выборке порядка 47. По условию RMSE должно быть меньше 48, результат удовлетворительный."
   ]
  },
  {
   "cell_type": "markdown",
   "metadata": {},
   "source": [
    "<a id='step5'></a>"
   ]
  },
  {
   "cell_type": "markdown",
   "metadata": {},
   "source": [
    "Построим график с реальным и предсказанным значением тестовой выборки"
   ]
  },
  {
   "cell_type": "code",
   "execution_count": 49,
   "metadata": {
    "scrolled": false
   },
   "outputs": [
    {
     "data": {
      "image/png": "[encoded data removed]",
      "text/plain": [
       "<Figure size 1080x504 with 1 Axes>"
      ]
     },
     "metadata": {
      "needs_background": "light"
     },
     "output_type": "display_data"
    }
   ],
   "source": [
    "plot_predict = test.copy()\n",
    "plot_predict['predictions'] = predictions\n",
    "plot_predict['2018-08-29 00:00':'2018-08-31 00:00'].plot(y=['num_orders', 'predictions'], figsize=(15, 7))\n",
    "plt.xlabel('Время')\n",
    "plt.ylabel('Количество заказов')\n",
    "plt.title('Количество заказов такси реальное и предсказанное с 1 по 3 августа в зависимости от времени')\n",
    "plt.show()"
   ]
  },
  {
   "cell_type": "markdown",
   "metadata": {},
   "source": [
    "Видно, что модель достаточно близко предсказывает количество заказов, за исключением пиковых значений. График предсказаний на некоторых участках практически повторяет график реальных значений со сдвигом по оси."
   ]
  },
  {
   "cell_type": "markdown",
   "metadata": {},
   "source": [
    "## Итоги"
   ]
  },
  {
   "cell_type": "markdown",
   "metadata": {},
   "source": [
    "Таким образом, в ходе исследования:\n",
    "\n",
    "1. Были загружены, изучены и ресемплированы данные по количеству заказов такси;\n",
    "2. Подготовлены признаки для обучения: добавлены год, месяц, день, день недели, отстающие значения и скользящее среднее; Подобрано количество отстающих значений и размер окна для скользящего среднего;\n",
    "3. Обучены модели линейной регрессии, решающего дерева, случайного леса и CatBoost; подобраны гиперпараметры, для которых RMSE на обучающей выборке минимальное;\n",
    "4. На обучающей выборке наилучший результат показал CatBoost;\n",
    "5. Протестирована модель CatBoost, показавшая на обучающей выборке лучший результат. На тестовой выборке RMSE оказалось равным 46.99, результат можно считать удовлетворительным (при количестве итераций 50, глубине 10 и скорости обучения 0.3).\n",
    "\n",
    "В итоге в качестве модели для предсказания количества заказов такси на следующий час выбран CatBoost с количеством итераций 50, глубиной 10 и скоростью обучения 0.3."
   ]
  },
  {
   "cell_type": "markdown",
   "metadata": {},
   "source": [
    "<br>"
   ]
  },
  {
   "cell_type": "markdown",
   "metadata": {},
   "source": [
    "[В начало](#start)"
   ]
  }
 ],
 "metadata": {
  "ExecuteTimeLog": [
   {
    "duration": 1196,
    "start_time": "2023-05-14T19:57:17.048Z"
   },
   {
    "duration": 135,
    "start_time": "2023-05-14T19:57:19.352Z"
   },
   {
    "duration": 13,
    "start_time": "2023-05-14T19:57:41.840Z"
   },
   {
    "duration": 712,
    "start_time": "2023-05-14T19:58:44.833Z"
   },
   {
    "duration": 60,
    "start_time": "2023-05-14T20:01:05.177Z"
   },
   {
    "duration": 12,
    "start_time": "2023-05-14T20:01:10.966Z"
   },
   {
    "duration": 693,
    "start_time": "2023-05-14T20:01:13.557Z"
   },
   {
    "duration": 3,
    "start_time": "2023-05-14T20:08:38.489Z"
   },
   {
    "duration": 55,
    "start_time": "2023-05-14T20:08:40.177Z"
   },
   {
    "duration": 11,
    "start_time": "2023-05-14T20:08:45.760Z"
   },
   {
    "duration": 4,
    "start_time": "2023-05-14T20:08:48.531Z"
   },
   {
    "duration": 1331,
    "start_time": "2023-05-14T20:10:39.548Z"
   },
   {
    "duration": 7,
    "start_time": "2023-05-14T20:10:59.068Z"
   },
   {
    "duration": 587,
    "start_time": "2023-05-14T20:11:49.677Z"
   },
   {
    "duration": 188,
    "start_time": "2023-05-14T20:12:06.604Z"
   },
   {
    "duration": 657,
    "start_time": "2023-05-14T20:12:33.465Z"
   },
   {
    "duration": 173,
    "start_time": "2023-05-14T20:12:47.837Z"
   },
   {
    "duration": 186,
    "start_time": "2023-05-14T20:13:16.519Z"
   },
   {
    "duration": 11,
    "start_time": "2023-05-14T20:20:16.754Z"
   },
   {
    "duration": 196,
    "start_time": "2023-05-14T20:20:19.641Z"
   },
   {
    "duration": 10,
    "start_time": "2023-05-14T20:21:01.614Z"
   },
   {
    "duration": 6,
    "start_time": "2023-05-14T20:22:28.301Z"
   },
   {
    "duration": 304,
    "start_time": "2023-05-14T20:22:30.525Z"
   },
   {
    "duration": 7,
    "start_time": "2023-05-14T20:22:35.162Z"
   },
   {
    "duration": 1313,
    "start_time": "2023-05-14T20:22:49.182Z"
   },
   {
    "duration": 66,
    "start_time": "2023-05-14T20:22:50.497Z"
   },
   {
    "duration": 7,
    "start_time": "2023-05-14T20:22:50.565Z"
   },
   {
    "duration": 13,
    "start_time": "2023-05-14T20:22:50.575Z"
   },
   {
    "duration": 3,
    "start_time": "2023-05-14T20:22:50.590Z"
   },
   {
    "duration": 4,
    "start_time": "2023-05-14T20:22:50.595Z"
   },
   {
    "duration": 30,
    "start_time": "2023-05-14T20:22:50.601Z"
   },
   {
    "duration": 16,
    "start_time": "2023-05-14T20:22:50.633Z"
   },
   {
    "duration": 999,
    "start_time": "2023-05-14T20:22:50.651Z"
   },
   {
    "duration": 201,
    "start_time": "2023-05-14T20:22:51.653Z"
   },
   {
    "duration": 9,
    "start_time": "2023-05-14T20:22:51.857Z"
   },
   {
    "duration": 23,
    "start_time": "2023-05-14T20:22:51.868Z"
   },
   {
    "duration": 271,
    "start_time": "2023-05-14T20:22:51.894Z"
   },
   {
    "duration": 1235,
    "start_time": "2023-05-14T20:23:06.855Z"
   },
   {
    "duration": 56,
    "start_time": "2023-05-14T20:23:08.093Z"
   },
   {
    "duration": 6,
    "start_time": "2023-05-14T20:23:08.151Z"
   },
   {
    "duration": 12,
    "start_time": "2023-05-14T20:23:08.159Z"
   },
   {
    "duration": 3,
    "start_time": "2023-05-14T20:23:08.173Z"
   },
   {
    "duration": 11,
    "start_time": "2023-05-14T20:23:08.177Z"
   },
   {
    "duration": 3,
    "start_time": "2023-05-14T20:23:08.191Z"
   },
   {
    "duration": 6,
    "start_time": "2023-05-14T20:23:08.196Z"
   },
   {
    "duration": 965,
    "start_time": "2023-05-14T20:23:08.205Z"
   },
   {
    "duration": 202,
    "start_time": "2023-05-14T20:23:09.172Z"
   },
   {
    "duration": 19,
    "start_time": "2023-05-14T20:23:09.376Z"
   },
   {
    "duration": 8,
    "start_time": "2023-05-14T20:23:09.397Z"
   },
   {
    "duration": 338,
    "start_time": "2023-05-14T20:23:09.407Z"
   },
   {
    "duration": 254,
    "start_time": "2023-05-14T20:23:55.034Z"
   },
   {
    "duration": 312,
    "start_time": "2023-05-14T20:24:24.923Z"
   },
   {
    "duration": 1289,
    "start_time": "2023-05-14T20:34:05.064Z"
   },
   {
    "duration": 71,
    "start_time": "2023-05-14T20:34:43.291Z"
   },
   {
    "duration": 13,
    "start_time": "2023-05-14T20:34:50.722Z"
   },
   {
    "duration": 69,
    "start_time": "2023-05-14T20:35:15.941Z"
   },
   {
    "duration": 12,
    "start_time": "2023-05-14T20:35:17.915Z"
   },
   {
    "duration": 9,
    "start_time": "2023-05-14T20:35:46.815Z"
   },
   {
    "duration": 14,
    "start_time": "2023-05-14T20:35:48.806Z"
   },
   {
    "duration": 708,
    "start_time": "2023-05-14T20:36:14.996Z"
   },
   {
    "duration": 17,
    "start_time": "2023-05-14T20:36:56.309Z"
   },
   {
    "duration": 263,
    "start_time": "2023-05-14T20:37:20.998Z"
   },
   {
    "duration": 184,
    "start_time": "2023-05-14T20:38:28.198Z"
   },
   {
    "duration": 199,
    "start_time": "2023-05-14T20:38:46.240Z"
   },
   {
    "duration": 243,
    "start_time": "2023-05-14T20:39:01.379Z"
   },
   {
    "duration": 219,
    "start_time": "2023-05-14T20:39:07.918Z"
   },
   {
    "duration": 271,
    "start_time": "2023-05-14T20:39:14.667Z"
   },
   {
    "duration": 233,
    "start_time": "2023-05-14T20:39:19.526Z"
   },
   {
    "duration": 199,
    "start_time": "2023-05-14T20:39:53.206Z"
   },
   {
    "duration": 309,
    "start_time": "2023-05-14T20:40:00.402Z"
   },
   {
    "duration": 1190,
    "start_time": "2023-05-14T20:43:43.541Z"
   },
   {
    "duration": 55,
    "start_time": "2023-05-14T20:43:44.733Z"
   },
   {
    "duration": 6,
    "start_time": "2023-05-14T20:43:44.790Z"
   },
   {
    "duration": 26,
    "start_time": "2023-05-14T20:43:44.798Z"
   },
   {
    "duration": 3,
    "start_time": "2023-05-14T20:43:44.826Z"
   },
   {
    "duration": 4,
    "start_time": "2023-05-14T20:43:44.831Z"
   },
   {
    "duration": 4,
    "start_time": "2023-05-14T20:43:44.837Z"
   },
   {
    "duration": 5,
    "start_time": "2023-05-14T20:43:44.843Z"
   },
   {
    "duration": 985,
    "start_time": "2023-05-14T20:43:44.850Z"
   },
   {
    "duration": 197,
    "start_time": "2023-05-14T20:43:45.838Z"
   },
   {
    "duration": 11,
    "start_time": "2023-05-14T20:43:46.037Z"
   },
   {
    "duration": 20,
    "start_time": "2023-05-14T20:43:46.050Z"
   },
   {
    "duration": 277,
    "start_time": "2023-05-14T20:43:46.072Z"
   },
   {
    "duration": 14,
    "start_time": "2023-05-14T20:43:46.350Z"
   },
   {
    "duration": 28,
    "start_time": "2023-05-14T20:43:46.366Z"
   },
   {
    "duration": 218,
    "start_time": "2023-05-14T20:43:46.396Z"
   },
   {
    "duration": 9,
    "start_time": "2023-05-14T20:43:46.617Z"
   },
   {
    "duration": 18,
    "start_time": "2023-05-14T20:43:46.628Z"
   },
   {
    "duration": 13,
    "start_time": "2023-05-14T20:43:46.648Z"
   },
   {
    "duration": 1154,
    "start_time": "2023-05-14T20:45:18.493Z"
   },
   {
    "duration": 55,
    "start_time": "2023-05-14T20:45:19.649Z"
   },
   {
    "duration": 8,
    "start_time": "2023-05-14T20:45:19.706Z"
   },
   {
    "duration": 13,
    "start_time": "2023-05-14T20:45:19.717Z"
   },
   {
    "duration": 3,
    "start_time": "2023-05-14T20:45:19.732Z"
   },
   {
    "duration": 4,
    "start_time": "2023-05-14T20:45:19.736Z"
   },
   {
    "duration": 6,
    "start_time": "2023-05-14T20:45:19.742Z"
   },
   {
    "duration": 13,
    "start_time": "2023-05-14T20:45:19.750Z"
   },
   {
    "duration": 1008,
    "start_time": "2023-05-14T20:45:19.764Z"
   },
   {
    "duration": 200,
    "start_time": "2023-05-14T20:45:20.774Z"
   },
   {
    "duration": 15,
    "start_time": "2023-05-14T20:45:20.976Z"
   },
   {
    "duration": 8,
    "start_time": "2023-05-14T20:45:20.993Z"
   },
   {
    "duration": 295,
    "start_time": "2023-05-14T20:45:21.003Z"
   },
   {
    "duration": 4,
    "start_time": "2023-05-14T20:45:21.300Z"
   },
   {
    "duration": 28,
    "start_time": "2023-05-14T20:45:21.306Z"
   },
   {
    "duration": 19,
    "start_time": "2023-05-14T20:45:21.336Z"
   },
   {
    "duration": 230,
    "start_time": "2023-05-14T20:45:21.357Z"
   },
   {
    "duration": 10,
    "start_time": "2023-05-14T20:45:21.589Z"
   },
   {
    "duration": 14,
    "start_time": "2023-05-14T20:45:21.600Z"
   },
   {
    "duration": 26,
    "start_time": "2023-05-14T20:45:21.616Z"
   },
   {
    "duration": 1112,
    "start_time": "2023-05-14T20:45:35.924Z"
   },
   {
    "duration": 55,
    "start_time": "2023-05-14T20:45:37.038Z"
   },
   {
    "duration": 7,
    "start_time": "2023-05-14T20:45:37.096Z"
   },
   {
    "duration": 13,
    "start_time": "2023-05-14T20:45:37.106Z"
   },
   {
    "duration": 3,
    "start_time": "2023-05-14T20:45:37.121Z"
   },
   {
    "duration": 20,
    "start_time": "2023-05-14T20:45:37.126Z"
   },
   {
    "duration": 6,
    "start_time": "2023-05-14T20:45:37.148Z"
   },
   {
    "duration": 15,
    "start_time": "2023-05-14T20:45:37.155Z"
   },
   {
    "duration": 971,
    "start_time": "2023-05-14T20:45:37.172Z"
   },
   {
    "duration": 198,
    "start_time": "2023-05-14T20:45:38.148Z"
   },
   {
    "duration": 10,
    "start_time": "2023-05-14T20:45:38.347Z"
   },
   {
    "duration": 12,
    "start_time": "2023-05-14T20:45:38.358Z"
   },
   {
    "duration": 274,
    "start_time": "2023-05-14T20:45:38.372Z"
   },
   {
    "duration": 4,
    "start_time": "2023-05-14T20:45:38.648Z"
   },
   {
    "duration": 48,
    "start_time": "2023-05-14T20:45:38.654Z"
   },
   {
    "duration": 17,
    "start_time": "2023-05-14T20:45:38.704Z"
   },
   {
    "duration": 219,
    "start_time": "2023-05-14T20:45:38.723Z"
   },
   {
    "duration": 8,
    "start_time": "2023-05-14T20:45:38.945Z"
   },
   {
    "duration": 7,
    "start_time": "2023-05-14T20:45:38.955Z"
   },
   {
    "duration": 32,
    "start_time": "2023-05-14T20:45:38.964Z"
   },
   {
    "duration": 1122,
    "start_time": "2023-05-14T20:46:13.612Z"
   },
   {
    "duration": 56,
    "start_time": "2023-05-14T20:46:14.737Z"
   },
   {
    "duration": 7,
    "start_time": "2023-05-14T20:46:14.797Z"
   },
   {
    "duration": 13,
    "start_time": "2023-05-14T20:46:14.805Z"
   },
   {
    "duration": 3,
    "start_time": "2023-05-14T20:46:14.820Z"
   },
   {
    "duration": 8,
    "start_time": "2023-05-14T20:46:14.824Z"
   },
   {
    "duration": 4,
    "start_time": "2023-05-14T20:46:14.834Z"
   },
   {
    "duration": 6,
    "start_time": "2023-05-14T20:46:14.840Z"
   },
   {
    "duration": 986,
    "start_time": "2023-05-14T20:46:14.849Z"
   },
   {
    "duration": 201,
    "start_time": "2023-05-14T20:46:15.837Z"
   },
   {
    "duration": 9,
    "start_time": "2023-05-14T20:46:16.041Z"
   },
   {
    "duration": 9,
    "start_time": "2023-05-14T20:46:16.052Z"
   },
   {
    "duration": 274,
    "start_time": "2023-05-14T20:46:16.063Z"
   },
   {
    "duration": 5,
    "start_time": "2023-05-14T20:46:16.339Z"
   },
   {
    "duration": 20,
    "start_time": "2023-05-14T20:46:16.345Z"
   },
   {
    "duration": 32,
    "start_time": "2023-05-14T20:46:16.366Z"
   },
   {
    "duration": 214,
    "start_time": "2023-05-14T20:46:16.399Z"
   },
   {
    "duration": 8,
    "start_time": "2023-05-14T20:46:16.616Z"
   },
   {
    "duration": 7,
    "start_time": "2023-05-14T20:46:16.626Z"
   },
   {
    "duration": 25,
    "start_time": "2023-05-14T20:46:16.635Z"
   },
   {
    "duration": 1257,
    "start_time": "2023-05-14T20:46:29.418Z"
   },
   {
    "duration": 62,
    "start_time": "2023-05-14T20:46:30.677Z"
   },
   {
    "duration": 8,
    "start_time": "2023-05-14T20:46:30.741Z"
   },
   {
    "duration": 40,
    "start_time": "2023-05-14T20:46:30.751Z"
   },
   {
    "duration": 25,
    "start_time": "2023-05-14T20:46:30.793Z"
   },
   {
    "duration": 56,
    "start_time": "2023-05-14T20:46:30.820Z"
   },
   {
    "duration": 33,
    "start_time": "2023-05-14T20:46:30.878Z"
   },
   {
    "duration": 34,
    "start_time": "2023-05-14T20:46:30.913Z"
   },
   {
    "duration": 986,
    "start_time": "2023-05-14T20:46:30.949Z"
   },
   {
    "duration": 199,
    "start_time": "2023-05-14T20:46:31.938Z"
   },
   {
    "duration": 8,
    "start_time": "2023-05-14T20:46:32.139Z"
   },
   {
    "duration": 19,
    "start_time": "2023-05-14T20:46:32.149Z"
   },
   {
    "duration": 288,
    "start_time": "2023-05-14T20:46:32.170Z"
   },
   {
    "duration": 5,
    "start_time": "2023-05-14T20:46:32.460Z"
   },
   {
    "duration": 35,
    "start_time": "2023-05-14T20:46:32.467Z"
   },
   {
    "duration": 27,
    "start_time": "2023-05-14T20:46:32.504Z"
   },
   {
    "duration": 211,
    "start_time": "2023-05-14T20:46:32.533Z"
   },
   {
    "duration": 7,
    "start_time": "2023-05-14T20:46:32.747Z"
   },
   {
    "duration": 21,
    "start_time": "2023-05-14T20:46:32.756Z"
   },
   {
    "duration": 19,
    "start_time": "2023-05-14T20:46:32.779Z"
   },
   {
    "duration": 1158,
    "start_time": "2023-05-14T20:46:49.091Z"
   },
   {
    "duration": 63,
    "start_time": "2023-05-14T20:46:50.252Z"
   },
   {
    "duration": 8,
    "start_time": "2023-05-14T20:46:50.317Z"
   },
   {
    "duration": 20,
    "start_time": "2023-05-14T20:46:50.327Z"
   },
   {
    "duration": 3,
    "start_time": "2023-05-14T20:46:50.351Z"
   },
   {
    "duration": 5,
    "start_time": "2023-05-14T20:46:50.356Z"
   },
   {
    "duration": 27,
    "start_time": "2023-05-14T20:46:50.363Z"
   },
   {
    "duration": 6,
    "start_time": "2023-05-14T20:46:50.392Z"
   },
   {
    "duration": 1037,
    "start_time": "2023-05-14T20:46:50.401Z"
   },
   {
    "duration": 196,
    "start_time": "2023-05-14T20:46:51.439Z"
   },
   {
    "duration": 9,
    "start_time": "2023-05-14T20:46:51.637Z"
   },
   {
    "duration": 33,
    "start_time": "2023-05-14T20:46:51.647Z"
   },
   {
    "duration": 292,
    "start_time": "2023-05-14T20:46:51.682Z"
   },
   {
    "duration": 11,
    "start_time": "2023-05-14T20:46:51.977Z"
   },
   {
    "duration": 25,
    "start_time": "2023-05-14T20:46:51.990Z"
   },
   {
    "duration": 16,
    "start_time": "2023-05-14T20:46:52.017Z"
   },
   {
    "duration": 232,
    "start_time": "2023-05-14T20:46:52.035Z"
   },
   {
    "duration": 19,
    "start_time": "2023-05-14T20:46:52.269Z"
   },
   {
    "duration": 12,
    "start_time": "2023-05-14T20:46:52.290Z"
   },
   {
    "duration": 14,
    "start_time": "2023-05-14T20:46:52.303Z"
   },
   {
    "duration": 10,
    "start_time": "2023-05-14T20:47:12.961Z"
   },
   {
    "duration": 1110,
    "start_time": "2023-05-14T20:47:17.832Z"
   },
   {
    "duration": 56,
    "start_time": "2023-05-14T20:47:18.944Z"
   },
   {
    "duration": 6,
    "start_time": "2023-05-14T20:47:19.002Z"
   },
   {
    "duration": 19,
    "start_time": "2023-05-14T20:47:19.009Z"
   },
   {
    "duration": 2,
    "start_time": "2023-05-14T20:47:19.031Z"
   },
   {
    "duration": 4,
    "start_time": "2023-05-14T20:47:19.035Z"
   },
   {
    "duration": 5,
    "start_time": "2023-05-14T20:47:19.041Z"
   },
   {
    "duration": 6,
    "start_time": "2023-05-14T20:47:19.047Z"
   },
   {
    "duration": 1009,
    "start_time": "2023-05-14T20:47:19.055Z"
   },
   {
    "duration": 207,
    "start_time": "2023-05-14T20:47:20.065Z"
   },
   {
    "duration": 19,
    "start_time": "2023-05-14T20:47:20.274Z"
   },
   {
    "duration": 9,
    "start_time": "2023-05-14T20:47:20.296Z"
   },
   {
    "duration": 312,
    "start_time": "2023-05-14T20:47:20.307Z"
   },
   {
    "duration": 5,
    "start_time": "2023-05-14T20:47:20.621Z"
   },
   {
    "duration": 25,
    "start_time": "2023-05-14T20:47:20.627Z"
   },
   {
    "duration": 15,
    "start_time": "2023-05-14T20:47:20.654Z"
   },
   {
    "duration": 219,
    "start_time": "2023-05-14T20:47:20.671Z"
   },
   {
    "duration": 8,
    "start_time": "2023-05-14T20:47:20.892Z"
   },
   {
    "duration": 25,
    "start_time": "2023-05-14T20:47:20.901Z"
   },
   {
    "duration": 29,
    "start_time": "2023-05-14T20:47:20.928Z"
   },
   {
    "duration": 1127,
    "start_time": "2023-05-14T20:47:33.719Z"
   },
   {
    "duration": 57,
    "start_time": "2023-05-14T20:47:34.849Z"
   },
   {
    "duration": 7,
    "start_time": "2023-05-14T20:47:34.907Z"
   },
   {
    "duration": 29,
    "start_time": "2023-05-14T20:47:34.916Z"
   },
   {
    "duration": 18,
    "start_time": "2023-05-14T20:47:34.946Z"
   },
   {
    "duration": 10,
    "start_time": "2023-05-14T20:47:34.966Z"
   },
   {
    "duration": 5,
    "start_time": "2023-05-14T20:47:34.977Z"
   },
   {
    "duration": 6,
    "start_time": "2023-05-14T20:47:34.983Z"
   },
   {
    "duration": 991,
    "start_time": "2023-05-14T20:47:34.990Z"
   },
   {
    "duration": 199,
    "start_time": "2023-05-14T20:47:35.983Z"
   },
   {
    "duration": 9,
    "start_time": "2023-05-14T20:47:36.187Z"
   },
   {
    "duration": 14,
    "start_time": "2023-05-14T20:47:36.197Z"
   },
   {
    "duration": 288,
    "start_time": "2023-05-14T20:47:36.213Z"
   },
   {
    "duration": 5,
    "start_time": "2023-05-14T20:47:36.503Z"
   },
   {
    "duration": 16,
    "start_time": "2023-05-14T20:47:36.510Z"
   },
   {
    "duration": 14,
    "start_time": "2023-05-14T20:47:36.528Z"
   },
   {
    "duration": 223,
    "start_time": "2023-05-14T20:47:36.545Z"
   },
   {
    "duration": 7,
    "start_time": "2023-05-14T20:47:36.770Z"
   },
   {
    "duration": 6,
    "start_time": "2023-05-14T20:47:36.788Z"
   },
   {
    "duration": 16,
    "start_time": "2023-05-14T20:47:36.796Z"
   },
   {
    "duration": 1187,
    "start_time": "2023-05-14T20:47:47.089Z"
   },
   {
    "duration": 56,
    "start_time": "2023-05-14T20:47:48.279Z"
   },
   {
    "duration": 9,
    "start_time": "2023-05-14T20:47:48.337Z"
   },
   {
    "duration": 16,
    "start_time": "2023-05-14T20:47:48.347Z"
   },
   {
    "duration": 3,
    "start_time": "2023-05-14T20:47:48.365Z"
   },
   {
    "duration": 10,
    "start_time": "2023-05-14T20:47:48.369Z"
   },
   {
    "duration": 4,
    "start_time": "2023-05-14T20:47:48.387Z"
   },
   {
    "duration": 5,
    "start_time": "2023-05-14T20:47:48.393Z"
   },
   {
    "duration": 997,
    "start_time": "2023-05-14T20:47:48.399Z"
   },
   {
    "duration": 198,
    "start_time": "2023-05-14T20:47:49.398Z"
   },
   {
    "duration": 10,
    "start_time": "2023-05-14T20:47:49.598Z"
   },
   {
    "duration": 8,
    "start_time": "2023-05-14T20:47:49.610Z"
   },
   {
    "duration": 283,
    "start_time": "2023-05-14T20:47:49.620Z"
   },
   {
    "duration": 5,
    "start_time": "2023-05-14T20:47:49.906Z"
   },
   {
    "duration": 23,
    "start_time": "2023-05-14T20:47:49.913Z"
   },
   {
    "duration": 16,
    "start_time": "2023-05-14T20:47:49.938Z"
   },
   {
    "duration": 219,
    "start_time": "2023-05-14T20:47:49.955Z"
   },
   {
    "duration": 12,
    "start_time": "2023-05-14T20:47:50.176Z"
   },
   {
    "duration": 7,
    "start_time": "2023-05-14T20:47:50.190Z"
   },
   {
    "duration": 23,
    "start_time": "2023-05-14T20:47:50.200Z"
   },
   {
    "duration": 1114,
    "start_time": "2023-05-14T20:48:01.326Z"
   },
   {
    "duration": 56,
    "start_time": "2023-05-14T20:48:02.442Z"
   },
   {
    "duration": 6,
    "start_time": "2023-05-14T20:48:02.500Z"
   },
   {
    "duration": 23,
    "start_time": "2023-05-14T20:48:02.508Z"
   },
   {
    "duration": 16,
    "start_time": "2023-05-14T20:48:02.533Z"
   },
   {
    "duration": 18,
    "start_time": "2023-05-14T20:48:02.551Z"
   },
   {
    "duration": 16,
    "start_time": "2023-05-14T20:48:02.571Z"
   },
   {
    "duration": 13,
    "start_time": "2023-05-14T20:48:02.589Z"
   },
   {
    "duration": 1049,
    "start_time": "2023-05-14T20:48:02.604Z"
   },
   {
    "duration": 199,
    "start_time": "2023-05-14T20:48:03.655Z"
   },
   {
    "duration": 9,
    "start_time": "2023-05-14T20:48:03.856Z"
   },
   {
    "duration": 22,
    "start_time": "2023-05-14T20:48:03.867Z"
   },
   {
    "duration": 269,
    "start_time": "2023-05-14T20:48:03.892Z"
   },
   {
    "duration": 5,
    "start_time": "2023-05-14T20:48:04.164Z"
   },
   {
    "duration": 23,
    "start_time": "2023-05-14T20:48:04.171Z"
   },
   {
    "duration": 15,
    "start_time": "2023-05-14T20:48:04.196Z"
   },
   {
    "duration": 219,
    "start_time": "2023-05-14T20:48:04.214Z"
   },
   {
    "duration": 8,
    "start_time": "2023-05-14T20:48:04.435Z"
   },
   {
    "duration": 6,
    "start_time": "2023-05-14T20:48:04.445Z"
   },
   {
    "duration": 25,
    "start_time": "2023-05-14T20:48:04.452Z"
   },
   {
    "duration": 1138,
    "start_time": "2023-05-14T20:48:18.339Z"
   },
   {
    "duration": 56,
    "start_time": "2023-05-14T20:48:19.479Z"
   },
   {
    "duration": 7,
    "start_time": "2023-05-14T20:48:19.537Z"
   },
   {
    "duration": 17,
    "start_time": "2023-05-14T20:48:19.546Z"
   },
   {
    "duration": 55,
    "start_time": "2023-05-14T20:48:19.565Z"
   },
   {
    "duration": 5,
    "start_time": "2023-05-14T20:48:19.622Z"
   },
   {
    "duration": 3,
    "start_time": "2023-05-14T20:48:19.629Z"
   },
   {
    "duration": 13,
    "start_time": "2023-05-14T20:48:19.634Z"
   },
   {
    "duration": 1037,
    "start_time": "2023-05-14T20:48:19.649Z"
   },
   {
    "duration": 210,
    "start_time": "2023-05-14T20:48:20.689Z"
   },
   {
    "duration": 9,
    "start_time": "2023-05-14T20:48:20.901Z"
   },
   {
    "duration": 12,
    "start_time": "2023-05-14T20:48:20.912Z"
   },
   {
    "duration": 291,
    "start_time": "2023-05-14T20:48:20.926Z"
   },
   {
    "duration": 5,
    "start_time": "2023-05-14T20:48:21.219Z"
   },
   {
    "duration": 21,
    "start_time": "2023-05-14T20:48:21.226Z"
   },
   {
    "duration": 16,
    "start_time": "2023-05-14T20:48:21.249Z"
   },
   {
    "duration": 241,
    "start_time": "2023-05-14T20:48:21.267Z"
   },
   {
    "duration": 8,
    "start_time": "2023-05-14T20:48:21.509Z"
   },
   {
    "duration": 7,
    "start_time": "2023-05-14T20:48:21.519Z"
   },
   {
    "duration": 21,
    "start_time": "2023-05-14T20:48:21.528Z"
   },
   {
    "duration": 1187,
    "start_time": "2023-05-14T20:48:35.357Z"
   },
   {
    "duration": 57,
    "start_time": "2023-05-14T20:48:36.546Z"
   },
   {
    "duration": 6,
    "start_time": "2023-05-14T20:48:36.607Z"
   },
   {
    "duration": 14,
    "start_time": "2023-05-14T20:48:36.614Z"
   },
   {
    "duration": 3,
    "start_time": "2023-05-14T20:48:36.629Z"
   },
   {
    "duration": 18,
    "start_time": "2023-05-14T20:48:36.633Z"
   },
   {
    "duration": 16,
    "start_time": "2023-05-14T20:48:36.653Z"
   },
   {
    "duration": 6,
    "start_time": "2023-05-14T20:48:36.671Z"
   },
   {
    "duration": 996,
    "start_time": "2023-05-14T20:48:36.680Z"
   },
   {
    "duration": 210,
    "start_time": "2023-05-14T20:48:37.678Z"
   },
   {
    "duration": 9,
    "start_time": "2023-05-14T20:48:37.889Z"
   },
   {
    "duration": 7,
    "start_time": "2023-05-14T20:48:37.900Z"
   },
   {
    "duration": 276,
    "start_time": "2023-05-14T20:48:37.909Z"
   },
   {
    "duration": 5,
    "start_time": "2023-05-14T20:48:38.188Z"
   },
   {
    "duration": 15,
    "start_time": "2023-05-14T20:48:38.194Z"
   },
   {
    "duration": 13,
    "start_time": "2023-05-14T20:48:38.211Z"
   },
   {
    "duration": 226,
    "start_time": "2023-05-14T20:48:38.226Z"
   },
   {
    "duration": 8,
    "start_time": "2023-05-14T20:48:38.454Z"
   },
   {
    "duration": 5,
    "start_time": "2023-05-14T20:48:38.464Z"
   },
   {
    "duration": 21,
    "start_time": "2023-05-14T20:48:38.471Z"
   },
   {
    "duration": 1176,
    "start_time": "2023-05-14T20:48:47.650Z"
   },
   {
    "duration": 56,
    "start_time": "2023-05-14T20:48:48.828Z"
   },
   {
    "duration": 6,
    "start_time": "2023-05-14T20:48:48.886Z"
   },
   {
    "duration": 13,
    "start_time": "2023-05-14T20:48:48.895Z"
   },
   {
    "duration": 3,
    "start_time": "2023-05-14T20:48:48.910Z"
   },
   {
    "duration": 7,
    "start_time": "2023-05-14T20:48:48.915Z"
   },
   {
    "duration": 9,
    "start_time": "2023-05-14T20:48:48.923Z"
   },
   {
    "duration": 6,
    "start_time": "2023-05-14T20:48:48.934Z"
   },
   {
    "duration": 987,
    "start_time": "2023-05-14T20:48:48.942Z"
   },
   {
    "duration": 195,
    "start_time": "2023-05-14T20:48:49.931Z"
   },
   {
    "duration": 11,
    "start_time": "2023-05-14T20:48:50.128Z"
   },
   {
    "duration": 10,
    "start_time": "2023-05-14T20:48:50.141Z"
   },
   {
    "duration": 346,
    "start_time": "2023-05-14T20:48:50.153Z"
   },
   {
    "duration": 4,
    "start_time": "2023-05-14T20:48:50.501Z"
   },
   {
    "duration": 22,
    "start_time": "2023-05-14T20:48:50.507Z"
   },
   {
    "duration": 20,
    "start_time": "2023-05-14T20:48:50.531Z"
   },
   {
    "duration": 214,
    "start_time": "2023-05-14T20:48:50.552Z"
   },
   {
    "duration": 20,
    "start_time": "2023-05-14T20:48:50.768Z"
   },
   {
    "duration": 8,
    "start_time": "2023-05-14T20:48:50.790Z"
   },
   {
    "duration": 13,
    "start_time": "2023-05-14T20:48:50.800Z"
   },
   {
    "duration": 1155,
    "start_time": "2023-05-14T20:49:06.975Z"
   },
   {
    "duration": 57,
    "start_time": "2023-05-14T20:49:08.132Z"
   },
   {
    "duration": 7,
    "start_time": "2023-05-14T20:49:08.190Z"
   },
   {
    "duration": 14,
    "start_time": "2023-05-14T20:49:08.200Z"
   },
   {
    "duration": 3,
    "start_time": "2023-05-14T20:49:08.216Z"
   },
   {
    "duration": 3,
    "start_time": "2023-05-14T20:49:08.222Z"
   },
   {
    "duration": 6,
    "start_time": "2023-05-14T20:49:08.227Z"
   },
   {
    "duration": 8,
    "start_time": "2023-05-14T20:49:08.235Z"
   },
   {
    "duration": 1038,
    "start_time": "2023-05-14T20:49:08.245Z"
   },
   {
    "duration": 199,
    "start_time": "2023-05-14T20:49:09.289Z"
   },
   {
    "duration": 10,
    "start_time": "2023-05-14T20:49:09.490Z"
   },
   {
    "duration": 8,
    "start_time": "2023-05-14T20:49:09.502Z"
   },
   {
    "duration": 286,
    "start_time": "2023-05-14T20:49:09.512Z"
   },
   {
    "duration": 4,
    "start_time": "2023-05-14T20:49:09.800Z"
   },
   {
    "duration": 22,
    "start_time": "2023-05-14T20:49:09.806Z"
   },
   {
    "duration": 14,
    "start_time": "2023-05-14T20:49:09.831Z"
   },
   {
    "duration": 220,
    "start_time": "2023-05-14T20:49:09.847Z"
   },
   {
    "duration": 19,
    "start_time": "2023-05-14T20:49:10.069Z"
   },
   {
    "duration": 6,
    "start_time": "2023-05-14T20:49:10.090Z"
   },
   {
    "duration": 12,
    "start_time": "2023-05-14T20:49:10.098Z"
   },
   {
    "duration": 1219,
    "start_time": "2023-05-14T20:49:21.793Z"
   },
   {
    "duration": 55,
    "start_time": "2023-05-14T20:49:23.015Z"
   },
   {
    "duration": 6,
    "start_time": "2023-05-14T20:49:23.072Z"
   },
   {
    "duration": 12,
    "start_time": "2023-05-14T20:49:23.080Z"
   },
   {
    "duration": 3,
    "start_time": "2023-05-14T20:49:23.095Z"
   },
   {
    "duration": 5,
    "start_time": "2023-05-14T20:49:23.100Z"
   },
   {
    "duration": 4,
    "start_time": "2023-05-14T20:49:23.106Z"
   },
   {
    "duration": 5,
    "start_time": "2023-05-14T20:49:23.112Z"
   },
   {
    "duration": 991,
    "start_time": "2023-05-14T20:49:23.119Z"
   },
   {
    "duration": 210,
    "start_time": "2023-05-14T20:49:24.112Z"
   },
   {
    "duration": 9,
    "start_time": "2023-05-14T20:49:24.324Z"
   },
   {
    "duration": 9,
    "start_time": "2023-05-14T20:49:24.334Z"
   },
   {
    "duration": 287,
    "start_time": "2023-05-14T20:49:24.344Z"
   },
   {
    "duration": 4,
    "start_time": "2023-05-14T20:49:24.634Z"
   },
   {
    "duration": 29,
    "start_time": "2023-05-14T20:49:24.640Z"
   },
   {
    "duration": 17,
    "start_time": "2023-05-14T20:49:24.671Z"
   },
   {
    "duration": 218,
    "start_time": "2023-05-14T20:49:24.690Z"
   },
   {
    "duration": 8,
    "start_time": "2023-05-14T20:49:24.910Z"
   },
   {
    "duration": 7,
    "start_time": "2023-05-14T20:49:24.920Z"
   },
   {
    "duration": 15,
    "start_time": "2023-05-14T20:49:24.929Z"
   },
   {
    "duration": 1161,
    "start_time": "2023-05-14T20:49:35.691Z"
   },
   {
    "duration": 56,
    "start_time": "2023-05-14T20:49:36.853Z"
   },
   {
    "duration": 7,
    "start_time": "2023-05-14T20:49:36.911Z"
   },
   {
    "duration": 12,
    "start_time": "2023-05-14T20:49:36.920Z"
   },
   {
    "duration": 2,
    "start_time": "2023-05-14T20:49:36.936Z"
   },
   {
    "duration": 8,
    "start_time": "2023-05-14T20:49:36.940Z"
   },
   {
    "duration": 24,
    "start_time": "2023-05-14T20:49:36.949Z"
   },
   {
    "duration": 14,
    "start_time": "2023-05-14T20:49:36.975Z"
   },
   {
    "duration": 952,
    "start_time": "2023-05-14T20:49:36.991Z"
   },
   {
    "duration": 200,
    "start_time": "2023-05-14T20:49:37.945Z"
   },
   {
    "duration": 9,
    "start_time": "2023-05-14T20:49:38.147Z"
   },
   {
    "duration": 12,
    "start_time": "2023-05-14T20:49:38.157Z"
   },
   {
    "duration": 283,
    "start_time": "2023-05-14T20:49:38.170Z"
   },
   {
    "duration": 5,
    "start_time": "2023-05-14T20:49:38.456Z"
   },
   {
    "duration": 22,
    "start_time": "2023-05-14T20:49:38.462Z"
   },
   {
    "duration": 12,
    "start_time": "2023-05-14T20:49:38.488Z"
   },
   {
    "duration": 221,
    "start_time": "2023-05-14T20:49:38.502Z"
   },
   {
    "duration": 7,
    "start_time": "2023-05-14T20:49:38.725Z"
   },
   {
    "duration": 8,
    "start_time": "2023-05-14T20:49:38.734Z"
   },
   {
    "duration": 11,
    "start_time": "2023-05-14T20:49:38.744Z"
   },
   {
    "duration": 1277,
    "start_time": "2023-05-14T20:49:50.056Z"
   },
   {
    "duration": 56,
    "start_time": "2023-05-14T20:49:51.336Z"
   },
   {
    "duration": 7,
    "start_time": "2023-05-14T20:49:51.394Z"
   },
   {
    "duration": 12,
    "start_time": "2023-05-14T20:49:51.403Z"
   },
   {
    "duration": 8,
    "start_time": "2023-05-14T20:49:51.417Z"
   },
   {
    "duration": 8,
    "start_time": "2023-05-14T20:49:51.427Z"
   },
   {
    "duration": 7,
    "start_time": "2023-05-14T20:49:51.437Z"
   },
   {
    "duration": 6,
    "start_time": "2023-05-14T20:49:51.445Z"
   },
   {
    "duration": 999,
    "start_time": "2023-05-14T20:49:51.452Z"
   },
   {
    "duration": 229,
    "start_time": "2023-05-14T20:49:52.455Z"
   },
   {
    "duration": 10,
    "start_time": "2023-05-14T20:49:52.688Z"
   },
   {
    "duration": 13,
    "start_time": "2023-05-14T20:49:52.700Z"
   },
   {
    "duration": 317,
    "start_time": "2023-05-14T20:49:52.716Z"
   },
   {
    "duration": 5,
    "start_time": "2023-05-14T20:49:53.035Z"
   },
   {
    "duration": 18,
    "start_time": "2023-05-14T20:49:53.042Z"
   },
   {
    "duration": 28,
    "start_time": "2023-05-14T20:49:53.062Z"
   },
   {
    "duration": 231,
    "start_time": "2023-05-14T20:49:53.093Z"
   },
   {
    "duration": 8,
    "start_time": "2023-05-14T20:49:53.326Z"
   },
   {
    "duration": 7,
    "start_time": "2023-05-14T20:49:53.336Z"
   },
   {
    "duration": 23,
    "start_time": "2023-05-14T20:49:53.345Z"
   },
   {
    "duration": 13,
    "start_time": "2023-05-14T20:54:16.683Z"
   },
   {
    "duration": 1204,
    "start_time": "2023-05-14T20:58:46.789Z"
   },
   {
    "duration": 56,
    "start_time": "2023-05-14T20:58:47.995Z"
   },
   {
    "duration": 7,
    "start_time": "2023-05-14T20:58:48.052Z"
   },
   {
    "duration": 21,
    "start_time": "2023-05-14T20:58:48.061Z"
   },
   {
    "duration": 3,
    "start_time": "2023-05-14T20:58:48.085Z"
   },
   {
    "duration": 5,
    "start_time": "2023-05-14T20:58:48.090Z"
   },
   {
    "duration": 6,
    "start_time": "2023-05-14T20:58:48.096Z"
   },
   {
    "duration": 11,
    "start_time": "2023-05-14T20:58:48.104Z"
   },
   {
    "duration": 1002,
    "start_time": "2023-05-14T20:58:48.116Z"
   },
   {
    "duration": 201,
    "start_time": "2023-05-14T20:58:49.121Z"
   },
   {
    "duration": 10,
    "start_time": "2023-05-14T20:58:49.324Z"
   },
   {
    "duration": 9,
    "start_time": "2023-05-14T20:58:49.336Z"
   },
   {
    "duration": 292,
    "start_time": "2023-05-14T20:58:49.346Z"
   },
   {
    "duration": 367,
    "start_time": "2023-05-14T20:58:49.639Z"
   },
   {
    "duration": 5,
    "start_time": "2023-05-14T20:58:50.008Z"
   },
   {
    "duration": 16,
    "start_time": "2023-05-14T20:58:50.015Z"
   },
   {
    "duration": 14,
    "start_time": "2023-05-14T20:58:50.033Z"
   },
   {
    "duration": 260,
    "start_time": "2023-05-14T20:58:50.049Z"
   },
   {
    "duration": 12,
    "start_time": "2023-05-14T20:58:50.312Z"
   },
   {
    "duration": 19,
    "start_time": "2023-05-14T20:58:50.326Z"
   },
   {
    "duration": 41,
    "start_time": "2023-05-14T20:58:50.348Z"
   },
   {
    "duration": 18,
    "start_time": "2023-05-14T20:58:50.392Z"
   },
   {
    "duration": 1421,
    "start_time": "2023-05-14T20:58:50.413Z"
   },
   {
    "duration": 0,
    "start_time": "2023-05-14T20:58:51.836Z"
   },
   {
    "duration": 4,
    "start_time": "2023-05-14T20:59:23.837Z"
   },
   {
    "duration": 21,
    "start_time": "2023-05-14T20:59:26.571Z"
   },
   {
    "duration": 1277,
    "start_time": "2023-05-14T21:00:27.371Z"
   },
   {
    "duration": 58,
    "start_time": "2023-05-14T21:00:28.650Z"
   },
   {
    "duration": 7,
    "start_time": "2023-05-14T21:00:28.710Z"
   },
   {
    "duration": 19,
    "start_time": "2023-05-14T21:00:28.720Z"
   },
   {
    "duration": 3,
    "start_time": "2023-05-14T21:00:28.742Z"
   },
   {
    "duration": 13,
    "start_time": "2023-05-14T21:00:28.747Z"
   },
   {
    "duration": 11,
    "start_time": "2023-05-14T21:00:28.762Z"
   },
   {
    "duration": 12,
    "start_time": "2023-05-14T21:00:28.787Z"
   },
   {
    "duration": 1159,
    "start_time": "2023-05-14T21:00:28.800Z"
   },
   {
    "duration": 294,
    "start_time": "2023-05-14T21:00:29.962Z"
   },
   {
    "duration": 10,
    "start_time": "2023-05-14T21:00:30.258Z"
   },
   {
    "duration": 41,
    "start_time": "2023-05-14T21:00:30.271Z"
   },
   {
    "duration": 295,
    "start_time": "2023-05-14T21:00:30.314Z"
   },
   {
    "duration": 383,
    "start_time": "2023-05-14T21:00:30.611Z"
   },
   {
    "duration": 4,
    "start_time": "2023-05-14T21:00:30.997Z"
   },
   {
    "duration": 47,
    "start_time": "2023-05-14T21:00:31.003Z"
   },
   {
    "duration": 16,
    "start_time": "2023-05-14T21:00:31.052Z"
   },
   {
    "duration": 263,
    "start_time": "2023-05-14T21:00:31.070Z"
   },
   {
    "duration": 7,
    "start_time": "2023-05-14T21:00:31.335Z"
   },
   {
    "duration": 36,
    "start_time": "2023-05-14T21:00:31.344Z"
   },
   {
    "duration": 37,
    "start_time": "2023-05-14T21:00:31.382Z"
   },
   {
    "duration": 23,
    "start_time": "2023-05-14T21:00:31.422Z"
   },
   {
    "duration": 11,
    "start_time": "2023-05-14T21:00:31.447Z"
   },
   {
    "duration": 192,
    "start_time": "2023-05-14T21:00:31.489Z"
   },
   {
    "duration": 1304,
    "start_time": "2023-05-14T21:01:00.702Z"
   },
   {
    "duration": 57,
    "start_time": "2023-05-14T21:01:02.008Z"
   },
   {
    "duration": 7,
    "start_time": "2023-05-14T21:01:02.067Z"
   },
   {
    "duration": 44,
    "start_time": "2023-05-14T21:01:02.076Z"
   },
   {
    "duration": 3,
    "start_time": "2023-05-14T21:01:02.122Z"
   },
   {
    "duration": 13,
    "start_time": "2023-05-14T21:01:02.127Z"
   },
   {
    "duration": 18,
    "start_time": "2023-05-14T21:01:02.143Z"
   },
   {
    "duration": 25,
    "start_time": "2023-05-14T21:01:02.163Z"
   },
   {
    "duration": 1029,
    "start_time": "2023-05-14T21:01:02.190Z"
   },
   {
    "duration": 287,
    "start_time": "2023-05-14T21:01:03.222Z"
   },
   {
    "duration": 11,
    "start_time": "2023-05-14T21:01:03.511Z"
   },
   {
    "duration": 9,
    "start_time": "2023-05-14T21:01:03.524Z"
   },
   {
    "duration": 226,
    "start_time": "2023-05-14T21:01:03.536Z"
   },
   {
    "duration": 333,
    "start_time": "2023-05-14T21:01:03.764Z"
   },
   {
    "duration": 5,
    "start_time": "2023-05-14T21:01:04.099Z"
   },
   {
    "duration": 13,
    "start_time": "2023-05-14T21:01:04.107Z"
   },
   {
    "duration": 15,
    "start_time": "2023-05-14T21:01:04.121Z"
   },
   {
    "duration": 237,
    "start_time": "2023-05-14T21:01:04.138Z"
   },
   {
    "duration": 14,
    "start_time": "2023-05-14T21:01:04.377Z"
   },
   {
    "duration": 6,
    "start_time": "2023-05-14T21:01:04.393Z"
   },
   {
    "duration": 23,
    "start_time": "2023-05-14T21:01:04.401Z"
   },
   {
    "duration": 16,
    "start_time": "2023-05-14T21:01:04.425Z"
   },
   {
    "duration": 47,
    "start_time": "2023-05-14T21:01:04.443Z"
   },
   {
    "duration": 47370,
    "start_time": "2023-05-14T21:01:04.492Z"
   },
   {
    "duration": 173,
    "start_time": "2023-05-14T21:09:00.435Z"
   },
   {
    "duration": 23,
    "start_time": "2023-05-14T21:09:23.236Z"
   },
   {
    "duration": 12,
    "start_time": "2023-05-14T21:09:35.533Z"
   },
   {
    "duration": 54,
    "start_time": "2023-05-14T21:09:47.929Z"
   },
   {
    "duration": 765,
    "start_time": "2023-05-14T21:11:36.535Z"
   },
   {
    "duration": 12,
    "start_time": "2023-05-14T21:13:20.301Z"
   },
   {
    "duration": 11,
    "start_time": "2023-05-14T21:13:48.961Z"
   },
   {
    "duration": 1231,
    "start_time": "2023-05-14T21:17:16.510Z"
   },
   {
    "duration": 58,
    "start_time": "2023-05-14T21:17:17.743Z"
   },
   {
    "duration": 7,
    "start_time": "2023-05-14T21:17:17.803Z"
   },
   {
    "duration": 19,
    "start_time": "2023-05-14T21:17:17.813Z"
   },
   {
    "duration": 3,
    "start_time": "2023-05-14T21:17:17.834Z"
   },
   {
    "duration": 9,
    "start_time": "2023-05-14T21:17:17.839Z"
   },
   {
    "duration": 8,
    "start_time": "2023-05-14T21:17:17.850Z"
   },
   {
    "duration": 6,
    "start_time": "2023-05-14T21:17:17.860Z"
   },
   {
    "duration": 1083,
    "start_time": "2023-05-14T21:17:17.868Z"
   },
   {
    "duration": 194,
    "start_time": "2023-05-14T21:17:18.955Z"
   },
   {
    "duration": 8,
    "start_time": "2023-05-14T21:17:19.151Z"
   },
   {
    "duration": 7,
    "start_time": "2023-05-14T21:17:19.162Z"
   },
   {
    "duration": 207,
    "start_time": "2023-05-14T21:17:19.170Z"
   },
   {
    "duration": 317,
    "start_time": "2023-05-14T21:17:19.379Z"
   },
   {
    "duration": 4,
    "start_time": "2023-05-14T21:17:19.698Z"
   },
   {
    "duration": 18,
    "start_time": "2023-05-14T21:17:19.704Z"
   },
   {
    "duration": 13,
    "start_time": "2023-05-14T21:17:19.724Z"
   },
   {
    "duration": 227,
    "start_time": "2023-05-14T21:17:19.740Z"
   },
   {
    "duration": 23,
    "start_time": "2023-05-14T21:17:19.969Z"
   },
   {
    "duration": 6,
    "start_time": "2023-05-14T21:17:19.994Z"
   },
   {
    "duration": 35,
    "start_time": "2023-05-14T21:17:20.002Z"
   },
   {
    "duration": 720,
    "start_time": "2023-05-14T21:17:20.089Z"
   },
   {
    "duration": 31647,
    "start_time": "2023-05-14T21:17:20.811Z"
   },
   {
    "duration": 3,
    "start_time": "2023-05-14T21:17:52.460Z"
   },
   {
    "duration": 27,
    "start_time": "2023-05-14T21:17:52.465Z"
   },
   {
    "duration": 12,
    "start_time": "2023-05-14T21:19:33.349Z"
   },
   {
    "duration": 9,
    "start_time": "2023-05-14T21:19:39.874Z"
   },
   {
    "duration": 9,
    "start_time": "2023-05-14T21:20:05.639Z"
   },
   {
    "duration": 12,
    "start_time": "2023-05-14T21:20:52.126Z"
   },
   {
    "duration": 9,
    "start_time": "2023-05-14T21:20:59.632Z"
   },
   {
    "duration": 9,
    "start_time": "2023-05-14T21:22:06.127Z"
   },
   {
    "duration": 9,
    "start_time": "2023-05-14T21:22:31.982Z"
   },
   {
    "duration": 15,
    "start_time": "2023-05-14T21:23:14.028Z"
   },
   {
    "duration": 11,
    "start_time": "2023-05-14T21:23:55.272Z"
   },
   {
    "duration": 1458,
    "start_time": "2023-05-14T21:25:08.236Z"
   },
   {
    "duration": 1347,
    "start_time": "2023-05-14T21:25:28.240Z"
   },
   {
    "duration": 4,
    "start_time": "2023-05-14T21:26:47.123Z"
   },
   {
    "duration": 5,
    "start_time": "2023-05-14T21:27:14.011Z"
   },
   {
    "duration": 5,
    "start_time": "2023-05-14T21:27:42.278Z"
   },
   {
    "duration": 11,
    "start_time": "2023-05-14T21:27:59.672Z"
   },
   {
    "duration": 89,
    "start_time": "2023-05-14T21:29:28.642Z"
   },
   {
    "duration": 58054,
    "start_time": "2023-05-14T21:29:33.074Z"
   },
   {
    "duration": 7281,
    "start_time": "2023-05-14T21:31:11.054Z"
   },
   {
    "duration": 12,
    "start_time": "2023-05-14T21:32:03.095Z"
   },
   {
    "duration": 4,
    "start_time": "2023-05-14T21:32:16.132Z"
   },
   {
    "duration": 5,
    "start_time": "2023-05-14T21:32:17.859Z"
   },
   {
    "duration": 1910,
    "start_time": "2023-05-14T21:32:41.746Z"
   },
   {
    "duration": 310080,
    "start_time": "2023-05-14T21:33:29.554Z"
   },
   {
    "duration": 31,
    "start_time": "2023-05-14T21:39:08.028Z"
   },
   {
    "duration": 572,
    "start_time": "2023-05-14T21:40:57.384Z"
   },
   {
    "duration": 30,
    "start_time": "2023-05-14T21:42:32.999Z"
   },
   {
    "duration": 28,
    "start_time": "2023-05-14T21:42:47.049Z"
   },
   {
    "duration": 29,
    "start_time": "2023-05-14T21:42:52.990Z"
   },
   {
    "duration": 29,
    "start_time": "2023-05-14T21:43:07.760Z"
   },
   {
    "duration": 21,
    "start_time": "2023-05-14T21:43:12.124Z"
   },
   {
    "duration": 15,
    "start_time": "2023-05-14T21:43:17.197Z"
   },
   {
    "duration": 1185,
    "start_time": "2023-05-14T21:45:37.327Z"
   },
   {
    "duration": 55,
    "start_time": "2023-05-14T21:45:38.514Z"
   },
   {
    "duration": 7,
    "start_time": "2023-05-14T21:45:38.570Z"
   },
   {
    "duration": 13,
    "start_time": "2023-05-14T21:45:38.579Z"
   },
   {
    "duration": 3,
    "start_time": "2023-05-14T21:45:38.594Z"
   },
   {
    "duration": 4,
    "start_time": "2023-05-14T21:45:38.598Z"
   },
   {
    "duration": 7,
    "start_time": "2023-05-14T21:45:38.604Z"
   },
   {
    "duration": 5,
    "start_time": "2023-05-14T21:45:38.613Z"
   },
   {
    "duration": 1086,
    "start_time": "2023-05-14T21:45:38.620Z"
   },
   {
    "duration": 191,
    "start_time": "2023-05-14T21:45:39.709Z"
   },
   {
    "duration": 8,
    "start_time": "2023-05-14T21:45:39.902Z"
   },
   {
    "duration": 17,
    "start_time": "2023-05-14T21:45:39.912Z"
   },
   {
    "duration": 200,
    "start_time": "2023-05-14T21:45:39.931Z"
   },
   {
    "duration": 376,
    "start_time": "2023-05-14T21:45:40.133Z"
   },
   {
    "duration": 4,
    "start_time": "2023-05-14T21:45:40.511Z"
   },
   {
    "duration": 12,
    "start_time": "2023-05-14T21:45:40.517Z"
   },
   {
    "duration": 12,
    "start_time": "2023-05-14T21:45:40.531Z"
   },
   {
    "duration": 231,
    "start_time": "2023-05-14T21:45:40.545Z"
   },
   {
    "duration": 13,
    "start_time": "2023-05-14T21:45:40.777Z"
   },
   {
    "duration": 6,
    "start_time": "2023-05-14T21:45:40.792Z"
   },
   {
    "duration": 15,
    "start_time": "2023-05-14T21:45:40.799Z"
   },
   {
    "duration": 677,
    "start_time": "2023-05-14T21:45:40.816Z"
   },
   {
    "duration": 30553,
    "start_time": "2023-05-14T21:45:41.495Z"
   },
   {
    "duration": 3,
    "start_time": "2023-05-14T21:46:12.050Z"
   },
   {
    "duration": 476410,
    "start_time": "2023-05-14T21:46:12.055Z"
   },
   {
    "duration": 12,
    "start_time": "2023-05-14T21:54:08.468Z"
   },
   {
    "duration": 1212,
    "start_time": "2023-05-14T21:54:22.839Z"
   },
   {
    "duration": 56,
    "start_time": "2023-05-14T21:54:24.053Z"
   },
   {
    "duration": 7,
    "start_time": "2023-05-14T21:54:24.110Z"
   },
   {
    "duration": 11,
    "start_time": "2023-05-14T21:54:24.119Z"
   },
   {
    "duration": 3,
    "start_time": "2023-05-14T21:54:24.132Z"
   },
   {
    "duration": 4,
    "start_time": "2023-05-14T21:54:24.137Z"
   },
   {
    "duration": 6,
    "start_time": "2023-05-14T21:54:24.142Z"
   },
   {
    "duration": 9,
    "start_time": "2023-05-14T21:54:24.150Z"
   },
   {
    "duration": 1072,
    "start_time": "2023-05-14T21:54:24.160Z"
   },
   {
    "duration": 189,
    "start_time": "2023-05-14T21:54:25.235Z"
   },
   {
    "duration": 9,
    "start_time": "2023-05-14T21:54:25.426Z"
   },
   {
    "duration": 13,
    "start_time": "2023-05-14T21:54:25.436Z"
   },
   {
    "duration": 204,
    "start_time": "2023-05-14T21:54:25.451Z"
   },
   {
    "duration": 327,
    "start_time": "2023-05-14T21:54:25.657Z"
   },
   {
    "duration": 5,
    "start_time": "2023-05-14T21:54:25.985Z"
   },
   {
    "duration": 17,
    "start_time": "2023-05-14T21:54:25.992Z"
   },
   {
    "duration": 13,
    "start_time": "2023-05-14T21:54:26.011Z"
   },
   {
    "duration": 223,
    "start_time": "2023-05-14T21:54:26.026Z"
   },
   {
    "duration": 8,
    "start_time": "2023-05-14T21:54:26.250Z"
   },
   {
    "duration": 7,
    "start_time": "2023-05-14T21:54:26.260Z"
   },
   {
    "duration": 24,
    "start_time": "2023-05-14T21:54:26.269Z"
   },
   {
    "duration": 223,
    "start_time": "2023-05-14T21:54:32.584Z"
   },
   {
    "duration": 27084,
    "start_time": "2023-05-14T21:55:12.316Z"
   },
   {
    "duration": 132799,
    "start_time": "2023-05-14T21:56:23.096Z"
   },
   {
    "duration": 22,
    "start_time": "2023-05-14T22:00:12.742Z"
   },
   {
    "duration": 1176,
    "start_time": "2023-05-14T22:06:51.433Z"
   },
   {
    "duration": 57,
    "start_time": "2023-05-14T22:06:52.611Z"
   },
   {
    "duration": 6,
    "start_time": "2023-05-14T22:06:52.670Z"
   },
   {
    "duration": 28,
    "start_time": "2023-05-14T22:06:52.679Z"
   },
   {
    "duration": 10,
    "start_time": "2023-05-14T22:06:52.708Z"
   },
   {
    "duration": 20,
    "start_time": "2023-05-14T22:06:52.719Z"
   },
   {
    "duration": 17,
    "start_time": "2023-05-14T22:06:52.741Z"
   },
   {
    "duration": 20,
    "start_time": "2023-05-14T22:06:52.759Z"
   },
   {
    "duration": 1073,
    "start_time": "2023-05-14T22:06:52.781Z"
   },
   {
    "duration": 190,
    "start_time": "2023-05-14T22:06:53.857Z"
   },
   {
    "duration": 9,
    "start_time": "2023-05-14T22:06:54.049Z"
   },
   {
    "duration": 12,
    "start_time": "2023-05-14T22:06:54.060Z"
   },
   {
    "duration": 214,
    "start_time": "2023-05-14T22:06:54.074Z"
   },
   {
    "duration": 325,
    "start_time": "2023-05-14T22:06:54.290Z"
   },
   {
    "duration": 4,
    "start_time": "2023-05-14T22:06:54.617Z"
   },
   {
    "duration": 18,
    "start_time": "2023-05-14T22:06:54.623Z"
   },
   {
    "duration": 12,
    "start_time": "2023-05-14T22:06:54.643Z"
   },
   {
    "duration": 222,
    "start_time": "2023-05-14T22:06:54.657Z"
   },
   {
    "duration": 130,
    "start_time": "2023-05-14T22:06:54.881Z"
   },
   {
    "duration": 0,
    "start_time": "2023-05-14T22:06:55.012Z"
   },
   {
    "duration": 0,
    "start_time": "2023-05-14T22:06:55.014Z"
   },
   {
    "duration": 0,
    "start_time": "2023-05-14T22:06:55.015Z"
   },
   {
    "duration": 0,
    "start_time": "2023-05-14T22:06:55.016Z"
   },
   {
    "duration": 2308,
    "start_time": "2023-05-14T22:07:16.496Z"
   },
   {
    "duration": 55,
    "start_time": "2023-05-14T22:07:18.806Z"
   },
   {
    "duration": 6,
    "start_time": "2023-05-14T22:07:18.863Z"
   },
   {
    "duration": 15,
    "start_time": "2023-05-14T22:07:18.871Z"
   },
   {
    "duration": 3,
    "start_time": "2023-05-14T22:07:18.887Z"
   },
   {
    "duration": 4,
    "start_time": "2023-05-14T22:07:18.892Z"
   },
   {
    "duration": 4,
    "start_time": "2023-05-14T22:07:18.897Z"
   },
   {
    "duration": 5,
    "start_time": "2023-05-14T22:07:18.903Z"
   },
   {
    "duration": 1052,
    "start_time": "2023-05-14T22:07:18.910Z"
   },
   {
    "duration": 200,
    "start_time": "2023-05-14T22:07:19.966Z"
   },
   {
    "duration": 9,
    "start_time": "2023-05-14T22:07:20.168Z"
   },
   {
    "duration": 10,
    "start_time": "2023-05-14T22:07:20.190Z"
   },
   {
    "duration": 244,
    "start_time": "2023-05-14T22:07:20.202Z"
   },
   {
    "duration": 319,
    "start_time": "2023-05-14T22:07:20.448Z"
   },
   {
    "duration": 4,
    "start_time": "2023-05-14T22:07:20.769Z"
   },
   {
    "duration": 23,
    "start_time": "2023-05-14T22:07:20.775Z"
   },
   {
    "duration": 15,
    "start_time": "2023-05-14T22:07:20.800Z"
   },
   {
    "duration": 220,
    "start_time": "2023-05-14T22:07:20.817Z"
   },
   {
    "duration": 3,
    "start_time": "2023-05-14T22:07:21.039Z"
   },
   {
    "duration": 83050,
    "start_time": "2023-05-14T22:07:21.043Z"
   },
   {
    "duration": 14,
    "start_time": "2023-05-14T22:08:44.094Z"
   },
   {
    "duration": 85,
    "start_time": "2023-05-14T22:08:44.109Z"
   },
   {
    "duration": 25,
    "start_time": "2023-05-14T22:08:44.196Z"
   },
   {
    "duration": 1240,
    "start_time": "2023-05-14T22:09:46.696Z"
   },
   {
    "duration": 57,
    "start_time": "2023-05-14T22:09:47.938Z"
   },
   {
    "duration": 6,
    "start_time": "2023-05-14T22:09:47.997Z"
   },
   {
    "duration": 17,
    "start_time": "2023-05-14T22:09:48.005Z"
   },
   {
    "duration": 12,
    "start_time": "2023-05-14T22:09:48.024Z"
   },
   {
    "duration": 5,
    "start_time": "2023-05-14T22:09:48.038Z"
   },
   {
    "duration": 4,
    "start_time": "2023-05-14T22:09:48.045Z"
   },
   {
    "duration": 11,
    "start_time": "2023-05-14T22:09:48.051Z"
   },
   {
    "duration": 1094,
    "start_time": "2023-05-14T22:09:48.064Z"
   },
   {
    "duration": 195,
    "start_time": "2023-05-14T22:09:49.161Z"
   },
   {
    "duration": 8,
    "start_time": "2023-05-14T22:09:49.358Z"
   },
   {
    "duration": 23,
    "start_time": "2023-05-14T22:09:49.368Z"
   },
   {
    "duration": 198,
    "start_time": "2023-05-14T22:09:49.392Z"
   },
   {
    "duration": 324,
    "start_time": "2023-05-14T22:09:49.592Z"
   },
   {
    "duration": 5,
    "start_time": "2023-05-14T22:09:49.918Z"
   },
   {
    "duration": 18,
    "start_time": "2023-05-14T22:09:49.925Z"
   },
   {
    "duration": 13,
    "start_time": "2023-05-14T22:09:49.945Z"
   },
   {
    "duration": 220,
    "start_time": "2023-05-14T22:09:49.959Z"
   },
   {
    "duration": 7,
    "start_time": "2023-05-14T22:09:50.181Z"
   },
   {
    "duration": 83202,
    "start_time": "2023-05-14T22:09:50.190Z"
   },
   {
    "duration": 14,
    "start_time": "2023-05-14T22:11:13.395Z"
   },
   {
    "duration": 96,
    "start_time": "2023-05-14T22:11:13.411Z"
   },
   {
    "duration": 25,
    "start_time": "2023-05-14T22:11:13.509Z"
   },
   {
    "duration": 9,
    "start_time": "2023-05-14T22:11:13.536Z"
   },
   {
    "duration": 10,
    "start_time": "2023-05-14T22:11:13.547Z"
   },
   {
    "duration": 1952,
    "start_time": "2023-05-14T22:11:13.589Z"
   },
   {
    "duration": 110225,
    "start_time": "2023-05-14T22:11:15.543Z"
   },
   {
    "duration": 3,
    "start_time": "2023-05-14T22:13:05.771Z"
   },
   {
    "duration": 739949,
    "start_time": "2023-05-14T22:13:05.788Z"
   },
   {
    "duration": 3,
    "start_time": "2023-05-14T22:25:25.738Z"
   },
   {
    "duration": 1214,
    "start_time": "2023-05-14T22:28:25.388Z"
   },
   {
    "duration": 55,
    "start_time": "2023-05-14T22:28:26.604Z"
   },
   {
    "duration": 6,
    "start_time": "2023-05-14T22:28:26.660Z"
   },
   {
    "duration": 23,
    "start_time": "2023-05-14T22:28:26.668Z"
   },
   {
    "duration": 3,
    "start_time": "2023-05-14T22:28:26.692Z"
   },
   {
    "duration": 7,
    "start_time": "2023-05-14T22:28:26.696Z"
   },
   {
    "duration": 9,
    "start_time": "2023-05-14T22:28:26.704Z"
   },
   {
    "duration": 20,
    "start_time": "2023-05-14T22:28:26.715Z"
   },
   {
    "duration": 1066,
    "start_time": "2023-05-14T22:28:26.737Z"
   },
   {
    "duration": 190,
    "start_time": "2023-05-14T22:28:27.806Z"
   },
   {
    "duration": 8,
    "start_time": "2023-05-14T22:28:27.998Z"
   },
   {
    "duration": 7,
    "start_time": "2023-05-14T22:28:28.008Z"
   },
   {
    "duration": 200,
    "start_time": "2023-05-14T22:28:28.017Z"
   },
   {
    "duration": 329,
    "start_time": "2023-05-14T22:28:28.219Z"
   },
   {
    "duration": 4,
    "start_time": "2023-05-14T22:28:28.550Z"
   },
   {
    "duration": 18,
    "start_time": "2023-05-14T22:28:28.557Z"
   },
   {
    "duration": 22,
    "start_time": "2023-05-14T22:28:28.577Z"
   },
   {
    "duration": 224,
    "start_time": "2023-05-14T22:28:28.602Z"
   },
   {
    "duration": 3,
    "start_time": "2023-05-14T22:28:28.828Z"
   },
   {
    "duration": 268761,
    "start_time": "2023-05-14T22:28:28.833Z"
   },
   {
    "duration": 195,
    "start_time": "2023-05-14T22:32:57.595Z"
   },
   {
    "duration": 26,
    "start_time": "2023-05-14T22:32:57.792Z"
   },
   {
    "duration": 24,
    "start_time": "2023-05-14T22:32:57.820Z"
   },
   {
    "duration": 8,
    "start_time": "2023-05-14T22:32:57.846Z"
   },
   {
    "duration": 36,
    "start_time": "2023-05-14T22:32:57.856Z"
   },
   {
    "duration": 1949,
    "start_time": "2023-05-14T22:32:57.894Z"
   },
   {
    "duration": 109629,
    "start_time": "2023-05-14T22:32:59.845Z"
   },
   {
    "duration": 11,
    "start_time": "2023-05-14T22:34:49.477Z"
   },
   {
    "duration": 1194,
    "start_time": "2023-05-15T07:06:41.578Z"
   },
   {
    "duration": 156,
    "start_time": "2023-05-15T07:06:42.774Z"
   },
   {
    "duration": 6,
    "start_time": "2023-05-15T07:06:42.932Z"
   },
   {
    "duration": 27,
    "start_time": "2023-05-15T07:06:42.942Z"
   },
   {
    "duration": 2,
    "start_time": "2023-05-15T07:06:42.971Z"
   },
   {
    "duration": 8,
    "start_time": "2023-05-15T07:06:42.975Z"
   },
   {
    "duration": 22,
    "start_time": "2023-05-15T07:06:42.985Z"
   },
   {
    "duration": 11,
    "start_time": "2023-05-15T07:06:43.009Z"
   },
   {
    "duration": 1223,
    "start_time": "2023-05-15T07:06:43.021Z"
   },
   {
    "duration": 183,
    "start_time": "2023-05-15T07:06:44.246Z"
   },
   {
    "duration": 8,
    "start_time": "2023-05-15T07:06:44.431Z"
   },
   {
    "duration": 25,
    "start_time": "2023-05-15T07:06:44.440Z"
   },
   {
    "duration": 165,
    "start_time": "2023-05-15T07:06:44.467Z"
   },
   {
    "duration": 298,
    "start_time": "2023-05-15T07:06:44.633Z"
   },
   {
    "duration": 5,
    "start_time": "2023-05-15T07:06:44.933Z"
   },
   {
    "duration": 21,
    "start_time": "2023-05-15T07:06:44.940Z"
   },
   {
    "duration": 11,
    "start_time": "2023-05-15T07:06:44.963Z"
   },
   {
    "duration": 190,
    "start_time": "2023-05-15T07:06:44.976Z"
   },
   {
    "duration": 3,
    "start_time": "2023-05-15T07:06:45.167Z"
   },
   {
    "duration": 264188,
    "start_time": "2023-05-15T07:06:45.172Z"
   },
   {
    "duration": 12,
    "start_time": "2023-05-15T07:11:09.363Z"
   },
   {
    "duration": 26,
    "start_time": "2023-05-15T07:11:09.377Z"
   },
   {
    "duration": 24,
    "start_time": "2023-05-15T07:11:09.458Z"
   },
   {
    "duration": 9,
    "start_time": "2023-05-15T07:11:09.484Z"
   },
   {
    "duration": 6,
    "start_time": "2023-05-15T07:11:09.495Z"
   },
   {
    "duration": 1725,
    "start_time": "2023-05-15T07:11:09.503Z"
   },
   {
    "duration": 98262,
    "start_time": "2023-05-15T07:11:11.229Z"
   },
   {
    "duration": 3,
    "start_time": "2023-05-15T07:12:49.494Z"
   },
   {
    "duration": 8322712,
    "start_time": "2023-05-15T07:12:49.499Z"
   },
   {
    "duration": 2,
    "start_time": "2023-05-15T09:31:32.212Z"
   },
   {
    "duration": 1186,
    "start_time": "2023-05-16T08:59:05.899Z"
   },
   {
    "duration": 121,
    "start_time": "2023-05-16T08:59:07.086Z"
   },
   {
    "duration": 4,
    "start_time": "2023-05-16T08:59:07.209Z"
   },
   {
    "duration": 16,
    "start_time": "2023-05-16T08:59:07.215Z"
   },
   {
    "duration": 3,
    "start_time": "2023-05-16T08:59:07.233Z"
   },
   {
    "duration": 8,
    "start_time": "2023-05-16T08:59:07.238Z"
   },
   {
    "duration": 28,
    "start_time": "2023-05-16T08:59:07.247Z"
   },
   {
    "duration": 8,
    "start_time": "2023-05-16T08:59:07.277Z"
   },
   {
    "duration": 1024,
    "start_time": "2023-05-16T08:59:07.287Z"
   },
   {
    "duration": 157,
    "start_time": "2023-05-16T08:59:08.316Z"
   },
   {
    "duration": 7,
    "start_time": "2023-05-16T08:59:08.475Z"
   },
   {
    "duration": 26,
    "start_time": "2023-05-16T08:59:08.483Z"
   },
   {
    "duration": 157,
    "start_time": "2023-05-16T08:59:08.511Z"
   },
   {
    "duration": 260,
    "start_time": "2023-05-16T08:59:08.670Z"
   },
   {
    "duration": 4,
    "start_time": "2023-05-16T08:59:08.932Z"
   },
   {
    "duration": 21,
    "start_time": "2023-05-16T08:59:08.937Z"
   },
   {
    "duration": 12,
    "start_time": "2023-05-16T08:59:08.960Z"
   },
   {
    "duration": 192,
    "start_time": "2023-05-16T08:59:08.973Z"
   },
   {
    "duration": 3,
    "start_time": "2023-05-16T08:59:09.166Z"
   },
   {
    "duration": 310249,
    "start_time": "2023-05-16T08:59:09.170Z"
   },
   {
    "duration": 10,
    "start_time": "2023-05-16T09:04:19.421Z"
   },
   {
    "duration": 30,
    "start_time": "2023-05-16T09:04:19.432Z"
   },
   {
    "duration": 71,
    "start_time": "2023-05-16T09:04:19.464Z"
   },
   {
    "duration": 8,
    "start_time": "2023-05-16T09:04:19.536Z"
   },
   {
    "duration": 8,
    "start_time": "2023-05-16T09:04:19.546Z"
   },
   {
    "duration": 3377,
    "start_time": "2023-05-16T09:04:19.556Z"
   },
   {
    "duration": 515,
    "start_time": "2023-05-16T09:04:22.935Z"
   },
   {
    "duration": 2,
    "start_time": "2023-05-16T09:04:23.454Z"
   },
   {
    "duration": 1189,
    "start_time": "2023-05-16T09:46:17.199Z"
   },
   {
    "duration": 63,
    "start_time": "2023-05-16T09:46:18.390Z"
   },
   {
    "duration": 5,
    "start_time": "2023-05-16T09:46:18.455Z"
   },
   {
    "duration": 19,
    "start_time": "2023-05-16T09:46:18.461Z"
   },
   {
    "duration": 30,
    "start_time": "2023-05-16T09:46:18.482Z"
   },
   {
    "duration": 26,
    "start_time": "2023-05-16T09:46:18.514Z"
   },
   {
    "duration": 861,
    "start_time": "2023-05-16T09:46:18.542Z"
   },
   {
    "duration": 173,
    "start_time": "2023-05-16T09:46:19.405Z"
   },
   {
    "duration": 3,
    "start_time": "2023-05-16T09:46:19.580Z"
   },
   {
    "duration": 23,
    "start_time": "2023-05-16T09:46:19.585Z"
   },
   {
    "duration": 40,
    "start_time": "2023-05-16T09:46:19.609Z"
   },
   {
    "duration": 181,
    "start_time": "2023-05-16T09:46:19.650Z"
   },
   {
    "duration": 4,
    "start_time": "2023-05-16T09:46:19.832Z"
   },
   {
    "duration": 29,
    "start_time": "2023-05-16T09:46:19.837Z"
   },
   {
    "duration": 29,
    "start_time": "2023-05-16T09:46:19.868Z"
   },
   {
    "duration": 15,
    "start_time": "2023-05-16T09:46:19.898Z"
   },
   {
    "duration": 219,
    "start_time": "2023-05-16T09:46:19.915Z"
   },
   {
    "duration": 3,
    "start_time": "2023-05-16T09:46:20.136Z"
   },
   {
    "duration": 323333,
    "start_time": "2023-05-16T09:46:20.140Z"
   },
   {
    "duration": 7,
    "start_time": "2023-05-16T09:51:43.474Z"
   },
   {
    "duration": 35,
    "start_time": "2023-05-16T09:51:43.482Z"
   },
   {
    "duration": 19,
    "start_time": "2023-05-16T09:51:43.520Z"
   },
   {
    "duration": 9,
    "start_time": "2023-05-16T09:51:43.541Z"
   },
   {
    "duration": 7,
    "start_time": "2023-05-16T09:51:43.551Z"
   },
   {
    "duration": 1124,
    "start_time": "2023-05-16T09:51:49.138Z"
   },
   {
    "duration": 57,
    "start_time": "2023-05-16T09:51:50.264Z"
   },
   {
    "duration": 5,
    "start_time": "2023-05-16T09:51:50.323Z"
   },
   {
    "duration": 31,
    "start_time": "2023-05-16T09:51:50.329Z"
   },
   {
    "duration": 18,
    "start_time": "2023-05-16T09:51:50.363Z"
   },
   {
    "duration": 5,
    "start_time": "2023-05-16T09:51:50.383Z"
   },
   {
    "duration": 895,
    "start_time": "2023-05-16T09:51:50.390Z"
   },
   {
    "duration": 168,
    "start_time": "2023-05-16T09:51:51.287Z"
   },
   {
    "duration": 3,
    "start_time": "2023-05-16T09:51:51.456Z"
   },
   {
    "duration": 12,
    "start_time": "2023-05-16T09:51:51.460Z"
   },
   {
    "duration": 16,
    "start_time": "2023-05-16T09:51:51.474Z"
   },
   {
    "duration": 169,
    "start_time": "2023-05-16T09:51:51.492Z"
   },
   {
    "duration": 4,
    "start_time": "2023-05-16T09:51:51.663Z"
   },
   {
    "duration": 23,
    "start_time": "2023-05-16T09:51:51.670Z"
   },
   {
    "duration": 24,
    "start_time": "2023-05-16T09:51:51.694Z"
   },
   {
    "duration": 32,
    "start_time": "2023-05-16T09:51:51.719Z"
   },
   {
    "duration": 196,
    "start_time": "2023-05-16T09:51:51.753Z"
   },
   {
    "duration": 3,
    "start_time": "2023-05-16T09:51:51.951Z"
   },
   {
    "duration": 6045,
    "start_time": "2023-05-16T09:51:51.956Z"
   },
   {
    "duration": 6,
    "start_time": "2023-05-16T09:51:58.003Z"
   },
   {
    "duration": 17,
    "start_time": "2023-05-16T09:51:58.011Z"
   },
   {
    "duration": 19,
    "start_time": "2023-05-16T09:51:58.030Z"
   },
   {
    "duration": 24,
    "start_time": "2023-05-16T09:51:58.050Z"
   },
   {
    "duration": 17,
    "start_time": "2023-05-16T09:51:58.075Z"
   },
   {
    "duration": 465,
    "start_time": "2023-05-16T09:51:58.093Z"
   },
   {
    "duration": 23559,
    "start_time": "2023-05-16T09:51:58.560Z"
   },
   {
    "duration": 3,
    "start_time": "2023-05-16T09:52:22.121Z"
   },
   {
    "duration": 1310,
    "start_time": "2023-05-16T09:52:32.981Z"
   },
   {
    "duration": 55,
    "start_time": "2023-05-16T09:52:34.292Z"
   },
   {
    "duration": 5,
    "start_time": "2023-05-16T09:52:34.348Z"
   },
   {
    "duration": 12,
    "start_time": "2023-05-16T09:52:34.355Z"
   },
   {
    "duration": 6,
    "start_time": "2023-05-16T09:52:34.369Z"
   },
   {
    "duration": 11,
    "start_time": "2023-05-16T09:52:34.377Z"
   },
   {
    "duration": 912,
    "start_time": "2023-05-16T09:52:34.390Z"
   },
   {
    "duration": 159,
    "start_time": "2023-05-16T09:52:35.303Z"
   },
   {
    "duration": 3,
    "start_time": "2023-05-16T09:52:35.463Z"
   },
   {
    "duration": 24,
    "start_time": "2023-05-16T09:52:35.469Z"
   },
   {
    "duration": 8,
    "start_time": "2023-05-16T09:52:35.495Z"
   },
   {
    "duration": 154,
    "start_time": "2023-05-16T09:52:35.505Z"
   },
   {
    "duration": 4,
    "start_time": "2023-05-16T09:52:35.660Z"
   },
   {
    "duration": 5,
    "start_time": "2023-05-16T09:52:35.665Z"
   },
   {
    "duration": 14,
    "start_time": "2023-05-16T09:52:35.671Z"
   },
   {
    "duration": 12,
    "start_time": "2023-05-16T09:52:35.686Z"
   },
   {
    "duration": 180,
    "start_time": "2023-05-16T09:52:35.699Z"
   },
   {
    "duration": 2,
    "start_time": "2023-05-16T09:52:35.881Z"
   },
   {
    "duration": 346842,
    "start_time": "2023-05-16T09:52:35.884Z"
   },
   {
    "duration": 97,
    "start_time": "2023-05-16T09:58:22.727Z"
   },
   {
    "duration": 106,
    "start_time": "2023-05-16T09:58:22.826Z"
   },
   {
    "duration": 19,
    "start_time": "2023-05-16T09:58:22.934Z"
   },
   {
    "duration": 7,
    "start_time": "2023-05-16T09:58:22.954Z"
   },
   {
    "duration": 4,
    "start_time": "2023-05-16T09:58:22.963Z"
   },
   {
    "duration": 3468,
    "start_time": "2023-05-16T09:58:22.969Z"
   },
   {
    "duration": 214115,
    "start_time": "2023-05-16T09:58:26.438Z"
   },
   {
    "duration": 3,
    "start_time": "2023-05-16T10:02:00.555Z"
   },
   {
    "duration": 12009865,
    "start_time": "2023-05-16T10:02:00.562Z"
   },
   {
    "duration": 2,
    "start_time": "2023-05-16T13:22:10.429Z"
   },
   {
    "duration": 228,
    "start_time": "2023-05-16T14:00:11.158Z"
   },
   {
    "duration": 160344,
    "start_time": "2023-05-16T14:00:24.300Z"
   },
   {
    "duration": 230986,
    "start_time": "2023-05-16T14:03:09.399Z"
   },
   {
    "duration": 73,
    "start_time": "2023-05-16T14:07:00.387Z"
   },
   {
    "duration": 176,
    "start_time": "2023-05-16T14:07:00.462Z"
   },
   {
    "duration": 140,
    "start_time": "2023-05-16T14:07:00.640Z"
   },
   {
    "duration": 163,
    "start_time": "2023-05-16T14:08:30.003Z"
   },
   {
    "duration": 2092,
    "start_time": "2023-05-16T14:08:30.168Z"
   },
   {
    "duration": 64,
    "start_time": "2023-05-16T14:08:32.262Z"
   },
   {
    "duration": 139,
    "start_time": "2023-05-16T15:07:31.558Z"
   },
   {
    "duration": 3,
    "start_time": "2023-05-16T15:07:36.982Z"
   },
   {
    "duration": 312,
    "start_time": "2023-05-16T15:07:46.090Z"
   },
   {
    "duration": 9,
    "start_time": "2023-05-16T15:08:06.582Z"
   },
   {
    "duration": 3,
    "start_time": "2023-05-16T15:08:21.692Z"
   },
   {
    "duration": 282,
    "start_time": "2023-05-16T15:08:31.995Z"
   },
   {
    "duration": 5,
    "start_time": "2023-05-16T15:08:34.648Z"
   },
   {
    "duration": 6128,
    "start_time": "2023-05-16T15:09:10.037Z"
   },
   {
    "duration": 6402,
    "start_time": "2023-05-16T15:09:55.858Z"
   },
   {
    "duration": 6343,
    "start_time": "2023-05-16T15:10:49.244Z"
   },
   {
    "duration": 84,
    "start_time": "2023-05-16T15:16:07.710Z"
   },
   {
    "duration": 64329,
    "start_time": "2023-05-16T15:16:14.902Z"
   },
   {
    "duration": 60957,
    "start_time": "2023-05-16T15:19:28.398Z"
   },
   {
    "duration": 61798,
    "start_time": "2023-05-16T15:22:48.044Z"
   },
   {
    "duration": 129,
    "start_time": "2023-05-16T15:24:44.080Z"
   },
   {
    "duration": 125,
    "start_time": "2023-05-16T15:24:52.382Z"
   },
   {
    "duration": 1799233,
    "start_time": "2023-05-16T15:25:28.048Z"
   },
   {
    "duration": 18258,
    "start_time": "2023-05-16T16:06:37.376Z"
   },
   {
    "duration": 958057,
    "start_time": "2023-05-16T16:10:35.618Z"
   },
   {
    "duration": 5,
    "start_time": "2023-05-16T16:27:01.447Z"
   },
   {
    "duration": 8,
    "start_time": "2023-05-16T16:32:43.770Z"
   },
   {
    "duration": 4,
    "start_time": "2023-05-16T16:32:53.646Z"
   },
   {
    "duration": 6,
    "start_time": "2023-05-16T16:34:01.389Z"
   },
   {
    "duration": 8,
    "start_time": "2023-05-16T16:35:38.977Z"
   },
   {
    "duration": 12400,
    "start_time": "2023-05-16T16:37:23.718Z"
   },
   {
    "duration": 4,
    "start_time": "2023-05-16T16:37:58.717Z"
   },
   {
    "duration": 12691,
    "start_time": "2023-05-16T16:41:21.293Z"
   },
   {
    "duration": 950112,
    "start_time": "2023-05-16T16:53:06.792Z"
   },
   {
    "duration": 977996,
    "start_time": "2023-05-16T17:09:29.855Z"
   },
   {
    "duration": 6,
    "start_time": "2023-05-16T17:35:52.454Z"
   },
   {
    "duration": 3,
    "start_time": "2023-05-16T17:36:15.714Z"
   },
   {
    "duration": 920375,
    "start_time": "2023-05-16T17:37:10.522Z"
   },
   {
    "duration": 2146,
    "start_time": "2023-05-16T19:07:59.201Z"
   },
   {
    "duration": 144,
    "start_time": "2023-05-16T19:10:08.313Z"
   },
   {
    "duration": 96,
    "start_time": "2023-05-16T19:10:18.691Z"
   },
   {
    "duration": 28,
    "start_time": "2023-05-16T19:10:32.693Z"
   },
   {
    "duration": 54,
    "start_time": "2023-05-16T22:18:03.203Z"
   },
   {
    "duration": 1261,
    "start_time": "2023-05-16T22:18:17.168Z"
   },
   {
    "duration": 160,
    "start_time": "2023-05-16T22:18:18.432Z"
   },
   {
    "duration": 6,
    "start_time": "2023-05-16T22:18:18.594Z"
   },
   {
    "duration": 13,
    "start_time": "2023-05-16T22:18:18.602Z"
   },
   {
    "duration": 5,
    "start_time": "2023-05-16T22:18:18.617Z"
   },
   {
    "duration": 1277,
    "start_time": "2023-05-16T22:18:18.624Z"
   },
   {
    "duration": 206,
    "start_time": "2023-05-16T22:18:19.903Z"
   },
   {
    "duration": 3,
    "start_time": "2023-05-16T22:18:20.111Z"
   },
   {
    "duration": 10,
    "start_time": "2023-05-16T22:18:20.116Z"
   },
   {
    "duration": 8,
    "start_time": "2023-05-16T22:18:20.128Z"
   },
   {
    "duration": 261,
    "start_time": "2023-05-16T22:18:20.139Z"
   },
   {
    "duration": 5,
    "start_time": "2023-05-16T22:18:20.403Z"
   },
   {
    "duration": 9,
    "start_time": "2023-05-16T22:18:20.410Z"
   },
   {
    "duration": 27,
    "start_time": "2023-05-16T22:18:20.420Z"
   },
   {
    "duration": 16,
    "start_time": "2023-05-16T22:18:20.449Z"
   },
   {
    "duration": 379,
    "start_time": "2023-05-16T22:18:23.745Z"
   },
   {
    "duration": 246,
    "start_time": "2023-05-16T22:18:39.354Z"
   },
   {
    "duration": 245,
    "start_time": "2023-05-16T22:19:55.664Z"
   },
   {
    "duration": 4,
    "start_time": "2023-05-16T22:20:43.238Z"
   },
   {
    "duration": 247,
    "start_time": "2023-05-16T22:20:49.504Z"
   },
   {
    "duration": 5,
    "start_time": "2023-05-16T22:21:47.433Z"
   },
   {
    "duration": 225,
    "start_time": "2023-05-16T22:21:53.184Z"
   },
   {
    "duration": 80,
    "start_time": "2023-05-16T22:22:00.162Z"
   },
   {
    "duration": 249,
    "start_time": "2023-05-16T22:22:04.258Z"
   },
   {
    "duration": 73,
    "start_time": "2023-05-16T22:22:15.160Z"
   },
   {
    "duration": 854,
    "start_time": "2023-05-16T22:22:18.974Z"
   },
   {
    "duration": 738,
    "start_time": "2023-05-16T22:22:34.322Z"
   },
   {
    "duration": 259,
    "start_time": "2023-05-16T22:22:42.276Z"
   },
   {
    "duration": 10,
    "start_time": "2023-05-16T22:29:24.333Z"
   },
   {
    "duration": 28,
    "start_time": "2023-05-16T22:29:30.990Z"
   },
   {
    "duration": 116,
    "start_time": "2023-05-16T22:29:50.501Z"
   },
   {
    "duration": 164,
    "start_time": "2023-05-16T22:29:53.743Z"
   },
   {
    "duration": 271,
    "start_time": "2023-05-16T22:29:58.359Z"
   },
   {
    "duration": 224,
    "start_time": "2023-05-16T22:30:12.200Z"
   },
   {
    "duration": 232,
    "start_time": "2023-05-16T22:30:16.060Z"
   },
   {
    "duration": 8,
    "start_time": "2023-05-16T22:30:59.566Z"
   },
   {
    "duration": 328,
    "start_time": "2023-05-16T22:31:02.711Z"
   },
   {
    "duration": 309,
    "start_time": "2023-05-16T22:31:55.287Z"
   },
   {
    "duration": 264,
    "start_time": "2023-05-16T22:32:50.669Z"
   },
   {
    "duration": 318,
    "start_time": "2023-05-16T22:32:53.071Z"
   },
   {
    "duration": 208,
    "start_time": "2023-05-16T22:33:29.283Z"
   },
   {
    "duration": 390,
    "start_time": "2023-05-16T22:34:01.077Z"
   },
   {
    "duration": 408,
    "start_time": "2023-05-16T22:34:32.133Z"
   },
   {
    "duration": 239,
    "start_time": "2023-05-16T22:34:37.422Z"
   },
   {
    "duration": 200,
    "start_time": "2023-05-16T22:35:48.370Z"
   },
   {
    "duration": 1535,
    "start_time": "2023-05-16T22:52:14.723Z"
   },
   {
    "duration": 57,
    "start_time": "2023-05-16T22:52:16.260Z"
   },
   {
    "duration": 6,
    "start_time": "2023-05-16T22:52:16.319Z"
   },
   {
    "duration": 12,
    "start_time": "2023-05-16T22:52:16.327Z"
   },
   {
    "duration": 4,
    "start_time": "2023-05-16T22:52:16.340Z"
   },
   {
    "duration": 863,
    "start_time": "2023-05-16T22:52:16.346Z"
   },
   {
    "duration": 262,
    "start_time": "2023-05-16T22:52:17.210Z"
   },
   {
    "duration": 4,
    "start_time": "2023-05-16T22:52:17.474Z"
   },
   {
    "duration": 11,
    "start_time": "2023-05-16T22:52:17.479Z"
   },
   {
    "duration": 9,
    "start_time": "2023-05-16T22:52:17.493Z"
   },
   {
    "duration": 232,
    "start_time": "2023-05-16T22:52:17.503Z"
   },
   {
    "duration": 5,
    "start_time": "2023-05-16T22:52:17.737Z"
   },
   {
    "duration": 5,
    "start_time": "2023-05-16T22:52:17.744Z"
   },
   {
    "duration": 11,
    "start_time": "2023-05-16T22:52:17.751Z"
   },
   {
    "duration": 31,
    "start_time": "2023-05-16T22:52:17.763Z"
   },
   {
    "duration": 262,
    "start_time": "2023-05-16T22:52:17.796Z"
   },
   {
    "duration": 10,
    "start_time": "2023-05-16T22:52:18.060Z"
   },
   {
    "duration": 279,
    "start_time": "2023-05-16T22:52:18.072Z"
   },
   {
    "duration": 213,
    "start_time": "2023-05-16T22:52:18.353Z"
   },
   {
    "duration": 3,
    "start_time": "2023-05-16T22:52:18.568Z"
   },
   {
    "duration": 380522,
    "start_time": "2023-05-16T22:52:18.573Z"
   },
   {
    "duration": 84,
    "start_time": "2023-05-16T22:58:39.108Z"
   },
   {
    "duration": 39,
    "start_time": "2023-05-16T22:58:39.194Z"
   },
   {
    "duration": 26,
    "start_time": "2023-05-16T22:58:39.235Z"
   },
   {
    "duration": 10,
    "start_time": "2023-05-16T22:58:39.289Z"
   },
   {
    "duration": 21,
    "start_time": "2023-05-16T22:58:39.301Z"
   },
   {
    "duration": 24495,
    "start_time": "2023-05-16T22:58:39.325Z"
   },
   {
    "duration": 5,
    "start_time": "2023-05-16T22:59:03.823Z"
   },
   {
    "duration": 370479,
    "start_time": "2023-05-16T22:59:03.830Z"
   },
   {
    "duration": 3,
    "start_time": "2023-05-16T23:05:14.311Z"
   },
   {
    "duration": 10,
    "start_time": "2023-05-16T23:05:14.316Z"
   },
   {
    "duration": 1550,
    "start_time": "2023-05-16T23:06:19.570Z"
   },
   {
    "duration": 58,
    "start_time": "2023-05-16T23:06:21.123Z"
   },
   {
    "duration": 6,
    "start_time": "2023-05-16T23:06:21.183Z"
   },
   {
    "duration": 21,
    "start_time": "2023-05-16T23:06:21.192Z"
   },
   {
    "duration": 5,
    "start_time": "2023-05-16T23:06:21.215Z"
   },
   {
    "duration": 861,
    "start_time": "2023-05-16T23:06:21.221Z"
   },
   {
    "duration": 249,
    "start_time": "2023-05-16T23:06:22.087Z"
   },
   {
    "duration": 3,
    "start_time": "2023-05-16T23:06:22.338Z"
   },
   {
    "duration": 10,
    "start_time": "2023-05-16T23:06:22.343Z"
   },
   {
    "duration": 8,
    "start_time": "2023-05-16T23:06:22.356Z"
   },
   {
    "duration": 228,
    "start_time": "2023-05-16T23:06:22.365Z"
   },
   {
    "duration": 4,
    "start_time": "2023-05-16T23:06:22.595Z"
   },
   {
    "duration": 13,
    "start_time": "2023-05-16T23:06:22.602Z"
   },
   {
    "duration": 16,
    "start_time": "2023-05-16T23:06:22.618Z"
   },
   {
    "duration": 14,
    "start_time": "2023-05-16T23:06:22.636Z"
   },
   {
    "duration": 296,
    "start_time": "2023-05-16T23:06:22.651Z"
   },
   {
    "duration": 8,
    "start_time": "2023-05-16T23:06:22.949Z"
   },
   {
    "duration": 284,
    "start_time": "2023-05-16T23:06:22.958Z"
   },
   {
    "duration": 210,
    "start_time": "2023-05-16T23:06:23.244Z"
   },
   {
    "duration": 1510,
    "start_time": "2023-05-16T23:06:40.924Z"
   },
   {
    "duration": 57,
    "start_time": "2023-05-16T23:06:42.436Z"
   },
   {
    "duration": 6,
    "start_time": "2023-05-16T23:06:42.494Z"
   },
   {
    "duration": 10,
    "start_time": "2023-05-16T23:06:42.503Z"
   },
   {
    "duration": 8,
    "start_time": "2023-05-16T23:06:42.515Z"
   },
   {
    "duration": 863,
    "start_time": "2023-05-16T23:06:42.525Z"
   },
   {
    "duration": 251,
    "start_time": "2023-05-16T23:06:43.389Z"
   },
   {
    "duration": 3,
    "start_time": "2023-05-16T23:06:43.642Z"
   },
   {
    "duration": 11,
    "start_time": "2023-05-16T23:06:43.647Z"
   },
   {
    "duration": 8,
    "start_time": "2023-05-16T23:06:43.661Z"
   },
   {
    "duration": 236,
    "start_time": "2023-05-16T23:06:43.670Z"
   },
   {
    "duration": 5,
    "start_time": "2023-05-16T23:06:43.907Z"
   },
   {
    "duration": 8,
    "start_time": "2023-05-16T23:06:43.913Z"
   },
   {
    "duration": 23,
    "start_time": "2023-05-16T23:06:43.923Z"
   },
   {
    "duration": 12,
    "start_time": "2023-05-16T23:06:43.948Z"
   },
   {
    "duration": 262,
    "start_time": "2023-05-16T23:06:43.961Z"
   },
   {
    "duration": 7,
    "start_time": "2023-05-16T23:06:44.225Z"
   },
   {
    "duration": 276,
    "start_time": "2023-05-16T23:06:44.234Z"
   },
   {
    "duration": 197,
    "start_time": "2023-05-16T23:06:44.511Z"
   },
   {
    "duration": 2,
    "start_time": "2023-05-16T23:06:44.710Z"
   },
   {
    "duration": 376681,
    "start_time": "2023-05-16T23:06:44.714Z"
   },
   {
    "duration": 92,
    "start_time": "2023-05-16T23:13:01.397Z"
   },
   {
    "duration": 60,
    "start_time": "2023-05-16T23:13:01.491Z"
   },
   {
    "duration": 22,
    "start_time": "2023-05-16T23:13:01.553Z"
   },
   {
    "duration": 27,
    "start_time": "2023-05-16T23:13:01.577Z"
   },
   {
    "duration": 12,
    "start_time": "2023-05-16T23:13:01.606Z"
   },
   {
    "duration": 24440,
    "start_time": "2023-05-16T23:13:01.620Z"
   },
   {
    "duration": 5217,
    "start_time": "2023-05-16T23:16:04.135Z"
   },
   {
    "duration": 58,
    "start_time": "2023-05-16T23:16:09.355Z"
   },
   {
    "duration": 7,
    "start_time": "2023-05-16T23:16:09.415Z"
   },
   {
    "duration": 13,
    "start_time": "2023-05-16T23:16:09.426Z"
   },
   {
    "duration": 5,
    "start_time": "2023-05-16T23:16:09.441Z"
   },
   {
    "duration": 927,
    "start_time": "2023-05-16T23:16:09.447Z"
   },
   {
    "duration": 264,
    "start_time": "2023-05-16T23:16:10.376Z"
   },
   {
    "duration": 3,
    "start_time": "2023-05-16T23:16:10.642Z"
   },
   {
    "duration": 11,
    "start_time": "2023-05-16T23:16:10.647Z"
   },
   {
    "duration": 8,
    "start_time": "2023-05-16T23:16:10.662Z"
   },
   {
    "duration": 256,
    "start_time": "2023-05-16T23:16:10.672Z"
   },
   {
    "duration": 5,
    "start_time": "2023-05-16T23:16:10.930Z"
   },
   {
    "duration": 13,
    "start_time": "2023-05-16T23:16:10.936Z"
   },
   {
    "duration": 13,
    "start_time": "2023-05-16T23:16:10.951Z"
   },
   {
    "duration": 30,
    "start_time": "2023-05-16T23:16:10.966Z"
   },
   {
    "duration": 291,
    "start_time": "2023-05-16T23:16:10.997Z"
   },
   {
    "duration": 9,
    "start_time": "2023-05-16T23:16:11.290Z"
   },
   {
    "duration": 288,
    "start_time": "2023-05-16T23:16:11.300Z"
   },
   {
    "duration": 224,
    "start_time": "2023-05-16T23:16:11.590Z"
   },
   {
    "duration": 3,
    "start_time": "2023-05-16T23:16:11.817Z"
   },
   {
    "duration": 354470,
    "start_time": "2023-05-16T23:16:11.822Z"
   },
   {
    "duration": 94,
    "start_time": "2023-05-16T23:22:06.294Z"
   },
   {
    "duration": 36,
    "start_time": "2023-05-16T23:22:06.390Z"
   },
   {
    "duration": 23,
    "start_time": "2023-05-16T23:22:06.427Z"
   },
   {
    "duration": 22,
    "start_time": "2023-05-16T23:22:06.452Z"
   },
   {
    "duration": 16,
    "start_time": "2023-05-16T23:22:06.476Z"
   },
   {
    "duration": 23894,
    "start_time": "2023-05-16T23:22:06.493Z"
   },
   {
    "duration": 3,
    "start_time": "2023-05-16T23:22:30.391Z"
   },
   {
    "duration": 3442910,
    "start_time": "2023-05-16T23:22:30.396Z"
   },
   {
    "duration": 3,
    "start_time": "2023-05-17T00:19:53.308Z"
   },
   {
    "duration": 5,
    "start_time": "2023-05-17T00:19:53.312Z"
   },
   {
    "duration": 1577,
    "start_time": "2023-05-17T07:15:01.385Z"
   },
   {
    "duration": 59,
    "start_time": "2023-05-17T07:15:02.964Z"
   },
   {
    "duration": 6,
    "start_time": "2023-05-17T07:15:03.024Z"
   },
   {
    "duration": 19,
    "start_time": "2023-05-17T07:15:03.032Z"
   },
   {
    "duration": 4,
    "start_time": "2023-05-17T07:15:03.053Z"
   },
   {
    "duration": 864,
    "start_time": "2023-05-17T07:15:03.059Z"
   },
   {
    "duration": 264,
    "start_time": "2023-05-17T07:15:03.925Z"
   },
   {
    "duration": 3,
    "start_time": "2023-05-17T07:15:04.190Z"
   },
   {
    "duration": 13,
    "start_time": "2023-05-17T07:15:04.195Z"
   },
   {
    "duration": 22,
    "start_time": "2023-05-17T07:15:04.211Z"
   },
   {
    "duration": 248,
    "start_time": "2023-05-17T07:15:04.234Z"
   },
   {
    "duration": 5,
    "start_time": "2023-05-17T07:15:04.488Z"
   },
   {
    "duration": 16,
    "start_time": "2023-05-17T07:15:04.494Z"
   },
   {
    "duration": 26,
    "start_time": "2023-05-17T07:15:04.512Z"
   },
   {
    "duration": 22,
    "start_time": "2023-05-17T07:15:04.540Z"
   },
   {
    "duration": 250,
    "start_time": "2023-05-17T07:15:04.564Z"
   },
   {
    "duration": 8,
    "start_time": "2023-05-17T07:15:04.816Z"
   },
   {
    "duration": 282,
    "start_time": "2023-05-17T07:15:04.826Z"
   },
   {
    "duration": 201,
    "start_time": "2023-05-17T07:15:05.110Z"
   },
   {
    "duration": 3,
    "start_time": "2023-05-17T07:15:05.314Z"
   },
   {
    "duration": 353072,
    "start_time": "2023-05-17T07:15:05.319Z"
   },
   {
    "duration": 9,
    "start_time": "2023-05-17T07:20:58.393Z"
   },
   {
    "duration": 112,
    "start_time": "2023-05-17T07:20:58.404Z"
   },
   {
    "duration": 23,
    "start_time": "2023-05-17T07:20:58.518Z"
   },
   {
    "duration": 9,
    "start_time": "2023-05-17T07:20:58.543Z"
   },
   {
    "duration": 5,
    "start_time": "2023-05-17T07:20:58.554Z"
   },
   {
    "duration": 23827,
    "start_time": "2023-05-17T07:20:58.561Z"
   },
   {
    "duration": 3,
    "start_time": "2023-05-17T07:21:22.391Z"
   },
   {
    "duration": 3235954,
    "start_time": "2023-05-17T07:21:22.395Z"
   },
   {
    "duration": 3,
    "start_time": "2023-05-17T08:15:18.351Z"
   },
   {
    "duration": 5,
    "start_time": "2023-05-17T08:15:18.355Z"
   },
   {
    "duration": 42244367,
    "start_time": "2023-05-17T08:15:18.362Z"
   },
   {
    "duration": 3,
    "start_time": "2023-05-17T19:59:22.731Z"
   },
   {
    "duration": 142,
    "start_time": "2023-05-17T19:59:22.736Z"
   },
   {
    "duration": 2199,
    "start_time": "2023-05-17T19:59:22.880Z"
   },
   {
    "duration": 15,
    "start_time": "2023-05-17T19:59:25.081Z"
   },
   {
    "duration": 19,
    "start_time": "2023-05-17T19:59:25.100Z"
   },
   {
    "duration": 3236934,
    "start_time": "2023-05-17T20:00:24.629Z"
   },
   {
    "duration": 106,
    "start_time": "2023-05-17T21:19:03.109Z"
   },
   {
    "duration": 2,
    "start_time": "2023-05-17T21:20:33.125Z"
   },
   {
    "duration": 5474,
    "start_time": "2023-05-17T21:20:39.305Z"
   },
   {
    "duration": 1926,
    "start_time": "2023-05-17T21:20:57.624Z"
   },
   {
    "duration": 2300,
    "start_time": "2023-05-17T21:21:16.517Z"
   },
   {
    "duration": 8,
    "start_time": "2023-05-17T22:51:30.612Z"
   },
   {
    "duration": 5575,
    "start_time": "2023-05-17T22:53:42.273Z"
   },
   {
    "duration": 4,
    "start_time": "2023-05-17T22:53:55.307Z"
   },
   {
    "duration": 162,
    "start_time": "2023-05-17T22:55:19.638Z"
   },
   {
    "duration": 32,
    "start_time": "2023-05-17T22:55:50.515Z"
   },
   {
    "duration": 259,
    "start_time": "2023-05-17T22:56:34.934Z"
   }
  ],
  "kernelspec": {
   "display_name": "Python 3 (ipykernel)",
   "language": "python",
   "name": "python3"
  },
  "language_info": {
   "codemirror_mode": {
    "name": "ipython",
    "version": 3
   },
   "file_extension": ".py",
   "mimetype": "text/x-python",
   "name": "python",
   "nbconvert_exporter": "python",
   "pygments_lexer": "ipython3",
   "version": "3.9.12"
  },
  "toc": {
   "base_numbering": 1,
   "nav_menu": {},
   "number_sections": true,
   "sideBar": true,
   "skip_h1_title": true,
   "title_cell": "Содержание",
   "title_sidebar": "Contents",
   "toc_cell": true,
   "toc_position": {
    "height": "calc(100% - 180px)",
    "left": "10px",
    "top": "150px",
    "width": "165px"
   },
   "toc_section_display": true,
   "toc_window_display": true
  }
 },
 "nbformat": 4,
 "nbformat_minor": 2
}
