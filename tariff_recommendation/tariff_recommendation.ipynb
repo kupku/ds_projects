{
 "cells": [
  {
   "cell_type": "markdown",
   "metadata": {},
   "source": [
    "<a id='start'></a>"
   ]
  },
  {
   "cell_type": "markdown",
   "metadata": {},
   "source": [
    "# Рекомендация тарифов"
   ]
  },
  {
   "cell_type": "markdown",
   "metadata": {},
   "source": [
    "Имеем дело с данными о поведении клиентов, которые перешли на новые тарифы сотового оператора. Нужно построить модель для задачи классификации, которая выберет подходящий тариф. Предобработка данных проведена ранее.\n",
    "\n",
    "Необходимо построить модель с максимально большим значением *accuracy* (>0.75). <br><br>"
   ]
  },
  {
   "cell_type": "markdown",
   "metadata": {},
   "source": [
    "**Цель исследования:**<br>\n",
    "Подготовить модель, которая будет способна определять какой из новых тарифов предложить пользователю; какой из новых тарифов ему больше подойдет."
   ]
  },
  {
   "cell_type": "markdown",
   "metadata": {},
   "source": [
    "**Задачи исследования:**\n",
    "1. [Изучить данные;](#step1)\n",
    "2. [Поделить данные на выборки: тренировочную, на которой модель будем обучать; валидационную, на основе которой будем подбирать гиперпараметры; тестовую, на которой будем проверять качество полученной модели;](#step2)\n",
    "3. [Исследовать модели - различные алгоритмы классификации; выбрать наилучшую путем варьирования гиперпараметров и определением метрики качества accuracy;](#step3)\n",
    "4. [Проверить качество выбранной модели на тестовой выборке. Критерий качества: accuracy не должно быть меньше 0.75;](#step4)\n",
    "5. [Проверить модель на адекватность;](#step5)\n",
    "6. [Сделать выводы.](#step6)"
   ]
  },
  {
   "cell_type": "markdown",
   "metadata": {},
   "source": [
    "## Изучение данных <a id='step1'></a>"
   ]
  },
  {
   "cell_type": "markdown",
   "metadata": {},
   "source": [
    "Импорт библиотек:"
   ]
  },
  {
   "cell_type": "code",
   "execution_count": 1,
   "metadata": {},
   "outputs": [],
   "source": [
    "import matplotlib.pyplot as plt\n",
    "import numpy as np\n",
    "import pandas as pd\n",
    "\n",
    "from sklearn import tree\n",
    "from sklearn.dummy import DummyClassifier\n",
    "from sklearn.ensemble import RandomForestClassifier\n",
    "from sklearn.linear_model import LogisticRegression\n",
    "from sklearn.metrics import accuracy_score\n",
    "from sklearn.model_selection import train_test_split\n",
    "from sklearn.tree import DecisionTreeClassifier\n",
    "\n",
    "from tqdm import tqdm"
   ]
  },
  {
   "cell_type": "markdown",
   "metadata": {},
   "source": [
    "Проверка данных:"
   ]
  },
  {
   "cell_type": "code",
   "execution_count": 2,
   "metadata": {
    "scrolled": false
   },
   "outputs": [
    {
     "data": {
      "text/html": [
       "<div>\n",
       "<style scoped>\n",
       "    .dataframe tbody tr th:only-of-type {\n",
       "        vertical-align: middle;\n",
       "    }\n",
       "\n",
       "    .dataframe tbody tr th {\n",
       "        vertical-align: top;\n",
       "    }\n",
       "\n",
       "    .dataframe thead th {\n",
       "        text-align: right;\n",
       "    }\n",
       "</style>\n",
       "<table border=\"1\" class=\"dataframe\">\n",
       "  <thead>\n",
       "    <tr style=\"text-align: right;\">\n",
       "      <th></th>\n",
       "      <th>calls</th>\n",
       "      <th>minutes</th>\n",
       "      <th>messages</th>\n",
       "      <th>mb_used</th>\n",
       "      <th>is_ultra</th>\n",
       "    </tr>\n",
       "  </thead>\n",
       "  <tbody>\n",
       "    <tr>\n",
       "      <th>0</th>\n",
       "      <td>40.0</td>\n",
       "      <td>311.90</td>\n",
       "      <td>83.0</td>\n",
       "      <td>19915.42</td>\n",
       "      <td>0</td>\n",
       "    </tr>\n",
       "    <tr>\n",
       "      <th>1</th>\n",
       "      <td>85.0</td>\n",
       "      <td>516.75</td>\n",
       "      <td>56.0</td>\n",
       "      <td>22696.96</td>\n",
       "      <td>0</td>\n",
       "    </tr>\n",
       "    <tr>\n",
       "      <th>2</th>\n",
       "      <td>77.0</td>\n",
       "      <td>467.66</td>\n",
       "      <td>86.0</td>\n",
       "      <td>21060.45</td>\n",
       "      <td>0</td>\n",
       "    </tr>\n",
       "    <tr>\n",
       "      <th>3</th>\n",
       "      <td>106.0</td>\n",
       "      <td>745.53</td>\n",
       "      <td>81.0</td>\n",
       "      <td>8437.39</td>\n",
       "      <td>1</td>\n",
       "    </tr>\n",
       "    <tr>\n",
       "      <th>4</th>\n",
       "      <td>66.0</td>\n",
       "      <td>418.74</td>\n",
       "      <td>1.0</td>\n",
       "      <td>14502.75</td>\n",
       "      <td>0</td>\n",
       "    </tr>\n",
       "  </tbody>\n",
       "</table>\n",
       "</div>"
      ],
      "text/plain": [
       "   calls  minutes  messages   mb_used  is_ultra\n",
       "0   40.0   311.90      83.0  19915.42         0\n",
       "1   85.0   516.75      56.0  22696.96         0\n",
       "2   77.0   467.66      86.0  21060.45         0\n",
       "3  106.0   745.53      81.0   8437.39         1\n",
       "4   66.0   418.74       1.0  14502.75         0"
      ]
     },
     "execution_count": 2,
     "metadata": {},
     "output_type": "execute_result"
    }
   ],
   "source": [
    "df = pd.read_csv('/datasets/users_behavior.csv')\n",
    "df.head()"
   ]
  },
  {
   "cell_type": "code",
   "execution_count": 3,
   "metadata": {
    "scrolled": true
   },
   "outputs": [
    {
     "name": "stdout",
     "output_type": "stream",
     "text": [
      "<class 'pandas.core.frame.DataFrame'>\n",
      "RangeIndex: 3214 entries, 0 to 3213\n",
      "Data columns (total 5 columns):\n",
      " #   Column    Non-Null Count  Dtype  \n",
      "---  ------    --------------  -----  \n",
      " 0   calls     3214 non-null   float64\n",
      " 1   minutes   3214 non-null   float64\n",
      " 2   messages  3214 non-null   float64\n",
      " 3   mb_used   3214 non-null   float64\n",
      " 4   is_ultra  3214 non-null   int64  \n",
      "dtypes: float64(4), int64(1)\n",
      "memory usage: 125.7 KB\n"
     ]
    }
   ],
   "source": [
    "df.info()"
   ]
  },
  {
   "cell_type": "markdown",
   "metadata": {},
   "source": [
    "Итак, признаки для обучения:<br>\n",
    "1. сalls — количество звонков;\n",
    "2. minutes — суммарная длительность звонков в минутах;\n",
    "3. messages — количество sms-сообщений;\n",
    "4. mb_used — израсходованный интернет-трафик в Мб."
   ]
  },
  {
   "cell_type": "markdown",
   "metadata": {},
   "source": [
    "Целевой признак: is_ultra — каким тарифом пользовался клиент в течение месяца («Ультра» — 1, «Смарт» — 0)."
   ]
  },
  {
   "cell_type": "markdown",
   "metadata": {},
   "source": [
    "Посмотрим на сбалансированность классов в столбце с целевым признаком \"is_ultra\""
   ]
  },
  {
   "cell_type": "code",
   "execution_count": 4,
   "metadata": {},
   "outputs": [
    {
     "data": {
      "text/plain": [
       "0    2229\n",
       "1     985\n",
       "Name: is_ultra, dtype: int64"
      ]
     },
     "execution_count": 4,
     "metadata": {},
     "output_type": "execute_result"
    }
   ],
   "source": [
    "df['is_ultra'].value_counts()"
   ]
  },
  {
   "cell_type": "code",
   "execution_count": 5,
   "metadata": {
    "scrolled": true
   },
   "outputs": [
    {
     "data": {
      "text/plain": [
       "2"
      ]
     },
     "execution_count": 5,
     "metadata": {},
     "output_type": "execute_result"
    }
   ],
   "source": [
    "len(df.loc[df['is_ultra']==0])//len(df.loc[df['is_ultra']==1])"
   ]
  },
  {
   "cell_type": "markdown",
   "metadata": {},
   "source": [
    "Клиентов с тарифом \"Смарт\" примерно в 2 раза больше, т.е. соотношение значений 0 и 1 в толбце примерно 1:2"
   ]
  },
  {
   "cell_type": "markdown",
   "metadata": {},
   "source": [
    "Посмотрим на корреляцию признаков в датасете"
   ]
  },
  {
   "cell_type": "code",
   "execution_count": 6,
   "metadata": {
    "scrolled": true
   },
   "outputs": [
    {
     "data": {
      "text/html": [
       "<div>\n",
       "<style scoped>\n",
       "    .dataframe tbody tr th:only-of-type {\n",
       "        vertical-align: middle;\n",
       "    }\n",
       "\n",
       "    .dataframe tbody tr th {\n",
       "        vertical-align: top;\n",
       "    }\n",
       "\n",
       "    .dataframe thead th {\n",
       "        text-align: right;\n",
       "    }\n",
       "</style>\n",
       "<table border=\"1\" class=\"dataframe\">\n",
       "  <thead>\n",
       "    <tr style=\"text-align: right;\">\n",
       "      <th></th>\n",
       "      <th>calls</th>\n",
       "      <th>minutes</th>\n",
       "      <th>messages</th>\n",
       "      <th>mb_used</th>\n",
       "      <th>is_ultra</th>\n",
       "    </tr>\n",
       "  </thead>\n",
       "  <tbody>\n",
       "    <tr>\n",
       "      <th>calls</th>\n",
       "      <td>1.000000</td>\n",
       "      <td>0.982083</td>\n",
       "      <td>0.177385</td>\n",
       "      <td>0.286442</td>\n",
       "      <td>0.207122</td>\n",
       "    </tr>\n",
       "    <tr>\n",
       "      <th>minutes</th>\n",
       "      <td>0.982083</td>\n",
       "      <td>1.000000</td>\n",
       "      <td>0.173110</td>\n",
       "      <td>0.280967</td>\n",
       "      <td>0.206955</td>\n",
       "    </tr>\n",
       "    <tr>\n",
       "      <th>messages</th>\n",
       "      <td>0.177385</td>\n",
       "      <td>0.173110</td>\n",
       "      <td>1.000000</td>\n",
       "      <td>0.195721</td>\n",
       "      <td>0.203830</td>\n",
       "    </tr>\n",
       "    <tr>\n",
       "      <th>mb_used</th>\n",
       "      <td>0.286442</td>\n",
       "      <td>0.280967</td>\n",
       "      <td>0.195721</td>\n",
       "      <td>1.000000</td>\n",
       "      <td>0.198568</td>\n",
       "    </tr>\n",
       "    <tr>\n",
       "      <th>is_ultra</th>\n",
       "      <td>0.207122</td>\n",
       "      <td>0.206955</td>\n",
       "      <td>0.203830</td>\n",
       "      <td>0.198568</td>\n",
       "      <td>1.000000</td>\n",
       "    </tr>\n",
       "  </tbody>\n",
       "</table>\n",
       "</div>"
      ],
      "text/plain": [
       "             calls   minutes  messages   mb_used  is_ultra\n",
       "calls     1.000000  0.982083  0.177385  0.286442  0.207122\n",
       "minutes   0.982083  1.000000  0.173110  0.280967  0.206955\n",
       "messages  0.177385  0.173110  1.000000  0.195721  0.203830\n",
       "mb_used   0.286442  0.280967  0.195721  1.000000  0.198568\n",
       "is_ultra  0.207122  0.206955  0.203830  0.198568  1.000000"
      ]
     },
     "execution_count": 6,
     "metadata": {},
     "output_type": "execute_result"
    }
   ],
   "source": [
    "df.corr()"
   ]
  },
  {
   "cell_type": "markdown",
   "metadata": {},
   "source": [
    "Неожиданностей нет, есть очевидная зависимость количества звонков от суммарной длительности звонков.\n"
   ]
  },
  {
   "cell_type": "markdown",
   "metadata": {},
   "source": [
    "## Деление данных на выборки <a id='step2'></a>"
   ]
  },
  {
   "cell_type": "markdown",
   "metadata": {},
   "source": [
    "Разобьем данные на выборки: тренировочную, на которой модель будем обучать; валидационную, на основе которой будем подбирать гиперпараметры; тестовую, на которой будем проверять качество полученной модели.<br>\n",
    "Сначала данные разобьем на две части: 80% тренировочных данных, 20% - тестовая выборка.<br>\n",
    "Далее тренировочные данные разобъем следующим образом: четверть выделим на валидационную выборку, остальное оставим для обучения.<br>\n",
    "Таким образом, разбиваем полученные данные следующим образом: 60% - обучающая выборка; 20% - валидационная выборка; 20% - тестовая выборка."
   ]
  },
  {
   "cell_type": "code",
   "execution_count": 7,
   "metadata": {},
   "outputs": [],
   "source": [
    "df_train, df_test = train_test_split(df, test_size=0.2, random_state=12345, stratify=df['is_ultra'])\n",
    "df_train, df_valid = train_test_split(df_train, test_size=0.25, random_state=12345, stratify=df_train['is_ultra'])\n",
    "\n",
    "features_train = df_train.drop(['is_ultra'], axis=1)\n",
    "target_train = df_train['is_ultra']\n",
    "\n",
    "features_valid = df_valid.drop(['is_ultra'], axis=1)\n",
    "target_valid = df_valid['is_ultra']\n",
    "\n",
    "features_test = df_test.drop(['is_ultra'], axis=1)\n",
    "target_test = df_test['is_ultra']"
   ]
  },
  {
   "cell_type": "code",
   "execution_count": 8,
   "metadata": {},
   "outputs": [
    {
     "data": {
      "text/plain": [
       "(3214, 5)"
      ]
     },
     "execution_count": 8,
     "metadata": {},
     "output_type": "execute_result"
    }
   ],
   "source": [
    "df.shape"
   ]
  },
  {
   "cell_type": "code",
   "execution_count": 9,
   "metadata": {},
   "outputs": [
    {
     "data": {
      "text/plain": [
       "(1928, 5)"
      ]
     },
     "execution_count": 9,
     "metadata": {},
     "output_type": "execute_result"
    }
   ],
   "source": [
    "df_train.shape"
   ]
  },
  {
   "cell_type": "code",
   "execution_count": 10,
   "metadata": {},
   "outputs": [
    {
     "data": {
      "text/plain": [
       "(643, 5)"
      ]
     },
     "execution_count": 10,
     "metadata": {},
     "output_type": "execute_result"
    }
   ],
   "source": [
    "df_test.shape"
   ]
  },
  {
   "cell_type": "code",
   "execution_count": 11,
   "metadata": {
    "scrolled": true
   },
   "outputs": [
    {
     "data": {
      "text/plain": [
       "(643, 5)"
      ]
     },
     "execution_count": 11,
     "metadata": {},
     "output_type": "execute_result"
    }
   ],
   "source": [
    "df_valid.shape"
   ]
  },
  {
   "cell_type": "markdown",
   "metadata": {},
   "source": [
    "## Исследование моделей <a id='step3'></a>"
   ]
  },
  {
   "cell_type": "markdown",
   "metadata": {},
   "source": [
    "Исследуем модель \"Решающее дерево\". Найдем наилучшее значение гиперпараметра глубины дерева max_depth, определяя метрику качества accuracy. Наиболее качественной будет модель с самым высоким значением accuracy."
   ]
  },
  {
   "cell_type": "code",
   "execution_count": 12,
   "metadata": {},
   "outputs": [
    {
     "name": "stdout",
     "output_type": "stream",
     "text": [
      "max_depth = 1 : 0.7589424572317263\n",
      "max_depth = 2 : 0.7838258164852255\n",
      "max_depth = 3 : 0.8040435458786936\n",
      "max_depth = 4 : 0.8040435458786936\n",
      "max_depth = 5 : 0.8164852255054432\n",
      "max_depth = 6 : 0.80248833592535\n",
      "max_depth = 7 : 0.807153965785381\n",
      "max_depth = 8 : 0.8055987558320373\n",
      "max_depth = 9 : 0.8118195956454122\n",
      "max_depth = 10 : 0.8055987558320373\n",
      "Accuracy наилучшей модели на валидационной выборке: 0.8164852255054432\n",
      "Глубина: 5\n"
     ]
    }
   ],
   "source": [
    "best_model_tree = None\n",
    "best_result_tree = 0\n",
    "best_depth = 0\n",
    "depth_plot = []\n",
    "result_plot = []\n",
    "for depth in range(1,11):\n",
    "    model = DecisionTreeClassifier(random_state=12345, max_depth=depth) \n",
    "    model.fit(features_train, target_train) \n",
    "    predictions = model.predict(features_valid)\n",
    "    result = accuracy_score(target_valid, predictions) \n",
    "    print(f'max_depth = {depth} : {result}')\n",
    "    \n",
    "    depth_plot.append(depth)\n",
    "    result_plot.append(result)\n",
    "    \n",
    "    if result > best_result_tree:\n",
    "        best_model_tree = model \n",
    "        best_result_tree = result \n",
    "        best_depth = depth \n",
    "        \n",
    "print('Accuracy наилучшей модели на валидационной выборке:', best_result_tree)\n",
    "print('Глубина:', best_depth)"
   ]
  },
  {
   "cell_type": "code",
   "execution_count": 22,
   "metadata": {
    "scrolled": false
   },
   "outputs": [
    {
     "data": {
      "image/png": "[encoded data removed]",
      "text/plain": [
       "<Figure size 1440x504 with 1 Axes>"
      ]
     },
     "metadata": {
      "needs_background": "light"
     },
     "output_type": "display_data"
    }
   ],
   "source": [
    "plt.plot(depth_plot, result_plot, linewidth=3)\n",
    "plt.rcParams['figure.figsize'] = [20, 7]\n",
    "plt.xlabel('depth')\n",
    "plt.ylabel('accuracy')\n",
    "plt.title('depth-accuracy dependence')\n",
    "plt.grid()\n",
    "plt.xticks(depth_plot)\n",
    "plt.show()"
   ]
  },
  {
   "cell_type": "markdown",
   "metadata": {},
   "source": [
    "Из графика видно, что наилучшая точность достигается при глубине дерева, равной 5."
   ]
  },
  {
   "cell_type": "markdown",
   "metadata": {},
   "source": [
    "Как решение принимает модель:"
   ]
  },
  {
   "cell_type": "code",
   "execution_count": 14,
   "metadata": {
    "scrolled": false
   },
   "outputs": [
    {
     "data": {
      "image/png": "[encoded data removed]",
      "text/plain": [
       "<Figure size 1440x504 with 1 Axes>"
      ]
     },
     "metadata": {
      "needs_background": "light"
     },
     "output_type": "display_data"
    }
   ],
   "source": [
    "model = DecisionTreeClassifier(random_state=12345, max_depth=3)\n",
    "tree.plot_tree(model.fit(features_train, target_train))\n",
    "plt.show()"
   ]
  },
  {
   "cell_type": "markdown",
   "metadata": {},
   "source": [
    "Следующая модель: \"Случайный лес\". Найдем наилучшее значение гиперпараметра количества деревьев n_estimators, определяя метрику качества accuracy. Наиболее качественной будет модель с самым высоким значением accuracy. Максимальную глубину деревьев max_depth задавать не будем."
   ]
  },
  {
   "cell_type": "code",
   "execution_count": 24,
   "metadata": {
    "scrolled": true
   },
   "outputs": [
    {
     "name": "stderr",
     "output_type": "stream",
     "text": [
      " 13%|█▎        | 2/15 [00:00<00:01, 11.93it/s]"
     ]
    },
    {
     "name": "stdout",
     "output_type": "stream",
     "text": [
      "est = 1 : 0.7433903576982893, max_depth = 1\n",
      "est = 1 : 0.7807153965785381, max_depth = 2\n",
      "est = 1 : 0.7744945567651633, max_depth = 3\n",
      "est = 1 : 0.7682737169517885, max_depth = 4\n",
      "est = 1 : 0.7993779160186625, max_depth = 5\n",
      "est = 1 : 0.7900466562986003, max_depth = 6\n",
      "est = 1 : 0.7931570762052877, max_depth = 7\n",
      "est = 1 : 0.7947122861586314, max_depth = 8\n",
      "est = 1 : 0.7947122861586314, max_depth = 9\n",
      "est = 1 : 0.744945567651633, max_depth = 10\n",
      "\n",
      "est = 2 : 0.7418351477449455, max_depth = 1\n",
      "est = 2 : 0.7807153965785381, max_depth = 2\n",
      "est = 2 : 0.776049766718507, max_depth = 3\n",
      "est = 2 : 0.7744945567651633, max_depth = 4\n",
      "est = 2 : 0.7900466562986003, max_depth = 5\n",
      "est = 2 : 0.7900466562986003, max_depth = 6\n",
      "est = 2 : 0.8055987558320373, max_depth = 7\n",
      "est = 2 : 0.8087091757387247, max_depth = 8\n",
      "est = 2 : 0.7838258164852255, max_depth = 9\n",
      "est = 2 : 0.744945567651633, max_depth = 10\n",
      "\n",
      "est = 3 : 0.7418351477449455, max_depth = 1\n",
      "est = 3 : 0.7838258164852255, max_depth = 2\n",
      "est = 3 : 0.776049766718507, max_depth = 3\n",
      "est = 3 : 0.7884914463452566, max_depth = 4\n",
      "est = 3 : 0.8133748055987559, max_depth = 5\n",
      "est = 3 : 0.7978227060653188, max_depth = 6\n",
      "est = 3 : 0.807153965785381, max_depth = 7\n",
      "est = 3 : 0.8118195956454122, max_depth = 8\n",
      "est = 3 : 0.807153965785381, max_depth = 9\n",
      "est = 3 : 0.7838258164852255, max_depth = 10\n",
      "\n",
      "est = 4 : 0.7433903576982893, max_depth = 1\n",
      "est = 4 : 0.7589424572317263, max_depth = 2\n",
      "est = 4 : 0.7947122861586314, max_depth = 3\n",
      "est = 4 : 0.7838258164852255, max_depth = 4\n",
      "est = 4 : 0.8087091757387247, max_depth = 5\n",
      "est = 4 : 0.8149300155520995, max_depth = 6\n",
      "est = 4 : 0.8180404354587869, max_depth = 7\n"
     ]
    },
    {
     "name": "stderr",
     "output_type": "stream",
     "text": [
      " 27%|██▋       | 4/15 [00:00<00:01,  8.10it/s]"
     ]
    },
    {
     "name": "stdout",
     "output_type": "stream",
     "text": [
      "est = 4 : 0.8164852255054432, max_depth = 8\n",
      "est = 4 : 0.8133748055987559, max_depth = 9\n",
      "est = 4 : 0.7916018662519441, max_depth = 10\n",
      "\n",
      "est = 5 : 0.7527216174183515, max_depth = 1\n",
      "est = 5 : 0.7558320373250389, max_depth = 2\n",
      "est = 5 : 0.7931570762052877, max_depth = 3\n",
      "est = 5 : 0.7900466562986003, max_depth = 4\n",
      "est = 5 : 0.8227060653188181, max_depth = 5\n",
      "est = 5 : 0.8164852255054432, max_depth = 6\n",
      "est = 5 : 0.8211508553654744, max_depth = 7\n",
      "est = 5 : 0.8242612752721618, max_depth = 8\n",
      "est = 5 : 0.8133748055987559, max_depth = 9\n"
     ]
    },
    {
     "name": "stderr",
     "output_type": "stream",
     "text": [
      " 40%|████      | 6/15 [00:00<00:01,  6.40it/s]"
     ]
    },
    {
     "name": "stdout",
     "output_type": "stream",
     "text": [
      "est = 5 : 0.8118195956454122, max_depth = 10\n",
      "\n",
      "est = 6 : 0.7527216174183515, max_depth = 1\n",
      "est = 6 : 0.7651632970451011, max_depth = 2\n",
      "est = 6 : 0.7947122861586314, max_depth = 3\n",
      "est = 6 : 0.7931570762052877, max_depth = 4\n",
      "est = 6 : 0.8227060653188181, max_depth = 5\n",
      "est = 6 : 0.8149300155520995, max_depth = 6\n",
      "est = 6 : 0.8195956454121306, max_depth = 7\n",
      "est = 6 : 0.8258164852255054, max_depth = 8\n",
      "est = 6 : 0.8133748055987559, max_depth = 9\n",
      "est = 6 : 0.807153965785381, max_depth = 10\n",
      "\n"
     ]
    },
    {
     "name": "stderr",
     "output_type": "stream",
     "text": [
      " 47%|████▋     | 7/15 [00:01<00:01,  5.75it/s]"
     ]
    },
    {
     "name": "stdout",
     "output_type": "stream",
     "text": [
      "est = 7 : 0.7511664074650077, max_depth = 1\n",
      "est = 7 : 0.7698289269051322, max_depth = 2\n",
      "est = 7 : 0.7962674961119751, max_depth = 3\n",
      "est = 7 : 0.80248833592535, max_depth = 4\n",
      "est = 7 : 0.8164852255054432, max_depth = 5\n",
      "est = 7 : 0.8118195956454122, max_depth = 6\n",
      "est = 7 : 0.8211508553654744, max_depth = 7\n",
      "est = 7 : 0.8273716951788491, max_depth = 8\n",
      "est = 7 : 0.8164852255054432, max_depth = 9\n",
      "est = 7 : 0.8195956454121306, max_depth = 10\n",
      "\n",
      "est = 8 : 0.7511664074650077, max_depth = 1\n",
      "est = 8 : 0.7729393468118196, max_depth = 2\n",
      "est = 8 : 0.7931570762052877, max_depth = 3\n",
      "est = 8 : 0.8164852255054432, max_depth = 4\n",
      "est = 8 : 0.8180404354587869, max_depth = 5\n",
      "est = 8 : 0.8164852255054432, max_depth = 6\n",
      "est = 8 : 0.8227060653188181, max_depth = 7\n",
      "est = 8 : 0.8242612752721618, max_depth = 8\n"
     ]
    },
    {
     "name": "stderr",
     "output_type": "stream",
     "text": [
      " 53%|█████▎    | 8/15 [00:01<00:01,  4.91it/s]"
     ]
    },
    {
     "name": "stdout",
     "output_type": "stream",
     "text": [
      "est = 8 : 0.8164852255054432, max_depth = 9\n",
      "est = 8 : 0.8227060653188181, max_depth = 10\n",
      "\n",
      "est = 9 : 0.749611197511664, max_depth = 1\n",
      "est = 9 : 0.7698289269051322, max_depth = 2\n",
      "est = 9 : 0.8009331259720062, max_depth = 3\n",
      "est = 9 : 0.8180404354587869, max_depth = 4\n",
      "est = 9 : 0.8195956454121306, max_depth = 5\n",
      "est = 9 : 0.8195956454121306, max_depth = 6\n"
     ]
    },
    {
     "name": "stderr",
     "output_type": "stream",
     "text": [
      " 60%|██████    | 9/15 [00:01<00:01,  4.47it/s]"
     ]
    },
    {
     "name": "stdout",
     "output_type": "stream",
     "text": [
      "est = 9 : 0.8227060653188181, max_depth = 7\n",
      "est = 9 : 0.8304821150855366, max_depth = 8\n",
      "est = 9 : 0.8180404354587869, max_depth = 9\n",
      "est = 9 : 0.8164852255054432, max_depth = 10\n",
      "\n",
      "est = 10 : 0.7511664074650077, max_depth = 1\n",
      "est = 10 : 0.7822706065318819, max_depth = 2\n",
      "est = 10 : 0.7931570762052877, max_depth = 3\n",
      "est = 10 : 0.8211508553654744, max_depth = 4\n"
     ]
    },
    {
     "name": "stderr",
     "output_type": "stream",
     "text": [
      " 67%|██████▋   | 10/15 [00:01<00:01,  4.10it/s]"
     ]
    },
    {
     "name": "stdout",
     "output_type": "stream",
     "text": [
      "est = 10 : 0.8149300155520995, max_depth = 5\n",
      "est = 10 : 0.8149300155520995, max_depth = 6\n",
      "est = 10 : 0.8195956454121306, max_depth = 7\n",
      "est = 10 : 0.8320373250388803, max_depth = 8\n",
      "est = 10 : 0.8211508553654744, max_depth = 9\n",
      "est = 10 : 0.8102643856920684, max_depth = 10\n",
      "\n",
      "est = 11 : 0.7542768273716952, max_depth = 1\n",
      "est = 11 : 0.7993779160186625, max_depth = 2\n",
      "est = 11 : 0.7869362363919129, max_depth = 3\n",
      "est = 11 : 0.8164852255054432, max_depth = 4\n",
      "est = 11 : 0.8133748055987559, max_depth = 5\n",
      "est = 11 : 0.8118195956454122, max_depth = 6\n",
      "est = 11 : 0.8180404354587869, max_depth = 7\n",
      "est = 11 : 0.8227060653188181, max_depth = 8\n"
     ]
    },
    {
     "name": "stderr",
     "output_type": "stream",
     "text": [
      " 73%|███████▎  | 11/15 [00:02<00:01,  3.75it/s]"
     ]
    },
    {
     "name": "stdout",
     "output_type": "stream",
     "text": [
      "est = 11 : 0.8180404354587869, max_depth = 9\n",
      "est = 11 : 0.8087091757387247, max_depth = 10\n",
      "\n",
      "est = 12 : 0.7573872472783826, max_depth = 1\n",
      "est = 12 : 0.7869362363919129, max_depth = 2\n",
      "est = 12 : 0.7900466562986003, max_depth = 3\n",
      "est = 12 : 0.8149300155520995, max_depth = 4\n",
      "est = 12 : 0.8149300155520995, max_depth = 5\n"
     ]
    },
    {
     "name": "stderr",
     "output_type": "stream",
     "text": [
      " 80%|████████  | 12/15 [00:02<00:00,  3.40it/s]"
     ]
    },
    {
     "name": "stdout",
     "output_type": "stream",
     "text": [
      "est = 12 : 0.8133748055987559, max_depth = 6\n",
      "est = 12 : 0.8195956454121306, max_depth = 7\n",
      "est = 12 : 0.8195956454121306, max_depth = 8\n",
      "est = 12 : 0.8133748055987559, max_depth = 9\n",
      "est = 12 : 0.8164852255054432, max_depth = 10\n",
      "\n",
      "est = 13 : 0.7542768273716952, max_depth = 1\n",
      "est = 13 : 0.7993779160186625, max_depth = 2\n",
      "est = 13 : 0.8149300155520995, max_depth = 3\n",
      "est = 13 : 0.8149300155520995, max_depth = 4\n",
      "est = 13 : 0.8118195956454122, max_depth = 5\n",
      "est = 13 : 0.8149300155520995, max_depth = 6\n"
     ]
    },
    {
     "name": "stderr",
     "output_type": "stream",
     "text": [
      " 87%|████████▋ | 13/15 [00:02<00:00,  3.09it/s]"
     ]
    },
    {
     "name": "stdout",
     "output_type": "stream",
     "text": [
      "est = 13 : 0.8242612752721618, max_depth = 7\n",
      "est = 13 : 0.8211508553654744, max_depth = 8\n",
      "est = 13 : 0.8195956454121306, max_depth = 9\n",
      "est = 13 : 0.8133748055987559, max_depth = 10\n",
      "\n",
      "est = 14 : 0.7573872472783826, max_depth = 1\n",
      "est = 14 : 0.7931570762052877, max_depth = 2\n",
      "est = 14 : 0.8118195956454122, max_depth = 3\n",
      "est = 14 : 0.8180404354587869, max_depth = 4\n",
      "est = 14 : 0.8133748055987559, max_depth = 5\n",
      "est = 14 : 0.8149300155520995, max_depth = 6\n",
      "est = 14 : 0.8227060653188181, max_depth = 7\n"
     ]
    },
    {
     "name": "stderr",
     "output_type": "stream",
     "text": [
      " 93%|█████████▎| 14/15 [00:03<00:00,  2.76it/s]"
     ]
    },
    {
     "name": "stdout",
     "output_type": "stream",
     "text": [
      "est = 14 : 0.8273716951788491, max_depth = 8\n",
      "est = 14 : 0.8164852255054432, max_depth = 9\n",
      "est = 14 : 0.8102643856920684, max_depth = 10\n",
      "\n",
      "est = 15 : 0.7573872472783826, max_depth = 1\n",
      "est = 15 : 0.7962674961119751, max_depth = 2\n",
      "est = 15 : 0.8149300155520995, max_depth = 3\n",
      "est = 15 : 0.8180404354587869, max_depth = 4\n",
      "est = 15 : 0.8102643856920684, max_depth = 5\n",
      "est = 15 : 0.8164852255054432, max_depth = 6\n",
      "est = 15 : 0.8211508553654744, max_depth = 7\n",
      "est = 15 : 0.8180404354587869, max_depth = 8\n"
     ]
    },
    {
     "name": "stderr",
     "output_type": "stream",
     "text": [
      "100%|██████████| 15/15 [00:03<00:00,  3.91it/s]"
     ]
    },
    {
     "name": "stdout",
     "output_type": "stream",
     "text": [
      "est = 15 : 0.8164852255054432, max_depth = 9\n",
      "est = 15 : 0.8118195956454122, max_depth = 10\n",
      "\n",
      "Accuracy наилучшей модели на валидационной выборке: 0.8320373250388803\n",
      "Количество деревьев: 10\n",
      "Глубина: 8\n"
     ]
    },
    {
     "name": "stderr",
     "output_type": "stream",
     "text": [
      "\n"
     ]
    }
   ],
   "source": [
    "best_model_forest = None\n",
    "best_result_forest = 0\n",
    "best_est = 0\n",
    "for est in tqdm(range(1, 16)):\n",
    "    for depth in range(1,11):\n",
    "        model = RandomForestClassifier(random_state=12345, n_estimators=est, max_depth=depth) \n",
    "        model.fit(features_train, target_train) \n",
    "        result = model.score(features_valid, target_valid) \n",
    "        print(f'est = {est} : {result}, max_depth = {depth}')\n",
    "        if result > best_result_forest:\n",
    "            best_model_forest = model \n",
    "            best_result_forest = result\n",
    "            best_est = est \n",
    "            best_depth = depth\n",
    "    print()\n",
    "\n",
    "print('Accuracy наилучшей модели на валидационной выборке:', best_result_forest)\n",
    "print('Количество деревьев:', best_est)\n",
    "print('Глубина:', best_depth)\n",
    "\n"
   ]
  },
  {
   "cell_type": "markdown",
   "metadata": {},
   "source": [
    "Следующая модель: \"Логистическая регрессия\"."
   ]
  },
  {
   "cell_type": "code",
   "execution_count": 16,
   "metadata": {},
   "outputs": [
    {
     "name": "stdout",
     "output_type": "stream",
     "text": [
      "Accuracy: 0.7558320373250389\n"
     ]
    }
   ],
   "source": [
    "model = LogisticRegression(random_state=12345, solver='lbfgs', max_iter=1000)\n",
    "model.fit(features_train, target_train) \n",
    "result = model.score(features_valid, target_valid)\n",
    "print(\"Accuracy:\", result)"
   ]
  },
  {
   "cell_type": "markdown",
   "metadata": {},
   "source": [
    "Сравнивая полученые модели, можно сделать вывод, что наиболее качественной получилась модель \"Решающее дерево\" с количеством деревьев, равным 10. Accuracy в этом случае получилась равной 0.83, это означает, что на валидационной выборке модель дала 83% правильных ответов. Далее работаем с описанной моделью:"
   ]
  },
  {
   "cell_type": "code",
   "execution_count": 17,
   "metadata": {},
   "outputs": [],
   "source": [
    "model = best_model_forest"
   ]
  },
  {
   "cell_type": "markdown",
   "metadata": {},
   "source": [
    "## Проверка модели на тестовой выборке <a id='step4'></a>"
   ]
  },
  {
   "cell_type": "markdown",
   "metadata": {},
   "source": [
    "Проверим выбранную модель на тестовой выборке:"
   ]
  },
  {
   "cell_type": "code",
   "execution_count": 18,
   "metadata": {
    "scrolled": false
   },
   "outputs": [
    {
     "name": "stdout",
     "output_type": "stream",
     "text": [
      "Accuracy: 0.8102643856920684\n",
      "Accuracy(train+valid): 0.8149300155520995\n"
     ]
    }
   ],
   "source": [
    "result = model.score(features_test, target_test)\n",
    "print(\"Accuracy:\", result)\n",
    "\n",
    "model.fit(pd.concat([features_train, features_valid]), pd.concat([target_train, target_valid]))\n",
    "result = model.score(features_test, target_test)\n",
    "print(\"Accuracy(train+valid):\", result)"
   ]
  },
  {
   "cell_type": "markdown",
   "metadata": {},
   "source": [
    "Accuracy осталась примерно на том же уровне, модель работоспособна."
   ]
  },
  {
   "cell_type": "markdown",
   "metadata": {},
   "source": [
    "## Проверка модели на адекватность <a id='step5'></a>"
   ]
  },
  {
   "cell_type": "markdown",
   "metadata": {},
   "source": [
    "Сравним полученную модель с примитивной моделью"
   ]
  },
  {
   "cell_type": "code",
   "execution_count": 21,
   "metadata": {},
   "outputs": [
    {
     "name": "stdout",
     "output_type": "stream",
     "text": [
      "Accuracy: 0.6936236391912908\n",
      "Predict every time: [0]\n"
     ]
    }
   ],
   "source": [
    "dummy_model = DummyClassifier()\n",
    "dummy_model.fit(pd.concat([features_train, features_valid]), pd.concat([target_train, target_valid]))\n",
    "result = dummy_model.score(features_test, target_test)\n",
    "print('Accuracy:', result)\n",
    "print('Predict every time:', np.unique(dummy_model.predict(features_test)))"
   ]
  },
  {
   "cell_type": "markdown",
   "metadata": {},
   "source": [
    "Имеем несбалансированные данные, соотношение количества одного класса к другому 1:2. То есть, если мы будем предсказывать в каждом случае самый частый класс (в нашем случае \"0\"), то с какой-то частотой мы будем делать правильное предсказание.<br>\n",
    "Итак, полученная модель, предсказывающая всегда \"0\", имеет значение метрики accuracy около 0.7, значит она делает правильное предсказание в 70% случаев (всего на 5% меньше логистической регрессии).<br>\n",
    "Сравнивая с нашей выбранной моделью (RF), можем сказать что она адекватна, так как точность ее предсказаний выше (примерно на 11 процентов) точности предсказаний примитивной модели."
   ]
  },
  {
   "cell_type": "markdown",
   "metadata": {},
   "source": [
    "## Заключение <a id='step6'></a>"
   ]
  },
  {
   "cell_type": "markdown",
   "metadata": {},
   "source": [
    "Данные были разбиты на тренировочную, валидационную и тестовую выборки. На тренировочной выборке модели обучались, на валидационной - изучалось качество моделей с различными гиперпараметрами, на тестовой - проверялось качество выбранной модели."
   ]
  },
  {
   "cell_type": "markdown",
   "metadata": {},
   "source": [
    "В проекте были исследованы три модели классификации: Решающее дерево, Случайный лес, Логистическая регрессия."
   ]
  },
  {
   "cell_type": "markdown",
   "metadata": {},
   "source": [
    "Исследовалась метрика качества Accuracy, соответствующая доле правильных ответов, которая дает модель."
   ]
  },
  {
   "cell_type": "markdown",
   "metadata": {},
   "source": [
    "По итогам исследования набольшее количество правильных ответов дала модель \"Случайный лес\" с количеством деревьем, равным 10, и глубиной 8. Accuracy получилась равной около 0.83, что подтвердилось и на тестовой выборке (на тестовой получили около 0.81). "
   ]
  },
  {
   "cell_type": "markdown",
   "metadata": {},
   "source": [
    "Модель была проверена на адекватность, сравнивалась с примитивной моделью. Модель оказалась адекватной."
   ]
  },
  {
   "cell_type": "markdown",
   "metadata": {},
   "source": [
    "В итоге была подготовлена модель, которая способная определять какой из новых тарифов стоит предложить пользователю; какой из новых тарифов ему больше подойдет с точностью 81%."
   ]
  },
  {
   "cell_type": "markdown",
   "metadata": {},
   "source": [
    "<br>"
   ]
  },
  {
   "cell_type": "markdown",
   "metadata": {},
   "source": [
    "[В начало](#start)"
   ]
  }
 ],
 "metadata": {
  "ExecuteTimeLog": [
   {
    "duration": 1105,
    "start_time": "2023-02-20T17:02:25.735Z"
   },
   {
    "duration": 86,
    "start_time": "2023-02-20T17:02:27.776Z"
   },
   {
    "duration": 8,
    "start_time": "2023-02-20T17:23:54.741Z"
   },
   {
    "duration": 106,
    "start_time": "2023-02-20T17:23:56.674Z"
   },
   {
    "duration": 11,
    "start_time": "2023-02-20T17:25:23.206Z"
   },
   {
    "duration": 3,
    "start_time": "2023-02-20T17:25:28.852Z"
   },
   {
    "duration": 25,
    "start_time": "2023-02-20T17:25:31.787Z"
   },
   {
    "duration": 7,
    "start_time": "2023-02-20T17:26:10.812Z"
   },
   {
    "duration": 31,
    "start_time": "2023-02-20T17:26:12.954Z"
   },
   {
    "duration": 333,
    "start_time": "2023-02-20T17:26:46.190Z"
   },
   {
    "duration": 9,
    "start_time": "2023-02-20T17:26:55.815Z"
   },
   {
    "duration": 304,
    "start_time": "2023-02-20T17:28:38.043Z"
   },
   {
    "duration": 1092,
    "start_time": "2023-02-20T21:47:23.667Z"
   },
   {
    "duration": 135,
    "start_time": "2023-02-20T21:47:26.905Z"
   },
   {
    "duration": 10,
    "start_time": "2023-02-20T21:47:28.928Z"
   },
   {
    "duration": 29,
    "start_time": "2023-02-20T21:47:31.520Z"
   },
   {
    "duration": 252,
    "start_time": "2023-02-20T21:47:34.424Z"
   },
   {
    "duration": 74,
    "start_time": "2023-02-20T21:47:36.752Z"
   },
   {
    "duration": 77,
    "start_time": "2023-02-20T21:55:15.996Z"
   },
   {
    "duration": 255,
    "start_time": "2023-02-20T21:57:23.396Z"
   },
   {
    "duration": 130,
    "start_time": "2023-02-20T21:58:15.472Z"
   },
   {
    "duration": 260,
    "start_time": "2023-02-20T21:58:26.871Z"
   },
   {
    "duration": 284,
    "start_time": "2023-02-20T21:58:44.639Z"
   },
   {
    "duration": 1120,
    "start_time": "2023-02-20T22:00:40.150Z"
   },
   {
    "duration": 45,
    "start_time": "2023-02-20T22:00:41.272Z"
   },
   {
    "duration": 9,
    "start_time": "2023-02-20T22:00:41.318Z"
   },
   {
    "duration": 29,
    "start_time": "2023-02-20T22:00:41.328Z"
   },
   {
    "duration": 277,
    "start_time": "2023-02-20T22:00:41.359Z"
   },
   {
    "duration": 88,
    "start_time": "2023-02-20T22:00:41.638Z"
   },
   {
    "duration": 5,
    "start_time": "2023-02-20T22:00:41.728Z"
   },
   {
    "duration": 1033,
    "start_time": "2023-02-20T22:01:44.847Z"
   },
   {
    "duration": 52,
    "start_time": "2023-02-20T22:01:45.882Z"
   },
   {
    "duration": 8,
    "start_time": "2023-02-20T22:01:45.935Z"
   },
   {
    "duration": 28,
    "start_time": "2023-02-20T22:01:45.945Z"
   },
   {
    "duration": 260,
    "start_time": "2023-02-20T22:01:45.974Z"
   },
   {
    "duration": 95,
    "start_time": "2023-02-20T22:01:46.235Z"
   },
   {
    "duration": 121,
    "start_time": "2023-02-20T22:01:46.332Z"
   },
   {
    "duration": 1061,
    "start_time": "2023-02-20T22:02:31.747Z"
   },
   {
    "duration": 43,
    "start_time": "2023-02-20T22:02:32.809Z"
   },
   {
    "duration": 9,
    "start_time": "2023-02-20T22:02:32.853Z"
   },
   {
    "duration": 38,
    "start_time": "2023-02-20T22:02:32.865Z"
   },
   {
    "duration": 263,
    "start_time": "2023-02-20T22:02:32.905Z"
   },
   {
    "duration": 89,
    "start_time": "2023-02-20T22:02:33.170Z"
   },
   {
    "duration": 51,
    "start_time": "2023-02-20T22:02:33.261Z"
   },
   {
    "duration": 5,
    "start_time": "2023-02-20T22:10:06.475Z"
   },
   {
    "duration": 6,
    "start_time": "2023-02-20T22:10:28.897Z"
   },
   {
    "duration": 53,
    "start_time": "2023-02-20T22:10:43.862Z"
   },
   {
    "duration": 5,
    "start_time": "2023-02-20T22:10:46.207Z"
   },
   {
    "duration": 48,
    "start_time": "2023-02-20T22:13:12.404Z"
   },
   {
    "duration": 9,
    "start_time": "2023-02-20T22:13:30.816Z"
   },
   {
    "duration": 6,
    "start_time": "2023-02-20T22:13:40.643Z"
   },
   {
    "duration": 14,
    "start_time": "2023-02-20T22:16:52.664Z"
   },
   {
    "duration": 16,
    "start_time": "2023-02-20T22:18:45.734Z"
   },
   {
    "duration": 4,
    "start_time": "2023-02-20T22:19:28.654Z"
   },
   {
    "duration": 38,
    "start_time": "2023-02-20T22:23:08.896Z"
   },
   {
    "duration": 36,
    "start_time": "2023-02-20T22:23:20.458Z"
   },
   {
    "duration": 1056,
    "start_time": "2023-02-21T08:45:03.774Z"
   },
   {
    "duration": 79,
    "start_time": "2023-02-21T08:45:04.832Z"
   },
   {
    "duration": 9,
    "start_time": "2023-02-21T08:45:04.914Z"
   },
   {
    "duration": 36,
    "start_time": "2023-02-21T08:45:04.925Z"
   },
   {
    "duration": 253,
    "start_time": "2023-02-21T08:45:04.963Z"
   },
   {
    "duration": 95,
    "start_time": "2023-02-21T08:45:05.218Z"
   },
   {
    "duration": 44,
    "start_time": "2023-02-21T08:45:05.315Z"
   },
   {
    "duration": 13,
    "start_time": "2023-02-21T08:45:05.361Z"
   },
   {
    "duration": 3,
    "start_time": "2023-02-21T08:45:05.376Z"
   },
   {
    "duration": 33,
    "start_time": "2023-02-21T09:09:38.879Z"
   },
   {
    "duration": 32,
    "start_time": "2023-02-21T09:09:58.475Z"
   },
   {
    "duration": 12,
    "start_time": "2023-02-21T09:10:00.630Z"
   },
   {
    "duration": 1111,
    "start_time": "2023-02-21T09:30:17.507Z"
   },
   {
    "duration": 38,
    "start_time": "2023-02-21T09:30:18.620Z"
   },
   {
    "duration": 11,
    "start_time": "2023-02-21T09:30:18.660Z"
   },
   {
    "duration": 28,
    "start_time": "2023-02-21T09:30:18.673Z"
   },
   {
    "duration": 28,
    "start_time": "2023-02-21T09:30:18.703Z"
   },
   {
    "duration": 526,
    "start_time": "2023-02-21T09:30:21.344Z"
   },
   {
    "duration": 1045,
    "start_time": "2023-02-21T09:38:34.681Z"
   },
   {
    "duration": 39,
    "start_time": "2023-02-21T09:38:35.728Z"
   },
   {
    "duration": 11,
    "start_time": "2023-02-21T09:38:35.768Z"
   },
   {
    "duration": 12,
    "start_time": "2023-02-21T09:38:35.781Z"
   },
   {
    "duration": 33,
    "start_time": "2023-02-21T09:38:35.795Z"
   },
   {
    "duration": 527,
    "start_time": "2023-02-21T09:38:35.830Z"
   },
   {
    "duration": 84,
    "start_time": "2023-02-21T09:38:36.359Z"
   },
   {
    "duration": 45,
    "start_time": "2023-02-21T09:38:36.445Z"
   },
   {
    "duration": 14,
    "start_time": "2023-02-21T09:38:36.492Z"
   },
   {
    "duration": 4,
    "start_time": "2023-02-21T09:38:36.508Z"
   },
   {
    "duration": 272,
    "start_time": "2023-02-21T09:48:06.646Z"
   },
   {
    "duration": 512,
    "start_time": "2023-02-21T09:48:18.282Z"
   },
   {
    "duration": 139,
    "start_time": "2023-02-21T09:51:23.766Z"
   },
   {
    "duration": 100,
    "start_time": "2023-02-21T09:51:28.192Z"
   },
   {
    "duration": 96,
    "start_time": "2023-02-21T09:51:35.678Z"
   },
   {
    "duration": 103,
    "start_time": "2023-02-21T09:51:40.743Z"
   },
   {
    "duration": 96,
    "start_time": "2023-02-21T09:51:45.003Z"
   },
   {
    "duration": 68,
    "start_time": "2023-02-21T09:51:47.883Z"
   },
   {
    "duration": 118,
    "start_time": "2023-02-21T09:51:51.371Z"
   },
   {
    "duration": 2,
    "start_time": "2023-02-21T09:58:08.038Z"
   },
   {
    "duration": 9,
    "start_time": "2023-02-21T09:58:10.888Z"
   },
   {
    "duration": 93,
    "start_time": "2023-02-21T10:34:39.361Z"
   },
   {
    "duration": 39,
    "start_time": "2023-02-21T10:34:43.683Z"
   },
   {
    "duration": 1097,
    "start_time": "2023-02-21T10:36:13.686Z"
   },
   {
    "duration": 40,
    "start_time": "2023-02-21T10:36:14.785Z"
   },
   {
    "duration": 12,
    "start_time": "2023-02-21T10:36:14.827Z"
   },
   {
    "duration": 13,
    "start_time": "2023-02-21T10:36:14.841Z"
   },
   {
    "duration": 36,
    "start_time": "2023-02-21T10:36:14.855Z"
   },
   {
    "duration": 609,
    "start_time": "2023-02-21T10:36:14.893Z"
   },
   {
    "duration": 47,
    "start_time": "2023-02-21T10:36:15.503Z"
   },
   {
    "duration": 3,
    "start_time": "2023-02-21T10:36:15.551Z"
   },
   {
    "duration": 21,
    "start_time": "2023-02-21T10:36:15.555Z"
   },
   {
    "duration": 9,
    "start_time": "2023-02-21T10:36:15.578Z"
   },
   {
    "duration": 4,
    "start_time": "2023-02-21T10:36:15.589Z"
   },
   {
    "duration": 2,
    "start_time": "2023-02-21T10:42:19.852Z"
   },
   {
    "duration": 2344,
    "start_time": "2023-02-21T11:07:08.418Z"
   },
   {
    "duration": 52,
    "start_time": "2023-02-21T11:07:10.771Z"
   },
   {
    "duration": 20,
    "start_time": "2023-02-21T11:07:10.824Z"
   },
   {
    "duration": 61,
    "start_time": "2023-02-21T11:07:10.849Z"
   },
   {
    "duration": 100,
    "start_time": "2023-02-21T11:07:10.912Z"
   },
   {
    "duration": 758,
    "start_time": "2023-02-21T11:07:11.013Z"
   },
   {
    "duration": 55,
    "start_time": "2023-02-21T11:07:11.776Z"
   },
   {
    "duration": 9,
    "start_time": "2023-02-21T11:07:11.832Z"
   },
   {
    "duration": 66,
    "start_time": "2023-02-21T11:07:11.843Z"
   },
   {
    "duration": 22,
    "start_time": "2023-02-21T11:07:11.912Z"
   },
   {
    "duration": 71,
    "start_time": "2023-02-21T11:07:11.936Z"
   },
   {
    "duration": 1133,
    "start_time": "2023-02-24T10:26:17.603Z"
   },
   {
    "duration": 78,
    "start_time": "2023-02-24T10:26:18.738Z"
   },
   {
    "duration": 12,
    "start_time": "2023-02-24T10:26:18.817Z"
   },
   {
    "duration": 6,
    "start_time": "2023-02-24T10:26:24.190Z"
   },
   {
    "duration": 104,
    "start_time": "2023-02-24T10:27:09.995Z"
   },
   {
    "duration": 7,
    "start_time": "2023-02-24T10:27:18.172Z"
   },
   {
    "duration": 11,
    "start_time": "2023-02-24T10:36:33.531Z"
   },
   {
    "duration": 15,
    "start_time": "2023-02-24T10:55:50.837Z"
   },
   {
    "duration": 17,
    "start_time": "2023-02-24T10:56:14.521Z"
   },
   {
    "duration": 11,
    "start_time": "2023-02-24T10:56:29.403Z"
   },
   {
    "duration": 13,
    "start_time": "2023-02-24T10:56:40.993Z"
   },
   {
    "duration": 5,
    "start_time": "2023-02-24T10:57:30.462Z"
   },
   {
    "duration": 4,
    "start_time": "2023-02-24T10:57:54.593Z"
   },
   {
    "duration": 5,
    "start_time": "2023-02-24T10:57:56.633Z"
   },
   {
    "duration": 10,
    "start_time": "2023-02-24T10:58:59.934Z"
   },
   {
    "duration": 4,
    "start_time": "2023-02-24T10:59:04.475Z"
   },
   {
    "duration": 525,
    "start_time": "2023-02-24T11:11:47.834Z"
   },
   {
    "duration": 55,
    "start_time": "2023-02-24T11:11:48.362Z"
   },
   {
    "duration": 21,
    "start_time": "2023-02-24T11:11:48.424Z"
   },
   {
    "duration": 7,
    "start_time": "2023-02-24T11:11:48.447Z"
   },
   {
    "duration": 10,
    "start_time": "2023-02-24T11:11:48.457Z"
   },
   {
    "duration": 27,
    "start_time": "2023-02-24T11:11:48.470Z"
   },
   {
    "duration": 17,
    "start_time": "2023-02-24T11:11:48.506Z"
   },
   {
    "duration": 20,
    "start_time": "2023-02-24T11:11:48.527Z"
   },
   {
    "duration": 9,
    "start_time": "2023-02-24T11:11:48.549Z"
   },
   {
    "duration": 8,
    "start_time": "2023-02-24T11:11:48.560Z"
   },
   {
    "duration": 9,
    "start_time": "2023-02-24T11:11:48.569Z"
   },
   {
    "duration": 44,
    "start_time": "2023-02-24T11:11:48.580Z"
   },
   {
    "duration": 1573,
    "start_time": "2023-02-24T11:12:43.045Z"
   },
   {
    "duration": 43,
    "start_time": "2023-02-24T11:12:44.622Z"
   },
   {
    "duration": 15,
    "start_time": "2023-02-24T11:12:44.667Z"
   },
   {
    "duration": 7,
    "start_time": "2023-02-24T11:12:44.684Z"
   },
   {
    "duration": 24,
    "start_time": "2023-02-24T11:12:44.694Z"
   },
   {
    "duration": 51,
    "start_time": "2023-02-24T11:12:44.719Z"
   },
   {
    "duration": 12,
    "start_time": "2023-02-24T11:12:44.771Z"
   },
   {
    "duration": 6,
    "start_time": "2023-02-24T11:12:44.784Z"
   },
   {
    "duration": 43,
    "start_time": "2023-02-24T11:12:44.791Z"
   },
   {
    "duration": 8,
    "start_time": "2023-02-24T11:12:44.836Z"
   },
   {
    "duration": 10,
    "start_time": "2023-02-24T11:12:44.846Z"
   },
   {
    "duration": 102,
    "start_time": "2023-02-24T11:12:44.858Z"
   },
   {
    "duration": 328,
    "start_time": "2023-02-24T11:12:47.842Z"
   },
   {
    "duration": 10,
    "start_time": "2023-02-24T11:15:12.166Z"
   },
   {
    "duration": 122,
    "start_time": "2023-02-24T11:17:49.813Z"
   },
   {
    "duration": 153,
    "start_time": "2023-02-24T11:18:16.834Z"
   },
   {
    "duration": 11,
    "start_time": "2023-02-24T11:20:26.089Z"
   },
   {
    "duration": 9,
    "start_time": "2023-02-24T11:20:54.966Z"
   },
   {
    "duration": 110,
    "start_time": "2023-02-24T11:20:59.581Z"
   },
   {
    "duration": 97,
    "start_time": "2023-02-24T11:21:12.534Z"
   },
   {
    "duration": 159,
    "start_time": "2023-02-24T11:21:51.222Z"
   },
   {
    "duration": 135,
    "start_time": "2023-02-24T11:21:55.504Z"
   },
   {
    "duration": 224,
    "start_time": "2023-02-24T11:21:59.990Z"
   },
   {
    "duration": 171,
    "start_time": "2023-02-24T11:22:06.794Z"
   },
   {
    "duration": 157,
    "start_time": "2023-02-24T11:22:09.498Z"
   },
   {
    "duration": 124,
    "start_time": "2023-02-24T11:22:12.562Z"
   },
   {
    "duration": 116,
    "start_time": "2023-02-24T11:22:35.120Z"
   },
   {
    "duration": 129,
    "start_time": "2023-02-24T11:22:42.004Z"
   },
   {
    "duration": 142,
    "start_time": "2023-02-24T11:22:48.337Z"
   },
   {
    "duration": 1367,
    "start_time": "2023-02-24T11:23:25.988Z"
   },
   {
    "duration": 35,
    "start_time": "2023-02-24T11:23:27.356Z"
   },
   {
    "duration": 14,
    "start_time": "2023-02-24T11:23:27.393Z"
   },
   {
    "duration": 4,
    "start_time": "2023-02-24T11:23:27.410Z"
   },
   {
    "duration": 9,
    "start_time": "2023-02-24T11:23:27.416Z"
   },
   {
    "duration": 21,
    "start_time": "2023-02-24T11:23:27.427Z"
   },
   {
    "duration": 10,
    "start_time": "2023-02-24T11:23:27.450Z"
   },
   {
    "duration": 5,
    "start_time": "2023-02-24T11:23:27.461Z"
   },
   {
    "duration": 8,
    "start_time": "2023-02-24T11:23:27.468Z"
   },
   {
    "duration": 22,
    "start_time": "2023-02-24T11:23:27.478Z"
   },
   {
    "duration": 9,
    "start_time": "2023-02-24T11:23:27.501Z"
   },
   {
    "duration": 69,
    "start_time": "2023-02-24T11:23:27.511Z"
   },
   {
    "duration": 132,
    "start_time": "2023-02-24T11:23:34.026Z"
   },
   {
    "duration": 99,
    "start_time": "2023-02-24T11:23:37.545Z"
   },
   {
    "duration": 104,
    "start_time": "2023-02-24T11:23:40.325Z"
   },
   {
    "duration": 99,
    "start_time": "2023-02-24T11:23:42.968Z"
   },
   {
    "duration": 108,
    "start_time": "2023-02-24T11:23:48.118Z"
   },
   {
    "duration": 170,
    "start_time": "2023-02-24T11:23:51.744Z"
   },
   {
    "duration": 110,
    "start_time": "2023-02-24T11:23:55.384Z"
   },
   {
    "duration": 98,
    "start_time": "2023-02-24T11:24:28.761Z"
   },
   {
    "duration": 215,
    "start_time": "2023-02-24T11:24:40.441Z"
   },
   {
    "duration": 112,
    "start_time": "2023-02-24T11:25:54.173Z"
   },
   {
    "duration": 108,
    "start_time": "2023-02-24T11:26:34.437Z"
   },
   {
    "duration": 103,
    "start_time": "2023-02-24T11:26:39.599Z"
   },
   {
    "duration": 121,
    "start_time": "2023-02-24T11:26:44.398Z"
   },
   {
    "duration": 129,
    "start_time": "2023-02-24T11:27:13.939Z"
   },
   {
    "duration": 99,
    "start_time": "2023-02-24T11:27:32.642Z"
   },
   {
    "duration": 135,
    "start_time": "2023-02-24T11:27:34.822Z"
   },
   {
    "duration": 135,
    "start_time": "2023-02-24T11:29:17.638Z"
   },
   {
    "duration": 144,
    "start_time": "2023-02-24T11:32:36.832Z"
   },
   {
    "duration": 143,
    "start_time": "2023-02-24T11:33:07.182Z"
   },
   {
    "duration": 139,
    "start_time": "2023-02-24T11:33:10.853Z"
   },
   {
    "duration": 136,
    "start_time": "2023-02-24T11:36:12.764Z"
   },
   {
    "duration": 156,
    "start_time": "2023-02-24T11:36:15.519Z"
   },
   {
    "duration": 151,
    "start_time": "2023-02-24T11:38:02.171Z"
   },
   {
    "duration": 246,
    "start_time": "2023-02-24T11:38:15.897Z"
   },
   {
    "duration": 201,
    "start_time": "2023-02-24T11:39:23.534Z"
   },
   {
    "duration": 171,
    "start_time": "2023-02-24T11:39:30.876Z"
   },
   {
    "duration": 10,
    "start_time": "2023-02-24T11:45:16.044Z"
   },
   {
    "duration": 3,
    "start_time": "2023-02-24T11:45:26.234Z"
   },
   {
    "duration": 8055,
    "start_time": "2023-02-24T11:45:30.626Z"
   },
   {
    "duration": 520,
    "start_time": "2023-02-24T11:46:27.879Z"
   },
   {
    "duration": 487,
    "start_time": "2023-02-24T11:59:15.987Z"
   },
   {
    "duration": 1321,
    "start_time": "2023-02-24T12:04:39.358Z"
   },
   {
    "duration": 36,
    "start_time": "2023-02-24T12:04:40.681Z"
   },
   {
    "duration": 11,
    "start_time": "2023-02-24T12:04:40.719Z"
   },
   {
    "duration": 16,
    "start_time": "2023-02-24T12:04:40.733Z"
   },
   {
    "duration": 7,
    "start_time": "2023-02-24T12:04:40.750Z"
   },
   {
    "duration": 9,
    "start_time": "2023-02-24T12:04:40.759Z"
   },
   {
    "duration": 15,
    "start_time": "2023-02-24T12:04:40.770Z"
   },
   {
    "duration": 13,
    "start_time": "2023-02-24T12:04:40.787Z"
   },
   {
    "duration": 7,
    "start_time": "2023-02-24T12:04:40.801Z"
   },
   {
    "duration": 8,
    "start_time": "2023-02-24T12:04:40.811Z"
   },
   {
    "duration": 7,
    "start_time": "2023-02-24T12:04:40.822Z"
   },
   {
    "duration": 87,
    "start_time": "2023-02-24T12:04:40.831Z"
   },
   {
    "duration": 150,
    "start_time": "2023-02-24T12:04:40.920Z"
   },
   {
    "duration": 517,
    "start_time": "2023-02-24T12:04:41.072Z"
   },
   {
    "duration": 68,
    "start_time": "2023-02-24T12:04:41.591Z"
   },
   {
    "duration": 0,
    "start_time": "2023-02-24T12:04:41.661Z"
   },
   {
    "duration": 0,
    "start_time": "2023-02-24T12:04:41.662Z"
   },
   {
    "duration": 0,
    "start_time": "2023-02-24T12:04:41.664Z"
   },
   {
    "duration": 0,
    "start_time": "2023-02-24T12:04:41.665Z"
   },
   {
    "duration": 0,
    "start_time": "2023-02-24T12:04:41.667Z"
   },
   {
    "duration": 3690,
    "start_time": "2023-02-24T12:04:52.476Z"
   },
   {
    "duration": 1587,
    "start_time": "2023-02-24T12:05:21.823Z"
   },
   {
    "duration": 1493,
    "start_time": "2023-02-24T12:05:53.123Z"
   },
   {
    "duration": 1648,
    "start_time": "2023-02-24T12:06:46.001Z"
   },
   {
    "duration": 3416,
    "start_time": "2023-02-24T12:07:16.383Z"
   },
   {
    "duration": 3928,
    "start_time": "2023-02-24T12:08:20.230Z"
   },
   {
    "duration": 3390,
    "start_time": "2023-02-24T12:09:05.907Z"
   },
   {
    "duration": 72,
    "start_time": "2023-02-24T12:11:25.295Z"
   },
   {
    "duration": 76,
    "start_time": "2023-02-24T12:11:36.746Z"
   },
   {
    "duration": 73,
    "start_time": "2023-02-24T12:11:41.592Z"
   },
   {
    "duration": 0,
    "start_time": "2023-02-24T12:13:21.371Z"
   },
   {
    "duration": 35208,
    "start_time": "2023-02-24T12:13:23.400Z"
   },
   {
    "duration": 3688,
    "start_time": "2023-02-24T12:15:54.095Z"
   },
   {
    "duration": 3563,
    "start_time": "2023-02-24T12:16:33.964Z"
   },
   {
    "duration": 157,
    "start_time": "2023-02-24T12:19:46.784Z"
   },
   {
    "duration": 179,
    "start_time": "2023-02-24T12:19:54.808Z"
   },
   {
    "duration": 22,
    "start_time": "2023-02-24T12:46:11.648Z"
   },
   {
    "duration": 74,
    "start_time": "2023-02-24T12:46:36.556Z"
   },
   {
    "duration": 1298,
    "start_time": "2023-02-24T13:08:49.419Z"
   },
   {
    "duration": 39,
    "start_time": "2023-02-24T13:08:50.719Z"
   },
   {
    "duration": 12,
    "start_time": "2023-02-24T13:08:50.760Z"
   },
   {
    "duration": 13,
    "start_time": "2023-02-24T13:08:50.774Z"
   },
   {
    "duration": 11,
    "start_time": "2023-02-24T13:08:50.789Z"
   },
   {
    "duration": 12,
    "start_time": "2023-02-24T13:08:50.801Z"
   },
   {
    "duration": 32,
    "start_time": "2023-02-24T13:08:50.815Z"
   },
   {
    "duration": 13,
    "start_time": "2023-02-24T13:08:50.848Z"
   },
   {
    "duration": 11,
    "start_time": "2023-02-24T13:08:50.863Z"
   },
   {
    "duration": 7,
    "start_time": "2023-02-24T13:08:50.877Z"
   },
   {
    "duration": 12,
    "start_time": "2023-02-24T13:08:50.886Z"
   },
   {
    "duration": 74,
    "start_time": "2023-02-24T13:08:50.899Z"
   },
   {
    "duration": 147,
    "start_time": "2023-02-24T13:08:50.975Z"
   },
   {
    "duration": 497,
    "start_time": "2023-02-24T13:08:51.124Z"
   },
   {
    "duration": 3330,
    "start_time": "2023-02-24T13:08:51.623Z"
   },
   {
    "duration": 45,
    "start_time": "2023-02-24T13:08:54.954Z"
   },
   {
    "duration": 2,
    "start_time": "2023-02-24T13:08:55.001Z"
   },
   {
    "duration": 16,
    "start_time": "2023-02-24T13:08:55.005Z"
   },
   {
    "duration": 12,
    "start_time": "2023-02-24T13:08:55.023Z"
   },
   {
    "duration": 6,
    "start_time": "2023-02-24T13:08:55.037Z"
   },
   {
    "duration": 102,
    "start_time": "2023-02-24T13:15:05.755Z"
   },
   {
    "duration": 15,
    "start_time": "2023-02-24T13:17:35.743Z"
   },
   {
    "duration": 61,
    "start_time": "2023-02-24T13:18:42.347Z"
   },
   {
    "duration": 1332,
    "start_time": "2023-02-24T17:58:12.068Z"
   },
   {
    "duration": 34,
    "start_time": "2023-02-24T17:58:13.402Z"
   },
   {
    "duration": 10,
    "start_time": "2023-02-24T17:58:13.437Z"
   },
   {
    "duration": 9,
    "start_time": "2023-02-24T17:58:13.449Z"
   },
   {
    "duration": 9,
    "start_time": "2023-02-24T17:58:13.460Z"
   },
   {
    "duration": 11,
    "start_time": "2023-02-24T17:58:13.470Z"
   },
   {
    "duration": 11,
    "start_time": "2023-02-24T17:58:13.482Z"
   },
   {
    "duration": 3,
    "start_time": "2023-02-24T17:58:13.499Z"
   },
   {
    "duration": 10,
    "start_time": "2023-02-24T17:58:13.503Z"
   },
   {
    "duration": 26,
    "start_time": "2023-02-24T17:58:13.515Z"
   },
   {
    "duration": 6,
    "start_time": "2023-02-24T17:58:13.543Z"
   },
   {
    "duration": 75,
    "start_time": "2023-02-24T17:58:13.550Z"
   },
   {
    "duration": 142,
    "start_time": "2023-02-24T17:58:13.626Z"
   },
   {
    "duration": 567,
    "start_time": "2023-02-24T17:58:13.770Z"
   },
   {
    "duration": 3360,
    "start_time": "2023-02-24T17:58:14.339Z"
   },
   {
    "duration": 42,
    "start_time": "2023-02-24T17:58:17.701Z"
   },
   {
    "duration": 3,
    "start_time": "2023-02-24T17:58:17.744Z"
   },
   {
    "duration": 72,
    "start_time": "2023-02-24T17:58:17.749Z"
   },
   {
    "duration": 12,
    "start_time": "2023-02-24T17:58:17.823Z"
   },
   {
    "duration": 14,
    "start_time": "2023-02-24T17:58:17.836Z"
   },
   {
    "duration": 118,
    "start_time": "2023-02-24T17:58:17.851Z"
   },
   {
    "duration": 3,
    "start_time": "2023-02-24T17:58:41.483Z"
   },
   {
    "duration": 10,
    "start_time": "2023-02-24T17:58:46.572Z"
   },
   {
    "duration": 10,
    "start_time": "2023-02-24T18:02:52.877Z"
   },
   {
    "duration": 7,
    "start_time": "2023-02-24T18:04:02.339Z"
   },
   {
    "duration": 7,
    "start_time": "2023-02-24T18:04:06.437Z"
   },
   {
    "duration": 6,
    "start_time": "2023-02-24T18:04:12.494Z"
   },
   {
    "duration": 8,
    "start_time": "2023-02-24T18:04:29.899Z"
   },
   {
    "duration": 6,
    "start_time": "2023-02-24T18:04:34.600Z"
   },
   {
    "duration": 7,
    "start_time": "2023-02-24T18:04:41.636Z"
   },
   {
    "duration": 7,
    "start_time": "2023-02-24T18:05:02.837Z"
   },
   {
    "duration": 6,
    "start_time": "2023-02-24T18:05:31.549Z"
   },
   {
    "duration": 7,
    "start_time": "2023-02-24T18:09:31.678Z"
   },
   {
    "duration": 8,
    "start_time": "2023-02-24T18:11:32.029Z"
   },
   {
    "duration": 1439,
    "start_time": "2023-02-24T18:26:42.764Z"
   },
   {
    "duration": 36,
    "start_time": "2023-02-24T18:26:44.205Z"
   },
   {
    "duration": 11,
    "start_time": "2023-02-24T18:26:44.242Z"
   },
   {
    "duration": 10,
    "start_time": "2023-02-24T18:26:44.255Z"
   },
   {
    "duration": 8,
    "start_time": "2023-02-24T18:26:44.266Z"
   },
   {
    "duration": 11,
    "start_time": "2023-02-24T18:26:44.276Z"
   },
   {
    "duration": 15,
    "start_time": "2023-02-24T18:26:44.288Z"
   },
   {
    "duration": 4,
    "start_time": "2023-02-24T18:26:44.304Z"
   },
   {
    "duration": 6,
    "start_time": "2023-02-24T18:26:44.310Z"
   },
   {
    "duration": 7,
    "start_time": "2023-02-24T18:26:44.319Z"
   },
   {
    "duration": 6,
    "start_time": "2023-02-24T18:26:44.328Z"
   },
   {
    "duration": 111,
    "start_time": "2023-02-24T18:26:44.336Z"
   },
   {
    "duration": 171,
    "start_time": "2023-02-24T18:26:44.448Z"
   },
   {
    "duration": 548,
    "start_time": "2023-02-24T18:26:44.621Z"
   },
   {
    "duration": 3792,
    "start_time": "2023-02-24T18:26:45.171Z"
   },
   {
    "duration": 46,
    "start_time": "2023-02-24T18:26:48.965Z"
   },
   {
    "duration": 2,
    "start_time": "2023-02-24T18:26:49.012Z"
   },
   {
    "duration": 60,
    "start_time": "2023-02-24T18:26:49.017Z"
   },
   {
    "duration": 23,
    "start_time": "2023-02-24T18:26:49.079Z"
   },
   {
    "duration": 4,
    "start_time": "2023-02-24T18:26:49.103Z"
   },
   {
    "duration": 9,
    "start_time": "2023-02-24T18:26:49.108Z"
   },
   {
    "duration": 1356,
    "start_time": "2023-02-24T18:27:03.009Z"
   },
   {
    "duration": 45,
    "start_time": "2023-02-24T18:27:04.366Z"
   },
   {
    "duration": 10,
    "start_time": "2023-02-24T18:27:04.413Z"
   },
   {
    "duration": 5,
    "start_time": "2023-02-24T18:27:04.425Z"
   },
   {
    "duration": 18,
    "start_time": "2023-02-24T18:27:04.432Z"
   },
   {
    "duration": 28,
    "start_time": "2023-02-24T18:27:04.452Z"
   },
   {
    "duration": 12,
    "start_time": "2023-02-24T18:27:04.481Z"
   },
   {
    "duration": 4,
    "start_time": "2023-02-24T18:27:04.495Z"
   },
   {
    "duration": 9,
    "start_time": "2023-02-24T18:27:04.501Z"
   },
   {
    "duration": 12,
    "start_time": "2023-02-24T18:27:04.512Z"
   },
   {
    "duration": 14,
    "start_time": "2023-02-24T18:27:04.526Z"
   },
   {
    "duration": 73,
    "start_time": "2023-02-24T18:27:04.542Z"
   },
   {
    "duration": 141,
    "start_time": "2023-02-24T18:27:04.616Z"
   },
   {
    "duration": 539,
    "start_time": "2023-02-24T18:27:04.758Z"
   },
   {
    "duration": 3488,
    "start_time": "2023-02-24T18:27:05.299Z"
   },
   {
    "duration": 29,
    "start_time": "2023-02-24T18:27:08.799Z"
   },
   {
    "duration": 3,
    "start_time": "2023-02-24T18:27:08.829Z"
   },
   {
    "duration": 44,
    "start_time": "2023-02-24T18:27:08.834Z"
   },
   {
    "duration": 24,
    "start_time": "2023-02-24T18:27:08.880Z"
   },
   {
    "duration": 7,
    "start_time": "2023-02-24T18:27:08.906Z"
   },
   {
    "duration": 8,
    "start_time": "2023-02-24T18:27:08.915Z"
   },
   {
    "duration": 181,
    "start_time": "2023-02-24T18:28:40.377Z"
   },
   {
    "duration": 43383,
    "start_time": "2023-02-24T18:30:45.899Z"
   },
   {
    "duration": 3845,
    "start_time": "2023-02-24T18:31:45.980Z"
   }
  ],
  "kernelspec": {
   "display_name": "Python 3 (ipykernel)",
   "language": "python",
   "name": "python3"
  },
  "language_info": {
   "codemirror_mode": {
    "name": "ipython",
    "version": 3
   },
   "file_extension": ".py",
   "mimetype": "text/x-python",
   "name": "python",
   "nbconvert_exporter": "python",
   "pygments_lexer": "ipython3",
   "version": "3.9.12"
  },
  "toc": {
   "base_numbering": 1,
   "nav_menu": {},
   "number_sections": true,
   "sideBar": true,
   "skip_h1_title": true,
   "title_cell": "Table of Contents",
   "title_sidebar": "Contents",
   "toc_cell": false,
   "toc_position": {},
   "toc_section_display": true,
   "toc_window_display": false
  }
 },
 "nbformat": 4,
 "nbformat_minor": 2
}
