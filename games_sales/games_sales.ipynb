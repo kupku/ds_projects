{
 "cells": [
  {
   "cell_type": "markdown",
   "metadata": {},
   "source": [
    "<a id='start'></a>"
   ]
  },
  {
   "cell_type": "markdown",
   "metadata": {},
   "source": [
    "# Исследование продаж видеоигр и выявление закономерностей, определяющих успешность этих игр"
   ]
  },
  {
   "cell_type": "markdown",
   "metadata": {},
   "source": [
    "Необходимо выявить определяющие успешность игры закономерности, что позволит сделать ставку на потенциально популярный продукт и спланировать рекламные кампании."
   ]
  },
  {
   "cell_type": "markdown",
   "metadata": {},
   "source": [
    "**Цель исследования:** Провести анализ данных продаж видеоигр для различных платформ по различным регионам, чтобы определить потенциально прибыльное направление и сформулировать рекомендации для будущих рекламных компаний."
   ]
  },
  {
   "cell_type": "markdown",
   "metadata": {},
   "source": [
    "**Задачи исследования:**\n",
    "1. Провести предварительное изучение данных.\n",
    "2. Подготовить данные: обработать дубликаты, пропущенные значений.\n",
    "3. Исследовать данные: определенить актуальный период для анализа, наиболее популярные платформы, определить от чего зависят продажи игр.\n",
    "4. Составить для кажого региона портрет типичного пользователя: описать наиболее популярные платформы, жанры и возрастной рейтинг игр.\n",
    "5. Сформулировать и проверить по итогам исследования некоторые гипотезы.\n",
    "6. Сформулировать вывод и рекомендации."
   ]
  },
  {
   "cell_type": "markdown",
   "metadata": {},
   "source": [
    "**Разделим иследование на несколько частей:**"
   ]
  },
  {
   "cell_type": "markdown",
   "metadata": {},
   "source": [
    "***1. Изучение общей информации***\n",
    "1. [Импорт библиотек и чтение файла](#libraries_reading)\n",
    "2. [Первые замечания после знакомства с данными](#first_conclusions)"
   ]
  },
  {
   "cell_type": "markdown",
   "metadata": {},
   "source": [
    "***2. Подготовка данных***\n",
    "1. [Изменение типов данных](#type)\n",
    "2. [Изучение пропусков](#gaps)\n",
    "3. [Работа с дубликатами](#duplicates)"
   ]
  },
  {
   "cell_type": "markdown",
   "metadata": {},
   "source": [
    "***3. Исследовательский анализ данных***\n",
    "1. [Количество выпущенных игр в разные года](#games_yearly)\n",
    "2. [Определение актуального периода](#actual_years)\n",
    "3. [Определение наиболее популярных платформ](#actual_platforms)\n",
    "4. [Изучение наиболее популярных платформ по годам](#popular_platforms)\n",
    "5. [Изучение влияния отзывов пользователей и критиков на продажи игр](#scores)\n",
    "6. [Определение наиболее популярных жанров](#genres)"
   ]
  },
  {
   "cell_type": "markdown",
   "metadata": {},
   "source": [
    "***4. Портрет пользователя каждого региона***\n",
    "1. [Топ-5 платформ для каждого региона по продажам игр для них](#region_platforms)\n",
    "2. [Топ-5 платформ для каждого региона по жанрам](#region_genres)\n",
    "3. [Исследование зависимости между рейтингом ESRB и продажами](#rating)"
   ]
  },
  {
   "cell_type": "markdown",
   "metadata": {},
   "source": [
    "***5. Проверка гипотез***\n",
    "1. [Первая гипотеза](#hyp_1)\n",
    "2. [Вторая гипотеза](#hyp_2)"
   ]
  },
  {
   "cell_type": "markdown",
   "metadata": {},
   "source": [
    "***6. Заключение***\n",
    "1. [Выводы](#conclusions)\n",
    "2. [Рекомендации](#recomms)"
   ]
  },
  {
   "cell_type": "markdown",
   "metadata": {},
   "source": [
    "### Открываем файл с данными и изучаем общую информацию. "
   ]
  },
  {
   "cell_type": "markdown",
   "metadata": {},
   "source": [
    "Импорт библиотек и чтение файла <a id='libraries_reading'></a>"
   ]
  },
  {
   "cell_type": "code",
   "execution_count": 1,
   "metadata": {},
   "outputs": [],
   "source": [
    "import pandas as pd\n",
    "import matplotlib.pyplot as plt\n",
    "import seaborn as sns\n",
    "from scipy import stats as st"
   ]
  },
  {
   "cell_type": "code",
   "execution_count": 2,
   "metadata": {},
   "outputs": [
    {
     "name": "stdout",
     "output_type": "stream",
     "text": [
      "<class 'pandas.core.frame.DataFrame'>\n",
      "RangeIndex: 16715 entries, 0 to 16714\n",
      "Data columns (total 11 columns):\n",
      " #   Column           Non-Null Count  Dtype  \n",
      "---  ------           --------------  -----  \n",
      " 0   Name             16713 non-null  object \n",
      " 1   Platform         16715 non-null  object \n",
      " 2   Year_of_Release  16446 non-null  float64\n",
      " 3   Genre            16713 non-null  object \n",
      " 4   NA_sales         16715 non-null  float64\n",
      " 5   EU_sales         16715 non-null  float64\n",
      " 6   JP_sales         16715 non-null  float64\n",
      " 7   Other_sales      16715 non-null  float64\n",
      " 8   Critic_Score     8137 non-null   float64\n",
      " 9   User_Score       10014 non-null  object \n",
      " 10  Rating           9949 non-null   object \n",
      "dtypes: float64(6), object(5)\n",
      "memory usage: 1.4+ MB\n"
     ]
    }
   ],
   "source": [
    "data = pd.read_csv('games.csv')\n",
    "data.info()"
   ]
  },
  {
   "cell_type": "code",
   "execution_count": 3,
   "metadata": {
    "scrolled": false
   },
   "outputs": [
    {
     "data": {
      "text/html": [
       "<div>\n",
       "<style scoped>\n",
       "    .dataframe tbody tr th:only-of-type {\n",
       "        vertical-align: middle;\n",
       "    }\n",
       "\n",
       "    .dataframe tbody tr th {\n",
       "        vertical-align: top;\n",
       "    }\n",
       "\n",
       "    .dataframe thead th {\n",
       "        text-align: right;\n",
       "    }\n",
       "</style>\n",
       "<table border=\"1\" class=\"dataframe\">\n",
       "  <thead>\n",
       "    <tr style=\"text-align: right;\">\n",
       "      <th></th>\n",
       "      <th>Name</th>\n",
       "      <th>Platform</th>\n",
       "      <th>Year_of_Release</th>\n",
       "      <th>Genre</th>\n",
       "      <th>NA_sales</th>\n",
       "      <th>EU_sales</th>\n",
       "      <th>JP_sales</th>\n",
       "      <th>Other_sales</th>\n",
       "      <th>Critic_Score</th>\n",
       "      <th>User_Score</th>\n",
       "      <th>Rating</th>\n",
       "    </tr>\n",
       "  </thead>\n",
       "  <tbody>\n",
       "    <tr>\n",
       "      <th>0</th>\n",
       "      <td>Wii Sports</td>\n",
       "      <td>Wii</td>\n",
       "      <td>2006.0</td>\n",
       "      <td>Sports</td>\n",
       "      <td>41.36</td>\n",
       "      <td>28.96</td>\n",
       "      <td>3.77</td>\n",
       "      <td>8.45</td>\n",
       "      <td>76.0</td>\n",
       "      <td>8</td>\n",
       "      <td>E</td>\n",
       "    </tr>\n",
       "    <tr>\n",
       "      <th>1</th>\n",
       "      <td>Super Mario Bros.</td>\n",
       "      <td>NES</td>\n",
       "      <td>1985.0</td>\n",
       "      <td>Platform</td>\n",
       "      <td>29.08</td>\n",
       "      <td>3.58</td>\n",
       "      <td>6.81</td>\n",
       "      <td>0.77</td>\n",
       "      <td>NaN</td>\n",
       "      <td>NaN</td>\n",
       "      <td>NaN</td>\n",
       "    </tr>\n",
       "    <tr>\n",
       "      <th>2</th>\n",
       "      <td>Mario Kart Wii</td>\n",
       "      <td>Wii</td>\n",
       "      <td>2008.0</td>\n",
       "      <td>Racing</td>\n",
       "      <td>15.68</td>\n",
       "      <td>12.76</td>\n",
       "      <td>3.79</td>\n",
       "      <td>3.29</td>\n",
       "      <td>82.0</td>\n",
       "      <td>8.3</td>\n",
       "      <td>E</td>\n",
       "    </tr>\n",
       "    <tr>\n",
       "      <th>3</th>\n",
       "      <td>Wii Sports Resort</td>\n",
       "      <td>Wii</td>\n",
       "      <td>2009.0</td>\n",
       "      <td>Sports</td>\n",
       "      <td>15.61</td>\n",
       "      <td>10.93</td>\n",
       "      <td>3.28</td>\n",
       "      <td>2.95</td>\n",
       "      <td>80.0</td>\n",
       "      <td>8</td>\n",
       "      <td>E</td>\n",
       "    </tr>\n",
       "    <tr>\n",
       "      <th>4</th>\n",
       "      <td>Pokemon Red/Pokemon Blue</td>\n",
       "      <td>GB</td>\n",
       "      <td>1996.0</td>\n",
       "      <td>Role-Playing</td>\n",
       "      <td>11.27</td>\n",
       "      <td>8.89</td>\n",
       "      <td>10.22</td>\n",
       "      <td>1.00</td>\n",
       "      <td>NaN</td>\n",
       "      <td>NaN</td>\n",
       "      <td>NaN</td>\n",
       "    </tr>\n",
       "    <tr>\n",
       "      <th>5</th>\n",
       "      <td>Tetris</td>\n",
       "      <td>GB</td>\n",
       "      <td>1989.0</td>\n",
       "      <td>Puzzle</td>\n",
       "      <td>23.20</td>\n",
       "      <td>2.26</td>\n",
       "      <td>4.22</td>\n",
       "      <td>0.58</td>\n",
       "      <td>NaN</td>\n",
       "      <td>NaN</td>\n",
       "      <td>NaN</td>\n",
       "    </tr>\n",
       "    <tr>\n",
       "      <th>6</th>\n",
       "      <td>New Super Mario Bros.</td>\n",
       "      <td>DS</td>\n",
       "      <td>2006.0</td>\n",
       "      <td>Platform</td>\n",
       "      <td>11.28</td>\n",
       "      <td>9.14</td>\n",
       "      <td>6.50</td>\n",
       "      <td>2.88</td>\n",
       "      <td>89.0</td>\n",
       "      <td>8.5</td>\n",
       "      <td>E</td>\n",
       "    </tr>\n",
       "    <tr>\n",
       "      <th>7</th>\n",
       "      <td>Wii Play</td>\n",
       "      <td>Wii</td>\n",
       "      <td>2006.0</td>\n",
       "      <td>Misc</td>\n",
       "      <td>13.96</td>\n",
       "      <td>9.18</td>\n",
       "      <td>2.93</td>\n",
       "      <td>2.84</td>\n",
       "      <td>58.0</td>\n",
       "      <td>6.6</td>\n",
       "      <td>E</td>\n",
       "    </tr>\n",
       "    <tr>\n",
       "      <th>8</th>\n",
       "      <td>New Super Mario Bros. Wii</td>\n",
       "      <td>Wii</td>\n",
       "      <td>2009.0</td>\n",
       "      <td>Platform</td>\n",
       "      <td>14.44</td>\n",
       "      <td>6.94</td>\n",
       "      <td>4.70</td>\n",
       "      <td>2.24</td>\n",
       "      <td>87.0</td>\n",
       "      <td>8.4</td>\n",
       "      <td>E</td>\n",
       "    </tr>\n",
       "    <tr>\n",
       "      <th>9</th>\n",
       "      <td>Duck Hunt</td>\n",
       "      <td>NES</td>\n",
       "      <td>1984.0</td>\n",
       "      <td>Shooter</td>\n",
       "      <td>26.93</td>\n",
       "      <td>0.63</td>\n",
       "      <td>0.28</td>\n",
       "      <td>0.47</td>\n",
       "      <td>NaN</td>\n",
       "      <td>NaN</td>\n",
       "      <td>NaN</td>\n",
       "    </tr>\n",
       "  </tbody>\n",
       "</table>\n",
       "</div>"
      ],
      "text/plain": [
       "                        Name Platform  Year_of_Release         Genre  \\\n",
       "0                 Wii Sports      Wii           2006.0        Sports   \n",
       "1          Super Mario Bros.      NES           1985.0      Platform   \n",
       "2             Mario Kart Wii      Wii           2008.0        Racing   \n",
       "3          Wii Sports Resort      Wii           2009.0        Sports   \n",
       "4   Pokemon Red/Pokemon Blue       GB           1996.0  Role-Playing   \n",
       "5                     Tetris       GB           1989.0        Puzzle   \n",
       "6      New Super Mario Bros.       DS           2006.0      Platform   \n",
       "7                   Wii Play      Wii           2006.0          Misc   \n",
       "8  New Super Mario Bros. Wii      Wii           2009.0      Platform   \n",
       "9                  Duck Hunt      NES           1984.0       Shooter   \n",
       "\n",
       "   NA_sales  EU_sales  JP_sales  Other_sales  Critic_Score User_Score Rating  \n",
       "0     41.36     28.96      3.77         8.45          76.0          8      E  \n",
       "1     29.08      3.58      6.81         0.77           NaN        NaN    NaN  \n",
       "2     15.68     12.76      3.79         3.29          82.0        8.3      E  \n",
       "3     15.61     10.93      3.28         2.95          80.0          8      E  \n",
       "4     11.27      8.89     10.22         1.00           NaN        NaN    NaN  \n",
       "5     23.20      2.26      4.22         0.58           NaN        NaN    NaN  \n",
       "6     11.28      9.14      6.50         2.88          89.0        8.5      E  \n",
       "7     13.96      9.18      2.93         2.84          58.0        6.6      E  \n",
       "8     14.44      6.94      4.70         2.24          87.0        8.4      E  \n",
       "9     26.93      0.63      0.28         0.47           NaN        NaN    NaN  "
      ]
     },
     "execution_count": 3,
     "metadata": {},
     "output_type": "execute_result"
    }
   ],
   "source": [
    "data.head(10)"
   ]
  },
  {
   "cell_type": "markdown",
   "metadata": {},
   "source": [
    "Приведем названия столбцов к нижнему регистру"
   ]
  },
  {
   "cell_type": "code",
   "execution_count": 4,
   "metadata": {},
   "outputs": [
    {
     "name": "stdout",
     "output_type": "stream",
     "text": [
      "<class 'pandas.core.frame.DataFrame'>\n",
      "RangeIndex: 16715 entries, 0 to 16714\n",
      "Data columns (total 11 columns):\n",
      " #   Column           Non-Null Count  Dtype  \n",
      "---  ------           --------------  -----  \n",
      " 0   name             16713 non-null  object \n",
      " 1   platform         16715 non-null  object \n",
      " 2   year_of_release  16446 non-null  float64\n",
      " 3   genre            16713 non-null  object \n",
      " 4   na_sales         16715 non-null  float64\n",
      " 5   eu_sales         16715 non-null  float64\n",
      " 6   jp_sales         16715 non-null  float64\n",
      " 7   other_sales      16715 non-null  float64\n",
      " 8   critic_score     8137 non-null   float64\n",
      " 9   user_score       10014 non-null  object \n",
      " 10  rating           9949 non-null   object \n",
      "dtypes: float64(6), object(5)\n",
      "memory usage: 1.4+ MB\n"
     ]
    }
   ],
   "source": [
    "data.columns = data.columns.str.lower()\n",
    "data.info()"
   ]
  },
  {
   "cell_type": "code",
   "execution_count": 5,
   "metadata": {},
   "outputs": [
    {
     "data": {
      "text/plain": [
       "array([[<AxesSubplot:title={'center':'year_of_release'}>,\n",
       "        <AxesSubplot:title={'center':'na_sales'}>],\n",
       "       [<AxesSubplot:title={'center':'eu_sales'}>,\n",
       "        <AxesSubplot:title={'center':'jp_sales'}>],\n",
       "       [<AxesSubplot:title={'center':'other_sales'}>,\n",
       "        <AxesSubplot:title={'center':'critic_score'}>]], dtype=object)"
      ]
     },
     "execution_count": 5,
     "metadata": {},
     "output_type": "execute_result"
    },
    {
     "data": {
      "image/png": "[encoded data removed]",
      "text/plain": [
       "<Figure size 1080x1440 with 6 Axes>"
      ]
     },
     "metadata": {
      "needs_background": "light"
     },
     "output_type": "display_data"
    }
   ],
   "source": [
    "data.hist(figsize=(15, 20))"
   ]
  },
  {
   "cell_type": "markdown",
   "metadata": {},
   "source": [
    "Некоторые замечания после первичного знакомства с данными:<br><br> <a id='first_conclusions'></a>\n",
    "Столбец name:<br>\n",
    "Пропусков почти нет, тип данных подходящий<br><br>\n",
    "Столбец platform:<br>\n",
    "Пропусков нет, тип данных подходящий<br><br>\n",
    "Столбец year_of_release:<br>\n",
    "Есть незначительное количество пропусков, тип данных следовало бы поменять на int<br><br>\n",
    "Столбец na_sales:<br>\n",
    "Пропусков нет, тип данных подходящий<br><br>\n",
    "Столбец eu_sales:<br>\n",
    "Пропусков нет, тип данных подходящий<br><br>\n",
    "Столбец jp_sales:<br>\n",
    "Пропусков нет, тип данных подходящий<br><br>\n",
    "Столбец other_sales:<br>\n",
    "Пропусков нет, тип данных подходящий<br><br>\n",
    "Столбец critic_score:<br>\n",
    "Отсутствует около половины данных, тип данных подходящий<br><br>\n",
    "Столбец user_score:<br>\n",
    "Значительное количество данных пропущено, тип следует поменять на float<br><br>\n",
    "Столбец rating:<br>\n",
    "Значительное количество данных пропущено, тип данных подходящий"
   ]
  },
  {
   "cell_type": "markdown",
   "metadata": {},
   "source": [
    "### Подготовка данных"
   ]
  },
  {
   "cell_type": "markdown",
   "metadata": {},
   "source": [
    "Столбец \"year_of_release\""
   ]
  },
  {
   "cell_type": "code",
   "execution_count": 6,
   "metadata": {
    "scrolled": true
   },
   "outputs": [
    {
     "data": {
      "text/plain": [
       "array([1980., 1981., 1982., 1983., 1984., 1985., 1986., 1987., 1988.,\n",
       "       1989., 1990., 1991., 1992., 1993., 1994., 1995., 1996., 1997.,\n",
       "       1998., 1999., 2000., 2001., 2002., 2003., 2004., 2005., 2006.,\n",
       "       2007., 2008., 2009., 2010., 2011., 2012., 2013., 2014., 2015.,\n",
       "       2016.,   nan])"
      ]
     },
     "execution_count": 6,
     "metadata": {},
     "output_type": "execute_result"
    }
   ],
   "source": [
    "data['year_of_release'].sort_values().unique()"
   ]
  },
  {
   "cell_type": "markdown",
   "metadata": {},
   "source": [
    "В столбце \"year_of_release\" нецелочисленные значения отсутствуют, можно оставить тип float, чтобы не менять NaN на ноль, что может повлиять на исследование"
   ]
  },
  {
   "cell_type": "markdown",
   "metadata": {},
   "source": [
    "Столбец \"user_score\""
   ]
  },
  {
   "cell_type": "code",
   "execution_count": 7,
   "metadata": {
    "scrolled": true
   },
   "outputs": [
    {
     "data": {
      "text/plain": [
       "array(['0', '0.2', '0.3', '0.5', '0.6', '0.7', '0.9', '1', '1.1', '1.2',\n",
       "       '1.3', '1.4', '1.5', '1.6', '1.7', '1.8', '1.9', '2', '2.1', '2.2',\n",
       "       '2.3', '2.4', '2.5', '2.6', '2.7', '2.8', '2.9', '3', '3.1', '3.2',\n",
       "       '3.3', '3.4', '3.5', '3.6', '3.7', '3.8', '3.9', '4', '4.1', '4.2',\n",
       "       '4.3', '4.4', '4.5', '4.6', '4.7', '4.8', '4.9', '5', '5.1', '5.2',\n",
       "       '5.3', '5.4', '5.5', '5.6', '5.7', '5.8', '5.9', '6', '6.1', '6.2',\n",
       "       '6.3', '6.4', '6.5', '6.6', '6.7', '6.8', '6.9', '7', '7.1', '7.2',\n",
       "       '7.3', '7.4', '7.5', '7.6', '7.7', '7.8', '7.9', '8', '8.1', '8.2',\n",
       "       '8.3', '8.4', '8.5', '8.6', '8.7', '8.8', '8.9', '9', '9.1', '9.2',\n",
       "       '9.3', '9.4', '9.5', '9.6', '9.7', 'tbd', nan], dtype=object)"
      ]
     },
     "execution_count": 7,
     "metadata": {},
     "output_type": "execute_result"
    }
   ],
   "source": [
    "data['user_score'].sort_values().unique()"
   ]
  },
  {
   "cell_type": "markdown",
   "metadata": {},
   "source": [
    "Тип данных стоит перевести в числовой формат. Исключение - значение \"tbd\", следует разобраться что оно значит. <a id='type'></a>"
   ]
  },
  {
   "cell_type": "code",
   "execution_count": 8,
   "metadata": {
    "scrolled": false
   },
   "outputs": [
    {
     "data": {
      "text/html": [
       "<div>\n",
       "<style scoped>\n",
       "    .dataframe tbody tr th:only-of-type {\n",
       "        vertical-align: middle;\n",
       "    }\n",
       "\n",
       "    .dataframe tbody tr th {\n",
       "        vertical-align: top;\n",
       "    }\n",
       "\n",
       "    .dataframe thead th {\n",
       "        text-align: right;\n",
       "    }\n",
       "</style>\n",
       "<table border=\"1\" class=\"dataframe\">\n",
       "  <thead>\n",
       "    <tr style=\"text-align: right;\">\n",
       "      <th></th>\n",
       "      <th>name</th>\n",
       "      <th>platform</th>\n",
       "      <th>year_of_release</th>\n",
       "      <th>genre</th>\n",
       "      <th>na_sales</th>\n",
       "      <th>eu_sales</th>\n",
       "      <th>jp_sales</th>\n",
       "      <th>other_sales</th>\n",
       "      <th>critic_score</th>\n",
       "      <th>user_score</th>\n",
       "      <th>rating</th>\n",
       "    </tr>\n",
       "  </thead>\n",
       "  <tbody>\n",
       "    <tr>\n",
       "      <th>119</th>\n",
       "      <td>Zumba Fitness</td>\n",
       "      <td>Wii</td>\n",
       "      <td>2010.0</td>\n",
       "      <td>Sports</td>\n",
       "      <td>3.45</td>\n",
       "      <td>2.59</td>\n",
       "      <td>0.00</td>\n",
       "      <td>0.66</td>\n",
       "      <td>NaN</td>\n",
       "      <td>tbd</td>\n",
       "      <td>E</td>\n",
       "    </tr>\n",
       "    <tr>\n",
       "      <th>657</th>\n",
       "      <td>Frogger's Adventures: Temple of the Frog</td>\n",
       "      <td>GBA</td>\n",
       "      <td>NaN</td>\n",
       "      <td>Adventure</td>\n",
       "      <td>2.15</td>\n",
       "      <td>0.18</td>\n",
       "      <td>0.00</td>\n",
       "      <td>0.07</td>\n",
       "      <td>73.0</td>\n",
       "      <td>tbd</td>\n",
       "      <td>E</td>\n",
       "    </tr>\n",
       "    <tr>\n",
       "      <th>301</th>\n",
       "      <td>Namco Museum: 50th Anniversary</td>\n",
       "      <td>PS2</td>\n",
       "      <td>2005.0</td>\n",
       "      <td>Misc</td>\n",
       "      <td>2.08</td>\n",
       "      <td>1.35</td>\n",
       "      <td>0.00</td>\n",
       "      <td>0.54</td>\n",
       "      <td>61.0</td>\n",
       "      <td>tbd</td>\n",
       "      <td>E10+</td>\n",
       "    </tr>\n",
       "    <tr>\n",
       "      <th>881</th>\n",
       "      <td>Who wants to be a millionaire</td>\n",
       "      <td>PC</td>\n",
       "      <td>1999.0</td>\n",
       "      <td>Misc</td>\n",
       "      <td>1.94</td>\n",
       "      <td>0.00</td>\n",
       "      <td>0.00</td>\n",
       "      <td>0.00</td>\n",
       "      <td>NaN</td>\n",
       "      <td>tbd</td>\n",
       "      <td>E</td>\n",
       "    </tr>\n",
       "    <tr>\n",
       "      <th>645</th>\n",
       "      <td>uDraw Studio</td>\n",
       "      <td>Wii</td>\n",
       "      <td>2010.0</td>\n",
       "      <td>Misc</td>\n",
       "      <td>1.65</td>\n",
       "      <td>0.57</td>\n",
       "      <td>0.00</td>\n",
       "      <td>0.20</td>\n",
       "      <td>71.0</td>\n",
       "      <td>tbd</td>\n",
       "      <td>E</td>\n",
       "    </tr>\n",
       "    <tr>\n",
       "      <th>...</th>\n",
       "      <td>...</td>\n",
       "      <td>...</td>\n",
       "      <td>...</td>\n",
       "      <td>...</td>\n",
       "      <td>...</td>\n",
       "      <td>...</td>\n",
       "      <td>...</td>\n",
       "      <td>...</td>\n",
       "      <td>...</td>\n",
       "      <td>...</td>\n",
       "      <td>...</td>\n",
       "    </tr>\n",
       "    <tr>\n",
       "      <th>15528</th>\n",
       "      <td>Littlest Pet Shop</td>\n",
       "      <td>PC</td>\n",
       "      <td>2008.0</td>\n",
       "      <td>Simulation</td>\n",
       "      <td>0.00</td>\n",
       "      <td>0.02</td>\n",
       "      <td>0.00</td>\n",
       "      <td>0.00</td>\n",
       "      <td>NaN</td>\n",
       "      <td>tbd</td>\n",
       "      <td>E</td>\n",
       "    </tr>\n",
       "    <tr>\n",
       "      <th>10912</th>\n",
       "      <td>Angry Birds: Rio</td>\n",
       "      <td>PC</td>\n",
       "      <td>2011.0</td>\n",
       "      <td>Puzzle</td>\n",
       "      <td>0.00</td>\n",
       "      <td>0.07</td>\n",
       "      <td>0.00</td>\n",
       "      <td>0.02</td>\n",
       "      <td>NaN</td>\n",
       "      <td>tbd</td>\n",
       "      <td>E</td>\n",
       "    </tr>\n",
       "    <tr>\n",
       "      <th>10812</th>\n",
       "      <td>Bejeweled Twist</td>\n",
       "      <td>DS</td>\n",
       "      <td>2010.0</td>\n",
       "      <td>Puzzle</td>\n",
       "      <td>0.00</td>\n",
       "      <td>0.08</td>\n",
       "      <td>0.00</td>\n",
       "      <td>0.01</td>\n",
       "      <td>77.0</td>\n",
       "      <td>tbd</td>\n",
       "      <td>E</td>\n",
       "    </tr>\n",
       "    <tr>\n",
       "      <th>13862</th>\n",
       "      <td>Valhalla Knights 2: Battle Stance</td>\n",
       "      <td>PSP</td>\n",
       "      <td>2009.0</td>\n",
       "      <td>Role-Playing</td>\n",
       "      <td>0.00</td>\n",
       "      <td>0.00</td>\n",
       "      <td>0.04</td>\n",
       "      <td>0.00</td>\n",
       "      <td>NaN</td>\n",
       "      <td>tbd</td>\n",
       "      <td>E10+</td>\n",
       "    </tr>\n",
       "    <tr>\n",
       "      <th>13782</th>\n",
       "      <td>Monster High: New Ghoul in School</td>\n",
       "      <td>PS3</td>\n",
       "      <td>2015.0</td>\n",
       "      <td>Action</td>\n",
       "      <td>0.00</td>\n",
       "      <td>0.03</td>\n",
       "      <td>0.00</td>\n",
       "      <td>0.01</td>\n",
       "      <td>NaN</td>\n",
       "      <td>tbd</td>\n",
       "      <td>E</td>\n",
       "    </tr>\n",
       "  </tbody>\n",
       "</table>\n",
       "<p>2424 rows × 11 columns</p>\n",
       "</div>"
      ],
      "text/plain": [
       "                                           name platform  year_of_release  \\\n",
       "119                               Zumba Fitness      Wii           2010.0   \n",
       "657    Frogger's Adventures: Temple of the Frog      GBA              NaN   \n",
       "301              Namco Museum: 50th Anniversary      PS2           2005.0   \n",
       "881               Who wants to be a millionaire       PC           1999.0   \n",
       "645                                uDraw Studio      Wii           2010.0   \n",
       "...                                         ...      ...              ...   \n",
       "15528                         Littlest Pet Shop       PC           2008.0   \n",
       "10912                          Angry Birds: Rio       PC           2011.0   \n",
       "10812                           Bejeweled Twist       DS           2010.0   \n",
       "13862         Valhalla Knights 2: Battle Stance      PSP           2009.0   \n",
       "13782         Monster High: New Ghoul in School      PS3           2015.0   \n",
       "\n",
       "              genre  na_sales  eu_sales  jp_sales  other_sales  critic_score  \\\n",
       "119          Sports      3.45      2.59      0.00         0.66           NaN   \n",
       "657       Adventure      2.15      0.18      0.00         0.07          73.0   \n",
       "301            Misc      2.08      1.35      0.00         0.54          61.0   \n",
       "881            Misc      1.94      0.00      0.00         0.00           NaN   \n",
       "645            Misc      1.65      0.57      0.00         0.20          71.0   \n",
       "...             ...       ...       ...       ...          ...           ...   \n",
       "15528    Simulation      0.00      0.02      0.00         0.00           NaN   \n",
       "10912        Puzzle      0.00      0.07      0.00         0.02           NaN   \n",
       "10812        Puzzle      0.00      0.08      0.00         0.01          77.0   \n",
       "13862  Role-Playing      0.00      0.00      0.04         0.00           NaN   \n",
       "13782        Action      0.00      0.03      0.00         0.01           NaN   \n",
       "\n",
       "      user_score rating  \n",
       "119          tbd      E  \n",
       "657          tbd      E  \n",
       "301          tbd   E10+  \n",
       "881          tbd      E  \n",
       "645          tbd      E  \n",
       "...          ...    ...  \n",
       "15528        tbd      E  \n",
       "10912        tbd      E  \n",
       "10812        tbd      E  \n",
       "13862        tbd   E10+  \n",
       "13782        tbd      E  \n",
       "\n",
       "[2424 rows x 11 columns]"
      ]
     },
     "execution_count": 8,
     "metadata": {},
     "output_type": "execute_result"
    }
   ],
   "source": [
    "data.query('user_score == \"tbd\"').sort_values(by='na_sales', ascending=False)"
   ]
  },
  {
   "cell_type": "markdown",
   "metadata": {},
   "source": [
    "Судя по информации из интернета и данным датафрейма, \"tdb\" значит \"To Be Determined\", что в данном контексте может означать, что продаж игр недостаточно, чтобы определить адекватную оценку пользователей. Выведенные данные отсортированы по продажам в Северной Америке, так как обычно этот регион самый показательный с самыми большими продажами. Ввиду непопулярности этих игр, заменим значение \"tbd\" на NaN. Остальные значения переведем в числовой формат для дальнейшей работы."
   ]
  },
  {
   "cell_type": "code",
   "execution_count": 9,
   "metadata": {
    "scrolled": true
   },
   "outputs": [
    {
     "data": {
      "text/plain": [
       "array([0. , 0.2, 0.3, 0.5, 0.6, 0.7, 0.9, 1. , 1.1, 1.2, 1.3, 1.4, 1.5,\n",
       "       1.6, 1.7, 1.8, 1.9, 2. , 2.1, 2.2, 2.3, 2.4, 2.5, 2.6, 2.7, 2.8,\n",
       "       2.9, 3. , 3.1, 3.2, 3.3, 3.4, 3.5, 3.6, 3.7, 3.8, 3.9, 4. , 4.1,\n",
       "       4.2, 4.3, 4.4, 4.5, 4.6, 4.7, 4.8, 4.9, 5. , 5.1, 5.2, 5.3, 5.4,\n",
       "       5.5, 5.6, 5.7, 5.8, 5.9, 6. , 6.1, 6.2, 6.3, 6.4, 6.5, 6.6, 6.7,\n",
       "       6.8, 6.9, 7. , 7.1, 7.2, 7.3, 7.4, 7.5, 7.6, 7.7, 7.8, 7.9, 8. ,\n",
       "       8.1, 8.2, 8.3, 8.4, 8.5, 8.6, 8.7, 8.8, 8.9, 9. , 9.1, 9.2, 9.3,\n",
       "       9.4, 9.5, 9.6, 9.7, nan])"
      ]
     },
     "execution_count": 9,
     "metadata": {},
     "output_type": "execute_result"
    }
   ],
   "source": [
    "data['user_score'] = pd.to_numeric(data['user_score'], errors='coerce')\n",
    "data['user_score'].sort_values().unique()"
   ]
  },
  {
   "cell_type": "markdown",
   "metadata": {},
   "source": [
    "<a id='gaps'></a>\n",
    "Пропуски в столбцах могут быть вызваны ошибками в автоматическом сборе данных, либо человеческим фактором.<br> \n",
    "В столбцах с оценкой критиков и пользователей пропуски могут быть связаны с непопулярностью игр, либо с большим возрастом игры. Пропуски в столбце с рейтингом по возрастным категориям могут быть связаны с тем, что в игре нет неприемлимых материалов и она подходит \"для всех\". Изучим этот вопрос."
   ]
  },
  {
   "cell_type": "code",
   "execution_count": 10,
   "metadata": {
    "scrolled": false
   },
   "outputs": [
    {
     "data": {
      "text/html": [
       "<div>\n",
       "<style scoped>\n",
       "    .dataframe tbody tr th:only-of-type {\n",
       "        vertical-align: middle;\n",
       "    }\n",
       "\n",
       "    .dataframe tbody tr th {\n",
       "        vertical-align: top;\n",
       "    }\n",
       "\n",
       "    .dataframe thead th {\n",
       "        text-align: right;\n",
       "    }\n",
       "</style>\n",
       "<table border=\"1\" class=\"dataframe\">\n",
       "  <thead>\n",
       "    <tr style=\"text-align: right;\">\n",
       "      <th></th>\n",
       "      <th>name</th>\n",
       "      <th>platform</th>\n",
       "      <th>year_of_release</th>\n",
       "      <th>genre</th>\n",
       "      <th>na_sales</th>\n",
       "      <th>eu_sales</th>\n",
       "      <th>jp_sales</th>\n",
       "      <th>other_sales</th>\n",
       "      <th>critic_score</th>\n",
       "      <th>user_score</th>\n",
       "      <th>rating</th>\n",
       "    </tr>\n",
       "  </thead>\n",
       "  <tbody>\n",
       "    <tr>\n",
       "      <th>1</th>\n",
       "      <td>Super Mario Bros.</td>\n",
       "      <td>NES</td>\n",
       "      <td>1985.0</td>\n",
       "      <td>Platform</td>\n",
       "      <td>29.08</td>\n",
       "      <td>3.58</td>\n",
       "      <td>6.81</td>\n",
       "      <td>0.77</td>\n",
       "      <td>NaN</td>\n",
       "      <td>NaN</td>\n",
       "      <td>NaN</td>\n",
       "    </tr>\n",
       "    <tr>\n",
       "      <th>4</th>\n",
       "      <td>Pokemon Red/Pokemon Blue</td>\n",
       "      <td>GB</td>\n",
       "      <td>1996.0</td>\n",
       "      <td>Role-Playing</td>\n",
       "      <td>11.27</td>\n",
       "      <td>8.89</td>\n",
       "      <td>10.22</td>\n",
       "      <td>1.00</td>\n",
       "      <td>NaN</td>\n",
       "      <td>NaN</td>\n",
       "      <td>NaN</td>\n",
       "    </tr>\n",
       "    <tr>\n",
       "      <th>5</th>\n",
       "      <td>Tetris</td>\n",
       "      <td>GB</td>\n",
       "      <td>1989.0</td>\n",
       "      <td>Puzzle</td>\n",
       "      <td>23.20</td>\n",
       "      <td>2.26</td>\n",
       "      <td>4.22</td>\n",
       "      <td>0.58</td>\n",
       "      <td>NaN</td>\n",
       "      <td>NaN</td>\n",
       "      <td>NaN</td>\n",
       "    </tr>\n",
       "    <tr>\n",
       "      <th>9</th>\n",
       "      <td>Duck Hunt</td>\n",
       "      <td>NES</td>\n",
       "      <td>1984.0</td>\n",
       "      <td>Shooter</td>\n",
       "      <td>26.93</td>\n",
       "      <td>0.63</td>\n",
       "      <td>0.28</td>\n",
       "      <td>0.47</td>\n",
       "      <td>NaN</td>\n",
       "      <td>NaN</td>\n",
       "      <td>NaN</td>\n",
       "    </tr>\n",
       "    <tr>\n",
       "      <th>10</th>\n",
       "      <td>Nintendogs</td>\n",
       "      <td>DS</td>\n",
       "      <td>2005.0</td>\n",
       "      <td>Simulation</td>\n",
       "      <td>9.05</td>\n",
       "      <td>10.95</td>\n",
       "      <td>1.93</td>\n",
       "      <td>2.74</td>\n",
       "      <td>NaN</td>\n",
       "      <td>NaN</td>\n",
       "      <td>NaN</td>\n",
       "    </tr>\n",
       "    <tr>\n",
       "      <th>...</th>\n",
       "      <td>...</td>\n",
       "      <td>...</td>\n",
       "      <td>...</td>\n",
       "      <td>...</td>\n",
       "      <td>...</td>\n",
       "      <td>...</td>\n",
       "      <td>...</td>\n",
       "      <td>...</td>\n",
       "      <td>...</td>\n",
       "      <td>...</td>\n",
       "      <td>...</td>\n",
       "    </tr>\n",
       "    <tr>\n",
       "      <th>16710</th>\n",
       "      <td>Samurai Warriors: Sanada Maru</td>\n",
       "      <td>PS3</td>\n",
       "      <td>2016.0</td>\n",
       "      <td>Action</td>\n",
       "      <td>0.00</td>\n",
       "      <td>0.00</td>\n",
       "      <td>0.01</td>\n",
       "      <td>0.00</td>\n",
       "      <td>NaN</td>\n",
       "      <td>NaN</td>\n",
       "      <td>NaN</td>\n",
       "    </tr>\n",
       "    <tr>\n",
       "      <th>16711</th>\n",
       "      <td>LMA Manager 2007</td>\n",
       "      <td>X360</td>\n",
       "      <td>2006.0</td>\n",
       "      <td>Sports</td>\n",
       "      <td>0.00</td>\n",
       "      <td>0.01</td>\n",
       "      <td>0.00</td>\n",
       "      <td>0.00</td>\n",
       "      <td>NaN</td>\n",
       "      <td>NaN</td>\n",
       "      <td>NaN</td>\n",
       "    </tr>\n",
       "    <tr>\n",
       "      <th>16712</th>\n",
       "      <td>Haitaka no Psychedelica</td>\n",
       "      <td>PSV</td>\n",
       "      <td>2016.0</td>\n",
       "      <td>Adventure</td>\n",
       "      <td>0.00</td>\n",
       "      <td>0.00</td>\n",
       "      <td>0.01</td>\n",
       "      <td>0.00</td>\n",
       "      <td>NaN</td>\n",
       "      <td>NaN</td>\n",
       "      <td>NaN</td>\n",
       "    </tr>\n",
       "    <tr>\n",
       "      <th>16713</th>\n",
       "      <td>Spirits &amp; Spells</td>\n",
       "      <td>GBA</td>\n",
       "      <td>2003.0</td>\n",
       "      <td>Platform</td>\n",
       "      <td>0.01</td>\n",
       "      <td>0.00</td>\n",
       "      <td>0.00</td>\n",
       "      <td>0.00</td>\n",
       "      <td>NaN</td>\n",
       "      <td>NaN</td>\n",
       "      <td>NaN</td>\n",
       "    </tr>\n",
       "    <tr>\n",
       "      <th>16714</th>\n",
       "      <td>Winning Post 8 2016</td>\n",
       "      <td>PSV</td>\n",
       "      <td>2016.0</td>\n",
       "      <td>Simulation</td>\n",
       "      <td>0.00</td>\n",
       "      <td>0.00</td>\n",
       "      <td>0.01</td>\n",
       "      <td>0.00</td>\n",
       "      <td>NaN</td>\n",
       "      <td>NaN</td>\n",
       "      <td>NaN</td>\n",
       "    </tr>\n",
       "  </tbody>\n",
       "</table>\n",
       "<p>9125 rows × 11 columns</p>\n",
       "</div>"
      ],
      "text/plain": [
       "                                name platform  year_of_release         genre  \\\n",
       "1                  Super Mario Bros.      NES           1985.0      Platform   \n",
       "4           Pokemon Red/Pokemon Blue       GB           1996.0  Role-Playing   \n",
       "5                             Tetris       GB           1989.0        Puzzle   \n",
       "9                          Duck Hunt      NES           1984.0       Shooter   \n",
       "10                        Nintendogs       DS           2005.0    Simulation   \n",
       "...                              ...      ...              ...           ...   \n",
       "16710  Samurai Warriors: Sanada Maru      PS3           2016.0        Action   \n",
       "16711               LMA Manager 2007     X360           2006.0        Sports   \n",
       "16712        Haitaka no Psychedelica      PSV           2016.0     Adventure   \n",
       "16713               Spirits & Spells      GBA           2003.0      Platform   \n",
       "16714            Winning Post 8 2016      PSV           2016.0    Simulation   \n",
       "\n",
       "       na_sales  eu_sales  jp_sales  other_sales  critic_score  user_score  \\\n",
       "1         29.08      3.58      6.81         0.77           NaN         NaN   \n",
       "4         11.27      8.89     10.22         1.00           NaN         NaN   \n",
       "5         23.20      2.26      4.22         0.58           NaN         NaN   \n",
       "9         26.93      0.63      0.28         0.47           NaN         NaN   \n",
       "10         9.05     10.95      1.93         2.74           NaN         NaN   \n",
       "...         ...       ...       ...          ...           ...         ...   \n",
       "16710      0.00      0.00      0.01         0.00           NaN         NaN   \n",
       "16711      0.00      0.01      0.00         0.00           NaN         NaN   \n",
       "16712      0.00      0.00      0.01         0.00           NaN         NaN   \n",
       "16713      0.01      0.00      0.00         0.00           NaN         NaN   \n",
       "16714      0.00      0.00      0.01         0.00           NaN         NaN   \n",
       "\n",
       "      rating  \n",
       "1        NaN  \n",
       "4        NaN  \n",
       "5        NaN  \n",
       "9        NaN  \n",
       "10       NaN  \n",
       "...      ...  \n",
       "16710    NaN  \n",
       "16711    NaN  \n",
       "16712    NaN  \n",
       "16713    NaN  \n",
       "16714    NaN  \n",
       "\n",
       "[9125 rows x 11 columns]"
      ]
     },
     "execution_count": 10,
     "metadata": {},
     "output_type": "execute_result"
    }
   ],
   "source": [
    "data[data['user_score'].isna()]"
   ]
  },
  {
   "cell_type": "code",
   "execution_count": 11,
   "metadata": {},
   "outputs": [
    {
     "data": {
      "text/html": [
       "<div>\n",
       "<style scoped>\n",
       "    .dataframe tbody tr th:only-of-type {\n",
       "        vertical-align: middle;\n",
       "    }\n",
       "\n",
       "    .dataframe tbody tr th {\n",
       "        vertical-align: top;\n",
       "    }\n",
       "\n",
       "    .dataframe thead th {\n",
       "        text-align: right;\n",
       "    }\n",
       "</style>\n",
       "<table border=\"1\" class=\"dataframe\">\n",
       "  <thead>\n",
       "    <tr style=\"text-align: right;\">\n",
       "      <th></th>\n",
       "      <th>name</th>\n",
       "      <th>platform</th>\n",
       "      <th>year_of_release</th>\n",
       "      <th>genre</th>\n",
       "      <th>na_sales</th>\n",
       "      <th>eu_sales</th>\n",
       "      <th>jp_sales</th>\n",
       "      <th>other_sales</th>\n",
       "      <th>critic_score</th>\n",
       "      <th>user_score</th>\n",
       "      <th>rating</th>\n",
       "    </tr>\n",
       "  </thead>\n",
       "  <tbody>\n",
       "    <tr>\n",
       "      <th>1</th>\n",
       "      <td>Super Mario Bros.</td>\n",
       "      <td>NES</td>\n",
       "      <td>1985.0</td>\n",
       "      <td>Platform</td>\n",
       "      <td>29.08</td>\n",
       "      <td>3.58</td>\n",
       "      <td>6.81</td>\n",
       "      <td>0.77</td>\n",
       "      <td>NaN</td>\n",
       "      <td>NaN</td>\n",
       "      <td>NaN</td>\n",
       "    </tr>\n",
       "    <tr>\n",
       "      <th>4</th>\n",
       "      <td>Pokemon Red/Pokemon Blue</td>\n",
       "      <td>GB</td>\n",
       "      <td>1996.0</td>\n",
       "      <td>Role-Playing</td>\n",
       "      <td>11.27</td>\n",
       "      <td>8.89</td>\n",
       "      <td>10.22</td>\n",
       "      <td>1.00</td>\n",
       "      <td>NaN</td>\n",
       "      <td>NaN</td>\n",
       "      <td>NaN</td>\n",
       "    </tr>\n",
       "    <tr>\n",
       "      <th>5</th>\n",
       "      <td>Tetris</td>\n",
       "      <td>GB</td>\n",
       "      <td>1989.0</td>\n",
       "      <td>Puzzle</td>\n",
       "      <td>23.20</td>\n",
       "      <td>2.26</td>\n",
       "      <td>4.22</td>\n",
       "      <td>0.58</td>\n",
       "      <td>NaN</td>\n",
       "      <td>NaN</td>\n",
       "      <td>NaN</td>\n",
       "    </tr>\n",
       "    <tr>\n",
       "      <th>9</th>\n",
       "      <td>Duck Hunt</td>\n",
       "      <td>NES</td>\n",
       "      <td>1984.0</td>\n",
       "      <td>Shooter</td>\n",
       "      <td>26.93</td>\n",
       "      <td>0.63</td>\n",
       "      <td>0.28</td>\n",
       "      <td>0.47</td>\n",
       "      <td>NaN</td>\n",
       "      <td>NaN</td>\n",
       "      <td>NaN</td>\n",
       "    </tr>\n",
       "    <tr>\n",
       "      <th>10</th>\n",
       "      <td>Nintendogs</td>\n",
       "      <td>DS</td>\n",
       "      <td>2005.0</td>\n",
       "      <td>Simulation</td>\n",
       "      <td>9.05</td>\n",
       "      <td>10.95</td>\n",
       "      <td>1.93</td>\n",
       "      <td>2.74</td>\n",
       "      <td>NaN</td>\n",
       "      <td>NaN</td>\n",
       "      <td>NaN</td>\n",
       "    </tr>\n",
       "    <tr>\n",
       "      <th>...</th>\n",
       "      <td>...</td>\n",
       "      <td>...</td>\n",
       "      <td>...</td>\n",
       "      <td>...</td>\n",
       "      <td>...</td>\n",
       "      <td>...</td>\n",
       "      <td>...</td>\n",
       "      <td>...</td>\n",
       "      <td>...</td>\n",
       "      <td>...</td>\n",
       "      <td>...</td>\n",
       "    </tr>\n",
       "    <tr>\n",
       "      <th>16710</th>\n",
       "      <td>Samurai Warriors: Sanada Maru</td>\n",
       "      <td>PS3</td>\n",
       "      <td>2016.0</td>\n",
       "      <td>Action</td>\n",
       "      <td>0.00</td>\n",
       "      <td>0.00</td>\n",
       "      <td>0.01</td>\n",
       "      <td>0.00</td>\n",
       "      <td>NaN</td>\n",
       "      <td>NaN</td>\n",
       "      <td>NaN</td>\n",
       "    </tr>\n",
       "    <tr>\n",
       "      <th>16711</th>\n",
       "      <td>LMA Manager 2007</td>\n",
       "      <td>X360</td>\n",
       "      <td>2006.0</td>\n",
       "      <td>Sports</td>\n",
       "      <td>0.00</td>\n",
       "      <td>0.01</td>\n",
       "      <td>0.00</td>\n",
       "      <td>0.00</td>\n",
       "      <td>NaN</td>\n",
       "      <td>NaN</td>\n",
       "      <td>NaN</td>\n",
       "    </tr>\n",
       "    <tr>\n",
       "      <th>16712</th>\n",
       "      <td>Haitaka no Psychedelica</td>\n",
       "      <td>PSV</td>\n",
       "      <td>2016.0</td>\n",
       "      <td>Adventure</td>\n",
       "      <td>0.00</td>\n",
       "      <td>0.00</td>\n",
       "      <td>0.01</td>\n",
       "      <td>0.00</td>\n",
       "      <td>NaN</td>\n",
       "      <td>NaN</td>\n",
       "      <td>NaN</td>\n",
       "    </tr>\n",
       "    <tr>\n",
       "      <th>16713</th>\n",
       "      <td>Spirits &amp; Spells</td>\n",
       "      <td>GBA</td>\n",
       "      <td>2003.0</td>\n",
       "      <td>Platform</td>\n",
       "      <td>0.01</td>\n",
       "      <td>0.00</td>\n",
       "      <td>0.00</td>\n",
       "      <td>0.00</td>\n",
       "      <td>NaN</td>\n",
       "      <td>NaN</td>\n",
       "      <td>NaN</td>\n",
       "    </tr>\n",
       "    <tr>\n",
       "      <th>16714</th>\n",
       "      <td>Winning Post 8 2016</td>\n",
       "      <td>PSV</td>\n",
       "      <td>2016.0</td>\n",
       "      <td>Simulation</td>\n",
       "      <td>0.00</td>\n",
       "      <td>0.00</td>\n",
       "      <td>0.01</td>\n",
       "      <td>0.00</td>\n",
       "      <td>NaN</td>\n",
       "      <td>NaN</td>\n",
       "      <td>NaN</td>\n",
       "    </tr>\n",
       "  </tbody>\n",
       "</table>\n",
       "<p>8578 rows × 11 columns</p>\n",
       "</div>"
      ],
      "text/plain": [
       "                                name platform  year_of_release         genre  \\\n",
       "1                  Super Mario Bros.      NES           1985.0      Platform   \n",
       "4           Pokemon Red/Pokemon Blue       GB           1996.0  Role-Playing   \n",
       "5                             Tetris       GB           1989.0        Puzzle   \n",
       "9                          Duck Hunt      NES           1984.0       Shooter   \n",
       "10                        Nintendogs       DS           2005.0    Simulation   \n",
       "...                              ...      ...              ...           ...   \n",
       "16710  Samurai Warriors: Sanada Maru      PS3           2016.0        Action   \n",
       "16711               LMA Manager 2007     X360           2006.0        Sports   \n",
       "16712        Haitaka no Psychedelica      PSV           2016.0     Adventure   \n",
       "16713               Spirits & Spells      GBA           2003.0      Platform   \n",
       "16714            Winning Post 8 2016      PSV           2016.0    Simulation   \n",
       "\n",
       "       na_sales  eu_sales  jp_sales  other_sales  critic_score  user_score  \\\n",
       "1         29.08      3.58      6.81         0.77           NaN         NaN   \n",
       "4         11.27      8.89     10.22         1.00           NaN         NaN   \n",
       "5         23.20      2.26      4.22         0.58           NaN         NaN   \n",
       "9         26.93      0.63      0.28         0.47           NaN         NaN   \n",
       "10         9.05     10.95      1.93         2.74           NaN         NaN   \n",
       "...         ...       ...       ...          ...           ...         ...   \n",
       "16710      0.00      0.00      0.01         0.00           NaN         NaN   \n",
       "16711      0.00      0.01      0.00         0.00           NaN         NaN   \n",
       "16712      0.00      0.00      0.01         0.00           NaN         NaN   \n",
       "16713      0.01      0.00      0.00         0.00           NaN         NaN   \n",
       "16714      0.00      0.00      0.01         0.00           NaN         NaN   \n",
       "\n",
       "      rating  \n",
       "1        NaN  \n",
       "4        NaN  \n",
       "5        NaN  \n",
       "9        NaN  \n",
       "10       NaN  \n",
       "...      ...  \n",
       "16710    NaN  \n",
       "16711    NaN  \n",
       "16712    NaN  \n",
       "16713    NaN  \n",
       "16714    NaN  \n",
       "\n",
       "[8578 rows x 11 columns]"
      ]
     },
     "execution_count": 11,
     "metadata": {},
     "output_type": "execute_result"
    }
   ],
   "source": [
    "data[data['critic_score'].isna()]"
   ]
  },
  {
   "cell_type": "code",
   "execution_count": 12,
   "metadata": {
    "scrolled": false
   },
   "outputs": [
    {
     "data": {
      "text/html": [
       "<div>\n",
       "<style scoped>\n",
       "    .dataframe tbody tr th:only-of-type {\n",
       "        vertical-align: middle;\n",
       "    }\n",
       "\n",
       "    .dataframe tbody tr th {\n",
       "        vertical-align: top;\n",
       "    }\n",
       "\n",
       "    .dataframe thead th {\n",
       "        text-align: right;\n",
       "    }\n",
       "</style>\n",
       "<table border=\"1\" class=\"dataframe\">\n",
       "  <thead>\n",
       "    <tr style=\"text-align: right;\">\n",
       "      <th></th>\n",
       "      <th>name</th>\n",
       "      <th>platform</th>\n",
       "      <th>year_of_release</th>\n",
       "      <th>genre</th>\n",
       "      <th>na_sales</th>\n",
       "      <th>eu_sales</th>\n",
       "      <th>jp_sales</th>\n",
       "      <th>other_sales</th>\n",
       "      <th>critic_score</th>\n",
       "      <th>user_score</th>\n",
       "      <th>rating</th>\n",
       "    </tr>\n",
       "  </thead>\n",
       "  <tbody>\n",
       "    <tr>\n",
       "      <th>1</th>\n",
       "      <td>Super Mario Bros.</td>\n",
       "      <td>NES</td>\n",
       "      <td>1985.0</td>\n",
       "      <td>Platform</td>\n",
       "      <td>29.08</td>\n",
       "      <td>3.58</td>\n",
       "      <td>6.81</td>\n",
       "      <td>0.77</td>\n",
       "      <td>NaN</td>\n",
       "      <td>NaN</td>\n",
       "      <td>NaN</td>\n",
       "    </tr>\n",
       "    <tr>\n",
       "      <th>4</th>\n",
       "      <td>Pokemon Red/Pokemon Blue</td>\n",
       "      <td>GB</td>\n",
       "      <td>1996.0</td>\n",
       "      <td>Role-Playing</td>\n",
       "      <td>11.27</td>\n",
       "      <td>8.89</td>\n",
       "      <td>10.22</td>\n",
       "      <td>1.00</td>\n",
       "      <td>NaN</td>\n",
       "      <td>NaN</td>\n",
       "      <td>NaN</td>\n",
       "    </tr>\n",
       "    <tr>\n",
       "      <th>5</th>\n",
       "      <td>Tetris</td>\n",
       "      <td>GB</td>\n",
       "      <td>1989.0</td>\n",
       "      <td>Puzzle</td>\n",
       "      <td>23.20</td>\n",
       "      <td>2.26</td>\n",
       "      <td>4.22</td>\n",
       "      <td>0.58</td>\n",
       "      <td>NaN</td>\n",
       "      <td>NaN</td>\n",
       "      <td>NaN</td>\n",
       "    </tr>\n",
       "    <tr>\n",
       "      <th>9</th>\n",
       "      <td>Duck Hunt</td>\n",
       "      <td>NES</td>\n",
       "      <td>1984.0</td>\n",
       "      <td>Shooter</td>\n",
       "      <td>26.93</td>\n",
       "      <td>0.63</td>\n",
       "      <td>0.28</td>\n",
       "      <td>0.47</td>\n",
       "      <td>NaN</td>\n",
       "      <td>NaN</td>\n",
       "      <td>NaN</td>\n",
       "    </tr>\n",
       "    <tr>\n",
       "      <th>10</th>\n",
       "      <td>Nintendogs</td>\n",
       "      <td>DS</td>\n",
       "      <td>2005.0</td>\n",
       "      <td>Simulation</td>\n",
       "      <td>9.05</td>\n",
       "      <td>10.95</td>\n",
       "      <td>1.93</td>\n",
       "      <td>2.74</td>\n",
       "      <td>NaN</td>\n",
       "      <td>NaN</td>\n",
       "      <td>NaN</td>\n",
       "    </tr>\n",
       "    <tr>\n",
       "      <th>...</th>\n",
       "      <td>...</td>\n",
       "      <td>...</td>\n",
       "      <td>...</td>\n",
       "      <td>...</td>\n",
       "      <td>...</td>\n",
       "      <td>...</td>\n",
       "      <td>...</td>\n",
       "      <td>...</td>\n",
       "      <td>...</td>\n",
       "      <td>...</td>\n",
       "      <td>...</td>\n",
       "    </tr>\n",
       "    <tr>\n",
       "      <th>16710</th>\n",
       "      <td>Samurai Warriors: Sanada Maru</td>\n",
       "      <td>PS3</td>\n",
       "      <td>2016.0</td>\n",
       "      <td>Action</td>\n",
       "      <td>0.00</td>\n",
       "      <td>0.00</td>\n",
       "      <td>0.01</td>\n",
       "      <td>0.00</td>\n",
       "      <td>NaN</td>\n",
       "      <td>NaN</td>\n",
       "      <td>NaN</td>\n",
       "    </tr>\n",
       "    <tr>\n",
       "      <th>16711</th>\n",
       "      <td>LMA Manager 2007</td>\n",
       "      <td>X360</td>\n",
       "      <td>2006.0</td>\n",
       "      <td>Sports</td>\n",
       "      <td>0.00</td>\n",
       "      <td>0.01</td>\n",
       "      <td>0.00</td>\n",
       "      <td>0.00</td>\n",
       "      <td>NaN</td>\n",
       "      <td>NaN</td>\n",
       "      <td>NaN</td>\n",
       "    </tr>\n",
       "    <tr>\n",
       "      <th>16712</th>\n",
       "      <td>Haitaka no Psychedelica</td>\n",
       "      <td>PSV</td>\n",
       "      <td>2016.0</td>\n",
       "      <td>Adventure</td>\n",
       "      <td>0.00</td>\n",
       "      <td>0.00</td>\n",
       "      <td>0.01</td>\n",
       "      <td>0.00</td>\n",
       "      <td>NaN</td>\n",
       "      <td>NaN</td>\n",
       "      <td>NaN</td>\n",
       "    </tr>\n",
       "    <tr>\n",
       "      <th>16713</th>\n",
       "      <td>Spirits &amp; Spells</td>\n",
       "      <td>GBA</td>\n",
       "      <td>2003.0</td>\n",
       "      <td>Platform</td>\n",
       "      <td>0.01</td>\n",
       "      <td>0.00</td>\n",
       "      <td>0.00</td>\n",
       "      <td>0.00</td>\n",
       "      <td>NaN</td>\n",
       "      <td>NaN</td>\n",
       "      <td>NaN</td>\n",
       "    </tr>\n",
       "    <tr>\n",
       "      <th>16714</th>\n",
       "      <td>Winning Post 8 2016</td>\n",
       "      <td>PSV</td>\n",
       "      <td>2016.0</td>\n",
       "      <td>Simulation</td>\n",
       "      <td>0.00</td>\n",
       "      <td>0.00</td>\n",
       "      <td>0.01</td>\n",
       "      <td>0.00</td>\n",
       "      <td>NaN</td>\n",
       "      <td>NaN</td>\n",
       "      <td>NaN</td>\n",
       "    </tr>\n",
       "  </tbody>\n",
       "</table>\n",
       "<p>6766 rows × 11 columns</p>\n",
       "</div>"
      ],
      "text/plain": [
       "                                name platform  year_of_release         genre  \\\n",
       "1                  Super Mario Bros.      NES           1985.0      Platform   \n",
       "4           Pokemon Red/Pokemon Blue       GB           1996.0  Role-Playing   \n",
       "5                             Tetris       GB           1989.0        Puzzle   \n",
       "9                          Duck Hunt      NES           1984.0       Shooter   \n",
       "10                        Nintendogs       DS           2005.0    Simulation   \n",
       "...                              ...      ...              ...           ...   \n",
       "16710  Samurai Warriors: Sanada Maru      PS3           2016.0        Action   \n",
       "16711               LMA Manager 2007     X360           2006.0        Sports   \n",
       "16712        Haitaka no Psychedelica      PSV           2016.0     Adventure   \n",
       "16713               Spirits & Spells      GBA           2003.0      Platform   \n",
       "16714            Winning Post 8 2016      PSV           2016.0    Simulation   \n",
       "\n",
       "       na_sales  eu_sales  jp_sales  other_sales  critic_score  user_score  \\\n",
       "1         29.08      3.58      6.81         0.77           NaN         NaN   \n",
       "4         11.27      8.89     10.22         1.00           NaN         NaN   \n",
       "5         23.20      2.26      4.22         0.58           NaN         NaN   \n",
       "9         26.93      0.63      0.28         0.47           NaN         NaN   \n",
       "10         9.05     10.95      1.93         2.74           NaN         NaN   \n",
       "...         ...       ...       ...          ...           ...         ...   \n",
       "16710      0.00      0.00      0.01         0.00           NaN         NaN   \n",
       "16711      0.00      0.01      0.00         0.00           NaN         NaN   \n",
       "16712      0.00      0.00      0.01         0.00           NaN         NaN   \n",
       "16713      0.01      0.00      0.00         0.00           NaN         NaN   \n",
       "16714      0.00      0.00      0.01         0.00           NaN         NaN   \n",
       "\n",
       "      rating  \n",
       "1        NaN  \n",
       "4        NaN  \n",
       "5        NaN  \n",
       "9        NaN  \n",
       "10       NaN  \n",
       "...      ...  \n",
       "16710    NaN  \n",
       "16711    NaN  \n",
       "16712    NaN  \n",
       "16713    NaN  \n",
       "16714    NaN  \n",
       "\n",
       "[6766 rows x 11 columns]"
      ]
     },
     "execution_count": 12,
     "metadata": {},
     "output_type": "execute_result"
    }
   ],
   "source": [
    "data[data['rating'].isna()]"
   ]
  },
  {
   "cell_type": "markdown",
   "metadata": {},
   "source": [
    "После поверхностного изучения трех столбцов, можно сказать, что большую часть пропусков в них объясняют одинаковые причины - игры либо старые, либо слишком молодые, либо просто непопулярные. Пока оставим все как есть. Посчитаем суммарные продажи во всех регионах и запишем их в столбец \"total_sales\"."
   ]
  },
  {
   "cell_type": "code",
   "execution_count": 13,
   "metadata": {},
   "outputs": [],
   "source": [
    "data['rating'] = data['rating'].fillna('unknown')"
   ]
  },
  {
   "cell_type": "code",
   "execution_count": 14,
   "metadata": {
    "scrolled": true
   },
   "outputs": [
    {
     "data": {
      "text/html": [
       "<div>\n",
       "<style scoped>\n",
       "    .dataframe tbody tr th:only-of-type {\n",
       "        vertical-align: middle;\n",
       "    }\n",
       "\n",
       "    .dataframe tbody tr th {\n",
       "        vertical-align: top;\n",
       "    }\n",
       "\n",
       "    .dataframe thead th {\n",
       "        text-align: right;\n",
       "    }\n",
       "</style>\n",
       "<table border=\"1\" class=\"dataframe\">\n",
       "  <thead>\n",
       "    <tr style=\"text-align: right;\">\n",
       "      <th></th>\n",
       "      <th>name</th>\n",
       "      <th>platform</th>\n",
       "      <th>year_of_release</th>\n",
       "      <th>genre</th>\n",
       "      <th>na_sales</th>\n",
       "      <th>eu_sales</th>\n",
       "      <th>jp_sales</th>\n",
       "      <th>other_sales</th>\n",
       "      <th>critic_score</th>\n",
       "      <th>user_score</th>\n",
       "      <th>rating</th>\n",
       "      <th>total_sales</th>\n",
       "    </tr>\n",
       "  </thead>\n",
       "  <tbody>\n",
       "    <tr>\n",
       "      <th>0</th>\n",
       "      <td>Wii Sports</td>\n",
       "      <td>Wii</td>\n",
       "      <td>2006.0</td>\n",
       "      <td>Sports</td>\n",
       "      <td>41.36</td>\n",
       "      <td>28.96</td>\n",
       "      <td>3.77</td>\n",
       "      <td>8.45</td>\n",
       "      <td>76.0</td>\n",
       "      <td>8.0</td>\n",
       "      <td>E</td>\n",
       "      <td>82.54</td>\n",
       "    </tr>\n",
       "    <tr>\n",
       "      <th>1</th>\n",
       "      <td>Super Mario Bros.</td>\n",
       "      <td>NES</td>\n",
       "      <td>1985.0</td>\n",
       "      <td>Platform</td>\n",
       "      <td>29.08</td>\n",
       "      <td>3.58</td>\n",
       "      <td>6.81</td>\n",
       "      <td>0.77</td>\n",
       "      <td>NaN</td>\n",
       "      <td>NaN</td>\n",
       "      <td>unknown</td>\n",
       "      <td>40.24</td>\n",
       "    </tr>\n",
       "    <tr>\n",
       "      <th>2</th>\n",
       "      <td>Mario Kart Wii</td>\n",
       "      <td>Wii</td>\n",
       "      <td>2008.0</td>\n",
       "      <td>Racing</td>\n",
       "      <td>15.68</td>\n",
       "      <td>12.76</td>\n",
       "      <td>3.79</td>\n",
       "      <td>3.29</td>\n",
       "      <td>82.0</td>\n",
       "      <td>8.3</td>\n",
       "      <td>E</td>\n",
       "      <td>35.52</td>\n",
       "    </tr>\n",
       "    <tr>\n",
       "      <th>3</th>\n",
       "      <td>Wii Sports Resort</td>\n",
       "      <td>Wii</td>\n",
       "      <td>2009.0</td>\n",
       "      <td>Sports</td>\n",
       "      <td>15.61</td>\n",
       "      <td>10.93</td>\n",
       "      <td>3.28</td>\n",
       "      <td>2.95</td>\n",
       "      <td>80.0</td>\n",
       "      <td>8.0</td>\n",
       "      <td>E</td>\n",
       "      <td>32.77</td>\n",
       "    </tr>\n",
       "    <tr>\n",
       "      <th>4</th>\n",
       "      <td>Pokemon Red/Pokemon Blue</td>\n",
       "      <td>GB</td>\n",
       "      <td>1996.0</td>\n",
       "      <td>Role-Playing</td>\n",
       "      <td>11.27</td>\n",
       "      <td>8.89</td>\n",
       "      <td>10.22</td>\n",
       "      <td>1.00</td>\n",
       "      <td>NaN</td>\n",
       "      <td>NaN</td>\n",
       "      <td>unknown</td>\n",
       "      <td>31.38</td>\n",
       "    </tr>\n",
       "  </tbody>\n",
       "</table>\n",
       "</div>"
      ],
      "text/plain": [
       "                       name platform  year_of_release         genre  na_sales  \\\n",
       "0                Wii Sports      Wii           2006.0        Sports     41.36   \n",
       "1         Super Mario Bros.      NES           1985.0      Platform     29.08   \n",
       "2            Mario Kart Wii      Wii           2008.0        Racing     15.68   \n",
       "3         Wii Sports Resort      Wii           2009.0        Sports     15.61   \n",
       "4  Pokemon Red/Pokemon Blue       GB           1996.0  Role-Playing     11.27   \n",
       "\n",
       "   eu_sales  jp_sales  other_sales  critic_score  user_score   rating  \\\n",
       "0     28.96      3.77         8.45          76.0         8.0        E   \n",
       "1      3.58      6.81         0.77           NaN         NaN  unknown   \n",
       "2     12.76      3.79         3.29          82.0         8.3        E   \n",
       "3     10.93      3.28         2.95          80.0         8.0        E   \n",
       "4      8.89     10.22         1.00           NaN         NaN  unknown   \n",
       "\n",
       "   total_sales  \n",
       "0        82.54  \n",
       "1        40.24  \n",
       "2        35.52  \n",
       "3        32.77  \n",
       "4        31.38  "
      ]
     },
     "execution_count": 14,
     "metadata": {},
     "output_type": "execute_result"
    }
   ],
   "source": [
    "data['total_sales'] = data['na_sales'] + data['eu_sales'] + data['jp_sales'] + data['other_sales']\n",
    "data.head()"
   ]
  },
  {
   "cell_type": "markdown",
   "metadata": {},
   "source": [
    "<a id='duplicates'></a>\n",
    "Найдем дубликаты для пары \"Имя - Игровая консоль\"."
   ]
  },
  {
   "cell_type": "code",
   "execution_count": 15,
   "metadata": {},
   "outputs": [
    {
     "data": {
      "text/html": [
       "<div>\n",
       "<style scoped>\n",
       "    .dataframe tbody tr th:only-of-type {\n",
       "        vertical-align: middle;\n",
       "    }\n",
       "\n",
       "    .dataframe tbody tr th {\n",
       "        vertical-align: top;\n",
       "    }\n",
       "\n",
       "    .dataframe thead th {\n",
       "        text-align: right;\n",
       "    }\n",
       "</style>\n",
       "<table border=\"1\" class=\"dataframe\">\n",
       "  <thead>\n",
       "    <tr style=\"text-align: right;\">\n",
       "      <th></th>\n",
       "      <th>name</th>\n",
       "      <th>platform</th>\n",
       "      <th>year_of_release</th>\n",
       "      <th>genre</th>\n",
       "      <th>na_sales</th>\n",
       "      <th>eu_sales</th>\n",
       "      <th>jp_sales</th>\n",
       "      <th>other_sales</th>\n",
       "      <th>critic_score</th>\n",
       "      <th>user_score</th>\n",
       "      <th>rating</th>\n",
       "      <th>total_sales</th>\n",
       "    </tr>\n",
       "  </thead>\n",
       "  <tbody>\n",
       "    <tr>\n",
       "      <th>604</th>\n",
       "      <td>Madden NFL 13</td>\n",
       "      <td>PS3</td>\n",
       "      <td>2012.0</td>\n",
       "      <td>Sports</td>\n",
       "      <td>2.11</td>\n",
       "      <td>0.22</td>\n",
       "      <td>0.00</td>\n",
       "      <td>0.23</td>\n",
       "      <td>83.0</td>\n",
       "      <td>5.5</td>\n",
       "      <td>E</td>\n",
       "      <td>2.56</td>\n",
       "    </tr>\n",
       "    <tr>\n",
       "      <th>659</th>\n",
       "      <td>NaN</td>\n",
       "      <td>GEN</td>\n",
       "      <td>1993.0</td>\n",
       "      <td>NaN</td>\n",
       "      <td>1.78</td>\n",
       "      <td>0.53</td>\n",
       "      <td>0.00</td>\n",
       "      <td>0.08</td>\n",
       "      <td>NaN</td>\n",
       "      <td>NaN</td>\n",
       "      <td>unknown</td>\n",
       "      <td>2.39</td>\n",
       "    </tr>\n",
       "    <tr>\n",
       "      <th>1190</th>\n",
       "      <td>Need for Speed: Most Wanted</td>\n",
       "      <td>X360</td>\n",
       "      <td>2012.0</td>\n",
       "      <td>Racing</td>\n",
       "      <td>0.62</td>\n",
       "      <td>0.78</td>\n",
       "      <td>0.01</td>\n",
       "      <td>0.15</td>\n",
       "      <td>83.0</td>\n",
       "      <td>8.5</td>\n",
       "      <td>T</td>\n",
       "      <td>1.56</td>\n",
       "    </tr>\n",
       "    <tr>\n",
       "      <th>1591</th>\n",
       "      <td>Need for Speed: Most Wanted</td>\n",
       "      <td>X360</td>\n",
       "      <td>2005.0</td>\n",
       "      <td>Racing</td>\n",
       "      <td>1.00</td>\n",
       "      <td>0.13</td>\n",
       "      <td>0.02</td>\n",
       "      <td>0.10</td>\n",
       "      <td>83.0</td>\n",
       "      <td>8.5</td>\n",
       "      <td>T</td>\n",
       "      <td>1.25</td>\n",
       "    </tr>\n",
       "    <tr>\n",
       "      <th>1745</th>\n",
       "      <td>Sonic the Hedgehog</td>\n",
       "      <td>PS3</td>\n",
       "      <td>2006.0</td>\n",
       "      <td>Platform</td>\n",
       "      <td>0.41</td>\n",
       "      <td>0.06</td>\n",
       "      <td>0.04</td>\n",
       "      <td>0.66</td>\n",
       "      <td>43.0</td>\n",
       "      <td>4.1</td>\n",
       "      <td>E10+</td>\n",
       "      <td>1.17</td>\n",
       "    </tr>\n",
       "    <tr>\n",
       "      <th>4127</th>\n",
       "      <td>Sonic the Hedgehog</td>\n",
       "      <td>PS3</td>\n",
       "      <td>NaN</td>\n",
       "      <td>Platform</td>\n",
       "      <td>0.00</td>\n",
       "      <td>0.48</td>\n",
       "      <td>0.00</td>\n",
       "      <td>0.00</td>\n",
       "      <td>43.0</td>\n",
       "      <td>4.1</td>\n",
       "      <td>E10+</td>\n",
       "      <td>0.48</td>\n",
       "    </tr>\n",
       "    <tr>\n",
       "      <th>5972</th>\n",
       "      <td>Need for Speed: Most Wanted</td>\n",
       "      <td>PC</td>\n",
       "      <td>2005.0</td>\n",
       "      <td>Racing</td>\n",
       "      <td>0.02</td>\n",
       "      <td>0.23</td>\n",
       "      <td>0.00</td>\n",
       "      <td>0.04</td>\n",
       "      <td>82.0</td>\n",
       "      <td>8.5</td>\n",
       "      <td>T</td>\n",
       "      <td>0.29</td>\n",
       "    </tr>\n",
       "    <tr>\n",
       "      <th>11715</th>\n",
       "      <td>Need for Speed: Most Wanted</td>\n",
       "      <td>PC</td>\n",
       "      <td>2012.0</td>\n",
       "      <td>Racing</td>\n",
       "      <td>0.00</td>\n",
       "      <td>0.06</td>\n",
       "      <td>0.00</td>\n",
       "      <td>0.02</td>\n",
       "      <td>82.0</td>\n",
       "      <td>8.5</td>\n",
       "      <td>T</td>\n",
       "      <td>0.08</td>\n",
       "    </tr>\n",
       "    <tr>\n",
       "      <th>14244</th>\n",
       "      <td>NaN</td>\n",
       "      <td>GEN</td>\n",
       "      <td>1993.0</td>\n",
       "      <td>NaN</td>\n",
       "      <td>0.00</td>\n",
       "      <td>0.00</td>\n",
       "      <td>0.03</td>\n",
       "      <td>0.00</td>\n",
       "      <td>NaN</td>\n",
       "      <td>NaN</td>\n",
       "      <td>unknown</td>\n",
       "      <td>0.03</td>\n",
       "    </tr>\n",
       "    <tr>\n",
       "      <th>16230</th>\n",
       "      <td>Madden NFL 13</td>\n",
       "      <td>PS3</td>\n",
       "      <td>2012.0</td>\n",
       "      <td>Sports</td>\n",
       "      <td>0.00</td>\n",
       "      <td>0.01</td>\n",
       "      <td>0.00</td>\n",
       "      <td>0.00</td>\n",
       "      <td>83.0</td>\n",
       "      <td>5.5</td>\n",
       "      <td>E</td>\n",
       "      <td>0.01</td>\n",
       "    </tr>\n",
       "  </tbody>\n",
       "</table>\n",
       "</div>"
      ],
      "text/plain": [
       "                              name platform  year_of_release     genre  \\\n",
       "604                  Madden NFL 13      PS3           2012.0    Sports   \n",
       "659                            NaN      GEN           1993.0       NaN   \n",
       "1190   Need for Speed: Most Wanted     X360           2012.0    Racing   \n",
       "1591   Need for Speed: Most Wanted     X360           2005.0    Racing   \n",
       "1745            Sonic the Hedgehog      PS3           2006.0  Platform   \n",
       "4127            Sonic the Hedgehog      PS3              NaN  Platform   \n",
       "5972   Need for Speed: Most Wanted       PC           2005.0    Racing   \n",
       "11715  Need for Speed: Most Wanted       PC           2012.0    Racing   \n",
       "14244                          NaN      GEN           1993.0       NaN   \n",
       "16230                Madden NFL 13      PS3           2012.0    Sports   \n",
       "\n",
       "       na_sales  eu_sales  jp_sales  other_sales  critic_score  user_score  \\\n",
       "604        2.11      0.22      0.00         0.23          83.0         5.5   \n",
       "659        1.78      0.53      0.00         0.08           NaN         NaN   \n",
       "1190       0.62      0.78      0.01         0.15          83.0         8.5   \n",
       "1591       1.00      0.13      0.02         0.10          83.0         8.5   \n",
       "1745       0.41      0.06      0.04         0.66          43.0         4.1   \n",
       "4127       0.00      0.48      0.00         0.00          43.0         4.1   \n",
       "5972       0.02      0.23      0.00         0.04          82.0         8.5   \n",
       "11715      0.00      0.06      0.00         0.02          82.0         8.5   \n",
       "14244      0.00      0.00      0.03         0.00           NaN         NaN   \n",
       "16230      0.00      0.01      0.00         0.00          83.0         5.5   \n",
       "\n",
       "        rating  total_sales  \n",
       "604          E         2.56  \n",
       "659    unknown         2.39  \n",
       "1190         T         1.56  \n",
       "1591         T         1.25  \n",
       "1745      E10+         1.17  \n",
       "4127      E10+         0.48  \n",
       "5972         T         0.29  \n",
       "11715        T         0.08  \n",
       "14244  unknown         0.03  \n",
       "16230        E         0.01  "
      ]
     },
     "execution_count": 15,
     "metadata": {},
     "output_type": "execute_result"
    }
   ],
   "source": [
    "data[data.duplicated(subset=['name', 'platform'], keep=False)]"
   ]
  },
  {
   "cell_type": "markdown",
   "metadata": {},
   "source": [
    "Madden NFL 13: Следует довериться первой по порядку строчке, где данных чуть больше, и сохранить её.<br>\n",
    "NaN на платформе GEN: на анализ не повлияет, можно удалить.<br>\n",
    "Need for Speed: Most Wanted: здесь неразбериха в палне года релиза игры на платформах. По информации из интернета, NFS:MW 2012 года является перезапуском версии 2005 года, значит, следует считать эти игры как отдельные продукты, не являющиеся дубликатами.<br>\n",
    "Sonic the Hedgehog: Сохраним первую по порядку строку, где больше данных."
   ]
  },
  {
   "cell_type": "markdown",
   "metadata": {},
   "source": [
    "Изменим датафрейм аккуратно вручную:"
   ]
  },
  {
   "cell_type": "code",
   "execution_count": 16,
   "metadata": {},
   "outputs": [],
   "source": [
    "data = data.drop(axis=0, index=[659, 4127, 14244, 16230]).reset_index(drop=True)"
   ]
  },
  {
   "cell_type": "markdown",
   "metadata": {},
   "source": [
    "Проверим еще раз дубликаты:"
   ]
  },
  {
   "cell_type": "code",
   "execution_count": 17,
   "metadata": {
    "scrolled": true
   },
   "outputs": [
    {
     "data": {
      "text/html": [
       "<div>\n",
       "<style scoped>\n",
       "    .dataframe tbody tr th:only-of-type {\n",
       "        vertical-align: middle;\n",
       "    }\n",
       "\n",
       "    .dataframe tbody tr th {\n",
       "        vertical-align: top;\n",
       "    }\n",
       "\n",
       "    .dataframe thead th {\n",
       "        text-align: right;\n",
       "    }\n",
       "</style>\n",
       "<table border=\"1\" class=\"dataframe\">\n",
       "  <thead>\n",
       "    <tr style=\"text-align: right;\">\n",
       "      <th></th>\n",
       "      <th>name</th>\n",
       "      <th>platform</th>\n",
       "      <th>year_of_release</th>\n",
       "      <th>genre</th>\n",
       "      <th>na_sales</th>\n",
       "      <th>eu_sales</th>\n",
       "      <th>jp_sales</th>\n",
       "      <th>other_sales</th>\n",
       "      <th>critic_score</th>\n",
       "      <th>user_score</th>\n",
       "      <th>rating</th>\n",
       "      <th>total_sales</th>\n",
       "    </tr>\n",
       "  </thead>\n",
       "  <tbody>\n",
       "    <tr>\n",
       "      <th>1189</th>\n",
       "      <td>Need for Speed: Most Wanted</td>\n",
       "      <td>X360</td>\n",
       "      <td>2012.0</td>\n",
       "      <td>Racing</td>\n",
       "      <td>0.62</td>\n",
       "      <td>0.78</td>\n",
       "      <td>0.01</td>\n",
       "      <td>0.15</td>\n",
       "      <td>83.0</td>\n",
       "      <td>8.5</td>\n",
       "      <td>T</td>\n",
       "      <td>1.56</td>\n",
       "    </tr>\n",
       "    <tr>\n",
       "      <th>1590</th>\n",
       "      <td>Need for Speed: Most Wanted</td>\n",
       "      <td>X360</td>\n",
       "      <td>2005.0</td>\n",
       "      <td>Racing</td>\n",
       "      <td>1.00</td>\n",
       "      <td>0.13</td>\n",
       "      <td>0.02</td>\n",
       "      <td>0.10</td>\n",
       "      <td>83.0</td>\n",
       "      <td>8.5</td>\n",
       "      <td>T</td>\n",
       "      <td>1.25</td>\n",
       "    </tr>\n",
       "    <tr>\n",
       "      <th>5970</th>\n",
       "      <td>Need for Speed: Most Wanted</td>\n",
       "      <td>PC</td>\n",
       "      <td>2005.0</td>\n",
       "      <td>Racing</td>\n",
       "      <td>0.02</td>\n",
       "      <td>0.23</td>\n",
       "      <td>0.00</td>\n",
       "      <td>0.04</td>\n",
       "      <td>82.0</td>\n",
       "      <td>8.5</td>\n",
       "      <td>T</td>\n",
       "      <td>0.29</td>\n",
       "    </tr>\n",
       "    <tr>\n",
       "      <th>11713</th>\n",
       "      <td>Need for Speed: Most Wanted</td>\n",
       "      <td>PC</td>\n",
       "      <td>2012.0</td>\n",
       "      <td>Racing</td>\n",
       "      <td>0.00</td>\n",
       "      <td>0.06</td>\n",
       "      <td>0.00</td>\n",
       "      <td>0.02</td>\n",
       "      <td>82.0</td>\n",
       "      <td>8.5</td>\n",
       "      <td>T</td>\n",
       "      <td>0.08</td>\n",
       "    </tr>\n",
       "  </tbody>\n",
       "</table>\n",
       "</div>"
      ],
      "text/plain": [
       "                              name platform  year_of_release   genre  \\\n",
       "1189   Need for Speed: Most Wanted     X360           2012.0  Racing   \n",
       "1590   Need for Speed: Most Wanted     X360           2005.0  Racing   \n",
       "5970   Need for Speed: Most Wanted       PC           2005.0  Racing   \n",
       "11713  Need for Speed: Most Wanted       PC           2012.0  Racing   \n",
       "\n",
       "       na_sales  eu_sales  jp_sales  other_sales  critic_score  user_score  \\\n",
       "1189       0.62      0.78      0.01         0.15          83.0         8.5   \n",
       "1590       1.00      0.13      0.02         0.10          83.0         8.5   \n",
       "5970       0.02      0.23      0.00         0.04          82.0         8.5   \n",
       "11713      0.00      0.06      0.00         0.02          82.0         8.5   \n",
       "\n",
       "      rating  total_sales  \n",
       "1189       T         1.56  \n",
       "1590       T         1.25  \n",
       "5970       T         0.29  \n",
       "11713      T         0.08  "
      ]
     },
     "execution_count": 17,
     "metadata": {},
     "output_type": "execute_result"
    }
   ],
   "source": [
    "data[data.duplicated(subset=['name', 'platform'], keep=False)]"
   ]
  },
  {
   "cell_type": "markdown",
   "metadata": {},
   "source": [
    "Здесь все ок, теперь посмотрим сколько уникальных названий игр в данных, есть ли возможность поискать неявные дубликаты."
   ]
  },
  {
   "cell_type": "code",
   "execution_count": 18,
   "metadata": {},
   "outputs": [
    {
     "data": {
      "text/plain": [
       "11559"
      ]
     },
     "execution_count": 18,
     "metadata": {},
     "output_type": "execute_result"
    }
   ],
   "source": [
    "data['name'].nunique()"
   ]
  },
  {
   "cell_type": "markdown",
   "metadata": {},
   "source": [
    "Посмотрим, есть ли различие числа уникальных названий, если привести их нижнему регистру:"
   ]
  },
  {
   "cell_type": "code",
   "execution_count": 19,
   "metadata": {},
   "outputs": [
    {
     "data": {
      "text/plain": [
       "11559"
      ]
     },
     "execution_count": 19,
     "metadata": {},
     "output_type": "execute_result"
    }
   ],
   "source": [
    "data['name'].str.lower().nunique()"
   ]
  },
  {
   "cell_type": "markdown",
   "metadata": {},
   "source": [
    "Различий нет, скорее всего неявных дубликатов также нет. Количество уникальных названий меньше количества строк данных, так как одни и те же игры выпускаются для разных платформ, кроме того, существуют перезапуски и ремейки игр."
   ]
  },
  {
   "cell_type": "markdown",
   "metadata": {},
   "source": [
    "Посмотрим на уникальные названия игровых платформ."
   ]
  },
  {
   "cell_type": "code",
   "execution_count": 20,
   "metadata": {
    "scrolled": true
   },
   "outputs": [
    {
     "data": {
      "text/plain": [
       "array(['Wii', 'NES', 'GB', 'DS', 'X360', 'PS3', 'PS2', 'SNES', 'GBA',\n",
       "       'PS4', '3DS', 'N64', 'PS', 'XB', 'PC', '2600', 'PSP', 'XOne',\n",
       "       'WiiU', 'GC', 'GEN', 'DC', 'PSV', 'SAT', 'SCD', 'WS', 'NG', 'TG16',\n",
       "       '3DO', 'GG', 'PCFX'], dtype=object)"
      ]
     },
     "execution_count": 20,
     "metadata": {},
     "output_type": "execute_result"
    }
   ],
   "source": [
    "data['platform'].unique()"
   ]
  },
  {
   "cell_type": "markdown",
   "metadata": {},
   "source": [
    "Неявных дубликатов не обнаружено."
   ]
  },
  {
   "cell_type": "markdown",
   "metadata": {},
   "source": [
    "### Исследовательский анализ данных"
   ]
  },
  {
   "cell_type": "markdown",
   "metadata": {},
   "source": [
    "Посмотрим, сколько игр выпускалось в разные годы. <a id='games_yearly'></a>"
   ]
  },
  {
   "cell_type": "code",
   "execution_count": 21,
   "metadata": {},
   "outputs": [
    {
     "data": {
      "text/html": [
       "<div>\n",
       "<style scoped>\n",
       "    .dataframe tbody tr th:only-of-type {\n",
       "        vertical-align: middle;\n",
       "    }\n",
       "\n",
       "    .dataframe tbody tr th {\n",
       "        vertical-align: top;\n",
       "    }\n",
       "\n",
       "    .dataframe thead th {\n",
       "        text-align: right;\n",
       "    }\n",
       "</style>\n",
       "<table border=\"1\" class=\"dataframe\">\n",
       "  <thead>\n",
       "    <tr style=\"text-align: right;\">\n",
       "      <th></th>\n",
       "      <th>number_of_games</th>\n",
       "    </tr>\n",
       "    <tr>\n",
       "      <th>year_of_release</th>\n",
       "      <th></th>\n",
       "    </tr>\n",
       "  </thead>\n",
       "  <tbody>\n",
       "    <tr>\n",
       "      <th>1980.0</th>\n",
       "      <td>9</td>\n",
       "    </tr>\n",
       "    <tr>\n",
       "      <th>1981.0</th>\n",
       "      <td>46</td>\n",
       "    </tr>\n",
       "    <tr>\n",
       "      <th>1982.0</th>\n",
       "      <td>36</td>\n",
       "    </tr>\n",
       "    <tr>\n",
       "      <th>1983.0</th>\n",
       "      <td>17</td>\n",
       "    </tr>\n",
       "    <tr>\n",
       "      <th>1984.0</th>\n",
       "      <td>14</td>\n",
       "    </tr>\n",
       "    <tr>\n",
       "      <th>1985.0</th>\n",
       "      <td>14</td>\n",
       "    </tr>\n",
       "    <tr>\n",
       "      <th>1986.0</th>\n",
       "      <td>21</td>\n",
       "    </tr>\n",
       "    <tr>\n",
       "      <th>1987.0</th>\n",
       "      <td>16</td>\n",
       "    </tr>\n",
       "    <tr>\n",
       "      <th>1988.0</th>\n",
       "      <td>15</td>\n",
       "    </tr>\n",
       "    <tr>\n",
       "      <th>1989.0</th>\n",
       "      <td>17</td>\n",
       "    </tr>\n",
       "    <tr>\n",
       "      <th>1990.0</th>\n",
       "      <td>16</td>\n",
       "    </tr>\n",
       "    <tr>\n",
       "      <th>1991.0</th>\n",
       "      <td>41</td>\n",
       "    </tr>\n",
       "    <tr>\n",
       "      <th>1992.0</th>\n",
       "      <td>43</td>\n",
       "    </tr>\n",
       "    <tr>\n",
       "      <th>1993.0</th>\n",
       "      <td>60</td>\n",
       "    </tr>\n",
       "    <tr>\n",
       "      <th>1994.0</th>\n",
       "      <td>121</td>\n",
       "    </tr>\n",
       "    <tr>\n",
       "      <th>1995.0</th>\n",
       "      <td>219</td>\n",
       "    </tr>\n",
       "    <tr>\n",
       "      <th>1996.0</th>\n",
       "      <td>263</td>\n",
       "    </tr>\n",
       "    <tr>\n",
       "      <th>1997.0</th>\n",
       "      <td>289</td>\n",
       "    </tr>\n",
       "    <tr>\n",
       "      <th>1998.0</th>\n",
       "      <td>379</td>\n",
       "    </tr>\n",
       "    <tr>\n",
       "      <th>1999.0</th>\n",
       "      <td>338</td>\n",
       "    </tr>\n",
       "    <tr>\n",
       "      <th>2000.0</th>\n",
       "      <td>350</td>\n",
       "    </tr>\n",
       "    <tr>\n",
       "      <th>2001.0</th>\n",
       "      <td>482</td>\n",
       "    </tr>\n",
       "    <tr>\n",
       "      <th>2002.0</th>\n",
       "      <td>829</td>\n",
       "    </tr>\n",
       "    <tr>\n",
       "      <th>2003.0</th>\n",
       "      <td>775</td>\n",
       "    </tr>\n",
       "    <tr>\n",
       "      <th>2004.0</th>\n",
       "      <td>762</td>\n",
       "    </tr>\n",
       "    <tr>\n",
       "      <th>2005.0</th>\n",
       "      <td>939</td>\n",
       "    </tr>\n",
       "    <tr>\n",
       "      <th>2006.0</th>\n",
       "      <td>1006</td>\n",
       "    </tr>\n",
       "    <tr>\n",
       "      <th>2007.0</th>\n",
       "      <td>1197</td>\n",
       "    </tr>\n",
       "    <tr>\n",
       "      <th>2008.0</th>\n",
       "      <td>1427</td>\n",
       "    </tr>\n",
       "    <tr>\n",
       "      <th>2009.0</th>\n",
       "      <td>1426</td>\n",
       "    </tr>\n",
       "    <tr>\n",
       "      <th>2010.0</th>\n",
       "      <td>1255</td>\n",
       "    </tr>\n",
       "    <tr>\n",
       "      <th>2011.0</th>\n",
       "      <td>1136</td>\n",
       "    </tr>\n",
       "    <tr>\n",
       "      <th>2012.0</th>\n",
       "      <td>652</td>\n",
       "    </tr>\n",
       "    <tr>\n",
       "      <th>2013.0</th>\n",
       "      <td>544</td>\n",
       "    </tr>\n",
       "    <tr>\n",
       "      <th>2014.0</th>\n",
       "      <td>581</td>\n",
       "    </tr>\n",
       "    <tr>\n",
       "      <th>2015.0</th>\n",
       "      <td>606</td>\n",
       "    </tr>\n",
       "    <tr>\n",
       "      <th>2016.0</th>\n",
       "      <td>502</td>\n",
       "    </tr>\n",
       "  </tbody>\n",
       "</table>\n",
       "</div>"
      ],
      "text/plain": [
       "                 number_of_games\n",
       "year_of_release                 \n",
       "1980.0                         9\n",
       "1981.0                        46\n",
       "1982.0                        36\n",
       "1983.0                        17\n",
       "1984.0                        14\n",
       "1985.0                        14\n",
       "1986.0                        21\n",
       "1987.0                        16\n",
       "1988.0                        15\n",
       "1989.0                        17\n",
       "1990.0                        16\n",
       "1991.0                        41\n",
       "1992.0                        43\n",
       "1993.0                        60\n",
       "1994.0                       121\n",
       "1995.0                       219\n",
       "1996.0                       263\n",
       "1997.0                       289\n",
       "1998.0                       379\n",
       "1999.0                       338\n",
       "2000.0                       350\n",
       "2001.0                       482\n",
       "2002.0                       829\n",
       "2003.0                       775\n",
       "2004.0                       762\n",
       "2005.0                       939\n",
       "2006.0                      1006\n",
       "2007.0                      1197\n",
       "2008.0                      1427\n",
       "2009.0                      1426\n",
       "2010.0                      1255\n",
       "2011.0                      1136\n",
       "2012.0                       652\n",
       "2013.0                       544\n",
       "2014.0                       581\n",
       "2015.0                       606\n",
       "2016.0                       502"
      ]
     },
     "execution_count": 21,
     "metadata": {},
     "output_type": "execute_result"
    }
   ],
   "source": [
    "games_yearly = data.pivot_table(index='year_of_release', values='name', aggfunc='count')\n",
    "games_yearly.columns = ['number_of_games']\n",
    "games_yearly"
   ]
  },
  {
   "cell_type": "markdown",
   "metadata": {},
   "source": [
    "Разные игровые платформы - это разные миры со своими особенностями, это касается и особенностей продаж и особенностей внутриигрового мира, в том числе покупок игрового имущества и тд, поэтому игры с одним названием для разных платформ смело можно считать за отдельные продукты."
   ]
  },
  {
   "cell_type": "code",
   "execution_count": 22,
   "metadata": {
    "scrolled": false
   },
   "outputs": [
    {
     "data": {
      "image/png": "[encoded data removed]",
      "text/plain": [
       "<Figure size 1080x504 with 1 Axes>"
      ]
     },
     "metadata": {
      "needs_background": "light"
     },
     "output_type": "display_data"
    }
   ],
   "source": [
    "games_yearly.plot(kind='bar', figsize=(15, 7))\n",
    "plt.ylabel('number_of_games')\n",
    "plt.title('number of games yearly')\n",
    "plt.show()"
   ]
  },
  {
   "cell_type": "markdown",
   "metadata": {},
   "source": [
    "Больше всего игр было выпущено в 2008 - 2009 годах. До 1995 года игр выпускалось закономерно очень мало."
   ]
  },
  {
   "cell_type": "markdown",
   "metadata": {},
   "source": [
    "Рост продаж в 2008-2009 годах можно объяснить мировым кризисом: несмотря на него, игр выпускалось больше (возможно, выходило много низкобюджетных проектов) ввиду растущего спроса на видеоигры как на наиболее доступный вид досуга. Помимо этого, появились мощные гаджеты (смартфоны, к примеру), для которых также выпускались игры."
   ]
  },
  {
   "cell_type": "markdown",
   "metadata": {},
   "source": [
    "Времена меняются и с каждым годом игровая индустрия растет, меняется качество видеоигр и популярность различных жанров. Многие игры, жанры и платформы перестают быть популярными. То, что было популярно в конце прошлого века, теперь трогает лишь некоторых гиков. В начале нулевых появились качественно новые игры. Например, в 2002, вышла легендарная GTA:VC, в этот год как раз наблюдается скачок по количеству выпущенных игр. Предлагаю считать актуальный период с этого момента. Вопрос в том, брать ли в расчет данные за 2016 год, ведь данные этого года могут быь неполными. Посмотрим на наиболее популярные платформы за этот период."
   ]
  },
  {
   "cell_type": "code",
   "execution_count": 23,
   "metadata": {
    "scrolled": false
   },
   "outputs": [
    {
     "data": {
      "text/html": [
       "<div>\n",
       "<style scoped>\n",
       "    .dataframe tbody tr th:only-of-type {\n",
       "        vertical-align: middle;\n",
       "    }\n",
       "\n",
       "    .dataframe tbody tr th {\n",
       "        vertical-align: top;\n",
       "    }\n",
       "\n",
       "    .dataframe thead th {\n",
       "        text-align: right;\n",
       "    }\n",
       "</style>\n",
       "<table border=\"1\" class=\"dataframe\">\n",
       "  <thead>\n",
       "    <tr style=\"text-align: right;\">\n",
       "      <th></th>\n",
       "      <th>number_of_games</th>\n",
       "    </tr>\n",
       "    <tr>\n",
       "      <th>platform</th>\n",
       "      <th></th>\n",
       "    </tr>\n",
       "  </thead>\n",
       "  <tbody>\n",
       "    <tr>\n",
       "      <th>N64</th>\n",
       "      <td>1</td>\n",
       "    </tr>\n",
       "    <tr>\n",
       "      <th>DC</th>\n",
       "      <td>3</td>\n",
       "    </tr>\n",
       "    <tr>\n",
       "      <th>PS</th>\n",
       "      <td>23</td>\n",
       "    </tr>\n",
       "    <tr>\n",
       "      <th>WiiU</th>\n",
       "      <td>147</td>\n",
       "    </tr>\n",
       "    <tr>\n",
       "      <th>XOne</th>\n",
       "      <td>247</td>\n",
       "    </tr>\n",
       "    <tr>\n",
       "      <th>PS4</th>\n",
       "      <td>392</td>\n",
       "    </tr>\n",
       "    <tr>\n",
       "      <th>PSV</th>\n",
       "      <td>429</td>\n",
       "    </tr>\n",
       "    <tr>\n",
       "      <th>3DS</th>\n",
       "      <td>512</td>\n",
       "    </tr>\n",
       "    <tr>\n",
       "      <th>GC</th>\n",
       "      <td>520</td>\n",
       "    </tr>\n",
       "    <tr>\n",
       "      <th>GBA</th>\n",
       "      <td>703</td>\n",
       "    </tr>\n",
       "    <tr>\n",
       "      <th>XB</th>\n",
       "      <td>769</td>\n",
       "    </tr>\n",
       "    <tr>\n",
       "      <th>PC</th>\n",
       "      <td>895</td>\n",
       "    </tr>\n",
       "    <tr>\n",
       "      <th>PSP</th>\n",
       "      <td>1193</td>\n",
       "    </tr>\n",
       "    <tr>\n",
       "      <th>X360</th>\n",
       "      <td>1232</td>\n",
       "    </tr>\n",
       "    <tr>\n",
       "      <th>Wii</th>\n",
       "      <td>1286</td>\n",
       "    </tr>\n",
       "    <tr>\n",
       "      <th>PS3</th>\n",
       "      <td>1305</td>\n",
       "    </tr>\n",
       "    <tr>\n",
       "      <th>PS2</th>\n",
       "      <td>1860</td>\n",
       "    </tr>\n",
       "    <tr>\n",
       "      <th>DS</th>\n",
       "      <td>2120</td>\n",
       "    </tr>\n",
       "  </tbody>\n",
       "</table>\n",
       "</div>"
      ],
      "text/plain": [
       "          number_of_games\n",
       "platform                 \n",
       "N64                     1\n",
       "DC                      3\n",
       "PS                     23\n",
       "WiiU                  147\n",
       "XOne                  247\n",
       "PS4                   392\n",
       "PSV                   429\n",
       "3DS                   512\n",
       "GC                    520\n",
       "GBA                   703\n",
       "XB                    769\n",
       "PC                    895\n",
       "PSP                  1193\n",
       "X360                 1232\n",
       "Wii                  1286\n",
       "PS3                  1305\n",
       "PS2                  1860\n",
       "DS                   2120"
      ]
     },
     "execution_count": 23,
     "metadata": {},
     "output_type": "execute_result"
    }
   ],
   "source": [
    "actual_years = data[data['year_of_release'] >= 2002]\n",
    "actual_platforms = actual_years.pivot_table(index='platform', values='name', aggfunc='count')\n",
    "actual_platforms.columns = ['number_of_games']\n",
    "actual_platforms.sort_values(by='number_of_games')"
   ]
  },
  {
   "cell_type": "markdown",
   "metadata": {},
   "source": [
    "<a id='actual_years'></a>\n",
    "В этом списке значительное количество непопулярных, \"вымерших\" на данный момент платформ. Посмотрим на популярные платформы с 2012 года, где видно сокращение выпущенных игр, что может говорить о смене концепции игр и популярности платформ. Сравним таблицы и выясним, какие платформы перестали быть популярными."
   ]
  },
  {
   "cell_type": "code",
   "execution_count": 24,
   "metadata": {
    "scrolled": false
   },
   "outputs": [
    {
     "data": {
      "text/html": [
       "<div>\n",
       "<style scoped>\n",
       "    .dataframe tbody tr th:only-of-type {\n",
       "        vertical-align: middle;\n",
       "    }\n",
       "\n",
       "    .dataframe tbody tr th {\n",
       "        vertical-align: top;\n",
       "    }\n",
       "\n",
       "    .dataframe thead th {\n",
       "        text-align: right;\n",
       "    }\n",
       "</style>\n",
       "<table border=\"1\" class=\"dataframe\">\n",
       "  <thead>\n",
       "    <tr style=\"text-align: right;\">\n",
       "      <th></th>\n",
       "      <th>number_of_games</th>\n",
       "    </tr>\n",
       "    <tr>\n",
       "      <th>platform</th>\n",
       "      <th></th>\n",
       "    </tr>\n",
       "  </thead>\n",
       "  <tbody>\n",
       "    <tr>\n",
       "      <th>DS</th>\n",
       "      <td>31</td>\n",
       "    </tr>\n",
       "    <tr>\n",
       "      <th>Wii</th>\n",
       "      <td>54</td>\n",
       "    </tr>\n",
       "    <tr>\n",
       "      <th>WiiU</th>\n",
       "      <td>147</td>\n",
       "    </tr>\n",
       "    <tr>\n",
       "      <th>PSP</th>\n",
       "      <td>173</td>\n",
       "    </tr>\n",
       "    <tr>\n",
       "      <th>XOne</th>\n",
       "      <td>247</td>\n",
       "    </tr>\n",
       "    <tr>\n",
       "      <th>PC</th>\n",
       "      <td>250</td>\n",
       "    </tr>\n",
       "    <tr>\n",
       "      <th>X360</th>\n",
       "      <td>292</td>\n",
       "    </tr>\n",
       "    <tr>\n",
       "      <th>PS4</th>\n",
       "      <td>392</td>\n",
       "    </tr>\n",
       "    <tr>\n",
       "      <th>3DS</th>\n",
       "      <td>396</td>\n",
       "    </tr>\n",
       "    <tr>\n",
       "      <th>PSV</th>\n",
       "      <td>411</td>\n",
       "    </tr>\n",
       "    <tr>\n",
       "      <th>PS3</th>\n",
       "      <td>492</td>\n",
       "    </tr>\n",
       "  </tbody>\n",
       "</table>\n",
       "</div>"
      ],
      "text/plain": [
       "          number_of_games\n",
       "platform                 \n",
       "DS                     31\n",
       "Wii                    54\n",
       "WiiU                  147\n",
       "PSP                   173\n",
       "XOne                  247\n",
       "PC                    250\n",
       "X360                  292\n",
       "PS4                   392\n",
       "3DS                   396\n",
       "PSV                   411\n",
       "PS3                   492"
      ]
     },
     "execution_count": 24,
     "metadata": {},
     "output_type": "execute_result"
    }
   ],
   "source": [
    "actual_years = data[data['year_of_release'] >= 2012]\n",
    "actual_platforms = actual_years.pivot_table(index='platform', values='name', aggfunc='count')\n",
    "actual_platforms.columns = ['number_of_games']\n",
    "actual_platforms.sort_values(by='number_of_games')"
   ]
  },
  {
   "cell_type": "markdown",
   "metadata": {},
   "source": [
    "<a id='actual_platforms'></a>\n",
    "Многие платформы за 10 лет перестали быть популярными, их вытеснили приставки по типу XBox и PlayStation, а также персональные компьютеры. Можно сделать вывод, что стоит рассматривать все платформы из таблицы выше, за исключением DS, Wii, WiiU, PSP."
   ]
  },
  {
   "cell_type": "code",
   "execution_count": 25,
   "metadata": {
    "scrolled": false
   },
   "outputs": [
    {
     "data": {
      "text/html": [
       "<div>\n",
       "<style scoped>\n",
       "    .dataframe tbody tr th:only-of-type {\n",
       "        vertical-align: middle;\n",
       "    }\n",
       "\n",
       "    .dataframe tbody tr th {\n",
       "        vertical-align: top;\n",
       "    }\n",
       "\n",
       "    .dataframe thead th {\n",
       "        text-align: right;\n",
       "    }\n",
       "</style>\n",
       "<table border=\"1\" class=\"dataframe\">\n",
       "  <thead>\n",
       "    <tr style=\"text-align: right;\">\n",
       "      <th></th>\n",
       "      <th>name</th>\n",
       "      <th>platform</th>\n",
       "      <th>year_of_release</th>\n",
       "      <th>genre</th>\n",
       "      <th>na_sales</th>\n",
       "      <th>eu_sales</th>\n",
       "      <th>jp_sales</th>\n",
       "      <th>other_sales</th>\n",
       "      <th>critic_score</th>\n",
       "      <th>user_score</th>\n",
       "      <th>rating</th>\n",
       "      <th>total_sales</th>\n",
       "    </tr>\n",
       "  </thead>\n",
       "  <tbody>\n",
       "    <tr>\n",
       "      <th>16</th>\n",
       "      <td>Grand Theft Auto V</td>\n",
       "      <td>PS3</td>\n",
       "      <td>2013.0</td>\n",
       "      <td>Action</td>\n",
       "      <td>7.02</td>\n",
       "      <td>9.09</td>\n",
       "      <td>0.98</td>\n",
       "      <td>3.96</td>\n",
       "      <td>97.0</td>\n",
       "      <td>8.2</td>\n",
       "      <td>M</td>\n",
       "      <td>21.05</td>\n",
       "    </tr>\n",
       "    <tr>\n",
       "      <th>23</th>\n",
       "      <td>Grand Theft Auto V</td>\n",
       "      <td>X360</td>\n",
       "      <td>2013.0</td>\n",
       "      <td>Action</td>\n",
       "      <td>9.66</td>\n",
       "      <td>5.14</td>\n",
       "      <td>0.06</td>\n",
       "      <td>1.41</td>\n",
       "      <td>97.0</td>\n",
       "      <td>8.1</td>\n",
       "      <td>M</td>\n",
       "      <td>16.27</td>\n",
       "    </tr>\n",
       "    <tr>\n",
       "      <th>31</th>\n",
       "      <td>Call of Duty: Black Ops 3</td>\n",
       "      <td>PS4</td>\n",
       "      <td>2015.0</td>\n",
       "      <td>Shooter</td>\n",
       "      <td>6.03</td>\n",
       "      <td>5.86</td>\n",
       "      <td>0.36</td>\n",
       "      <td>2.38</td>\n",
       "      <td>NaN</td>\n",
       "      <td>NaN</td>\n",
       "      <td>unknown</td>\n",
       "      <td>14.63</td>\n",
       "    </tr>\n",
       "    <tr>\n",
       "      <th>33</th>\n",
       "      <td>Pokemon X/Pokemon Y</td>\n",
       "      <td>3DS</td>\n",
       "      <td>2013.0</td>\n",
       "      <td>Role-Playing</td>\n",
       "      <td>5.28</td>\n",
       "      <td>4.19</td>\n",
       "      <td>4.35</td>\n",
       "      <td>0.78</td>\n",
       "      <td>NaN</td>\n",
       "      <td>NaN</td>\n",
       "      <td>unknown</td>\n",
       "      <td>14.60</td>\n",
       "    </tr>\n",
       "    <tr>\n",
       "      <th>34</th>\n",
       "      <td>Call of Duty: Black Ops II</td>\n",
       "      <td>PS3</td>\n",
       "      <td>2012.0</td>\n",
       "      <td>Shooter</td>\n",
       "      <td>4.99</td>\n",
       "      <td>5.73</td>\n",
       "      <td>0.65</td>\n",
       "      <td>2.42</td>\n",
       "      <td>83.0</td>\n",
       "      <td>5.3</td>\n",
       "      <td>M</td>\n",
       "      <td>13.79</td>\n",
       "    </tr>\n",
       "    <tr>\n",
       "      <th>...</th>\n",
       "      <td>...</td>\n",
       "      <td>...</td>\n",
       "      <td>...</td>\n",
       "      <td>...</td>\n",
       "      <td>...</td>\n",
       "      <td>...</td>\n",
       "      <td>...</td>\n",
       "      <td>...</td>\n",
       "      <td>...</td>\n",
       "      <td>...</td>\n",
       "      <td>...</td>\n",
       "      <td>...</td>\n",
       "    </tr>\n",
       "    <tr>\n",
       "      <th>16699</th>\n",
       "      <td>Strawberry Nauts</td>\n",
       "      <td>PSV</td>\n",
       "      <td>2016.0</td>\n",
       "      <td>Adventure</td>\n",
       "      <td>0.00</td>\n",
       "      <td>0.00</td>\n",
       "      <td>0.01</td>\n",
       "      <td>0.00</td>\n",
       "      <td>NaN</td>\n",
       "      <td>NaN</td>\n",
       "      <td>unknown</td>\n",
       "      <td>0.01</td>\n",
       "    </tr>\n",
       "    <tr>\n",
       "      <th>16703</th>\n",
       "      <td>Aiyoku no Eustia</td>\n",
       "      <td>PSV</td>\n",
       "      <td>2014.0</td>\n",
       "      <td>Misc</td>\n",
       "      <td>0.00</td>\n",
       "      <td>0.00</td>\n",
       "      <td>0.01</td>\n",
       "      <td>0.00</td>\n",
       "      <td>NaN</td>\n",
       "      <td>NaN</td>\n",
       "      <td>unknown</td>\n",
       "      <td>0.01</td>\n",
       "    </tr>\n",
       "    <tr>\n",
       "      <th>16706</th>\n",
       "      <td>Samurai Warriors: Sanada Maru</td>\n",
       "      <td>PS3</td>\n",
       "      <td>2016.0</td>\n",
       "      <td>Action</td>\n",
       "      <td>0.00</td>\n",
       "      <td>0.00</td>\n",
       "      <td>0.01</td>\n",
       "      <td>0.00</td>\n",
       "      <td>NaN</td>\n",
       "      <td>NaN</td>\n",
       "      <td>unknown</td>\n",
       "      <td>0.01</td>\n",
       "    </tr>\n",
       "    <tr>\n",
       "      <th>16708</th>\n",
       "      <td>Haitaka no Psychedelica</td>\n",
       "      <td>PSV</td>\n",
       "      <td>2016.0</td>\n",
       "      <td>Adventure</td>\n",
       "      <td>0.00</td>\n",
       "      <td>0.00</td>\n",
       "      <td>0.01</td>\n",
       "      <td>0.00</td>\n",
       "      <td>NaN</td>\n",
       "      <td>NaN</td>\n",
       "      <td>unknown</td>\n",
       "      <td>0.01</td>\n",
       "    </tr>\n",
       "    <tr>\n",
       "      <th>16710</th>\n",
       "      <td>Winning Post 8 2016</td>\n",
       "      <td>PSV</td>\n",
       "      <td>2016.0</td>\n",
       "      <td>Simulation</td>\n",
       "      <td>0.00</td>\n",
       "      <td>0.00</td>\n",
       "      <td>0.01</td>\n",
       "      <td>0.00</td>\n",
       "      <td>NaN</td>\n",
       "      <td>NaN</td>\n",
       "      <td>unknown</td>\n",
       "      <td>0.01</td>\n",
       "    </tr>\n",
       "  </tbody>\n",
       "</table>\n",
       "<p>2480 rows × 12 columns</p>\n",
       "</div>"
      ],
      "text/plain": [
       "                                name platform  year_of_release         genre  \\\n",
       "16                Grand Theft Auto V      PS3           2013.0        Action   \n",
       "23                Grand Theft Auto V     X360           2013.0        Action   \n",
       "31         Call of Duty: Black Ops 3      PS4           2015.0       Shooter   \n",
       "33               Pokemon X/Pokemon Y      3DS           2013.0  Role-Playing   \n",
       "34        Call of Duty: Black Ops II      PS3           2012.0       Shooter   \n",
       "...                              ...      ...              ...           ...   \n",
       "16699               Strawberry Nauts      PSV           2016.0     Adventure   \n",
       "16703               Aiyoku no Eustia      PSV           2014.0          Misc   \n",
       "16706  Samurai Warriors: Sanada Maru      PS3           2016.0        Action   \n",
       "16708        Haitaka no Psychedelica      PSV           2016.0     Adventure   \n",
       "16710            Winning Post 8 2016      PSV           2016.0    Simulation   \n",
       "\n",
       "       na_sales  eu_sales  jp_sales  other_sales  critic_score  user_score  \\\n",
       "16         7.02      9.09      0.98         3.96          97.0         8.2   \n",
       "23         9.66      5.14      0.06         1.41          97.0         8.1   \n",
       "31         6.03      5.86      0.36         2.38           NaN         NaN   \n",
       "33         5.28      4.19      4.35         0.78           NaN         NaN   \n",
       "34         4.99      5.73      0.65         2.42          83.0         5.3   \n",
       "...         ...       ...       ...          ...           ...         ...   \n",
       "16699      0.00      0.00      0.01         0.00           NaN         NaN   \n",
       "16703      0.00      0.00      0.01         0.00           NaN         NaN   \n",
       "16706      0.00      0.00      0.01         0.00           NaN         NaN   \n",
       "16708      0.00      0.00      0.01         0.00           NaN         NaN   \n",
       "16710      0.00      0.00      0.01         0.00           NaN         NaN   \n",
       "\n",
       "        rating  total_sales  \n",
       "16           M        21.05  \n",
       "23           M        16.27  \n",
       "31     unknown        14.63  \n",
       "33     unknown        14.60  \n",
       "34           M        13.79  \n",
       "...        ...          ...  \n",
       "16699  unknown         0.01  \n",
       "16703  unknown         0.01  \n",
       "16706  unknown         0.01  \n",
       "16708  unknown         0.01  \n",
       "16710  unknown         0.01  \n",
       "\n",
       "[2480 rows x 12 columns]"
      ]
     },
     "execution_count": 25,
     "metadata": {},
     "output_type": "execute_result"
    }
   ],
   "source": [
    "tmp = (actual_platforms\n",
    "       .pivot_table(index='platform', values='number_of_games', aggfunc= 'sum').sort_values('number_of_games', ascending=False)\n",
    "      )\n",
    "actual_years_platforms = actual_years.loc[actual_years['platform'].isin(tmp.index[:7].tolist())]\n",
    "actual_years_platforms\n"
   ]
  },
  {
   "cell_type": "markdown",
   "metadata": {},
   "source": [
    "Посмотрим на популярные игровые платформы по годам, учитывая количество выпущенных игр. <a id='popular_platforms'></a>"
   ]
  },
  {
   "cell_type": "code",
   "execution_count": 26,
   "metadata": {},
   "outputs": [
    {
     "data": {
      "text/html": [
       "<div>\n",
       "<style scoped>\n",
       "    .dataframe tbody tr th:only-of-type {\n",
       "        vertical-align: middle;\n",
       "    }\n",
       "\n",
       "    .dataframe tbody tr th {\n",
       "        vertical-align: top;\n",
       "    }\n",
       "\n",
       "    .dataframe thead th {\n",
       "        text-align: right;\n",
       "    }\n",
       "</style>\n",
       "<table border=\"1\" class=\"dataframe\">\n",
       "  <thead>\n",
       "    <tr style=\"text-align: right;\">\n",
       "      <th></th>\n",
       "      <th></th>\n",
       "      <th>number_of_games</th>\n",
       "    </tr>\n",
       "    <tr>\n",
       "      <th>year_of_release</th>\n",
       "      <th>platform</th>\n",
       "      <th></th>\n",
       "    </tr>\n",
       "  </thead>\n",
       "  <tbody>\n",
       "    <tr>\n",
       "      <th rowspan=\"5\" valign=\"top\">2012.0</th>\n",
       "      <th>3DS</th>\n",
       "      <td>93</td>\n",
       "    </tr>\n",
       "    <tr>\n",
       "      <th>PC</th>\n",
       "      <td>61</td>\n",
       "    </tr>\n",
       "    <tr>\n",
       "      <th>PS3</th>\n",
       "      <td>147</td>\n",
       "    </tr>\n",
       "    <tr>\n",
       "      <th>PSV</th>\n",
       "      <td>53</td>\n",
       "    </tr>\n",
       "    <tr>\n",
       "      <th>X360</th>\n",
       "      <td>106</td>\n",
       "    </tr>\n",
       "    <tr>\n",
       "      <th rowspan=\"7\" valign=\"top\">2013.0</th>\n",
       "      <th>3DS</th>\n",
       "      <td>91</td>\n",
       "    </tr>\n",
       "    <tr>\n",
       "      <th>PC</th>\n",
       "      <td>38</td>\n",
       "    </tr>\n",
       "    <tr>\n",
       "      <th>PS3</th>\n",
       "      <td>126</td>\n",
       "    </tr>\n",
       "    <tr>\n",
       "      <th>PS4</th>\n",
       "      <td>16</td>\n",
       "    </tr>\n",
       "    <tr>\n",
       "      <th>PSV</th>\n",
       "      <td>63</td>\n",
       "    </tr>\n",
       "    <tr>\n",
       "      <th>X360</th>\n",
       "      <td>75</td>\n",
       "    </tr>\n",
       "    <tr>\n",
       "      <th>XOne</th>\n",
       "      <td>19</td>\n",
       "    </tr>\n",
       "    <tr>\n",
       "      <th rowspan=\"7\" valign=\"top\">2014.0</th>\n",
       "      <th>3DS</th>\n",
       "      <td>80</td>\n",
       "    </tr>\n",
       "    <tr>\n",
       "      <th>PC</th>\n",
       "      <td>47</td>\n",
       "    </tr>\n",
       "    <tr>\n",
       "      <th>PS3</th>\n",
       "      <td>108</td>\n",
       "    </tr>\n",
       "    <tr>\n",
       "      <th>PS4</th>\n",
       "      <td>75</td>\n",
       "    </tr>\n",
       "    <tr>\n",
       "      <th>PSV</th>\n",
       "      <td>100</td>\n",
       "    </tr>\n",
       "    <tr>\n",
       "      <th>X360</th>\n",
       "      <td>63</td>\n",
       "    </tr>\n",
       "    <tr>\n",
       "      <th>XOne</th>\n",
       "      <td>61</td>\n",
       "    </tr>\n",
       "    <tr>\n",
       "      <th rowspan=\"7\" valign=\"top\">2015.0</th>\n",
       "      <th>3DS</th>\n",
       "      <td>86</td>\n",
       "    </tr>\n",
       "    <tr>\n",
       "      <th>PC</th>\n",
       "      <td>50</td>\n",
       "    </tr>\n",
       "    <tr>\n",
       "      <th>PS3</th>\n",
       "      <td>73</td>\n",
       "    </tr>\n",
       "    <tr>\n",
       "      <th>PS4</th>\n",
       "      <td>137</td>\n",
       "    </tr>\n",
       "    <tr>\n",
       "      <th>PSV</th>\n",
       "      <td>110</td>\n",
       "    </tr>\n",
       "    <tr>\n",
       "      <th>X360</th>\n",
       "      <td>35</td>\n",
       "    </tr>\n",
       "    <tr>\n",
       "      <th>XOne</th>\n",
       "      <td>80</td>\n",
       "    </tr>\n",
       "    <tr>\n",
       "      <th rowspan=\"7\" valign=\"top\">2016.0</th>\n",
       "      <th>3DS</th>\n",
       "      <td>46</td>\n",
       "    </tr>\n",
       "    <tr>\n",
       "      <th>PC</th>\n",
       "      <td>54</td>\n",
       "    </tr>\n",
       "    <tr>\n",
       "      <th>PS3</th>\n",
       "      <td>38</td>\n",
       "    </tr>\n",
       "    <tr>\n",
       "      <th>PS4</th>\n",
       "      <td>164</td>\n",
       "    </tr>\n",
       "    <tr>\n",
       "      <th>PSV</th>\n",
       "      <td>85</td>\n",
       "    </tr>\n",
       "    <tr>\n",
       "      <th>X360</th>\n",
       "      <td>13</td>\n",
       "    </tr>\n",
       "    <tr>\n",
       "      <th>XOne</th>\n",
       "      <td>87</td>\n",
       "    </tr>\n",
       "  </tbody>\n",
       "</table>\n",
       "</div>"
      ],
      "text/plain": [
       "                          number_of_games\n",
       "year_of_release platform                 \n",
       "2012.0          3DS                    93\n",
       "                PC                     61\n",
       "                PS3                   147\n",
       "                PSV                    53\n",
       "                X360                  106\n",
       "2013.0          3DS                    91\n",
       "                PC                     38\n",
       "                PS3                   126\n",
       "                PS4                    16\n",
       "                PSV                    63\n",
       "                X360                   75\n",
       "                XOne                   19\n",
       "2014.0          3DS                    80\n",
       "                PC                     47\n",
       "                PS3                   108\n",
       "                PS4                    75\n",
       "                PSV                   100\n",
       "                X360                   63\n",
       "                XOne                   61\n",
       "2015.0          3DS                    86\n",
       "                PC                     50\n",
       "                PS3                    73\n",
       "                PS4                   137\n",
       "                PSV                   110\n",
       "                X360                   35\n",
       "                XOne                   80\n",
       "2016.0          3DS                    46\n",
       "                PC                     54\n",
       "                PS3                    38\n",
       "                PS4                   164\n",
       "                PSV                    85\n",
       "                X360                   13\n",
       "                XOne                   87"
      ]
     },
     "execution_count": 26,
     "metadata": {},
     "output_type": "execute_result"
    }
   ],
   "source": [
    "games_by_platform = actual_years_platforms.pivot_table(index=['year_of_release', 'platform'], values='name', aggfunc='count')\n",
    "games_by_platform.columns = ['number_of_games']\n",
    "games_by_platform"
   ]
  },
  {
   "cell_type": "code",
   "execution_count": 27,
   "metadata": {
    "scrolled": false
   },
   "outputs": [
    {
     "data": {
      "image/png": "[encoded data removed]",
      "text/plain": [
       "<Figure size 432x288 with 1 Axes>"
      ]
     },
     "metadata": {
      "needs_background": "light"
     },
     "output_type": "display_data"
    }
   ],
   "source": [
    "sns.barplot(data=games_by_platform.reset_index(), x='year_of_release', y='number_of_games', hue='platform').set(title='popular game platforms 2012-2016')\n",
    "sns.set(rc={'figure.figsize':(15,7)})\n",
    "plt.legend(bbox_to_anchor=(1,1))\n",
    "plt.show()"
   ]
  },
  {
   "cell_type": "markdown",
   "metadata": {},
   "source": [
    "Из графика выше можно сделать вывод, что популярность сильно теряет X360 и PS3, так как это уже устаревшее поколение приставок. В 2016 году также видно снижение количества выпускаемых игр для PSV и 3DS. Растут продажи игр на новое поколение приставок XOne и PS4, активно набирающих популярность, для бессмертного PC продажи практически не меняются."
   ]
  },
  {
   "cell_type": "markdown",
   "metadata": {},
   "source": [
    "Посмотрим на продажи игр по платформам."
   ]
  },
  {
   "cell_type": "code",
   "execution_count": 28,
   "metadata": {
    "scrolled": false
   },
   "outputs": [
    {
     "data": {
      "text/html": [
       "<div>\n",
       "<style scoped>\n",
       "    .dataframe tbody tr th:only-of-type {\n",
       "        vertical-align: middle;\n",
       "    }\n",
       "\n",
       "    .dataframe tbody tr th {\n",
       "        vertical-align: top;\n",
       "    }\n",
       "\n",
       "    .dataframe thead th {\n",
       "        text-align: right;\n",
       "    }\n",
       "</style>\n",
       "<table border=\"1\" class=\"dataframe\">\n",
       "  <thead>\n",
       "    <tr style=\"text-align: right;\">\n",
       "      <th></th>\n",
       "      <th>total_sales</th>\n",
       "    </tr>\n",
       "    <tr>\n",
       "      <th>platform</th>\n",
       "      <th></th>\n",
       "    </tr>\n",
       "  </thead>\n",
       "  <tbody>\n",
       "    <tr>\n",
       "      <th>PSP</th>\n",
       "      <td>11.19</td>\n",
       "    </tr>\n",
       "    <tr>\n",
       "      <th>DS</th>\n",
       "      <td>12.55</td>\n",
       "    </tr>\n",
       "    <tr>\n",
       "      <th>Wii</th>\n",
       "      <td>35.37</td>\n",
       "    </tr>\n",
       "    <tr>\n",
       "      <th>PSV</th>\n",
       "      <td>49.18</td>\n",
       "    </tr>\n",
       "    <tr>\n",
       "      <th>PC</th>\n",
       "      <td>62.65</td>\n",
       "    </tr>\n",
       "    <tr>\n",
       "      <th>WiiU</th>\n",
       "      <td>82.19</td>\n",
       "    </tr>\n",
       "    <tr>\n",
       "      <th>XOne</th>\n",
       "      <td>159.32</td>\n",
       "    </tr>\n",
       "    <tr>\n",
       "      <th>3DS</th>\n",
       "      <td>194.61</td>\n",
       "    </tr>\n",
       "    <tr>\n",
       "      <th>X360</th>\n",
       "      <td>236.54</td>\n",
       "    </tr>\n",
       "    <tr>\n",
       "      <th>PS3</th>\n",
       "      <td>288.78</td>\n",
       "    </tr>\n",
       "    <tr>\n",
       "      <th>PS4</th>\n",
       "      <td>314.14</td>\n",
       "    </tr>\n",
       "  </tbody>\n",
       "</table>\n",
       "</div>"
      ],
      "text/plain": [
       "          total_sales\n",
       "platform             \n",
       "PSP             11.19\n",
       "DS              12.55\n",
       "Wii             35.37\n",
       "PSV             49.18\n",
       "PC              62.65\n",
       "WiiU            82.19\n",
       "XOne           159.32\n",
       "3DS            194.61\n",
       "X360           236.54\n",
       "PS3            288.78\n",
       "PS4            314.14"
      ]
     },
     "execution_count": 28,
     "metadata": {},
     "output_type": "execute_result"
    }
   ],
   "source": [
    "actual_platforms_sales = actual_years.pivot_table(index='platform', values='total_sales', aggfunc='sum')\n",
    "actual_platforms_sales.sort_values(by='total_sales')"
   ]
  },
  {
   "cell_type": "markdown",
   "metadata": {},
   "source": [
    "Это данные на период с 2012 года. Данные по продажам коррелируют с данными по количеству выпущенных игр. Единственное - продажи игр на платформе WiiU довольно велики, но, вероятно, это отголоски времен и популярность в японском регионе, платформа устаревает."
   ]
  },
  {
   "cell_type": "code",
   "execution_count": 29,
   "metadata": {
    "scrolled": false
   },
   "outputs": [
    {
     "data": {
      "text/html": [
       "<div>\n",
       "<style scoped>\n",
       "    .dataframe tbody tr th:only-of-type {\n",
       "        vertical-align: middle;\n",
       "    }\n",
       "\n",
       "    .dataframe tbody tr th {\n",
       "        vertical-align: top;\n",
       "    }\n",
       "\n",
       "    .dataframe thead th {\n",
       "        text-align: right;\n",
       "    }\n",
       "</style>\n",
       "<table border=\"1\" class=\"dataframe\">\n",
       "  <thead>\n",
       "    <tr style=\"text-align: right;\">\n",
       "      <th></th>\n",
       "      <th></th>\n",
       "      <th>total_sales</th>\n",
       "    </tr>\n",
       "    <tr>\n",
       "      <th>year_of_release</th>\n",
       "      <th>platform</th>\n",
       "      <th></th>\n",
       "    </tr>\n",
       "  </thead>\n",
       "  <tbody>\n",
       "    <tr>\n",
       "      <th rowspan=\"5\" valign=\"top\">2012.0</th>\n",
       "      <th>3DS</th>\n",
       "      <td>51.36</td>\n",
       "    </tr>\n",
       "    <tr>\n",
       "      <th>PC</th>\n",
       "      <td>23.22</td>\n",
       "    </tr>\n",
       "    <tr>\n",
       "      <th>PS3</th>\n",
       "      <td>107.35</td>\n",
       "    </tr>\n",
       "    <tr>\n",
       "      <th>PSV</th>\n",
       "      <td>16.19</td>\n",
       "    </tr>\n",
       "    <tr>\n",
       "      <th>X360</th>\n",
       "      <td>99.74</td>\n",
       "    </tr>\n",
       "    <tr>\n",
       "      <th rowspan=\"7\" valign=\"top\">2013.0</th>\n",
       "      <th>3DS</th>\n",
       "      <td>56.57</td>\n",
       "    </tr>\n",
       "    <tr>\n",
       "      <th>PC</th>\n",
       "      <td>12.38</td>\n",
       "    </tr>\n",
       "    <tr>\n",
       "      <th>PS3</th>\n",
       "      <td>113.25</td>\n",
       "    </tr>\n",
       "    <tr>\n",
       "      <th>PS4</th>\n",
       "      <td>25.99</td>\n",
       "    </tr>\n",
       "    <tr>\n",
       "      <th>PSV</th>\n",
       "      <td>10.59</td>\n",
       "    </tr>\n",
       "    <tr>\n",
       "      <th>X360</th>\n",
       "      <td>88.58</td>\n",
       "    </tr>\n",
       "    <tr>\n",
       "      <th>XOne</th>\n",
       "      <td>18.96</td>\n",
       "    </tr>\n",
       "    <tr>\n",
       "      <th rowspan=\"7\" valign=\"top\">2014.0</th>\n",
       "      <th>3DS</th>\n",
       "      <td>43.76</td>\n",
       "    </tr>\n",
       "    <tr>\n",
       "      <th>PC</th>\n",
       "      <td>13.28</td>\n",
       "    </tr>\n",
       "    <tr>\n",
       "      <th>PS3</th>\n",
       "      <td>47.76</td>\n",
       "    </tr>\n",
       "    <tr>\n",
       "      <th>PS4</th>\n",
       "      <td>100.00</td>\n",
       "    </tr>\n",
       "    <tr>\n",
       "      <th>PSV</th>\n",
       "      <td>11.90</td>\n",
       "    </tr>\n",
       "    <tr>\n",
       "      <th>X360</th>\n",
       "      <td>34.74</td>\n",
       "    </tr>\n",
       "    <tr>\n",
       "      <th>XOne</th>\n",
       "      <td>54.07</td>\n",
       "    </tr>\n",
       "    <tr>\n",
       "      <th rowspan=\"7\" valign=\"top\">2015.0</th>\n",
       "      <th>3DS</th>\n",
       "      <td>27.78</td>\n",
       "    </tr>\n",
       "    <tr>\n",
       "      <th>PC</th>\n",
       "      <td>8.52</td>\n",
       "    </tr>\n",
       "    <tr>\n",
       "      <th>PS3</th>\n",
       "      <td>16.82</td>\n",
       "    </tr>\n",
       "    <tr>\n",
       "      <th>PS4</th>\n",
       "      <td>118.90</td>\n",
       "    </tr>\n",
       "    <tr>\n",
       "      <th>PSV</th>\n",
       "      <td>6.25</td>\n",
       "    </tr>\n",
       "    <tr>\n",
       "      <th>X360</th>\n",
       "      <td>11.96</td>\n",
       "    </tr>\n",
       "    <tr>\n",
       "      <th>XOne</th>\n",
       "      <td>60.14</td>\n",
       "    </tr>\n",
       "    <tr>\n",
       "      <th rowspan=\"7\" valign=\"top\">2016.0</th>\n",
       "      <th>3DS</th>\n",
       "      <td>15.14</td>\n",
       "    </tr>\n",
       "    <tr>\n",
       "      <th>PC</th>\n",
       "      <td>5.25</td>\n",
       "    </tr>\n",
       "    <tr>\n",
       "      <th>PS3</th>\n",
       "      <td>3.60</td>\n",
       "    </tr>\n",
       "    <tr>\n",
       "      <th>PS4</th>\n",
       "      <td>69.25</td>\n",
       "    </tr>\n",
       "    <tr>\n",
       "      <th>PSV</th>\n",
       "      <td>4.25</td>\n",
       "    </tr>\n",
       "    <tr>\n",
       "      <th>X360</th>\n",
       "      <td>1.52</td>\n",
       "    </tr>\n",
       "    <tr>\n",
       "      <th>XOne</th>\n",
       "      <td>26.15</td>\n",
       "    </tr>\n",
       "  </tbody>\n",
       "</table>\n",
       "</div>"
      ],
      "text/plain": [
       "                          total_sales\n",
       "year_of_release platform             \n",
       "2012.0          3DS             51.36\n",
       "                PC              23.22\n",
       "                PS3            107.35\n",
       "                PSV             16.19\n",
       "                X360            99.74\n",
       "2013.0          3DS             56.57\n",
       "                PC              12.38\n",
       "                PS3            113.25\n",
       "                PS4             25.99\n",
       "                PSV             10.59\n",
       "                X360            88.58\n",
       "                XOne            18.96\n",
       "2014.0          3DS             43.76\n",
       "                PC              13.28\n",
       "                PS3             47.76\n",
       "                PS4            100.00\n",
       "                PSV             11.90\n",
       "                X360            34.74\n",
       "                XOne            54.07\n",
       "2015.0          3DS             27.78\n",
       "                PC               8.52\n",
       "                PS3             16.82\n",
       "                PS4            118.90\n",
       "                PSV              6.25\n",
       "                X360            11.96\n",
       "                XOne            60.14\n",
       "2016.0          3DS             15.14\n",
       "                PC               5.25\n",
       "                PS3              3.60\n",
       "                PS4             69.25\n",
       "                PSV              4.25\n",
       "                X360             1.52\n",
       "                XOne            26.15"
      ]
     },
     "execution_count": 29,
     "metadata": {},
     "output_type": "execute_result"
    }
   ],
   "source": [
    "games_by_platform_sales = actual_years_platforms.pivot_table(index=['year_of_release', 'platform'], values='total_sales', aggfunc='sum')\n",
    "\n",
    "games_by_platform_sales"
   ]
  },
  {
   "cell_type": "code",
   "execution_count": 30,
   "metadata": {
    "scrolled": false
   },
   "outputs": [
    {
     "data": {
      "image/png": "[encoded data removed]",
      "text/plain": [
       "<Figure size 1080x504 with 1 Axes>"
      ]
     },
     "metadata": {},
     "output_type": "display_data"
    }
   ],
   "source": [
    "sns.barplot(data=games_by_platform_sales.reset_index(), x='year_of_release', y='total_sales', hue='platform').set(title='popular game platforms 2012-2016 (by sales)')\n",
    "sns.set(rc={'figure.figsize':(15,7)})"
   ]
  },
  {
   "cell_type": "markdown",
   "metadata": {},
   "source": [
    "Здесь не будем ориентироваться на 2016г, так как по сравнению с количеством выпущенных игр, продажи полностью сразу посчитать нельзя. Сильно теряют в продажах игры на 3DS, PS3, PSV, X360. Ставку точно стоит сделать на PS4 и XOne, не стоит также забывать про вечный PC, продажи игр для которого меняются не сильно."
   ]
  },
  {
   "cell_type": "markdown",
   "metadata": {},
   "source": [
    "Построим график \"Ящик с усами\", чтобы посмотреть продажи по платформам."
   ]
  },
  {
   "cell_type": "code",
   "execution_count": 31,
   "metadata": {
    "scrolled": false
   },
   "outputs": [
    {
     "data": {
      "text/plain": [
       "(0.0, 3.0)"
      ]
     },
     "execution_count": 31,
     "metadata": {},
     "output_type": "execute_result"
    },
    {
     "data": {
      "image/png": "[encoded data removed]",
      "text/plain": [
       "<Figure size 1440x720 with 1 Axes>"
      ]
     },
     "metadata": {},
     "output_type": "display_data"
    }
   ],
   "source": [
    "actual_years_platforms.boxplot(column='total_sales', by='platform', figsize=(20, 10))\n",
    "plt.ylim(0, 3)    "
   ]
  },
  {
   "cell_type": "markdown",
   "metadata": {},
   "source": [
    "Рассмотрим графики ближе:"
   ]
  },
  {
   "cell_type": "code",
   "execution_count": 32,
   "metadata": {
    "scrolled": false
   },
   "outputs": [
    {
     "data": {
      "text/plain": [
       "(0.0, 0.85)"
      ]
     },
     "execution_count": 32,
     "metadata": {},
     "output_type": "execute_result"
    },
    {
     "data": {
      "image/png": "[encoded data removed]",
      "text/plain": [
       "<Figure size 1440x720 with 1 Axes>"
      ]
     },
     "metadata": {},
     "output_type": "display_data"
    }
   ],
   "source": [
    "actual_years_platforms.boxplot(column='total_sales', by='platform', figsize=(20, 10))\n",
    "plt.ylim(0, 0.85)    "
   ]
  },
  {
   "cell_type": "markdown",
   "metadata": {},
   "source": [
    "Любопытно, что у двух приставок PS разных поколения (3 и 4) одинаковая медиана, но у PS4 как у набирающей популярность есть смещение в сторону верхнего квартиля."
   ]
  },
  {
   "cell_type": "markdown",
   "metadata": {},
   "source": [
    "Наибольшие продажи у X360, PS4, XOne и PS3. Наименьшие у PSV. В совокупности с прошлыми результатами, следует предположить, что в следующем году продажи будут расти у игр на PS4 и XOne, как у набирающих популярность платформ."
   ]
  },
  {
   "cell_type": "markdown",
   "metadata": {},
   "source": [
    "<a id='scores'></a>\n",
    "Посмотрим, как влияют на продажи внутри платформы PS4 отзывы пользователей и критиков."
   ]
  },
  {
   "cell_type": "code",
   "execution_count": 33,
   "metadata": {},
   "outputs": [
    {
     "name": "stderr",
     "output_type": "stream",
     "text": [
      "*c* argument looks like a single numeric RGB or RGBA sequence, which should be avoided as value-mapping will have precedence in case its length matches with *x* & *y*.  Please use the *color* keyword-argument or provide a 2D array with a single row if you intend to specify the same RGB or RGBA value for all points.\n"
     ]
    },
    {
     "name": "stdout",
     "output_type": "stream",
     "text": [
      "Коэффициент корреляции между отзывами критиков и продажами: 0.406567902061781\n"
     ]
    },
    {
     "data": {
      "image/png": "[encoded data removed]",
      "text/plain": [
       "<Figure size 1080x504 with 1 Axes>"
      ]
     },
     "metadata": {},
     "output_type": "display_data"
    },
    {
     "name": "stderr",
     "output_type": "stream",
     "text": [
      "*c* argument looks like a single numeric RGB or RGBA sequence, which should be avoided as value-mapping will have precedence in case its length matches with *x* & *y*.  Please use the *color* keyword-argument or provide a 2D array with a single row if you intend to specify the same RGB or RGBA value for all points.\n"
     ]
    },
    {
     "name": "stdout",
     "output_type": "stream",
     "text": [
      "Коэффициент корреляции между отзывами пользователей и продажами: -0.031957110204556424\n"
     ]
    },
    {
     "data": {
      "image/png": "[encoded data removed]",
      "text/plain": [
       "<Figure size 1080x504 with 1 Axes>"
      ]
     },
     "metadata": {},
     "output_type": "display_data"
    }
   ],
   "source": [
    "def dependence_plotter(platform):\n",
    "    platform_data = actual_years[actual_years['platform'] == platform]\n",
    "\n",
    "    print('Коэффициент корреляции между отзывами критиков и продажами:', platform_data['total_sales'].corr(platform_data['critic_score']))  \n",
    "    platform_data.plot(x='critic_score', y='total_sales', kind='scatter') \n",
    "    plt.title('Влияние отзывов критиков на продажи')\n",
    "    plt.show()\n",
    "    print('Коэффициент корреляции между отзывами пользователей и продажами:',  platform_data['total_sales'].corr(platform_data['user_score']))  \n",
    "    platform_data.plot(x='user_score', y='total_sales', kind='scatter') \n",
    "    plt.title('Влияние отзывов пользователей на продажи')\n",
    "    plt.show()\n",
    "    \n",
    "dependence_plotter('PS4')"
   ]
  },
  {
   "cell_type": "markdown",
   "metadata": {},
   "source": [
    "Наблюдается слабая зависимость между отзывами критиков и продажами, но это не говорит о том, что на количество продаж влияет оценка критиков. Зависимости между отзывами пользователей и продажами нет."
   ]
  },
  {
   "cell_type": "markdown",
   "metadata": {},
   "source": [
    "PS3:"
   ]
  },
  {
   "cell_type": "code",
   "execution_count": 34,
   "metadata": {
    "scrolled": false
   },
   "outputs": [
    {
     "name": "stderr",
     "output_type": "stream",
     "text": [
      "*c* argument looks like a single numeric RGB or RGBA sequence, which should be avoided as value-mapping will have precedence in case its length matches with *x* & *y*.  Please use the *color* keyword-argument or provide a 2D array with a single row if you intend to specify the same RGB or RGBA value for all points.\n"
     ]
    },
    {
     "name": "stdout",
     "output_type": "stream",
     "text": [
      "Коэффициент корреляции между отзывами критиков и продажами: 0.3341517575509856\n"
     ]
    },
    {
     "data": {
      "image/png": "[encoded data removed]",
      "text/plain": [
       "<Figure size 1080x504 with 1 Axes>"
      ]
     },
     "metadata": {},
     "output_type": "display_data"
    },
    {
     "name": "stderr",
     "output_type": "stream",
     "text": [
      "*c* argument looks like a single numeric RGB or RGBA sequence, which should be avoided as value-mapping will have precedence in case its length matches with *x* & *y*.  Please use the *color* keyword-argument or provide a 2D array with a single row if you intend to specify the same RGB or RGBA value for all points.\n"
     ]
    },
    {
     "name": "stdout",
     "output_type": "stream",
     "text": [
      "Коэффициент корреляции между отзывами пользователей и продажами: -0.006205767686051499\n"
     ]
    },
    {
     "data": {
      "image/png": "[encoded data removed]",
      "text/plain": [
       "<Figure size 1080x504 with 1 Axes>"
      ]
     },
     "metadata": {},
     "output_type": "display_data"
    }
   ],
   "source": [
    "dependence_plotter('PS3')"
   ]
  },
  {
   "cell_type": "markdown",
   "metadata": {},
   "source": [
    "X360:"
   ]
  },
  {
   "cell_type": "code",
   "execution_count": 35,
   "metadata": {},
   "outputs": [
    {
     "name": "stderr",
     "output_type": "stream",
     "text": [
      "*c* argument looks like a single numeric RGB or RGBA sequence, which should be avoided as value-mapping will have precedence in case its length matches with *x* & *y*.  Please use the *color* keyword-argument or provide a 2D array with a single row if you intend to specify the same RGB or RGBA value for all points.\n"
     ]
    },
    {
     "name": "stdout",
     "output_type": "stream",
     "text": [
      "Коэффициент корреляции между отзывами критиков и продажами: 0.36057348885073365\n"
     ]
    },
    {
     "data": {
      "image/png": "[encoded data removed]",
      "text/plain": [
       "<Figure size 1080x504 with 1 Axes>"
      ]
     },
     "metadata": {},
     "output_type": "display_data"
    },
    {
     "name": "stderr",
     "output_type": "stream",
     "text": [
      "*c* argument looks like a single numeric RGB or RGBA sequence, which should be avoided as value-mapping will have precedence in case its length matches with *x* & *y*.  Please use the *color* keyword-argument or provide a 2D array with a single row if you intend to specify the same RGB or RGBA value for all points.\n"
     ]
    },
    {
     "name": "stdout",
     "output_type": "stream",
     "text": [
      "Коэффициент корреляции между отзывами пользователей и продажами: 0.0061639786462133256\n"
     ]
    },
    {
     "data": {
      "image/png": "[encoded data removed]",
      "text/plain": [
       "<Figure size 1080x504 with 1 Axes>"
      ]
     },
     "metadata": {},
     "output_type": "display_data"
    }
   ],
   "source": [
    "dependence_plotter('X360')"
   ]
  },
  {
   "cell_type": "markdown",
   "metadata": {},
   "source": [
    "3DS:"
   ]
  },
  {
   "cell_type": "code",
   "execution_count": 36,
   "metadata": {},
   "outputs": [
    {
     "name": "stderr",
     "output_type": "stream",
     "text": [
      "*c* argument looks like a single numeric RGB or RGBA sequence, which should be avoided as value-mapping will have precedence in case its length matches with *x* & *y*.  Please use the *color* keyword-argument or provide a 2D array with a single row if you intend to specify the same RGB or RGBA value for all points.\n"
     ]
    },
    {
     "name": "stdout",
     "output_type": "stream",
     "text": [
      "Коэффициент корреляции между отзывами критиков и продажами: 0.32080286953607845\n"
     ]
    },
    {
     "data": {
      "image/png": "[encoded data removed]",
      "text/plain": [
       "<Figure size 1080x504 with 1 Axes>"
      ]
     },
     "metadata": {},
     "output_type": "display_data"
    },
    {
     "name": "stderr",
     "output_type": "stream",
     "text": [
      "*c* argument looks like a single numeric RGB or RGBA sequence, which should be avoided as value-mapping will have precedence in case its length matches with *x* & *y*.  Please use the *color* keyword-argument or provide a 2D array with a single row if you intend to specify the same RGB or RGBA value for all points.\n"
     ]
    },
    {
     "name": "stdout",
     "output_type": "stream",
     "text": [
      "Коэффициент корреляции между отзывами пользователей и продажами: 0.19758263411038596\n"
     ]
    },
    {
     "data": {
      "image/png": "[encoded data removed]",
      "text/plain": [
       "<Figure size 1080x504 with 1 Axes>"
      ]
     },
     "metadata": {},
     "output_type": "display_data"
    }
   ],
   "source": [
    "dependence_plotter('3DS')"
   ]
  },
  {
   "cell_type": "markdown",
   "metadata": {},
   "source": [
    "На примере разных платформ убедились, что наблюдается слабая зависимость между отзывами критиков и продажами, зависимости между отзывами пользователей и продажами нет."
   ]
  },
  {
   "cell_type": "markdown",
   "metadata": {},
   "source": [
    "Определим наиболее популярные жанры игр:<a id='genres'></a>"
   ]
  },
  {
   "cell_type": "code",
   "execution_count": 37,
   "metadata": {},
   "outputs": [
    {
     "data": {
      "image/png": "[encoded data removed]",
      "text/plain": [
       "<Figure size 1080x504 with 1 Axes>"
      ]
     },
     "metadata": {},
     "output_type": "display_data"
    }
   ],
   "source": [
    "(actual_years\n",
    " .pivot_table(index='genre', values='total_sales', aggfunc='mean')\n",
    " .plot(kind='bar', figsize=(15, 7), color='#A7D2CB', width=0.8, alpha=0.7) \n",
    ")\n",
    "plt.xlabel('жанр')\n",
    "plt.ylabel('продажи')\n",
    "plt.title('Распределение продаж игр по жанрам за период 2012-2016 год')\n",
    "plt.show()"
   ]
  },
  {
   "cell_type": "markdown",
   "metadata": {},
   "source": [
    "Наиболее прибыльным жанром является экшен, наименее прибыльным - головоломки. Также среди прибыльных жанров закономерно выделяются шутеры, RPG и спортивные видеоигры."
   ]
  },
  {
   "cell_type": "markdown",
   "metadata": {},
   "source": [
    "Рассмотрев медианные значения продаж, избавившись от иллюзий из-за высокого количества продаж игр некоторых жанров, можно сделать вывод, что наиболее прибыльным жанром является шутер, наименее прибыльным - приключенческие игры. Также среди прибыльных жанров выделяются платформеры, RPG и спортивные видеоигры."
   ]
  },
  {
   "cell_type": "markdown",
   "metadata": {},
   "source": [
    "### Составим портрет пользователя каждого региона"
   ]
  },
  {
   "cell_type": "markdown",
   "metadata": {},
   "source": [
    "**Топ-5 платформ для каждого региона по продажам игр для них:**<a id='region_platforms'></a>"
   ]
  },
  {
   "cell_type": "markdown",
   "metadata": {},
   "source": [
    "Северная Америка:"
   ]
  },
  {
   "cell_type": "code",
   "execution_count": 38,
   "metadata": {},
   "outputs": [
    {
     "data": {
      "text/plain": [
       "<AxesSubplot:ylabel='na_sales'>"
      ]
     },
     "execution_count": 38,
     "metadata": {},
     "output_type": "execute_result"
    },
    {
     "data": {
      "image/png": "[encoded data removed]",
      "text/plain": [
       "<Figure size 648x648 with 1 Axes>"
      ]
     },
     "metadata": {},
     "output_type": "display_data"
    }
   ],
   "source": [
    "(\n",
    "    actual_years.pivot_table(index='platform', values='na_sales', aggfunc='sum')\n",
    "    .sort_values(by='na_sales', ascending=False)\n",
    "    .head()\n",
    "    .plot(kind='pie', y='na_sales', figsize=(9,9), autopct=\"%.2f\")\n",
    ")"
   ]
  },
  {
   "cell_type": "markdown",
   "metadata": {},
   "source": [
    "Европа:"
   ]
  },
  {
   "cell_type": "code",
   "execution_count": 39,
   "metadata": {},
   "outputs": [
    {
     "data": {
      "text/plain": [
       "<AxesSubplot:ylabel='eu_sales'>"
      ]
     },
     "execution_count": 39,
     "metadata": {},
     "output_type": "execute_result"
    },
    {
     "data": {
      "image/png": "[encoded data removed]",
      "text/plain": [
       "<Figure size 648x648 with 1 Axes>"
      ]
     },
     "metadata": {},
     "output_type": "display_data"
    }
   ],
   "source": [
    "(\n",
    "    actual_years\n",
    "    .pivot_table(index='platform', values='eu_sales', aggfunc='sum')\n",
    "    .sort_values(by='eu_sales', ascending=False)\n",
    "    .head()\n",
    "    .plot(kind='pie', y='eu_sales', figsize=(9,9), autopct=\"%.2f\")\n",
    ")"
   ]
  },
  {
   "cell_type": "markdown",
   "metadata": {},
   "source": [
    "Япония:"
   ]
  },
  {
   "cell_type": "code",
   "execution_count": 40,
   "metadata": {
    "scrolled": false
   },
   "outputs": [
    {
     "data": {
      "text/plain": [
       "<AxesSubplot:ylabel='jp_sales'>"
      ]
     },
     "execution_count": 40,
     "metadata": {},
     "output_type": "execute_result"
    },
    {
     "data": {
      "image/png": "[encoded data removed]",
      "text/plain": [
       "<Figure size 648x648 with 1 Axes>"
      ]
     },
     "metadata": {},
     "output_type": "display_data"
    }
   ],
   "source": [
    "(\n",
    "    actual_years\n",
    "    .pivot_table(index='platform', values='jp_sales', aggfunc='sum')\n",
    "    .sort_values(by='jp_sales', ascending=False)\n",
    "    .head()\n",
    "    .plot(kind='pie', y='jp_sales', figsize=(9,9), autopct=\"%.2f\")\n",
    ")"
   ]
  },
  {
   "cell_type": "markdown",
   "metadata": {},
   "source": [
    "В Европе и Северной Америке ситуация схожая, в топ-3 входят PS4, PS3 и X360, возможно, ввиду схожей культуры."
   ]
  },
  {
   "cell_type": "markdown",
   "metadata": {},
   "source": [
    "Японский регион выделяется: в топ-5 здесь входят приставки исключительно японских брендов, ввиду особенностей культуры в топе есть приставки, непопулярные в европейском и американском регионах, например, 3DS занимает первое место по продажам игр для нее."
   ]
  },
  {
   "cell_type": "markdown",
   "metadata": {},
   "source": [
    "**Топ-5 платформ для каждого региона по жанрам:** <a id='region_genres'></a>"
   ]
  },
  {
   "cell_type": "markdown",
   "metadata": {},
   "source": [
    "Северная Америка:"
   ]
  },
  {
   "cell_type": "code",
   "execution_count": 41,
   "metadata": {},
   "outputs": [
    {
     "data": {
      "text/plain": [
       "<AxesSubplot:ylabel='na_sales'>"
      ]
     },
     "execution_count": 41,
     "metadata": {},
     "output_type": "execute_result"
    },
    {
     "data": {
      "image/png": "[encoded data removed]",
      "text/plain": [
       "<Figure size 648x648 with 1 Axes>"
      ]
     },
     "metadata": {},
     "output_type": "display_data"
    }
   ],
   "source": [
    "(\n",
    "    actual_years.pivot_table(index='genre', values='na_sales', aggfunc='sum')\n",
    "    .sort_values(by='na_sales', ascending=False)\n",
    "    .head()\n",
    "    .plot(kind='pie', y='na_sales', figsize=(9,9), autopct=\"%.2f\")\n",
    ")"
   ]
  },
  {
   "cell_type": "markdown",
   "metadata": {},
   "source": [
    "Европа:"
   ]
  },
  {
   "cell_type": "code",
   "execution_count": 42,
   "metadata": {},
   "outputs": [
    {
     "data": {
      "text/plain": [
       "<AxesSubplot:ylabel='eu_sales'>"
      ]
     },
     "execution_count": 42,
     "metadata": {},
     "output_type": "execute_result"
    },
    {
     "data": {
      "image/png": "[encoded data removed]",
      "text/plain": [
       "<Figure size 648x648 with 1 Axes>"
      ]
     },
     "metadata": {},
     "output_type": "display_data"
    }
   ],
   "source": [
    "(\n",
    "    actual_years.pivot_table(index='genre', values='eu_sales', aggfunc='sum')\n",
    "    .sort_values(by='eu_sales', ascending=False)\n",
    "    .head()\n",
    "    .plot(kind='pie', y='eu_sales', figsize=(9,9), autopct=\"%.2f\")\n",
    ")"
   ]
  },
  {
   "cell_type": "markdown",
   "metadata": {},
   "source": [
    "Япония:"
   ]
  },
  {
   "cell_type": "code",
   "execution_count": 43,
   "metadata": {
    "scrolled": false
   },
   "outputs": [
    {
     "data": {
      "text/plain": [
       "<AxesSubplot:ylabel='jp_sales'>"
      ]
     },
     "execution_count": 43,
     "metadata": {},
     "output_type": "execute_result"
    },
    {
     "data": {
      "image/png": "[encoded data removed]",
      "text/plain": [
       "<Figure size 648x648 with 1 Axes>"
      ]
     },
     "metadata": {},
     "output_type": "display_data"
    }
   ],
   "source": [
    "(\n",
    "    actual_years.pivot_table(index='genre', values='jp_sales', aggfunc='sum')\n",
    "    .sort_values(by='jp_sales', ascending=False)\n",
    "    .head()\n",
    "    .plot(kind='pie', y='jp_sales', figsize=(9,9), autopct=\"%.2f\")\n",
    ")"
   ]
  },
  {
   "cell_type": "markdown",
   "metadata": {},
   "source": [
    "И снова подтверждение, что Япония самобытна. Если в европейском и американском регионе ситуация практически идентичная, за исключением 5го по популрности жанра (в Америке - аркады misc, в Европе - гонки), в Японии на первом месте RP игры, на втором - экшен, который не попал в топ для других регионов, как и симуляторы с файтингами."
   ]
  },
  {
   "cell_type": "markdown",
   "metadata": {},
   "source": [
    "**Посмотрим есть ли зависимость между рейтингом ESRB и продажами**<a id='rating'></a>"
   ]
  },
  {
   "cell_type": "markdown",
   "metadata": {},
   "source": [
    "«E» («Everyone») — «Для всех»: Содержание вполне подходит для всех возрастов. Такие игры могут понравиться и взрослым.<br><br>\n",
    "«E10+» («Everyone 10 and older») — «Для всех от 10 лет и старше»: Проекты с данным рейтингом могут содержать или немного больше мультипликационного или мягкого насилия, или несколько откровенные сцены, или минимальное количество крови.<br><br>\n",
    "«T» («Teen») — «Подросткам»: Игра подходит для лиц от 13 лет.<br><br>\n",
    "«M» («Mature») — «Для взрослых»: Материалы игры не подходят для лиц младше 17 лет.<br><br>"
   ]
  },
  {
   "cell_type": "markdown",
   "metadata": {},
   "source": [
    "Северная Америка:"
   ]
  },
  {
   "cell_type": "code",
   "execution_count": 44,
   "metadata": {
    "scrolled": false
   },
   "outputs": [
    {
     "data": {
      "image/png": "[encoded data removed]",
      "text/plain": [
       "<Figure size 1080x504 with 1 Axes>"
      ]
     },
     "metadata": {},
     "output_type": "display_data"
    }
   ],
   "source": [
    "(\n",
    "    actual_years.pivot_table(index='rating', values='na_sales', aggfunc='sum')\n",
    "    .plot(kind='bar', figsize=(15, 7), color='#A7D2CB', width=0.8, alpha=0.7)\n",
    ")\n",
    "plt.xlabel('рейтинг ESRB')\n",
    "plt.ylabel('продажи')\n",
    "plt.title('Распределение продаж игр по рейтингу ESRB за период 2012-2016 год')\n",
    "plt.show()"
   ]
  },
  {
   "cell_type": "markdown",
   "metadata": {},
   "source": [
    "Европа:"
   ]
  },
  {
   "cell_type": "code",
   "execution_count": 45,
   "metadata": {},
   "outputs": [
    {
     "data": {
      "image/png": "[encoded data removed]",
      "text/plain": [
       "<Figure size 1080x504 with 1 Axes>"
      ]
     },
     "metadata": {},
     "output_type": "display_data"
    }
   ],
   "source": [
    "(\n",
    "    actual_years.pivot_table(index='rating', values='eu_sales', aggfunc='sum')\n",
    "    .plot(kind='bar', figsize=(15, 7), color='#A7D2CB', width=0.8, alpha=0.7)\n",
    ")\n",
    "plt.xlabel('рейтинг ESRB')\n",
    "plt.ylabel('продажи')\n",
    "plt.title('Распределение продаж игр по рейтингу ESRB за период 2012-2016 год')\n",
    "plt.show()"
   ]
  },
  {
   "cell_type": "markdown",
   "metadata": {},
   "source": [
    "Япония:"
   ]
  },
  {
   "cell_type": "code",
   "execution_count": 46,
   "metadata": {},
   "outputs": [
    {
     "data": {
      "image/png": "[encoded data removed]",
      "text/plain": [
       "<Figure size 1080x504 with 1 Axes>"
      ]
     },
     "metadata": {},
     "output_type": "display_data"
    }
   ],
   "source": [
    "(\n",
    "    actual_years.pivot_table(index='rating', values='jp_sales', aggfunc='sum')\n",
    "    .plot(kind='bar', figsize=(15, 7), color='#A7D2CB', width=0.8, alpha=0.7)\n",
    ")\n",
    "plt.xlabel('рейтинг ESRB')\n",
    "plt.ylabel('продажи')\n",
    "plt.title('Распределение продаж игр по рейтингу ESRB за период 2012-2016 год')\n",
    "plt.show()"
   ]
  },
  {
   "cell_type": "markdown",
   "metadata": {},
   "source": [
    "Япония и тут отличается от всех. Вопреки ожиданиям и некоторым стереотипам, игры с рейтингом \"M\" здесь не так популярны, как в западных регионах (там игры с таким рейтингом самые популярные). С другой стороны, у нас нет данных по играм рейтинга \"AO\".<br> Если в американском и европейском регионах ситуация опять же идентичная: самые популярные игры - для взрослых, затем для всех, для всех от 10 и старше, для подростков, - то в японском регионе самые популярные - игры для всех, для подростков, для взрослых, затем для всех от 10 и старше."
   ]
  },
  {
   "cell_type": "markdown",
   "metadata": {},
   "source": [
    "Большую долю продаж занимают игры без рейтинга ESRB. Особенно это касается Японии. Возможно, в японском регионе очень много непопулярных игр какого-то эндемичного характера, для популярных только в этом регионе небольших приставок. Либо в данных решили не указывать рейтинг для игр определенной категории.\n"
   ]
  },
  {
   "cell_type": "markdown",
   "metadata": {},
   "source": [
    "Помимо всего прочего, рейтинг ESRB - это американский рейтинг, а в Японии есть своё рейтинговое агентство (CERO). Известно, что у Японии свой менталитет. Анализ показывает, что Японцы в игры играют не такие, как весь прочий мир и жанры игр там популярны совсем другие, нежели в остальном мире, и на рейтинги (не своего агентства) не очень обращают внимание."
   ]
  },
  {
   "cell_type": "markdown",
   "metadata": {},
   "source": [
    "Можно сказать, что игры с рейтингом \"M\" лучше всего продаются в западных регионах, а игры с рейтингом \"E\" - в японском."
   ]
  },
  {
   "cell_type": "markdown",
   "metadata": {},
   "source": [
    "### Проверка гипотез"
   ]
  },
  {
   "cell_type": "markdown",
   "metadata": {},
   "source": [
    "<a id='hyp_1'></a>\n",
    "Первая нулевая гипотеза: средние пользовательские рейтинги платформ Xbox One и PC одинаковые. Альтернативная: средние пользовательские рейтинги платформ Xbox One и PC различаются. \n",
    "```\n",
    "H_0: Пользовательский рейтинг (user_score) на платформе Xbox One = пользовательский рейтинг (user_score) на платформе PC\n",
    "H_a: Пользовательский рейтинг (user_score) на платформе Xbox One ≠ пользовательский рейтинг (user_score) на платформе PC\n",
    "alpha = 0.05\n",
    "```"
   ]
  },
  {
   "cell_type": "code",
   "execution_count": 47,
   "metadata": {
    "scrolled": true
   },
   "outputs": [
    {
     "name": "stdout",
     "output_type": "stream",
     "text": [
      "p-значение: 0.5535080500643661\n",
      "Не получилось отвергнуть нулевую гипотезу\n"
     ]
    }
   ],
   "source": [
    "alpha = 0.05\n",
    "\n",
    "results = st.ttest_ind(\n",
    "    actual_years.loc[(actual_years['platform'] == 'XOne') & (actual_years['user_score'].notna()), 'user_score'], \n",
    "    actual_years.loc[(actual_years['platform'] == 'PC') & (actual_years['user_score'].notna()), 'user_score'])\n",
    "\n",
    "print('p-значение:', results.pvalue)\n",
    "\n",
    "if results.pvalue < alpha:\n",
    "    print(\"Отвергаем нулевую гипотезу\")\n",
    "else:\n",
    "    print(\"Не получилось отвергнуть нулевую гипотезу\")"
   ]
  },
  {
   "cell_type": "markdown",
   "metadata": {},
   "source": [
    "Тест показал, что средние пользовательские рейтинги платформ Xbox One и PC одинаковые."
   ]
  },
  {
   "cell_type": "markdown",
   "metadata": {},
   "source": [
    "<a id='hyp_2'></a>\n",
    "Вторая нулевая гипотеза: средние пользовательские рейтинги жанров Action (англ. «действие», экшен-игры) и Sports (англ. «спортивные соревнования») одинаковые. Альтернативная: средние пользовательские рейтинги жанров Action (англ. «действие», экшен-игры) и Sports (англ. «спортивные соревнования») разные.\n",
    "```\n",
    "H_0: Пользовательский рейтинг (user_score) жанра Action = пользовательский рейтинг (user_score) жанра Sports`\n",
    "H_a: Пользовательский рейтинг (user_score) жанра Action ≠ пользовательский рейтинг (user_score) жанра Sports`\n",
    "alpha = 0.05\n",
    "```"
   ]
  },
  {
   "cell_type": "code",
   "execution_count": 48,
   "metadata": {
    "scrolled": true
   },
   "outputs": [
    {
     "name": "stdout",
     "output_type": "stream",
     "text": [
      "p-значение: 4.804523380462917e-26\n",
      "Отвергаем нулевую гипотезу\n"
     ]
    }
   ],
   "source": [
    "alpha = 0.05\n",
    "\n",
    "results = st.ttest_ind(\n",
    "    actual_years.loc[(actual_years['genre'] == 'Action') & (actual_years['user_score'].notna()), 'user_score'], \n",
    "    actual_years.loc[(actual_years['genre'] == 'Sports') & (actual_years['user_score'].notna()), 'user_score'])\n",
    "\n",
    "print('p-значение:', results.pvalue)\n",
    "\n",
    "if results.pvalue < alpha:\n",
    "    print(\"Отвергаем нулевую гипотезу\")\n",
    "else:\n",
    "    print(\"Не получилось отвергнуть нулевую гипотезу\")"
   ]
  },
  {
   "cell_type": "markdown",
   "metadata": {},
   "source": [
    "Тест показал, что средние пользовательские рейтинги жанров Action (англ. «действие», экшен-игры) и Sports (англ. «спортивные соревнования») разные."
   ]
  },
  {
   "cell_type": "markdown",
   "metadata": {},
   "source": [
    "Для проверки гипотез использовался t-критерий Стьюдента."
   ]
  },
  {
   "cell_type": "markdown",
   "metadata": {},
   "source": [
    "### Общий вывод"
   ]
  },
  {
   "cell_type": "markdown",
   "metadata": {},
   "source": [
    "<a id='conclusions'></a>\n",
    "В ходе первоначального исследования данных было выявлено, что столбцы critic_score, user_score и rating имеют большое количество пропусков. Обнаружилась общая закономерность в строках с пропущенными данными: пропуски в этих столбцах часто встречаются у слишком старых, слишком молодых и просто непопулярных игр. Стоит также отметить, что пропуски в столбцах могут быть вызваны ошибками в автоматическом сборе данных, либо человеческим фактором."
   ]
  },
  {
   "cell_type": "markdown",
   "metadata": {},
   "source": [
    "Информация в столбце \"user_score\" была переведена в числовой формат. Здесь было обнаружено значение \"tbd\", которое, судя по всему, означает \"To Be Determined\" и стоит у непопуярных на данный момент игр, оно было переведено в NaN."
   ]
  },
  {
   "cell_type": "markdown",
   "metadata": {},
   "source": [
    "Было обнаружено, что для многих игр отсутствует возрастной рейтинг. Для дальнейшего исследования таким играм присваивалось значение рейтинга \"unknown\"."
   ]
  },
  {
   "cell_type": "markdown",
   "metadata": {},
   "source": [
    "Исследование показало, что больше всего игр было выпущено в 2008-2009 годах. Актуальный период определен с 2012 года, как определяющего смену тенденций развития игровой индустрии."
   ]
  },
  {
   "cell_type": "markdown",
   "metadata": {},
   "source": [
    "Исследование проводилось для наиболее популярных платформ за актуальный период: 3DS, PC, PS3, PS4, PSV, X360, XOne. Выяснилось, что наибольший рост продаж игр наблюдается для платформ PS4 и XOne. Изменения в продажах игр практически отсутствуют для PC, именно на эти платформы стоит обратить внимание в следующем году."
   ]
  },
  {
   "cell_type": "markdown",
   "metadata": {},
   "source": [
    "Было определено, что продажи слабо зависят от отзывов критиков, не зависят от отзывов пользователей."
   ]
  },
  {
   "cell_type": "markdown",
   "metadata": {},
   "source": [
    "Наиболее прибыльным жанром является шутер, наименее прибыльным - приключенческие игры. Также среди прибыльных жанров выделяются платформеры, RPG и спортивные видеоигры."
   ]
  },
  {
   "cell_type": "markdown",
   "metadata": {},
   "source": [
    "Типичный представитель североамериканского и европейского регионов: играет на X360/PS4/PS3 в экшены и шутеры."
   ]
  },
  {
   "cell_type": "markdown",
   "metadata": {},
   "source": [
    "Типичный представитель японского региона: играет на 3DS/PS3 в RP игры и экшены."
   ]
  },
  {
   "cell_type": "markdown",
   "metadata": {},
   "source": [
    "Игры с рейтингом \"M\" лучше всего продаются в западных регионах, а игры с рейтингом \"E\" - в японском."
   ]
  },
  {
   "cell_type": "markdown",
   "metadata": {},
   "source": [
    "Большую долю продаж занимают игры без рейтинга ESRB. Особенно это касается Японии. Возможно, в японском регионе очень много непопулярных игр какого-то эндемичного характера, для популярных только в этом регионе небольших приставок. Либо в данных не был указан рейтинг для игр определенной категории.\n"
   ]
  },
  {
   "cell_type": "markdown",
   "metadata": {},
   "source": [
    "Были проверены некоторые гипотезы. Выявлено, что средние пользовательские рейтинги платформ Xbox One и PC одинаковые; средние пользовательские рейтинги жанров экшен и спортивных игр разные."
   ]
  },
  {
   "cell_type": "markdown",
   "metadata": {},
   "source": [
    "<a id='recomms'></a>\n",
    "Таким образом, в следующем году в западных регионах стоит делать ставку на игры жанров экшен и шутер на PS4 и XOne. В японском регионе на RP-игры и экшены для PS4/PS3, а также не забывать про 3DS."
   ]
  },
  {
   "cell_type": "markdown",
   "metadata": {},
   "source": [
    "<br>"
   ]
  },
  {
   "cell_type": "markdown",
   "metadata": {},
   "source": [
    "[В начало](#start)"
   ]
  }
 ],
 "metadata": {
  "ExecuteTimeLog": [
   {
    "duration": 455,
    "start_time": "2023-02-02T09:44:38.474Z"
   },
   {
    "duration": 104,
    "start_time": "2023-02-02T09:44:41.400Z"
   },
   {
    "duration": 45,
    "start_time": "2023-02-02T09:44:49.371Z"
   },
   {
    "duration": 57,
    "start_time": "2023-02-02T09:44:52.905Z"
   },
   {
    "duration": 22,
    "start_time": "2023-02-02T09:45:33.228Z"
   },
   {
    "duration": 59,
    "start_time": "2023-02-02T09:49:42.975Z"
   },
   {
    "duration": 4,
    "start_time": "2023-02-02T09:49:50.665Z"
   },
   {
    "duration": 4,
    "start_time": "2023-02-02T09:50:10.289Z"
   },
   {
    "duration": 13,
    "start_time": "2023-02-02T09:50:20.552Z"
   },
   {
    "duration": 1256,
    "start_time": "2023-02-02T10:00:43.864Z"
   },
   {
    "duration": 32,
    "start_time": "2023-02-02T10:01:51.632Z"
   },
   {
    "duration": 16,
    "start_time": "2023-02-02T10:30:32.871Z"
   },
   {
    "duration": 15,
    "start_time": "2023-02-02T10:31:14.757Z"
   },
   {
    "duration": 67,
    "start_time": "2023-02-02T10:31:23.191Z"
   },
   {
    "duration": 8,
    "start_time": "2023-02-02T10:33:27.145Z"
   },
   {
    "duration": 83,
    "start_time": "2023-02-02T10:33:34.665Z"
   },
   {
    "duration": 9,
    "start_time": "2023-02-02T10:35:09.594Z"
   },
   {
    "duration": 7,
    "start_time": "2023-02-02T10:35:28.379Z"
   },
   {
    "duration": 11,
    "start_time": "2023-02-02T10:36:51.226Z"
   },
   {
    "duration": 8,
    "start_time": "2023-02-02T10:37:28.706Z"
   },
   {
    "duration": 16,
    "start_time": "2023-02-02T10:40:01.753Z"
   },
   {
    "duration": 12,
    "start_time": "2023-02-02T10:42:04.461Z"
   },
   {
    "duration": 8,
    "start_time": "2023-02-02T10:44:36.597Z"
   },
   {
    "duration": 586,
    "start_time": "2023-02-02T10:45:33.141Z"
   },
   {
    "duration": 18,
    "start_time": "2023-02-02T10:47:16.526Z"
   },
   {
    "duration": 345,
    "start_time": "2023-02-02T10:58:53.157Z"
   },
   {
    "duration": 55,
    "start_time": "2023-02-02T10:58:53.504Z"
   },
   {
    "duration": 22,
    "start_time": "2023-02-02T10:58:53.561Z"
   },
   {
    "duration": 16,
    "start_time": "2023-02-02T10:58:53.585Z"
   },
   {
    "duration": 1068,
    "start_time": "2023-02-02T10:58:53.603Z"
   },
   {
    "duration": 71,
    "start_time": "2023-02-02T10:58:57.501Z"
   },
   {
    "duration": 15,
    "start_time": "2023-02-02T10:59:01.174Z"
   },
   {
    "duration": 8,
    "start_time": "2023-02-02T11:01:10.799Z"
   },
   {
    "duration": 18,
    "start_time": "2023-02-02T11:05:44.764Z"
   },
   {
    "duration": 10,
    "start_time": "2023-02-02T11:06:26.946Z"
   },
   {
    "duration": 355,
    "start_time": "2023-02-02T11:08:22.049Z"
   },
   {
    "duration": 58,
    "start_time": "2023-02-02T11:08:22.406Z"
   },
   {
    "duration": 21,
    "start_time": "2023-02-02T11:08:22.465Z"
   },
   {
    "duration": 14,
    "start_time": "2023-02-02T11:08:22.487Z"
   },
   {
    "duration": 1041,
    "start_time": "2023-02-02T11:08:22.503Z"
   },
   {
    "duration": 7,
    "start_time": "2023-02-02T11:08:23.546Z"
   },
   {
    "duration": 21,
    "start_time": "2023-02-02T11:08:23.554Z"
   },
   {
    "duration": 24,
    "start_time": "2023-02-02T11:08:23.576Z"
   },
   {
    "duration": 7,
    "start_time": "2023-02-02T11:08:23.601Z"
   },
   {
    "duration": 374,
    "start_time": "2023-02-02T11:09:21.325Z"
   },
   {
    "duration": 57,
    "start_time": "2023-02-02T11:09:21.701Z"
   },
   {
    "duration": 21,
    "start_time": "2023-02-02T11:09:21.759Z"
   },
   {
    "duration": 14,
    "start_time": "2023-02-02T11:09:21.781Z"
   },
   {
    "duration": 996,
    "start_time": "2023-02-02T11:09:21.799Z"
   },
   {
    "duration": 7,
    "start_time": "2023-02-02T11:09:22.798Z"
   },
   {
    "duration": 11,
    "start_time": "2023-02-02T11:09:22.806Z"
   },
   {
    "duration": 15,
    "start_time": "2023-02-02T11:09:22.818Z"
   },
   {
    "duration": 10,
    "start_time": "2023-02-02T11:09:22.835Z"
   },
   {
    "duration": 14,
    "start_time": "2023-02-02T11:09:49.330Z"
   },
   {
    "duration": 13,
    "start_time": "2023-02-02T11:09:54.098Z"
   },
   {
    "duration": 15,
    "start_time": "2023-02-02T11:10:26.675Z"
   },
   {
    "duration": 11,
    "start_time": "2023-02-02T11:10:29.399Z"
   },
   {
    "duration": 30,
    "start_time": "2023-02-02T11:11:19.096Z"
   },
   {
    "duration": 14,
    "start_time": "2023-02-02T11:20:02.237Z"
   },
   {
    "duration": 22,
    "start_time": "2023-02-02T11:22:34.954Z"
   },
   {
    "duration": 68,
    "start_time": "2023-02-02T11:23:39.737Z"
   },
   {
    "duration": 24,
    "start_time": "2023-02-02T11:24:15.030Z"
   },
   {
    "duration": 22,
    "start_time": "2023-02-02T11:24:44.547Z"
   },
   {
    "duration": 10,
    "start_time": "2023-02-02T11:51:10.098Z"
   },
   {
    "duration": 8,
    "start_time": "2023-02-02T11:51:23.217Z"
   },
   {
    "duration": 7,
    "start_time": "2023-02-02T11:51:34.307Z"
   },
   {
    "duration": 95,
    "start_time": "2023-02-02T12:18:58.521Z"
   },
   {
    "duration": 22,
    "start_time": "2023-02-02T12:19:29.398Z"
   },
   {
    "duration": 24,
    "start_time": "2023-02-02T12:21:35.500Z"
   },
   {
    "duration": 29,
    "start_time": "2023-02-02T12:22:11.323Z"
   },
   {
    "duration": 45,
    "start_time": "2023-02-02T12:31:51.275Z"
   },
   {
    "duration": 380,
    "start_time": "2023-02-02T12:32:00.526Z"
   },
   {
    "duration": 68,
    "start_time": "2023-02-02T12:32:00.908Z"
   },
   {
    "duration": 23,
    "start_time": "2023-02-02T12:32:00.978Z"
   },
   {
    "duration": 25,
    "start_time": "2023-02-02T12:32:01.004Z"
   },
   {
    "duration": 1000,
    "start_time": "2023-02-02T12:32:01.030Z"
   },
   {
    "duration": 7,
    "start_time": "2023-02-02T12:32:02.031Z"
   },
   {
    "duration": 21,
    "start_time": "2023-02-02T12:32:02.040Z"
   },
   {
    "duration": 43,
    "start_time": "2023-02-02T12:32:02.062Z"
   },
   {
    "duration": 16,
    "start_time": "2023-02-02T12:32:02.107Z"
   },
   {
    "duration": 22,
    "start_time": "2023-02-02T12:32:02.125Z"
   },
   {
    "duration": 19,
    "start_time": "2023-02-02T12:32:02.149Z"
   },
   {
    "duration": 39,
    "start_time": "2023-02-02T12:32:02.170Z"
   },
   {
    "duration": 9,
    "start_time": "2023-02-02T12:32:02.211Z"
   },
   {
    "duration": 16,
    "start_time": "2023-02-02T12:32:20.090Z"
   },
   {
    "duration": 15,
    "start_time": "2023-02-02T12:32:42.441Z"
   },
   {
    "duration": 435,
    "start_time": "2023-02-04T08:49:50.535Z"
   },
   {
    "duration": 210,
    "start_time": "2023-02-04T08:49:50.972Z"
   },
   {
    "duration": 21,
    "start_time": "2023-02-04T08:49:51.184Z"
   },
   {
    "duration": 16,
    "start_time": "2023-02-04T08:49:51.206Z"
   },
   {
    "duration": 1113,
    "start_time": "2023-02-04T08:49:51.224Z"
   },
   {
    "duration": 10,
    "start_time": "2023-02-04T08:49:52.339Z"
   },
   {
    "duration": 22,
    "start_time": "2023-02-04T08:49:52.351Z"
   },
   {
    "duration": 104,
    "start_time": "2023-02-04T08:49:52.375Z"
   },
   {
    "duration": 12,
    "start_time": "2023-02-04T08:49:52.480Z"
   },
   {
    "duration": 31,
    "start_time": "2023-02-04T08:49:52.493Z"
   },
   {
    "duration": 33,
    "start_time": "2023-02-04T08:49:52.526Z"
   },
   {
    "duration": 21,
    "start_time": "2023-02-04T08:49:52.560Z"
   },
   {
    "duration": 17,
    "start_time": "2023-02-04T08:49:52.582Z"
   },
   {
    "duration": 10,
    "start_time": "2023-02-04T08:49:52.602Z"
   },
   {
    "duration": 12,
    "start_time": "2023-02-04T08:50:11.655Z"
   },
   {
    "duration": 14,
    "start_time": "2023-02-04T08:50:21.154Z"
   },
   {
    "duration": 15,
    "start_time": "2023-02-04T08:51:57.607Z"
   },
   {
    "duration": 152,
    "start_time": "2023-02-04T09:06:48.677Z"
   },
   {
    "duration": 146,
    "start_time": "2023-02-04T09:07:43.365Z"
   },
   {
    "duration": 3,
    "start_time": "2023-02-04T09:10:18.468Z"
   },
   {
    "duration": 391,
    "start_time": "2023-02-04T09:11:16.050Z"
   },
   {
    "duration": 338,
    "start_time": "2023-02-04T09:11:34.578Z"
   },
   {
    "duration": 361,
    "start_time": "2023-02-04T09:11:43.461Z"
   },
   {
    "duration": 321,
    "start_time": "2023-02-04T09:13:12.832Z"
   },
   {
    "duration": 947,
    "start_time": "2023-02-04T09:14:38.964Z"
   },
   {
    "duration": 1115,
    "start_time": "2023-02-04T09:14:58.575Z"
   },
   {
    "duration": 735,
    "start_time": "2023-02-04T09:16:22.396Z"
   },
   {
    "duration": 766,
    "start_time": "2023-02-04T09:16:30.477Z"
   },
   {
    "duration": 21,
    "start_time": "2023-02-04T09:17:01.999Z"
   },
   {
    "duration": 18,
    "start_time": "2023-02-04T09:19:18.002Z"
   },
   {
    "duration": 10,
    "start_time": "2023-02-04T09:20:02.886Z"
   },
   {
    "duration": 16,
    "start_time": "2023-02-04T09:20:13.422Z"
   },
   {
    "duration": 22,
    "start_time": "2023-02-04T09:32:57.020Z"
   },
   {
    "duration": 17,
    "start_time": "2023-02-04T09:33:57.643Z"
   },
   {
    "duration": 16,
    "start_time": "2023-02-04T09:34:15.720Z"
   },
   {
    "duration": 413,
    "start_time": "2023-02-04T09:34:22.152Z"
   },
   {
    "duration": 14,
    "start_time": "2023-02-04T09:34:30.835Z"
   },
   {
    "duration": 22,
    "start_time": "2023-02-04T09:34:55.402Z"
   },
   {
    "duration": 164,
    "start_time": "2023-02-04T09:35:16.731Z"
   },
   {
    "duration": 26,
    "start_time": "2023-02-04T09:37:40.234Z"
   },
   {
    "duration": 21,
    "start_time": "2023-02-04T09:38:00.277Z"
   },
   {
    "duration": 3728,
    "start_time": "2023-02-04T09:41:54.722Z"
   },
   {
    "duration": 140,
    "start_time": "2023-02-04T09:42:17.002Z"
   },
   {
    "duration": 3881,
    "start_time": "2023-02-04T09:42:36.158Z"
   },
   {
    "duration": 10,
    "start_time": "2023-02-04T09:43:49.786Z"
   },
   {
    "duration": 13,
    "start_time": "2023-02-04T09:43:57.429Z"
   },
   {
    "duration": 3863,
    "start_time": "2023-02-04T09:47:44.860Z"
   },
   {
    "duration": 434,
    "start_time": "2023-02-04T09:49:00.282Z"
   },
   {
    "duration": 39,
    "start_time": "2023-02-04T09:50:55.597Z"
   },
   {
    "duration": 22,
    "start_time": "2023-02-04T09:51:34.920Z"
   },
   {
    "duration": 14,
    "start_time": "2023-02-04T09:51:46.700Z"
   },
   {
    "duration": 21,
    "start_time": "2023-02-04T09:52:22.195Z"
   },
   {
    "duration": 20,
    "start_time": "2023-02-04T09:52:34.765Z"
   },
   {
    "duration": 13,
    "start_time": "2023-02-04T09:52:49.757Z"
   },
   {
    "duration": 6653,
    "start_time": "2023-02-04T09:52:51.587Z"
   },
   {
    "duration": 6418,
    "start_time": "2023-02-04T09:54:52.333Z"
   },
   {
    "duration": 6895,
    "start_time": "2023-02-04T09:55:13.781Z"
   },
   {
    "duration": 6,
    "start_time": "2023-02-04T09:58:15.574Z"
   },
   {
    "duration": 24,
    "start_time": "2023-02-04T09:58:25.070Z"
   },
   {
    "duration": 35,
    "start_time": "2023-02-04T09:58:36.415Z"
   },
   {
    "duration": 7,
    "start_time": "2023-02-04T09:58:43.624Z"
   },
   {
    "duration": 14,
    "start_time": "2023-02-04T09:58:59.720Z"
   },
   {
    "duration": 1681,
    "start_time": "2023-02-04T09:59:01.870Z"
   },
   {
    "duration": 22,
    "start_time": "2023-02-04T10:00:54.256Z"
   },
   {
    "duration": 16,
    "start_time": "2023-02-04T10:01:12.017Z"
   },
   {
    "duration": 15,
    "start_time": "2023-02-04T10:01:19.730Z"
   },
   {
    "duration": 216,
    "start_time": "2023-02-04T10:02:05.059Z"
   },
   {
    "duration": 12,
    "start_time": "2023-02-04T10:02:53.378Z"
   },
   {
    "duration": 17,
    "start_time": "2023-02-04T10:03:09.339Z"
   },
   {
    "duration": 15,
    "start_time": "2023-02-04T10:03:18.743Z"
   },
   {
    "duration": 19,
    "start_time": "2023-02-04T10:04:31.957Z"
   },
   {
    "duration": 21,
    "start_time": "2023-02-04T10:04:54.222Z"
   },
   {
    "duration": 22,
    "start_time": "2023-02-04T10:05:02.058Z"
   },
   {
    "duration": 22,
    "start_time": "2023-02-04T10:05:06.157Z"
   },
   {
    "duration": 14,
    "start_time": "2023-02-04T10:10:29.067Z"
   },
   {
    "duration": 22,
    "start_time": "2023-02-04T10:10:35.365Z"
   },
   {
    "duration": 24,
    "start_time": "2023-02-04T10:11:30.385Z"
   },
   {
    "duration": 16,
    "start_time": "2023-02-04T10:11:54.686Z"
   },
   {
    "duration": 17,
    "start_time": "2023-02-04T10:13:41.593Z"
   },
   {
    "duration": 17,
    "start_time": "2023-02-04T10:19:15.895Z"
   },
   {
    "duration": 15,
    "start_time": "2023-02-04T10:19:20.414Z"
   },
   {
    "duration": 16,
    "start_time": "2023-02-04T10:19:39.219Z"
   },
   {
    "duration": 16,
    "start_time": "2023-02-04T10:19:46.792Z"
   },
   {
    "duration": 16,
    "start_time": "2023-02-04T10:20:14.281Z"
   },
   {
    "duration": 15,
    "start_time": "2023-02-04T10:20:18.862Z"
   },
   {
    "duration": 15,
    "start_time": "2023-02-04T10:20:22.869Z"
   },
   {
    "duration": 15,
    "start_time": "2023-02-04T10:20:26.758Z"
   },
   {
    "duration": 13,
    "start_time": "2023-02-04T10:20:34.456Z"
   },
   {
    "duration": 15,
    "start_time": "2023-02-04T10:20:41.958Z"
   },
   {
    "duration": 15,
    "start_time": "2023-02-04T10:26:09.357Z"
   },
   {
    "duration": 16,
    "start_time": "2023-02-04T10:26:23.904Z"
   },
   {
    "duration": 14,
    "start_time": "2023-02-04T10:26:27.365Z"
   },
   {
    "duration": 15,
    "start_time": "2023-02-04T10:28:25.235Z"
   },
   {
    "duration": 13,
    "start_time": "2023-02-04T10:29:59.441Z"
   },
   {
    "duration": 12,
    "start_time": "2023-02-04T10:30:51.469Z"
   },
   {
    "duration": 31,
    "start_time": "2023-02-04T10:31:07.839Z"
   },
   {
    "duration": 12,
    "start_time": "2023-02-04T10:34:11.412Z"
   },
   {
    "duration": 47,
    "start_time": "2023-02-04T10:34:33.098Z"
   },
   {
    "duration": 47,
    "start_time": "2023-02-04T10:35:28.994Z"
   },
   {
    "duration": 10,
    "start_time": "2023-02-04T10:36:49.873Z"
   },
   {
    "duration": 14,
    "start_time": "2023-02-04T10:36:57.734Z"
   },
   {
    "duration": 34,
    "start_time": "2023-02-04T10:38:59.422Z"
   },
   {
    "duration": 25,
    "start_time": "2023-02-04T10:39:31.346Z"
   },
   {
    "duration": 15,
    "start_time": "2023-02-04T10:39:34.075Z"
   },
   {
    "duration": 19,
    "start_time": "2023-02-04T10:39:40.165Z"
   },
   {
    "duration": 15,
    "start_time": "2023-02-04T10:39:48.017Z"
   },
   {
    "duration": 409,
    "start_time": "2023-02-04T10:40:06.954Z"
   },
   {
    "duration": 412,
    "start_time": "2023-02-04T10:53:34.720Z"
   },
   {
    "duration": 24,
    "start_time": "2023-02-04T10:53:44.515Z"
   },
   {
    "duration": 466,
    "start_time": "2023-02-04T10:53:48.151Z"
   },
   {
    "duration": 404,
    "start_time": "2023-02-04T10:56:08.219Z"
   },
   {
    "duration": 450,
    "start_time": "2023-02-04T10:56:50.180Z"
   },
   {
    "duration": 24,
    "start_time": "2023-02-04T11:06:30.786Z"
   },
   {
    "duration": 11,
    "start_time": "2023-02-04T11:07:05.674Z"
   },
   {
    "duration": 13,
    "start_time": "2023-02-04T11:07:16.918Z"
   },
   {
    "duration": 17,
    "start_time": "2023-02-04T11:07:34.366Z"
   },
   {
    "duration": 14,
    "start_time": "2023-02-04T11:07:42.912Z"
   },
   {
    "duration": 21,
    "start_time": "2023-02-04T11:07:57.585Z"
   },
   {
    "duration": 21,
    "start_time": "2023-02-04T11:08:07.297Z"
   },
   {
    "duration": 19,
    "start_time": "2023-02-04T11:08:38.205Z"
   },
   {
    "duration": 20,
    "start_time": "2023-02-04T11:09:18.541Z"
   },
   {
    "duration": 14,
    "start_time": "2023-02-04T11:09:23.502Z"
   },
   {
    "duration": 17,
    "start_time": "2023-02-04T11:09:56.317Z"
   },
   {
    "duration": 14,
    "start_time": "2023-02-04T11:10:05.496Z"
   },
   {
    "duration": 24,
    "start_time": "2023-02-04T11:11:53.244Z"
   },
   {
    "duration": 24,
    "start_time": "2023-02-04T11:11:56.543Z"
   },
   {
    "duration": 437,
    "start_time": "2023-02-04T11:11:59.527Z"
   },
   {
    "duration": 35,
    "start_time": "2023-02-04T11:12:16.535Z"
   },
   {
    "duration": 17,
    "start_time": "2023-02-04T11:12:18.849Z"
   },
   {
    "duration": 375,
    "start_time": "2023-02-04T11:12:21.694Z"
   },
   {
    "duration": 16,
    "start_time": "2023-02-04T11:12:24.488Z"
   },
   {
    "duration": 25,
    "start_time": "2023-02-04T11:15:08.556Z"
   },
   {
    "duration": 19,
    "start_time": "2023-02-04T11:15:15.191Z"
   },
   {
    "duration": 786,
    "start_time": "2023-02-04T11:16:10.377Z"
   },
   {
    "duration": 117,
    "start_time": "2023-02-04T11:23:08.479Z"
   },
   {
    "duration": 9,
    "start_time": "2023-02-04T11:33:41.539Z"
   },
   {
    "duration": 11,
    "start_time": "2023-02-04T11:33:47.221Z"
   },
   {
    "duration": 19,
    "start_time": "2023-02-04T11:33:52.299Z"
   },
   {
    "duration": 135,
    "start_time": "2023-02-04T11:34:09.312Z"
   },
   {
    "duration": 213,
    "start_time": "2023-02-04T11:39:21.815Z"
   },
   {
    "duration": 2196,
    "start_time": "2023-02-04T11:40:51.938Z"
   },
   {
    "duration": 218,
    "start_time": "2023-02-04T11:41:09.858Z"
   },
   {
    "duration": 231,
    "start_time": "2023-02-04T11:42:24.592Z"
   },
   {
    "duration": 273,
    "start_time": "2023-02-04T11:42:35.434Z"
   },
   {
    "duration": 1351,
    "start_time": "2023-02-05T09:57:11.498Z"
   },
   {
    "duration": 105,
    "start_time": "2023-02-05T09:57:12.850Z"
   },
   {
    "duration": 23,
    "start_time": "2023-02-05T09:57:12.957Z"
   },
   {
    "duration": 14,
    "start_time": "2023-02-05T09:57:12.983Z"
   },
   {
    "duration": 810,
    "start_time": "2023-02-05T09:57:12.998Z"
   },
   {
    "duration": 20,
    "start_time": "2023-02-05T09:57:13.810Z"
   },
   {
    "duration": 11,
    "start_time": "2023-02-05T09:57:13.831Z"
   },
   {
    "duration": 24,
    "start_time": "2023-02-05T09:57:13.844Z"
   },
   {
    "duration": 12,
    "start_time": "2023-02-05T09:57:13.869Z"
   },
   {
    "duration": 51,
    "start_time": "2023-02-05T09:57:13.885Z"
   },
   {
    "duration": 22,
    "start_time": "2023-02-05T09:57:13.938Z"
   },
   {
    "duration": 20,
    "start_time": "2023-02-05T09:57:13.962Z"
   },
   {
    "duration": 44,
    "start_time": "2023-02-05T09:57:13.984Z"
   },
   {
    "duration": 18,
    "start_time": "2023-02-05T09:57:14.030Z"
   },
   {
    "duration": 380,
    "start_time": "2023-02-05T09:57:14.049Z"
   },
   {
    "duration": 17,
    "start_time": "2023-02-05T09:57:14.431Z"
   },
   {
    "duration": 14,
    "start_time": "2023-02-05T09:57:14.449Z"
   },
   {
    "duration": 24,
    "start_time": "2023-02-05T09:57:14.464Z"
   },
   {
    "duration": 47,
    "start_time": "2023-02-05T09:57:14.490Z"
   },
   {
    "duration": 388,
    "start_time": "2023-02-05T09:57:14.538Z"
   },
   {
    "duration": 14,
    "start_time": "2023-02-05T09:57:14.927Z"
   },
   {
    "duration": 19,
    "start_time": "2023-02-05T09:57:14.942Z"
   },
   {
    "duration": 434,
    "start_time": "2023-02-05T09:57:14.962Z"
   },
   {
    "duration": 243,
    "start_time": "2023-02-05T09:57:15.398Z"
   },
   {
    "duration": 21,
    "start_time": "2023-02-05T09:57:17.946Z"
   },
   {
    "duration": 13,
    "start_time": "2023-02-05T09:59:21.195Z"
   },
   {
    "duration": 23,
    "start_time": "2023-02-05T10:00:56.951Z"
   },
   {
    "duration": 4,
    "start_time": "2023-02-05T10:05:03.658Z"
   },
   {
    "duration": 24,
    "start_time": "2023-02-05T10:05:10.139Z"
   },
   {
    "duration": 9,
    "start_time": "2023-02-05T10:06:41.804Z"
   },
   {
    "duration": 517,
    "start_time": "2023-02-05T10:22:01.125Z"
   },
   {
    "duration": 405,
    "start_time": "2023-02-05T10:24:11.876Z"
   },
   {
    "duration": 1125,
    "start_time": "2023-02-05T10:24:52.484Z"
   },
   {
    "duration": 60,
    "start_time": "2023-02-05T10:24:53.611Z"
   },
   {
    "duration": 19,
    "start_time": "2023-02-05T10:24:53.672Z"
   },
   {
    "duration": 13,
    "start_time": "2023-02-05T10:24:53.693Z"
   },
   {
    "duration": 798,
    "start_time": "2023-02-05T10:24:53.708Z"
   },
   {
    "duration": 7,
    "start_time": "2023-02-05T10:24:54.508Z"
   },
   {
    "duration": 27,
    "start_time": "2023-02-05T10:24:54.516Z"
   },
   {
    "duration": 25,
    "start_time": "2023-02-05T10:24:54.545Z"
   },
   {
    "duration": 12,
    "start_time": "2023-02-05T10:24:54.572Z"
   },
   {
    "duration": 43,
    "start_time": "2023-02-05T10:24:54.588Z"
   },
   {
    "duration": 24,
    "start_time": "2023-02-05T10:24:54.632Z"
   },
   {
    "duration": 22,
    "start_time": "2023-02-05T10:24:54.658Z"
   },
   {
    "duration": 20,
    "start_time": "2023-02-05T10:24:54.681Z"
   },
   {
    "duration": 17,
    "start_time": "2023-02-05T10:24:54.727Z"
   },
   {
    "duration": 355,
    "start_time": "2023-02-05T10:24:54.745Z"
   },
   {
    "duration": 15,
    "start_time": "2023-02-05T10:24:55.101Z"
   },
   {
    "duration": 13,
    "start_time": "2023-02-05T10:24:55.126Z"
   },
   {
    "duration": 24,
    "start_time": "2023-02-05T10:24:55.140Z"
   },
   {
    "duration": 18,
    "start_time": "2023-02-05T10:24:55.166Z"
   },
   {
    "duration": 413,
    "start_time": "2023-02-05T10:24:55.186Z"
   },
   {
    "duration": 15,
    "start_time": "2023-02-05T10:24:55.601Z"
   },
   {
    "duration": 28,
    "start_time": "2023-02-05T10:24:55.627Z"
   },
   {
    "duration": 393,
    "start_time": "2023-02-05T10:24:55.657Z"
   },
   {
    "duration": 237,
    "start_time": "2023-02-05T10:24:56.052Z"
   },
   {
    "duration": 455,
    "start_time": "2023-02-05T10:24:56.291Z"
   },
   {
    "duration": 104,
    "start_time": "2023-02-05T10:29:30.959Z"
   },
   {
    "duration": 1231,
    "start_time": "2023-02-05T10:29:43.794Z"
   },
   {
    "duration": 426,
    "start_time": "2023-02-05T10:31:14.230Z"
   },
   {
    "duration": 430,
    "start_time": "2023-02-05T10:31:36.853Z"
   },
   {
    "duration": 412,
    "start_time": "2023-02-05T10:33:14.747Z"
   },
   {
    "duration": 505,
    "start_time": "2023-02-05T10:33:27.790Z"
   },
   {
    "duration": 430,
    "start_time": "2023-02-05T10:33:35.239Z"
   },
   {
    "duration": 426,
    "start_time": "2023-02-05T10:35:22.597Z"
   },
   {
    "duration": 421,
    "start_time": "2023-02-05T10:36:13.823Z"
   },
   {
    "duration": 410,
    "start_time": "2023-02-05T10:38:45.636Z"
   },
   {
    "duration": 444,
    "start_time": "2023-02-05T10:41:24.944Z"
   },
   {
    "duration": 468,
    "start_time": "2023-02-05T10:41:35.344Z"
   },
   {
    "duration": 383,
    "start_time": "2023-02-05T10:41:48.581Z"
   },
   {
    "duration": 382,
    "start_time": "2023-02-05T10:41:58.532Z"
   },
   {
    "duration": 457,
    "start_time": "2023-02-05T10:42:03.698Z"
   },
   {
    "duration": 238,
    "start_time": "2023-02-05T10:47:23.612Z"
   },
   {
    "duration": 232,
    "start_time": "2023-02-05T10:48:23.748Z"
   },
   {
    "duration": 234,
    "start_time": "2023-02-05T10:54:35.167Z"
   },
   {
    "duration": 10,
    "start_time": "2023-02-05T10:55:53.059Z"
   },
   {
    "duration": 235,
    "start_time": "2023-02-05T10:56:01.813Z"
   },
   {
    "duration": 242,
    "start_time": "2023-02-05T10:56:06.554Z"
   },
   {
    "duration": 359,
    "start_time": "2023-02-05T10:56:13.161Z"
   },
   {
    "duration": 234,
    "start_time": "2023-02-05T10:56:40.760Z"
   },
   {
    "duration": 247,
    "start_time": "2023-02-05T10:56:47.850Z"
   },
   {
    "duration": 249,
    "start_time": "2023-02-05T10:57:30.830Z"
   },
   {
    "duration": 225,
    "start_time": "2023-02-05T10:57:38.691Z"
   },
   {
    "duration": 243,
    "start_time": "2023-02-05T10:57:42.715Z"
   },
   {
    "duration": 248,
    "start_time": "2023-02-05T10:57:50.852Z"
   },
   {
    "duration": 241,
    "start_time": "2023-02-05T10:58:48.370Z"
   },
   {
    "duration": 17,
    "start_time": "2023-02-05T11:12:42.620Z"
   },
   {
    "duration": 14,
    "start_time": "2023-02-05T11:13:21.857Z"
   },
   {
    "duration": 16,
    "start_time": "2023-02-05T11:13:35.620Z"
   },
   {
    "duration": 26,
    "start_time": "2023-02-05T11:14:16.492Z"
   },
   {
    "duration": 14,
    "start_time": "2023-02-05T11:14:54.311Z"
   },
   {
    "duration": 14,
    "start_time": "2023-02-05T11:14:56.522Z"
   },
   {
    "duration": 17,
    "start_time": "2023-02-05T11:14:58.891Z"
   },
   {
    "duration": 14,
    "start_time": "2023-02-05T11:15:31.614Z"
   },
   {
    "duration": 14,
    "start_time": "2023-02-05T11:15:33.868Z"
   },
   {
    "duration": 15,
    "start_time": "2023-02-05T11:15:35.909Z"
   },
   {
    "duration": 14,
    "start_time": "2023-02-05T11:15:49.081Z"
   },
   {
    "duration": 13,
    "start_time": "2023-02-05T11:15:55.706Z"
   },
   {
    "duration": 14,
    "start_time": "2023-02-05T11:16:04.406Z"
   },
   {
    "duration": 19,
    "start_time": "2023-02-05T11:21:35.719Z"
   },
   {
    "duration": 17,
    "start_time": "2023-02-05T11:21:47.848Z"
   },
   {
    "duration": 16,
    "start_time": "2023-02-05T11:21:51.515Z"
   },
   {
    "duration": 17,
    "start_time": "2023-02-05T11:22:14.306Z"
   },
   {
    "duration": 18,
    "start_time": "2023-02-05T11:22:35.005Z"
   },
   {
    "duration": 172,
    "start_time": "2023-02-05T11:24:57.696Z"
   },
   {
    "duration": 260,
    "start_time": "2023-02-05T11:25:30.391Z"
   },
   {
    "duration": 186,
    "start_time": "2023-02-05T11:26:01.779Z"
   },
   {
    "duration": 276,
    "start_time": "2023-02-05T11:26:06.509Z"
   },
   {
    "duration": 180,
    "start_time": "2023-02-05T11:26:58.393Z"
   },
   {
    "duration": 190,
    "start_time": "2023-02-05T11:27:28.988Z"
   },
   {
    "duration": 196,
    "start_time": "2023-02-05T11:30:55.391Z"
   },
   {
    "duration": 209,
    "start_time": "2023-02-05T11:31:23.721Z"
   },
   {
    "duration": 211,
    "start_time": "2023-02-05T11:31:26.548Z"
   },
   {
    "duration": 213,
    "start_time": "2023-02-05T11:31:29.644Z"
   },
   {
    "duration": 216,
    "start_time": "2023-02-05T11:37:42.374Z"
   },
   {
    "duration": 210,
    "start_time": "2023-02-05T11:41:05.906Z"
   },
   {
    "duration": 207,
    "start_time": "2023-02-05T11:41:14.203Z"
   },
   {
    "duration": 214,
    "start_time": "2023-02-05T11:41:24.604Z"
   },
   {
    "duration": 245,
    "start_time": "2023-02-05T11:41:26.275Z"
   },
   {
    "duration": 213,
    "start_time": "2023-02-05T11:41:51.314Z"
   },
   {
    "duration": 293,
    "start_time": "2023-02-05T11:41:53.603Z"
   },
   {
    "duration": 215,
    "start_time": "2023-02-05T11:41:56.811Z"
   },
   {
    "duration": 174,
    "start_time": "2023-02-05T11:56:41.756Z"
   },
   {
    "duration": 162,
    "start_time": "2023-02-05T11:57:06.137Z"
   },
   {
    "duration": 168,
    "start_time": "2023-02-05T12:01:21.979Z"
   },
   {
    "duration": 187,
    "start_time": "2023-02-05T12:01:23.970Z"
   },
   {
    "duration": 174,
    "start_time": "2023-02-05T12:02:32.270Z"
   },
   {
    "duration": 197,
    "start_time": "2023-02-05T12:02:36.984Z"
   },
   {
    "duration": 183,
    "start_time": "2023-02-05T12:02:44.180Z"
   },
   {
    "duration": 310,
    "start_time": "2023-02-05T12:14:44.758Z"
   },
   {
    "duration": 3,
    "start_time": "2023-02-05T12:39:15.147Z"
   },
   {
    "duration": 41,
    "start_time": "2023-02-05T12:41:06.999Z"
   },
   {
    "duration": 7,
    "start_time": "2023-02-05T12:42:15.861Z"
   },
   {
    "duration": 7,
    "start_time": "2023-02-05T12:43:17.032Z"
   },
   {
    "duration": 7,
    "start_time": "2023-02-05T12:46:34.351Z"
   },
   {
    "duration": 8,
    "start_time": "2023-02-05T12:46:38.037Z"
   },
   {
    "duration": 11,
    "start_time": "2023-02-05T12:46:44.781Z"
   },
   {
    "duration": 8,
    "start_time": "2023-02-05T12:46:58.944Z"
   },
   {
    "duration": 8,
    "start_time": "2023-02-05T12:57:35.624Z"
   },
   {
    "duration": 66,
    "start_time": "2023-02-05T20:02:43.769Z"
   },
   {
    "duration": 1409,
    "start_time": "2023-02-05T20:02:52.134Z"
   },
   {
    "duration": 208,
    "start_time": "2023-02-05T20:02:53.545Z"
   },
   {
    "duration": 19,
    "start_time": "2023-02-05T20:02:53.755Z"
   },
   {
    "duration": 29,
    "start_time": "2023-02-05T20:02:53.777Z"
   },
   {
    "duration": 800,
    "start_time": "2023-02-05T20:02:53.808Z"
   },
   {
    "duration": 8,
    "start_time": "2023-02-05T20:02:54.609Z"
   },
   {
    "duration": 32,
    "start_time": "2023-02-05T20:02:54.619Z"
   },
   {
    "duration": 32,
    "start_time": "2023-02-05T20:02:54.653Z"
   },
   {
    "duration": 12,
    "start_time": "2023-02-05T20:02:54.687Z"
   },
   {
    "duration": 45,
    "start_time": "2023-02-05T20:02:54.701Z"
   },
   {
    "duration": 20,
    "start_time": "2023-02-05T20:02:54.748Z"
   },
   {
    "duration": 20,
    "start_time": "2023-02-05T20:02:54.770Z"
   },
   {
    "duration": 16,
    "start_time": "2023-02-05T20:02:54.792Z"
   },
   {
    "duration": 40,
    "start_time": "2023-02-05T20:02:54.809Z"
   },
   {
    "duration": 358,
    "start_time": "2023-02-05T20:02:54.851Z"
   },
   {
    "duration": 16,
    "start_time": "2023-02-05T20:02:55.211Z"
   },
   {
    "duration": 14,
    "start_time": "2023-02-05T20:02:55.237Z"
   },
   {
    "duration": 25,
    "start_time": "2023-02-05T20:02:55.252Z"
   },
   {
    "duration": 19,
    "start_time": "2023-02-05T20:02:55.279Z"
   },
   {
    "duration": 493,
    "start_time": "2023-02-05T20:02:55.300Z"
   },
   {
    "duration": 15,
    "start_time": "2023-02-05T20:02:55.795Z"
   },
   {
    "duration": 35,
    "start_time": "2023-02-05T20:02:55.812Z"
   },
   {
    "duration": 334,
    "start_time": "2023-02-05T20:02:55.849Z"
   },
   {
    "duration": 236,
    "start_time": "2023-02-05T20:02:56.185Z"
   },
   {
    "duration": 442,
    "start_time": "2023-02-05T20:02:56.423Z"
   },
   {
    "duration": 250,
    "start_time": "2023-02-05T20:02:56.867Z"
   },
   {
    "duration": 201,
    "start_time": "2023-02-05T20:02:57.119Z"
   },
   {
    "duration": 219,
    "start_time": "2023-02-05T20:02:57.322Z"
   },
   {
    "duration": 217,
    "start_time": "2023-02-05T20:02:57.543Z"
   },
   {
    "duration": 217,
    "start_time": "2023-02-05T20:02:57.762Z"
   },
   {
    "duration": 320,
    "start_time": "2023-02-05T20:02:57.982Z"
   },
   {
    "duration": 214,
    "start_time": "2023-02-05T20:02:58.304Z"
   },
   {
    "duration": 184,
    "start_time": "2023-02-05T20:02:58.519Z"
   },
   {
    "duration": 209,
    "start_time": "2023-02-05T20:02:58.705Z"
   },
   {
    "duration": 192,
    "start_time": "2023-02-05T20:02:58.916Z"
   },
   {
    "duration": 8,
    "start_time": "2023-02-05T20:02:59.110Z"
   },
   {
    "duration": 27,
    "start_time": "2023-02-05T20:02:59.120Z"
   },
   {
    "duration": 8,
    "start_time": "2023-02-05T20:03:40.000Z"
   },
   {
    "duration": 10,
    "start_time": "2023-02-05T20:03:45.893Z"
   },
   {
    "duration": 48,
    "start_time": "2023-02-06T07:23:26.220Z"
   },
   {
    "duration": 1459,
    "start_time": "2023-02-06T07:23:36.330Z"
   },
   {
    "duration": 115,
    "start_time": "2023-02-06T07:23:37.791Z"
   },
   {
    "duration": 28,
    "start_time": "2023-02-06T07:23:37.908Z"
   },
   {
    "duration": 21,
    "start_time": "2023-02-06T07:23:37.938Z"
   },
   {
    "duration": 1172,
    "start_time": "2023-02-06T07:23:37.961Z"
   },
   {
    "duration": 9,
    "start_time": "2023-02-06T07:23:39.134Z"
   },
   {
    "duration": 13,
    "start_time": "2023-02-06T07:23:39.145Z"
   },
   {
    "duration": 28,
    "start_time": "2023-02-06T07:23:39.159Z"
   },
   {
    "duration": 41,
    "start_time": "2023-02-06T07:23:39.189Z"
   },
   {
    "duration": 36,
    "start_time": "2023-02-06T07:23:39.233Z"
   },
   {
    "duration": 20,
    "start_time": "2023-02-06T07:23:39.271Z"
   },
   {
    "duration": 39,
    "start_time": "2023-02-06T07:23:39.293Z"
   },
   {
    "duration": 24,
    "start_time": "2023-02-06T07:23:39.334Z"
   },
   {
    "duration": 24,
    "start_time": "2023-02-06T07:23:39.360Z"
   },
   {
    "duration": 542,
    "start_time": "2023-02-06T07:23:39.387Z"
   },
   {
    "duration": 19,
    "start_time": "2023-02-06T07:23:39.930Z"
   },
   {
    "duration": 20,
    "start_time": "2023-02-06T07:23:39.951Z"
   },
   {
    "duration": 64,
    "start_time": "2023-02-06T07:23:39.974Z"
   },
   {
    "duration": 27,
    "start_time": "2023-02-06T07:23:40.040Z"
   },
   {
    "duration": 553,
    "start_time": "2023-02-06T07:23:40.072Z"
   },
   {
    "duration": 20,
    "start_time": "2023-02-06T07:23:40.627Z"
   },
   {
    "duration": 55,
    "start_time": "2023-02-06T07:23:40.649Z"
   },
   {
    "duration": 463,
    "start_time": "2023-02-06T07:23:40.706Z"
   },
   {
    "duration": 282,
    "start_time": "2023-02-06T07:23:41.171Z"
   },
   {
    "duration": 516,
    "start_time": "2023-02-06T07:23:41.456Z"
   },
   {
    "duration": 256,
    "start_time": "2023-02-06T07:23:41.975Z"
   },
   {
    "duration": 217,
    "start_time": "2023-02-06T07:23:42.232Z"
   },
   {
    "duration": 234,
    "start_time": "2023-02-06T07:23:42.452Z"
   },
   {
    "duration": 246,
    "start_time": "2023-02-06T07:23:42.687Z"
   },
   {
    "duration": 277,
    "start_time": "2023-02-06T07:23:42.935Z"
   },
   {
    "duration": 226,
    "start_time": "2023-02-06T07:23:43.213Z"
   },
   {
    "duration": 318,
    "start_time": "2023-02-06T07:23:43.442Z"
   },
   {
    "duration": 187,
    "start_time": "2023-02-06T07:23:43.762Z"
   },
   {
    "duration": 203,
    "start_time": "2023-02-06T07:23:43.951Z"
   },
   {
    "duration": 186,
    "start_time": "2023-02-06T07:23:44.156Z"
   },
   {
    "duration": 8,
    "start_time": "2023-02-06T07:23:44.344Z"
   },
   {
    "duration": 9,
    "start_time": "2023-02-06T07:23:44.354Z"
   },
   {
    "duration": 543,
    "start_time": "2023-02-06T08:00:11.337Z"
   },
   {
    "duration": 502,
    "start_time": "2023-02-06T08:00:30.654Z"
   },
   {
    "duration": 467,
    "start_time": "2023-02-06T08:00:40.619Z"
   },
   {
    "duration": 1198,
    "start_time": "2023-02-06T08:00:51.173Z"
   },
   {
    "duration": 64,
    "start_time": "2023-02-06T08:00:52.373Z"
   },
   {
    "duration": 22,
    "start_time": "2023-02-06T08:00:52.446Z"
   },
   {
    "duration": 16,
    "start_time": "2023-02-06T08:00:52.470Z"
   },
   {
    "duration": 969,
    "start_time": "2023-02-06T08:00:52.488Z"
   },
   {
    "duration": 8,
    "start_time": "2023-02-06T08:00:53.459Z"
   },
   {
    "duration": 17,
    "start_time": "2023-02-06T08:00:53.469Z"
   },
   {
    "duration": 43,
    "start_time": "2023-02-06T08:00:53.488Z"
   },
   {
    "duration": 24,
    "start_time": "2023-02-06T08:00:53.533Z"
   },
   {
    "duration": 30,
    "start_time": "2023-02-06T08:00:53.561Z"
   },
   {
    "duration": 50,
    "start_time": "2023-02-06T08:00:53.593Z"
   },
   {
    "duration": 29,
    "start_time": "2023-02-06T08:00:53.644Z"
   },
   {
    "duration": 22,
    "start_time": "2023-02-06T08:00:53.675Z"
   },
   {
    "duration": 18,
    "start_time": "2023-02-06T08:00:53.699Z"
   },
   {
    "duration": 415,
    "start_time": "2023-02-06T08:00:53.719Z"
   },
   {
    "duration": 17,
    "start_time": "2023-02-06T08:00:54.143Z"
   },
   {
    "duration": 15,
    "start_time": "2023-02-06T08:00:54.162Z"
   },
   {
    "duration": 27,
    "start_time": "2023-02-06T08:00:54.178Z"
   },
   {
    "duration": 38,
    "start_time": "2023-02-06T08:00:54.206Z"
   },
   {
    "duration": 423,
    "start_time": "2023-02-06T08:00:54.246Z"
   },
   {
    "duration": 22,
    "start_time": "2023-02-06T08:00:54.671Z"
   },
   {
    "duration": 44,
    "start_time": "2023-02-06T08:00:54.696Z"
   },
   {
    "duration": 432,
    "start_time": "2023-02-06T08:00:54.742Z"
   },
   {
    "duration": 268,
    "start_time": "2023-02-06T08:00:55.176Z"
   },
   {
    "duration": 456,
    "start_time": "2023-02-06T08:00:55.446Z"
   },
   {
    "duration": 270,
    "start_time": "2023-02-06T08:00:55.904Z"
   },
   {
    "duration": 238,
    "start_time": "2023-02-06T08:00:56.176Z"
   },
   {
    "duration": 243,
    "start_time": "2023-02-06T08:00:56.419Z"
   },
   {
    "duration": 227,
    "start_time": "2023-02-06T08:00:56.664Z"
   },
   {
    "duration": 240,
    "start_time": "2023-02-06T08:00:56.893Z"
   },
   {
    "duration": 238,
    "start_time": "2023-02-06T08:00:57.135Z"
   },
   {
    "duration": 398,
    "start_time": "2023-02-06T08:00:57.375Z"
   },
   {
    "duration": 193,
    "start_time": "2023-02-06T08:00:57.775Z"
   },
   {
    "duration": 220,
    "start_time": "2023-02-06T08:00:57.970Z"
   },
   {
    "duration": 200,
    "start_time": "2023-02-06T08:00:58.192Z"
   },
   {
    "duration": 8,
    "start_time": "2023-02-06T08:00:58.394Z"
   },
   {
    "duration": 12,
    "start_time": "2023-02-06T08:00:58.403Z"
   },
   {
    "duration": 468,
    "start_time": "2023-02-06T08:01:22.574Z"
   },
   {
    "duration": 1226,
    "start_time": "2023-02-06T16:57:12.011Z"
   },
   {
    "duration": 206,
    "start_time": "2023-02-06T16:57:13.239Z"
   },
   {
    "duration": 23,
    "start_time": "2023-02-06T16:57:13.447Z"
   },
   {
    "duration": 44,
    "start_time": "2023-02-06T16:57:13.472Z"
   },
   {
    "duration": 785,
    "start_time": "2023-02-06T16:57:13.518Z"
   },
   {
    "duration": 7,
    "start_time": "2023-02-06T16:57:14.305Z"
   },
   {
    "duration": 25,
    "start_time": "2023-02-06T16:57:14.313Z"
   },
   {
    "duration": 25,
    "start_time": "2023-02-06T16:57:14.339Z"
   },
   {
    "duration": 11,
    "start_time": "2023-02-06T16:57:14.366Z"
   },
   {
    "duration": 23,
    "start_time": "2023-02-06T16:57:14.379Z"
   },
   {
    "duration": 49,
    "start_time": "2023-02-06T16:57:14.404Z"
   },
   {
    "duration": 25,
    "start_time": "2023-02-06T16:57:14.455Z"
   },
   {
    "duration": 19,
    "start_time": "2023-02-06T16:57:14.482Z"
   },
   {
    "duration": 44,
    "start_time": "2023-02-06T16:57:14.505Z"
   },
   {
    "duration": 376,
    "start_time": "2023-02-06T16:57:14.551Z"
   },
   {
    "duration": 20,
    "start_time": "2023-02-06T16:57:14.929Z"
   },
   {
    "duration": 14,
    "start_time": "2023-02-06T16:57:14.951Z"
   },
   {
    "duration": 50,
    "start_time": "2023-02-06T16:57:14.967Z"
   },
   {
    "duration": 76,
    "start_time": "2023-02-06T16:57:15.019Z"
   },
   {
    "duration": 429,
    "start_time": "2023-02-06T16:57:15.097Z"
   },
   {
    "duration": 20,
    "start_time": "2023-02-06T16:57:15.528Z"
   },
   {
    "duration": 64,
    "start_time": "2023-02-06T16:57:15.550Z"
   },
   {
    "duration": 462,
    "start_time": "2023-02-06T16:57:15.616Z"
   },
   {
    "duration": 252,
    "start_time": "2023-02-06T16:57:16.080Z"
   },
   {
    "duration": 444,
    "start_time": "2023-02-06T16:57:16.336Z"
   },
   {
    "duration": 270,
    "start_time": "2023-02-06T16:57:16.782Z"
   },
   {
    "duration": 229,
    "start_time": "2023-02-06T16:57:17.054Z"
   },
   {
    "duration": 232,
    "start_time": "2023-02-06T16:57:17.285Z"
   },
   {
    "duration": 260,
    "start_time": "2023-02-06T16:57:17.519Z"
   },
   {
    "duration": 240,
    "start_time": "2023-02-06T16:57:17.781Z"
   },
   {
    "duration": 255,
    "start_time": "2023-02-06T16:57:18.023Z"
   },
   {
    "duration": 394,
    "start_time": "2023-02-06T16:57:18.280Z"
   },
   {
    "duration": 186,
    "start_time": "2023-02-06T16:57:18.676Z"
   },
   {
    "duration": 202,
    "start_time": "2023-02-06T16:57:18.864Z"
   },
   {
    "duration": 189,
    "start_time": "2023-02-06T16:57:19.067Z"
   },
   {
    "duration": 8,
    "start_time": "2023-02-06T16:57:19.258Z"
   },
   {
    "duration": 12,
    "start_time": "2023-02-06T16:57:19.267Z"
   },
   {
    "duration": 1202,
    "start_time": "2023-02-06T16:58:32.619Z"
   },
   {
    "duration": 64,
    "start_time": "2023-02-06T16:58:33.823Z"
   },
   {
    "duration": 20,
    "start_time": "2023-02-06T16:58:33.889Z"
   },
   {
    "duration": 20,
    "start_time": "2023-02-06T16:58:33.911Z"
   },
   {
    "duration": 873,
    "start_time": "2023-02-06T16:58:33.937Z"
   },
   {
    "duration": 7,
    "start_time": "2023-02-06T16:58:34.812Z"
   },
   {
    "duration": 23,
    "start_time": "2023-02-06T16:58:34.821Z"
   },
   {
    "duration": 28,
    "start_time": "2023-02-06T16:58:34.845Z"
   },
   {
    "duration": 13,
    "start_time": "2023-02-06T16:58:34.875Z"
   },
   {
    "duration": 48,
    "start_time": "2023-02-06T16:58:34.890Z"
   },
   {
    "duration": 25,
    "start_time": "2023-02-06T16:58:34.939Z"
   },
   {
    "duration": 34,
    "start_time": "2023-02-06T16:58:34.966Z"
   },
   {
    "duration": 44,
    "start_time": "2023-02-06T16:58:35.002Z"
   },
   {
    "duration": 19,
    "start_time": "2023-02-06T16:58:35.049Z"
   },
   {
    "duration": 494,
    "start_time": "2023-02-06T16:58:35.070Z"
   },
   {
    "duration": 21,
    "start_time": "2023-02-06T16:58:35.566Z"
   },
   {
    "duration": 17,
    "start_time": "2023-02-06T16:58:35.590Z"
   },
   {
    "duration": 52,
    "start_time": "2023-02-06T16:58:35.609Z"
   },
   {
    "duration": 21,
    "start_time": "2023-02-06T16:58:35.663Z"
   },
   {
    "duration": 412,
    "start_time": "2023-02-06T16:58:35.687Z"
   },
   {
    "duration": 16,
    "start_time": "2023-02-06T16:58:36.101Z"
   },
   {
    "duration": 32,
    "start_time": "2023-02-06T16:58:36.119Z"
   },
   {
    "duration": 448,
    "start_time": "2023-02-06T16:58:36.153Z"
   },
   {
    "duration": 296,
    "start_time": "2023-02-06T16:58:36.603Z"
   },
   {
    "duration": 487,
    "start_time": "2023-02-06T16:58:36.901Z"
   },
   {
    "duration": 268,
    "start_time": "2023-02-06T16:58:37.389Z"
   },
   {
    "duration": 223,
    "start_time": "2023-02-06T16:58:37.659Z"
   },
   {
    "duration": 219,
    "start_time": "2023-02-06T16:58:37.884Z"
   },
   {
    "duration": 255,
    "start_time": "2023-02-06T16:58:38.105Z"
   },
   {
    "duration": 259,
    "start_time": "2023-02-06T16:58:38.362Z"
   },
   {
    "duration": 237,
    "start_time": "2023-02-06T16:58:38.623Z"
   },
   {
    "duration": 320,
    "start_time": "2023-02-06T16:58:38.862Z"
   },
   {
    "duration": 212,
    "start_time": "2023-02-06T16:58:39.184Z"
   },
   {
    "duration": 222,
    "start_time": "2023-02-06T16:58:39.397Z"
   },
   {
    "duration": 195,
    "start_time": "2023-02-06T16:58:39.621Z"
   },
   {
    "duration": 7,
    "start_time": "2023-02-06T16:58:39.818Z"
   },
   {
    "duration": 8,
    "start_time": "2023-02-06T16:58:39.836Z"
   },
   {
    "duration": 1391,
    "start_time": "2023-02-07T10:50:50.935Z"
   },
   {
    "duration": 109,
    "start_time": "2023-02-07T10:50:52.329Z"
   },
   {
    "duration": 21,
    "start_time": "2023-02-07T10:50:52.441Z"
   },
   {
    "duration": 14,
    "start_time": "2023-02-07T10:50:58.929Z"
   },
   {
    "duration": 1154,
    "start_time": "2023-02-07T10:51:16.048Z"
   },
   {
    "duration": 60,
    "start_time": "2023-02-07T10:51:17.204Z"
   },
   {
    "duration": 27,
    "start_time": "2023-02-07T10:51:17.266Z"
   },
   {
    "duration": 12,
    "start_time": "2023-02-07T10:51:18.772Z"
   },
   {
    "duration": 14,
    "start_time": "2023-02-07T10:51:22.452Z"
   },
   {
    "duration": 8,
    "start_time": "2023-02-07T11:03:28.782Z"
   },
   {
    "duration": 5,
    "start_time": "2023-02-07T11:03:59.655Z"
   },
   {
    "duration": 4,
    "start_time": "2023-02-07T11:04:11.792Z"
   },
   {
    "duration": 24,
    "start_time": "2023-02-07T11:05:51.321Z"
   },
   {
    "duration": 19,
    "start_time": "2023-02-07T11:06:15.852Z"
   },
   {
    "duration": 9,
    "start_time": "2023-02-07T11:07:28.207Z"
   },
   {
    "duration": 10,
    "start_time": "2023-02-07T11:08:47.487Z"
   },
   {
    "duration": 12,
    "start_time": "2023-02-07T11:09:13.412Z"
   },
   {
    "duration": 19,
    "start_time": "2023-02-07T11:10:10.173Z"
   },
   {
    "duration": 17,
    "start_time": "2023-02-07T11:10:41.625Z"
   },
   {
    "duration": 25,
    "start_time": "2023-02-07T11:13:14.050Z"
   },
   {
    "duration": 6,
    "start_time": "2023-02-07T11:30:28.527Z"
   },
   {
    "duration": 1140,
    "start_time": "2023-02-07T11:30:56.970Z"
   },
   {
    "duration": 64,
    "start_time": "2023-02-07T11:30:58.112Z"
   },
   {
    "duration": 22,
    "start_time": "2023-02-07T11:30:58.178Z"
   },
   {
    "duration": 19,
    "start_time": "2023-02-07T11:30:58.202Z"
   },
   {
    "duration": 740,
    "start_time": "2023-02-07T11:30:58.223Z"
   },
   {
    "duration": 6,
    "start_time": "2023-02-07T11:30:58.965Z"
   },
   {
    "duration": 21,
    "start_time": "2023-02-07T11:30:58.973Z"
   },
   {
    "duration": 21,
    "start_time": "2023-02-07T11:30:58.996Z"
   },
   {
    "duration": 10,
    "start_time": "2023-02-07T11:30:59.019Z"
   },
   {
    "duration": 19,
    "start_time": "2023-02-07T11:30:59.031Z"
   },
   {
    "duration": 44,
    "start_time": "2023-02-07T11:30:59.051Z"
   },
   {
    "duration": 21,
    "start_time": "2023-02-07T11:30:59.096Z"
   },
   {
    "duration": 18,
    "start_time": "2023-02-07T11:30:59.118Z"
   },
   {
    "duration": 20,
    "start_time": "2023-02-07T11:30:59.138Z"
   },
   {
    "duration": 9,
    "start_time": "2023-02-07T11:31:02.546Z"
   },
   {
    "duration": 18,
    "start_time": "2023-02-07T11:31:07.172Z"
   },
   {
    "duration": 1206,
    "start_time": "2023-02-07T11:32:10.191Z"
   },
   {
    "duration": 59,
    "start_time": "2023-02-07T11:32:11.399Z"
   },
   {
    "duration": 19,
    "start_time": "2023-02-07T11:32:11.459Z"
   },
   {
    "duration": 17,
    "start_time": "2023-02-07T11:32:11.480Z"
   },
   {
    "duration": 738,
    "start_time": "2023-02-07T11:32:11.498Z"
   },
   {
    "duration": 7,
    "start_time": "2023-02-07T11:32:12.237Z"
   },
   {
    "duration": 14,
    "start_time": "2023-02-07T11:32:12.245Z"
   },
   {
    "duration": 41,
    "start_time": "2023-02-07T11:32:12.261Z"
   },
   {
    "duration": 11,
    "start_time": "2023-02-07T11:32:12.303Z"
   },
   {
    "duration": 26,
    "start_time": "2023-02-07T11:32:12.316Z"
   },
   {
    "duration": 25,
    "start_time": "2023-02-07T11:32:12.344Z"
   },
   {
    "duration": 39,
    "start_time": "2023-02-07T11:32:12.371Z"
   },
   {
    "duration": 27,
    "start_time": "2023-02-07T11:32:12.412Z"
   },
   {
    "duration": 24,
    "start_time": "2023-02-07T11:32:12.440Z"
   },
   {
    "duration": 7,
    "start_time": "2023-02-07T11:32:12.466Z"
   },
   {
    "duration": 35,
    "start_time": "2023-02-07T11:32:12.474Z"
   },
   {
    "duration": 16,
    "start_time": "2023-02-07T11:32:12.511Z"
   },
   {
    "duration": 347,
    "start_time": "2023-02-07T11:32:12.529Z"
   },
   {
    "duration": 20,
    "start_time": "2023-02-07T11:32:12.878Z"
   },
   {
    "duration": 12,
    "start_time": "2023-02-07T11:32:12.900Z"
   },
   {
    "duration": 24,
    "start_time": "2023-02-07T11:32:12.913Z"
   },
   {
    "duration": 20,
    "start_time": "2023-02-07T11:32:12.939Z"
   },
   {
    "duration": 370,
    "start_time": "2023-02-07T11:32:12.961Z"
   },
   {
    "duration": 14,
    "start_time": "2023-02-07T11:32:13.332Z"
   },
   {
    "duration": 25,
    "start_time": "2023-02-07T11:32:13.347Z"
   },
   {
    "duration": 444,
    "start_time": "2023-02-07T11:32:13.374Z"
   },
   {
    "duration": 277,
    "start_time": "2023-02-07T11:32:13.819Z"
   },
   {
    "duration": 462,
    "start_time": "2023-02-07T11:32:14.099Z"
   },
   {
    "duration": 252,
    "start_time": "2023-02-07T11:32:14.564Z"
   },
   {
    "duration": 200,
    "start_time": "2023-02-07T11:32:14.817Z"
   },
   {
    "duration": 210,
    "start_time": "2023-02-07T11:32:15.019Z"
   },
   {
    "duration": 212,
    "start_time": "2023-02-07T11:32:15.231Z"
   },
   {
    "duration": 211,
    "start_time": "2023-02-07T11:32:15.444Z"
   },
   {
    "duration": 220,
    "start_time": "2023-02-07T11:32:15.658Z"
   },
   {
    "duration": 297,
    "start_time": "2023-02-07T11:32:15.880Z"
   },
   {
    "duration": 198,
    "start_time": "2023-02-07T11:32:16.178Z"
   },
   {
    "duration": 197,
    "start_time": "2023-02-07T11:32:16.378Z"
   },
   {
    "duration": 179,
    "start_time": "2023-02-07T11:32:16.576Z"
   },
   {
    "duration": 8,
    "start_time": "2023-02-07T11:32:16.757Z"
   },
   {
    "duration": 14,
    "start_time": "2023-02-07T11:32:16.766Z"
   },
   {
    "duration": 6,
    "start_time": "2023-02-07T11:36:37.583Z"
   },
   {
    "duration": 8,
    "start_time": "2023-02-07T11:36:42.389Z"
   },
   {
    "duration": 13,
    "start_time": "2023-02-07T11:36:47.714Z"
   },
   {
    "duration": 8,
    "start_time": "2023-02-07T11:37:05.339Z"
   },
   {
    "duration": 12,
    "start_time": "2023-02-07T11:38:28.199Z"
   },
   {
    "duration": 7,
    "start_time": "2023-02-07T11:38:33.965Z"
   },
   {
    "duration": 12,
    "start_time": "2023-02-07T11:38:37.884Z"
   },
   {
    "duration": 15,
    "start_time": "2023-02-07T11:38:43.282Z"
   },
   {
    "duration": 5,
    "start_time": "2023-02-07T11:41:31.361Z"
   },
   {
    "duration": 25,
    "start_time": "2023-02-07T11:46:05.818Z"
   },
   {
    "duration": 365,
    "start_time": "2023-02-07T11:46:47.356Z"
   },
   {
    "duration": 25,
    "start_time": "2023-02-07T11:47:01.391Z"
   },
   {
    "duration": 395,
    "start_time": "2023-02-07T12:14:04.701Z"
   },
   {
    "duration": 379,
    "start_time": "2023-02-07T12:15:28.678Z"
   },
   {
    "duration": 422,
    "start_time": "2023-02-07T12:16:56.917Z"
   },
   {
    "duration": 526,
    "start_time": "2023-02-07T12:17:03.481Z"
   },
   {
    "duration": 291,
    "start_time": "2023-02-07T12:17:15.100Z"
   },
   {
    "duration": 313,
    "start_time": "2023-02-07T12:17:25.559Z"
   },
   {
    "duration": 302,
    "start_time": "2023-02-07T12:17:44.280Z"
   },
   {
    "duration": 285,
    "start_time": "2023-02-07T12:17:50.704Z"
   },
   {
    "duration": 340,
    "start_time": "2023-02-07T12:17:55.857Z"
   },
   {
    "duration": 458,
    "start_time": "2023-02-07T12:18:35.130Z"
   },
   {
    "duration": 251,
    "start_time": "2023-02-07T12:20:39.112Z"
   },
   {
    "duration": 275,
    "start_time": "2023-02-07T12:20:52.146Z"
   },
   {
    "duration": 238,
    "start_time": "2023-02-07T12:21:14.556Z"
   },
   {
    "duration": 266,
    "start_time": "2023-02-07T12:21:17.582Z"
   },
   {
    "duration": 449,
    "start_time": "2023-02-07T12:32:34.137Z"
   },
   {
    "duration": 168,
    "start_time": "2023-02-07T12:40:15.519Z"
   },
   {
    "duration": 404,
    "start_time": "2023-02-07T12:40:20.860Z"
   },
   {
    "duration": 426,
    "start_time": "2023-02-07T12:41:34.027Z"
   },
   {
    "duration": 547,
    "start_time": "2023-02-07T12:43:21.478Z"
   },
   {
    "duration": 431,
    "start_time": "2023-02-07T12:43:53.661Z"
   },
   {
    "duration": 270,
    "start_time": "2023-02-07T12:47:35.077Z"
   },
   {
    "duration": 6,
    "start_time": "2023-02-07T13:06:36.063Z"
   },
   {
    "duration": 17,
    "start_time": "2023-02-07T13:06:38.298Z"
   },
   {
    "duration": 1080,
    "start_time": "2023-02-07T13:06:48.904Z"
   },
   {
    "duration": 60,
    "start_time": "2023-02-07T13:06:49.986Z"
   },
   {
    "duration": 18,
    "start_time": "2023-02-07T13:06:50.048Z"
   },
   {
    "duration": 12,
    "start_time": "2023-02-07T13:06:50.068Z"
   },
   {
    "duration": 709,
    "start_time": "2023-02-07T13:06:50.081Z"
   },
   {
    "duration": 7,
    "start_time": "2023-02-07T13:06:50.791Z"
   },
   {
    "duration": 16,
    "start_time": "2023-02-07T13:06:50.799Z"
   },
   {
    "duration": 23,
    "start_time": "2023-02-07T13:06:50.816Z"
   },
   {
    "duration": 10,
    "start_time": "2023-02-07T13:06:50.840Z"
   },
   {
    "duration": 46,
    "start_time": "2023-02-07T13:06:50.853Z"
   },
   {
    "duration": 22,
    "start_time": "2023-02-07T13:06:50.900Z"
   },
   {
    "duration": 20,
    "start_time": "2023-02-07T13:06:50.923Z"
   },
   {
    "duration": 4,
    "start_time": "2023-02-07T13:06:50.944Z"
   },
   {
    "duration": 18,
    "start_time": "2023-02-07T13:06:50.950Z"
   },
   {
    "duration": 24,
    "start_time": "2023-02-07T13:06:50.994Z"
   },
   {
    "duration": 6,
    "start_time": "2023-02-07T13:06:51.021Z"
   },
   {
    "duration": 20,
    "start_time": "2023-02-07T13:06:51.029Z"
   },
   {
    "duration": 7,
    "start_time": "2023-02-07T13:06:51.051Z"
   },
   {
    "duration": 43,
    "start_time": "2023-02-07T13:06:51.059Z"
   },
   {
    "duration": 4,
    "start_time": "2023-02-07T13:06:51.103Z"
   },
   {
    "duration": 18,
    "start_time": "2023-02-07T13:06:51.109Z"
   },
   {
    "duration": 355,
    "start_time": "2023-02-07T13:06:51.129Z"
   },
   {
    "duration": 21,
    "start_time": "2023-02-07T13:06:51.486Z"
   },
   {
    "duration": 13,
    "start_time": "2023-02-07T13:06:51.509Z"
   },
   {
    "duration": 25,
    "start_time": "2023-02-07T13:06:51.524Z"
   },
   {
    "duration": 44,
    "start_time": "2023-02-07T13:06:51.551Z"
   },
   {
    "duration": 322,
    "start_time": "2023-02-07T13:06:51.597Z"
   },
   {
    "duration": 14,
    "start_time": "2023-02-07T13:06:51.922Z"
   },
   {
    "duration": 23,
    "start_time": "2023-02-07T13:06:51.938Z"
   },
   {
    "duration": 436,
    "start_time": "2023-02-07T13:06:51.963Z"
   },
   {
    "duration": 268,
    "start_time": "2023-02-07T13:06:52.401Z"
   },
   {
    "duration": 262,
    "start_time": "2023-02-07T13:06:52.671Z"
   },
   {
    "duration": 408,
    "start_time": "2023-02-07T13:06:52.934Z"
   },
   {
    "duration": 343,
    "start_time": "2023-02-07T13:06:53.344Z"
   },
   {
    "duration": 402,
    "start_time": "2023-02-07T13:06:53.693Z"
   },
   {
    "duration": 475,
    "start_time": "2023-02-07T13:06:54.097Z"
   },
   {
    "duration": 264,
    "start_time": "2023-02-07T13:06:54.574Z"
   },
   {
    "duration": 251,
    "start_time": "2023-02-07T13:06:54.840Z"
   },
   {
    "duration": 213,
    "start_time": "2023-02-07T13:06:55.094Z"
   },
   {
    "duration": 203,
    "start_time": "2023-02-07T13:06:55.309Z"
   },
   {
    "duration": 212,
    "start_time": "2023-02-07T13:06:55.514Z"
   },
   {
    "duration": 219,
    "start_time": "2023-02-07T13:06:55.727Z"
   },
   {
    "duration": 212,
    "start_time": "2023-02-07T13:06:55.947Z"
   },
   {
    "duration": 192,
    "start_time": "2023-02-07T13:06:56.161Z"
   },
   {
    "duration": 200,
    "start_time": "2023-02-07T13:06:56.354Z"
   },
   {
    "duration": 202,
    "start_time": "2023-02-07T13:06:56.555Z"
   },
   {
    "duration": 11,
    "start_time": "2023-02-07T13:06:56.759Z"
   },
   {
    "duration": 23,
    "start_time": "2023-02-07T13:06:56.772Z"
   },
   {
    "duration": 413,
    "start_time": "2023-02-07T13:09:05.318Z"
   },
   {
    "duration": 1205,
    "start_time": "2023-02-07T13:18:39.649Z"
   },
   {
    "duration": 68,
    "start_time": "2023-02-07T13:18:40.856Z"
   },
   {
    "duration": 18,
    "start_time": "2023-02-07T13:18:40.926Z"
   },
   {
    "duration": 14,
    "start_time": "2023-02-07T13:18:40.946Z"
   },
   {
    "duration": 767,
    "start_time": "2023-02-07T13:18:40.962Z"
   },
   {
    "duration": 7,
    "start_time": "2023-02-07T13:18:41.731Z"
   },
   {
    "duration": 18,
    "start_time": "2023-02-07T13:18:41.740Z"
   },
   {
    "duration": 45,
    "start_time": "2023-02-07T13:18:41.761Z"
   },
   {
    "duration": 11,
    "start_time": "2023-02-07T13:18:41.808Z"
   },
   {
    "duration": 21,
    "start_time": "2023-02-07T13:18:41.822Z"
   },
   {
    "duration": 48,
    "start_time": "2023-02-07T13:18:41.845Z"
   },
   {
    "duration": 21,
    "start_time": "2023-02-07T13:18:41.895Z"
   },
   {
    "duration": 5,
    "start_time": "2023-02-07T13:18:41.918Z"
   },
   {
    "duration": 19,
    "start_time": "2023-02-07T13:18:41.925Z"
   },
   {
    "duration": 50,
    "start_time": "2023-02-07T13:18:41.945Z"
   },
   {
    "duration": 7,
    "start_time": "2023-02-07T13:18:41.997Z"
   },
   {
    "duration": 21,
    "start_time": "2023-02-07T13:18:42.006Z"
   },
   {
    "duration": 9,
    "start_time": "2023-02-07T13:18:42.029Z"
   },
   {
    "duration": 13,
    "start_time": "2023-02-07T13:18:42.040Z"
   },
   {
    "duration": 37,
    "start_time": "2023-02-07T13:18:42.056Z"
   },
   {
    "duration": 15,
    "start_time": "2023-02-07T13:18:42.095Z"
   },
   {
    "duration": 367,
    "start_time": "2023-02-07T13:18:42.112Z"
   },
   {
    "duration": 22,
    "start_time": "2023-02-07T13:18:42.480Z"
   },
   {
    "duration": 12,
    "start_time": "2023-02-07T13:18:42.503Z"
   },
   {
    "duration": 25,
    "start_time": "2023-02-07T13:18:42.517Z"
   },
   {
    "duration": 19,
    "start_time": "2023-02-07T13:18:42.544Z"
   },
   {
    "duration": 342,
    "start_time": "2023-02-07T13:18:42.565Z"
   },
   {
    "duration": 14,
    "start_time": "2023-02-07T13:18:42.911Z"
   },
   {
    "duration": 36,
    "start_time": "2023-02-07T13:18:42.927Z"
   },
   {
    "duration": 422,
    "start_time": "2023-02-07T13:18:42.965Z"
   },
   {
    "duration": 304,
    "start_time": "2023-02-07T13:18:43.394Z"
   },
   {
    "duration": 276,
    "start_time": "2023-02-07T13:18:43.700Z"
   },
   {
    "duration": 544,
    "start_time": "2023-02-07T13:18:43.978Z"
   },
   {
    "duration": 373,
    "start_time": "2023-02-07T13:18:44.524Z"
   },
   {
    "duration": 426,
    "start_time": "2023-02-07T13:18:44.899Z"
   },
   {
    "duration": 482,
    "start_time": "2023-02-07T13:18:45.326Z"
   },
   {
    "duration": 249,
    "start_time": "2023-02-07T13:18:45.810Z"
   },
   {
    "duration": 218,
    "start_time": "2023-02-07T13:18:46.060Z"
   },
   {
    "duration": 226,
    "start_time": "2023-02-07T13:18:46.280Z"
   },
   {
    "duration": 222,
    "start_time": "2023-02-07T13:18:46.508Z"
   },
   {
    "duration": 212,
    "start_time": "2023-02-07T13:18:46.732Z"
   },
   {
    "duration": 212,
    "start_time": "2023-02-07T13:18:46.945Z"
   },
   {
    "duration": 217,
    "start_time": "2023-02-07T13:18:47.158Z"
   },
   {
    "duration": 180,
    "start_time": "2023-02-07T13:18:47.377Z"
   },
   {
    "duration": 210,
    "start_time": "2023-02-07T13:18:47.558Z"
   },
   {
    "duration": 197,
    "start_time": "2023-02-07T13:18:47.769Z"
   },
   {
    "duration": 8,
    "start_time": "2023-02-07T13:18:47.967Z"
   },
   {
    "duration": 21,
    "start_time": "2023-02-07T13:18:47.977Z"
   },
   {
    "duration": 54,
    "start_time": "2023-02-07T15:55:13.523Z"
   },
   {
    "duration": 48,
    "start_time": "2023-02-07T15:55:37.738Z"
   },
   {
    "duration": 1368,
    "start_time": "2023-02-07T15:55:45.805Z"
   },
   {
    "duration": 199,
    "start_time": "2023-02-07T15:55:47.175Z"
   },
   {
    "duration": 20,
    "start_time": "2023-02-07T15:55:47.376Z"
   },
   {
    "duration": 15,
    "start_time": "2023-02-07T15:55:47.399Z"
   },
   {
    "duration": 832,
    "start_time": "2023-02-07T15:55:47.416Z"
   },
   {
    "duration": 7,
    "start_time": "2023-02-07T15:55:48.250Z"
   },
   {
    "duration": 26,
    "start_time": "2023-02-07T15:55:48.259Z"
   },
   {
    "duration": 28,
    "start_time": "2023-02-07T15:55:48.287Z"
   },
   {
    "duration": 24,
    "start_time": "2023-02-07T15:55:48.316Z"
   },
   {
    "duration": 23,
    "start_time": "2023-02-07T15:55:48.342Z"
   },
   {
    "duration": 23,
    "start_time": "2023-02-07T15:55:48.367Z"
   },
   {
    "duration": 50,
    "start_time": "2023-02-07T15:55:48.392Z"
   },
   {
    "duration": 4,
    "start_time": "2023-02-07T15:55:48.444Z"
   },
   {
    "duration": 24,
    "start_time": "2023-02-07T15:55:48.450Z"
   },
   {
    "duration": 26,
    "start_time": "2023-02-07T15:55:48.476Z"
   },
   {
    "duration": 8,
    "start_time": "2023-02-07T15:55:48.504Z"
   },
   {
    "duration": 44,
    "start_time": "2023-02-07T15:55:48.514Z"
   },
   {
    "duration": 8,
    "start_time": "2023-02-07T15:55:48.559Z"
   },
   {
    "duration": 24,
    "start_time": "2023-02-07T15:55:48.568Z"
   },
   {
    "duration": 6,
    "start_time": "2023-02-07T15:55:48.594Z"
   },
   {
    "duration": 37,
    "start_time": "2023-02-07T15:55:48.602Z"
   },
   {
    "duration": 388,
    "start_time": "2023-02-07T15:55:48.641Z"
   },
   {
    "duration": 18,
    "start_time": "2023-02-07T15:55:49.037Z"
   },
   {
    "duration": 15,
    "start_time": "2023-02-07T15:55:49.057Z"
   },
   {
    "duration": 20,
    "start_time": "2023-02-07T15:55:58.980Z"
   },
   {
    "duration": 20,
    "start_time": "2023-02-07T15:56:12.198Z"
   },
   {
    "duration": 21,
    "start_time": "2023-02-07T15:56:16.219Z"
   },
   {
    "duration": 15,
    "start_time": "2023-02-07T15:56:44.978Z"
   },
   {
    "duration": 118,
    "start_time": "2023-02-07T15:57:50.021Z"
   },
   {
    "duration": 15,
    "start_time": "2023-02-07T15:58:02.494Z"
   },
   {
    "duration": 11,
    "start_time": "2023-02-07T15:58:25.548Z"
   },
   {
    "duration": 17,
    "start_time": "2023-02-07T15:58:37.017Z"
   },
   {
    "duration": 37,
    "start_time": "2023-02-07T15:59:27.334Z"
   },
   {
    "duration": 49,
    "start_time": "2023-02-07T15:59:32.405Z"
   },
   {
    "duration": 94,
    "start_time": "2023-02-07T16:00:24.394Z"
   },
   {
    "duration": 47,
    "start_time": "2023-02-07T16:00:59.794Z"
   },
   {
    "duration": 17,
    "start_time": "2023-02-07T16:02:59.090Z"
   },
   {
    "duration": 16,
    "start_time": "2023-02-07T16:03:15.368Z"
   },
   {
    "duration": 7,
    "start_time": "2023-02-07T16:03:28.698Z"
   },
   {
    "duration": 22,
    "start_time": "2023-02-07T16:03:42.506Z"
   },
   {
    "duration": 30,
    "start_time": "2023-02-07T16:03:45.746Z"
   },
   {
    "duration": 32,
    "start_time": "2023-02-07T16:04:07.650Z"
   },
   {
    "duration": 17,
    "start_time": "2023-02-07T16:04:16.810Z"
   },
   {
    "duration": 1100,
    "start_time": "2023-02-07T16:06:58.992Z"
   },
   {
    "duration": 67,
    "start_time": "2023-02-07T16:07:00.095Z"
   },
   {
    "duration": 20,
    "start_time": "2023-02-07T16:07:00.164Z"
   },
   {
    "duration": 16,
    "start_time": "2023-02-07T16:07:00.186Z"
   },
   {
    "duration": 839,
    "start_time": "2023-02-07T16:07:00.203Z"
   },
   {
    "duration": 7,
    "start_time": "2023-02-07T16:07:01.044Z"
   },
   {
    "duration": 42,
    "start_time": "2023-02-07T16:07:01.052Z"
   },
   {
    "duration": 59,
    "start_time": "2023-02-07T16:07:01.095Z"
   },
   {
    "duration": 22,
    "start_time": "2023-02-07T16:07:01.156Z"
   },
   {
    "duration": 28,
    "start_time": "2023-02-07T16:07:01.181Z"
   },
   {
    "duration": 28,
    "start_time": "2023-02-07T16:07:01.211Z"
   },
   {
    "duration": 26,
    "start_time": "2023-02-07T16:07:01.240Z"
   },
   {
    "duration": 5,
    "start_time": "2023-02-07T16:07:01.267Z"
   },
   {
    "duration": 49,
    "start_time": "2023-02-07T16:07:01.273Z"
   },
   {
    "duration": 45,
    "start_time": "2023-02-07T16:07:01.324Z"
   },
   {
    "duration": 12,
    "start_time": "2023-02-07T16:07:01.371Z"
   },
   {
    "duration": 45,
    "start_time": "2023-02-07T16:07:01.385Z"
   },
   {
    "duration": 23,
    "start_time": "2023-02-07T16:07:01.432Z"
   },
   {
    "duration": 44,
    "start_time": "2023-02-07T16:07:01.457Z"
   },
   {
    "duration": 22,
    "start_time": "2023-02-07T16:07:01.503Z"
   },
   {
    "duration": 30,
    "start_time": "2023-02-07T16:07:01.526Z"
   },
   {
    "duration": 392,
    "start_time": "2023-02-07T16:07:01.558Z"
   },
   {
    "duration": 17,
    "start_time": "2023-02-07T16:07:01.952Z"
   },
   {
    "duration": 14,
    "start_time": "2023-02-07T16:07:01.971Z"
   },
   {
    "duration": 52,
    "start_time": "2023-02-07T16:07:01.987Z"
   },
   {
    "duration": 30,
    "start_time": "2023-02-07T16:07:02.041Z"
   },
   {
    "duration": 339,
    "start_time": "2023-02-07T16:07:02.073Z"
   },
   {
    "duration": 23,
    "start_time": "2023-02-07T16:07:02.416Z"
   },
   {
    "duration": 22,
    "start_time": "2023-02-07T16:07:02.441Z"
   },
   {
    "duration": 435,
    "start_time": "2023-02-07T16:07:02.464Z"
   },
   {
    "duration": 301,
    "start_time": "2023-02-07T16:07:02.901Z"
   },
   {
    "duration": 361,
    "start_time": "2023-02-07T16:07:03.203Z"
   },
   {
    "duration": 462,
    "start_time": "2023-02-07T16:07:03.566Z"
   },
   {
    "duration": 417,
    "start_time": "2023-02-07T16:07:04.030Z"
   },
   {
    "duration": 453,
    "start_time": "2023-02-07T16:07:04.448Z"
   },
   {
    "duration": 517,
    "start_time": "2023-02-07T16:07:04.902Z"
   },
   {
    "duration": 282,
    "start_time": "2023-02-07T16:07:05.422Z"
   },
   {
    "duration": 224,
    "start_time": "2023-02-07T16:07:05.705Z"
   },
   {
    "duration": 225,
    "start_time": "2023-02-07T16:07:05.937Z"
   },
   {
    "duration": 236,
    "start_time": "2023-02-07T16:07:06.163Z"
   },
   {
    "duration": 239,
    "start_time": "2023-02-07T16:07:06.400Z"
   },
   {
    "duration": 244,
    "start_time": "2023-02-07T16:07:06.641Z"
   },
   {
    "duration": 251,
    "start_time": "2023-02-07T16:07:06.887Z"
   },
   {
    "duration": 223,
    "start_time": "2023-02-07T16:07:07.140Z"
   },
   {
    "duration": 235,
    "start_time": "2023-02-07T16:07:07.365Z"
   },
   {
    "duration": 213,
    "start_time": "2023-02-07T16:07:07.601Z"
   },
   {
    "duration": 9,
    "start_time": "2023-02-07T16:07:07.815Z"
   },
   {
    "duration": 8,
    "start_time": "2023-02-07T16:07:07.837Z"
   },
   {
    "duration": 1233,
    "start_time": "2023-02-07T16:19:11.635Z"
   },
   {
    "duration": 65,
    "start_time": "2023-02-07T16:19:12.870Z"
   },
   {
    "duration": 21,
    "start_time": "2023-02-07T16:19:12.936Z"
   },
   {
    "duration": 14,
    "start_time": "2023-02-07T16:19:12.959Z"
   },
   {
    "duration": 851,
    "start_time": "2023-02-07T16:19:12.975Z"
   },
   {
    "duration": 14,
    "start_time": "2023-02-07T16:19:13.828Z"
   },
   {
    "duration": 37,
    "start_time": "2023-02-07T16:19:13.844Z"
   },
   {
    "duration": 29,
    "start_time": "2023-02-07T16:19:13.882Z"
   },
   {
    "duration": 12,
    "start_time": "2023-02-07T16:19:13.912Z"
   },
   {
    "duration": 41,
    "start_time": "2023-02-07T16:19:13.927Z"
   },
   {
    "duration": 25,
    "start_time": "2023-02-07T16:19:13.970Z"
   },
   {
    "duration": 22,
    "start_time": "2023-02-07T16:19:13.997Z"
   },
   {
    "duration": 4,
    "start_time": "2023-02-07T16:19:14.021Z"
   },
   {
    "duration": 18,
    "start_time": "2023-02-07T16:19:14.038Z"
   },
   {
    "duration": 28,
    "start_time": "2023-02-07T16:19:14.057Z"
   },
   {
    "duration": 7,
    "start_time": "2023-02-07T16:19:14.087Z"
   },
   {
    "duration": 42,
    "start_time": "2023-02-07T16:19:14.096Z"
   },
   {
    "duration": 7,
    "start_time": "2023-02-07T16:19:14.140Z"
   },
   {
    "duration": 20,
    "start_time": "2023-02-07T16:19:14.148Z"
   },
   {
    "duration": 9,
    "start_time": "2023-02-07T16:19:14.170Z"
   },
   {
    "duration": 24,
    "start_time": "2023-02-07T16:19:14.180Z"
   },
   {
    "duration": 358,
    "start_time": "2023-02-07T16:19:14.206Z"
   },
   {
    "duration": 16,
    "start_time": "2023-02-07T16:19:14.566Z"
   },
   {
    "duration": 14,
    "start_time": "2023-02-07T16:19:14.583Z"
   },
   {
    "duration": 48,
    "start_time": "2023-02-07T16:19:14.598Z"
   },
   {
    "duration": 17,
    "start_time": "2023-02-07T16:19:14.648Z"
   },
   {
    "duration": 351,
    "start_time": "2023-02-07T16:19:14.666Z"
   },
   {
    "duration": 35,
    "start_time": "2023-02-07T16:19:15.020Z"
   },
   {
    "duration": 20,
    "start_time": "2023-02-07T16:19:15.057Z"
   },
   {
    "duration": 489,
    "start_time": "2023-02-07T16:19:15.079Z"
   },
   {
    "duration": 312,
    "start_time": "2023-02-07T16:19:15.570Z"
   },
   {
    "duration": 276,
    "start_time": "2023-02-07T16:19:15.884Z"
   },
   {
    "duration": 429,
    "start_time": "2023-02-07T16:19:16.162Z"
   },
   {
    "duration": 363,
    "start_time": "2023-02-07T16:19:16.593Z"
   },
   {
    "duration": 420,
    "start_time": "2023-02-07T16:19:16.958Z"
   },
   {
    "duration": 497,
    "start_time": "2023-02-07T16:19:17.380Z"
   },
   {
    "duration": 272,
    "start_time": "2023-02-07T16:19:17.879Z"
   },
   {
    "duration": 205,
    "start_time": "2023-02-07T16:19:18.153Z"
   },
   {
    "duration": 221,
    "start_time": "2023-02-07T16:19:18.359Z"
   },
   {
    "duration": 238,
    "start_time": "2023-02-07T16:19:18.582Z"
   },
   {
    "duration": 232,
    "start_time": "2023-02-07T16:19:18.822Z"
   },
   {
    "duration": 221,
    "start_time": "2023-02-07T16:19:19.056Z"
   },
   {
    "duration": 245,
    "start_time": "2023-02-07T16:19:19.279Z"
   },
   {
    "duration": 219,
    "start_time": "2023-02-07T16:19:19.526Z"
   },
   {
    "duration": 221,
    "start_time": "2023-02-07T16:19:19.747Z"
   },
   {
    "duration": 214,
    "start_time": "2023-02-07T16:19:19.970Z"
   },
   {
    "duration": 11,
    "start_time": "2023-02-07T16:19:20.185Z"
   },
   {
    "duration": 40,
    "start_time": "2023-02-07T16:19:20.198Z"
   },
   {
    "duration": 30,
    "start_time": "2023-02-07T16:22:36.764Z"
   },
   {
    "duration": 4,
    "start_time": "2023-02-07T16:22:45.082Z"
   },
   {
    "duration": 31,
    "start_time": "2023-02-07T16:23:08.708Z"
   },
   {
    "duration": 1185,
    "start_time": "2023-02-07T16:24:39.548Z"
   },
   {
    "duration": 63,
    "start_time": "2023-02-07T16:24:40.735Z"
   },
   {
    "duration": 19,
    "start_time": "2023-02-07T16:24:40.800Z"
   },
   {
    "duration": 14,
    "start_time": "2023-02-07T16:24:40.821Z"
   },
   {
    "duration": 767,
    "start_time": "2023-02-07T16:24:40.837Z"
   },
   {
    "duration": 7,
    "start_time": "2023-02-07T16:24:41.605Z"
   },
   {
    "duration": 27,
    "start_time": "2023-02-07T16:24:41.613Z"
   },
   {
    "duration": 24,
    "start_time": "2023-02-07T16:24:41.641Z"
   },
   {
    "duration": 11,
    "start_time": "2023-02-07T16:24:41.666Z"
   },
   {
    "duration": 21,
    "start_time": "2023-02-07T16:24:41.680Z"
   },
   {
    "duration": 50,
    "start_time": "2023-02-07T16:24:41.703Z"
   },
   {
    "duration": 22,
    "start_time": "2023-02-07T16:24:41.754Z"
   },
   {
    "duration": 14,
    "start_time": "2023-02-07T16:24:41.777Z"
   },
   {
    "duration": 20,
    "start_time": "2023-02-07T16:24:41.793Z"
   },
   {
    "duration": 39,
    "start_time": "2023-02-07T16:24:41.815Z"
   },
   {
    "duration": 7,
    "start_time": "2023-02-07T16:24:41.856Z"
   },
   {
    "duration": 22,
    "start_time": "2023-02-07T16:24:41.864Z"
   },
   {
    "duration": 9,
    "start_time": "2023-02-07T16:24:41.888Z"
   },
   {
    "duration": 40,
    "start_time": "2023-02-07T16:24:41.898Z"
   },
   {
    "duration": 5,
    "start_time": "2023-02-07T16:24:41.940Z"
   },
   {
    "duration": 22,
    "start_time": "2023-02-07T16:24:41.947Z"
   },
   {
    "duration": 382,
    "start_time": "2023-02-07T16:24:41.970Z"
   },
   {
    "duration": 16,
    "start_time": "2023-02-07T16:24:42.355Z"
   },
   {
    "duration": 13,
    "start_time": "2023-02-07T16:24:42.373Z"
   },
   {
    "duration": 54,
    "start_time": "2023-02-07T16:24:42.387Z"
   },
   {
    "duration": 21,
    "start_time": "2023-02-07T16:24:42.444Z"
   },
   {
    "duration": 364,
    "start_time": "2023-02-07T16:24:42.468Z"
   },
   {
    "duration": 14,
    "start_time": "2023-02-07T16:24:42.837Z"
   },
   {
    "duration": 27,
    "start_time": "2023-02-07T16:24:42.853Z"
   },
   {
    "duration": 433,
    "start_time": "2023-02-07T16:24:42.881Z"
   },
   {
    "duration": 303,
    "start_time": "2023-02-07T16:24:43.316Z"
   },
   {
    "duration": 284,
    "start_time": "2023-02-07T16:24:43.620Z"
   },
   {
    "duration": 478,
    "start_time": "2023-02-07T16:24:43.907Z"
   },
   {
    "duration": 393,
    "start_time": "2023-02-07T16:24:44.387Z"
   },
   {
    "duration": 437,
    "start_time": "2023-02-07T16:24:44.782Z"
   },
   {
    "duration": 537,
    "start_time": "2023-02-07T16:24:45.221Z"
   },
   {
    "duration": 269,
    "start_time": "2023-02-07T16:24:45.760Z"
   },
   {
    "duration": 222,
    "start_time": "2023-02-07T16:24:46.031Z"
   },
   {
    "duration": 225,
    "start_time": "2023-02-07T16:24:46.254Z"
   },
   {
    "duration": 231,
    "start_time": "2023-02-07T16:24:46.480Z"
   },
   {
    "duration": 228,
    "start_time": "2023-02-07T16:24:46.712Z"
   },
   {
    "duration": 228,
    "start_time": "2023-02-07T16:24:46.941Z"
   },
   {
    "duration": 231,
    "start_time": "2023-02-07T16:24:47.171Z"
   },
   {
    "duration": 188,
    "start_time": "2023-02-07T16:24:47.404Z"
   },
   {
    "duration": 210,
    "start_time": "2023-02-07T16:24:47.594Z"
   },
   {
    "duration": 193,
    "start_time": "2023-02-07T16:24:47.806Z"
   },
   {
    "duration": 7,
    "start_time": "2023-02-07T16:24:48.001Z"
   },
   {
    "duration": 9,
    "start_time": "2023-02-07T16:24:48.010Z"
   },
   {
    "duration": 45,
    "start_time": "2023-02-08T16:48:53.938Z"
   }
  ],
  "kernelspec": {
   "display_name": "Python 3 (ipykernel)",
   "language": "python",
   "name": "python3"
  },
  "language_info": {
   "codemirror_mode": {
    "name": "ipython",
    "version": 3
   },
   "file_extension": ".py",
   "mimetype": "text/x-python",
   "name": "python",
   "nbconvert_exporter": "python",
   "pygments_lexer": "ipython3",
   "version": "3.9.12"
  },
  "toc": {
   "base_numbering": 1,
   "nav_menu": {},
   "number_sections": true,
   "sideBar": true,
   "skip_h1_title": true,
   "title_cell": "Table of Contents",
   "title_sidebar": "Contents",
   "toc_cell": false,
   "toc_position": {
    "height": "calc(100% - 180px)",
    "left": "10px",
    "top": "150px",
    "width": "165px"
   },
   "toc_section_display": true,
   "toc_window_display": true
  }
 },
 "nbformat": 4,
 "nbformat_minor": 2
}
